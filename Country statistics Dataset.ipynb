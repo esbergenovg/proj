{
 "cells": [
  {
   "cell_type": "markdown",
   "id": "b4a9b8e4-de24-470f-94e8-acc13fffb98f",
   "metadata": {},
   "source": [
    "<h1>Country statistics<h1>"
   ]
  },
  {
   "cell_type": "code",
   "execution_count": 3,
   "id": "4c70c97a",
   "metadata": {},
   "outputs": [
    {
     "name": "stdout",
     "output_type": "stream",
     "text": [
      "Note: you may need to restart the kernel to use updated packages.\n"
     ]
    },
    {
     "name": "stderr",
     "output_type": "stream",
     "text": [
      "ERROR: Could not find a version that satisfies the requirement plotly.offline (from versions: none)\n",
      "\n",
      "[notice] A new release of pip is available: 25.0.1 -> 25.1.1\n",
      "[notice] To update, run: python.exe -m pip install --upgrade pip\n",
      "ERROR: No matching distribution found for plotly.offline\n"
     ]
    }
   ],
   "source": [
    "pip install plotly.offline"
   ]
  },
  {
   "cell_type": "code",
   "execution_count": null,
   "id": "2ae1822f-68f4-4546-adc1-9f19c844cacd",
   "metadata": {},
   "outputs": [
    {
     "data": {
      "text/html": [
       "        <script type=\"text/javascript\">\n",
       "        window.PlotlyConfig = {MathJaxConfig: 'local'};\n",
       "        if (window.MathJax && window.MathJax.Hub && window.MathJax.Hub.Config) {window.MathJax.Hub.Config({SVG: {font: \"STIX-Web\"}});}\n",
       "        </script>\n",
       "        <script type=\"module\">import \"https://cdn.plot.ly/plotly-3.0.1.min\"</script>\n",
       "        "
      ]
     },
     "metadata": {},
     "output_type": "display_data"
    },
    {
     "data": {
      "text/html": [
       "<div>\n",
       "<style scoped>\n",
       "    .dataframe tbody tr th:only-of-type {\n",
       "        vertical-align: middle;\n",
       "    }\n",
       "\n",
       "    .dataframe tbody tr th {\n",
       "        vertical-align: top;\n",
       "    }\n",
       "\n",
       "    .dataframe thead th {\n",
       "        text-align: right;\n",
       "    }\n",
       "</style>\n",
       "<table border=\"1\" class=\"dataframe\">\n",
       "  <thead>\n",
       "    <tr style=\"text-align: right;\">\n",
       "      <th></th>\n",
       "      <th>Country</th>\n",
       "      <th>AveragScore</th>\n",
       "      <th>SafetySecurity</th>\n",
       "      <th>PersonelFreedom</th>\n",
       "      <th>Governance</th>\n",
       "      <th>SocialCapital</th>\n",
       "      <th>InvestmentEnvironment</th>\n",
       "      <th>EnterpriseConditions</th>\n",
       "      <th>MarketAccessInfrastructure</th>\n",
       "      <th>EconomicQuality</th>\n",
       "      <th>LivingConditions</th>\n",
       "      <th>Health</th>\n",
       "      <th>Education</th>\n",
       "      <th>NaturalEnvironment</th>\n",
       "    </tr>\n",
       "  </thead>\n",
       "  <tbody>\n",
       "    <tr>\n",
       "      <th>0</th>\n",
       "      <td>Denmark</td>\n",
       "      <td>84.55</td>\n",
       "      <td>92.59</td>\n",
       "      <td>94.09</td>\n",
       "      <td>89.45</td>\n",
       "      <td>82.56</td>\n",
       "      <td>82.42</td>\n",
       "      <td>79.64</td>\n",
       "      <td>78.79</td>\n",
       "      <td>76.81</td>\n",
       "      <td>95.77</td>\n",
       "      <td>81.07</td>\n",
       "      <td>87.48</td>\n",
       "      <td>73.94</td>\n",
       "    </tr>\n",
       "    <tr>\n",
       "      <th>1</th>\n",
       "      <td>Sweden</td>\n",
       "      <td>83.67</td>\n",
       "      <td>90.97</td>\n",
       "      <td>91.90</td>\n",
       "      <td>86.41</td>\n",
       "      <td>78.29</td>\n",
       "      <td>82.81</td>\n",
       "      <td>75.54</td>\n",
       "      <td>79.67</td>\n",
       "      <td>76.18</td>\n",
       "      <td>95.33</td>\n",
       "      <td>82.28</td>\n",
       "      <td>85.92</td>\n",
       "      <td>78.74</td>\n",
       "    </tr>\n",
       "    <tr>\n",
       "      <th>2</th>\n",
       "      <td>Norway</td>\n",
       "      <td>83.59</td>\n",
       "      <td>93.30</td>\n",
       "      <td>94.10</td>\n",
       "      <td>89.66</td>\n",
       "      <td>79.03</td>\n",
       "      <td>82.24</td>\n",
       "      <td>75.95</td>\n",
       "      <td>75.87</td>\n",
       "      <td>77.25</td>\n",
       "      <td>94.70</td>\n",
       "      <td>82.98</td>\n",
       "      <td>85.68</td>\n",
       "      <td>72.37</td>\n",
       "    </tr>\n",
       "    <tr>\n",
       "      <th>3</th>\n",
       "      <td>Finland</td>\n",
       "      <td>83.47</td>\n",
       "      <td>89.56</td>\n",
       "      <td>91.96</td>\n",
       "      <td>90.41</td>\n",
       "      <td>77.27</td>\n",
       "      <td>84.12</td>\n",
       "      <td>77.25</td>\n",
       "      <td>78.77</td>\n",
       "      <td>70.28</td>\n",
       "      <td>94.46</td>\n",
       "      <td>81.19</td>\n",
       "      <td>88.38</td>\n",
       "      <td>77.99</td>\n",
       "    </tr>\n",
       "    <tr>\n",
       "      <th>4</th>\n",
       "      <td>Switzerland</td>\n",
       "      <td>83.42</td>\n",
       "      <td>95.66</td>\n",
       "      <td>87.50</td>\n",
       "      <td>87.67</td>\n",
       "      <td>69.14</td>\n",
       "      <td>80.81</td>\n",
       "      <td>83.84</td>\n",
       "      <td>78.65</td>\n",
       "      <td>79.71</td>\n",
       "      <td>94.66</td>\n",
       "      <td>82.11</td>\n",
       "      <td>87.72</td>\n",
       "      <td>73.60</td>\n",
       "    </tr>\n",
       "  </tbody>\n",
       "</table>\n",
       "</div>"
      ],
      "text/plain": [
       "        Country  AveragScore  SafetySecurity  PersonelFreedom  Governance  \\\n",
       "0       Denmark        84.55           92.59            94.09       89.45   \n",
       "1        Sweden        83.67           90.97            91.90       86.41   \n",
       "2        Norway        83.59           93.30            94.10       89.66   \n",
       "3       Finland        83.47           89.56            91.96       90.41   \n",
       "4   Switzerland        83.42           95.66            87.50       87.67   \n",
       "\n",
       "   SocialCapital  InvestmentEnvironment  EnterpriseConditions  \\\n",
       "0          82.56                  82.42                 79.64   \n",
       "1          78.29                  82.81                 75.54   \n",
       "2          79.03                  82.24                 75.95   \n",
       "3          77.27                  84.12                 77.25   \n",
       "4          69.14                  80.81                 83.84   \n",
       "\n",
       "   MarketAccessInfrastructure  EconomicQuality  LivingConditions  Health  \\\n",
       "0                       78.79            76.81             95.77   81.07   \n",
       "1                       79.67            76.18             95.33   82.28   \n",
       "2                       75.87            77.25             94.70   82.98   \n",
       "3                       78.77            70.28             94.46   81.19   \n",
       "4                       78.65            79.71             94.66   82.11   \n",
       "\n",
       "   Education  NaturalEnvironment  \n",
       "0      87.48               73.94  \n",
       "1      85.92               78.74  \n",
       "2      85.68               72.37  \n",
       "3      88.38               77.99  \n",
       "4      87.72               73.60  "
      ]
     },
     "execution_count": 7,
     "metadata": {},
     "output_type": "execute_result"
    }
   ],
   "source": [
    "from plotly.offline import init_notebook_mode\n",
    "init_notebook_mode(connected=True)\n",
    "\n",
    "import csv\n",
    "import numpy as np\n",
    "import plotly.express  as  px \n",
    "import pandas as pd\n",
    "import plotly.graph_objects as go\n",
    "\n",
    "\n",
    "\n",
    "cntr = pd.read_csv(\"https://raw.githubusercontent.com/esbergenovg/countries_analysis/main/data.csv\")\n",
    "cntr.head()\n",
    "\n"
   ]
  },
  {
   "cell_type": "markdown",
   "id": "83162f65-9706-4a44-aa9d-b7bf1d63352a",
   "metadata": {},
   "source": [
    "<h2>Выведем немного статистики<h2>"
   ]
  },
  {
   "cell_type": "code",
   "execution_count": 6,
   "id": "73ffd098-2ed9-4315-ba96-83c3a98d62d9",
   "metadata": {},
   "outputs": [
    {
     "name": "stdout",
     "output_type": "stream",
     "text": [
      "count    167.000000\n",
      "mean      67.242515\n",
      "std       17.542279\n",
      "min       16.540000\n",
      "25%       59.290000\n",
      "50%       68.930000\n",
      "75%       80.560000\n",
      "max       96.320000\n",
      "Name: SafetySecurity, dtype: float64\n",
      "68.93\n"
     ]
    }
   ],
   "source": [
    "print(cntr['SafetySecurity'].describe())\n",
    "print(cntr['SafetySecurity'].median())"
   ]
  },
  {
   "cell_type": "code",
   "execution_count": 8,
   "id": "d6a62e3d-c1e4-4abe-b352-9c6758c4bdc3",
   "metadata": {},
   "outputs": [
    {
     "name": "stdout",
     "output_type": "stream",
     "text": [
      "count    167.000000\n",
      "mean      56.829401\n",
      "std       19.914638\n",
      "min       16.160000\n",
      "25%       39.650000\n",
      "50%       57.170000\n",
      "75%       72.865000\n",
      "max       94.100000\n",
      "Name: PersonelFreedom, dtype: float64\n",
      "57.17\n"
     ]
    }
   ],
   "source": [
    "print(cntr['PersonelFreedom'].describe())\n",
    "print(cntr['PersonelFreedom'].median())"
   ]
  },
  {
   "cell_type": "code",
   "execution_count": 10,
   "id": "32690ed5-480e-4276-b440-e3a399951ca9",
   "metadata": {},
   "outputs": [
    {
     "name": "stdout",
     "output_type": "stream",
     "text": [
      "count    167.000000\n",
      "mean      50.360299\n",
      "std       17.747092\n",
      "min       13.090000\n",
      "25%       37.470000\n",
      "50%       47.510000\n",
      "75%       60.965000\n",
      "max       90.410000\n",
      "Name: Governance, dtype: float64\n",
      "47.51\n"
     ]
    }
   ],
   "source": [
    "print(cntr['Governance'].describe())\n",
    "print(cntr['Governance'].median())"
   ]
  },
  {
   "cell_type": "code",
   "execution_count": 12,
   "id": "2728eb9b-2b31-4051-9b12-acbceec0a90f",
   "metadata": {},
   "outputs": [
    {
     "name": "stdout",
     "output_type": "stream",
     "text": [
      "count    167.000000\n",
      "mean      54.468024\n",
      "std       10.350639\n",
      "min       23.010000\n",
      "25%       47.820000\n",
      "50%       54.390000\n",
      "75%       60.610000\n",
      "max       82.560000\n",
      "Name: SocialCapital, dtype: float64\n",
      "54.39\n"
     ]
    }
   ],
   "source": [
    "print(cntr['SocialCapital'].describe())\n",
    "print(cntr['SocialCapital'].median())"
   ]
  },
  {
   "cell_type": "code",
   "execution_count": 14,
   "id": "5dd4e877-4652-4283-a937-3c8245d5e1b1",
   "metadata": {},
   "outputs": [
    {
     "name": "stdout",
     "output_type": "stream",
     "text": [
      "count    167.000000\n",
      "mean      53.013653\n",
      "std       16.743723\n",
      "min       21.690000\n",
      "25%       40.765000\n",
      "50%       51.250000\n",
      "75%       64.640000\n",
      "max       84.990000\n",
      "Name: InvestmentEnvironment, dtype: float64\n",
      "51.25\n"
     ]
    }
   ],
   "source": [
    "print(cntr['InvestmentEnvironment'].describe())\n",
    "print(cntr['InvestmentEnvironment'].median())"
   ]
  },
  {
   "cell_type": "code",
   "execution_count": 16,
   "id": "b782013f-19cb-4a61-a66f-0bbce87888ed",
   "metadata": {},
   "outputs": [
    {
     "name": "stdout",
     "output_type": "stream",
     "text": [
      "count    167.000000\n",
      "mean      54.791677\n",
      "std       12.876166\n",
      "min       20.500000\n",
      "25%       45.830000\n",
      "50%       53.520000\n",
      "75%       62.760000\n",
      "max       83.840000\n",
      "Name: EnterpriseConditions, dtype: float64\n",
      "53.52\n"
     ]
    }
   ],
   "source": [
    "print(cntr['EnterpriseConditions'].describe())\n",
    "print(cntr['EnterpriseConditions'].median())"
   ]
  },
  {
   "cell_type": "code",
   "execution_count": 18,
   "id": "7cfd9ce1-54cb-43b6-86aa-6d73ac42387f",
   "metadata": {},
   "outputs": [
    {
     "name": "stdout",
     "output_type": "stream",
     "text": [
      "count    167.000000\n",
      "mean      55.019701\n",
      "std       15.849004\n",
      "min       24.230000\n",
      "25%       40.055000\n",
      "50%       56.590000\n",
      "75%       69.060000\n",
      "max       85.750000\n",
      "Name: MarketAccessInfrastructure, dtype: float64\n",
      "56.59\n"
     ]
    }
   ],
   "source": [
    "print(cntr['MarketAccessInfrastructure'].describe())\n",
    "print(cntr['MarketAccessInfrastructure'].median())"
   ]
  },
  {
   "cell_type": "code",
   "execution_count": 20,
   "id": "3c1763a2-8b6f-4825-ad80-849eeee27d43",
   "metadata": {},
   "outputs": [
    {
     "name": "stdout",
     "output_type": "stream",
     "text": [
      "count    167.000000\n",
      "mean      51.568683\n",
      "std       13.427811\n",
      "min       24.460000\n",
      "25%       41.295000\n",
      "50%       50.060000\n",
      "75%       62.555000\n",
      "max       80.100000\n",
      "Name: EconomicQuality, dtype: float64\n",
      "50.06\n"
     ]
    }
   ],
   "source": [
    "print(cntr['EconomicQuality'].describe())\n",
    "print(cntr['EconomicQuality'].median())"
   ]
  },
  {
   "cell_type": "code",
   "execution_count": 22,
   "id": "4e95400b-4dd3-4ad1-88ac-6ecfb34596a8",
   "metadata": {},
   "outputs": [
    {
     "name": "stdout",
     "output_type": "stream",
     "text": [
      "count    167.000000\n",
      "mean      69.803293\n",
      "std       19.752677\n",
      "min       19.210000\n",
      "25%       55.830000\n",
      "50%       74.770000\n",
      "75%       86.975000\n",
      "max       95.860000\n",
      "Name: LivingConditions, dtype: float64\n",
      "74.77\n"
     ]
    }
   ],
   "source": [
    "print(cntr['LivingConditions'].describe())\n",
    "print(cntr['LivingConditions'].median())"
   ]
  },
  {
   "cell_type": "code",
   "execution_count": 24,
   "id": "8343bbb0-d3c6-4be4-a33a-7537dbda02d0",
   "metadata": {},
   "outputs": [
    {
     "name": "stdout",
     "output_type": "stream",
     "text": [
      "count    167.000000\n",
      "mean      68.624910\n",
      "std       11.166266\n",
      "min       31.950000\n",
      "25%       60.595000\n",
      "50%       71.380000\n",
      "75%       77.340000\n",
      "max       86.890000\n",
      "Name: Health, dtype: float64\n",
      "71.38\n"
     ]
    }
   ],
   "source": [
    "print(cntr['Health'].describe())\n",
    "print(cntr['Health'].median())"
   ]
  },
  {
   "cell_type": "code",
   "execution_count": 26,
   "id": "4334fc5f-9f30-41ac-ad1e-d015b55124b7",
   "metadata": {},
   "outputs": [
    {
     "name": "stdout",
     "output_type": "stream",
     "text": [
      "count    167.000000\n",
      "mean      58.723772\n",
      "std       19.679023\n",
      "min       16.780000\n",
      "25%       44.355000\n",
      "50%       61.930000\n",
      "75%       74.130000\n",
      "max       91.440000\n",
      "Name: Education, dtype: float64\n",
      "61.93\n"
     ]
    }
   ],
   "source": [
    "print(cntr['Education'].describe())\n",
    "print(cntr['Education'].median())"
   ]
  },
  {
   "cell_type": "code",
   "execution_count": 28,
   "id": "311ca7f4-e64a-43b9-a4d6-d05bc80ad557",
   "metadata": {},
   "outputs": [
    {
     "name": "stdout",
     "output_type": "stream",
     "text": [
      "count    167.000000\n",
      "mean      56.231737\n",
      "std        9.061262\n",
      "min       33.670000\n",
      "25%       50.265000\n",
      "50%       55.540000\n",
      "75%       61.940000\n",
      "max       78.740000\n",
      "Name: NaturalEnvironment, dtype: float64\n",
      "55.54\n"
     ]
    }
   ],
   "source": [
    "print(cntr['NaturalEnvironment'].describe())\n",
    "print(cntr['NaturalEnvironment'].median())"
   ]
  },
  {
   "cell_type": "markdown",
   "id": "6225f3a6-150d-4b27-a85f-3984fe4f3446",
   "metadata": {},
   "source": [
    "<h2>Во-первых, рассмотрим зависимость между Governance (компетенции руководства?) и SafetySecurity (безопасность) and PersonalFreedom (личными свободами)<h2>"
   ]
  },
  {
   "cell_type": "code",
   "execution_count": 9,
   "id": "44b67ab3-322a-4afd-982a-a56af2b46792",
   "metadata": {},
   "outputs": [
    {
     "name": "stdout",
     "output_type": "stream",
     "text": [
      "0.76255346698305\n",
      "0.8163122586042961\n"
     ]
    },
    {
     "data": {
      "application/vnd.plotly.v1+json": {
       "config": {
        "plotlyServerURL": "https://plot.ly"
       },
       "data": [
        {
         "hovertemplate": "<b>%{hovertext}</b><br><br>PersonelFreedom=%{x}<br>SafetySecurity=%{y}<br>Governance=%{marker.color}<extra></extra>",
         "hovertext": [
          " Denmark",
          " Sweden",
          " Norway",
          " Finland",
          " Switzerland",
          " Netherlands",
          " Luxembourg",
          " Iceland",
          " Germany",
          " New Zealand",
          " Ireland",
          " United Kingdom",
          " Canada",
          " Austria",
          " Australia",
          " Japan",
          " Singapore",
          " Belgium",
          " United States",
          " Taiwan",
          " Estonia",
          " Hong Kong",
          " France",
          " Spain",
          " Czech Republic",
          " Portugal",
          " Slovenia",
          " Malta",
          " South Korea",
          " Italy",
          " Latvia",
          " Lithuania",
          " Israel",
          " Cyprus",
          " Slovakia",
          " Chile",
          " Poland",
          " Uruguay",
          " Costa Rica",
          " Greece",
          " Croatia",
          " Hungary",
          " Malaysia",
          " United Arab Emirates",
          " Romania",
          " Qatar",
          " Mauritius",
          " Bulgaria",
          " Montenegro",
          " Panama",
          " Seychelles",
          " Serbia",
          " Georgia",
          " China",
          " Macedonia",
          " Trinidad and Tobago",
          " Jamaica",
          " Argentina",
          " Peru",
          " Kuwait",
          " Armenia",
          " Bahrain",
          " Indonesia",
          " Thailand",
          " Albania",
          " Brazil",
          " Oman",
          " Dominican Republic",
          " Kazakhstan",
          " Moldova",
          " Mexico",
          " Bosnia and Herzegovina",
          " Vietnam",
          " Ukraine",
          " South Africa",
          " Paraguay",
          " Russia",
          " Belarus",
          " Saudi Arabia",
          " Cabo Verde",
          " Colombia",
          " Suriname",
          " Botswana",
          " Philippines",
          " Ecuador",
          " Jordan",
          " São Tomé and Príncipe",
          " Mongolia",
          " Guyana",
          " Namibia",
          " Sri Lanka",
          " Azerbaijan",
          " Belize",
          " Kyrgyzstan",
          " Turkey",
          " Morocco",
          " El Salvador",
          " Ghana",
          " Tunisia",
          " Uzbekistan",
          " Guatemala",
          " Senegal",
          " India",
          " Cuba",
          " Honduras",
          " Bolivia",
          " Turkmenistan",
          " Kenya",
          " Algeria",
          "   Nepal",
          " Rwanda",
          " Lebanon",
          " Tajikistan",
          " Nicaragua",
          " Laos",
          " Gambia",
          " Tanzania",
          " Cambodia",
          " Gabon",
          " Côte d'Ivoire",
          " Egypt",
          " Djibouti",
          " Benin",
          " Bangladesh",
          " Malawi",
          " Iran",
          " Zambia",
          " Comoros",
          " Uganda",
          " Papua New Guinea",
          " Equatorial Guinea",
          " Lesotho",
          " Togo",
          " Swaziland",
          " Burkina Faso",
          " Pakistan",
          " Madagascar",
          " Liberia",
          " Zimbabwe",
          " Iraq",
          " Guinea",
          " Nigeria",
          " Myanmar ",
          " Sierra Leone",
          " Venezuela",
          " Libya",
          " Cameroon",
          " Congo",
          " Guinea-Bissau",
          " Mozambique",
          " Mali",
          " Niger",
          " Ethiopia",
          " Mauritania",
          " Angola",
          " Haiti",
          " Burundi",
          " Sudan",
          " Syria",
          " Eritrea",
          " Democratic Republic of Congo",
          " Chad",
          " Somalia",
          " Afghanistan",
          " Central African Republic",
          " Yemen",
          " South Sudan"
         ],
         "legendgroup": "",
         "marker": {
          "color": {
           "bdata": "zczMzMxcVkAK16NwPZpVQArXo3A9alZACtejcD2aVkB7FK5H4epVQPYoXI/C1VVApHA9CteTVUAzMzMzM9NUQClcj8L1GFVAXI/C9SjMVUCuR+F6FG5UQLgehetRKFRA9ihcj8KVVEBcj8L1KExUQKRwPQrXs1RAexSuR+HqU0BI4XoUrsdTQKRwPQrXE1RA7FG4HoXLUkDsUbgehWtTQFK4HoXrwVNApHA9CtcTUkCPwvUoXE9TQB+F61G4HlJArkfhehQuUUBcj8L1KExSQBSuR+F61E9AcT0K16OQUUApXI/C9UhRQArXo3A9Kk9AFK5H4Xo0UUAUrkfheiRSQJqZmZmZ2VJAXI/C9ShsUEDXo3A9CvdOQB+F61G4vlBApHA9CtcDTUAUrkfhejRSQAAAAAAAAFFASOF6FK5nTkAzMzMzMxNMQAAAAAAA4EZAPQrXo3CdTEDhehSuR8FPQK5H4XoUjkxAuB6F61EYTUDNzMzMzOxPQI/C9Shcj0pAMzMzMzPzS0BI4XoUrudIQHsUrkfhOk5AhetRuB5lRkCF61G4HgVMQFyPwvUoPEhAPQrXo3A9SEAK16NwPapKQAAAAAAAwEtAw/UoXI/CSEBSuB6F6xFIQIXrUbgehUdAAAAAAAAASUA9CtejcF1GQB+F61G4nktAH4XrUbgeREC4HoXrUThIQI/C9Shcj0dAzczMzMzMR0ApXI/C9ShHQDMzMzMzM0ZAmpmZmZn5R0BSuB6F6/FFQLgehetRWENArkfhehTuR0CamZmZmflGQHE9Ctej0ExAUrgeheuRRUBmZmZmZoZEQMP1KFyP4kFAXI/C9SjcR0CPwvUoXI9OQPYoXI/CdUdAXI/C9SjcR0B7FK5H4bpOQLgehetR2EZAcT0K16NwRUC4HoXrUbhIQNejcD0Kt0lAAAAAAACgSEAK16NwPUpIQOF6FK5HIU1AZmZmZmYGSEDD9Shcj0JEQAAAAAAAYEZA7FG4HoWrREBSuB6F63FCQK5H4XoULkdArkfhehTuRUAfhetRuD5LQBSuR+F6VElAcT0K16NQQ0B7FK5H4dpCQGZmZmZm5kpApHA9CtcDTEAfhetRuD5CQEjhehSu50BAFK5H4Xp0QkAK16NwPco7QOF6FK5HwUdAexSuR+H6REAfhetRuD5IQIXrUbgeBU5AMzMzMzNzQECuR+F6FG5CQK5H4XoUbjxAMzMzMzOzQ0BxPQrXo/BIQB+F61G4nkdAMzMzMzPzOkDD9Shcj4JBQBSuR+F69EVAj8L1KFwPQUA9CtejcB1EQIXrUbgepUhAAAAAAAAgQkBxPQrXozBIQBSuR+F61D9ApHA9CtcDRUDNzMzMzEw9QB+F61G4PkNArkfhehRuREBxPQrXo3A8QLgehetRmEZAPQrXo3CdQkBmZmZmZgZCQPYoXI/C1UZA16NwPQq3Q0C4HoXrUZhDQIXrUbgepURAKVyPwvWoP0DNzMzMzOxBQAAAAAAAYEJAexSuR+E6QkBI4XoUrudAQK5H4XoUjkVArkfhehQuKkB7FK5H4Xo4QOxRuB6Faz9AcT0K16PwPEBmZmZmZoZBQBSuR+F6lENAPQrXo3C9Q0B7FK5H4ZpEQK5H4XoU7kNA7FG4HoVrPEBSuB6F69FBQHsUrkfhujlApHA9CtdjQEBmZmZmZuY/QIXrUbgeRTVA16NwPQqXNkAAAAAAAIA5QPYoXI/C9TZAzczMzMzMN0C4HoXrUXg9QGZmZmZmZjxAMzMzMzMzMkApXI/C9Sg2QA==",
           "dtype": "f8"
          },
          "coloraxis": "coloraxis",
          "size": {
           "bdata": "zczMzMxcVkAK16NwPZpVQArXo3A9alZACtejcD2aVkB7FK5H4epVQPYoXI/C1VVApHA9CteTVUAzMzMzM9NUQClcj8L1GFVAXI/C9SjMVUCuR+F6FG5UQLgehetRKFRA9ihcj8KVVEBcj8L1KExUQKRwPQrXs1RAexSuR+HqU0BI4XoUrsdTQKRwPQrXE1RA7FG4HoXLUkDsUbgehWtTQFK4HoXrwVNApHA9CtcTUkCPwvUoXE9TQB+F61G4HlJArkfhehQuUUBcj8L1KExSQBSuR+F61E9AcT0K16OQUUApXI/C9UhRQArXo3A9Kk9AFK5H4Xo0UUAUrkfheiRSQJqZmZmZ2VJAXI/C9ShsUEDXo3A9CvdOQB+F61G4vlBApHA9CtcDTUAUrkfhejRSQAAAAAAAAFFASOF6FK5nTkAzMzMzMxNMQAAAAAAA4EZAPQrXo3CdTEDhehSuR8FPQK5H4XoUjkxAuB6F61EYTUDNzMzMzOxPQI/C9Shcj0pAMzMzMzPzS0BI4XoUrudIQHsUrkfhOk5AhetRuB5lRkCF61G4HgVMQFyPwvUoPEhAPQrXo3A9SEAK16NwPapKQAAAAAAAwEtAw/UoXI/CSEBSuB6F6xFIQIXrUbgehUdAAAAAAAAASUA9CtejcF1GQB+F61G4nktAH4XrUbgeREC4HoXrUThIQI/C9Shcj0dAzczMzMzMR0ApXI/C9ShHQDMzMzMzM0ZAmpmZmZn5R0BSuB6F6/FFQLgehetRWENArkfhehTuR0CamZmZmflGQHE9Ctej0ExAUrgeheuRRUBmZmZmZoZEQMP1KFyP4kFAXI/C9SjcR0CPwvUoXI9OQPYoXI/CdUdAXI/C9SjcR0B7FK5H4bpOQLgehetR2EZAcT0K16NwRUC4HoXrUbhIQNejcD0Kt0lAAAAAAACgSEAK16NwPUpIQOF6FK5HIU1AZmZmZmYGSEDD9Shcj0JEQAAAAAAAYEZA7FG4HoWrREBSuB6F63FCQK5H4XoULkdArkfhehTuRUAfhetRuD5LQBSuR+F6VElAcT0K16NQQ0B7FK5H4dpCQGZmZmZm5kpApHA9CtcDTEAfhetRuD5CQEjhehSu50BAFK5H4Xp0QkAK16NwPco7QOF6FK5HwUdAexSuR+H6REAfhetRuD5IQIXrUbgeBU5AMzMzMzNzQECuR+F6FG5CQK5H4XoUbjxAMzMzMzOzQ0BxPQrXo/BIQB+F61G4nkdAMzMzMzPzOkDD9Shcj4JBQBSuR+F69EVAj8L1KFwPQUA9CtejcB1EQIXrUbgepUhAAAAAAAAgQkBxPQrXozBIQBSuR+F61D9ApHA9CtcDRUDNzMzMzEw9QB+F61G4PkNArkfhehRuREBxPQrXo3A8QLgehetRmEZAPQrXo3CdQkBmZmZmZgZCQPYoXI/C1UZA16NwPQq3Q0C4HoXrUZhDQIXrUbgepURAKVyPwvWoP0DNzMzMzOxBQAAAAAAAYEJAexSuR+E6QkBI4XoUrudAQK5H4XoUjkVArkfhehQuKkB7FK5H4Xo4QOxRuB6Faz9AcT0K16PwPEBmZmZmZoZBQBSuR+F6lENAPQrXo3C9Q0B7FK5H4ZpEQK5H4XoU7kNA7FG4HoVrPEBSuB6F69FBQHsUrkfhujlApHA9CtdjQEBmZmZmZuY/QIXrUbgeRTVA16NwPQqXNkAAAAAAAIA5QPYoXI/C9TZAzczMzMzMN0C4HoXrUXg9QGZmZmZmZjxAMzMzMzMzMkApXI/C9Sg2QA==",
           "dtype": "f8"
          },
          "sizemode": "area",
          "sizeref": 0.226025,
          "symbol": "circle"
         },
         "mode": "markers",
         "name": "",
         "orientation": "v",
         "showlegend": false,
         "type": "scatter",
         "x": {
          "bdata": "9ihcj8KFV0CamZmZmflWQGZmZmZmhldAPQrXo3D9VkAAAAAAAOBVQIXrUbgehVZAzczMzMxMVkCPwvUoXC9WQM3MzMzM7FVApHA9CtfjVUD2KFyPwiVWQClcj8L1aFVASOF6FK6nVUCPwvUoXH9VQFK4HoXrIVVAKVyPwvXIU0BxPQrXo1BIQM3MzMzM7FVAZmZmZma2U0AfhetRuM5TQM3MzMzMzFVApHA9CtejSkCkcD0K18NTQJqZmZmZ6VRAUrgeheuhVEBSuB6F63FVQDMzMzMz81JAMzMzMzNDVEAUrkfhekRSQFyPwvUonFNAKVyPwvVYVEBI4XoUrudTQMP1KFyPIlFApHA9CteTU0BmZmZmZqZTQGZmZmZmFlNA9ihcj8LFUEBI4XoUrjdVQI/C9ShcL1VAMzMzMzNTUkAK16NwPcpSQK5H4XoULk5AMzMzMzNzR0CF61G4HkU/QKRwPQrXY1JAKVyPwvWoPkAzMzMzMxNRQKRwPQrXE1FA9ihcj8IlUUCPwvUoXM9QQI/C9Shcz05AexSuR+E6TkCF61G4HmVQQLgehetRODVAPQrXo3AtUECuR+F6FE5SQEjhehSux1JAXI/C9SgMU0DhehSuR6FQQDMzMzMzk0VASOF6FK5HT0AAAAAAAMA7QOxRuB6Fy0pAAAAAAACgRUDsUbgehctOQDMzMzMzk09AmpmZmZnZQEDNzMzMzFxRQNejcD0Kt0NAw/UoXI/CT0AK16NwPSpNQAAAAAAAYE9AzczMzMxsQUDD9Shcj2JPQEjhehSud1JAcT0K16OwTkBxPQrXozBBQFK4HoXrUUBAH4XrUbjeNEAK16NwPSpSQPYoXI/C9UxACtejcD1aUUApXI/C9ahQQJqZmZmZmUxAFK5H4XrUT0AUrkfhetRFQGZmZmZmZlFAcT0K16OQUEDsUbgehStQQM3MzMzM7FBAw/UoXI/CSkCuR+F6FE5AQOxRuB6Fa1FA7FG4HoWLSUC4HoXrUTg+QHE9Ctej0EZAhetRuB5FTECamZmZmRlRQAAAAAAAYExAuB6F61E4P0C4HoXrUZhLQM3MzMzMHFBAMzMzMzOzR0ApXI/C9ag8QFK4HoXrUUtAPQrXo3B9TUCF61G4HkU2QM3MzMzMjEtAzczMzMyMQ0D2KFyPwpVMQK5H4XoUDkZAUrgehetxSkCamZmZmTlAQHsUrkfh+kNAw/UoXI+CO0DhehSuR0FKQOF6FK5H4UdAcT0K16MQQkApXI/C9ShIQGZmZmZmhktAmpmZmZnZOEAfhetRuF5DQArXo3A9ik1Aj8L1KFzvQ0CuR+F6FM5OQNejcD0KFzFAhetRuB4lSEAzMzMzM7NKQMP1KFyP4kRAZmZmZmYGUEA9CtejcH0+QM3MzMzMjE1ArkfhehTuSECPwvUoXI8+QMP1KFyPwk9AUrgehetRRUBSuB6F6xFNQHsUrkfh+ktAFK5H4Xr0QkDhehSuRwFDQKRwPQrXA0hArkfhehTOSEAzMzMzM7M0QFyPwvUofExAcT0K16NQQkBxPQrXo3BDQJqZmZmZmUNAcT0K16MwQ0A9CtejcJ1KQHE9CtejUEpArkfhehROTECF61G4HuVLQPYoXI/ClUFAAAAAAACAREBxPQrXo5BEQFyPwvUofElAAAAAAAAAPUAK16NwPUo9QClcj8L1KDBAhetRuB7FMEBmZmZmZsZFQKRwPQrXI0NAKVyPwvUoQUCF61G4HgU/QArXo3A9akJAzczMzMxMOUB7FK5H4fo6QA==",
          "dtype": "f8"
         },
         "xaxis": "x",
         "y": {
          "bdata": "9ihcj8IlV0CuR+F6FL5WQDMzMzMzU1dApHA9CtdjVkAK16NwPepXQFyPwvUozFZAFK5H4XoUWEApXI/C9ehWQHsUrkfh+lVAFK5H4XpEVUCuR+F6FL5WQLgehetR6FVAexSuR+H6VUBcj8L1KLxWQArXo3A9+lVAUrgehesxV0AzMzMzMwNXQHE9CtejcFVA7FG4HoUbUkA9CtejcD1XQEjhehSuh1VACtejcD1KVkAfhetRuL5UQEjhehSut1VAKVyPwvWoVkBSuB6F64FVQDMzMzMzg1ZA16NwPQpHVkBSuB6F68FUQMP1KFyPolVAKVyPwvVIVUBSuB6F67FVQM3MzMzMzE1AFK5H4XoUVEDhehSuR9FVQOF6FK5HkVFAj8L1KFyvVUDsUbgehdtTQDMzMzMzc1NAzczMzMwMVUApXI/C9RhVQDMzMzMz81RApHA9CtezUUCamZmZmUlTQJqZmZmZ6VRAPQrXo3C9VUAzMzMzMzNUQPYoXI/CtVJAzczMzMw8VEAK16NwPWpTQFK4HoXrAVNAMzMzMzPzU0D2KFyPwlVRQD0K16Nw/VBAcT0K16PwUkDsUbgehTtRQOF6FK5HAU5ArkfhehRuUUBSuB6F6+FQQEjhehSuR1NAH4XrUbieUUDD9Shcj6JQQNejcD0Kd1FAj8L1KFxvTkCamZmZmblSQFK4HoXrEU5A9ihcj8JlVEDD9Shcj+JPQPYoXI/CZVFAw/UoXI8yUkCF61G4HsVFQHsUrkfhqlNAZmZmZmZGUUBI4XoUridLQArXo3A9KkpAMzMzMzNjUkApXI/C9chJQIXrUbgexVFAmpmZmZmJUEBSuB6F63FUQOxRuB6FS0JAj8L1KFx/UkBmZmZmZgZSQD0K16NwHUdAZmZmZmbmUEDhehSuR6FRQI/C9Shc71NAj8L1KFyPUkBxPQrXo6BQQFyPwvUoXFJAzczMzMzMSkBcj8L1KLxPQI/C9Shc31BAmpmZmZn5UUCamZmZmdlGQK5H4XoUjlJAuB6F61G4TUAAAAAAAHBRQArXo3A96k1AKVyPwvX4UkCkcD0K14NOQLgehetRaFBAUrgehevxSUDD9Shcj3JQQGZmZmZmJkxAmpmZmZmJUEApXI/C9VhSQFK4HoXr0UdAzczMzMysUkApXI/C9ahQQFK4HoXrkU1AFK5H4Xo0TED2KFyPwpVRQD0K16Nw3U9AMzMzMzPjUkBSuB6F67FQQOxRuB6FK1BA9ihcj8KFUEB7FK5H4QpQQDMzMzMzU05AcT0K16MQSEBcj8L1KBxRQDMzMzMzI1JAj8L1KFxPSUA9CtejcH1QQClcj8L1yEtAMzMzMzODUEAzMzMzM7NSQOF6FK5HgUpA4XoUrkdhT0D2KFyPwtVQQDMzMzMzk1BACtejcD2qUECkcD0K1wNPQFK4HoXr8UdAcT0K16MQRUCPwvUoXO9NQAAAAAAAoE9APQrXo3C9T0BxPQrXo/A6QPYoXI/C1U1AZmZmZmamQ0DNzMzMzGxCQHE9Ctej8E9AmpmZmZk5REApXI/C9Sg+QFyPwvUoXEJA4XoUrkfhSkDXo3A9CvdSQB+F61G4HktAhetRuB4FQUC4HoXrUXhJQI/C9Shcz0RAmpmZmZnpUEAK16NwPapOQDMzMzMzU0xArkfhehTOQ0CkcD0K16NAQFyPwvUoHDdASOF6FK4HSkAK16NwPco/QGZmZmZmhkdAKVyPwvXoP0CuR+F6FO40QGZmZmZmpkFAmpmZmZmZNkAK16NwPYowQA==",
          "dtype": "f8"
         },
         "yaxis": "y"
        }
       ],
       "layout": {
        "coloraxis": {
         "colorbar": {
          "title": {
           "text": "Governance"
          }
         },
         "colorscale": [
          [
           0,
           "#0d0887"
          ],
          [
           0.1111111111111111,
           "#46039f"
          ],
          [
           0.2222222222222222,
           "#7201a8"
          ],
          [
           0.3333333333333333,
           "#9c179e"
          ],
          [
           0.4444444444444444,
           "#bd3786"
          ],
          [
           0.5555555555555556,
           "#d8576b"
          ],
          [
           0.6666666666666666,
           "#ed7953"
          ],
          [
           0.7777777777777778,
           "#fb9f3a"
          ],
          [
           0.8888888888888888,
           "#fdca26"
          ],
          [
           1,
           "#f0f921"
          ]
         ]
        },
        "legend": {
         "itemsizing": "constant",
         "tracegroupgap": 0
        },
        "margin": {
         "t": 60
        },
        "template": {
         "data": {
          "bar": [
           {
            "error_x": {
             "color": "#2a3f5f"
            },
            "error_y": {
             "color": "#2a3f5f"
            },
            "marker": {
             "line": {
              "color": "#E5ECF6",
              "width": 0.5
             },
             "pattern": {
              "fillmode": "overlay",
              "size": 10,
              "solidity": 0.2
             }
            },
            "type": "bar"
           }
          ],
          "barpolar": [
           {
            "marker": {
             "line": {
              "color": "#E5ECF6",
              "width": 0.5
             },
             "pattern": {
              "fillmode": "overlay",
              "size": 10,
              "solidity": 0.2
             }
            },
            "type": "barpolar"
           }
          ],
          "carpet": [
           {
            "aaxis": {
             "endlinecolor": "#2a3f5f",
             "gridcolor": "white",
             "linecolor": "white",
             "minorgridcolor": "white",
             "startlinecolor": "#2a3f5f"
            },
            "baxis": {
             "endlinecolor": "#2a3f5f",
             "gridcolor": "white",
             "linecolor": "white",
             "minorgridcolor": "white",
             "startlinecolor": "#2a3f5f"
            },
            "type": "carpet"
           }
          ],
          "choropleth": [
           {
            "colorbar": {
             "outlinewidth": 0,
             "ticks": ""
            },
            "type": "choropleth"
           }
          ],
          "contour": [
           {
            "colorbar": {
             "outlinewidth": 0,
             "ticks": ""
            },
            "colorscale": [
             [
              0,
              "#0d0887"
             ],
             [
              0.1111111111111111,
              "#46039f"
             ],
             [
              0.2222222222222222,
              "#7201a8"
             ],
             [
              0.3333333333333333,
              "#9c179e"
             ],
             [
              0.4444444444444444,
              "#bd3786"
             ],
             [
              0.5555555555555556,
              "#d8576b"
             ],
             [
              0.6666666666666666,
              "#ed7953"
             ],
             [
              0.7777777777777778,
              "#fb9f3a"
             ],
             [
              0.8888888888888888,
              "#fdca26"
             ],
             [
              1,
              "#f0f921"
             ]
            ],
            "type": "contour"
           }
          ],
          "contourcarpet": [
           {
            "colorbar": {
             "outlinewidth": 0,
             "ticks": ""
            },
            "type": "contourcarpet"
           }
          ],
          "heatmap": [
           {
            "colorbar": {
             "outlinewidth": 0,
             "ticks": ""
            },
            "colorscale": [
             [
              0,
              "#0d0887"
             ],
             [
              0.1111111111111111,
              "#46039f"
             ],
             [
              0.2222222222222222,
              "#7201a8"
             ],
             [
              0.3333333333333333,
              "#9c179e"
             ],
             [
              0.4444444444444444,
              "#bd3786"
             ],
             [
              0.5555555555555556,
              "#d8576b"
             ],
             [
              0.6666666666666666,
              "#ed7953"
             ],
             [
              0.7777777777777778,
              "#fb9f3a"
             ],
             [
              0.8888888888888888,
              "#fdca26"
             ],
             [
              1,
              "#f0f921"
             ]
            ],
            "type": "heatmap"
           }
          ],
          "histogram": [
           {
            "marker": {
             "pattern": {
              "fillmode": "overlay",
              "size": 10,
              "solidity": 0.2
             }
            },
            "type": "histogram"
           }
          ],
          "histogram2d": [
           {
            "colorbar": {
             "outlinewidth": 0,
             "ticks": ""
            },
            "colorscale": [
             [
              0,
              "#0d0887"
             ],
             [
              0.1111111111111111,
              "#46039f"
             ],
             [
              0.2222222222222222,
              "#7201a8"
             ],
             [
              0.3333333333333333,
              "#9c179e"
             ],
             [
              0.4444444444444444,
              "#bd3786"
             ],
             [
              0.5555555555555556,
              "#d8576b"
             ],
             [
              0.6666666666666666,
              "#ed7953"
             ],
             [
              0.7777777777777778,
              "#fb9f3a"
             ],
             [
              0.8888888888888888,
              "#fdca26"
             ],
             [
              1,
              "#f0f921"
             ]
            ],
            "type": "histogram2d"
           }
          ],
          "histogram2dcontour": [
           {
            "colorbar": {
             "outlinewidth": 0,
             "ticks": ""
            },
            "colorscale": [
             [
              0,
              "#0d0887"
             ],
             [
              0.1111111111111111,
              "#46039f"
             ],
             [
              0.2222222222222222,
              "#7201a8"
             ],
             [
              0.3333333333333333,
              "#9c179e"
             ],
             [
              0.4444444444444444,
              "#bd3786"
             ],
             [
              0.5555555555555556,
              "#d8576b"
             ],
             [
              0.6666666666666666,
              "#ed7953"
             ],
             [
              0.7777777777777778,
              "#fb9f3a"
             ],
             [
              0.8888888888888888,
              "#fdca26"
             ],
             [
              1,
              "#f0f921"
             ]
            ],
            "type": "histogram2dcontour"
           }
          ],
          "mesh3d": [
           {
            "colorbar": {
             "outlinewidth": 0,
             "ticks": ""
            },
            "type": "mesh3d"
           }
          ],
          "parcoords": [
           {
            "line": {
             "colorbar": {
              "outlinewidth": 0,
              "ticks": ""
             }
            },
            "type": "parcoords"
           }
          ],
          "pie": [
           {
            "automargin": true,
            "type": "pie"
           }
          ],
          "scatter": [
           {
            "fillpattern": {
             "fillmode": "overlay",
             "size": 10,
             "solidity": 0.2
            },
            "type": "scatter"
           }
          ],
          "scatter3d": [
           {
            "line": {
             "colorbar": {
              "outlinewidth": 0,
              "ticks": ""
             }
            },
            "marker": {
             "colorbar": {
              "outlinewidth": 0,
              "ticks": ""
             }
            },
            "type": "scatter3d"
           }
          ],
          "scattercarpet": [
           {
            "marker": {
             "colorbar": {
              "outlinewidth": 0,
              "ticks": ""
             }
            },
            "type": "scattercarpet"
           }
          ],
          "scattergeo": [
           {
            "marker": {
             "colorbar": {
              "outlinewidth": 0,
              "ticks": ""
             }
            },
            "type": "scattergeo"
           }
          ],
          "scattergl": [
           {
            "marker": {
             "colorbar": {
              "outlinewidth": 0,
              "ticks": ""
             }
            },
            "type": "scattergl"
           }
          ],
          "scattermap": [
           {
            "marker": {
             "colorbar": {
              "outlinewidth": 0,
              "ticks": ""
             }
            },
            "type": "scattermap"
           }
          ],
          "scattermapbox": [
           {
            "marker": {
             "colorbar": {
              "outlinewidth": 0,
              "ticks": ""
             }
            },
            "type": "scattermapbox"
           }
          ],
          "scatterpolar": [
           {
            "marker": {
             "colorbar": {
              "outlinewidth": 0,
              "ticks": ""
             }
            },
            "type": "scatterpolar"
           }
          ],
          "scatterpolargl": [
           {
            "marker": {
             "colorbar": {
              "outlinewidth": 0,
              "ticks": ""
             }
            },
            "type": "scatterpolargl"
           }
          ],
          "scatterternary": [
           {
            "marker": {
             "colorbar": {
              "outlinewidth": 0,
              "ticks": ""
             }
            },
            "type": "scatterternary"
           }
          ],
          "surface": [
           {
            "colorbar": {
             "outlinewidth": 0,
             "ticks": ""
            },
            "colorscale": [
             [
              0,
              "#0d0887"
             ],
             [
              0.1111111111111111,
              "#46039f"
             ],
             [
              0.2222222222222222,
              "#7201a8"
             ],
             [
              0.3333333333333333,
              "#9c179e"
             ],
             [
              0.4444444444444444,
              "#bd3786"
             ],
             [
              0.5555555555555556,
              "#d8576b"
             ],
             [
              0.6666666666666666,
              "#ed7953"
             ],
             [
              0.7777777777777778,
              "#fb9f3a"
             ],
             [
              0.8888888888888888,
              "#fdca26"
             ],
             [
              1,
              "#f0f921"
             ]
            ],
            "type": "surface"
           }
          ],
          "table": [
           {
            "cells": {
             "fill": {
              "color": "#EBF0F8"
             },
             "line": {
              "color": "white"
             }
            },
            "header": {
             "fill": {
              "color": "#C8D4E3"
             },
             "line": {
              "color": "white"
             }
            },
            "type": "table"
           }
          ]
         },
         "layout": {
          "annotationdefaults": {
           "arrowcolor": "#2a3f5f",
           "arrowhead": 0,
           "arrowwidth": 1
          },
          "autotypenumbers": "strict",
          "coloraxis": {
           "colorbar": {
            "outlinewidth": 0,
            "ticks": ""
           }
          },
          "colorscale": {
           "diverging": [
            [
             0,
             "#8e0152"
            ],
            [
             0.1,
             "#c51b7d"
            ],
            [
             0.2,
             "#de77ae"
            ],
            [
             0.3,
             "#f1b6da"
            ],
            [
             0.4,
             "#fde0ef"
            ],
            [
             0.5,
             "#f7f7f7"
            ],
            [
             0.6,
             "#e6f5d0"
            ],
            [
             0.7,
             "#b8e186"
            ],
            [
             0.8,
             "#7fbc41"
            ],
            [
             0.9,
             "#4d9221"
            ],
            [
             1,
             "#276419"
            ]
           ],
           "sequential": [
            [
             0,
             "#0d0887"
            ],
            [
             0.1111111111111111,
             "#46039f"
            ],
            [
             0.2222222222222222,
             "#7201a8"
            ],
            [
             0.3333333333333333,
             "#9c179e"
            ],
            [
             0.4444444444444444,
             "#bd3786"
            ],
            [
             0.5555555555555556,
             "#d8576b"
            ],
            [
             0.6666666666666666,
             "#ed7953"
            ],
            [
             0.7777777777777778,
             "#fb9f3a"
            ],
            [
             0.8888888888888888,
             "#fdca26"
            ],
            [
             1,
             "#f0f921"
            ]
           ],
           "sequentialminus": [
            [
             0,
             "#0d0887"
            ],
            [
             0.1111111111111111,
             "#46039f"
            ],
            [
             0.2222222222222222,
             "#7201a8"
            ],
            [
             0.3333333333333333,
             "#9c179e"
            ],
            [
             0.4444444444444444,
             "#bd3786"
            ],
            [
             0.5555555555555556,
             "#d8576b"
            ],
            [
             0.6666666666666666,
             "#ed7953"
            ],
            [
             0.7777777777777778,
             "#fb9f3a"
            ],
            [
             0.8888888888888888,
             "#fdca26"
            ],
            [
             1,
             "#f0f921"
            ]
           ]
          },
          "colorway": [
           "#636efa",
           "#EF553B",
           "#00cc96",
           "#ab63fa",
           "#FFA15A",
           "#19d3f3",
           "#FF6692",
           "#B6E880",
           "#FF97FF",
           "#FECB52"
          ],
          "font": {
           "color": "#2a3f5f"
          },
          "geo": {
           "bgcolor": "white",
           "lakecolor": "white",
           "landcolor": "#E5ECF6",
           "showlakes": true,
           "showland": true,
           "subunitcolor": "white"
          },
          "hoverlabel": {
           "align": "left"
          },
          "hovermode": "closest",
          "mapbox": {
           "style": "light"
          },
          "paper_bgcolor": "white",
          "plot_bgcolor": "#E5ECF6",
          "polar": {
           "angularaxis": {
            "gridcolor": "white",
            "linecolor": "white",
            "ticks": ""
           },
           "bgcolor": "#E5ECF6",
           "radialaxis": {
            "gridcolor": "white",
            "linecolor": "white",
            "ticks": ""
           }
          },
          "scene": {
           "xaxis": {
            "backgroundcolor": "#E5ECF6",
            "gridcolor": "white",
            "gridwidth": 2,
            "linecolor": "white",
            "showbackground": true,
            "ticks": "",
            "zerolinecolor": "white"
           },
           "yaxis": {
            "backgroundcolor": "#E5ECF6",
            "gridcolor": "white",
            "gridwidth": 2,
            "linecolor": "white",
            "showbackground": true,
            "ticks": "",
            "zerolinecolor": "white"
           },
           "zaxis": {
            "backgroundcolor": "#E5ECF6",
            "gridcolor": "white",
            "gridwidth": 2,
            "linecolor": "white",
            "showbackground": true,
            "ticks": "",
            "zerolinecolor": "white"
           }
          },
          "shapedefaults": {
           "line": {
            "color": "#2a3f5f"
           }
          },
          "ternary": {
           "aaxis": {
            "gridcolor": "white",
            "linecolor": "white",
            "ticks": ""
           },
           "baxis": {
            "gridcolor": "white",
            "linecolor": "white",
            "ticks": ""
           },
           "bgcolor": "#E5ECF6",
           "caxis": {
            "gridcolor": "white",
            "linecolor": "white",
            "ticks": ""
           }
          },
          "title": {
           "x": 0.05
          },
          "xaxis": {
           "automargin": true,
           "gridcolor": "white",
           "linecolor": "white",
           "ticks": "",
           "title": {
            "standoff": 15
           },
           "zerolinecolor": "white",
           "zerolinewidth": 2
          },
          "yaxis": {
           "automargin": true,
           "gridcolor": "white",
           "linecolor": "white",
           "ticks": "",
           "title": {
            "standoff": 15
           },
           "zerolinecolor": "white",
           "zerolinewidth": 2
          }
         }
        },
        "xaxis": {
         "anchor": "y",
         "domain": [
          0,
          1
         ],
         "title": {
          "text": "PersonelFreedom"
         }
        },
        "yaxis": {
         "anchor": "x",
         "domain": [
          0,
          1
         ],
         "title": {
          "text": "SafetySecurity"
         }
        }
       }
      },
      "text/html": [
       "<div>            <script src=\"https://cdnjs.cloudflare.com/ajax/libs/mathjax/2.7.5/MathJax.js?config=TeX-AMS-MML_SVG\"></script><script type=\"text/javascript\">if (window.MathJax && window.MathJax.Hub && window.MathJax.Hub.Config) {window.MathJax.Hub.Config({SVG: {font: \"STIX-Web\"}});}</script>                <script type=\"text/javascript\">window.PlotlyConfig = {MathJaxConfig: 'local'};</script>\n",
       "        <script charset=\"utf-8\" src=\"https://cdn.plot.ly/plotly-3.0.1.min.js\"></script>                <div id=\"c045c994-0fe5-4361-afcf-657afc439269\" class=\"plotly-graph-div\" style=\"height:525px; width:100%;\"></div>            <script type=\"text/javascript\">                window.PLOTLYENV=window.PLOTLYENV || {};                                if (document.getElementById(\"c045c994-0fe5-4361-afcf-657afc439269\")) {                    Plotly.newPlot(                        \"c045c994-0fe5-4361-afcf-657afc439269\",                        [{\"hovertemplate\":\"\\u003cb\\u003e%{hovertext}\\u003c\\u002fb\\u003e\\u003cbr\\u003e\\u003cbr\\u003ePersonelFreedom=%{x}\\u003cbr\\u003eSafetySecurity=%{y}\\u003cbr\\u003eGovernance=%{marker.color}\\u003cextra\\u003e\\u003c\\u002fextra\\u003e\",\"hovertext\":[\"\\u00a0Denmark\",\"\\u00a0Sweden\",\"\\u00a0Norway\",\"\\u00a0Finland\",\"\\u00a0Switzerland\",\"\\u00a0Netherlands\",\"\\u00a0Luxembourg\",\"\\u00a0Iceland\",\"\\u00a0Germany\",\"\\u00a0New Zealand\",\"\\u00a0Ireland\",\"\\u00a0United Kingdom\",\"\\u00a0Canada\",\"\\u00a0Austria\",\"\\u00a0Australia\",\"\\u00a0Japan\",\"\\u00a0Singapore\",\"\\u00a0Belgium\",\"\\u00a0United States\",\"\\u00a0Taiwan\",\"\\u00a0Estonia\",\"\\u00a0Hong Kong\",\"\\u00a0France\",\"\\u00a0Spain\",\"\\u00a0Czech Republic\",\"\\u00a0Portugal\",\"\\u00a0Slovenia\",\"\\u00a0Malta\",\"\\u00a0South Korea\",\"\\u00a0Italy\",\"\\u00a0Latvia\",\"\\u00a0Lithuania\",\"\\u00a0Israel\",\"\\u00a0Cyprus\",\"\\u00a0Slovakia\",\"\\u00a0Chile\",\"\\u00a0Poland\",\"\\u00a0Uruguay\",\"\\u00a0Costa Rica\",\"\\u00a0Greece\",\"\\u00a0Croatia\",\"\\u00a0Hungary\",\"\\u00a0Malaysia\",\"\\u00a0United Arab Emirates\",\"\\u00a0Romania\",\"\\u00a0Qatar\",\"\\u00a0Mauritius\",\"\\u00a0Bulgaria\",\"\\u00a0Montenegro\",\"\\u00a0Panama\",\"\\u00a0Seychelles\",\"\\u00a0Serbia\",\"\\u00a0Georgia\",\"\\u00a0China\",\"\\u00a0Macedonia\",\"\\u00a0Trinidad and Tobago\",\"\\u00a0Jamaica\",\"\\u00a0Argentina\",\"\\u00a0Peru\",\"\\u00a0Kuwait\",\"\\u00a0Armenia\",\"\\u00a0Bahrain\",\"\\u00a0Indonesia\",\"\\u00a0Thailand\",\"\\u00a0Albania\",\"\\u00a0Brazil\",\"\\u00a0Oman\",\"\\u00a0Dominican Republic\",\"\\u00a0Kazakhstan\",\"\\u00a0Moldova\",\"\\u00a0Mexico\",\"\\u00a0Bosnia and Herzegovina\",\"\\u00a0Vietnam\",\"\\u00a0Ukraine\",\"\\u00a0South Africa\",\"\\u00a0Paraguay\",\"\\u00a0Russia\",\"\\u00a0Belarus\",\"\\u00a0Saudi Arabia\",\"\\u00a0Cabo Verde\",\"\\u00a0Colombia\",\"\\u00a0Suriname\",\"\\u00a0Botswana\",\"\\u00a0Philippines\",\"\\u00a0Ecuador\",\"\\u00a0Jordan\",\"\\u00a0S\\u00e3o Tom\\u00e9 and Pr\\u00edncipe\",\"\\u00a0Mongolia\",\"\\u00a0Guyana\",\"\\u00a0Namibia\",\"\\u00a0Sri Lanka\",\"\\u00a0Azerbaijan\",\"\\u00a0Belize\",\"\\u00a0Kyrgyzstan\",\"\\u00a0Turkey\",\"\\u00a0Morocco\",\"\\u00a0El Salvador\",\"\\u00a0Ghana\",\"\\u00a0Tunisia\",\"\\u00a0Uzbekistan\",\"\\u00a0Guatemala\",\"\\u00a0Senegal\",\"\\u00a0India\",\"\\u00a0Cuba\",\"\\u00a0Honduras\",\"\\u00a0Bolivia\",\"\\u00a0Turkmenistan\",\"\\u00a0Kenya\",\"\\u00a0Algeria\",\"\\u00a0\\u00a0\\u00a0Nepal\",\"\\u00a0Rwanda\",\"\\u00a0Lebanon\",\"\\u00a0Tajikistan\",\"\\u00a0Nicaragua\",\"\\u00a0Laos\",\"\\u00a0Gambia\",\"\\u00a0Tanzania\",\"\\u00a0Cambodia\",\"\\u00a0Gabon\",\"\\u00a0C\\u00f4te d'Ivoire\",\"\\u00a0Egypt\",\"\\u00a0Djibouti\",\"\\u00a0Benin\",\"\\u00a0Bangladesh\",\"\\u00a0Malawi\",\"\\u00a0Iran\",\"\\u00a0Zambia\",\"\\u00a0Comoros\",\"\\u00a0Uganda\",\"\\u00a0Papua New Guinea\",\"\\u00a0Equatorial Guinea\",\"\\u00a0Lesotho\",\"\\u00a0Togo\",\"\\u00a0Swaziland\",\"\\u00a0Burkina Faso\",\"\\u00a0Pakistan\",\"\\u00a0Madagascar\",\"\\u00a0Liberia\",\"\\u00a0Zimbabwe\",\"\\u00a0Iraq\",\"\\u00a0Guinea\",\"\\u00a0Nigeria\",\"\\u00a0Myanmar\\u200a\",\"\\u00a0Sierra Leone\",\"\\u00a0Venezuela\",\"\\u00a0Libya\",\"\\u00a0Cameroon\",\"\\u00a0Congo\",\"\\u00a0Guinea-Bissau\",\"\\u00a0Mozambique\",\"\\u00a0Mali\",\"\\u00a0Niger\",\"\\u00a0Ethiopia\",\"\\u00a0Mauritania\",\"\\u00a0Angola\",\"\\u00a0Haiti\",\"\\u00a0Burundi\",\"\\u00a0Sudan\",\"\\u00a0Syria\",\"\\u00a0Eritrea\",\"\\u00a0Democratic Republic of Congo\",\"\\u00a0Chad\",\"\\u00a0Somalia\",\"\\u00a0Afghanistan\",\"\\u00a0Central African Republic\",\"\\u00a0Yemen\",\"\\u00a0South Sudan\"],\"legendgroup\":\"\",\"marker\":{\"color\":{\"dtype\":\"f8\",\"bdata\":\"zczMzMxcVkAK16NwPZpVQArXo3A9alZACtejcD2aVkB7FK5H4epVQPYoXI\\u002fC1VVApHA9CteTVUAzMzMzM9NUQClcj8L1GFVAXI\\u002fC9SjMVUCuR+F6FG5UQLgehetRKFRA9ihcj8KVVEBcj8L1KExUQKRwPQrXs1RAexSuR+HqU0BI4XoUrsdTQKRwPQrXE1RA7FG4HoXLUkDsUbgehWtTQFK4HoXrwVNApHA9CtcTUkCPwvUoXE9TQB+F61G4HlJArkfhehQuUUBcj8L1KExSQBSuR+F61E9AcT0K16OQUUApXI\\u002fC9UhRQArXo3A9Kk9AFK5H4Xo0UUAUrkfheiRSQJqZmZmZ2VJAXI\\u002fC9ShsUEDXo3A9CvdOQB+F61G4vlBApHA9CtcDTUAUrkfhejRSQAAAAAAAAFFASOF6FK5nTkAzMzMzMxNMQAAAAAAA4EZAPQrXo3CdTEDhehSuR8FPQK5H4XoUjkxAuB6F61EYTUDNzMzMzOxPQI\\u002fC9Shcj0pAMzMzMzPzS0BI4XoUrudIQHsUrkfhOk5AhetRuB5lRkCF61G4HgVMQFyPwvUoPEhAPQrXo3A9SEAK16NwPapKQAAAAAAAwEtAw\\u002fUoXI\\u002fCSEBSuB6F6xFIQIXrUbgehUdAAAAAAAAASUA9CtejcF1GQB+F61G4nktAH4XrUbgeREC4HoXrUThIQI\\u002fC9Shcj0dAzczMzMzMR0ApXI\\u002fC9ShHQDMzMzMzM0ZAmpmZmZn5R0BSuB6F6\\u002fFFQLgehetRWENArkfhehTuR0CamZmZmflGQHE9Ctej0ExAUrgeheuRRUBmZmZmZoZEQMP1KFyP4kFAXI\\u002fC9SjcR0CPwvUoXI9OQPYoXI\\u002fCdUdAXI\\u002fC9SjcR0B7FK5H4bpOQLgehetR2EZAcT0K16NwRUC4HoXrUbhIQNejcD0Kt0lAAAAAAACgSEAK16NwPUpIQOF6FK5HIU1AZmZmZmYGSEDD9Shcj0JEQAAAAAAAYEZA7FG4HoWrREBSuB6F63FCQK5H4XoULkdArkfhehTuRUAfhetRuD5LQBSuR+F6VElAcT0K16NQQ0B7FK5H4dpCQGZmZmZm5kpApHA9CtcDTEAfhetRuD5CQEjhehSu50BAFK5H4Xp0QkAK16NwPco7QOF6FK5HwUdAexSuR+H6REAfhetRuD5IQIXrUbgeBU5AMzMzMzNzQECuR+F6FG5CQK5H4XoUbjxAMzMzMzOzQ0BxPQrXo\\u002fBIQB+F61G4nkdAMzMzMzPzOkDD9Shcj4JBQBSuR+F69EVAj8L1KFwPQUA9CtejcB1EQIXrUbgepUhAAAAAAAAgQkBxPQrXozBIQBSuR+F61D9ApHA9CtcDRUDNzMzMzEw9QB+F61G4PkNArkfhehRuREBxPQrXo3A8QLgehetRmEZAPQrXo3CdQkBmZmZmZgZCQPYoXI\\u002fC1UZA16NwPQq3Q0C4HoXrUZhDQIXrUbgepURAKVyPwvWoP0DNzMzMzOxBQAAAAAAAYEJAexSuR+E6QkBI4XoUrudAQK5H4XoUjkVArkfhehQuKkB7FK5H4Xo4QOxRuB6Faz9AcT0K16PwPEBmZmZmZoZBQBSuR+F6lENAPQrXo3C9Q0B7FK5H4ZpEQK5H4XoU7kNA7FG4HoVrPEBSuB6F69FBQHsUrkfhujlApHA9CtdjQEBmZmZmZuY\\u002fQIXrUbgeRTVA16NwPQqXNkAAAAAAAIA5QPYoXI\\u002fC9TZAzczMzMzMN0C4HoXrUXg9QGZmZmZmZjxAMzMzMzMzMkApXI\\u002fC9Sg2QA==\"},\"coloraxis\":\"coloraxis\",\"size\":{\"dtype\":\"f8\",\"bdata\":\"zczMzMxcVkAK16NwPZpVQArXo3A9alZACtejcD2aVkB7FK5H4epVQPYoXI\\u002fC1VVApHA9CteTVUAzMzMzM9NUQClcj8L1GFVAXI\\u002fC9SjMVUCuR+F6FG5UQLgehetRKFRA9ihcj8KVVEBcj8L1KExUQKRwPQrXs1RAexSuR+HqU0BI4XoUrsdTQKRwPQrXE1RA7FG4HoXLUkDsUbgehWtTQFK4HoXrwVNApHA9CtcTUkCPwvUoXE9TQB+F61G4HlJArkfhehQuUUBcj8L1KExSQBSuR+F61E9AcT0K16OQUUApXI\\u002fC9UhRQArXo3A9Kk9AFK5H4Xo0UUAUrkfheiRSQJqZmZmZ2VJAXI\\u002fC9ShsUEDXo3A9CvdOQB+F61G4vlBApHA9CtcDTUAUrkfhejRSQAAAAAAAAFFASOF6FK5nTkAzMzMzMxNMQAAAAAAA4EZAPQrXo3CdTEDhehSuR8FPQK5H4XoUjkxAuB6F61EYTUDNzMzMzOxPQI\\u002fC9Shcj0pAMzMzMzPzS0BI4XoUrudIQHsUrkfhOk5AhetRuB5lRkCF61G4HgVMQFyPwvUoPEhAPQrXo3A9SEAK16NwPapKQAAAAAAAwEtAw\\u002fUoXI\\u002fCSEBSuB6F6xFIQIXrUbgehUdAAAAAAAAASUA9CtejcF1GQB+F61G4nktAH4XrUbgeREC4HoXrUThIQI\\u002fC9Shcj0dAzczMzMzMR0ApXI\\u002fC9ShHQDMzMzMzM0ZAmpmZmZn5R0BSuB6F6\\u002fFFQLgehetRWENArkfhehTuR0CamZmZmflGQHE9Ctej0ExAUrgeheuRRUBmZmZmZoZEQMP1KFyP4kFAXI\\u002fC9SjcR0CPwvUoXI9OQPYoXI\\u002fCdUdAXI\\u002fC9SjcR0B7FK5H4bpOQLgehetR2EZAcT0K16NwRUC4HoXrUbhIQNejcD0Kt0lAAAAAAACgSEAK16NwPUpIQOF6FK5HIU1AZmZmZmYGSEDD9Shcj0JEQAAAAAAAYEZA7FG4HoWrREBSuB6F63FCQK5H4XoULkdArkfhehTuRUAfhetRuD5LQBSuR+F6VElAcT0K16NQQ0B7FK5H4dpCQGZmZmZm5kpApHA9CtcDTEAfhetRuD5CQEjhehSu50BAFK5H4Xp0QkAK16NwPco7QOF6FK5HwUdAexSuR+H6REAfhetRuD5IQIXrUbgeBU5AMzMzMzNzQECuR+F6FG5CQK5H4XoUbjxAMzMzMzOzQ0BxPQrXo\\u002fBIQB+F61G4nkdAMzMzMzPzOkDD9Shcj4JBQBSuR+F69EVAj8L1KFwPQUA9CtejcB1EQIXrUbgepUhAAAAAAAAgQkBxPQrXozBIQBSuR+F61D9ApHA9CtcDRUDNzMzMzEw9QB+F61G4PkNArkfhehRuREBxPQrXo3A8QLgehetRmEZAPQrXo3CdQkBmZmZmZgZCQPYoXI\\u002fC1UZA16NwPQq3Q0C4HoXrUZhDQIXrUbgepURAKVyPwvWoP0DNzMzMzOxBQAAAAAAAYEJAexSuR+E6QkBI4XoUrudAQK5H4XoUjkVArkfhehQuKkB7FK5H4Xo4QOxRuB6Faz9AcT0K16PwPEBmZmZmZoZBQBSuR+F6lENAPQrXo3C9Q0B7FK5H4ZpEQK5H4XoU7kNA7FG4HoVrPEBSuB6F69FBQHsUrkfhujlApHA9CtdjQEBmZmZmZuY\\u002fQIXrUbgeRTVA16NwPQqXNkAAAAAAAIA5QPYoXI\\u002fC9TZAzczMzMzMN0C4HoXrUXg9QGZmZmZmZjxAMzMzMzMzMkApXI\\u002fC9Sg2QA==\"},\"sizemode\":\"area\",\"sizeref\":0.226025,\"symbol\":\"circle\"},\"mode\":\"markers\",\"name\":\"\",\"orientation\":\"v\",\"showlegend\":false,\"x\":{\"dtype\":\"f8\",\"bdata\":\"9ihcj8KFV0CamZmZmflWQGZmZmZmhldAPQrXo3D9VkAAAAAAAOBVQIXrUbgehVZAzczMzMxMVkCPwvUoXC9WQM3MzMzM7FVApHA9CtfjVUD2KFyPwiVWQClcj8L1aFVASOF6FK6nVUCPwvUoXH9VQFK4HoXrIVVAKVyPwvXIU0BxPQrXo1BIQM3MzMzM7FVAZmZmZma2U0AfhetRuM5TQM3MzMzMzFVApHA9CtejSkCkcD0K18NTQJqZmZmZ6VRAUrgeheuhVEBSuB6F63FVQDMzMzMz81JAMzMzMzNDVEAUrkfhekRSQFyPwvUonFNAKVyPwvVYVEBI4XoUrudTQMP1KFyPIlFApHA9CteTU0BmZmZmZqZTQGZmZmZmFlNA9ihcj8LFUEBI4XoUrjdVQI\\u002fC9ShcL1VAMzMzMzNTUkAK16NwPcpSQK5H4XoULk5AMzMzMzNzR0CF61G4HkU\\u002fQKRwPQrXY1JAKVyPwvWoPkAzMzMzMxNRQKRwPQrXE1FA9ihcj8IlUUCPwvUoXM9QQI\\u002fC9Shcz05AexSuR+E6TkCF61G4HmVQQLgehetRODVAPQrXo3AtUECuR+F6FE5SQEjhehSux1JAXI\\u002fC9SgMU0DhehSuR6FQQDMzMzMzk0VASOF6FK5HT0AAAAAAAMA7QOxRuB6Fy0pAAAAAAACgRUDsUbgehctOQDMzMzMzk09AmpmZmZnZQEDNzMzMzFxRQNejcD0Kt0NAw\\u002fUoXI\\u002fCT0AK16NwPSpNQAAAAAAAYE9AzczMzMxsQUDD9Shcj2JPQEjhehSud1JAcT0K16OwTkBxPQrXozBBQFK4HoXrUUBAH4XrUbjeNEAK16NwPSpSQPYoXI\\u002fC9UxACtejcD1aUUApXI\\u002fC9ahQQJqZmZmZmUxAFK5H4XrUT0AUrkfhetRFQGZmZmZmZlFAcT0K16OQUEDsUbgehStQQM3MzMzM7FBAw\\u002fUoXI\\u002fCSkCuR+F6FE5AQOxRuB6Fa1FA7FG4HoWLSUC4HoXrUTg+QHE9Ctej0EZAhetRuB5FTECamZmZmRlRQAAAAAAAYExAuB6F61E4P0C4HoXrUZhLQM3MzMzMHFBAMzMzMzOzR0ApXI\\u002fC9ag8QFK4HoXrUUtAPQrXo3B9TUCF61G4HkU2QM3MzMzMjEtAzczMzMyMQ0D2KFyPwpVMQK5H4XoUDkZAUrgehetxSkCamZmZmTlAQHsUrkfh+kNAw\\u002fUoXI+CO0DhehSuR0FKQOF6FK5H4UdAcT0K16MQQkApXI\\u002fC9ShIQGZmZmZmhktAmpmZmZnZOEAfhetRuF5DQArXo3A9ik1Aj8L1KFzvQ0CuR+F6FM5OQNejcD0KFzFAhetRuB4lSEAzMzMzM7NKQMP1KFyP4kRAZmZmZmYGUEA9CtejcH0+QM3MzMzMjE1ArkfhehTuSECPwvUoXI8+QMP1KFyPwk9AUrgehetRRUBSuB6F6xFNQHsUrkfh+ktAFK5H4Xr0QkDhehSuRwFDQKRwPQrXA0hArkfhehTOSEAzMzMzM7M0QFyPwvUofExAcT0K16NQQkBxPQrXo3BDQJqZmZmZmUNAcT0K16MwQ0A9CtejcJ1KQHE9CtejUEpArkfhehROTECF61G4HuVLQPYoXI\\u002fClUFAAAAAAACAREBxPQrXo5BEQFyPwvUofElAAAAAAAAAPUAK16NwPUo9QClcj8L1KDBAhetRuB7FMEBmZmZmZsZFQKRwPQrXI0NAKVyPwvUoQUCF61G4HgU\\u002fQArXo3A9akJAzczMzMxMOUB7FK5H4fo6QA==\"},\"xaxis\":\"x\",\"y\":{\"dtype\":\"f8\",\"bdata\":\"9ihcj8IlV0CuR+F6FL5WQDMzMzMzU1dApHA9CtdjVkAK16NwPepXQFyPwvUozFZAFK5H4XoUWEApXI\\u002fC9ehWQHsUrkfh+lVAFK5H4XpEVUCuR+F6FL5WQLgehetR6FVAexSuR+H6VUBcj8L1KLxWQArXo3A9+lVAUrgehesxV0AzMzMzMwNXQHE9CtejcFVA7FG4HoUbUkA9CtejcD1XQEjhehSuh1VACtejcD1KVkAfhetRuL5UQEjhehSut1VAKVyPwvWoVkBSuB6F64FVQDMzMzMzg1ZA16NwPQpHVkBSuB6F68FUQMP1KFyPolVAKVyPwvVIVUBSuB6F67FVQM3MzMzMzE1AFK5H4XoUVEDhehSuR9FVQOF6FK5HkVFAj8L1KFyvVUDsUbgehdtTQDMzMzMzc1NAzczMzMwMVUApXI\\u002fC9RhVQDMzMzMz81RApHA9CtezUUCamZmZmUlTQJqZmZmZ6VRAPQrXo3C9VUAzMzMzMzNUQPYoXI\\u002fCtVJAzczMzMw8VEAK16NwPWpTQFK4HoXrAVNAMzMzMzPzU0D2KFyPwlVRQD0K16Nw\\u002fVBAcT0K16PwUkDsUbgehTtRQOF6FK5HAU5ArkfhehRuUUBSuB6F6+FQQEjhehSuR1NAH4XrUbieUUDD9Shcj6JQQNejcD0Kd1FAj8L1KFxvTkCamZmZmblSQFK4HoXrEU5A9ihcj8JlVEDD9Shcj+JPQPYoXI\\u002fCZVFAw\\u002fUoXI8yUkCF61G4HsVFQHsUrkfhqlNAZmZmZmZGUUBI4XoUridLQArXo3A9KkpAMzMzMzNjUkApXI\\u002fC9chJQIXrUbgexVFAmpmZmZmJUEBSuB6F63FUQOxRuB6FS0JAj8L1KFx\\u002fUkBmZmZmZgZSQD0K16NwHUdAZmZmZmbmUEDhehSuR6FRQI\\u002fC9Shc71NAj8L1KFyPUkBxPQrXo6BQQFyPwvUoXFJAzczMzMzMSkBcj8L1KLxPQI\\u002fC9Shc31BAmpmZmZn5UUCamZmZmdlGQK5H4XoUjlJAuB6F61G4TUAAAAAAAHBRQArXo3A96k1AKVyPwvX4UkCkcD0K14NOQLgehetRaFBAUrgehevxSUDD9Shcj3JQQGZmZmZmJkxAmpmZmZmJUEApXI\\u002fC9VhSQFK4HoXr0UdAzczMzMysUkApXI\\u002fC9ahQQFK4HoXrkU1AFK5H4Xo0TED2KFyPwpVRQD0K16Nw3U9AMzMzMzPjUkBSuB6F67FQQOxRuB6FK1BA9ihcj8KFUEB7FK5H4QpQQDMzMzMzU05AcT0K16MQSEBcj8L1KBxRQDMzMzMzI1JAj8L1KFxPSUA9CtejcH1QQClcj8L1yEtAMzMzMzODUEAzMzMzM7NSQOF6FK5HgUpA4XoUrkdhT0D2KFyPwtVQQDMzMzMzk1BACtejcD2qUECkcD0K1wNPQFK4HoXr8UdAcT0K16MQRUCPwvUoXO9NQAAAAAAAoE9APQrXo3C9T0BxPQrXo\\u002fA6QPYoXI\\u002fC1U1AZmZmZmamQ0DNzMzMzGxCQHE9Ctej8E9AmpmZmZk5REApXI\\u002fC9Sg+QFyPwvUoXEJA4XoUrkfhSkDXo3A9CvdSQB+F61G4HktAhetRuB4FQUC4HoXrUXhJQI\\u002fC9Shcz0RAmpmZmZnpUEAK16NwPapOQDMzMzMzU0xArkfhehTOQ0CkcD0K16NAQFyPwvUoHDdASOF6FK4HSkAK16NwPco\\u002fQGZmZmZmhkdAKVyPwvXoP0CuR+F6FO40QGZmZmZmpkFAmpmZmZmZNkAK16NwPYowQA==\"},\"yaxis\":\"y\",\"type\":\"scatter\"}],                        {\"template\":{\"data\":{\"histogram2dcontour\":[{\"type\":\"histogram2dcontour\",\"colorbar\":{\"outlinewidth\":0,\"ticks\":\"\"},\"colorscale\":[[0.0,\"#0d0887\"],[0.1111111111111111,\"#46039f\"],[0.2222222222222222,\"#7201a8\"],[0.3333333333333333,\"#9c179e\"],[0.4444444444444444,\"#bd3786\"],[0.5555555555555556,\"#d8576b\"],[0.6666666666666666,\"#ed7953\"],[0.7777777777777778,\"#fb9f3a\"],[0.8888888888888888,\"#fdca26\"],[1.0,\"#f0f921\"]]}],\"choropleth\":[{\"type\":\"choropleth\",\"colorbar\":{\"outlinewidth\":0,\"ticks\":\"\"}}],\"histogram2d\":[{\"type\":\"histogram2d\",\"colorbar\":{\"outlinewidth\":0,\"ticks\":\"\"},\"colorscale\":[[0.0,\"#0d0887\"],[0.1111111111111111,\"#46039f\"],[0.2222222222222222,\"#7201a8\"],[0.3333333333333333,\"#9c179e\"],[0.4444444444444444,\"#bd3786\"],[0.5555555555555556,\"#d8576b\"],[0.6666666666666666,\"#ed7953\"],[0.7777777777777778,\"#fb9f3a\"],[0.8888888888888888,\"#fdca26\"],[1.0,\"#f0f921\"]]}],\"heatmap\":[{\"type\":\"heatmap\",\"colorbar\":{\"outlinewidth\":0,\"ticks\":\"\"},\"colorscale\":[[0.0,\"#0d0887\"],[0.1111111111111111,\"#46039f\"],[0.2222222222222222,\"#7201a8\"],[0.3333333333333333,\"#9c179e\"],[0.4444444444444444,\"#bd3786\"],[0.5555555555555556,\"#d8576b\"],[0.6666666666666666,\"#ed7953\"],[0.7777777777777778,\"#fb9f3a\"],[0.8888888888888888,\"#fdca26\"],[1.0,\"#f0f921\"]]}],\"contourcarpet\":[{\"type\":\"contourcarpet\",\"colorbar\":{\"outlinewidth\":0,\"ticks\":\"\"}}],\"contour\":[{\"type\":\"contour\",\"colorbar\":{\"outlinewidth\":0,\"ticks\":\"\"},\"colorscale\":[[0.0,\"#0d0887\"],[0.1111111111111111,\"#46039f\"],[0.2222222222222222,\"#7201a8\"],[0.3333333333333333,\"#9c179e\"],[0.4444444444444444,\"#bd3786\"],[0.5555555555555556,\"#d8576b\"],[0.6666666666666666,\"#ed7953\"],[0.7777777777777778,\"#fb9f3a\"],[0.8888888888888888,\"#fdca26\"],[1.0,\"#f0f921\"]]}],\"surface\":[{\"type\":\"surface\",\"colorbar\":{\"outlinewidth\":0,\"ticks\":\"\"},\"colorscale\":[[0.0,\"#0d0887\"],[0.1111111111111111,\"#46039f\"],[0.2222222222222222,\"#7201a8\"],[0.3333333333333333,\"#9c179e\"],[0.4444444444444444,\"#bd3786\"],[0.5555555555555556,\"#d8576b\"],[0.6666666666666666,\"#ed7953\"],[0.7777777777777778,\"#fb9f3a\"],[0.8888888888888888,\"#fdca26\"],[1.0,\"#f0f921\"]]}],\"mesh3d\":[{\"type\":\"mesh3d\",\"colorbar\":{\"outlinewidth\":0,\"ticks\":\"\"}}],\"scatter\":[{\"fillpattern\":{\"fillmode\":\"overlay\",\"size\":10,\"solidity\":0.2},\"type\":\"scatter\"}],\"parcoords\":[{\"type\":\"parcoords\",\"line\":{\"colorbar\":{\"outlinewidth\":0,\"ticks\":\"\"}}}],\"scatterpolargl\":[{\"type\":\"scatterpolargl\",\"marker\":{\"colorbar\":{\"outlinewidth\":0,\"ticks\":\"\"}}}],\"bar\":[{\"error_x\":{\"color\":\"#2a3f5f\"},\"error_y\":{\"color\":\"#2a3f5f\"},\"marker\":{\"line\":{\"color\":\"#E5ECF6\",\"width\":0.5},\"pattern\":{\"fillmode\":\"overlay\",\"size\":10,\"solidity\":0.2}},\"type\":\"bar\"}],\"scattergeo\":[{\"type\":\"scattergeo\",\"marker\":{\"colorbar\":{\"outlinewidth\":0,\"ticks\":\"\"}}}],\"scatterpolar\":[{\"type\":\"scatterpolar\",\"marker\":{\"colorbar\":{\"outlinewidth\":0,\"ticks\":\"\"}}}],\"histogram\":[{\"marker\":{\"pattern\":{\"fillmode\":\"overlay\",\"size\":10,\"solidity\":0.2}},\"type\":\"histogram\"}],\"scattergl\":[{\"type\":\"scattergl\",\"marker\":{\"colorbar\":{\"outlinewidth\":0,\"ticks\":\"\"}}}],\"scatter3d\":[{\"type\":\"scatter3d\",\"line\":{\"colorbar\":{\"outlinewidth\":0,\"ticks\":\"\"}},\"marker\":{\"colorbar\":{\"outlinewidth\":0,\"ticks\":\"\"}}}],\"scattermap\":[{\"type\":\"scattermap\",\"marker\":{\"colorbar\":{\"outlinewidth\":0,\"ticks\":\"\"}}}],\"scattermapbox\":[{\"type\":\"scattermapbox\",\"marker\":{\"colorbar\":{\"outlinewidth\":0,\"ticks\":\"\"}}}],\"scatterternary\":[{\"type\":\"scatterternary\",\"marker\":{\"colorbar\":{\"outlinewidth\":0,\"ticks\":\"\"}}}],\"scattercarpet\":[{\"type\":\"scattercarpet\",\"marker\":{\"colorbar\":{\"outlinewidth\":0,\"ticks\":\"\"}}}],\"carpet\":[{\"aaxis\":{\"endlinecolor\":\"#2a3f5f\",\"gridcolor\":\"white\",\"linecolor\":\"white\",\"minorgridcolor\":\"white\",\"startlinecolor\":\"#2a3f5f\"},\"baxis\":{\"endlinecolor\":\"#2a3f5f\",\"gridcolor\":\"white\",\"linecolor\":\"white\",\"minorgridcolor\":\"white\",\"startlinecolor\":\"#2a3f5f\"},\"type\":\"carpet\"}],\"table\":[{\"cells\":{\"fill\":{\"color\":\"#EBF0F8\"},\"line\":{\"color\":\"white\"}},\"header\":{\"fill\":{\"color\":\"#C8D4E3\"},\"line\":{\"color\":\"white\"}},\"type\":\"table\"}],\"barpolar\":[{\"marker\":{\"line\":{\"color\":\"#E5ECF6\",\"width\":0.5},\"pattern\":{\"fillmode\":\"overlay\",\"size\":10,\"solidity\":0.2}},\"type\":\"barpolar\"}],\"pie\":[{\"automargin\":true,\"type\":\"pie\"}]},\"layout\":{\"autotypenumbers\":\"strict\",\"colorway\":[\"#636efa\",\"#EF553B\",\"#00cc96\",\"#ab63fa\",\"#FFA15A\",\"#19d3f3\",\"#FF6692\",\"#B6E880\",\"#FF97FF\",\"#FECB52\"],\"font\":{\"color\":\"#2a3f5f\"},\"hovermode\":\"closest\",\"hoverlabel\":{\"align\":\"left\"},\"paper_bgcolor\":\"white\",\"plot_bgcolor\":\"#E5ECF6\",\"polar\":{\"bgcolor\":\"#E5ECF6\",\"angularaxis\":{\"gridcolor\":\"white\",\"linecolor\":\"white\",\"ticks\":\"\"},\"radialaxis\":{\"gridcolor\":\"white\",\"linecolor\":\"white\",\"ticks\":\"\"}},\"ternary\":{\"bgcolor\":\"#E5ECF6\",\"aaxis\":{\"gridcolor\":\"white\",\"linecolor\":\"white\",\"ticks\":\"\"},\"baxis\":{\"gridcolor\":\"white\",\"linecolor\":\"white\",\"ticks\":\"\"},\"caxis\":{\"gridcolor\":\"white\",\"linecolor\":\"white\",\"ticks\":\"\"}},\"coloraxis\":{\"colorbar\":{\"outlinewidth\":0,\"ticks\":\"\"}},\"colorscale\":{\"sequential\":[[0.0,\"#0d0887\"],[0.1111111111111111,\"#46039f\"],[0.2222222222222222,\"#7201a8\"],[0.3333333333333333,\"#9c179e\"],[0.4444444444444444,\"#bd3786\"],[0.5555555555555556,\"#d8576b\"],[0.6666666666666666,\"#ed7953\"],[0.7777777777777778,\"#fb9f3a\"],[0.8888888888888888,\"#fdca26\"],[1.0,\"#f0f921\"]],\"sequentialminus\":[[0.0,\"#0d0887\"],[0.1111111111111111,\"#46039f\"],[0.2222222222222222,\"#7201a8\"],[0.3333333333333333,\"#9c179e\"],[0.4444444444444444,\"#bd3786\"],[0.5555555555555556,\"#d8576b\"],[0.6666666666666666,\"#ed7953\"],[0.7777777777777778,\"#fb9f3a\"],[0.8888888888888888,\"#fdca26\"],[1.0,\"#f0f921\"]],\"diverging\":[[0,\"#8e0152\"],[0.1,\"#c51b7d\"],[0.2,\"#de77ae\"],[0.3,\"#f1b6da\"],[0.4,\"#fde0ef\"],[0.5,\"#f7f7f7\"],[0.6,\"#e6f5d0\"],[0.7,\"#b8e186\"],[0.8,\"#7fbc41\"],[0.9,\"#4d9221\"],[1,\"#276419\"]]},\"xaxis\":{\"gridcolor\":\"white\",\"linecolor\":\"white\",\"ticks\":\"\",\"title\":{\"standoff\":15},\"zerolinecolor\":\"white\",\"automargin\":true,\"zerolinewidth\":2},\"yaxis\":{\"gridcolor\":\"white\",\"linecolor\":\"white\",\"ticks\":\"\",\"title\":{\"standoff\":15},\"zerolinecolor\":\"white\",\"automargin\":true,\"zerolinewidth\":2},\"scene\":{\"xaxis\":{\"backgroundcolor\":\"#E5ECF6\",\"gridcolor\":\"white\",\"linecolor\":\"white\",\"showbackground\":true,\"ticks\":\"\",\"zerolinecolor\":\"white\",\"gridwidth\":2},\"yaxis\":{\"backgroundcolor\":\"#E5ECF6\",\"gridcolor\":\"white\",\"linecolor\":\"white\",\"showbackground\":true,\"ticks\":\"\",\"zerolinecolor\":\"white\",\"gridwidth\":2},\"zaxis\":{\"backgroundcolor\":\"#E5ECF6\",\"gridcolor\":\"white\",\"linecolor\":\"white\",\"showbackground\":true,\"ticks\":\"\",\"zerolinecolor\":\"white\",\"gridwidth\":2}},\"shapedefaults\":{\"line\":{\"color\":\"#2a3f5f\"}},\"annotationdefaults\":{\"arrowcolor\":\"#2a3f5f\",\"arrowhead\":0,\"arrowwidth\":1},\"geo\":{\"bgcolor\":\"white\",\"landcolor\":\"#E5ECF6\",\"subunitcolor\":\"white\",\"showland\":true,\"showlakes\":true,\"lakecolor\":\"white\"},\"title\":{\"x\":0.05},\"mapbox\":{\"style\":\"light\"}}},\"xaxis\":{\"anchor\":\"y\",\"domain\":[0.0,1.0],\"title\":{\"text\":\"PersonelFreedom\"}},\"yaxis\":{\"anchor\":\"x\",\"domain\":[0.0,1.0],\"title\":{\"text\":\"SafetySecurity\"}},\"coloraxis\":{\"colorbar\":{\"title\":{\"text\":\"Governance\"}},\"colorscale\":[[0.0,\"#0d0887\"],[0.1111111111111111,\"#46039f\"],[0.2222222222222222,\"#7201a8\"],[0.3333333333333333,\"#9c179e\"],[0.4444444444444444,\"#bd3786\"],[0.5555555555555556,\"#d8576b\"],[0.6666666666666666,\"#ed7953\"],[0.7777777777777778,\"#fb9f3a\"],[0.8888888888888888,\"#fdca26\"],[1.0,\"#f0f921\"]]},\"legend\":{\"tracegroupgap\":0,\"itemsizing\":\"constant\"},\"margin\":{\"t\":60}},                        {\"responsive\": true}                    ).then(function(){\n",
       "                            \n",
       "var gd = document.getElementById('c045c994-0fe5-4361-afcf-657afc439269');\n",
       "var x = new MutationObserver(function (mutations, observer) {{\n",
       "        var display = window.getComputedStyle(gd).display;\n",
       "        if (!display || display === 'none') {{\n",
       "            console.log([gd, 'removed!']);\n",
       "            Plotly.purge(gd);\n",
       "            observer.disconnect();\n",
       "        }}\n",
       "}});\n",
       "\n",
       "// Listen for the removal of the full notebook cells\n",
       "var notebookContainer = gd.closest('#notebook-container');\n",
       "if (notebookContainer) {{\n",
       "    x.observe(notebookContainer, {childList: true});\n",
       "}}\n",
       "\n",
       "// Listen for the clearing of the current output cell\n",
       "var outputEl = gd.closest('.output');\n",
       "if (outputEl) {{\n",
       "    x.observe(outputEl, {childList: true});\n",
       "}}\n",
       "\n",
       "                        })                };            </script>        </div>"
      ]
     },
     "metadata": {},
     "output_type": "display_data"
    }
   ],
   "source": [
    "print(cntr['Governance'].corr(cntr['SafetySecurity']))\n",
    "print(cntr['Governance'].corr(cntr['PersonelFreedom']))\n",
    "fig = px.scatter(cntr, y = 'SafetySecurity', x = 'PersonelFreedom', hover_name = 'Country', color = 'Governance', size = 'Governance')\n",
    "fig.show()"
   ]
  },
  {
   "cell_type": "markdown",
   "id": "e6494acd-1528-473b-bdda-e6cbb1e6f27d",
   "metadata": {},
   "source": [
    "<h2>На графике очевидна зависимость<h2>"
   ]
  },
  {
   "cell_type": "markdown",
   "id": "e7e904d2-aa3a-4147-9c9f-b6c25a104865",
   "metadata": {},
   "source": [
    "<h2>Далее, посмотрим, как системы образования и здравоохранения влияет на уровень жизни (LivingConditions)<h2>"
   ]
  },
  {
   "cell_type": "code",
   "execution_count": 35,
   "id": "845a65d2-38ff-4218-b0ee-1c9ac34b519d",
   "metadata": {},
   "outputs": [
    {
     "name": "stdout",
     "output_type": "stream",
     "text": [
      "0.9032194407611616\n",
      "0.9378221751906275\n"
     ]
    },
    {
     "data": {
      "application/vnd.plotly.v1+json": {
       "config": {
        "plotlyServerURL": "https://plot.ly"
       },
       "data": [
        {
         "coloraxis": "coloraxis",
         "histfunc": "avg",
         "hovertemplate": "Health=%{x}<br>Education=%{y}<br>avg of LivingConditions=%{z}<extra></extra>",
         "name": "",
         "texttemplate": "%{z}",
         "type": "histogram2d",
         "x": [
          81.07,
          82.28,
          82.98,
          81.19,
          82.11,
          82.05,
          81.59,
          82.72,
          81.41,
          79.84,
          80.04,
          78.31,
          78.88,
          80.23,
          80.36,
          86.5,
          86.89,
          80.6,
          73.26,
          83.37,
          77.71,
          81.33,
          80.46,
          79.66,
          79.49,
          77.44,
          79.88,
          80.54,
          84.8,
          80.9,
          74.52,
          74.43,
          83.1,
          79.23,
          76.74,
          76.06,
          76.31,
          77.98,
          79.09,
          77.43,
          75.74,
          76.7,
          77.35,
          78.38,
          73.02,
          77.64,
          71.86,
          74.11,
          68.44,
          75.1,
          77.44,
          71.93,
          70.64,
          83.11,
          72.63,
          74.13,
          73.83,
          74.45,
          75.81,
          77.33,
          73.48,
          76.24,
          71.13,
          78.92,
          73.95,
          71.68,
          75.44,
          70.64,
          72.23,
          70.57,
          73.09,
          70.5,
          76.99,
          68.71,
          59.9,
          70.84,
          71.38,
          74.34,
          75.34,
          72.75,
          77.78,
          60.8,
          59.07,
          70.06,
          71.8,
          68.92,
          70.54,
          66.74,
          62.47,
          60.64,
          76.58,
          71.25,
          70.61,
          72.46,
          74.19,
          71.17,
          69.35,
          63.08,
          72.05,
          76.28,
          68.33,
          64.44,
          66.16,
          79.53,
          69.01,
          66.02,
          75.59,
          65.21,
          73.22,
          63.87,
          64.6,
          68.65,
          72.46,
          72.1,
          66.38,
          56.18,
          60.07,
          70.58,
          56.07,
          51.81,
          67.2,
          60.55,
          53.5,
          67.39,
          61.01,
          74.93,
          57.2,
          59.6,
          58.49,
          52.87,
          50.41,
          41.3,
          55.09,
          48.43,
          58.72,
          60.78,
          54.12,
          48.64,
          55.46,
          64.62,
          48.65,
          50.12,
          66.74,
          48.26,
          69.61,
          67.84,
          51.02,
          54.1,
          50.87,
          52.84,
          54.47,
          54.6,
          60.91,
          56.74,
          49.88,
          52.93,
          58.16,
          60.55,
          67.16,
          57.49,
          50.9,
          39.17,
          44.38,
          50.91,
          31.95,
          57.45,
          35.69
         ],
         "xaxis": "x",
         "xbingroup": "x",
         "y": [
          87.48,
          85.92,
          85.68,
          88.38,
          87.72,
          86.43,
          78.79,
          85.19,
          83.45,
          83.89,
          85,
          84.81,
          84.19,
          81.93,
          85.99,
          84.93,
          91.44,
          84.79,
          83.15,
          84.61,
          82.19,
          85.81,
          81.27,
          80.98,
          80.66,
          77.64,
          81.8,
          78.33,
          87.76,
          80,
          81.36,
          81.8,
          81.63,
          79.14,
          72.75,
          73.47,
          78.63,
          70.64,
          71.71,
          79.34,
          73.54,
          77.34,
          72.94,
          74.72,
          70.47,
          69.15,
          68.68,
          72.79,
          71.69,
          57.63,
          66.43,
          73.02,
          72.33,
          70.42,
          61.04,
          65.96,
          64.13,
          69.25,
          64.96,
          64.29,
          69.19,
          68.65,
          60.93,
          64.9,
          70.07,
          59.71,
          62,
          55.55,
          78.8,
          71.02,
          63.93,
          61.93,
          66.56,
          77.58,
          52.56,
          52.1,
          81.87,
          81.24,
          67.77,
          53.96,
          63.33,
          56.49,
          54.5,
          61.55,
          62.24,
          60.79,
          48.95,
          69.12,
          56.87,
          49,
          65.06,
          63.49,
          51.09,
          61.57,
          64.77,
          45.25,
          49.93,
          45.75,
          56.9,
          64.78,
          44.76,
          32.88,
          50.46,
          70.43,
          46.06,
          57.18,
          66.56,
          48.21,
          59.57,
          45.68,
          39.13,
          67.08,
          62.59,
          45.6,
          48.89,
          34.68,
          42.57,
          43.25,
          50.39,
          37.15,
          51.06,
          39.32,
          36.85,
          44.19,
          33.93,
          63.75,
          39.04,
          38.22,
          37.24,
          35.4,
          42.96,
          45.03,
          39.99,
          44.52,
          22.03,
          35.41,
          33.76,
          25.05,
          56.03,
          45.44,
          27.83,
          37.5,
          47.83,
          30.75,
          61.1,
          48.82,
          47.74,
          47.62,
          19.96,
          24.36,
          19.61,
          16.78,
          31.56,
          28.27,
          29.61,
          34.22,
          31.06,
          34.11,
          43.01,
          29.23,
          33.61,
          17.58,
          26.32,
          27.11,
          18.62,
          28.12,
          18.99
         ],
         "yaxis": "y",
         "ybingroup": "y",
         "z": [
          95.77,
          95.33,
          94.7,
          94.46,
          94.66,
          95.86,
          94.56,
          93.82,
          94.42,
          90.66,
          92.65,
          94.16,
          93.49,
          92.51,
          93.06,
          92.86,
          93.35,
          92.78,
          90.74,
          90.22,
          91.95,
          91.36,
          92.61,
          93.81,
          91.64,
          91.85,
          91.23,
          92.98,
          91.47,
          91.51,
          87.88,
          88.11,
          93.5,
          90.17,
          89.47,
          87.7,
          90.01,
          86.04,
          81.25,
          89.75,
          88.5,
          88.37,
          79.52,
          84.88,
          82.3,
          84.84,
          80.22,
          83.43,
          83.71,
          76.36,
          79.59,
          87.69,
          76.55,
          85.05,
          83.35,
          82.25,
          78.19,
          82.08,
          69.55,
          87.69,
          77.05,
          85.99,
          69.55,
          78.34,
          76.17,
          81.37,
          78.6,
          73.4,
          82.44,
          79.75,
          74.22,
          84.38,
          71.8,
          78.05,
          68.31,
          76.09,
          78.5,
          86.26,
          77.87,
          69.14,
          73.18,
          78.16,
          59.67,
          64.56,
          69.69,
          80.08,
          60.41,
          66.51,
          74.54,
          56.79,
          67.1,
          78.82,
          72.34,
          74.77,
          80.96,
          70.75,
          72.51,
          58.9,
          78.07,
          67.27,
          59.96,
          58.2,
          55.9,
          76.96,
          63.61,
          68.72,
          78.72,
          49.52,
          78.24,
          56.11,
          41.62,
          74.77,
          66.87,
          64.36,
          57.21,
          53.87,
          47.52,
          55.21,
          66.48,
          54.32,
          71.7,
          58.16,
          45.17,
          57.09,
          37.18,
          76.11,
          40.82,
          48.06,
          46.42,
          34.37,
          58.86,
          45.31,
          46.01,
          55.76,
          40.49,
          58.13,
          30,
          44.21,
          47.34,
          73.61,
          40.64,
          49.22,
          52.94,
          36.43,
          69.82,
          71.57,
          47.74,
          48.23,
          38.39,
          35.81,
          47.73,
          31.89,
          42.06,
          55.9,
          44.33,
          41.26,
          27.78,
          47.41,
          66.86,
          30.78,
          30.65,
          31.32,
          32.07,
          39.74,
          19.21,
          41.58,
          21.99
         ]
        }
       ],
       "layout": {
        "autosize": true,
        "coloraxis": {
         "colorbar": {
          "title": {
           "text": "avg of LivingConditions"
          }
         },
         "colorscale": [
          [
           0,
           "#0d0887"
          ],
          [
           0.1111111111111111,
           "#46039f"
          ],
          [
           0.2222222222222222,
           "#7201a8"
          ],
          [
           0.3333333333333333,
           "#9c179e"
          ],
          [
           0.4444444444444444,
           "#bd3786"
          ],
          [
           0.5555555555555556,
           "#d8576b"
          ],
          [
           0.6666666666666666,
           "#ed7953"
          ],
          [
           0.7777777777777778,
           "#fb9f3a"
          ],
          [
           0.8888888888888888,
           "#fdca26"
          ],
          [
           1,
           "#f0f921"
          ]
         ]
        },
        "legend": {
         "tracegroupgap": 0
        },
        "margin": {
         "t": 60
        },
        "template": {
         "data": {
          "bar": [
           {
            "error_x": {
             "color": "#2a3f5f"
            },
            "error_y": {
             "color": "#2a3f5f"
            },
            "marker": {
             "line": {
              "color": "#E5ECF6",
              "width": 0.5
             },
             "pattern": {
              "fillmode": "overlay",
              "size": 10,
              "solidity": 0.2
             }
            },
            "type": "bar"
           }
          ],
          "barpolar": [
           {
            "marker": {
             "line": {
              "color": "#E5ECF6",
              "width": 0.5
             },
             "pattern": {
              "fillmode": "overlay",
              "size": 10,
              "solidity": 0.2
             }
            },
            "type": "barpolar"
           }
          ],
          "carpet": [
           {
            "aaxis": {
             "endlinecolor": "#2a3f5f",
             "gridcolor": "white",
             "linecolor": "white",
             "minorgridcolor": "white",
             "startlinecolor": "#2a3f5f"
            },
            "baxis": {
             "endlinecolor": "#2a3f5f",
             "gridcolor": "white",
             "linecolor": "white",
             "minorgridcolor": "white",
             "startlinecolor": "#2a3f5f"
            },
            "type": "carpet"
           }
          ],
          "choropleth": [
           {
            "colorbar": {
             "outlinewidth": 0,
             "ticks": ""
            },
            "type": "choropleth"
           }
          ],
          "contour": [
           {
            "colorbar": {
             "outlinewidth": 0,
             "ticks": ""
            },
            "colorscale": [
             [
              0,
              "#0d0887"
             ],
             [
              0.1111111111111111,
              "#46039f"
             ],
             [
              0.2222222222222222,
              "#7201a8"
             ],
             [
              0.3333333333333333,
              "#9c179e"
             ],
             [
              0.4444444444444444,
              "#bd3786"
             ],
             [
              0.5555555555555556,
              "#d8576b"
             ],
             [
              0.6666666666666666,
              "#ed7953"
             ],
             [
              0.7777777777777778,
              "#fb9f3a"
             ],
             [
              0.8888888888888888,
              "#fdca26"
             ],
             [
              1,
              "#f0f921"
             ]
            ],
            "type": "contour"
           }
          ],
          "contourcarpet": [
           {
            "colorbar": {
             "outlinewidth": 0,
             "ticks": ""
            },
            "type": "contourcarpet"
           }
          ],
          "heatmap": [
           {
            "colorbar": {
             "outlinewidth": 0,
             "ticks": ""
            },
            "colorscale": [
             [
              0,
              "#0d0887"
             ],
             [
              0.1111111111111111,
              "#46039f"
             ],
             [
              0.2222222222222222,
              "#7201a8"
             ],
             [
              0.3333333333333333,
              "#9c179e"
             ],
             [
              0.4444444444444444,
              "#bd3786"
             ],
             [
              0.5555555555555556,
              "#d8576b"
             ],
             [
              0.6666666666666666,
              "#ed7953"
             ],
             [
              0.7777777777777778,
              "#fb9f3a"
             ],
             [
              0.8888888888888888,
              "#fdca26"
             ],
             [
              1,
              "#f0f921"
             ]
            ],
            "type": "heatmap"
           }
          ],
          "heatmapgl": [
           {
            "colorbar": {
             "outlinewidth": 0,
             "ticks": ""
            },
            "colorscale": [
             [
              0,
              "#0d0887"
             ],
             [
              0.1111111111111111,
              "#46039f"
             ],
             [
              0.2222222222222222,
              "#7201a8"
             ],
             [
              0.3333333333333333,
              "#9c179e"
             ],
             [
              0.4444444444444444,
              "#bd3786"
             ],
             [
              0.5555555555555556,
              "#d8576b"
             ],
             [
              0.6666666666666666,
              "#ed7953"
             ],
             [
              0.7777777777777778,
              "#fb9f3a"
             ],
             [
              0.8888888888888888,
              "#fdca26"
             ],
             [
              1,
              "#f0f921"
             ]
            ],
            "type": "heatmapgl"
           }
          ],
          "histogram": [
           {
            "marker": {
             "pattern": {
              "fillmode": "overlay",
              "size": 10,
              "solidity": 0.2
             }
            },
            "type": "histogram"
           }
          ],
          "histogram2d": [
           {
            "colorbar": {
             "outlinewidth": 0,
             "ticks": ""
            },
            "colorscale": [
             [
              0,
              "#0d0887"
             ],
             [
              0.1111111111111111,
              "#46039f"
             ],
             [
              0.2222222222222222,
              "#7201a8"
             ],
             [
              0.3333333333333333,
              "#9c179e"
             ],
             [
              0.4444444444444444,
              "#bd3786"
             ],
             [
              0.5555555555555556,
              "#d8576b"
             ],
             [
              0.6666666666666666,
              "#ed7953"
             ],
             [
              0.7777777777777778,
              "#fb9f3a"
             ],
             [
              0.8888888888888888,
              "#fdca26"
             ],
             [
              1,
              "#f0f921"
             ]
            ],
            "type": "histogram2d"
           }
          ],
          "histogram2dcontour": [
           {
            "colorbar": {
             "outlinewidth": 0,
             "ticks": ""
            },
            "colorscale": [
             [
              0,
              "#0d0887"
             ],
             [
              0.1111111111111111,
              "#46039f"
             ],
             [
              0.2222222222222222,
              "#7201a8"
             ],
             [
              0.3333333333333333,
              "#9c179e"
             ],
             [
              0.4444444444444444,
              "#bd3786"
             ],
             [
              0.5555555555555556,
              "#d8576b"
             ],
             [
              0.6666666666666666,
              "#ed7953"
             ],
             [
              0.7777777777777778,
              "#fb9f3a"
             ],
             [
              0.8888888888888888,
              "#fdca26"
             ],
             [
              1,
              "#f0f921"
             ]
            ],
            "type": "histogram2dcontour"
           }
          ],
          "mesh3d": [
           {
            "colorbar": {
             "outlinewidth": 0,
             "ticks": ""
            },
            "type": "mesh3d"
           }
          ],
          "parcoords": [
           {
            "line": {
             "colorbar": {
              "outlinewidth": 0,
              "ticks": ""
             }
            },
            "type": "parcoords"
           }
          ],
          "pie": [
           {
            "automargin": true,
            "type": "pie"
           }
          ],
          "scatter": [
           {
            "fillpattern": {
             "fillmode": "overlay",
             "size": 10,
             "solidity": 0.2
            },
            "type": "scatter"
           }
          ],
          "scatter3d": [
           {
            "line": {
             "colorbar": {
              "outlinewidth": 0,
              "ticks": ""
             }
            },
            "marker": {
             "colorbar": {
              "outlinewidth": 0,
              "ticks": ""
             }
            },
            "type": "scatter3d"
           }
          ],
          "scattercarpet": [
           {
            "marker": {
             "colorbar": {
              "outlinewidth": 0,
              "ticks": ""
             }
            },
            "type": "scattercarpet"
           }
          ],
          "scattergeo": [
           {
            "marker": {
             "colorbar": {
              "outlinewidth": 0,
              "ticks": ""
             }
            },
            "type": "scattergeo"
           }
          ],
          "scattergl": [
           {
            "marker": {
             "colorbar": {
              "outlinewidth": 0,
              "ticks": ""
             }
            },
            "type": "scattergl"
           }
          ],
          "scattermapbox": [
           {
            "marker": {
             "colorbar": {
              "outlinewidth": 0,
              "ticks": ""
             }
            },
            "type": "scattermapbox"
           }
          ],
          "scatterpolar": [
           {
            "marker": {
             "colorbar": {
              "outlinewidth": 0,
              "ticks": ""
             }
            },
            "type": "scatterpolar"
           }
          ],
          "scatterpolargl": [
           {
            "marker": {
             "colorbar": {
              "outlinewidth": 0,
              "ticks": ""
             }
            },
            "type": "scatterpolargl"
           }
          ],
          "scatterternary": [
           {
            "marker": {
             "colorbar": {
              "outlinewidth": 0,
              "ticks": ""
             }
            },
            "type": "scatterternary"
           }
          ],
          "surface": [
           {
            "colorbar": {
             "outlinewidth": 0,
             "ticks": ""
            },
            "colorscale": [
             [
              0,
              "#0d0887"
             ],
             [
              0.1111111111111111,
              "#46039f"
             ],
             [
              0.2222222222222222,
              "#7201a8"
             ],
             [
              0.3333333333333333,
              "#9c179e"
             ],
             [
              0.4444444444444444,
              "#bd3786"
             ],
             [
              0.5555555555555556,
              "#d8576b"
             ],
             [
              0.6666666666666666,
              "#ed7953"
             ],
             [
              0.7777777777777778,
              "#fb9f3a"
             ],
             [
              0.8888888888888888,
              "#fdca26"
             ],
             [
              1,
              "#f0f921"
             ]
            ],
            "type": "surface"
           }
          ],
          "table": [
           {
            "cells": {
             "fill": {
              "color": "#EBF0F8"
             },
             "line": {
              "color": "white"
             }
            },
            "header": {
             "fill": {
              "color": "#C8D4E3"
             },
             "line": {
              "color": "white"
             }
            },
            "type": "table"
           }
          ]
         },
         "layout": {
          "annotationdefaults": {
           "arrowcolor": "#2a3f5f",
           "arrowhead": 0,
           "arrowwidth": 1
          },
          "autotypenumbers": "strict",
          "coloraxis": {
           "colorbar": {
            "outlinewidth": 0,
            "ticks": ""
           }
          },
          "colorscale": {
           "diverging": [
            [
             0,
             "#8e0152"
            ],
            [
             0.1,
             "#c51b7d"
            ],
            [
             0.2,
             "#de77ae"
            ],
            [
             0.3,
             "#f1b6da"
            ],
            [
             0.4,
             "#fde0ef"
            ],
            [
             0.5,
             "#f7f7f7"
            ],
            [
             0.6,
             "#e6f5d0"
            ],
            [
             0.7,
             "#b8e186"
            ],
            [
             0.8,
             "#7fbc41"
            ],
            [
             0.9,
             "#4d9221"
            ],
            [
             1,
             "#276419"
            ]
           ],
           "sequential": [
            [
             0,
             "#0d0887"
            ],
            [
             0.1111111111111111,
             "#46039f"
            ],
            [
             0.2222222222222222,
             "#7201a8"
            ],
            [
             0.3333333333333333,
             "#9c179e"
            ],
            [
             0.4444444444444444,
             "#bd3786"
            ],
            [
             0.5555555555555556,
             "#d8576b"
            ],
            [
             0.6666666666666666,
             "#ed7953"
            ],
            [
             0.7777777777777778,
             "#fb9f3a"
            ],
            [
             0.8888888888888888,
             "#fdca26"
            ],
            [
             1,
             "#f0f921"
            ]
           ],
           "sequentialminus": [
            [
             0,
             "#0d0887"
            ],
            [
             0.1111111111111111,
             "#46039f"
            ],
            [
             0.2222222222222222,
             "#7201a8"
            ],
            [
             0.3333333333333333,
             "#9c179e"
            ],
            [
             0.4444444444444444,
             "#bd3786"
            ],
            [
             0.5555555555555556,
             "#d8576b"
            ],
            [
             0.6666666666666666,
             "#ed7953"
            ],
            [
             0.7777777777777778,
             "#fb9f3a"
            ],
            [
             0.8888888888888888,
             "#fdca26"
            ],
            [
             1,
             "#f0f921"
            ]
           ]
          },
          "colorway": [
           "#636efa",
           "#EF553B",
           "#00cc96",
           "#ab63fa",
           "#FFA15A",
           "#19d3f3",
           "#FF6692",
           "#B6E880",
           "#FF97FF",
           "#FECB52"
          ],
          "font": {
           "color": "#2a3f5f"
          },
          "geo": {
           "bgcolor": "white",
           "lakecolor": "white",
           "landcolor": "#E5ECF6",
           "showlakes": true,
           "showland": true,
           "subunitcolor": "white"
          },
          "hoverlabel": {
           "align": "left"
          },
          "hovermode": "closest",
          "mapbox": {
           "style": "light"
          },
          "paper_bgcolor": "white",
          "plot_bgcolor": "#E5ECF6",
          "polar": {
           "angularaxis": {
            "gridcolor": "white",
            "linecolor": "white",
            "ticks": ""
           },
           "bgcolor": "#E5ECF6",
           "radialaxis": {
            "gridcolor": "white",
            "linecolor": "white",
            "ticks": ""
           }
          },
          "scene": {
           "xaxis": {
            "backgroundcolor": "#E5ECF6",
            "gridcolor": "white",
            "gridwidth": 2,
            "linecolor": "white",
            "showbackground": true,
            "ticks": "",
            "zerolinecolor": "white"
           },
           "yaxis": {
            "backgroundcolor": "#E5ECF6",
            "gridcolor": "white",
            "gridwidth": 2,
            "linecolor": "white",
            "showbackground": true,
            "ticks": "",
            "zerolinecolor": "white"
           },
           "zaxis": {
            "backgroundcolor": "#E5ECF6",
            "gridcolor": "white",
            "gridwidth": 2,
            "linecolor": "white",
            "showbackground": true,
            "ticks": "",
            "zerolinecolor": "white"
           }
          },
          "shapedefaults": {
           "line": {
            "color": "#2a3f5f"
           }
          },
          "ternary": {
           "aaxis": {
            "gridcolor": "white",
            "linecolor": "white",
            "ticks": ""
           },
           "baxis": {
            "gridcolor": "white",
            "linecolor": "white",
            "ticks": ""
           },
           "bgcolor": "#E5ECF6",
           "caxis": {
            "gridcolor": "white",
            "linecolor": "white",
            "ticks": ""
           }
          },
          "title": {
           "x": 0.05
          },
          "xaxis": {
           "automargin": true,
           "gridcolor": "white",
           "linecolor": "white",
           "ticks": "",
           "title": {
            "standoff": 15
           },
           "zerolinecolor": "white",
           "zerolinewidth": 2
          },
          "yaxis": {
           "automargin": true,
           "gridcolor": "white",
           "linecolor": "white",
           "ticks": "",
           "title": {
            "standoff": 15
           },
           "zerolinecolor": "white",
           "zerolinewidth": 2
          }
         }
        },
        "xaxis": {
         "anchor": "y",
         "autorange": true,
         "domain": [
          0,
          1
         ],
         "range": [
          30,
          90
         ],
         "title": {
          "text": "Health"
         },
         "type": "linear"
        },
        "yaxis": {
         "anchor": "x",
         "autorange": true,
         "domain": [
          0,
          1
         ],
         "range": [
          0,
          100
         ],
         "title": {
          "text": "Education"
         },
         "type": "linear"
        }
       }
      },
      "image/png": "[encoded data removed]",
      "text/html": [
       "<div>                            <div id=\"61725664-1910-4828-a7aa-e69c79f6d7d9\" class=\"plotly-graph-div\" style=\"height:525px; width:100%;\"></div>            <script type=\"text/javascript\">                require([\"plotly\"], function(Plotly) {                    window.PLOTLYENV=window.PLOTLYENV || {};                                    if (document.getElementById(\"61725664-1910-4828-a7aa-e69c79f6d7d9\")) {                    Plotly.newPlot(                        \"61725664-1910-4828-a7aa-e69c79f6d7d9\",                        [{\"coloraxis\":\"coloraxis\",\"histfunc\":\"avg\",\"hovertemplate\":\"Health=%{x}\\u003cbr\\u003eEducation=%{y}\\u003cbr\\u003eavg of LivingConditions=%{z}\\u003cextra\\u003e\\u003c\\u002fextra\\u003e\",\"name\":\"\",\"texttemplate\":\"%{z}\",\"x\":[81.07,82.28,82.98,81.19,82.11,82.05,81.59,82.72,81.41,79.84,80.04,78.31,78.88,80.23,80.36,86.5,86.89,80.6,73.26,83.37,77.71,81.33,80.46,79.66,79.49,77.44,79.88,80.54,84.8,80.9,74.52,74.43,83.1,79.23,76.74,76.06,76.31,77.98,79.09,77.43,75.74,76.7,77.35,78.38,73.02,77.64,71.86,74.11,68.44,75.1,77.44,71.93,70.64,83.11,72.63,74.13,73.83,74.45,75.81,77.33,73.48,76.24,71.13,78.92,73.95,71.68,75.44,70.64,72.23,70.57,73.09,70.5,76.99,68.71,59.9,70.84,71.38,74.34,75.34,72.75,77.78,60.8,59.07,70.06,71.8,68.92,70.54,66.74,62.47,60.64,76.58,71.25,70.61,72.46,74.19,71.17,69.35,63.08,72.05,76.28,68.33,64.44,66.16,79.53,69.01,66.02,75.59,65.21,73.22,63.87,64.6,68.65,72.46,72.1,66.38,56.18,60.07,70.58,56.07,51.81,67.2,60.55,53.5,67.39,61.01,74.93,57.2,59.6,58.49,52.87,50.41,41.3,55.09,48.43,58.72,60.78,54.12,48.64,55.46,64.62,48.65,50.12,66.74,48.26,69.61,67.84,51.02,54.1,50.87,52.84,54.47,54.6,60.91,56.74,49.88,52.93,58.16,60.55,67.16,57.49,50.9,39.17,44.38,50.91,31.95,57.45,35.69],\"xaxis\":\"x\",\"xbingroup\":\"x\",\"y\":[87.48,85.92,85.68,88.38,87.72,86.43,78.79,85.19,83.45,83.89,85.0,84.81,84.19,81.93,85.99,84.93,91.44,84.79,83.15,84.61,82.19,85.81,81.27,80.98,80.66,77.64,81.8,78.33,87.76,80.0,81.36,81.8,81.63,79.14,72.75,73.47,78.63,70.64,71.71,79.34,73.54,77.34,72.94,74.72,70.47,69.15,68.68,72.79,71.69,57.63,66.43,73.02,72.33,70.42,61.04,65.96,64.13,69.25,64.96,64.29,69.19,68.65,60.93,64.9,70.07,59.71,62.0,55.55,78.8,71.02,63.93,61.93,66.56,77.58,52.56,52.1,81.87,81.24,67.77,53.96,63.33,56.49,54.5,61.55,62.24,60.79,48.95,69.12,56.87,49.0,65.06,63.49,51.09,61.57,64.77,45.25,49.93,45.75,56.9,64.78,44.76,32.88,50.46,70.43,46.06,57.18,66.56,48.21,59.57,45.68,39.13,67.08,62.59,45.6,48.89,34.68,42.57,43.25,50.39,37.15,51.06,39.32,36.85,44.19,33.93,63.75,39.04,38.22,37.24,35.4,42.96,45.03,39.99,44.52,22.03,35.41,33.76,25.05,56.03,45.44,27.83,37.5,47.83,30.75,61.1,48.82,47.74,47.62,19.96,24.36,19.61,16.78,31.56,28.27,29.61,34.22,31.06,34.11,43.01,29.23,33.61,17.58,26.32,27.11,18.62,28.12,18.99],\"yaxis\":\"y\",\"ybingroup\":\"y\",\"z\":[95.77,95.33,94.7,94.46,94.66,95.86,94.56,93.82,94.42,90.66,92.65,94.16,93.49,92.51,93.06,92.86,93.35,92.78,90.74,90.22,91.95,91.36,92.61,93.81,91.64,91.85,91.23,92.98,91.47,91.51,87.88,88.11,93.5,90.17,89.47,87.7,90.01,86.04,81.25,89.75,88.5,88.37,79.52,84.88,82.3,84.84,80.22,83.43,83.71,76.36,79.59,87.69,76.55,85.05,83.35,82.25,78.19,82.08,69.55,87.69,77.05,85.99,69.55,78.34,76.17,81.37,78.6,73.4,82.44,79.75,74.22,84.38,71.8,78.05,68.31,76.09,78.5,86.26,77.87,69.14,73.18,78.16,59.67,64.56,69.69,80.08,60.41,66.51,74.54,56.79,67.1,78.82,72.34,74.77,80.96,70.75,72.51,58.9,78.07,67.27,59.96,58.2,55.9,76.96,63.61,68.72,78.72,49.52,78.24,56.11,41.62,74.77,66.87,64.36,57.21,53.87,47.52,55.21,66.48,54.32,71.7,58.16,45.17,57.09,37.18,76.11,40.82,48.06,46.42,34.37,58.86,45.31,46.01,55.76,40.49,58.13,30.0,44.21,47.34,73.61,40.64,49.22,52.94,36.43,69.82,71.57,47.74,48.23,38.39,35.81,47.73,31.89,42.06,55.9,44.33,41.26,27.78,47.41,66.86,30.78,30.65,31.32,32.07,39.74,19.21,41.58,21.99],\"type\":\"histogram2d\"}],                        {\"template\":{\"data\":{\"histogram2dcontour\":[{\"type\":\"histogram2dcontour\",\"colorbar\":{\"outlinewidth\":0,\"ticks\":\"\"},\"colorscale\":[[0.0,\"#0d0887\"],[0.1111111111111111,\"#46039f\"],[0.2222222222222222,\"#7201a8\"],[0.3333333333333333,\"#9c179e\"],[0.4444444444444444,\"#bd3786\"],[0.5555555555555556,\"#d8576b\"],[0.6666666666666666,\"#ed7953\"],[0.7777777777777778,\"#fb9f3a\"],[0.8888888888888888,\"#fdca26\"],[1.0,\"#f0f921\"]]}],\"choropleth\":[{\"type\":\"choropleth\",\"colorbar\":{\"outlinewidth\":0,\"ticks\":\"\"}}],\"histogram2d\":[{\"type\":\"histogram2d\",\"colorbar\":{\"outlinewidth\":0,\"ticks\":\"\"},\"colorscale\":[[0.0,\"#0d0887\"],[0.1111111111111111,\"#46039f\"],[0.2222222222222222,\"#7201a8\"],[0.3333333333333333,\"#9c179e\"],[0.4444444444444444,\"#bd3786\"],[0.5555555555555556,\"#d8576b\"],[0.6666666666666666,\"#ed7953\"],[0.7777777777777778,\"#fb9f3a\"],[0.8888888888888888,\"#fdca26\"],[1.0,\"#f0f921\"]]}],\"heatmap\":[{\"type\":\"heatmap\",\"colorbar\":{\"outlinewidth\":0,\"ticks\":\"\"},\"colorscale\":[[0.0,\"#0d0887\"],[0.1111111111111111,\"#46039f\"],[0.2222222222222222,\"#7201a8\"],[0.3333333333333333,\"#9c179e\"],[0.4444444444444444,\"#bd3786\"],[0.5555555555555556,\"#d8576b\"],[0.6666666666666666,\"#ed7953\"],[0.7777777777777778,\"#fb9f3a\"],[0.8888888888888888,\"#fdca26\"],[1.0,\"#f0f921\"]]}],\"heatmapgl\":[{\"type\":\"heatmapgl\",\"colorbar\":{\"outlinewidth\":0,\"ticks\":\"\"},\"colorscale\":[[0.0,\"#0d0887\"],[0.1111111111111111,\"#46039f\"],[0.2222222222222222,\"#7201a8\"],[0.3333333333333333,\"#9c179e\"],[0.4444444444444444,\"#bd3786\"],[0.5555555555555556,\"#d8576b\"],[0.6666666666666666,\"#ed7953\"],[0.7777777777777778,\"#fb9f3a\"],[0.8888888888888888,\"#fdca26\"],[1.0,\"#f0f921\"]]}],\"contourcarpet\":[{\"type\":\"contourcarpet\",\"colorbar\":{\"outlinewidth\":0,\"ticks\":\"\"}}],\"contour\":[{\"type\":\"contour\",\"colorbar\":{\"outlinewidth\":0,\"ticks\":\"\"},\"colorscale\":[[0.0,\"#0d0887\"],[0.1111111111111111,\"#46039f\"],[0.2222222222222222,\"#7201a8\"],[0.3333333333333333,\"#9c179e\"],[0.4444444444444444,\"#bd3786\"],[0.5555555555555556,\"#d8576b\"],[0.6666666666666666,\"#ed7953\"],[0.7777777777777778,\"#fb9f3a\"],[0.8888888888888888,\"#fdca26\"],[1.0,\"#f0f921\"]]}],\"surface\":[{\"type\":\"surface\",\"colorbar\":{\"outlinewidth\":0,\"ticks\":\"\"},\"colorscale\":[[0.0,\"#0d0887\"],[0.1111111111111111,\"#46039f\"],[0.2222222222222222,\"#7201a8\"],[0.3333333333333333,\"#9c179e\"],[0.4444444444444444,\"#bd3786\"],[0.5555555555555556,\"#d8576b\"],[0.6666666666666666,\"#ed7953\"],[0.7777777777777778,\"#fb9f3a\"],[0.8888888888888888,\"#fdca26\"],[1.0,\"#f0f921\"]]}],\"mesh3d\":[{\"type\":\"mesh3d\",\"colorbar\":{\"outlinewidth\":0,\"ticks\":\"\"}}],\"scatter\":[{\"fillpattern\":{\"fillmode\":\"overlay\",\"size\":10,\"solidity\":0.2},\"type\":\"scatter\"}],\"parcoords\":[{\"type\":\"parcoords\",\"line\":{\"colorbar\":{\"outlinewidth\":0,\"ticks\":\"\"}}}],\"scatterpolargl\":[{\"type\":\"scatterpolargl\",\"marker\":{\"colorbar\":{\"outlinewidth\":0,\"ticks\":\"\"}}}],\"bar\":[{\"error_x\":{\"color\":\"#2a3f5f\"},\"error_y\":{\"color\":\"#2a3f5f\"},\"marker\":{\"line\":{\"color\":\"#E5ECF6\",\"width\":0.5},\"pattern\":{\"fillmode\":\"overlay\",\"size\":10,\"solidity\":0.2}},\"type\":\"bar\"}],\"scattergeo\":[{\"type\":\"scattergeo\",\"marker\":{\"colorbar\":{\"outlinewidth\":0,\"ticks\":\"\"}}}],\"scatterpolar\":[{\"type\":\"scatterpolar\",\"marker\":{\"colorbar\":{\"outlinewidth\":0,\"ticks\":\"\"}}}],\"histogram\":[{\"marker\":{\"pattern\":{\"fillmode\":\"overlay\",\"size\":10,\"solidity\":0.2}},\"type\":\"histogram\"}],\"scattergl\":[{\"type\":\"scattergl\",\"marker\":{\"colorbar\":{\"outlinewidth\":0,\"ticks\":\"\"}}}],\"scatter3d\":[{\"type\":\"scatter3d\",\"line\":{\"colorbar\":{\"outlinewidth\":0,\"ticks\":\"\"}},\"marker\":{\"colorbar\":{\"outlinewidth\":0,\"ticks\":\"\"}}}],\"scattermapbox\":[{\"type\":\"scattermapbox\",\"marker\":{\"colorbar\":{\"outlinewidth\":0,\"ticks\":\"\"}}}],\"scatterternary\":[{\"type\":\"scatterternary\",\"marker\":{\"colorbar\":{\"outlinewidth\":0,\"ticks\":\"\"}}}],\"scattercarpet\":[{\"type\":\"scattercarpet\",\"marker\":{\"colorbar\":{\"outlinewidth\":0,\"ticks\":\"\"}}}],\"carpet\":[{\"aaxis\":{\"endlinecolor\":\"#2a3f5f\",\"gridcolor\":\"white\",\"linecolor\":\"white\",\"minorgridcolor\":\"white\",\"startlinecolor\":\"#2a3f5f\"},\"baxis\":{\"endlinecolor\":\"#2a3f5f\",\"gridcolor\":\"white\",\"linecolor\":\"white\",\"minorgridcolor\":\"white\",\"startlinecolor\":\"#2a3f5f\"},\"type\":\"carpet\"}],\"table\":[{\"cells\":{\"fill\":{\"color\":\"#EBF0F8\"},\"line\":{\"color\":\"white\"}},\"header\":{\"fill\":{\"color\":\"#C8D4E3\"},\"line\":{\"color\":\"white\"}},\"type\":\"table\"}],\"barpolar\":[{\"marker\":{\"line\":{\"color\":\"#E5ECF6\",\"width\":0.5},\"pattern\":{\"fillmode\":\"overlay\",\"size\":10,\"solidity\":0.2}},\"type\":\"barpolar\"}],\"pie\":[{\"automargin\":true,\"type\":\"pie\"}]},\"layout\":{\"autotypenumbers\":\"strict\",\"colorway\":[\"#636efa\",\"#EF553B\",\"#00cc96\",\"#ab63fa\",\"#FFA15A\",\"#19d3f3\",\"#FF6692\",\"#B6E880\",\"#FF97FF\",\"#FECB52\"],\"font\":{\"color\":\"#2a3f5f\"},\"hovermode\":\"closest\",\"hoverlabel\":{\"align\":\"left\"},\"paper_bgcolor\":\"white\",\"plot_bgcolor\":\"#E5ECF6\",\"polar\":{\"bgcolor\":\"#E5ECF6\",\"angularaxis\":{\"gridcolor\":\"white\",\"linecolor\":\"white\",\"ticks\":\"\"},\"radialaxis\":{\"gridcolor\":\"white\",\"linecolor\":\"white\",\"ticks\":\"\"}},\"ternary\":{\"bgcolor\":\"#E5ECF6\",\"aaxis\":{\"gridcolor\":\"white\",\"linecolor\":\"white\",\"ticks\":\"\"},\"baxis\":{\"gridcolor\":\"white\",\"linecolor\":\"white\",\"ticks\":\"\"},\"caxis\":{\"gridcolor\":\"white\",\"linecolor\":\"white\",\"ticks\":\"\"}},\"coloraxis\":{\"colorbar\":{\"outlinewidth\":0,\"ticks\":\"\"}},\"colorscale\":{\"sequential\":[[0.0,\"#0d0887\"],[0.1111111111111111,\"#46039f\"],[0.2222222222222222,\"#7201a8\"],[0.3333333333333333,\"#9c179e\"],[0.4444444444444444,\"#bd3786\"],[0.5555555555555556,\"#d8576b\"],[0.6666666666666666,\"#ed7953\"],[0.7777777777777778,\"#fb9f3a\"],[0.8888888888888888,\"#fdca26\"],[1.0,\"#f0f921\"]],\"sequentialminus\":[[0.0,\"#0d0887\"],[0.1111111111111111,\"#46039f\"],[0.2222222222222222,\"#7201a8\"],[0.3333333333333333,\"#9c179e\"],[0.4444444444444444,\"#bd3786\"],[0.5555555555555556,\"#d8576b\"],[0.6666666666666666,\"#ed7953\"],[0.7777777777777778,\"#fb9f3a\"],[0.8888888888888888,\"#fdca26\"],[1.0,\"#f0f921\"]],\"diverging\":[[0,\"#8e0152\"],[0.1,\"#c51b7d\"],[0.2,\"#de77ae\"],[0.3,\"#f1b6da\"],[0.4,\"#fde0ef\"],[0.5,\"#f7f7f7\"],[0.6,\"#e6f5d0\"],[0.7,\"#b8e186\"],[0.8,\"#7fbc41\"],[0.9,\"#4d9221\"],[1,\"#276419\"]]},\"xaxis\":{\"gridcolor\":\"white\",\"linecolor\":\"white\",\"ticks\":\"\",\"title\":{\"standoff\":15},\"zerolinecolor\":\"white\",\"automargin\":true,\"zerolinewidth\":2},\"yaxis\":{\"gridcolor\":\"white\",\"linecolor\":\"white\",\"ticks\":\"\",\"title\":{\"standoff\":15},\"zerolinecolor\":\"white\",\"automargin\":true,\"zerolinewidth\":2},\"scene\":{\"xaxis\":{\"backgroundcolor\":\"#E5ECF6\",\"gridcolor\":\"white\",\"linecolor\":\"white\",\"showbackground\":true,\"ticks\":\"\",\"zerolinecolor\":\"white\",\"gridwidth\":2},\"yaxis\":{\"backgroundcolor\":\"#E5ECF6\",\"gridcolor\":\"white\",\"linecolor\":\"white\",\"showbackground\":true,\"ticks\":\"\",\"zerolinecolor\":\"white\",\"gridwidth\":2},\"zaxis\":{\"backgroundcolor\":\"#E5ECF6\",\"gridcolor\":\"white\",\"linecolor\":\"white\",\"showbackground\":true,\"ticks\":\"\",\"zerolinecolor\":\"white\",\"gridwidth\":2}},\"shapedefaults\":{\"line\":{\"color\":\"#2a3f5f\"}},\"annotationdefaults\":{\"arrowcolor\":\"#2a3f5f\",\"arrowhead\":0,\"arrowwidth\":1},\"geo\":{\"bgcolor\":\"white\",\"landcolor\":\"#E5ECF6\",\"subunitcolor\":\"white\",\"showland\":true,\"showlakes\":true,\"lakecolor\":\"white\"},\"title\":{\"x\":0.05},\"mapbox\":{\"style\":\"light\"}}},\"xaxis\":{\"anchor\":\"y\",\"domain\":[0.0,1.0],\"title\":{\"text\":\"Health\"}},\"yaxis\":{\"anchor\":\"x\",\"domain\":[0.0,1.0],\"title\":{\"text\":\"Education\"}},\"coloraxis\":{\"colorbar\":{\"title\":{\"text\":\"avg of LivingConditions\"}},\"colorscale\":[[0.0,\"#0d0887\"],[0.1111111111111111,\"#46039f\"],[0.2222222222222222,\"#7201a8\"],[0.3333333333333333,\"#9c179e\"],[0.4444444444444444,\"#bd3786\"],[0.5555555555555556,\"#d8576b\"],[0.6666666666666666,\"#ed7953\"],[0.7777777777777778,\"#fb9f3a\"],[0.8888888888888888,\"#fdca26\"],[1.0,\"#f0f921\"]]},\"legend\":{\"tracegroupgap\":0},\"margin\":{\"t\":60}},                        {\"responsive\": true}                    ).then(function(){\n",
       "                            \n",
       "var gd = document.getElementById('61725664-1910-4828-a7aa-e69c79f6d7d9');\n",
       "var x = new MutationObserver(function (mutations, observer) {{\n",
       "        var display = window.getComputedStyle(gd).display;\n",
       "        if (!display || display === 'none') {{\n",
       "            console.log([gd, 'removed!']);\n",
       "            Plotly.purge(gd);\n",
       "            observer.disconnect();\n",
       "        }}\n",
       "}});\n",
       "\n",
       "// Listen for the removal of the full notebook cells\n",
       "var notebookContainer = gd.closest('#notebook-container');\n",
       "if (notebookContainer) {{\n",
       "    x.observe(notebookContainer, {childList: true});\n",
       "}}\n",
       "\n",
       "// Listen for the clearing of the current output cell\n",
       "var outputEl = gd.closest('.output');\n",
       "if (outputEl) {{\n",
       "    x.observe(outputEl, {childList: true});\n",
       "}}\n",
       "\n",
       "                        })                };                });            </script>        </div>"
      ]
     },
     "metadata": {},
     "output_type": "display_data"
    }
   ],
   "source": [
    "print(cntr['LivingConditions'].corr(cntr['Health']))\n",
    "print(cntr['LivingConditions'].corr(cntr['Education']))\n",
    "fig = px.density_heatmap(cntr, x= 'Health', y='Education', z='LivingConditions', histfunc=\"avg\", text_auto=True)\n",
    "fig.show()"
   ]
  },
  {
   "cell_type": "markdown",
   "id": "d08ad7d3-d640-4e77-bd2f-ac2e8737dfd9",
   "metadata": {},
   "source": [
    "<h2>Зависимость очевидна<h2>"
   ]
  },
  {
   "cell_type": "markdown",
   "id": "b11fc9bb-cf19-4dfe-8a6d-a1e1fa44be2e",
   "metadata": {},
   "source": [
    "<h2>Совместим наш датасет с похожим и посмотрим, что там с SafetySecurity в других регионах<h2>"
   ]
  },
  {
   "cell_type": "code",
   "execution_count": 10,
   "id": "04c48d96-3a9d-4f69-8880-50a08d95a5db",
   "metadata": {},
   "outputs": [
    {
     "data": {
      "text/html": [
       "<div>\n",
       "<style scoped>\n",
       "    .dataframe tbody tr th:only-of-type {\n",
       "        vertical-align: middle;\n",
       "    }\n",
       "\n",
       "    .dataframe tbody tr th {\n",
       "        vertical-align: top;\n",
       "    }\n",
       "\n",
       "    .dataframe thead th {\n",
       "        text-align: right;\n",
       "    }\n",
       "</style>\n",
       "<table border=\"1\" class=\"dataframe\">\n",
       "  <thead>\n",
       "    <tr style=\"text-align: right;\">\n",
       "      <th></th>\n",
       "      <th>Country</th>\n",
       "      <th>alpha-2</th>\n",
       "      <th>alpha-3</th>\n",
       "      <th>country-code</th>\n",
       "      <th>iso_3166-2</th>\n",
       "      <th>region</th>\n",
       "      <th>sub-region</th>\n",
       "      <th>intermediate-region</th>\n",
       "      <th>region-code</th>\n",
       "      <th>sub-region-code</th>\n",
       "      <th>intermediate-region-code</th>\n",
       "    </tr>\n",
       "  </thead>\n",
       "  <tbody>\n",
       "    <tr>\n",
       "      <th>0</th>\n",
       "      <td>Afghanistan</td>\n",
       "      <td>AF</td>\n",
       "      <td>AFG</td>\n",
       "      <td>4</td>\n",
       "      <td>ISO 3166-2:AF</td>\n",
       "      <td>Asia</td>\n",
       "      <td>Southern Asia</td>\n",
       "      <td>NaN</td>\n",
       "      <td>142.0</td>\n",
       "      <td>34.0</td>\n",
       "      <td>NaN</td>\n",
       "    </tr>\n",
       "    <tr>\n",
       "      <th>1</th>\n",
       "      <td>Åland Islands</td>\n",
       "      <td>AX</td>\n",
       "      <td>ALA</td>\n",
       "      <td>248</td>\n",
       "      <td>ISO 3166-2:AX</td>\n",
       "      <td>Europe</td>\n",
       "      <td>Northern Europe</td>\n",
       "      <td>NaN</td>\n",
       "      <td>150.0</td>\n",
       "      <td>154.0</td>\n",
       "      <td>NaN</td>\n",
       "    </tr>\n",
       "    <tr>\n",
       "      <th>2</th>\n",
       "      <td>Albania</td>\n",
       "      <td>AL</td>\n",
       "      <td>ALB</td>\n",
       "      <td>8</td>\n",
       "      <td>ISO 3166-2:AL</td>\n",
       "      <td>Europe</td>\n",
       "      <td>Southern Europe</td>\n",
       "      <td>NaN</td>\n",
       "      <td>150.0</td>\n",
       "      <td>39.0</td>\n",
       "      <td>NaN</td>\n",
       "    </tr>\n",
       "    <tr>\n",
       "      <th>3</th>\n",
       "      <td>Algeria</td>\n",
       "      <td>DZ</td>\n",
       "      <td>DZA</td>\n",
       "      <td>12</td>\n",
       "      <td>ISO 3166-2:DZ</td>\n",
       "      <td>Africa</td>\n",
       "      <td>Northern Africa</td>\n",
       "      <td>NaN</td>\n",
       "      <td>2.0</td>\n",
       "      <td>15.0</td>\n",
       "      <td>NaN</td>\n",
       "    </tr>\n",
       "    <tr>\n",
       "      <th>4</th>\n",
       "      <td>American Samoa</td>\n",
       "      <td>AS</td>\n",
       "      <td>ASM</td>\n",
       "      <td>16</td>\n",
       "      <td>ISO 3166-2:AS</td>\n",
       "      <td>Oceania</td>\n",
       "      <td>Polynesia</td>\n",
       "      <td>NaN</td>\n",
       "      <td>9.0</td>\n",
       "      <td>61.0</td>\n",
       "      <td>NaN</td>\n",
       "    </tr>\n",
       "  </tbody>\n",
       "</table>\n",
       "</div>"
      ],
      "text/plain": [
       "          Country alpha-2 alpha-3  country-code     iso_3166-2   region  \\\n",
       "0     Afghanistan      AF     AFG             4  ISO 3166-2:AF     Asia   \n",
       "1   Åland Islands      AX     ALA           248  ISO 3166-2:AX   Europe   \n",
       "2         Albania      AL     ALB             8  ISO 3166-2:AL   Europe   \n",
       "3         Algeria      DZ     DZA            12  ISO 3166-2:DZ   Africa   \n",
       "4  American Samoa      AS     ASM            16  ISO 3166-2:AS  Oceania   \n",
       "\n",
       "        sub-region intermediate-region  region-code  sub-region-code  \\\n",
       "0    Southern Asia                 NaN        142.0             34.0   \n",
       "1  Northern Europe                 NaN        150.0            154.0   \n",
       "2  Southern Europe                 NaN        150.0             39.0   \n",
       "3  Northern Africa                 NaN          2.0             15.0   \n",
       "4        Polynesia                 NaN          9.0             61.0   \n",
       "\n",
       "   intermediate-region-code  \n",
       "0                       NaN  \n",
       "1                       NaN  \n",
       "2                       NaN  \n",
       "3                       NaN  \n",
       "4                       NaN  "
      ]
     },
     "execution_count": 10,
     "metadata": {},
     "output_type": "execute_result"
    }
   ],
   "source": [
    "cont = pd.read_csv(\"https://raw.githubusercontent.com/esbergenovg/countries_analysis/main/continents2.csv\")\n",
    "cont.head()"
   ]
  },
  {
   "cell_type": "code",
   "execution_count": 41,
   "id": "3ad039e9-8f73-4345-a06c-2987dc7f24ce",
   "metadata": {
    "scrolled": true
   },
   "outputs": [
    {
     "data": {
      "text/html": [
       "<div>\n",
       "<style scoped>\n",
       "    .dataframe tbody tr th:only-of-type {\n",
       "        vertical-align: middle;\n",
       "    }\n",
       "\n",
       "    .dataframe tbody tr th {\n",
       "        vertical-align: top;\n",
       "    }\n",
       "\n",
       "    .dataframe thead th {\n",
       "        text-align: right;\n",
       "    }\n",
       "</style>\n",
       "<table border=\"1\" class=\"dataframe\">\n",
       "  <thead>\n",
       "    <tr style=\"text-align: right;\">\n",
       "      <th></th>\n",
       "      <th>Country</th>\n",
       "      <th>AveragScore</th>\n",
       "      <th>SafetySecurity</th>\n",
       "      <th>PersonelFreedom</th>\n",
       "      <th>Governance</th>\n",
       "      <th>SocialCapital</th>\n",
       "      <th>InvestmentEnvironment</th>\n",
       "      <th>EnterpriseConditions</th>\n",
       "      <th>MarketAccessInfrastructure</th>\n",
       "      <th>EconomicQuality</th>\n",
       "      <th>...</th>\n",
       "      <th>alpha-2</th>\n",
       "      <th>alpha-3</th>\n",
       "      <th>country-code</th>\n",
       "      <th>iso_3166-2</th>\n",
       "      <th>region</th>\n",
       "      <th>sub-region</th>\n",
       "      <th>intermediate-region</th>\n",
       "      <th>region-code</th>\n",
       "      <th>sub-region-code</th>\n",
       "      <th>intermediate-region-code</th>\n",
       "    </tr>\n",
       "  </thead>\n",
       "  <tbody>\n",
       "    <tr>\n",
       "      <th>0</th>\n",
       "      <td>Denmark</td>\n",
       "      <td>84.55</td>\n",
       "      <td>92.59</td>\n",
       "      <td>94.09</td>\n",
       "      <td>89.45</td>\n",
       "      <td>82.56</td>\n",
       "      <td>82.42</td>\n",
       "      <td>79.64</td>\n",
       "      <td>78.79</td>\n",
       "      <td>76.81</td>\n",
       "      <td>...</td>\n",
       "      <td>DK</td>\n",
       "      <td>DNK</td>\n",
       "      <td>208</td>\n",
       "      <td>ISO 3166-2:DK</td>\n",
       "      <td>Europe</td>\n",
       "      <td>Northern Europe</td>\n",
       "      <td>NaN</td>\n",
       "      <td>150.0</td>\n",
       "      <td>154.0</td>\n",
       "      <td>NaN</td>\n",
       "    </tr>\n",
       "    <tr>\n",
       "      <th>1</th>\n",
       "      <td>Sweden</td>\n",
       "      <td>83.67</td>\n",
       "      <td>90.97</td>\n",
       "      <td>91.90</td>\n",
       "      <td>86.41</td>\n",
       "      <td>78.29</td>\n",
       "      <td>82.81</td>\n",
       "      <td>75.54</td>\n",
       "      <td>79.67</td>\n",
       "      <td>76.18</td>\n",
       "      <td>...</td>\n",
       "      <td>SE</td>\n",
       "      <td>SWE</td>\n",
       "      <td>752</td>\n",
       "      <td>ISO 3166-2:SE</td>\n",
       "      <td>Europe</td>\n",
       "      <td>Northern Europe</td>\n",
       "      <td>NaN</td>\n",
       "      <td>150.0</td>\n",
       "      <td>154.0</td>\n",
       "      <td>NaN</td>\n",
       "    </tr>\n",
       "    <tr>\n",
       "      <th>2</th>\n",
       "      <td>Norway</td>\n",
       "      <td>83.59</td>\n",
       "      <td>93.30</td>\n",
       "      <td>94.10</td>\n",
       "      <td>89.66</td>\n",
       "      <td>79.03</td>\n",
       "      <td>82.24</td>\n",
       "      <td>75.95</td>\n",
       "      <td>75.87</td>\n",
       "      <td>77.25</td>\n",
       "      <td>...</td>\n",
       "      <td>NO</td>\n",
       "      <td>NOR</td>\n",
       "      <td>578</td>\n",
       "      <td>ISO 3166-2:NO</td>\n",
       "      <td>Europe</td>\n",
       "      <td>Northern Europe</td>\n",
       "      <td>NaN</td>\n",
       "      <td>150.0</td>\n",
       "      <td>154.0</td>\n",
       "      <td>NaN</td>\n",
       "    </tr>\n",
       "    <tr>\n",
       "      <th>3</th>\n",
       "      <td>Finland</td>\n",
       "      <td>83.47</td>\n",
       "      <td>89.56</td>\n",
       "      <td>91.96</td>\n",
       "      <td>90.41</td>\n",
       "      <td>77.27</td>\n",
       "      <td>84.12</td>\n",
       "      <td>77.25</td>\n",
       "      <td>78.77</td>\n",
       "      <td>70.28</td>\n",
       "      <td>...</td>\n",
       "      <td>FI</td>\n",
       "      <td>FIN</td>\n",
       "      <td>246</td>\n",
       "      <td>ISO 3166-2:FI</td>\n",
       "      <td>Europe</td>\n",
       "      <td>Northern Europe</td>\n",
       "      <td>NaN</td>\n",
       "      <td>150.0</td>\n",
       "      <td>154.0</td>\n",
       "      <td>NaN</td>\n",
       "    </tr>\n",
       "    <tr>\n",
       "      <th>4</th>\n",
       "      <td>Switzerland</td>\n",
       "      <td>83.42</td>\n",
       "      <td>95.66</td>\n",
       "      <td>87.50</td>\n",
       "      <td>87.67</td>\n",
       "      <td>69.14</td>\n",
       "      <td>80.81</td>\n",
       "      <td>83.84</td>\n",
       "      <td>78.65</td>\n",
       "      <td>79.71</td>\n",
       "      <td>...</td>\n",
       "      <td>CH</td>\n",
       "      <td>CHE</td>\n",
       "      <td>756</td>\n",
       "      <td>ISO 3166-2:CH</td>\n",
       "      <td>Europe</td>\n",
       "      <td>Western Europe</td>\n",
       "      <td>NaN</td>\n",
       "      <td>150.0</td>\n",
       "      <td>155.0</td>\n",
       "      <td>NaN</td>\n",
       "    </tr>\n",
       "  </tbody>\n",
       "</table>\n",
       "<p>5 rows × 24 columns</p>\n",
       "</div>"
      ],
      "text/plain": [
       "       Country  AveragScore  SafetySecurity  PersonelFreedom  Governance  \\\n",
       "0      Denmark        84.55           92.59            94.09       89.45   \n",
       "1       Sweden        83.67           90.97            91.90       86.41   \n",
       "2       Norway        83.59           93.30            94.10       89.66   \n",
       "3      Finland        83.47           89.56            91.96       90.41   \n",
       "4  Switzerland        83.42           95.66            87.50       87.67   \n",
       "\n",
       "   SocialCapital  InvestmentEnvironment  EnterpriseConditions  \\\n",
       "0          82.56                  82.42                 79.64   \n",
       "1          78.29                  82.81                 75.54   \n",
       "2          79.03                  82.24                 75.95   \n",
       "3          77.27                  84.12                 77.25   \n",
       "4          69.14                  80.81                 83.84   \n",
       "\n",
       "   MarketAccessInfrastructure  EconomicQuality  ...  alpha-2  alpha-3  \\\n",
       "0                       78.79            76.81  ...       DK      DNK   \n",
       "1                       79.67            76.18  ...       SE      SWE   \n",
       "2                       75.87            77.25  ...       NO      NOR   \n",
       "3                       78.77            70.28  ...       FI      FIN   \n",
       "4                       78.65            79.71  ...       CH      CHE   \n",
       "\n",
       "   country-code     iso_3166-2  region       sub-region  intermediate-region  \\\n",
       "0           208  ISO 3166-2:DK  Europe  Northern Europe                  NaN   \n",
       "1           752  ISO 3166-2:SE  Europe  Northern Europe                  NaN   \n",
       "2           578  ISO 3166-2:NO  Europe  Northern Europe                  NaN   \n",
       "3           246  ISO 3166-2:FI  Europe  Northern Europe                  NaN   \n",
       "4           756  ISO 3166-2:CH  Europe   Western Europe                  NaN   \n",
       "\n",
       "  region-code sub-region-code intermediate-region-code  \n",
       "0       150.0           154.0                      NaN  \n",
       "1       150.0           154.0                      NaN  \n",
       "2       150.0           154.0                      NaN  \n",
       "3       150.0           154.0                      NaN  \n",
       "4       150.0           155.0                      NaN  \n",
       "\n",
       "[5 rows x 24 columns]"
      ]
     },
     "execution_count": 41,
     "metadata": {},
     "output_type": "execute_result"
    }
   ],
   "source": [
    "union = pd.merge(left=cntr, right=cont, how='inner', on='Country')\n",
    "union.head()\n"
   ]
  },
  {
   "cell_type": "markdown",
   "id": "65bc9f20-8420-499b-80b5-77340db76809",
   "metadata": {},
   "source": [
    "<h2>Найдем среднее значение SafetySecurity разных регионов<h2>"
   ]
  },
  {
   "cell_type": "code",
   "execution_count": 44,
   "id": "6934a4ef-0060-4703-a63f-056e8f206e1c",
   "metadata": {},
   "outputs": [
    {
     "data": {
      "text/html": [
       "<div>\n",
       "<style scoped>\n",
       "    .dataframe tbody tr th:only-of-type {\n",
       "        vertical-align: middle;\n",
       "    }\n",
       "\n",
       "    .dataframe tbody tr th {\n",
       "        vertical-align: top;\n",
       "    }\n",
       "\n",
       "    .dataframe thead tr th {\n",
       "        text-align: left;\n",
       "    }\n",
       "\n",
       "    .dataframe thead tr:last-of-type th {\n",
       "        text-align: right;\n",
       "    }\n",
       "</style>\n",
       "<table border=\"1\" class=\"dataframe\">\n",
       "  <thead>\n",
       "    <tr>\n",
       "      <th></th>\n",
       "      <th>SafetySecurity</th>\n",
       "    </tr>\n",
       "    <tr>\n",
       "      <th></th>\n",
       "      <th>mean</th>\n",
       "    </tr>\n",
       "    <tr>\n",
       "      <th>region</th>\n",
       "      <th></th>\n",
       "    </tr>\n",
       "  </thead>\n",
       "  <tbody>\n",
       "    <tr>\n",
       "      <th>Africa</th>\n",
       "      <td>57.465510</td>\n",
       "    </tr>\n",
       "    <tr>\n",
       "      <th>Americas</th>\n",
       "      <td>64.978519</td>\n",
       "    </tr>\n",
       "    <tr>\n",
       "      <th>Asia</th>\n",
       "      <td>64.409773</td>\n",
       "    </tr>\n",
       "    <tr>\n",
       "      <th>Europe</th>\n",
       "      <td>84.230526</td>\n",
       "    </tr>\n",
       "    <tr>\n",
       "      <th>Oceania</th>\n",
       "      <td>78.580000</td>\n",
       "    </tr>\n",
       "  </tbody>\n",
       "</table>\n",
       "</div>"
      ],
      "text/plain": [
       "         SafetySecurity\n",
       "                   mean\n",
       "region                 \n",
       "Africa        57.465510\n",
       "Americas      64.978519\n",
       "Asia          64.409773\n",
       "Europe        84.230526\n",
       "Oceania       78.580000"
      ]
     },
     "execution_count": 44,
     "metadata": {},
     "output_type": "execute_result"
    }
   ],
   "source": [
    "res = union.groupby(['region']).agg({\"SafetySecurity\":[\"mean\"]})\n",
    "res.head()"
   ]
  },
  {
   "cell_type": "code",
   "execution_count": 46,
   "id": "576cbfc0-e657-4359-918f-aed017b097f4",
   "metadata": {},
   "outputs": [
    {
     "data": {
      "application/vnd.plotly.v1+json": {
       "config": {
        "plotlyServerURL": "https://plot.ly"
       },
       "data": [
        {
         "marker": {
          "color": [
           "lightslategray",
           "lightslategray",
           "lightslategray",
           "crimson",
           "lightslategray"
          ]
         },
         "type": "bar",
         "x": [
          "Africa",
          "Americas",
          "Asia",
          "Europe",
          "Oceania"
         ],
         "y": [
          57.46551020408163,
          64.97851851851853,
          64.40977272727274,
          84.23052631578948,
          78.58
         ]
        }
       ],
       "layout": {
        "autosize": true,
        "template": {
         "data": {
          "bar": [
           {
            "error_x": {
             "color": "#2a3f5f"
            },
            "error_y": {
             "color": "#2a3f5f"
            },
            "marker": {
             "line": {
              "color": "#E5ECF6",
              "width": 0.5
             },
             "pattern": {
              "fillmode": "overlay",
              "size": 10,
              "solidity": 0.2
             }
            },
            "type": "bar"
           }
          ],
          "barpolar": [
           {
            "marker": {
             "line": {
              "color": "#E5ECF6",
              "width": 0.5
             },
             "pattern": {
              "fillmode": "overlay",
              "size": 10,
              "solidity": 0.2
             }
            },
            "type": "barpolar"
           }
          ],
          "carpet": [
           {
            "aaxis": {
             "endlinecolor": "#2a3f5f",
             "gridcolor": "white",
             "linecolor": "white",
             "minorgridcolor": "white",
             "startlinecolor": "#2a3f5f"
            },
            "baxis": {
             "endlinecolor": "#2a3f5f",
             "gridcolor": "white",
             "linecolor": "white",
             "minorgridcolor": "white",
             "startlinecolor": "#2a3f5f"
            },
            "type": "carpet"
           }
          ],
          "choropleth": [
           {
            "colorbar": {
             "outlinewidth": 0,
             "ticks": ""
            },
            "type": "choropleth"
           }
          ],
          "contour": [
           {
            "colorbar": {
             "outlinewidth": 0,
             "ticks": ""
            },
            "colorscale": [
             [
              0,
              "#0d0887"
             ],
             [
              0.1111111111111111,
              "#46039f"
             ],
             [
              0.2222222222222222,
              "#7201a8"
             ],
             [
              0.3333333333333333,
              "#9c179e"
             ],
             [
              0.4444444444444444,
              "#bd3786"
             ],
             [
              0.5555555555555556,
              "#d8576b"
             ],
             [
              0.6666666666666666,
              "#ed7953"
             ],
             [
              0.7777777777777778,
              "#fb9f3a"
             ],
             [
              0.8888888888888888,
              "#fdca26"
             ],
             [
              1,
              "#f0f921"
             ]
            ],
            "type": "contour"
           }
          ],
          "contourcarpet": [
           {
            "colorbar": {
             "outlinewidth": 0,
             "ticks": ""
            },
            "type": "contourcarpet"
           }
          ],
          "heatmap": [
           {
            "colorbar": {
             "outlinewidth": 0,
             "ticks": ""
            },
            "colorscale": [
             [
              0,
              "#0d0887"
             ],
             [
              0.1111111111111111,
              "#46039f"
             ],
             [
              0.2222222222222222,
              "#7201a8"
             ],
             [
              0.3333333333333333,
              "#9c179e"
             ],
             [
              0.4444444444444444,
              "#bd3786"
             ],
             [
              0.5555555555555556,
              "#d8576b"
             ],
             [
              0.6666666666666666,
              "#ed7953"
             ],
             [
              0.7777777777777778,
              "#fb9f3a"
             ],
             [
              0.8888888888888888,
              "#fdca26"
             ],
             [
              1,
              "#f0f921"
             ]
            ],
            "type": "heatmap"
           }
          ],
          "heatmapgl": [
           {
            "colorbar": {
             "outlinewidth": 0,
             "ticks": ""
            },
            "colorscale": [
             [
              0,
              "#0d0887"
             ],
             [
              0.1111111111111111,
              "#46039f"
             ],
             [
              0.2222222222222222,
              "#7201a8"
             ],
             [
              0.3333333333333333,
              "#9c179e"
             ],
             [
              0.4444444444444444,
              "#bd3786"
             ],
             [
              0.5555555555555556,
              "#d8576b"
             ],
             [
              0.6666666666666666,
              "#ed7953"
             ],
             [
              0.7777777777777778,
              "#fb9f3a"
             ],
             [
              0.8888888888888888,
              "#fdca26"
             ],
             [
              1,
              "#f0f921"
             ]
            ],
            "type": "heatmapgl"
           }
          ],
          "histogram": [
           {
            "marker": {
             "pattern": {
              "fillmode": "overlay",
              "size": 10,
              "solidity": 0.2
             }
            },
            "type": "histogram"
           }
          ],
          "histogram2d": [
           {
            "colorbar": {
             "outlinewidth": 0,
             "ticks": ""
            },
            "colorscale": [
             [
              0,
              "#0d0887"
             ],
             [
              0.1111111111111111,
              "#46039f"
             ],
             [
              0.2222222222222222,
              "#7201a8"
             ],
             [
              0.3333333333333333,
              "#9c179e"
             ],
             [
              0.4444444444444444,
              "#bd3786"
             ],
             [
              0.5555555555555556,
              "#d8576b"
             ],
             [
              0.6666666666666666,
              "#ed7953"
             ],
             [
              0.7777777777777778,
              "#fb9f3a"
             ],
             [
              0.8888888888888888,
              "#fdca26"
             ],
             [
              1,
              "#f0f921"
             ]
            ],
            "type": "histogram2d"
           }
          ],
          "histogram2dcontour": [
           {
            "colorbar": {
             "outlinewidth": 0,
             "ticks": ""
            },
            "colorscale": [
             [
              0,
              "#0d0887"
             ],
             [
              0.1111111111111111,
              "#46039f"
             ],
             [
              0.2222222222222222,
              "#7201a8"
             ],
             [
              0.3333333333333333,
              "#9c179e"
             ],
             [
              0.4444444444444444,
              "#bd3786"
             ],
             [
              0.5555555555555556,
              "#d8576b"
             ],
             [
              0.6666666666666666,
              "#ed7953"
             ],
             [
              0.7777777777777778,
              "#fb9f3a"
             ],
             [
              0.8888888888888888,
              "#fdca26"
             ],
             [
              1,
              "#f0f921"
             ]
            ],
            "type": "histogram2dcontour"
           }
          ],
          "mesh3d": [
           {
            "colorbar": {
             "outlinewidth": 0,
             "ticks": ""
            },
            "type": "mesh3d"
           }
          ],
          "parcoords": [
           {
            "line": {
             "colorbar": {
              "outlinewidth": 0,
              "ticks": ""
             }
            },
            "type": "parcoords"
           }
          ],
          "pie": [
           {
            "automargin": true,
            "type": "pie"
           }
          ],
          "scatter": [
           {
            "fillpattern": {
             "fillmode": "overlay",
             "size": 10,
             "solidity": 0.2
            },
            "type": "scatter"
           }
          ],
          "scatter3d": [
           {
            "line": {
             "colorbar": {
              "outlinewidth": 0,
              "ticks": ""
             }
            },
            "marker": {
             "colorbar": {
              "outlinewidth": 0,
              "ticks": ""
             }
            },
            "type": "scatter3d"
           }
          ],
          "scattercarpet": [
           {
            "marker": {
             "colorbar": {
              "outlinewidth": 0,
              "ticks": ""
             }
            },
            "type": "scattercarpet"
           }
          ],
          "scattergeo": [
           {
            "marker": {
             "colorbar": {
              "outlinewidth": 0,
              "ticks": ""
             }
            },
            "type": "scattergeo"
           }
          ],
          "scattergl": [
           {
            "marker": {
             "colorbar": {
              "outlinewidth": 0,
              "ticks": ""
             }
            },
            "type": "scattergl"
           }
          ],
          "scattermapbox": [
           {
            "marker": {
             "colorbar": {
              "outlinewidth": 0,
              "ticks": ""
             }
            },
            "type": "scattermapbox"
           }
          ],
          "scatterpolar": [
           {
            "marker": {
             "colorbar": {
              "outlinewidth": 0,
              "ticks": ""
             }
            },
            "type": "scatterpolar"
           }
          ],
          "scatterpolargl": [
           {
            "marker": {
             "colorbar": {
              "outlinewidth": 0,
              "ticks": ""
             }
            },
            "type": "scatterpolargl"
           }
          ],
          "scatterternary": [
           {
            "marker": {
             "colorbar": {
              "outlinewidth": 0,
              "ticks": ""
             }
            },
            "type": "scatterternary"
           }
          ],
          "surface": [
           {
            "colorbar": {
             "outlinewidth": 0,
             "ticks": ""
            },
            "colorscale": [
             [
              0,
              "#0d0887"
             ],
             [
              0.1111111111111111,
              "#46039f"
             ],
             [
              0.2222222222222222,
              "#7201a8"
             ],
             [
              0.3333333333333333,
              "#9c179e"
             ],
             [
              0.4444444444444444,
              "#bd3786"
             ],
             [
              0.5555555555555556,
              "#d8576b"
             ],
             [
              0.6666666666666666,
              "#ed7953"
             ],
             [
              0.7777777777777778,
              "#fb9f3a"
             ],
             [
              0.8888888888888888,
              "#fdca26"
             ],
             [
              1,
              "#f0f921"
             ]
            ],
            "type": "surface"
           }
          ],
          "table": [
           {
            "cells": {
             "fill": {
              "color": "#EBF0F8"
             },
             "line": {
              "color": "white"
             }
            },
            "header": {
             "fill": {
              "color": "#C8D4E3"
             },
             "line": {
              "color": "white"
             }
            },
            "type": "table"
           }
          ]
         },
         "layout": {
          "annotationdefaults": {
           "arrowcolor": "#2a3f5f",
           "arrowhead": 0,
           "arrowwidth": 1
          },
          "autotypenumbers": "strict",
          "coloraxis": {
           "colorbar": {
            "outlinewidth": 0,
            "ticks": ""
           }
          },
          "colorscale": {
           "diverging": [
            [
             0,
             "#8e0152"
            ],
            [
             0.1,
             "#c51b7d"
            ],
            [
             0.2,
             "#de77ae"
            ],
            [
             0.3,
             "#f1b6da"
            ],
            [
             0.4,
             "#fde0ef"
            ],
            [
             0.5,
             "#f7f7f7"
            ],
            [
             0.6,
             "#e6f5d0"
            ],
            [
             0.7,
             "#b8e186"
            ],
            [
             0.8,
             "#7fbc41"
            ],
            [
             0.9,
             "#4d9221"
            ],
            [
             1,
             "#276419"
            ]
           ],
           "sequential": [
            [
             0,
             "#0d0887"
            ],
            [
             0.1111111111111111,
             "#46039f"
            ],
            [
             0.2222222222222222,
             "#7201a8"
            ],
            [
             0.3333333333333333,
             "#9c179e"
            ],
            [
             0.4444444444444444,
             "#bd3786"
            ],
            [
             0.5555555555555556,
             "#d8576b"
            ],
            [
             0.6666666666666666,
             "#ed7953"
            ],
            [
             0.7777777777777778,
             "#fb9f3a"
            ],
            [
             0.8888888888888888,
             "#fdca26"
            ],
            [
             1,
             "#f0f921"
            ]
           ],
           "sequentialminus": [
            [
             0,
             "#0d0887"
            ],
            [
             0.1111111111111111,
             "#46039f"
            ],
            [
             0.2222222222222222,
             "#7201a8"
            ],
            [
             0.3333333333333333,
             "#9c179e"
            ],
            [
             0.4444444444444444,
             "#bd3786"
            ],
            [
             0.5555555555555556,
             "#d8576b"
            ],
            [
             0.6666666666666666,
             "#ed7953"
            ],
            [
             0.7777777777777778,
             "#fb9f3a"
            ],
            [
             0.8888888888888888,
             "#fdca26"
            ],
            [
             1,
             "#f0f921"
            ]
           ]
          },
          "colorway": [
           "#636efa",
           "#EF553B",
           "#00cc96",
           "#ab63fa",
           "#FFA15A",
           "#19d3f3",
           "#FF6692",
           "#B6E880",
           "#FF97FF",
           "#FECB52"
          ],
          "font": {
           "color": "#2a3f5f"
          },
          "geo": {
           "bgcolor": "white",
           "lakecolor": "white",
           "landcolor": "#E5ECF6",
           "showlakes": true,
           "showland": true,
           "subunitcolor": "white"
          },
          "hoverlabel": {
           "align": "left"
          },
          "hovermode": "closest",
          "mapbox": {
           "style": "light"
          },
          "paper_bgcolor": "white",
          "plot_bgcolor": "#E5ECF6",
          "polar": {
           "angularaxis": {
            "gridcolor": "white",
            "linecolor": "white",
            "ticks": ""
           },
           "bgcolor": "#E5ECF6",
           "radialaxis": {
            "gridcolor": "white",
            "linecolor": "white",
            "ticks": ""
           }
          },
          "scene": {
           "xaxis": {
            "backgroundcolor": "#E5ECF6",
            "gridcolor": "white",
            "gridwidth": 2,
            "linecolor": "white",
            "showbackground": true,
            "ticks": "",
            "zerolinecolor": "white"
           },
           "yaxis": {
            "backgroundcolor": "#E5ECF6",
            "gridcolor": "white",
            "gridwidth": 2,
            "linecolor": "white",
            "showbackground": true,
            "ticks": "",
            "zerolinecolor": "white"
           },
           "zaxis": {
            "backgroundcolor": "#E5ECF6",
            "gridcolor": "white",
            "gridwidth": 2,
            "linecolor": "white",
            "showbackground": true,
            "ticks": "",
            "zerolinecolor": "white"
           }
          },
          "shapedefaults": {
           "line": {
            "color": "#2a3f5f"
           }
          },
          "ternary": {
           "aaxis": {
            "gridcolor": "white",
            "linecolor": "white",
            "ticks": ""
           },
           "baxis": {
            "gridcolor": "white",
            "linecolor": "white",
            "ticks": ""
           },
           "bgcolor": "#E5ECF6",
           "caxis": {
            "gridcolor": "white",
            "linecolor": "white",
            "ticks": ""
           }
          },
          "title": {
           "x": 0.05
          },
          "xaxis": {
           "automargin": true,
           "gridcolor": "white",
           "linecolor": "white",
           "ticks": "",
           "title": {
            "standoff": 15
           },
           "zerolinecolor": "white",
           "zerolinewidth": 2
          },
          "yaxis": {
           "automargin": true,
           "gridcolor": "white",
           "linecolor": "white",
           "ticks": "",
           "title": {
            "standoff": 15
           },
           "zerolinecolor": "white",
           "zerolinewidth": 2
          }
         }
        },
        "title": {
         "text": "Mean region SafetySecurity"
        },
        "xaxis": {
         "autorange": true,
         "range": [
          -0.5,
          4.5
         ],
         "type": "category"
        },
        "yaxis": {
         "autorange": true,
         "range": [
          0,
          88.66371191135734
         ],
         "type": "linear"
        }
       }
      },
      "image/png": "[encoded data removed]",
      "text/html": [
       "<div>                            <div id=\"398c76af-8815-4e0b-a15e-f379a9797f6e\" class=\"plotly-graph-div\" style=\"height:525px; width:100%;\"></div>            <script type=\"text/javascript\">                require([\"plotly\"], function(Plotly) {                    window.PLOTLYENV=window.PLOTLYENV || {};                                    if (document.getElementById(\"398c76af-8815-4e0b-a15e-f379a9797f6e\")) {                    Plotly.newPlot(                        \"398c76af-8815-4e0b-a15e-f379a9797f6e\",                        [{\"marker\":{\"color\":[\"lightslategray\",\"lightslategray\",\"lightslategray\",\"crimson\",\"lightslategray\"]},\"x\":[\"Africa\",\"Americas\",\"Asia\",\"Europe\",\"Oceania\"],\"y\":[57.46551020408163,64.97851851851853,64.40977272727274,84.23052631578948,78.58],\"type\":\"bar\"}],                        {\"template\":{\"data\":{\"histogram2dcontour\":[{\"type\":\"histogram2dcontour\",\"colorbar\":{\"outlinewidth\":0,\"ticks\":\"\"},\"colorscale\":[[0.0,\"#0d0887\"],[0.1111111111111111,\"#46039f\"],[0.2222222222222222,\"#7201a8\"],[0.3333333333333333,\"#9c179e\"],[0.4444444444444444,\"#bd3786\"],[0.5555555555555556,\"#d8576b\"],[0.6666666666666666,\"#ed7953\"],[0.7777777777777778,\"#fb9f3a\"],[0.8888888888888888,\"#fdca26\"],[1.0,\"#f0f921\"]]}],\"choropleth\":[{\"type\":\"choropleth\",\"colorbar\":{\"outlinewidth\":0,\"ticks\":\"\"}}],\"histogram2d\":[{\"type\":\"histogram2d\",\"colorbar\":{\"outlinewidth\":0,\"ticks\":\"\"},\"colorscale\":[[0.0,\"#0d0887\"],[0.1111111111111111,\"#46039f\"],[0.2222222222222222,\"#7201a8\"],[0.3333333333333333,\"#9c179e\"],[0.4444444444444444,\"#bd3786\"],[0.5555555555555556,\"#d8576b\"],[0.6666666666666666,\"#ed7953\"],[0.7777777777777778,\"#fb9f3a\"],[0.8888888888888888,\"#fdca26\"],[1.0,\"#f0f921\"]]}],\"heatmap\":[{\"type\":\"heatmap\",\"colorbar\":{\"outlinewidth\":0,\"ticks\":\"\"},\"colorscale\":[[0.0,\"#0d0887\"],[0.1111111111111111,\"#46039f\"],[0.2222222222222222,\"#7201a8\"],[0.3333333333333333,\"#9c179e\"],[0.4444444444444444,\"#bd3786\"],[0.5555555555555556,\"#d8576b\"],[0.6666666666666666,\"#ed7953\"],[0.7777777777777778,\"#fb9f3a\"],[0.8888888888888888,\"#fdca26\"],[1.0,\"#f0f921\"]]}],\"heatmapgl\":[{\"type\":\"heatmapgl\",\"colorbar\":{\"outlinewidth\":0,\"ticks\":\"\"},\"colorscale\":[[0.0,\"#0d0887\"],[0.1111111111111111,\"#46039f\"],[0.2222222222222222,\"#7201a8\"],[0.3333333333333333,\"#9c179e\"],[0.4444444444444444,\"#bd3786\"],[0.5555555555555556,\"#d8576b\"],[0.6666666666666666,\"#ed7953\"],[0.7777777777777778,\"#fb9f3a\"],[0.8888888888888888,\"#fdca26\"],[1.0,\"#f0f921\"]]}],\"contourcarpet\":[{\"type\":\"contourcarpet\",\"colorbar\":{\"outlinewidth\":0,\"ticks\":\"\"}}],\"contour\":[{\"type\":\"contour\",\"colorbar\":{\"outlinewidth\":0,\"ticks\":\"\"},\"colorscale\":[[0.0,\"#0d0887\"],[0.1111111111111111,\"#46039f\"],[0.2222222222222222,\"#7201a8\"],[0.3333333333333333,\"#9c179e\"],[0.4444444444444444,\"#bd3786\"],[0.5555555555555556,\"#d8576b\"],[0.6666666666666666,\"#ed7953\"],[0.7777777777777778,\"#fb9f3a\"],[0.8888888888888888,\"#fdca26\"],[1.0,\"#f0f921\"]]}],\"surface\":[{\"type\":\"surface\",\"colorbar\":{\"outlinewidth\":0,\"ticks\":\"\"},\"colorscale\":[[0.0,\"#0d0887\"],[0.1111111111111111,\"#46039f\"],[0.2222222222222222,\"#7201a8\"],[0.3333333333333333,\"#9c179e\"],[0.4444444444444444,\"#bd3786\"],[0.5555555555555556,\"#d8576b\"],[0.6666666666666666,\"#ed7953\"],[0.7777777777777778,\"#fb9f3a\"],[0.8888888888888888,\"#fdca26\"],[1.0,\"#f0f921\"]]}],\"mesh3d\":[{\"type\":\"mesh3d\",\"colorbar\":{\"outlinewidth\":0,\"ticks\":\"\"}}],\"scatter\":[{\"fillpattern\":{\"fillmode\":\"overlay\",\"size\":10,\"solidity\":0.2},\"type\":\"scatter\"}],\"parcoords\":[{\"type\":\"parcoords\",\"line\":{\"colorbar\":{\"outlinewidth\":0,\"ticks\":\"\"}}}],\"scatterpolargl\":[{\"type\":\"scatterpolargl\",\"marker\":{\"colorbar\":{\"outlinewidth\":0,\"ticks\":\"\"}}}],\"bar\":[{\"error_x\":{\"color\":\"#2a3f5f\"},\"error_y\":{\"color\":\"#2a3f5f\"},\"marker\":{\"line\":{\"color\":\"#E5ECF6\",\"width\":0.5},\"pattern\":{\"fillmode\":\"overlay\",\"size\":10,\"solidity\":0.2}},\"type\":\"bar\"}],\"scattergeo\":[{\"type\":\"scattergeo\",\"marker\":{\"colorbar\":{\"outlinewidth\":0,\"ticks\":\"\"}}}],\"scatterpolar\":[{\"type\":\"scatterpolar\",\"marker\":{\"colorbar\":{\"outlinewidth\":0,\"ticks\":\"\"}}}],\"histogram\":[{\"marker\":{\"pattern\":{\"fillmode\":\"overlay\",\"size\":10,\"solidity\":0.2}},\"type\":\"histogram\"}],\"scattergl\":[{\"type\":\"scattergl\",\"marker\":{\"colorbar\":{\"outlinewidth\":0,\"ticks\":\"\"}}}],\"scatter3d\":[{\"type\":\"scatter3d\",\"line\":{\"colorbar\":{\"outlinewidth\":0,\"ticks\":\"\"}},\"marker\":{\"colorbar\":{\"outlinewidth\":0,\"ticks\":\"\"}}}],\"scattermapbox\":[{\"type\":\"scattermapbox\",\"marker\":{\"colorbar\":{\"outlinewidth\":0,\"ticks\":\"\"}}}],\"scatterternary\":[{\"type\":\"scatterternary\",\"marker\":{\"colorbar\":{\"outlinewidth\":0,\"ticks\":\"\"}}}],\"scattercarpet\":[{\"type\":\"scattercarpet\",\"marker\":{\"colorbar\":{\"outlinewidth\":0,\"ticks\":\"\"}}}],\"carpet\":[{\"aaxis\":{\"endlinecolor\":\"#2a3f5f\",\"gridcolor\":\"white\",\"linecolor\":\"white\",\"minorgridcolor\":\"white\",\"startlinecolor\":\"#2a3f5f\"},\"baxis\":{\"endlinecolor\":\"#2a3f5f\",\"gridcolor\":\"white\",\"linecolor\":\"white\",\"minorgridcolor\":\"white\",\"startlinecolor\":\"#2a3f5f\"},\"type\":\"carpet\"}],\"table\":[{\"cells\":{\"fill\":{\"color\":\"#EBF0F8\"},\"line\":{\"color\":\"white\"}},\"header\":{\"fill\":{\"color\":\"#C8D4E3\"},\"line\":{\"color\":\"white\"}},\"type\":\"table\"}],\"barpolar\":[{\"marker\":{\"line\":{\"color\":\"#E5ECF6\",\"width\":0.5},\"pattern\":{\"fillmode\":\"overlay\",\"size\":10,\"solidity\":0.2}},\"type\":\"barpolar\"}],\"pie\":[{\"automargin\":true,\"type\":\"pie\"}]},\"layout\":{\"autotypenumbers\":\"strict\",\"colorway\":[\"#636efa\",\"#EF553B\",\"#00cc96\",\"#ab63fa\",\"#FFA15A\",\"#19d3f3\",\"#FF6692\",\"#B6E880\",\"#FF97FF\",\"#FECB52\"],\"font\":{\"color\":\"#2a3f5f\"},\"hovermode\":\"closest\",\"hoverlabel\":{\"align\":\"left\"},\"paper_bgcolor\":\"white\",\"plot_bgcolor\":\"#E5ECF6\",\"polar\":{\"bgcolor\":\"#E5ECF6\",\"angularaxis\":{\"gridcolor\":\"white\",\"linecolor\":\"white\",\"ticks\":\"\"},\"radialaxis\":{\"gridcolor\":\"white\",\"linecolor\":\"white\",\"ticks\":\"\"}},\"ternary\":{\"bgcolor\":\"#E5ECF6\",\"aaxis\":{\"gridcolor\":\"white\",\"linecolor\":\"white\",\"ticks\":\"\"},\"baxis\":{\"gridcolor\":\"white\",\"linecolor\":\"white\",\"ticks\":\"\"},\"caxis\":{\"gridcolor\":\"white\",\"linecolor\":\"white\",\"ticks\":\"\"}},\"coloraxis\":{\"colorbar\":{\"outlinewidth\":0,\"ticks\":\"\"}},\"colorscale\":{\"sequential\":[[0.0,\"#0d0887\"],[0.1111111111111111,\"#46039f\"],[0.2222222222222222,\"#7201a8\"],[0.3333333333333333,\"#9c179e\"],[0.4444444444444444,\"#bd3786\"],[0.5555555555555556,\"#d8576b\"],[0.6666666666666666,\"#ed7953\"],[0.7777777777777778,\"#fb9f3a\"],[0.8888888888888888,\"#fdca26\"],[1.0,\"#f0f921\"]],\"sequentialminus\":[[0.0,\"#0d0887\"],[0.1111111111111111,\"#46039f\"],[0.2222222222222222,\"#7201a8\"],[0.3333333333333333,\"#9c179e\"],[0.4444444444444444,\"#bd3786\"],[0.5555555555555556,\"#d8576b\"],[0.6666666666666666,\"#ed7953\"],[0.7777777777777778,\"#fb9f3a\"],[0.8888888888888888,\"#fdca26\"],[1.0,\"#f0f921\"]],\"diverging\":[[0,\"#8e0152\"],[0.1,\"#c51b7d\"],[0.2,\"#de77ae\"],[0.3,\"#f1b6da\"],[0.4,\"#fde0ef\"],[0.5,\"#f7f7f7\"],[0.6,\"#e6f5d0\"],[0.7,\"#b8e186\"],[0.8,\"#7fbc41\"],[0.9,\"#4d9221\"],[1,\"#276419\"]]},\"xaxis\":{\"gridcolor\":\"white\",\"linecolor\":\"white\",\"ticks\":\"\",\"title\":{\"standoff\":15},\"zerolinecolor\":\"white\",\"automargin\":true,\"zerolinewidth\":2},\"yaxis\":{\"gridcolor\":\"white\",\"linecolor\":\"white\",\"ticks\":\"\",\"title\":{\"standoff\":15},\"zerolinecolor\":\"white\",\"automargin\":true,\"zerolinewidth\":2},\"scene\":{\"xaxis\":{\"backgroundcolor\":\"#E5ECF6\",\"gridcolor\":\"white\",\"linecolor\":\"white\",\"showbackground\":true,\"ticks\":\"\",\"zerolinecolor\":\"white\",\"gridwidth\":2},\"yaxis\":{\"backgroundcolor\":\"#E5ECF6\",\"gridcolor\":\"white\",\"linecolor\":\"white\",\"showbackground\":true,\"ticks\":\"\",\"zerolinecolor\":\"white\",\"gridwidth\":2},\"zaxis\":{\"backgroundcolor\":\"#E5ECF6\",\"gridcolor\":\"white\",\"linecolor\":\"white\",\"showbackground\":true,\"ticks\":\"\",\"zerolinecolor\":\"white\",\"gridwidth\":2}},\"shapedefaults\":{\"line\":{\"color\":\"#2a3f5f\"}},\"annotationdefaults\":{\"arrowcolor\":\"#2a3f5f\",\"arrowhead\":0,\"arrowwidth\":1},\"geo\":{\"bgcolor\":\"white\",\"landcolor\":\"#E5ECF6\",\"subunitcolor\":\"white\",\"showland\":true,\"showlakes\":true,\"lakecolor\":\"white\"},\"title\":{\"x\":0.05},\"mapbox\":{\"style\":\"light\"}}},\"title\":{\"text\":\"Mean region SafetySecurity\"}},                        {\"responsive\": true}                    ).then(function(){\n",
       "                            \n",
       "var gd = document.getElementById('398c76af-8815-4e0b-a15e-f379a9797f6e');\n",
       "var x = new MutationObserver(function (mutations, observer) {{\n",
       "        var display = window.getComputedStyle(gd).display;\n",
       "        if (!display || display === 'none') {{\n",
       "            console.log([gd, 'removed!']);\n",
       "            Plotly.purge(gd);\n",
       "            observer.disconnect();\n",
       "        }}\n",
       "}});\n",
       "\n",
       "// Listen for the removal of the full notebook cells\n",
       "var notebookContainer = gd.closest('#notebook-container');\n",
       "if (notebookContainer) {{\n",
       "    x.observe(notebookContainer, {childList: true});\n",
       "}}\n",
       "\n",
       "// Listen for the clearing of the current output cell\n",
       "var outputEl = gd.closest('.output');\n",
       "if (outputEl) {{\n",
       "    x.observe(outputEl, {childList: true});\n",
       "}}\n",
       "\n",
       "                        })                };                });            </script>        </div>"
      ]
     },
     "metadata": {},
     "output_type": "display_data"
    }
   ],
   "source": [
    "colors = ['lightslategray',] * 5\n",
    "colors[3] = 'crimson'\n",
    "\n",
    "fig = go.Figure(data=[go.Bar(\n",
    "    x = res.index.values,\n",
    "    y = res['SafetySecurity']['mean'].values,\n",
    "    marker_color=colors\n",
    ")])\n",
    "fig.update_layout(title_text='Mean region SafetySecurity')"
   ]
  },
  {
   "cell_type": "markdown",
   "id": "d1e468f6-151d-4858-a716-b13c435e02c6",
   "metadata": {},
   "source": [
    "<h2>Самый высокий показатель в Европе, самый низкий -- в Африке<h2>\n"
   ]
  },
  {
   "cell_type": "markdown",
   "id": "0781e5da-198e-4a83-9fbe-33fb055cf1fa",
   "metadata": {},
   "source": [
    "<h2>А какой же показатель оказывает самое большое влияние на AverageScore?<h2>"
   ]
  },
  {
   "cell_type": "code",
   "execution_count": 50,
   "id": "57e32315-5baf-4b25-9192-c58f13b412a8",
   "metadata": {},
   "outputs": [
    {
     "data": {
      "application/vnd.plotly.v1+json": {
       "config": {
        "plotlyServerURL": "https://plot.ly"
       },
       "data": [
        {
         "domain": {
          "x": [
           0,
           1
          ],
          "y": [
           0,
           1
          ]
         },
         "hovertemplate": "label=%{label}<br>value=%{value}<extra></extra>",
         "labels": [
          "SafetySecurity",
          "PersonelFreedom",
          "Governance",
          "SocialCapital",
          "InvestmentEnvironment",
          "EnterpriseConditions",
          "MarketAccessInfrastructure",
          "EconomicQuality",
          "LivingConditions",
          "Health",
          "Education",
          "NaturalEnvironment"
         ],
         "legendgroup": "",
         "name": "",
         "showlegend": true,
         "type": "pie",
         "values": [
          0.828604312526781,
          0.76309331678087,
          0.9240586265377295,
          0.7645955366505168,
          0.9486494430532811,
          0.8840384801747292,
          0.9433409040956027,
          0.9062940448610228,
          0.8944886447335095,
          0.8453266824309714,
          0.9102754149069409,
          0.6918732556593874
         ]
        }
       ],
       "layout": {
        "autosize": true,
        "legend": {
         "tracegroupgap": 0
        },
        "margin": {
         "t": 60
        },
        "piecolorway": [
         "rgb(103,0,31)",
         "rgb(178,24,43)",
         "rgb(214,96,77)",
         "rgb(244,165,130)",
         "rgb(253,219,199)",
         "rgb(247,247,247)",
         "rgb(209,229,240)",
         "rgb(146,197,222)",
         "rgb(67,147,195)",
         "rgb(33,102,172)",
         "rgb(5,48,97)"
        ],
        "template": {
         "data": {
          "bar": [
           {
            "error_x": {
             "color": "#2a3f5f"
            },
            "error_y": {
             "color": "#2a3f5f"
            },
            "marker": {
             "line": {
              "color": "#E5ECF6",
              "width": 0.5
             },
             "pattern": {
              "fillmode": "overlay",
              "size": 10,
              "solidity": 0.2
             }
            },
            "type": "bar"
           }
          ],
          "barpolar": [
           {
            "marker": {
             "line": {
              "color": "#E5ECF6",
              "width": 0.5
             },
             "pattern": {
              "fillmode": "overlay",
              "size": 10,
              "solidity": 0.2
             }
            },
            "type": "barpolar"
           }
          ],
          "carpet": [
           {
            "aaxis": {
             "endlinecolor": "#2a3f5f",
             "gridcolor": "white",
             "linecolor": "white",
             "minorgridcolor": "white",
             "startlinecolor": "#2a3f5f"
            },
            "baxis": {
             "endlinecolor": "#2a3f5f",
             "gridcolor": "white",
             "linecolor": "white",
             "minorgridcolor": "white",
             "startlinecolor": "#2a3f5f"
            },
            "type": "carpet"
           }
          ],
          "choropleth": [
           {
            "colorbar": {
             "outlinewidth": 0,
             "ticks": ""
            },
            "type": "choropleth"
           }
          ],
          "contour": [
           {
            "colorbar": {
             "outlinewidth": 0,
             "ticks": ""
            },
            "colorscale": [
             [
              0,
              "#0d0887"
             ],
             [
              0.1111111111111111,
              "#46039f"
             ],
             [
              0.2222222222222222,
              "#7201a8"
             ],
             [
              0.3333333333333333,
              "#9c179e"
             ],
             [
              0.4444444444444444,
              "#bd3786"
             ],
             [
              0.5555555555555556,
              "#d8576b"
             ],
             [
              0.6666666666666666,
              "#ed7953"
             ],
             [
              0.7777777777777778,
              "#fb9f3a"
             ],
             [
              0.8888888888888888,
              "#fdca26"
             ],
             [
              1,
              "#f0f921"
             ]
            ],
            "type": "contour"
           }
          ],
          "contourcarpet": [
           {
            "colorbar": {
             "outlinewidth": 0,
             "ticks": ""
            },
            "type": "contourcarpet"
           }
          ],
          "heatmap": [
           {
            "colorbar": {
             "outlinewidth": 0,
             "ticks": ""
            },
            "colorscale": [
             [
              0,
              "#0d0887"
             ],
             [
              0.1111111111111111,
              "#46039f"
             ],
             [
              0.2222222222222222,
              "#7201a8"
             ],
             [
              0.3333333333333333,
              "#9c179e"
             ],
             [
              0.4444444444444444,
              "#bd3786"
             ],
             [
              0.5555555555555556,
              "#d8576b"
             ],
             [
              0.6666666666666666,
              "#ed7953"
             ],
             [
              0.7777777777777778,
              "#fb9f3a"
             ],
             [
              0.8888888888888888,
              "#fdca26"
             ],
             [
              1,
              "#f0f921"
             ]
            ],
            "type": "heatmap"
           }
          ],
          "heatmapgl": [
           {
            "colorbar": {
             "outlinewidth": 0,
             "ticks": ""
            },
            "colorscale": [
             [
              0,
              "#0d0887"
             ],
             [
              0.1111111111111111,
              "#46039f"
             ],
             [
              0.2222222222222222,
              "#7201a8"
             ],
             [
              0.3333333333333333,
              "#9c179e"
             ],
             [
              0.4444444444444444,
              "#bd3786"
             ],
             [
              0.5555555555555556,
              "#d8576b"
             ],
             [
              0.6666666666666666,
              "#ed7953"
             ],
             [
              0.7777777777777778,
              "#fb9f3a"
             ],
             [
              0.8888888888888888,
              "#fdca26"
             ],
             [
              1,
              "#f0f921"
             ]
            ],
            "type": "heatmapgl"
           }
          ],
          "histogram": [
           {
            "marker": {
             "pattern": {
              "fillmode": "overlay",
              "size": 10,
              "solidity": 0.2
             }
            },
            "type": "histogram"
           }
          ],
          "histogram2d": [
           {
            "colorbar": {
             "outlinewidth": 0,
             "ticks": ""
            },
            "colorscale": [
             [
              0,
              "#0d0887"
             ],
             [
              0.1111111111111111,
              "#46039f"
             ],
             [
              0.2222222222222222,
              "#7201a8"
             ],
             [
              0.3333333333333333,
              "#9c179e"
             ],
             [
              0.4444444444444444,
              "#bd3786"
             ],
             [
              0.5555555555555556,
              "#d8576b"
             ],
             [
              0.6666666666666666,
              "#ed7953"
             ],
             [
              0.7777777777777778,
              "#fb9f3a"
             ],
             [
              0.8888888888888888,
              "#fdca26"
             ],
             [
              1,
              "#f0f921"
             ]
            ],
            "type": "histogram2d"
           }
          ],
          "histogram2dcontour": [
           {
            "colorbar": {
             "outlinewidth": 0,
             "ticks": ""
            },
            "colorscale": [
             [
              0,
              "#0d0887"
             ],
             [
              0.1111111111111111,
              "#46039f"
             ],
             [
              0.2222222222222222,
              "#7201a8"
             ],
             [
              0.3333333333333333,
              "#9c179e"
             ],
             [
              0.4444444444444444,
              "#bd3786"
             ],
             [
              0.5555555555555556,
              "#d8576b"
             ],
             [
              0.6666666666666666,
              "#ed7953"
             ],
             [
              0.7777777777777778,
              "#fb9f3a"
             ],
             [
              0.8888888888888888,
              "#fdca26"
             ],
             [
              1,
              "#f0f921"
             ]
            ],
            "type": "histogram2dcontour"
           }
          ],
          "mesh3d": [
           {
            "colorbar": {
             "outlinewidth": 0,
             "ticks": ""
            },
            "type": "mesh3d"
           }
          ],
          "parcoords": [
           {
            "line": {
             "colorbar": {
              "outlinewidth": 0,
              "ticks": ""
             }
            },
            "type": "parcoords"
           }
          ],
          "pie": [
           {
            "automargin": true,
            "type": "pie"
           }
          ],
          "scatter": [
           {
            "fillpattern": {
             "fillmode": "overlay",
             "size": 10,
             "solidity": 0.2
            },
            "type": "scatter"
           }
          ],
          "scatter3d": [
           {
            "line": {
             "colorbar": {
              "outlinewidth": 0,
              "ticks": ""
             }
            },
            "marker": {
             "colorbar": {
              "outlinewidth": 0,
              "ticks": ""
             }
            },
            "type": "scatter3d"
           }
          ],
          "scattercarpet": [
           {
            "marker": {
             "colorbar": {
              "outlinewidth": 0,
              "ticks": ""
             }
            },
            "type": "scattercarpet"
           }
          ],
          "scattergeo": [
           {
            "marker": {
             "colorbar": {
              "outlinewidth": 0,
              "ticks": ""
             }
            },
            "type": "scattergeo"
           }
          ],
          "scattergl": [
           {
            "marker": {
             "colorbar": {
              "outlinewidth": 0,
              "ticks": ""
             }
            },
            "type": "scattergl"
           }
          ],
          "scattermapbox": [
           {
            "marker": {
             "colorbar": {
              "outlinewidth": 0,
              "ticks": ""
             }
            },
            "type": "scattermapbox"
           }
          ],
          "scatterpolar": [
           {
            "marker": {
             "colorbar": {
              "outlinewidth": 0,
              "ticks": ""
             }
            },
            "type": "scatterpolar"
           }
          ],
          "scatterpolargl": [
           {
            "marker": {
             "colorbar": {
              "outlinewidth": 0,
              "ticks": ""
             }
            },
            "type": "scatterpolargl"
           }
          ],
          "scatterternary": [
           {
            "marker": {
             "colorbar": {
              "outlinewidth": 0,
              "ticks": ""
             }
            },
            "type": "scatterternary"
           }
          ],
          "surface": [
           {
            "colorbar": {
             "outlinewidth": 0,
             "ticks": ""
            },
            "colorscale": [
             [
              0,
              "#0d0887"
             ],
             [
              0.1111111111111111,
              "#46039f"
             ],
             [
              0.2222222222222222,
              "#7201a8"
             ],
             [
              0.3333333333333333,
              "#9c179e"
             ],
             [
              0.4444444444444444,
              "#bd3786"
             ],
             [
              0.5555555555555556,
              "#d8576b"
             ],
             [
              0.6666666666666666,
              "#ed7953"
             ],
             [
              0.7777777777777778,
              "#fb9f3a"
             ],
             [
              0.8888888888888888,
              "#fdca26"
             ],
             [
              1,
              "#f0f921"
             ]
            ],
            "type": "surface"
           }
          ],
          "table": [
           {
            "cells": {
             "fill": {
              "color": "#EBF0F8"
             },
             "line": {
              "color": "white"
             }
            },
            "header": {
             "fill": {
              "color": "#C8D4E3"
             },
             "line": {
              "color": "white"
             }
            },
            "type": "table"
           }
          ]
         },
         "layout": {
          "annotationdefaults": {
           "arrowcolor": "#2a3f5f",
           "arrowhead": 0,
           "arrowwidth": 1
          },
          "autotypenumbers": "strict",
          "coloraxis": {
           "colorbar": {
            "outlinewidth": 0,
            "ticks": ""
           }
          },
          "colorscale": {
           "diverging": [
            [
             0,
             "#8e0152"
            ],
            [
             0.1,
             "#c51b7d"
            ],
            [
             0.2,
             "#de77ae"
            ],
            [
             0.3,
             "#f1b6da"
            ],
            [
             0.4,
             "#fde0ef"
            ],
            [
             0.5,
             "#f7f7f7"
            ],
            [
             0.6,
             "#e6f5d0"
            ],
            [
             0.7,
             "#b8e186"
            ],
            [
             0.8,
             "#7fbc41"
            ],
            [
             0.9,
             "#4d9221"
            ],
            [
             1,
             "#276419"
            ]
           ],
           "sequential": [
            [
             0,
             "#0d0887"
            ],
            [
             0.1111111111111111,
             "#46039f"
            ],
            [
             0.2222222222222222,
             "#7201a8"
            ],
            [
             0.3333333333333333,
             "#9c179e"
            ],
            [
             0.4444444444444444,
             "#bd3786"
            ],
            [
             0.5555555555555556,
             "#d8576b"
            ],
            [
             0.6666666666666666,
             "#ed7953"
            ],
            [
             0.7777777777777778,
             "#fb9f3a"
            ],
            [
             0.8888888888888888,
             "#fdca26"
            ],
            [
             1,
             "#f0f921"
            ]
           ],
           "sequentialminus": [
            [
             0,
             "#0d0887"
            ],
            [
             0.1111111111111111,
             "#46039f"
            ],
            [
             0.2222222222222222,
             "#7201a8"
            ],
            [
             0.3333333333333333,
             "#9c179e"
            ],
            [
             0.4444444444444444,
             "#bd3786"
            ],
            [
             0.5555555555555556,
             "#d8576b"
            ],
            [
             0.6666666666666666,
             "#ed7953"
            ],
            [
             0.7777777777777778,
             "#fb9f3a"
            ],
            [
             0.8888888888888888,
             "#fdca26"
            ],
            [
             1,
             "#f0f921"
            ]
           ]
          },
          "colorway": [
           "#636efa",
           "#EF553B",
           "#00cc96",
           "#ab63fa",
           "#FFA15A",
           "#19d3f3",
           "#FF6692",
           "#B6E880",
           "#FF97FF",
           "#FECB52"
          ],
          "font": {
           "color": "#2a3f5f"
          },
          "geo": {
           "bgcolor": "white",
           "lakecolor": "white",
           "landcolor": "#E5ECF6",
           "showlakes": true,
           "showland": true,
           "subunitcolor": "white"
          },
          "hoverlabel": {
           "align": "left"
          },
          "hovermode": "closest",
          "mapbox": {
           "style": "light"
          },
          "paper_bgcolor": "white",
          "plot_bgcolor": "#E5ECF6",
          "polar": {
           "angularaxis": {
            "gridcolor": "white",
            "linecolor": "white",
            "ticks": ""
           },
           "bgcolor": "#E5ECF6",
           "radialaxis": {
            "gridcolor": "white",
            "linecolor": "white",
            "ticks": ""
           }
          },
          "scene": {
           "xaxis": {
            "backgroundcolor": "#E5ECF6",
            "gridcolor": "white",
            "gridwidth": 2,
            "linecolor": "white",
            "showbackground": true,
            "ticks": "",
            "zerolinecolor": "white"
           },
           "yaxis": {
            "backgroundcolor": "#E5ECF6",
            "gridcolor": "white",
            "gridwidth": 2,
            "linecolor": "white",
            "showbackground": true,
            "ticks": "",
            "zerolinecolor": "white"
           },
           "zaxis": {
            "backgroundcolor": "#E5ECF6",
            "gridcolor": "white",
            "gridwidth": 2,
            "linecolor": "white",
            "showbackground": true,
            "ticks": "",
            "zerolinecolor": "white"
           }
          },
          "shapedefaults": {
           "line": {
            "color": "#2a3f5f"
           }
          },
          "ternary": {
           "aaxis": {
            "gridcolor": "white",
            "linecolor": "white",
            "ticks": ""
           },
           "baxis": {
            "gridcolor": "white",
            "linecolor": "white",
            "ticks": ""
           },
           "bgcolor": "#E5ECF6",
           "caxis": {
            "gridcolor": "white",
            "linecolor": "white",
            "ticks": ""
           }
          },
          "title": {
           "x": 0.05
          },
          "xaxis": {
           "automargin": true,
           "gridcolor": "white",
           "linecolor": "white",
           "ticks": "",
           "title": {
            "standoff": 15
           },
           "zerolinecolor": "white",
           "zerolinewidth": 2
          },
          "yaxis": {
           "automargin": true,
           "gridcolor": "white",
           "linecolor": "white",
           "ticks": "",
           "title": {
            "standoff": 15
           },
           "zerolinecolor": "white",
           "zerolinewidth": 2
          }
         }
        }
       }
      },
      "image/png": "[encoded data removed]",
      "text/html": [
       "<div>                            <div id=\"f477557e-f496-40c6-b2e0-563e8e489d33\" class=\"plotly-graph-div\" style=\"height:525px; width:100%;\"></div>            <script type=\"text/javascript\">                require([\"plotly\"], function(Plotly) {                    window.PLOTLYENV=window.PLOTLYENV || {};                                    if (document.getElementById(\"f477557e-f496-40c6-b2e0-563e8e489d33\")) {                    Plotly.newPlot(                        \"f477557e-f496-40c6-b2e0-563e8e489d33\",                        [{\"domain\":{\"x\":[0.0,1.0],\"y\":[0.0,1.0]},\"hovertemplate\":\"label=%{label}\\u003cbr\\u003evalue=%{value}\\u003cextra\\u003e\\u003c\\u002fextra\\u003e\",\"labels\":[\"SafetySecurity\",\"PersonelFreedom\",\"Governance\",\"SocialCapital\",\"InvestmentEnvironment\",\"EnterpriseConditions\",\"MarketAccessInfrastructure\",\"EconomicQuality\",\"LivingConditions\",\"Health\",\"Education\",\"NaturalEnvironment\"],\"legendgroup\":\"\",\"name\":\"\",\"showlegend\":true,\"values\":[0.828604312526781,0.76309331678087,0.9240586265377295,0.7645955366505168,0.9486494430532811,0.8840384801747292,0.9433409040956027,0.9062940448610228,0.8944886447335095,0.8453266824309714,0.9102754149069409,0.6918732556593874],\"type\":\"pie\"}],                        {\"template\":{\"data\":{\"histogram2dcontour\":[{\"type\":\"histogram2dcontour\",\"colorbar\":{\"outlinewidth\":0,\"ticks\":\"\"},\"colorscale\":[[0.0,\"#0d0887\"],[0.1111111111111111,\"#46039f\"],[0.2222222222222222,\"#7201a8\"],[0.3333333333333333,\"#9c179e\"],[0.4444444444444444,\"#bd3786\"],[0.5555555555555556,\"#d8576b\"],[0.6666666666666666,\"#ed7953\"],[0.7777777777777778,\"#fb9f3a\"],[0.8888888888888888,\"#fdca26\"],[1.0,\"#f0f921\"]]}],\"choropleth\":[{\"type\":\"choropleth\",\"colorbar\":{\"outlinewidth\":0,\"ticks\":\"\"}}],\"histogram2d\":[{\"type\":\"histogram2d\",\"colorbar\":{\"outlinewidth\":0,\"ticks\":\"\"},\"colorscale\":[[0.0,\"#0d0887\"],[0.1111111111111111,\"#46039f\"],[0.2222222222222222,\"#7201a8\"],[0.3333333333333333,\"#9c179e\"],[0.4444444444444444,\"#bd3786\"],[0.5555555555555556,\"#d8576b\"],[0.6666666666666666,\"#ed7953\"],[0.7777777777777778,\"#fb9f3a\"],[0.8888888888888888,\"#fdca26\"],[1.0,\"#f0f921\"]]}],\"heatmap\":[{\"type\":\"heatmap\",\"colorbar\":{\"outlinewidth\":0,\"ticks\":\"\"},\"colorscale\":[[0.0,\"#0d0887\"],[0.1111111111111111,\"#46039f\"],[0.2222222222222222,\"#7201a8\"],[0.3333333333333333,\"#9c179e\"],[0.4444444444444444,\"#bd3786\"],[0.5555555555555556,\"#d8576b\"],[0.6666666666666666,\"#ed7953\"],[0.7777777777777778,\"#fb9f3a\"],[0.8888888888888888,\"#fdca26\"],[1.0,\"#f0f921\"]]}],\"heatmapgl\":[{\"type\":\"heatmapgl\",\"colorbar\":{\"outlinewidth\":0,\"ticks\":\"\"},\"colorscale\":[[0.0,\"#0d0887\"],[0.1111111111111111,\"#46039f\"],[0.2222222222222222,\"#7201a8\"],[0.3333333333333333,\"#9c179e\"],[0.4444444444444444,\"#bd3786\"],[0.5555555555555556,\"#d8576b\"],[0.6666666666666666,\"#ed7953\"],[0.7777777777777778,\"#fb9f3a\"],[0.8888888888888888,\"#fdca26\"],[1.0,\"#f0f921\"]]}],\"contourcarpet\":[{\"type\":\"contourcarpet\",\"colorbar\":{\"outlinewidth\":0,\"ticks\":\"\"}}],\"contour\":[{\"type\":\"contour\",\"colorbar\":{\"outlinewidth\":0,\"ticks\":\"\"},\"colorscale\":[[0.0,\"#0d0887\"],[0.1111111111111111,\"#46039f\"],[0.2222222222222222,\"#7201a8\"],[0.3333333333333333,\"#9c179e\"],[0.4444444444444444,\"#bd3786\"],[0.5555555555555556,\"#d8576b\"],[0.6666666666666666,\"#ed7953\"],[0.7777777777777778,\"#fb9f3a\"],[0.8888888888888888,\"#fdca26\"],[1.0,\"#f0f921\"]]}],\"surface\":[{\"type\":\"surface\",\"colorbar\":{\"outlinewidth\":0,\"ticks\":\"\"},\"colorscale\":[[0.0,\"#0d0887\"],[0.1111111111111111,\"#46039f\"],[0.2222222222222222,\"#7201a8\"],[0.3333333333333333,\"#9c179e\"],[0.4444444444444444,\"#bd3786\"],[0.5555555555555556,\"#d8576b\"],[0.6666666666666666,\"#ed7953\"],[0.7777777777777778,\"#fb9f3a\"],[0.8888888888888888,\"#fdca26\"],[1.0,\"#f0f921\"]]}],\"mesh3d\":[{\"type\":\"mesh3d\",\"colorbar\":{\"outlinewidth\":0,\"ticks\":\"\"}}],\"scatter\":[{\"fillpattern\":{\"fillmode\":\"overlay\",\"size\":10,\"solidity\":0.2},\"type\":\"scatter\"}],\"parcoords\":[{\"type\":\"parcoords\",\"line\":{\"colorbar\":{\"outlinewidth\":0,\"ticks\":\"\"}}}],\"scatterpolargl\":[{\"type\":\"scatterpolargl\",\"marker\":{\"colorbar\":{\"outlinewidth\":0,\"ticks\":\"\"}}}],\"bar\":[{\"error_x\":{\"color\":\"#2a3f5f\"},\"error_y\":{\"color\":\"#2a3f5f\"},\"marker\":{\"line\":{\"color\":\"#E5ECF6\",\"width\":0.5},\"pattern\":{\"fillmode\":\"overlay\",\"size\":10,\"solidity\":0.2}},\"type\":\"bar\"}],\"scattergeo\":[{\"type\":\"scattergeo\",\"marker\":{\"colorbar\":{\"outlinewidth\":0,\"ticks\":\"\"}}}],\"scatterpolar\":[{\"type\":\"scatterpolar\",\"marker\":{\"colorbar\":{\"outlinewidth\":0,\"ticks\":\"\"}}}],\"histogram\":[{\"marker\":{\"pattern\":{\"fillmode\":\"overlay\",\"size\":10,\"solidity\":0.2}},\"type\":\"histogram\"}],\"scattergl\":[{\"type\":\"scattergl\",\"marker\":{\"colorbar\":{\"outlinewidth\":0,\"ticks\":\"\"}}}],\"scatter3d\":[{\"type\":\"scatter3d\",\"line\":{\"colorbar\":{\"outlinewidth\":0,\"ticks\":\"\"}},\"marker\":{\"colorbar\":{\"outlinewidth\":0,\"ticks\":\"\"}}}],\"scattermapbox\":[{\"type\":\"scattermapbox\",\"marker\":{\"colorbar\":{\"outlinewidth\":0,\"ticks\":\"\"}}}],\"scatterternary\":[{\"type\":\"scatterternary\",\"marker\":{\"colorbar\":{\"outlinewidth\":0,\"ticks\":\"\"}}}],\"scattercarpet\":[{\"type\":\"scattercarpet\",\"marker\":{\"colorbar\":{\"outlinewidth\":0,\"ticks\":\"\"}}}],\"carpet\":[{\"aaxis\":{\"endlinecolor\":\"#2a3f5f\",\"gridcolor\":\"white\",\"linecolor\":\"white\",\"minorgridcolor\":\"white\",\"startlinecolor\":\"#2a3f5f\"},\"baxis\":{\"endlinecolor\":\"#2a3f5f\",\"gridcolor\":\"white\",\"linecolor\":\"white\",\"minorgridcolor\":\"white\",\"startlinecolor\":\"#2a3f5f\"},\"type\":\"carpet\"}],\"table\":[{\"cells\":{\"fill\":{\"color\":\"#EBF0F8\"},\"line\":{\"color\":\"white\"}},\"header\":{\"fill\":{\"color\":\"#C8D4E3\"},\"line\":{\"color\":\"white\"}},\"type\":\"table\"}],\"barpolar\":[{\"marker\":{\"line\":{\"color\":\"#E5ECF6\",\"width\":0.5},\"pattern\":{\"fillmode\":\"overlay\",\"size\":10,\"solidity\":0.2}},\"type\":\"barpolar\"}],\"pie\":[{\"automargin\":true,\"type\":\"pie\"}]},\"layout\":{\"autotypenumbers\":\"strict\",\"colorway\":[\"#636efa\",\"#EF553B\",\"#00cc96\",\"#ab63fa\",\"#FFA15A\",\"#19d3f3\",\"#FF6692\",\"#B6E880\",\"#FF97FF\",\"#FECB52\"],\"font\":{\"color\":\"#2a3f5f\"},\"hovermode\":\"closest\",\"hoverlabel\":{\"align\":\"left\"},\"paper_bgcolor\":\"white\",\"plot_bgcolor\":\"#E5ECF6\",\"polar\":{\"bgcolor\":\"#E5ECF6\",\"angularaxis\":{\"gridcolor\":\"white\",\"linecolor\":\"white\",\"ticks\":\"\"},\"radialaxis\":{\"gridcolor\":\"white\",\"linecolor\":\"white\",\"ticks\":\"\"}},\"ternary\":{\"bgcolor\":\"#E5ECF6\",\"aaxis\":{\"gridcolor\":\"white\",\"linecolor\":\"white\",\"ticks\":\"\"},\"baxis\":{\"gridcolor\":\"white\",\"linecolor\":\"white\",\"ticks\":\"\"},\"caxis\":{\"gridcolor\":\"white\",\"linecolor\":\"white\",\"ticks\":\"\"}},\"coloraxis\":{\"colorbar\":{\"outlinewidth\":0,\"ticks\":\"\"}},\"colorscale\":{\"sequential\":[[0.0,\"#0d0887\"],[0.1111111111111111,\"#46039f\"],[0.2222222222222222,\"#7201a8\"],[0.3333333333333333,\"#9c179e\"],[0.4444444444444444,\"#bd3786\"],[0.5555555555555556,\"#d8576b\"],[0.6666666666666666,\"#ed7953\"],[0.7777777777777778,\"#fb9f3a\"],[0.8888888888888888,\"#fdca26\"],[1.0,\"#f0f921\"]],\"sequentialminus\":[[0.0,\"#0d0887\"],[0.1111111111111111,\"#46039f\"],[0.2222222222222222,\"#7201a8\"],[0.3333333333333333,\"#9c179e\"],[0.4444444444444444,\"#bd3786\"],[0.5555555555555556,\"#d8576b\"],[0.6666666666666666,\"#ed7953\"],[0.7777777777777778,\"#fb9f3a\"],[0.8888888888888888,\"#fdca26\"],[1.0,\"#f0f921\"]],\"diverging\":[[0,\"#8e0152\"],[0.1,\"#c51b7d\"],[0.2,\"#de77ae\"],[0.3,\"#f1b6da\"],[0.4,\"#fde0ef\"],[0.5,\"#f7f7f7\"],[0.6,\"#e6f5d0\"],[0.7,\"#b8e186\"],[0.8,\"#7fbc41\"],[0.9,\"#4d9221\"],[1,\"#276419\"]]},\"xaxis\":{\"gridcolor\":\"white\",\"linecolor\":\"white\",\"ticks\":\"\",\"title\":{\"standoff\":15},\"zerolinecolor\":\"white\",\"automargin\":true,\"zerolinewidth\":2},\"yaxis\":{\"gridcolor\":\"white\",\"linecolor\":\"white\",\"ticks\":\"\",\"title\":{\"standoff\":15},\"zerolinecolor\":\"white\",\"automargin\":true,\"zerolinewidth\":2},\"scene\":{\"xaxis\":{\"backgroundcolor\":\"#E5ECF6\",\"gridcolor\":\"white\",\"linecolor\":\"white\",\"showbackground\":true,\"ticks\":\"\",\"zerolinecolor\":\"white\",\"gridwidth\":2},\"yaxis\":{\"backgroundcolor\":\"#E5ECF6\",\"gridcolor\":\"white\",\"linecolor\":\"white\",\"showbackground\":true,\"ticks\":\"\",\"zerolinecolor\":\"white\",\"gridwidth\":2},\"zaxis\":{\"backgroundcolor\":\"#E5ECF6\",\"gridcolor\":\"white\",\"linecolor\":\"white\",\"showbackground\":true,\"ticks\":\"\",\"zerolinecolor\":\"white\",\"gridwidth\":2}},\"shapedefaults\":{\"line\":{\"color\":\"#2a3f5f\"}},\"annotationdefaults\":{\"arrowcolor\":\"#2a3f5f\",\"arrowhead\":0,\"arrowwidth\":1},\"geo\":{\"bgcolor\":\"white\",\"landcolor\":\"#E5ECF6\",\"subunitcolor\":\"white\",\"showland\":true,\"showlakes\":true,\"lakecolor\":\"white\"},\"title\":{\"x\":0.05},\"mapbox\":{\"style\":\"light\"}}},\"legend\":{\"tracegroupgap\":0},\"margin\":{\"t\":60},\"piecolorway\":[\"rgb(103,0,31)\",\"rgb(178,24,43)\",\"rgb(214,96,77)\",\"rgb(244,165,130)\",\"rgb(253,219,199)\",\"rgb(247,247,247)\",\"rgb(209,229,240)\",\"rgb(146,197,222)\",\"rgb(67,147,195)\",\"rgb(33,102,172)\",\"rgb(5,48,97)\"]},                        {\"responsive\": true}                    ).then(function(){\n",
       "                            \n",
       "var gd = document.getElementById('f477557e-f496-40c6-b2e0-563e8e489d33');\n",
       "var x = new MutationObserver(function (mutations, observer) {{\n",
       "        var display = window.getComputedStyle(gd).display;\n",
       "        if (!display || display === 'none') {{\n",
       "            console.log([gd, 'removed!']);\n",
       "            Plotly.purge(gd);\n",
       "            observer.disconnect();\n",
       "        }}\n",
       "}});\n",
       "\n",
       "// Listen for the removal of the full notebook cells\n",
       "var notebookContainer = gd.closest('#notebook-container');\n",
       "if (notebookContainer) {{\n",
       "    x.observe(notebookContainer, {childList: true});\n",
       "}}\n",
       "\n",
       "// Listen for the clearing of the current output cell\n",
       "var outputEl = gd.closest('.output');\n",
       "if (outputEl) {{\n",
       "    x.observe(outputEl, {childList: true});\n",
       "}}\n",
       "\n",
       "                        })                };                });            </script>        </div>"
      ]
     },
     "metadata": {},
     "output_type": "display_data"
    }
   ],
   "source": [
    "values =[ cntr['AveragScore'].corr(cntr['SafetySecurity']), \n",
    "          cntr['AveragScore'].corr(cntr['PersonelFreedom']), \n",
    "          cntr['AveragScore'].corr(cntr['Governance']), \n",
    "          cntr['AveragScore'].corr(cntr['SocialCapital']),\n",
    "          cntr['AveragScore'].corr(cntr['InvestmentEnvironment']),\n",
    "          cntr['AveragScore'].corr(cntr['EnterpriseConditions']),\n",
    "          cntr['AveragScore'].corr(cntr['MarketAccessInfrastructure']),\n",
    "          cntr['AveragScore'].corr(cntr['EconomicQuality']),\n",
    "          cntr['AveragScore'].corr(cntr['LivingConditions']),\n",
    "          cntr['AveragScore'].corr(cntr['Health']),\n",
    "          cntr['AveragScore'].corr(cntr['Education']),\n",
    "          cntr['AveragScore'].corr(cntr['NaturalEnvironment'])\n",
    "        ]\n",
    "fig = px.pie(cntr, values=values , labels=cntr.keys(), names=cntr.keys()[2::], color_discrete_sequence=px.colors.sequential.RdBu)\n",
    "fig.show()"
   ]
  },
  {
   "cell_type": "markdown",
   "id": "68d20fab-fedb-4f70-9be6-783ad801a844",
   "metadata": {},
   "source": [
    "<h2>Видно, что MarketAccessInfrastructure является самым важным при подсчете AverageScore<h2>"
   ]
  },
  {
   "cell_type": "markdown",
   "id": "eeebb904-4f45-44c6-87ff-7a77e020c57e",
   "metadata": {},
   "source": [
    "<h2>Давайте посмотрим, какие будут AverageScore у разных стран<h2>"
   ]
  },
  {
   "cell_type": "code",
   "execution_count": 54,
   "id": "21c2bbc1-b356-4b9a-8d14-cc003fac86dc",
   "metadata": {},
   "outputs": [
    {
     "data": {
      "application/vnd.plotly.v1+json": {
       "config": {
        "plotlyServerURL": "https://plot.ly"
       },
       "data": [
        {
         "alignmentgroup": "True",
         "boxpoints": "all",
         "hovertemplate": "<b>%{hovertext}</b><br><br>AveragScore=%{y}<extra></extra>",
         "hovertext": [
          "Denmark",
          "Sweden",
          "Norway",
          "Finland",
          "Switzerland",
          "Netherlands",
          "Luxembourg",
          "Iceland",
          "Germany",
          "New Zealand",
          "Ireland",
          "United Kingdom",
          "Canada",
          "Austria",
          "Australia",
          "Japan",
          "Singapore",
          "Belgium",
          "United States",
          "Taiwan",
          "Estonia",
          "Hong Kong",
          "France",
          "Spain",
          "Czech Republic",
          "Portugal",
          "Slovenia",
          "Malta",
          "South Korea",
          "Italy",
          "Latvia",
          "Lithuania",
          "Israel",
          "Cyprus",
          "Slovakia",
          "Chile",
          "Poland",
          "Uruguay",
          "Costa Rica",
          "Greece",
          "Croatia",
          "Hungary",
          "Malaysia",
          "United Arab Emirates",
          "Romania",
          "Qatar",
          "Mauritius",
          "Bulgaria",
          "Montenegro",
          "Panama",
          "Seychelles",
          "Serbia",
          "Georgia",
          "China",
          "Macedonia",
          "Trinidad and Tobago",
          "Jamaica",
          "Argentina",
          "Peru",
          "Kuwait",
          "Armenia",
          "Bahrain",
          "Indonesia",
          "Thailand",
          "Albania",
          "Brazil",
          "Oman",
          "Dominican Republic",
          "Kazakhstan",
          "Moldova",
          "Mexico",
          "Bosnia and Herzegovina",
          "Vietnam",
          "Ukraine",
          "South Africa",
          "Paraguay",
          "Russia",
          "Belarus",
          "Saudi Arabia",
          "Cabo Verde",
          "Colombia",
          "Suriname",
          "Botswana",
          "Philippines",
          "Ecuador",
          "Jordan",
          "São Tomé and Príncipe",
          "Mongolia",
          "Guyana",
          "Namibia",
          "Sri Lanka",
          "Azerbaijan",
          "Belize",
          "Kyrgyzstan",
          "Turkey",
          "Morocco",
          "El Salvador",
          "Ghana",
          "Tunisia",
          "Uzbekistan",
          "Guatemala",
          "Senegal",
          "India",
          "Cuba",
          "Honduras",
          "Bolivia",
          "Turkmenistan",
          "Kenya",
          "Algeria",
          "Nepal",
          "Rwanda",
          "Lebanon",
          "Tajikistan",
          "Nicaragua",
          "Laos",
          "Gambia",
          "Tanzania",
          "Cambodia",
          "Gabon",
          "Côte d'Ivoire",
          "Egypt",
          "Djibouti",
          "Benin",
          "Bangladesh",
          "Malawi",
          "Iran",
          "Zambia",
          "Comoros",
          "Uganda",
          "Papua New Guinea",
          "Equatorial Guinea",
          "Lesotho",
          "Togo",
          "Swaziland",
          "Burkina Faso",
          "Pakistan",
          "Madagascar",
          "Liberia",
          "Zimbabwe",
          "Iraq",
          "Guinea",
          "Nigeria",
          "Myanmar",
          "Sierra Leone",
          "Venezuela",
          "Libya",
          "Cameroon",
          "Congo",
          "Guinea-Bissau",
          "Mozambique",
          "Mali",
          "Niger",
          "Ethiopia",
          "Mauritania",
          "Angola",
          "Haiti",
          "Burundi",
          "Sudan",
          "Syria",
          "Eritrea",
          "Democratic Republic of Congo",
          "Chad",
          "Somalia",
          "Afghanistan",
          "Central African Republic",
          "Yemen",
          "South Sudan"
         ],
         "legendgroup": "",
         "marker": {
          "color": "#636efa"
         },
         "name": "",
         "notched": false,
         "offsetgroup": "",
         "orientation": "v",
         "showlegend": false,
         "type": "box",
         "x0": " ",
         "xaxis": "x",
         "y": [
          84.55,
          83.67,
          83.59,
          83.47,
          83.42,
          82.32,
          81.83,
          81.02,
          80.81,
          80.47,
          80.31,
          79.95,
          79.62,
          79.38,
          79.36,
          78.22,
          78.21,
          77.84,
          77.44,
          77.36,
          77.31,
          76.9,
          76.73,
          76.03,
          75.08,
          74.64,
          74.54,
          74.36,
          74.07,
          73.03,
          72.99,
          72.54,
          72.25,
          71.82,
          71.15,
          70.18,
          70.15,
          69.69,
          69.59,
          68.48,
          68.24,
          66.88,
          66.84,
          66.69,
          66.4,
          66.24,
          65.65,
          65.55,
          65.01,
          64.32,
          63.65,
          62.75,
          62.28,
          62.15,
          61.95,
          61.91,
          61.39,
          61.38,
          61.27,
          60.93,
          60.92,
          60.92,
          60.88,
          60.79,
          60.69,
          60.07,
          59.85,
          59.85,
          59.53,
          59.44,
          59.3,
          59.11,
          58.86,
          58.84,
          58.67,
          58.56,
          58.5,
          58.4,
          58.35,
          58.34,
          58.01,
          57.91,
          57.83,
          57.53,
          57.42,
          57.14,
          57.09,
          57.07,
          56.93,
          56.38,
          56.34,
          56.26,
          55.91,
          55.75,
          55.5,
          55.19,
          55.05,
          54.66,
          54.46,
          53.8,
          53.73,
          53.68,
          53.66,
          53.44,
          53.25,
          53.13,
          52.38,
          52.25,
          52.13,
          51.57,
          51.56,
          51.38,
          51.2,
          50.22,
          50.18,
          50.1,
          49.2,
          49.19,
          48.84,
          48.59,
          48.57,
          48.47,
          48.22,
          47.87,
          47.83,
          47.71,
          47.14,
          46.93,
          46.83,
          46.64,
          46.59,
          45.62,
          45.52,
          45.36,
          45.12,
          45.1,
          44.94,
          44.79,
          44.67,
          44.66,
          44.47,
          44,
          43.66,
          43.62,
          43.6,
          43.46,
          43.08,
          42.82,
          42.78,
          42.7,
          42.36,
          42.26,
          41.87,
          41.23,
          40.55,
          39.82,
          38.2,
          36.97,
          36.83,
          36.02,
          35.74,
          34.69,
          34.39,
          34.18,
          32.83,
          32.65,
          30.4
         ],
         "y0": " ",
         "yaxis": "y"
        }
       ],
       "layout": {
        "autosize": true,
        "boxmode": "group",
        "legend": {
         "tracegroupgap": 0
        },
        "margin": {
         "t": 60
        },
        "template": {
         "data": {
          "bar": [
           {
            "error_x": {
             "color": "#2a3f5f"
            },
            "error_y": {
             "color": "#2a3f5f"
            },
            "marker": {
             "line": {
              "color": "#E5ECF6",
              "width": 0.5
             },
             "pattern": {
              "fillmode": "overlay",
              "size": 10,
              "solidity": 0.2
             }
            },
            "type": "bar"
           }
          ],
          "barpolar": [
           {
            "marker": {
             "line": {
              "color": "#E5ECF6",
              "width": 0.5
             },
             "pattern": {
              "fillmode": "overlay",
              "size": 10,
              "solidity": 0.2
             }
            },
            "type": "barpolar"
           }
          ],
          "carpet": [
           {
            "aaxis": {
             "endlinecolor": "#2a3f5f",
             "gridcolor": "white",
             "linecolor": "white",
             "minorgridcolor": "white",
             "startlinecolor": "#2a3f5f"
            },
            "baxis": {
             "endlinecolor": "#2a3f5f",
             "gridcolor": "white",
             "linecolor": "white",
             "minorgridcolor": "white",
             "startlinecolor": "#2a3f5f"
            },
            "type": "carpet"
           }
          ],
          "choropleth": [
           {
            "colorbar": {
             "outlinewidth": 0,
             "ticks": ""
            },
            "type": "choropleth"
           }
          ],
          "contour": [
           {
            "colorbar": {
             "outlinewidth": 0,
             "ticks": ""
            },
            "colorscale": [
             [
              0,
              "#0d0887"
             ],
             [
              0.1111111111111111,
              "#46039f"
             ],
             [
              0.2222222222222222,
              "#7201a8"
             ],
             [
              0.3333333333333333,
              "#9c179e"
             ],
             [
              0.4444444444444444,
              "#bd3786"
             ],
             [
              0.5555555555555556,
              "#d8576b"
             ],
             [
              0.6666666666666666,
              "#ed7953"
             ],
             [
              0.7777777777777778,
              "#fb9f3a"
             ],
             [
              0.8888888888888888,
              "#fdca26"
             ],
             [
              1,
              "#f0f921"
             ]
            ],
            "type": "contour"
           }
          ],
          "contourcarpet": [
           {
            "colorbar": {
             "outlinewidth": 0,
             "ticks": ""
            },
            "type": "contourcarpet"
           }
          ],
          "heatmap": [
           {
            "colorbar": {
             "outlinewidth": 0,
             "ticks": ""
            },
            "colorscale": [
             [
              0,
              "#0d0887"
             ],
             [
              0.1111111111111111,
              "#46039f"
             ],
             [
              0.2222222222222222,
              "#7201a8"
             ],
             [
              0.3333333333333333,
              "#9c179e"
             ],
             [
              0.4444444444444444,
              "#bd3786"
             ],
             [
              0.5555555555555556,
              "#d8576b"
             ],
             [
              0.6666666666666666,
              "#ed7953"
             ],
             [
              0.7777777777777778,
              "#fb9f3a"
             ],
             [
              0.8888888888888888,
              "#fdca26"
             ],
             [
              1,
              "#f0f921"
             ]
            ],
            "type": "heatmap"
           }
          ],
          "heatmapgl": [
           {
            "colorbar": {
             "outlinewidth": 0,
             "ticks": ""
            },
            "colorscale": [
             [
              0,
              "#0d0887"
             ],
             [
              0.1111111111111111,
              "#46039f"
             ],
             [
              0.2222222222222222,
              "#7201a8"
             ],
             [
              0.3333333333333333,
              "#9c179e"
             ],
             [
              0.4444444444444444,
              "#bd3786"
             ],
             [
              0.5555555555555556,
              "#d8576b"
             ],
             [
              0.6666666666666666,
              "#ed7953"
             ],
             [
              0.7777777777777778,
              "#fb9f3a"
             ],
             [
              0.8888888888888888,
              "#fdca26"
             ],
             [
              1,
              "#f0f921"
             ]
            ],
            "type": "heatmapgl"
           }
          ],
          "histogram": [
           {
            "marker": {
             "pattern": {
              "fillmode": "overlay",
              "size": 10,
              "solidity": 0.2
             }
            },
            "type": "histogram"
           }
          ],
          "histogram2d": [
           {
            "colorbar": {
             "outlinewidth": 0,
             "ticks": ""
            },
            "colorscale": [
             [
              0,
              "#0d0887"
             ],
             [
              0.1111111111111111,
              "#46039f"
             ],
             [
              0.2222222222222222,
              "#7201a8"
             ],
             [
              0.3333333333333333,
              "#9c179e"
             ],
             [
              0.4444444444444444,
              "#bd3786"
             ],
             [
              0.5555555555555556,
              "#d8576b"
             ],
             [
              0.6666666666666666,
              "#ed7953"
             ],
             [
              0.7777777777777778,
              "#fb9f3a"
             ],
             [
              0.8888888888888888,
              "#fdca26"
             ],
             [
              1,
              "#f0f921"
             ]
            ],
            "type": "histogram2d"
           }
          ],
          "histogram2dcontour": [
           {
            "colorbar": {
             "outlinewidth": 0,
             "ticks": ""
            },
            "colorscale": [
             [
              0,
              "#0d0887"
             ],
             [
              0.1111111111111111,
              "#46039f"
             ],
             [
              0.2222222222222222,
              "#7201a8"
             ],
             [
              0.3333333333333333,
              "#9c179e"
             ],
             [
              0.4444444444444444,
              "#bd3786"
             ],
             [
              0.5555555555555556,
              "#d8576b"
             ],
             [
              0.6666666666666666,
              "#ed7953"
             ],
             [
              0.7777777777777778,
              "#fb9f3a"
             ],
             [
              0.8888888888888888,
              "#fdca26"
             ],
             [
              1,
              "#f0f921"
             ]
            ],
            "type": "histogram2dcontour"
           }
          ],
          "mesh3d": [
           {
            "colorbar": {
             "outlinewidth": 0,
             "ticks": ""
            },
            "type": "mesh3d"
           }
          ],
          "parcoords": [
           {
            "line": {
             "colorbar": {
              "outlinewidth": 0,
              "ticks": ""
             }
            },
            "type": "parcoords"
           }
          ],
          "pie": [
           {
            "automargin": true,
            "type": "pie"
           }
          ],
          "scatter": [
           {
            "fillpattern": {
             "fillmode": "overlay",
             "size": 10,
             "solidity": 0.2
            },
            "type": "scatter"
           }
          ],
          "scatter3d": [
           {
            "line": {
             "colorbar": {
              "outlinewidth": 0,
              "ticks": ""
             }
            },
            "marker": {
             "colorbar": {
              "outlinewidth": 0,
              "ticks": ""
             }
            },
            "type": "scatter3d"
           }
          ],
          "scattercarpet": [
           {
            "marker": {
             "colorbar": {
              "outlinewidth": 0,
              "ticks": ""
             }
            },
            "type": "scattercarpet"
           }
          ],
          "scattergeo": [
           {
            "marker": {
             "colorbar": {
              "outlinewidth": 0,
              "ticks": ""
             }
            },
            "type": "scattergeo"
           }
          ],
          "scattergl": [
           {
            "marker": {
             "colorbar": {
              "outlinewidth": 0,
              "ticks": ""
             }
            },
            "type": "scattergl"
           }
          ],
          "scattermapbox": [
           {
            "marker": {
             "colorbar": {
              "outlinewidth": 0,
              "ticks": ""
             }
            },
            "type": "scattermapbox"
           }
          ],
          "scatterpolar": [
           {
            "marker": {
             "colorbar": {
              "outlinewidth": 0,
              "ticks": ""
             }
            },
            "type": "scatterpolar"
           }
          ],
          "scatterpolargl": [
           {
            "marker": {
             "colorbar": {
              "outlinewidth": 0,
              "ticks": ""
             }
            },
            "type": "scatterpolargl"
           }
          ],
          "scatterternary": [
           {
            "marker": {
             "colorbar": {
              "outlinewidth": 0,
              "ticks": ""
             }
            },
            "type": "scatterternary"
           }
          ],
          "surface": [
           {
            "colorbar": {
             "outlinewidth": 0,
             "ticks": ""
            },
            "colorscale": [
             [
              0,
              "#0d0887"
             ],
             [
              0.1111111111111111,
              "#46039f"
             ],
             [
              0.2222222222222222,
              "#7201a8"
             ],
             [
              0.3333333333333333,
              "#9c179e"
             ],
             [
              0.4444444444444444,
              "#bd3786"
             ],
             [
              0.5555555555555556,
              "#d8576b"
             ],
             [
              0.6666666666666666,
              "#ed7953"
             ],
             [
              0.7777777777777778,
              "#fb9f3a"
             ],
             [
              0.8888888888888888,
              "#fdca26"
             ],
             [
              1,
              "#f0f921"
             ]
            ],
            "type": "surface"
           }
          ],
          "table": [
           {
            "cells": {
             "fill": {
              "color": "#EBF0F8"
             },
             "line": {
              "color": "white"
             }
            },
            "header": {
             "fill": {
              "color": "#C8D4E3"
             },
             "line": {
              "color": "white"
             }
            },
            "type": "table"
           }
          ]
         },
         "layout": {
          "annotationdefaults": {
           "arrowcolor": "#2a3f5f",
           "arrowhead": 0,
           "arrowwidth": 1
          },
          "autotypenumbers": "strict",
          "coloraxis": {
           "colorbar": {
            "outlinewidth": 0,
            "ticks": ""
           }
          },
          "colorscale": {
           "diverging": [
            [
             0,
             "#8e0152"
            ],
            [
             0.1,
             "#c51b7d"
            ],
            [
             0.2,
             "#de77ae"
            ],
            [
             0.3,
             "#f1b6da"
            ],
            [
             0.4,
             "#fde0ef"
            ],
            [
             0.5,
             "#f7f7f7"
            ],
            [
             0.6,
             "#e6f5d0"
            ],
            [
             0.7,
             "#b8e186"
            ],
            [
             0.8,
             "#7fbc41"
            ],
            [
             0.9,
             "#4d9221"
            ],
            [
             1,
             "#276419"
            ]
           ],
           "sequential": [
            [
             0,
             "#0d0887"
            ],
            [
             0.1111111111111111,
             "#46039f"
            ],
            [
             0.2222222222222222,
             "#7201a8"
            ],
            [
             0.3333333333333333,
             "#9c179e"
            ],
            [
             0.4444444444444444,
             "#bd3786"
            ],
            [
             0.5555555555555556,
             "#d8576b"
            ],
            [
             0.6666666666666666,
             "#ed7953"
            ],
            [
             0.7777777777777778,
             "#fb9f3a"
            ],
            [
             0.8888888888888888,
             "#fdca26"
            ],
            [
             1,
             "#f0f921"
            ]
           ],
           "sequentialminus": [
            [
             0,
             "#0d0887"
            ],
            [
             0.1111111111111111,
             "#46039f"
            ],
            [
             0.2222222222222222,
             "#7201a8"
            ],
            [
             0.3333333333333333,
             "#9c179e"
            ],
            [
             0.4444444444444444,
             "#bd3786"
            ],
            [
             0.5555555555555556,
             "#d8576b"
            ],
            [
             0.6666666666666666,
             "#ed7953"
            ],
            [
             0.7777777777777778,
             "#fb9f3a"
            ],
            [
             0.8888888888888888,
             "#fdca26"
            ],
            [
             1,
             "#f0f921"
            ]
           ]
          },
          "colorway": [
           "#636efa",
           "#EF553B",
           "#00cc96",
           "#ab63fa",
           "#FFA15A",
           "#19d3f3",
           "#FF6692",
           "#B6E880",
           "#FF97FF",
           "#FECB52"
          ],
          "font": {
           "color": "#2a3f5f"
          },
          "geo": {
           "bgcolor": "white",
           "lakecolor": "white",
           "landcolor": "#E5ECF6",
           "showlakes": true,
           "showland": true,
           "subunitcolor": "white"
          },
          "hoverlabel": {
           "align": "left"
          },
          "hovermode": "closest",
          "mapbox": {
           "style": "light"
          },
          "paper_bgcolor": "white",
          "plot_bgcolor": "#E5ECF6",
          "polar": {
           "angularaxis": {
            "gridcolor": "white",
            "linecolor": "white",
            "ticks": ""
           },
           "bgcolor": "#E5ECF6",
           "radialaxis": {
            "gridcolor": "white",
            "linecolor": "white",
            "ticks": ""
           }
          },
          "scene": {
           "xaxis": {
            "backgroundcolor": "#E5ECF6",
            "gridcolor": "white",
            "gridwidth": 2,
            "linecolor": "white",
            "showbackground": true,
            "ticks": "",
            "zerolinecolor": "white"
           },
           "yaxis": {
            "backgroundcolor": "#E5ECF6",
            "gridcolor": "white",
            "gridwidth": 2,
            "linecolor": "white",
            "showbackground": true,
            "ticks": "",
            "zerolinecolor": "white"
           },
           "zaxis": {
            "backgroundcolor": "#E5ECF6",
            "gridcolor": "white",
            "gridwidth": 2,
            "linecolor": "white",
            "showbackground": true,
            "ticks": "",
            "zerolinecolor": "white"
           }
          },
          "shapedefaults": {
           "line": {
            "color": "#2a3f5f"
           }
          },
          "ternary": {
           "aaxis": {
            "gridcolor": "white",
            "linecolor": "white",
            "ticks": ""
           },
           "baxis": {
            "gridcolor": "white",
            "linecolor": "white",
            "ticks": ""
           },
           "bgcolor": "#E5ECF6",
           "caxis": {
            "gridcolor": "white",
            "linecolor": "white",
            "ticks": ""
           }
          },
          "title": {
           "x": 0.05
          },
          "xaxis": {
           "automargin": true,
           "gridcolor": "white",
           "linecolor": "white",
           "ticks": "",
           "title": {
            "standoff": 15
           },
           "zerolinecolor": "white",
           "zerolinewidth": 2
          },
          "yaxis": {
           "automargin": true,
           "gridcolor": "white",
           "linecolor": "white",
           "ticks": "",
           "title": {
            "standoff": 15
           },
           "zerolinecolor": "white",
           "zerolinewidth": 2
          }
         }
        },
        "xaxis": {
         "anchor": "y",
         "autorange": true,
         "domain": [
          0,
          1
         ],
         "range": [
          -0.5031982942430704,
          0.5
         ],
         "type": "category"
        },
        "yaxis": {
         "anchor": "x",
         "autorange": true,
         "domain": [
          0,
          1
         ],
         "range": [
          27.391666666666666,
          87.55833333333334
         ],
         "title": {
          "text": "AveragScore"
         },
         "type": "linear"
        }
       }
      },
      "image/png": "[encoded data removed]",
      "text/html": [
       "<div>                            <div id=\"da5f307c-d6cd-48fa-8f03-6f2608af8525\" class=\"plotly-graph-div\" style=\"height:525px; width:100%;\"></div>            <script type=\"text/javascript\">                require([\"plotly\"], function(Plotly) {                    window.PLOTLYENV=window.PLOTLYENV || {};                                    if (document.getElementById(\"da5f307c-d6cd-48fa-8f03-6f2608af8525\")) {                    Plotly.newPlot(                        \"da5f307c-d6cd-48fa-8f03-6f2608af8525\",                        [{\"alignmentgroup\":\"True\",\"boxpoints\":\"all\",\"hovertemplate\":\"\\u003cb\\u003e%{hovertext}\\u003c\\u002fb\\u003e\\u003cbr\\u003e\\u003cbr\\u003eAveragScore=%{y}\\u003cextra\\u003e\\u003c\\u002fextra\\u003e\",\"hovertext\":[\"Denmark\",\"Sweden\",\"Norway\",\"Finland\",\"Switzerland\",\"Netherlands\",\"Luxembourg\",\"Iceland\",\"Germany\",\"New Zealand\",\"Ireland\",\"United Kingdom\",\"Canada\",\"Austria\",\"Australia\",\"Japan\",\"Singapore\",\"Belgium\",\"United States\",\"Taiwan\",\"Estonia\",\"Hong Kong\",\"France\",\"Spain\",\"Czech Republic\",\"Portugal\",\"Slovenia\",\"Malta\",\"South Korea\",\"Italy\",\"Latvia\",\"Lithuania\",\"Israel\",\"Cyprus\",\"Slovakia\",\"Chile\",\"Poland\",\"Uruguay\",\"Costa Rica\",\"Greece\",\"Croatia\",\"Hungary\",\"Malaysia\",\"United Arab Emirates\",\"Romania\",\"Qatar\",\"Mauritius\",\"Bulgaria\",\"Montenegro\",\"Panama\",\"Seychelles\",\"Serbia\",\"Georgia\",\"China\",\"Macedonia\",\"Trinidad and Tobago\",\"Jamaica\",\"Argentina\",\"Peru\",\"Kuwait\",\"Armenia\",\"Bahrain\",\"Indonesia\",\"Thailand\",\"Albania\",\"Brazil\",\"Oman\",\"Dominican Republic\",\"Kazakhstan\",\"Moldova\",\"Mexico\",\"Bosnia and Herzegovina\",\"Vietnam\",\"Ukraine\",\"South Africa\",\"Paraguay\",\"Russia\",\"Belarus\",\"Saudi Arabia\",\"Cabo Verde\",\"Colombia\",\"Suriname\",\"Botswana\",\"Philippines\",\"Ecuador\",\"Jordan\",\"S\\u00e3o Tom\\u00e9 and Pr\\u00edncipe\",\"Mongolia\",\"Guyana\",\"Namibia\",\"Sri Lanka\",\"Azerbaijan\",\"Belize\",\"Kyrgyzstan\",\"Turkey\",\"Morocco\",\"El Salvador\",\"Ghana\",\"Tunisia\",\"Uzbekistan\",\"Guatemala\",\"Senegal\",\"India\",\"Cuba\",\"Honduras\",\"Bolivia\",\"Turkmenistan\",\"Kenya\",\"Algeria\",\"Nepal\",\"Rwanda\",\"Lebanon\",\"Tajikistan\",\"Nicaragua\",\"Laos\",\"Gambia\",\"Tanzania\",\"Cambodia\",\"Gabon\",\"C\\u00f4te d'Ivoire\",\"Egypt\",\"Djibouti\",\"Benin\",\"Bangladesh\",\"Malawi\",\"Iran\",\"Zambia\",\"Comoros\",\"Uganda\",\"Papua New Guinea\",\"Equatorial Guinea\",\"Lesotho\",\"Togo\",\"Swaziland\",\"Burkina Faso\",\"Pakistan\",\"Madagascar\",\"Liberia\",\"Zimbabwe\",\"Iraq\",\"Guinea\",\"Nigeria\",\"Myanmar\",\"Sierra Leone\",\"Venezuela\",\"Libya\",\"Cameroon\",\"Congo\",\"Guinea-Bissau\",\"Mozambique\",\"Mali\",\"Niger\",\"Ethiopia\",\"Mauritania\",\"Angola\",\"Haiti\",\"Burundi\",\"Sudan\",\"Syria\",\"Eritrea\",\"Democratic Republic of Congo\",\"Chad\",\"Somalia\",\"Afghanistan\",\"Central African Republic\",\"Yemen\",\"South Sudan\"],\"legendgroup\":\"\",\"marker\":{\"color\":\"#636efa\"},\"name\":\"\",\"notched\":false,\"offsetgroup\":\"\",\"orientation\":\"v\",\"showlegend\":false,\"x0\":\" \",\"xaxis\":\"x\",\"y\":[84.55,83.67,83.59,83.47,83.42,82.32,81.83,81.02,80.81,80.47,80.31,79.95,79.62,79.38,79.36,78.22,78.21,77.84,77.44,77.36,77.31,76.9,76.73,76.03,75.08,74.64,74.54,74.36,74.07,73.03,72.99,72.54,72.25,71.82,71.15,70.18,70.15,69.69,69.59,68.48,68.24,66.88,66.84,66.69,66.4,66.24,65.65,65.55,65.01,64.32,63.65,62.75,62.28,62.15,61.95,61.91,61.39,61.38,61.27,60.93,60.92,60.92,60.88,60.79,60.69,60.07,59.85,59.85,59.53,59.44,59.3,59.11,58.86,58.84,58.67,58.56,58.5,58.4,58.35,58.34,58.01,57.91,57.83,57.53,57.42,57.14,57.09,57.07,56.93,56.38,56.34,56.26,55.91,55.75,55.5,55.19,55.05,54.66,54.46,53.8,53.73,53.68,53.66,53.44,53.25,53.13,52.38,52.25,52.13,51.57,51.56,51.38,51.2,50.22,50.18,50.1,49.2,49.19,48.84,48.59,48.57,48.47,48.22,47.87,47.83,47.71,47.14,46.93,46.83,46.64,46.59,45.62,45.52,45.36,45.12,45.1,44.94,44.79,44.67,44.66,44.47,44.0,43.66,43.62,43.6,43.46,43.08,42.82,42.78,42.7,42.36,42.26,41.87,41.23,40.55,39.82,38.2,36.97,36.83,36.02,35.74,34.69,34.39,34.18,32.83,32.65,30.4],\"y0\":\" \",\"yaxis\":\"y\",\"type\":\"box\"}],                        {\"template\":{\"data\":{\"histogram2dcontour\":[{\"type\":\"histogram2dcontour\",\"colorbar\":{\"outlinewidth\":0,\"ticks\":\"\"},\"colorscale\":[[0.0,\"#0d0887\"],[0.1111111111111111,\"#46039f\"],[0.2222222222222222,\"#7201a8\"],[0.3333333333333333,\"#9c179e\"],[0.4444444444444444,\"#bd3786\"],[0.5555555555555556,\"#d8576b\"],[0.6666666666666666,\"#ed7953\"],[0.7777777777777778,\"#fb9f3a\"],[0.8888888888888888,\"#fdca26\"],[1.0,\"#f0f921\"]]}],\"choropleth\":[{\"type\":\"choropleth\",\"colorbar\":{\"outlinewidth\":0,\"ticks\":\"\"}}],\"histogram2d\":[{\"type\":\"histogram2d\",\"colorbar\":{\"outlinewidth\":0,\"ticks\":\"\"},\"colorscale\":[[0.0,\"#0d0887\"],[0.1111111111111111,\"#46039f\"],[0.2222222222222222,\"#7201a8\"],[0.3333333333333333,\"#9c179e\"],[0.4444444444444444,\"#bd3786\"],[0.5555555555555556,\"#d8576b\"],[0.6666666666666666,\"#ed7953\"],[0.7777777777777778,\"#fb9f3a\"],[0.8888888888888888,\"#fdca26\"],[1.0,\"#f0f921\"]]}],\"heatmap\":[{\"type\":\"heatmap\",\"colorbar\":{\"outlinewidth\":0,\"ticks\":\"\"},\"colorscale\":[[0.0,\"#0d0887\"],[0.1111111111111111,\"#46039f\"],[0.2222222222222222,\"#7201a8\"],[0.3333333333333333,\"#9c179e\"],[0.4444444444444444,\"#bd3786\"],[0.5555555555555556,\"#d8576b\"],[0.6666666666666666,\"#ed7953\"],[0.7777777777777778,\"#fb9f3a\"],[0.8888888888888888,\"#fdca26\"],[1.0,\"#f0f921\"]]}],\"heatmapgl\":[{\"type\":\"heatmapgl\",\"colorbar\":{\"outlinewidth\":0,\"ticks\":\"\"},\"colorscale\":[[0.0,\"#0d0887\"],[0.1111111111111111,\"#46039f\"],[0.2222222222222222,\"#7201a8\"],[0.3333333333333333,\"#9c179e\"],[0.4444444444444444,\"#bd3786\"],[0.5555555555555556,\"#d8576b\"],[0.6666666666666666,\"#ed7953\"],[0.7777777777777778,\"#fb9f3a\"],[0.8888888888888888,\"#fdca26\"],[1.0,\"#f0f921\"]]}],\"contourcarpet\":[{\"type\":\"contourcarpet\",\"colorbar\":{\"outlinewidth\":0,\"ticks\":\"\"}}],\"contour\":[{\"type\":\"contour\",\"colorbar\":{\"outlinewidth\":0,\"ticks\":\"\"},\"colorscale\":[[0.0,\"#0d0887\"],[0.1111111111111111,\"#46039f\"],[0.2222222222222222,\"#7201a8\"],[0.3333333333333333,\"#9c179e\"],[0.4444444444444444,\"#bd3786\"],[0.5555555555555556,\"#d8576b\"],[0.6666666666666666,\"#ed7953\"],[0.7777777777777778,\"#fb9f3a\"],[0.8888888888888888,\"#fdca26\"],[1.0,\"#f0f921\"]]}],\"surface\":[{\"type\":\"surface\",\"colorbar\":{\"outlinewidth\":0,\"ticks\":\"\"},\"colorscale\":[[0.0,\"#0d0887\"],[0.1111111111111111,\"#46039f\"],[0.2222222222222222,\"#7201a8\"],[0.3333333333333333,\"#9c179e\"],[0.4444444444444444,\"#bd3786\"],[0.5555555555555556,\"#d8576b\"],[0.6666666666666666,\"#ed7953\"],[0.7777777777777778,\"#fb9f3a\"],[0.8888888888888888,\"#fdca26\"],[1.0,\"#f0f921\"]]}],\"mesh3d\":[{\"type\":\"mesh3d\",\"colorbar\":{\"outlinewidth\":0,\"ticks\":\"\"}}],\"scatter\":[{\"fillpattern\":{\"fillmode\":\"overlay\",\"size\":10,\"solidity\":0.2},\"type\":\"scatter\"}],\"parcoords\":[{\"type\":\"parcoords\",\"line\":{\"colorbar\":{\"outlinewidth\":0,\"ticks\":\"\"}}}],\"scatterpolargl\":[{\"type\":\"scatterpolargl\",\"marker\":{\"colorbar\":{\"outlinewidth\":0,\"ticks\":\"\"}}}],\"bar\":[{\"error_x\":{\"color\":\"#2a3f5f\"},\"error_y\":{\"color\":\"#2a3f5f\"},\"marker\":{\"line\":{\"color\":\"#E5ECF6\",\"width\":0.5},\"pattern\":{\"fillmode\":\"overlay\",\"size\":10,\"solidity\":0.2}},\"type\":\"bar\"}],\"scattergeo\":[{\"type\":\"scattergeo\",\"marker\":{\"colorbar\":{\"outlinewidth\":0,\"ticks\":\"\"}}}],\"scatterpolar\":[{\"type\":\"scatterpolar\",\"marker\":{\"colorbar\":{\"outlinewidth\":0,\"ticks\":\"\"}}}],\"histogram\":[{\"marker\":{\"pattern\":{\"fillmode\":\"overlay\",\"size\":10,\"solidity\":0.2}},\"type\":\"histogram\"}],\"scattergl\":[{\"type\":\"scattergl\",\"marker\":{\"colorbar\":{\"outlinewidth\":0,\"ticks\":\"\"}}}],\"scatter3d\":[{\"type\":\"scatter3d\",\"line\":{\"colorbar\":{\"outlinewidth\":0,\"ticks\":\"\"}},\"marker\":{\"colorbar\":{\"outlinewidth\":0,\"ticks\":\"\"}}}],\"scattermapbox\":[{\"type\":\"scattermapbox\",\"marker\":{\"colorbar\":{\"outlinewidth\":0,\"ticks\":\"\"}}}],\"scatterternary\":[{\"type\":\"scatterternary\",\"marker\":{\"colorbar\":{\"outlinewidth\":0,\"ticks\":\"\"}}}],\"scattercarpet\":[{\"type\":\"scattercarpet\",\"marker\":{\"colorbar\":{\"outlinewidth\":0,\"ticks\":\"\"}}}],\"carpet\":[{\"aaxis\":{\"endlinecolor\":\"#2a3f5f\",\"gridcolor\":\"white\",\"linecolor\":\"white\",\"minorgridcolor\":\"white\",\"startlinecolor\":\"#2a3f5f\"},\"baxis\":{\"endlinecolor\":\"#2a3f5f\",\"gridcolor\":\"white\",\"linecolor\":\"white\",\"minorgridcolor\":\"white\",\"startlinecolor\":\"#2a3f5f\"},\"type\":\"carpet\"}],\"table\":[{\"cells\":{\"fill\":{\"color\":\"#EBF0F8\"},\"line\":{\"color\":\"white\"}},\"header\":{\"fill\":{\"color\":\"#C8D4E3\"},\"line\":{\"color\":\"white\"}},\"type\":\"table\"}],\"barpolar\":[{\"marker\":{\"line\":{\"color\":\"#E5ECF6\",\"width\":0.5},\"pattern\":{\"fillmode\":\"overlay\",\"size\":10,\"solidity\":0.2}},\"type\":\"barpolar\"}],\"pie\":[{\"automargin\":true,\"type\":\"pie\"}]},\"layout\":{\"autotypenumbers\":\"strict\",\"colorway\":[\"#636efa\",\"#EF553B\",\"#00cc96\",\"#ab63fa\",\"#FFA15A\",\"#19d3f3\",\"#FF6692\",\"#B6E880\",\"#FF97FF\",\"#FECB52\"],\"font\":{\"color\":\"#2a3f5f\"},\"hovermode\":\"closest\",\"hoverlabel\":{\"align\":\"left\"},\"paper_bgcolor\":\"white\",\"plot_bgcolor\":\"#E5ECF6\",\"polar\":{\"bgcolor\":\"#E5ECF6\",\"angularaxis\":{\"gridcolor\":\"white\",\"linecolor\":\"white\",\"ticks\":\"\"},\"radialaxis\":{\"gridcolor\":\"white\",\"linecolor\":\"white\",\"ticks\":\"\"}},\"ternary\":{\"bgcolor\":\"#E5ECF6\",\"aaxis\":{\"gridcolor\":\"white\",\"linecolor\":\"white\",\"ticks\":\"\"},\"baxis\":{\"gridcolor\":\"white\",\"linecolor\":\"white\",\"ticks\":\"\"},\"caxis\":{\"gridcolor\":\"white\",\"linecolor\":\"white\",\"ticks\":\"\"}},\"coloraxis\":{\"colorbar\":{\"outlinewidth\":0,\"ticks\":\"\"}},\"colorscale\":{\"sequential\":[[0.0,\"#0d0887\"],[0.1111111111111111,\"#46039f\"],[0.2222222222222222,\"#7201a8\"],[0.3333333333333333,\"#9c179e\"],[0.4444444444444444,\"#bd3786\"],[0.5555555555555556,\"#d8576b\"],[0.6666666666666666,\"#ed7953\"],[0.7777777777777778,\"#fb9f3a\"],[0.8888888888888888,\"#fdca26\"],[1.0,\"#f0f921\"]],\"sequentialminus\":[[0.0,\"#0d0887\"],[0.1111111111111111,\"#46039f\"],[0.2222222222222222,\"#7201a8\"],[0.3333333333333333,\"#9c179e\"],[0.4444444444444444,\"#bd3786\"],[0.5555555555555556,\"#d8576b\"],[0.6666666666666666,\"#ed7953\"],[0.7777777777777778,\"#fb9f3a\"],[0.8888888888888888,\"#fdca26\"],[1.0,\"#f0f921\"]],\"diverging\":[[0,\"#8e0152\"],[0.1,\"#c51b7d\"],[0.2,\"#de77ae\"],[0.3,\"#f1b6da\"],[0.4,\"#fde0ef\"],[0.5,\"#f7f7f7\"],[0.6,\"#e6f5d0\"],[0.7,\"#b8e186\"],[0.8,\"#7fbc41\"],[0.9,\"#4d9221\"],[1,\"#276419\"]]},\"xaxis\":{\"gridcolor\":\"white\",\"linecolor\":\"white\",\"ticks\":\"\",\"title\":{\"standoff\":15},\"zerolinecolor\":\"white\",\"automargin\":true,\"zerolinewidth\":2},\"yaxis\":{\"gridcolor\":\"white\",\"linecolor\":\"white\",\"ticks\":\"\",\"title\":{\"standoff\":15},\"zerolinecolor\":\"white\",\"automargin\":true,\"zerolinewidth\":2},\"scene\":{\"xaxis\":{\"backgroundcolor\":\"#E5ECF6\",\"gridcolor\":\"white\",\"linecolor\":\"white\",\"showbackground\":true,\"ticks\":\"\",\"zerolinecolor\":\"white\",\"gridwidth\":2},\"yaxis\":{\"backgroundcolor\":\"#E5ECF6\",\"gridcolor\":\"white\",\"linecolor\":\"white\",\"showbackground\":true,\"ticks\":\"\",\"zerolinecolor\":\"white\",\"gridwidth\":2},\"zaxis\":{\"backgroundcolor\":\"#E5ECF6\",\"gridcolor\":\"white\",\"linecolor\":\"white\",\"showbackground\":true,\"ticks\":\"\",\"zerolinecolor\":\"white\",\"gridwidth\":2}},\"shapedefaults\":{\"line\":{\"color\":\"#2a3f5f\"}},\"annotationdefaults\":{\"arrowcolor\":\"#2a3f5f\",\"arrowhead\":0,\"arrowwidth\":1},\"geo\":{\"bgcolor\":\"white\",\"landcolor\":\"#E5ECF6\",\"subunitcolor\":\"white\",\"showland\":true,\"showlakes\":true,\"lakecolor\":\"white\"},\"title\":{\"x\":0.05},\"mapbox\":{\"style\":\"light\"}}},\"xaxis\":{\"anchor\":\"y\",\"domain\":[0.0,1.0]},\"yaxis\":{\"anchor\":\"x\",\"domain\":[0.0,1.0],\"title\":{\"text\":\"AveragScore\"}},\"legend\":{\"tracegroupgap\":0},\"margin\":{\"t\":60},\"boxmode\":\"group\"},                        {\"responsive\": true}                    ).then(function(){\n",
       "                            \n",
       "var gd = document.getElementById('da5f307c-d6cd-48fa-8f03-6f2608af8525');\n",
       "var x = new MutationObserver(function (mutations, observer) {{\n",
       "        var display = window.getComputedStyle(gd).display;\n",
       "        if (!display || display === 'none') {{\n",
       "            console.log([gd, 'removed!']);\n",
       "            Plotly.purge(gd);\n",
       "            observer.disconnect();\n",
       "        }}\n",
       "}});\n",
       "\n",
       "// Listen for the removal of the full notebook cells\n",
       "var notebookContainer = gd.closest('#notebook-container');\n",
       "if (notebookContainer) {{\n",
       "    x.observe(notebookContainer, {childList: true});\n",
       "}}\n",
       "\n",
       "// Listen for the clearing of the current output cell\n",
       "var outputEl = gd.closest('.output');\n",
       "if (outputEl) {{\n",
       "    x.observe(outputEl, {childList: true});\n",
       "}}\n",
       "\n",
       "                        })                };                });            </script>        </div>"
      ]
     },
     "metadata": {},
     "output_type": "display_data"
    }
   ],
   "source": [
    "fig = px.box(cntr, y = 'AveragScore', points = 'all', hover_name = 'Country')\n",
    "fig.show()"
   ]
  },
  {
   "cell_type": "markdown",
   "id": "0321555c-70de-42b7-b2a2-e04fb212bb30",
   "metadata": {},
   "source": [
    "<h2>Видно, что среднее значение примерно равно 47.74-68.87, а медианное -- 57.53.<h2>"
   ]
  },
  {
   "cell_type": "code",
   "execution_count": 57,
   "id": "90c61986-cdee-4240-bc38-e7d3c966f726",
   "metadata": {},
   "outputs": [
    {
     "data": {
      "text/html": [
       "<div>\n",
       "<style scoped>\n",
       "    .dataframe tbody tr th:only-of-type {\n",
       "        vertical-align: middle;\n",
       "    }\n",
       "\n",
       "    .dataframe tbody tr th {\n",
       "        vertical-align: top;\n",
       "    }\n",
       "\n",
       "    .dataframe thead th {\n",
       "        text-align: right;\n",
       "    }\n",
       "</style>\n",
       "<table border=\"1\" class=\"dataframe\">\n",
       "  <thead>\n",
       "    <tr style=\"text-align: right;\">\n",
       "      <th></th>\n",
       "      <th>country_code</th>\n",
       "      <th>latitude</th>\n",
       "      <th>longitude</th>\n",
       "      <th>Country</th>\n",
       "      <th>usa_state_code</th>\n",
       "      <th>usa_state_latitude</th>\n",
       "      <th>usa_state_longitude</th>\n",
       "      <th>usa_state</th>\n",
       "    </tr>\n",
       "  </thead>\n",
       "  <tbody>\n",
       "    <tr>\n",
       "      <th>0</th>\n",
       "      <td>AD</td>\n",
       "      <td>42.546245</td>\n",
       "      <td>1.601554</td>\n",
       "      <td>Andorra</td>\n",
       "      <td>AK</td>\n",
       "      <td>63.588753</td>\n",
       "      <td>-154.493062</td>\n",
       "      <td>Alaska</td>\n",
       "    </tr>\n",
       "    <tr>\n",
       "      <th>1</th>\n",
       "      <td>AE</td>\n",
       "      <td>23.424076</td>\n",
       "      <td>53.847818</td>\n",
       "      <td>United Arab Emirates</td>\n",
       "      <td>AL</td>\n",
       "      <td>32.318231</td>\n",
       "      <td>-86.902298</td>\n",
       "      <td>Alabama</td>\n",
       "    </tr>\n",
       "    <tr>\n",
       "      <th>2</th>\n",
       "      <td>AF</td>\n",
       "      <td>33.939110</td>\n",
       "      <td>67.709953</td>\n",
       "      <td>Afghanistan</td>\n",
       "      <td>AR</td>\n",
       "      <td>35.201050</td>\n",
       "      <td>-91.831833</td>\n",
       "      <td>Arkansas</td>\n",
       "    </tr>\n",
       "    <tr>\n",
       "      <th>3</th>\n",
       "      <td>AG</td>\n",
       "      <td>17.060816</td>\n",
       "      <td>-61.796428</td>\n",
       "      <td>Antigua and Barbuda</td>\n",
       "      <td>AZ</td>\n",
       "      <td>34.048928</td>\n",
       "      <td>-111.093731</td>\n",
       "      <td>Arizona</td>\n",
       "    </tr>\n",
       "    <tr>\n",
       "      <th>4</th>\n",
       "      <td>AI</td>\n",
       "      <td>18.220554</td>\n",
       "      <td>-63.068615</td>\n",
       "      <td>Anguilla</td>\n",
       "      <td>CA</td>\n",
       "      <td>36.778261</td>\n",
       "      <td>-119.417932</td>\n",
       "      <td>California</td>\n",
       "    </tr>\n",
       "  </tbody>\n",
       "</table>\n",
       "</div>"
      ],
      "text/plain": [
       "  country_code   latitude  longitude               Country usa_state_code  \\\n",
       "0           AD  42.546245   1.601554               Andorra             AK   \n",
       "1           AE  23.424076  53.847818  United Arab Emirates             AL   \n",
       "2           AF  33.939110  67.709953           Afghanistan             AR   \n",
       "3           AG  17.060816 -61.796428   Antigua and Barbuda             AZ   \n",
       "4           AI  18.220554 -63.068615              Anguilla             CA   \n",
       "\n",
       "   usa_state_latitude  usa_state_longitude   usa_state  \n",
       "0           63.588753          -154.493062      Alaska  \n",
       "1           32.318231           -86.902298     Alabama  \n",
       "2           35.201050           -91.831833    Arkansas  \n",
       "3           34.048928          -111.093731     Arizona  \n",
       "4           36.778261          -119.417932  California  "
      ]
     },
     "execution_count": 57,
     "metadata": {},
     "output_type": "execute_result"
    }
   ],
   "source": [
    "geo = pd.read_csv(r\"C:\\Users\\danzh\\OneDrive\\Рабочий стол\\mall\\world_country_and_usa_states_latitude_and_longitude_values.csv\")\n",
    "geo.head()\n"
   ]
  },
  {
   "cell_type": "markdown",
   "id": "c63f2c34-88ff-4ccb-9348-0c563990db8e",
   "metadata": {},
   "source": [
    "<h2>Теперь расположим некоторые страны и их AverageScore на карте.<h2>"
   ]
  },
  {
   "cell_type": "markdown",
   "id": "99744933-2080-4aa1-8599-5e3c0d3fa2e9",
   "metadata": {},
   "source": [
    "<h2>Нам понадобится датасет с долготой и широтой этих стран<h2>"
   ]
  },
  {
   "cell_type": "code",
   "execution_count": 61,
   "id": "312d86a4-8514-4dc1-8a44-00c0a21394ce",
   "metadata": {},
   "outputs": [
    {
     "data": {
      "text/html": [
       "<div>\n",
       "<style scoped>\n",
       "    .dataframe tbody tr th:only-of-type {\n",
       "        vertical-align: middle;\n",
       "    }\n",
       "\n",
       "    .dataframe tbody tr th {\n",
       "        vertical-align: top;\n",
       "    }\n",
       "\n",
       "    .dataframe thead th {\n",
       "        text-align: right;\n",
       "    }\n",
       "</style>\n",
       "<table border=\"1\" class=\"dataframe\">\n",
       "  <thead>\n",
       "    <tr style=\"text-align: right;\">\n",
       "      <th></th>\n",
       "      <th>Country</th>\n",
       "      <th>AveragScore</th>\n",
       "      <th>SafetySecurity</th>\n",
       "      <th>PersonelFreedom</th>\n",
       "      <th>Governance</th>\n",
       "      <th>SocialCapital</th>\n",
       "      <th>InvestmentEnvironment</th>\n",
       "      <th>EnterpriseConditions</th>\n",
       "      <th>MarketAccessInfrastructure</th>\n",
       "      <th>EconomicQuality</th>\n",
       "      <th>...</th>\n",
       "      <th>Health</th>\n",
       "      <th>Education</th>\n",
       "      <th>NaturalEnvironment</th>\n",
       "      <th>country_code</th>\n",
       "      <th>latitude</th>\n",
       "      <th>longitude</th>\n",
       "      <th>usa_state_code</th>\n",
       "      <th>usa_state_latitude</th>\n",
       "      <th>usa_state_longitude</th>\n",
       "      <th>usa_state</th>\n",
       "    </tr>\n",
       "  </thead>\n",
       "  <tbody>\n",
       "    <tr>\n",
       "      <th>0</th>\n",
       "      <td>Denmark</td>\n",
       "      <td>84.55</td>\n",
       "      <td>92.59</td>\n",
       "      <td>94.09</td>\n",
       "      <td>89.45</td>\n",
       "      <td>82.56</td>\n",
       "      <td>82.42</td>\n",
       "      <td>79.64</td>\n",
       "      <td>78.79</td>\n",
       "      <td>76.81</td>\n",
       "      <td>...</td>\n",
       "      <td>81.07</td>\n",
       "      <td>87.48</td>\n",
       "      <td>73.94</td>\n",
       "      <td>DK</td>\n",
       "      <td>56.263920</td>\n",
       "      <td>9.501785</td>\n",
       "      <td>NaN</td>\n",
       "      <td>NaN</td>\n",
       "      <td>NaN</td>\n",
       "      <td>NaN</td>\n",
       "    </tr>\n",
       "    <tr>\n",
       "      <th>1</th>\n",
       "      <td>Sweden</td>\n",
       "      <td>83.67</td>\n",
       "      <td>90.97</td>\n",
       "      <td>91.90</td>\n",
       "      <td>86.41</td>\n",
       "      <td>78.29</td>\n",
       "      <td>82.81</td>\n",
       "      <td>75.54</td>\n",
       "      <td>79.67</td>\n",
       "      <td>76.18</td>\n",
       "      <td>...</td>\n",
       "      <td>82.28</td>\n",
       "      <td>85.92</td>\n",
       "      <td>78.74</td>\n",
       "      <td>SE</td>\n",
       "      <td>60.128161</td>\n",
       "      <td>18.643501</td>\n",
       "      <td>NaN</td>\n",
       "      <td>NaN</td>\n",
       "      <td>NaN</td>\n",
       "      <td>NaN</td>\n",
       "    </tr>\n",
       "    <tr>\n",
       "      <th>2</th>\n",
       "      <td>Norway</td>\n",
       "      <td>83.59</td>\n",
       "      <td>93.30</td>\n",
       "      <td>94.10</td>\n",
       "      <td>89.66</td>\n",
       "      <td>79.03</td>\n",
       "      <td>82.24</td>\n",
       "      <td>75.95</td>\n",
       "      <td>75.87</td>\n",
       "      <td>77.25</td>\n",
       "      <td>...</td>\n",
       "      <td>82.98</td>\n",
       "      <td>85.68</td>\n",
       "      <td>72.37</td>\n",
       "      <td>NO</td>\n",
       "      <td>60.472024</td>\n",
       "      <td>8.468946</td>\n",
       "      <td>NaN</td>\n",
       "      <td>NaN</td>\n",
       "      <td>NaN</td>\n",
       "      <td>NaN</td>\n",
       "    </tr>\n",
       "    <tr>\n",
       "      <th>3</th>\n",
       "      <td>Finland</td>\n",
       "      <td>83.47</td>\n",
       "      <td>89.56</td>\n",
       "      <td>91.96</td>\n",
       "      <td>90.41</td>\n",
       "      <td>77.27</td>\n",
       "      <td>84.12</td>\n",
       "      <td>77.25</td>\n",
       "      <td>78.77</td>\n",
       "      <td>70.28</td>\n",
       "      <td>...</td>\n",
       "      <td>81.19</td>\n",
       "      <td>88.38</td>\n",
       "      <td>77.99</td>\n",
       "      <td>FI</td>\n",
       "      <td>61.924110</td>\n",
       "      <td>25.748151</td>\n",
       "      <td>NaN</td>\n",
       "      <td>NaN</td>\n",
       "      <td>NaN</td>\n",
       "      <td>NaN</td>\n",
       "    </tr>\n",
       "    <tr>\n",
       "      <th>4</th>\n",
       "      <td>Switzerland</td>\n",
       "      <td>83.42</td>\n",
       "      <td>95.66</td>\n",
       "      <td>87.50</td>\n",
       "      <td>87.67</td>\n",
       "      <td>69.14</td>\n",
       "      <td>80.81</td>\n",
       "      <td>83.84</td>\n",
       "      <td>78.65</td>\n",
       "      <td>79.71</td>\n",
       "      <td>...</td>\n",
       "      <td>82.11</td>\n",
       "      <td>87.72</td>\n",
       "      <td>73.60</td>\n",
       "      <td>CH</td>\n",
       "      <td>46.818188</td>\n",
       "      <td>8.227512</td>\n",
       "      <td>RI</td>\n",
       "      <td>41.580095</td>\n",
       "      <td>-71.477429</td>\n",
       "      <td>Rhode Island</td>\n",
       "    </tr>\n",
       "  </tbody>\n",
       "</table>\n",
       "<p>5 rows × 21 columns</p>\n",
       "</div>"
      ],
      "text/plain": [
       "       Country  AveragScore  SafetySecurity  PersonelFreedom  Governance  \\\n",
       "0      Denmark        84.55           92.59            94.09       89.45   \n",
       "1       Sweden        83.67           90.97            91.90       86.41   \n",
       "2       Norway        83.59           93.30            94.10       89.66   \n",
       "3      Finland        83.47           89.56            91.96       90.41   \n",
       "4  Switzerland        83.42           95.66            87.50       87.67   \n",
       "\n",
       "   SocialCapital  InvestmentEnvironment  EnterpriseConditions  \\\n",
       "0          82.56                  82.42                 79.64   \n",
       "1          78.29                  82.81                 75.54   \n",
       "2          79.03                  82.24                 75.95   \n",
       "3          77.27                  84.12                 77.25   \n",
       "4          69.14                  80.81                 83.84   \n",
       "\n",
       "   MarketAccessInfrastructure  EconomicQuality  ...  Health  Education  \\\n",
       "0                       78.79            76.81  ...   81.07      87.48   \n",
       "1                       79.67            76.18  ...   82.28      85.92   \n",
       "2                       75.87            77.25  ...   82.98      85.68   \n",
       "3                       78.77            70.28  ...   81.19      88.38   \n",
       "4                       78.65            79.71  ...   82.11      87.72   \n",
       "\n",
       "   NaturalEnvironment  country_code   latitude  longitude  usa_state_code  \\\n",
       "0               73.94            DK  56.263920   9.501785             NaN   \n",
       "1               78.74            SE  60.128161  18.643501             NaN   \n",
       "2               72.37            NO  60.472024   8.468946             NaN   \n",
       "3               77.99            FI  61.924110  25.748151             NaN   \n",
       "4               73.60            CH  46.818188   8.227512              RI   \n",
       "\n",
       "  usa_state_latitude  usa_state_longitude     usa_state  \n",
       "0                NaN                  NaN           NaN  \n",
       "1                NaN                  NaN           NaN  \n",
       "2                NaN                  NaN           NaN  \n",
       "3                NaN                  NaN           NaN  \n",
       "4          41.580095           -71.477429  Rhode Island  \n",
       "\n",
       "[5 rows x 21 columns]"
      ]
     },
     "execution_count": 61,
     "metadata": {},
     "output_type": "execute_result"
    }
   ],
   "source": [
    "result =pd.merge(left = cntr, right = geo , how='inner', on= 'Country')\n",
    "result.head()"
   ]
  },
  {
   "cell_type": "code",
   "execution_count": 63,
   "id": "7dff9c48-ba88-40c2-8c11-48695a8c9b73",
   "metadata": {},
   "outputs": [
    {
     "data": {
      "application/vnd.plotly.v1+json": {
       "config": {
        "plotlyServerURL": "https://plot.ly"
       },
       "data": [
        {
         "geo": "geo",
         "hovertemplate": "<b>%{hovertext}</b><br><br>Country=Denmark<br>AveragScore=%{marker.size}<br>latitude=%{lat}<br>longitude=%{lon}<extra></extra>",
         "hovertext": [
          "Denmark"
         ],
         "lat": [
          56.26392
         ],
         "legendgroup": "Denmark",
         "lon": [
          9.501785
         ],
         "marker": {
          "color": "#636efa",
          "size": [
           84.55
          ],
          "sizemode": "area",
          "sizeref": 1.7255102040816326,
          "symbol": "circle"
         },
         "mode": "markers",
         "name": "Denmark",
         "showlegend": true,
         "type": "scattergeo"
        },
        {
         "geo": "geo",
         "hovertemplate": "<b>%{hovertext}</b><br><br>Country=Sweden<br>AveragScore=%{marker.size}<br>latitude=%{lat}<br>longitude=%{lon}<extra></extra>",
         "hovertext": [
          "Sweden"
         ],
         "lat": [
          60.128161
         ],
         "legendgroup": "Sweden",
         "lon": [
          18.643501
         ],
         "marker": {
          "color": "#EF553B",
          "size": [
           83.67
          ],
          "sizemode": "area",
          "sizeref": 1.7255102040816326,
          "symbol": "circle"
         },
         "mode": "markers",
         "name": "Sweden",
         "showlegend": true,
         "type": "scattergeo"
        },
        {
         "geo": "geo",
         "hovertemplate": "<b>%{hovertext}</b><br><br>Country=Norway<br>AveragScore=%{marker.size}<br>latitude=%{lat}<br>longitude=%{lon}<extra></extra>",
         "hovertext": [
          "Norway"
         ],
         "lat": [
          60.472024
         ],
         "legendgroup": "Norway",
         "lon": [
          8.468946
         ],
         "marker": {
          "color": "#00cc96",
          "size": [
           83.59
          ],
          "sizemode": "area",
          "sizeref": 1.7255102040816326,
          "symbol": "circle"
         },
         "mode": "markers",
         "name": "Norway",
         "showlegend": true,
         "type": "scattergeo"
        },
        {
         "geo": "geo",
         "hovertemplate": "<b>%{hovertext}</b><br><br>Country=Finland<br>AveragScore=%{marker.size}<br>latitude=%{lat}<br>longitude=%{lon}<extra></extra>",
         "hovertext": [
          "Finland"
         ],
         "lat": [
          61.92411
         ],
         "legendgroup": "Finland",
         "lon": [
          25.748151
         ],
         "marker": {
          "color": "#ab63fa",
          "size": [
           83.47
          ],
          "sizemode": "area",
          "sizeref": 1.7255102040816326,
          "symbol": "circle"
         },
         "mode": "markers",
         "name": "Finland",
         "showlegend": true,
         "type": "scattergeo"
        },
        {
         "geo": "geo",
         "hovertemplate": "<b>%{hovertext}</b><br><br>Country=Switzerland<br>AveragScore=%{marker.size}<br>latitude=%{lat}<br>longitude=%{lon}<extra></extra>",
         "hovertext": [
          "Switzerland"
         ],
         "lat": [
          46.818188
         ],
         "legendgroup": "Switzerland",
         "lon": [
          8.227512
         ],
         "marker": {
          "color": "#FFA15A",
          "size": [
           83.42
          ],
          "sizemode": "area",
          "sizeref": 1.7255102040816326,
          "symbol": "circle"
         },
         "mode": "markers",
         "name": "Switzerland",
         "showlegend": true,
         "type": "scattergeo"
        },
        {
         "geo": "geo",
         "hovertemplate": "<b>%{hovertext}</b><br><br>Country=Netherlands<br>AveragScore=%{marker.size}<br>latitude=%{lat}<br>longitude=%{lon}<extra></extra>",
         "hovertext": [
          "Netherlands"
         ],
         "lat": [
          52.132633
         ],
         "legendgroup": "Netherlands",
         "lon": [
          5.291266
         ],
         "marker": {
          "color": "#19d3f3",
          "size": [
           82.32
          ],
          "sizemode": "area",
          "sizeref": 1.7255102040816326,
          "symbol": "circle"
         },
         "mode": "markers",
         "name": "Netherlands",
         "showlegend": true,
         "type": "scattergeo"
        },
        {
         "geo": "geo",
         "hovertemplate": "<b>%{hovertext}</b><br><br>Country=Luxembourg<br>AveragScore=%{marker.size}<br>latitude=%{lat}<br>longitude=%{lon}<extra></extra>",
         "hovertext": [
          "Luxembourg"
         ],
         "lat": [
          49.815273
         ],
         "legendgroup": "Luxembourg",
         "lon": [
          6.129583
         ],
         "marker": {
          "color": "#FF6692",
          "size": [
           81.83
          ],
          "sizemode": "area",
          "sizeref": 1.7255102040816326,
          "symbol": "circle"
         },
         "mode": "markers",
         "name": "Luxembourg",
         "showlegend": true,
         "type": "scattergeo"
        },
        {
         "geo": "geo",
         "hovertemplate": "<b>%{hovertext}</b><br><br>Country=Iceland<br>AveragScore=%{marker.size}<br>latitude=%{lat}<br>longitude=%{lon}<extra></extra>",
         "hovertext": [
          "Iceland"
         ],
         "lat": [
          64.963051
         ],
         "legendgroup": "Iceland",
         "lon": [
          -19.020835
         ],
         "marker": {
          "color": "#B6E880",
          "size": [
           81.02
          ],
          "sizemode": "area",
          "sizeref": 1.7255102040816326,
          "symbol": "circle"
         },
         "mode": "markers",
         "name": "Iceland",
         "showlegend": true,
         "type": "scattergeo"
        },
        {
         "geo": "geo",
         "hovertemplate": "<b>%{hovertext}</b><br><br>Country=Germany<br>AveragScore=%{marker.size}<br>latitude=%{lat}<br>longitude=%{lon}<extra></extra>",
         "hovertext": [
          "Germany"
         ],
         "lat": [
          51.165691
         ],
         "legendgroup": "Germany",
         "lon": [
          10.451526
         ],
         "marker": {
          "color": "#FF97FF",
          "size": [
           80.81
          ],
          "sizemode": "area",
          "sizeref": 1.7255102040816326,
          "symbol": "circle"
         },
         "mode": "markers",
         "name": "Germany",
         "showlegend": true,
         "type": "scattergeo"
        },
        {
         "geo": "geo",
         "hovertemplate": "<b>%{hovertext}</b><br><br>Country=New Zealand<br>AveragScore=%{marker.size}<br>latitude=%{lat}<br>longitude=%{lon}<extra></extra>",
         "hovertext": [
          "New Zealand"
         ],
         "lat": [
          -40.900557
         ],
         "legendgroup": "New Zealand",
         "lon": [
          174.885971
         ],
         "marker": {
          "color": "#FECB52",
          "size": [
           80.47
          ],
          "sizemode": "area",
          "sizeref": 1.7255102040816326,
          "symbol": "circle"
         },
         "mode": "markers",
         "name": "New Zealand",
         "showlegend": true,
         "type": "scattergeo"
        },
        {
         "geo": "geo",
         "hovertemplate": "<b>%{hovertext}</b><br><br>Country=Ireland<br>AveragScore=%{marker.size}<br>latitude=%{lat}<br>longitude=%{lon}<extra></extra>",
         "hovertext": [
          "Ireland"
         ],
         "lat": [
          53.41291
         ],
         "legendgroup": "Ireland",
         "lon": [
          -8.24389
         ],
         "marker": {
          "color": "#636efa",
          "size": [
           80.31
          ],
          "sizemode": "area",
          "sizeref": 1.7255102040816326,
          "symbol": "circle"
         },
         "mode": "markers",
         "name": "Ireland",
         "showlegend": true,
         "type": "scattergeo"
        },
        {
         "geo": "geo",
         "hovertemplate": "<b>%{hovertext}</b><br><br>Country=United Kingdom<br>AveragScore=%{marker.size}<br>latitude=%{lat}<br>longitude=%{lon}<extra></extra>",
         "hovertext": [
          "United Kingdom"
         ],
         "lat": [
          55.378051
         ],
         "legendgroup": "United Kingdom",
         "lon": [
          -3.435973
         ],
         "marker": {
          "color": "#EF553B",
          "size": [
           79.95
          ],
          "sizemode": "area",
          "sizeref": 1.7255102040816326,
          "symbol": "circle"
         },
         "mode": "markers",
         "name": "United Kingdom",
         "showlegend": true,
         "type": "scattergeo"
        },
        {
         "geo": "geo",
         "hovertemplate": "<b>%{hovertext}</b><br><br>Country=Canada<br>AveragScore=%{marker.size}<br>latitude=%{lat}<br>longitude=%{lon}<extra></extra>",
         "hovertext": [
          "Canada"
         ],
         "lat": [
          56.130366
         ],
         "legendgroup": "Canada",
         "lon": [
          -106.346771
         ],
         "marker": {
          "color": "#00cc96",
          "size": [
           79.62
          ],
          "sizemode": "area",
          "sizeref": 1.7255102040816326,
          "symbol": "circle"
         },
         "mode": "markers",
         "name": "Canada",
         "showlegend": true,
         "type": "scattergeo"
        },
        {
         "geo": "geo",
         "hovertemplate": "<b>%{hovertext}</b><br><br>Country=Austria<br>AveragScore=%{marker.size}<br>latitude=%{lat}<br>longitude=%{lon}<extra></extra>",
         "hovertext": [
          "Austria"
         ],
         "lat": [
          47.516231
         ],
         "legendgroup": "Austria",
         "lon": [
          14.550072
         ],
         "marker": {
          "color": "#ab63fa",
          "size": [
           79.38
          ],
          "sizemode": "area",
          "sizeref": 1.7255102040816326,
          "symbol": "circle"
         },
         "mode": "markers",
         "name": "Austria",
         "showlegend": true,
         "type": "scattergeo"
        },
        {
         "geo": "geo",
         "hovertemplate": "<b>%{hovertext}</b><br><br>Country=Australia<br>AveragScore=%{marker.size}<br>latitude=%{lat}<br>longitude=%{lon}<extra></extra>",
         "hovertext": [
          "Australia"
         ],
         "lat": [
          -25.274398
         ],
         "legendgroup": "Australia",
         "lon": [
          133.775136
         ],
         "marker": {
          "color": "#FFA15A",
          "size": [
           79.36
          ],
          "sizemode": "area",
          "sizeref": 1.7255102040816326,
          "symbol": "circle"
         },
         "mode": "markers",
         "name": "Australia",
         "showlegend": true,
         "type": "scattergeo"
        },
        {
         "geo": "geo",
         "hovertemplate": "<b>%{hovertext}</b><br><br>Country=Japan<br>AveragScore=%{marker.size}<br>latitude=%{lat}<br>longitude=%{lon}<extra></extra>",
         "hovertext": [
          "Japan"
         ],
         "lat": [
          36.204824
         ],
         "legendgroup": "Japan",
         "lon": [
          138.252924
         ],
         "marker": {
          "color": "#19d3f3",
          "size": [
           78.22
          ],
          "sizemode": "area",
          "sizeref": 1.7255102040816326,
          "symbol": "circle"
         },
         "mode": "markers",
         "name": "Japan",
         "showlegend": true,
         "type": "scattergeo"
        },
        {
         "geo": "geo",
         "hovertemplate": "<b>%{hovertext}</b><br><br>Country=Singapore<br>AveragScore=%{marker.size}<br>latitude=%{lat}<br>longitude=%{lon}<extra></extra>",
         "hovertext": [
          "Singapore"
         ],
         "lat": [
          1.352083
         ],
         "legendgroup": "Singapore",
         "lon": [
          103.819836
         ],
         "marker": {
          "color": "#FF6692",
          "size": [
           78.21
          ],
          "sizemode": "area",
          "sizeref": 1.7255102040816326,
          "symbol": "circle"
         },
         "mode": "markers",
         "name": "Singapore",
         "showlegend": true,
         "type": "scattergeo"
        },
        {
         "geo": "geo",
         "hovertemplate": "<b>%{hovertext}</b><br><br>Country=Belgium<br>AveragScore=%{marker.size}<br>latitude=%{lat}<br>longitude=%{lon}<extra></extra>",
         "hovertext": [
          "Belgium"
         ],
         "lat": [
          50.503887
         ],
         "legendgroup": "Belgium",
         "lon": [
          4.469936
         ],
         "marker": {
          "color": "#B6E880",
          "size": [
           77.84
          ],
          "sizemode": "area",
          "sizeref": 1.7255102040816326,
          "symbol": "circle"
         },
         "mode": "markers",
         "name": "Belgium",
         "showlegend": true,
         "type": "scattergeo"
        },
        {
         "geo": "geo",
         "hovertemplate": "<b>%{hovertext}</b><br><br>Country=United States<br>AveragScore=%{marker.size}<br>latitude=%{lat}<br>longitude=%{lon}<extra></extra>",
         "hovertext": [
          "United States"
         ],
         "lat": [
          37.09024
         ],
         "legendgroup": "United States",
         "lon": [
          -95.712891
         ],
         "marker": {
          "color": "#FF97FF",
          "size": [
           77.44
          ],
          "sizemode": "area",
          "sizeref": 1.7255102040816326,
          "symbol": "circle"
         },
         "mode": "markers",
         "name": "United States",
         "showlegend": true,
         "type": "scattergeo"
        },
        {
         "geo": "geo",
         "hovertemplate": "<b>%{hovertext}</b><br><br>Country=Taiwan<br>AveragScore=%{marker.size}<br>latitude=%{lat}<br>longitude=%{lon}<extra></extra>",
         "hovertext": [
          "Taiwan"
         ],
         "lat": [
          23.69781
         ],
         "legendgroup": "Taiwan",
         "lon": [
          120.960515
         ],
         "marker": {
          "color": "#FECB52",
          "size": [
           77.36
          ],
          "sizemode": "area",
          "sizeref": 1.7255102040816326,
          "symbol": "circle"
         },
         "mode": "markers",
         "name": "Taiwan",
         "showlegend": true,
         "type": "scattergeo"
        },
        {
         "geo": "geo",
         "hovertemplate": "<b>%{hovertext}</b><br><br>Country=Estonia<br>AveragScore=%{marker.size}<br>latitude=%{lat}<br>longitude=%{lon}<extra></extra>",
         "hovertext": [
          "Estonia"
         ],
         "lat": [
          58.595272
         ],
         "legendgroup": "Estonia",
         "lon": [
          25.013607
         ],
         "marker": {
          "color": "#636efa",
          "size": [
           77.31
          ],
          "sizemode": "area",
          "sizeref": 1.7255102040816326,
          "symbol": "circle"
         },
         "mode": "markers",
         "name": "Estonia",
         "showlegend": true,
         "type": "scattergeo"
        },
        {
         "geo": "geo",
         "hovertemplate": "<b>%{hovertext}</b><br><br>Country=Hong Kong<br>AveragScore=%{marker.size}<br>latitude=%{lat}<br>longitude=%{lon}<extra></extra>",
         "hovertext": [
          "Hong Kong"
         ],
         "lat": [
          22.396428
         ],
         "legendgroup": "Hong Kong",
         "lon": [
          114.109497
         ],
         "marker": {
          "color": "#EF553B",
          "size": [
           76.9
          ],
          "sizemode": "area",
          "sizeref": 1.7255102040816326,
          "symbol": "circle"
         },
         "mode": "markers",
         "name": "Hong Kong",
         "showlegend": true,
         "type": "scattergeo"
        },
        {
         "geo": "geo",
         "hovertemplate": "<b>%{hovertext}</b><br><br>Country=France<br>AveragScore=%{marker.size}<br>latitude=%{lat}<br>longitude=%{lon}<extra></extra>",
         "hovertext": [
          "France"
         ],
         "lat": [
          46.227638
         ],
         "legendgroup": "France",
         "lon": [
          2.213749
         ],
         "marker": {
          "color": "#00cc96",
          "size": [
           76.73
          ],
          "sizemode": "area",
          "sizeref": 1.7255102040816326,
          "symbol": "circle"
         },
         "mode": "markers",
         "name": "France",
         "showlegend": true,
         "type": "scattergeo"
        },
        {
         "geo": "geo",
         "hovertemplate": "<b>%{hovertext}</b><br><br>Country=Spain<br>AveragScore=%{marker.size}<br>latitude=%{lat}<br>longitude=%{lon}<extra></extra>",
         "hovertext": [
          "Spain"
         ],
         "lat": [
          40.463667
         ],
         "legendgroup": "Spain",
         "lon": [
          -3.74922
         ],
         "marker": {
          "color": "#ab63fa",
          "size": [
           76.03
          ],
          "sizemode": "area",
          "sizeref": 1.7255102040816326,
          "symbol": "circle"
         },
         "mode": "markers",
         "name": "Spain",
         "showlegend": true,
         "type": "scattergeo"
        },
        {
         "geo": "geo",
         "hovertemplate": "<b>%{hovertext}</b><br><br>Country=Czech Republic<br>AveragScore=%{marker.size}<br>latitude=%{lat}<br>longitude=%{lon}<extra></extra>",
         "hovertext": [
          "Czech Republic"
         ],
         "lat": [
          49.817492
         ],
         "legendgroup": "Czech Republic",
         "lon": [
          15.472962
         ],
         "marker": {
          "color": "#FFA15A",
          "size": [
           75.08
          ],
          "sizemode": "area",
          "sizeref": 1.7255102040816326,
          "symbol": "circle"
         },
         "mode": "markers",
         "name": "Czech Republic",
         "showlegend": true,
         "type": "scattergeo"
        },
        {
         "geo": "geo",
         "hovertemplate": "<b>%{hovertext}</b><br><br>Country=Portugal<br>AveragScore=%{marker.size}<br>latitude=%{lat}<br>longitude=%{lon}<extra></extra>",
         "hovertext": [
          "Portugal"
         ],
         "lat": [
          39.399872
         ],
         "legendgroup": "Portugal",
         "lon": [
          -8.224454
         ],
         "marker": {
          "color": "#19d3f3",
          "size": [
           74.64
          ],
          "sizemode": "area",
          "sizeref": 1.7255102040816326,
          "symbol": "circle"
         },
         "mode": "markers",
         "name": "Portugal",
         "showlegend": true,
         "type": "scattergeo"
        },
        {
         "geo": "geo",
         "hovertemplate": "<b>%{hovertext}</b><br><br>Country=Slovenia<br>AveragScore=%{marker.size}<br>latitude=%{lat}<br>longitude=%{lon}<extra></extra>",
         "hovertext": [
          "Slovenia"
         ],
         "lat": [
          46.151241
         ],
         "legendgroup": "Slovenia",
         "lon": [
          14.995463
         ],
         "marker": {
          "color": "#FF6692",
          "size": [
           74.54
          ],
          "sizemode": "area",
          "sizeref": 1.7255102040816326,
          "symbol": "circle"
         },
         "mode": "markers",
         "name": "Slovenia",
         "showlegend": true,
         "type": "scattergeo"
        },
        {
         "geo": "geo",
         "hovertemplate": "<b>%{hovertext}</b><br><br>Country=Malta<br>AveragScore=%{marker.size}<br>latitude=%{lat}<br>longitude=%{lon}<extra></extra>",
         "hovertext": [
          "Malta"
         ],
         "lat": [
          35.937496
         ],
         "legendgroup": "Malta",
         "lon": [
          14.375416
         ],
         "marker": {
          "color": "#B6E880",
          "size": [
           74.36
          ],
          "sizemode": "area",
          "sizeref": 1.7255102040816326,
          "symbol": "circle"
         },
         "mode": "markers",
         "name": "Malta",
         "showlegend": true,
         "type": "scattergeo"
        },
        {
         "geo": "geo",
         "hovertemplate": "<b>%{hovertext}</b><br><br>Country=South Korea<br>AveragScore=%{marker.size}<br>latitude=%{lat}<br>longitude=%{lon}<extra></extra>",
         "hovertext": [
          "South Korea"
         ],
         "lat": [
          35.907757
         ],
         "legendgroup": "South Korea",
         "lon": [
          127.766922
         ],
         "marker": {
          "color": "#FF97FF",
          "size": [
           74.07
          ],
          "sizemode": "area",
          "sizeref": 1.7255102040816326,
          "symbol": "circle"
         },
         "mode": "markers",
         "name": "South Korea",
         "showlegend": true,
         "type": "scattergeo"
        },
        {
         "geo": "geo",
         "hovertemplate": "<b>%{hovertext}</b><br><br>Country=Italy<br>AveragScore=%{marker.size}<br>latitude=%{lat}<br>longitude=%{lon}<extra></extra>",
         "hovertext": [
          "Italy"
         ],
         "lat": [
          41.87194
         ],
         "legendgroup": "Italy",
         "lon": [
          12.56738
         ],
         "marker": {
          "color": "#FECB52",
          "size": [
           73.03
          ],
          "sizemode": "area",
          "sizeref": 1.7255102040816326,
          "symbol": "circle"
         },
         "mode": "markers",
         "name": "Italy",
         "showlegend": true,
         "type": "scattergeo"
        },
        {
         "geo": "geo",
         "hovertemplate": "<b>%{hovertext}</b><br><br>Country=Latvia<br>AveragScore=%{marker.size}<br>latitude=%{lat}<br>longitude=%{lon}<extra></extra>",
         "hovertext": [
          "Latvia"
         ],
         "lat": [
          56.879635
         ],
         "legendgroup": "Latvia",
         "lon": [
          24.603189
         ],
         "marker": {
          "color": "#636efa",
          "size": [
           72.99
          ],
          "sizemode": "area",
          "sizeref": 1.7255102040816326,
          "symbol": "circle"
         },
         "mode": "markers",
         "name": "Latvia",
         "showlegend": true,
         "type": "scattergeo"
        },
        {
         "geo": "geo",
         "hovertemplate": "<b>%{hovertext}</b><br><br>Country=Lithuania<br>AveragScore=%{marker.size}<br>latitude=%{lat}<br>longitude=%{lon}<extra></extra>",
         "hovertext": [
          "Lithuania"
         ],
         "lat": [
          55.169438
         ],
         "legendgroup": "Lithuania",
         "lon": [
          23.881275
         ],
         "marker": {
          "color": "#EF553B",
          "size": [
           72.54
          ],
          "sizemode": "area",
          "sizeref": 1.7255102040816326,
          "symbol": "circle"
         },
         "mode": "markers",
         "name": "Lithuania",
         "showlegend": true,
         "type": "scattergeo"
        },
        {
         "geo": "geo",
         "hovertemplate": "<b>%{hovertext}</b><br><br>Country=Israel<br>AveragScore=%{marker.size}<br>latitude=%{lat}<br>longitude=%{lon}<extra></extra>",
         "hovertext": [
          "Israel"
         ],
         "lat": [
          31.046051
         ],
         "legendgroup": "Israel",
         "lon": [
          34.851612
         ],
         "marker": {
          "color": "#00cc96",
          "size": [
           72.25
          ],
          "sizemode": "area",
          "sizeref": 1.7255102040816326,
          "symbol": "circle"
         },
         "mode": "markers",
         "name": "Israel",
         "showlegend": true,
         "type": "scattergeo"
        },
        {
         "geo": "geo",
         "hovertemplate": "<b>%{hovertext}</b><br><br>Country=Cyprus<br>AveragScore=%{marker.size}<br>latitude=%{lat}<br>longitude=%{lon}<extra></extra>",
         "hovertext": [
          "Cyprus"
         ],
         "lat": [
          35.126413
         ],
         "legendgroup": "Cyprus",
         "lon": [
          33.429859
         ],
         "marker": {
          "color": "#ab63fa",
          "size": [
           71.82
          ],
          "sizemode": "area",
          "sizeref": 1.7255102040816326,
          "symbol": "circle"
         },
         "mode": "markers",
         "name": "Cyprus",
         "showlegend": true,
         "type": "scattergeo"
        },
        {
         "geo": "geo",
         "hovertemplate": "<b>%{hovertext}</b><br><br>Country=Slovakia<br>AveragScore=%{marker.size}<br>latitude=%{lat}<br>longitude=%{lon}<extra></extra>",
         "hovertext": [
          "Slovakia"
         ],
         "lat": [
          48.669026
         ],
         "legendgroup": "Slovakia",
         "lon": [
          19.699024
         ],
         "marker": {
          "color": "#FFA15A",
          "size": [
           71.15
          ],
          "sizemode": "area",
          "sizeref": 1.7255102040816326,
          "symbol": "circle"
         },
         "mode": "markers",
         "name": "Slovakia",
         "showlegend": true,
         "type": "scattergeo"
        },
        {
         "geo": "geo",
         "hovertemplate": "<b>%{hovertext}</b><br><br>Country=Chile<br>AveragScore=%{marker.size}<br>latitude=%{lat}<br>longitude=%{lon}<extra></extra>",
         "hovertext": [
          "Chile"
         ],
         "lat": [
          -35.675147
         ],
         "legendgroup": "Chile",
         "lon": [
          -71.542969
         ],
         "marker": {
          "color": "#19d3f3",
          "size": [
           70.18
          ],
          "sizemode": "area",
          "sizeref": 1.7255102040816326,
          "symbol": "circle"
         },
         "mode": "markers",
         "name": "Chile",
         "showlegend": true,
         "type": "scattergeo"
        },
        {
         "geo": "geo",
         "hovertemplate": "<b>%{hovertext}</b><br><br>Country=Poland<br>AveragScore=%{marker.size}<br>latitude=%{lat}<br>longitude=%{lon}<extra></extra>",
         "hovertext": [
          "Poland"
         ],
         "lat": [
          51.919438
         ],
         "legendgroup": "Poland",
         "lon": [
          19.145136
         ],
         "marker": {
          "color": "#FF6692",
          "size": [
           70.15
          ],
          "sizemode": "area",
          "sizeref": 1.7255102040816326,
          "symbol": "circle"
         },
         "mode": "markers",
         "name": "Poland",
         "showlegend": true,
         "type": "scattergeo"
        },
        {
         "geo": "geo",
         "hovertemplate": "<b>%{hovertext}</b><br><br>Country=Uruguay<br>AveragScore=%{marker.size}<br>latitude=%{lat}<br>longitude=%{lon}<extra></extra>",
         "hovertext": [
          "Uruguay"
         ],
         "lat": [
          -32.522779
         ],
         "legendgroup": "Uruguay",
         "lon": [
          -55.765835
         ],
         "marker": {
          "color": "#B6E880",
          "size": [
           69.69
          ],
          "sizemode": "area",
          "sizeref": 1.7255102040816326,
          "symbol": "circle"
         },
         "mode": "markers",
         "name": "Uruguay",
         "showlegend": true,
         "type": "scattergeo"
        },
        {
         "geo": "geo",
         "hovertemplate": "<b>%{hovertext}</b><br><br>Country=Costa Rica<br>AveragScore=%{marker.size}<br>latitude=%{lat}<br>longitude=%{lon}<extra></extra>",
         "hovertext": [
          "Costa Rica"
         ],
         "lat": [
          9.748917
         ],
         "legendgroup": "Costa Rica",
         "lon": [
          -83.753428
         ],
         "marker": {
          "color": "#FF97FF",
          "size": [
           69.59
          ],
          "sizemode": "area",
          "sizeref": 1.7255102040816326,
          "symbol": "circle"
         },
         "mode": "markers",
         "name": "Costa Rica",
         "showlegend": true,
         "type": "scattergeo"
        },
        {
         "geo": "geo",
         "hovertemplate": "<b>%{hovertext}</b><br><br>Country=Greece<br>AveragScore=%{marker.size}<br>latitude=%{lat}<br>longitude=%{lon}<extra></extra>",
         "hovertext": [
          "Greece"
         ],
         "lat": [
          39.074208
         ],
         "legendgroup": "Greece",
         "lon": [
          21.824312
         ],
         "marker": {
          "color": "#FECB52",
          "size": [
           68.48
          ],
          "sizemode": "area",
          "sizeref": 1.7255102040816326,
          "symbol": "circle"
         },
         "mode": "markers",
         "name": "Greece",
         "showlegend": true,
         "type": "scattergeo"
        },
        {
         "geo": "geo",
         "hovertemplate": "<b>%{hovertext}</b><br><br>Country=Croatia<br>AveragScore=%{marker.size}<br>latitude=%{lat}<br>longitude=%{lon}<extra></extra>",
         "hovertext": [
          "Croatia"
         ],
         "lat": [
          45.1
         ],
         "legendgroup": "Croatia",
         "lon": [
          15.2
         ],
         "marker": {
          "color": "#636efa",
          "size": [
           68.24
          ],
          "sizemode": "area",
          "sizeref": 1.7255102040816326,
          "symbol": "circle"
         },
         "mode": "markers",
         "name": "Croatia",
         "showlegend": true,
         "type": "scattergeo"
        },
        {
         "geo": "geo",
         "hovertemplate": "<b>%{hovertext}</b><br><br>Country=Hungary<br>AveragScore=%{marker.size}<br>latitude=%{lat}<br>longitude=%{lon}<extra></extra>",
         "hovertext": [
          "Hungary"
         ],
         "lat": [
          47.162494
         ],
         "legendgroup": "Hungary",
         "lon": [
          19.503304
         ],
         "marker": {
          "color": "#EF553B",
          "size": [
           66.88
          ],
          "sizemode": "area",
          "sizeref": 1.7255102040816326,
          "symbol": "circle"
         },
         "mode": "markers",
         "name": "Hungary",
         "showlegend": true,
         "type": "scattergeo"
        },
        {
         "geo": "geo",
         "hovertemplate": "<b>%{hovertext}</b><br><br>Country=Malaysia<br>AveragScore=%{marker.size}<br>latitude=%{lat}<br>longitude=%{lon}<extra></extra>",
         "hovertext": [
          "Malaysia"
         ],
         "lat": [
          4.210484
         ],
         "legendgroup": "Malaysia",
         "lon": [
          101.975766
         ],
         "marker": {
          "color": "#00cc96",
          "size": [
           66.84
          ],
          "sizemode": "area",
          "sizeref": 1.7255102040816326,
          "symbol": "circle"
         },
         "mode": "markers",
         "name": "Malaysia",
         "showlegend": true,
         "type": "scattergeo"
        },
        {
         "geo": "geo",
         "hovertemplate": "<b>%{hovertext}</b><br><br>Country=United Arab Emirates<br>AveragScore=%{marker.size}<br>latitude=%{lat}<br>longitude=%{lon}<extra></extra>",
         "hovertext": [
          "United Arab Emirates"
         ],
         "lat": [
          23.424076
         ],
         "legendgroup": "United Arab Emirates",
         "lon": [
          53.847818
         ],
         "marker": {
          "color": "#ab63fa",
          "size": [
           66.69
          ],
          "sizemode": "area",
          "sizeref": 1.7255102040816326,
          "symbol": "circle"
         },
         "mode": "markers",
         "name": "United Arab Emirates",
         "showlegend": true,
         "type": "scattergeo"
        },
        {
         "geo": "geo",
         "hovertemplate": "<b>%{hovertext}</b><br><br>Country=Romania<br>AveragScore=%{marker.size}<br>latitude=%{lat}<br>longitude=%{lon}<extra></extra>",
         "hovertext": [
          "Romania"
         ],
         "lat": [
          45.943161
         ],
         "legendgroup": "Romania",
         "lon": [
          24.96676
         ],
         "marker": {
          "color": "#FFA15A",
          "size": [
           66.4
          ],
          "sizemode": "area",
          "sizeref": 1.7255102040816326,
          "symbol": "circle"
         },
         "mode": "markers",
         "name": "Romania",
         "showlegend": true,
         "type": "scattergeo"
        },
        {
         "geo": "geo",
         "hovertemplate": "<b>%{hovertext}</b><br><br>Country=Qatar<br>AveragScore=%{marker.size}<br>latitude=%{lat}<br>longitude=%{lon}<extra></extra>",
         "hovertext": [
          "Qatar"
         ],
         "lat": [
          25.354826
         ],
         "legendgroup": "Qatar",
         "lon": [
          51.183884
         ],
         "marker": {
          "color": "#19d3f3",
          "size": [
           66.24
          ],
          "sizemode": "area",
          "sizeref": 1.7255102040816326,
          "symbol": "circle"
         },
         "mode": "markers",
         "name": "Qatar",
         "showlegend": true,
         "type": "scattergeo"
        },
        {
         "geo": "geo",
         "hovertemplate": "<b>%{hovertext}</b><br><br>Country=Mauritius<br>AveragScore=%{marker.size}<br>latitude=%{lat}<br>longitude=%{lon}<extra></extra>",
         "hovertext": [
          "Mauritius"
         ],
         "lat": [
          -20.348404
         ],
         "legendgroup": "Mauritius",
         "lon": [
          57.552152
         ],
         "marker": {
          "color": "#FF6692",
          "size": [
           65.65
          ],
          "sizemode": "area",
          "sizeref": 1.7255102040816326,
          "symbol": "circle"
         },
         "mode": "markers",
         "name": "Mauritius",
         "showlegend": true,
         "type": "scattergeo"
        },
        {
         "geo": "geo",
         "hovertemplate": "<b>%{hovertext}</b><br><br>Country=Bulgaria<br>AveragScore=%{marker.size}<br>latitude=%{lat}<br>longitude=%{lon}<extra></extra>",
         "hovertext": [
          "Bulgaria"
         ],
         "lat": [
          42.733883
         ],
         "legendgroup": "Bulgaria",
         "lon": [
          25.48583
         ],
         "marker": {
          "color": "#B6E880",
          "size": [
           65.55
          ],
          "sizemode": "area",
          "sizeref": 1.7255102040816326,
          "symbol": "circle"
         },
         "mode": "markers",
         "name": "Bulgaria",
         "showlegend": true,
         "type": "scattergeo"
        },
        {
         "geo": "geo",
         "hovertemplate": "<b>%{hovertext}</b><br><br>Country=Montenegro<br>AveragScore=%{marker.size}<br>latitude=%{lat}<br>longitude=%{lon}<extra></extra>",
         "hovertext": [
          "Montenegro"
         ],
         "lat": [
          42.708678
         ],
         "legendgroup": "Montenegro",
         "lon": [
          19.37439
         ],
         "marker": {
          "color": "#FF97FF",
          "size": [
           65.01
          ],
          "sizemode": "area",
          "sizeref": 1.7255102040816326,
          "symbol": "circle"
         },
         "mode": "markers",
         "name": "Montenegro",
         "showlegend": true,
         "type": "scattergeo"
        },
        {
         "geo": "geo",
         "hovertemplate": "<b>%{hovertext}</b><br><br>Country=Panama<br>AveragScore=%{marker.size}<br>latitude=%{lat}<br>longitude=%{lon}<extra></extra>",
         "hovertext": [
          "Panama"
         ],
         "lat": [
          8.537981
         ],
         "legendgroup": "Panama",
         "lon": [
          -80.782127
         ],
         "marker": {
          "color": "#FECB52",
          "size": [
           64.32
          ],
          "sizemode": "area",
          "sizeref": 1.7255102040816326,
          "symbol": "circle"
         },
         "mode": "markers",
         "name": "Panama",
         "showlegend": true,
         "type": "scattergeo"
        },
        {
         "geo": "geo",
         "hovertemplate": "<b>%{hovertext}</b><br><br>Country=Seychelles<br>AveragScore=%{marker.size}<br>latitude=%{lat}<br>longitude=%{lon}<extra></extra>",
         "hovertext": [
          "Seychelles"
         ],
         "lat": [
          -4.679574
         ],
         "legendgroup": "Seychelles",
         "lon": [
          55.491977
         ],
         "marker": {
          "color": "#636efa",
          "size": [
           63.65
          ],
          "sizemode": "area",
          "sizeref": 1.7255102040816326,
          "symbol": "circle"
         },
         "mode": "markers",
         "name": "Seychelles",
         "showlegend": true,
         "type": "scattergeo"
        },
        {
         "geo": "geo",
         "hovertemplate": "<b>%{hovertext}</b><br><br>Country=Serbia<br>AveragScore=%{marker.size}<br>latitude=%{lat}<br>longitude=%{lon}<extra></extra>",
         "hovertext": [
          "Serbia"
         ],
         "lat": [
          44.016521
         ],
         "legendgroup": "Serbia",
         "lon": [
          21.005859
         ],
         "marker": {
          "color": "#EF553B",
          "size": [
           62.75
          ],
          "sizemode": "area",
          "sizeref": 1.7255102040816326,
          "symbol": "circle"
         },
         "mode": "markers",
         "name": "Serbia",
         "showlegend": true,
         "type": "scattergeo"
        },
        {
         "geo": "geo",
         "hovertemplate": "<b>%{hovertext}</b><br><br>Country=Georgia<br>AveragScore=%{marker.size}<br>latitude=%{lat}<br>longitude=%{lon}<extra></extra>",
         "hovertext": [
          "Georgia"
         ],
         "lat": [
          42.315407
         ],
         "legendgroup": "Georgia",
         "lon": [
          43.356892
         ],
         "marker": {
          "color": "#00cc96",
          "size": [
           62.28
          ],
          "sizemode": "area",
          "sizeref": 1.7255102040816326,
          "symbol": "circle"
         },
         "mode": "markers",
         "name": "Georgia",
         "showlegend": true,
         "type": "scattergeo"
        },
        {
         "geo": "geo",
         "hovertemplate": "<b>%{hovertext}</b><br><br>Country=China<br>AveragScore=%{marker.size}<br>latitude=%{lat}<br>longitude=%{lon}<extra></extra>",
         "hovertext": [
          "China"
         ],
         "lat": [
          35.86166
         ],
         "legendgroup": "China",
         "lon": [
          104.195397
         ],
         "marker": {
          "color": "#ab63fa",
          "size": [
           62.15
          ],
          "sizemode": "area",
          "sizeref": 1.7255102040816326,
          "symbol": "circle"
         },
         "mode": "markers",
         "name": "China",
         "showlegend": true,
         "type": "scattergeo"
        },
        {
         "geo": "geo",
         "hovertemplate": "<b>%{hovertext}</b><br><br>Country=Trinidad and Tobago<br>AveragScore=%{marker.size}<br>latitude=%{lat}<br>longitude=%{lon}<extra></extra>",
         "hovertext": [
          "Trinidad and Tobago"
         ],
         "lat": [
          10.691803
         ],
         "legendgroup": "Trinidad and Tobago",
         "lon": [
          -61.222503
         ],
         "marker": {
          "color": "#FFA15A",
          "size": [
           61.91
          ],
          "sizemode": "area",
          "sizeref": 1.7255102040816326,
          "symbol": "circle"
         },
         "mode": "markers",
         "name": "Trinidad and Tobago",
         "showlegend": true,
         "type": "scattergeo"
        },
        {
         "geo": "geo",
         "hovertemplate": "<b>%{hovertext}</b><br><br>Country=Jamaica<br>AveragScore=%{marker.size}<br>latitude=%{lat}<br>longitude=%{lon}<extra></extra>",
         "hovertext": [
          "Jamaica"
         ],
         "lat": [
          18.109581
         ],
         "legendgroup": "Jamaica",
         "lon": [
          -77.297508
         ],
         "marker": {
          "color": "#19d3f3",
          "size": [
           61.39
          ],
          "sizemode": "area",
          "sizeref": 1.7255102040816326,
          "symbol": "circle"
         },
         "mode": "markers",
         "name": "Jamaica",
         "showlegend": true,
         "type": "scattergeo"
        },
        {
         "geo": "geo",
         "hovertemplate": "<b>%{hovertext}</b><br><br>Country=Argentina<br>AveragScore=%{marker.size}<br>latitude=%{lat}<br>longitude=%{lon}<extra></extra>",
         "hovertext": [
          "Argentina"
         ],
         "lat": [
          -38.416097
         ],
         "legendgroup": "Argentina",
         "lon": [
          -63.616672
         ],
         "marker": {
          "color": "#FF6692",
          "size": [
           61.38
          ],
          "sizemode": "area",
          "sizeref": 1.7255102040816326,
          "symbol": "circle"
         },
         "mode": "markers",
         "name": "Argentina",
         "showlegend": true,
         "type": "scattergeo"
        },
        {
         "geo": "geo",
         "hovertemplate": "<b>%{hovertext}</b><br><br>Country=Peru<br>AveragScore=%{marker.size}<br>latitude=%{lat}<br>longitude=%{lon}<extra></extra>",
         "hovertext": [
          "Peru"
         ],
         "lat": [
          -9.189967
         ],
         "legendgroup": "Peru",
         "lon": [
          -75.015152
         ],
         "marker": {
          "color": "#B6E880",
          "size": [
           61.27
          ],
          "sizemode": "area",
          "sizeref": 1.7255102040816326,
          "symbol": "circle"
         },
         "mode": "markers",
         "name": "Peru",
         "showlegend": true,
         "type": "scattergeo"
        },
        {
         "geo": "geo",
         "hovertemplate": "<b>%{hovertext}</b><br><br>Country=Kuwait<br>AveragScore=%{marker.size}<br>latitude=%{lat}<br>longitude=%{lon}<extra></extra>",
         "hovertext": [
          "Kuwait"
         ],
         "lat": [
          29.31166
         ],
         "legendgroup": "Kuwait",
         "lon": [
          47.481766
         ],
         "marker": {
          "color": "#FF97FF",
          "size": [
           60.93
          ],
          "sizemode": "area",
          "sizeref": 1.7255102040816326,
          "symbol": "circle"
         },
         "mode": "markers",
         "name": "Kuwait",
         "showlegend": true,
         "type": "scattergeo"
        },
        {
         "geo": "geo",
         "hovertemplate": "<b>%{hovertext}</b><br><br>Country=Armenia<br>AveragScore=%{marker.size}<br>latitude=%{lat}<br>longitude=%{lon}<extra></extra>",
         "hovertext": [
          "Armenia"
         ],
         "lat": [
          40.069099
         ],
         "legendgroup": "Armenia",
         "lon": [
          45.038189
         ],
         "marker": {
          "color": "#FECB52",
          "size": [
           60.92
          ],
          "sizemode": "area",
          "sizeref": 1.7255102040816326,
          "symbol": "circle"
         },
         "mode": "markers",
         "name": "Armenia",
         "showlegend": true,
         "type": "scattergeo"
        },
        {
         "geo": "geo",
         "hovertemplate": "<b>%{hovertext}</b><br><br>Country=Bahrain<br>AveragScore=%{marker.size}<br>latitude=%{lat}<br>longitude=%{lon}<extra></extra>",
         "hovertext": [
          "Bahrain"
         ],
         "lat": [
          25.930414
         ],
         "legendgroup": "Bahrain",
         "lon": [
          50.637772
         ],
         "marker": {
          "color": "#636efa",
          "size": [
           60.92
          ],
          "sizemode": "area",
          "sizeref": 1.7255102040816326,
          "symbol": "circle"
         },
         "mode": "markers",
         "name": "Bahrain",
         "showlegend": true,
         "type": "scattergeo"
        },
        {
         "geo": "geo",
         "hovertemplate": "<b>%{hovertext}</b><br><br>Country=Indonesia<br>AveragScore=%{marker.size}<br>latitude=%{lat}<br>longitude=%{lon}<extra></extra>",
         "hovertext": [
          "Indonesia"
         ],
         "lat": [
          -0.789275
         ],
         "legendgroup": "Indonesia",
         "lon": [
          113.921327
         ],
         "marker": {
          "color": "#EF553B",
          "size": [
           60.88
          ],
          "sizemode": "area",
          "sizeref": 1.7255102040816326,
          "symbol": "circle"
         },
         "mode": "markers",
         "name": "Indonesia",
         "showlegend": true,
         "type": "scattergeo"
        },
        {
         "geo": "geo",
         "hovertemplate": "<b>%{hovertext}</b><br><br>Country=Thailand<br>AveragScore=%{marker.size}<br>latitude=%{lat}<br>longitude=%{lon}<extra></extra>",
         "hovertext": [
          "Thailand"
         ],
         "lat": [
          15.870032
         ],
         "legendgroup": "Thailand",
         "lon": [
          100.992541
         ],
         "marker": {
          "color": "#00cc96",
          "size": [
           60.79
          ],
          "sizemode": "area",
          "sizeref": 1.7255102040816326,
          "symbol": "circle"
         },
         "mode": "markers",
         "name": "Thailand",
         "showlegend": true,
         "type": "scattergeo"
        },
        {
         "geo": "geo",
         "hovertemplate": "<b>%{hovertext}</b><br><br>Country=Albania<br>AveragScore=%{marker.size}<br>latitude=%{lat}<br>longitude=%{lon}<extra></extra>",
         "hovertext": [
          "Albania"
         ],
         "lat": [
          41.153332
         ],
         "legendgroup": "Albania",
         "lon": [
          20.168331
         ],
         "marker": {
          "color": "#ab63fa",
          "size": [
           60.69
          ],
          "sizemode": "area",
          "sizeref": 1.7255102040816326,
          "symbol": "circle"
         },
         "mode": "markers",
         "name": "Albania",
         "showlegend": true,
         "type": "scattergeo"
        },
        {
         "geo": "geo",
         "hovertemplate": "<b>%{hovertext}</b><br><br>Country=Brazil<br>AveragScore=%{marker.size}<br>latitude=%{lat}<br>longitude=%{lon}<extra></extra>",
         "hovertext": [
          "Brazil"
         ],
         "lat": [
          -14.235004
         ],
         "legendgroup": "Brazil",
         "lon": [
          -51.92528
         ],
         "marker": {
          "color": "#FFA15A",
          "size": [
           60.07
          ],
          "sizemode": "area",
          "sizeref": 1.7255102040816326,
          "symbol": "circle"
         },
         "mode": "markers",
         "name": "Brazil",
         "showlegend": true,
         "type": "scattergeo"
        },
        {
         "geo": "geo",
         "hovertemplate": "<b>%{hovertext}</b><br><br>Country=Oman<br>AveragScore=%{marker.size}<br>latitude=%{lat}<br>longitude=%{lon}<extra></extra>",
         "hovertext": [
          "Oman"
         ],
         "lat": [
          21.512583
         ],
         "legendgroup": "Oman",
         "lon": [
          55.923255
         ],
         "marker": {
          "color": "#19d3f3",
          "size": [
           59.85
          ],
          "sizemode": "area",
          "sizeref": 1.7255102040816326,
          "symbol": "circle"
         },
         "mode": "markers",
         "name": "Oman",
         "showlegend": true,
         "type": "scattergeo"
        },
        {
         "geo": "geo",
         "hovertemplate": "<b>%{hovertext}</b><br><br>Country=Dominican Republic<br>AveragScore=%{marker.size}<br>latitude=%{lat}<br>longitude=%{lon}<extra></extra>",
         "hovertext": [
          "Dominican Republic"
         ],
         "lat": [
          18.735693
         ],
         "legendgroup": "Dominican Republic",
         "lon": [
          -70.162651
         ],
         "marker": {
          "color": "#FF6692",
          "size": [
           59.85
          ],
          "sizemode": "area",
          "sizeref": 1.7255102040816326,
          "symbol": "circle"
         },
         "mode": "markers",
         "name": "Dominican Republic",
         "showlegend": true,
         "type": "scattergeo"
        },
        {
         "geo": "geo",
         "hovertemplate": "<b>%{hovertext}</b><br><br>Country=Kazakhstan<br>AveragScore=%{marker.size}<br>latitude=%{lat}<br>longitude=%{lon}<extra></extra>",
         "hovertext": [
          "Kazakhstan"
         ],
         "lat": [
          48.019573
         ],
         "legendgroup": "Kazakhstan",
         "lon": [
          66.923684
         ],
         "marker": {
          "color": "#B6E880",
          "size": [
           59.53
          ],
          "sizemode": "area",
          "sizeref": 1.7255102040816326,
          "symbol": "circle"
         },
         "mode": "markers",
         "name": "Kazakhstan",
         "showlegend": true,
         "type": "scattergeo"
        },
        {
         "geo": "geo",
         "hovertemplate": "<b>%{hovertext}</b><br><br>Country=Moldova<br>AveragScore=%{marker.size}<br>latitude=%{lat}<br>longitude=%{lon}<extra></extra>",
         "hovertext": [
          "Moldova"
         ],
         "lat": [
          47.411631
         ],
         "legendgroup": "Moldova",
         "lon": [
          28.369885
         ],
         "marker": {
          "color": "#FF97FF",
          "size": [
           59.44
          ],
          "sizemode": "area",
          "sizeref": 1.7255102040816326,
          "symbol": "circle"
         },
         "mode": "markers",
         "name": "Moldova",
         "showlegend": true,
         "type": "scattergeo"
        },
        {
         "geo": "geo",
         "hovertemplate": "<b>%{hovertext}</b><br><br>Country=Mexico<br>AveragScore=%{marker.size}<br>latitude=%{lat}<br>longitude=%{lon}<extra></extra>",
         "hovertext": [
          "Mexico"
         ],
         "lat": [
          23.634501
         ],
         "legendgroup": "Mexico",
         "lon": [
          -102.552784
         ],
         "marker": {
          "color": "#FECB52",
          "size": [
           59.3
          ],
          "sizemode": "area",
          "sizeref": 1.7255102040816326,
          "symbol": "circle"
         },
         "mode": "markers",
         "name": "Mexico",
         "showlegend": true,
         "type": "scattergeo"
        },
        {
         "geo": "geo",
         "hovertemplate": "<b>%{hovertext}</b><br><br>Country=Bosnia and Herzegovina<br>AveragScore=%{marker.size}<br>latitude=%{lat}<br>longitude=%{lon}<extra></extra>",
         "hovertext": [
          "Bosnia and Herzegovina"
         ],
         "lat": [
          43.915886
         ],
         "legendgroup": "Bosnia and Herzegovina",
         "lon": [
          17.679076
         ],
         "marker": {
          "color": "#636efa",
          "size": [
           59.11
          ],
          "sizemode": "area",
          "sizeref": 1.7255102040816326,
          "symbol": "circle"
         },
         "mode": "markers",
         "name": "Bosnia and Herzegovina",
         "showlegend": true,
         "type": "scattergeo"
        },
        {
         "geo": "geo",
         "hovertemplate": "<b>%{hovertext}</b><br><br>Country=Vietnam<br>AveragScore=%{marker.size}<br>latitude=%{lat}<br>longitude=%{lon}<extra></extra>",
         "hovertext": [
          "Vietnam"
         ],
         "lat": [
          14.058324
         ],
         "legendgroup": "Vietnam",
         "lon": [
          108.277199
         ],
         "marker": {
          "color": "#EF553B",
          "size": [
           58.86
          ],
          "sizemode": "area",
          "sizeref": 1.7255102040816326,
          "symbol": "circle"
         },
         "mode": "markers",
         "name": "Vietnam",
         "showlegend": true,
         "type": "scattergeo"
        },
        {
         "geo": "geo",
         "hovertemplate": "<b>%{hovertext}</b><br><br>Country=Ukraine<br>AveragScore=%{marker.size}<br>latitude=%{lat}<br>longitude=%{lon}<extra></extra>",
         "hovertext": [
          "Ukraine"
         ],
         "lat": [
          48.379433
         ],
         "legendgroup": "Ukraine",
         "lon": [
          31.16558
         ],
         "marker": {
          "color": "#00cc96",
          "size": [
           58.84
          ],
          "sizemode": "area",
          "sizeref": 1.7255102040816326,
          "symbol": "circle"
         },
         "mode": "markers",
         "name": "Ukraine",
         "showlegend": true,
         "type": "scattergeo"
        },
        {
         "geo": "geo",
         "hovertemplate": "<b>%{hovertext}</b><br><br>Country=South Africa<br>AveragScore=%{marker.size}<br>latitude=%{lat}<br>longitude=%{lon}<extra></extra>",
         "hovertext": [
          "South Africa"
         ],
         "lat": [
          -30.559482
         ],
         "legendgroup": "South Africa",
         "lon": [
          22.937506
         ],
         "marker": {
          "color": "#ab63fa",
          "size": [
           58.67
          ],
          "sizemode": "area",
          "sizeref": 1.7255102040816326,
          "symbol": "circle"
         },
         "mode": "markers",
         "name": "South Africa",
         "showlegend": true,
         "type": "scattergeo"
        },
        {
         "geo": "geo",
         "hovertemplate": "<b>%{hovertext}</b><br><br>Country=Paraguay<br>AveragScore=%{marker.size}<br>latitude=%{lat}<br>longitude=%{lon}<extra></extra>",
         "hovertext": [
          "Paraguay"
         ],
         "lat": [
          -23.442503
         ],
         "legendgroup": "Paraguay",
         "lon": [
          -58.443832
         ],
         "marker": {
          "color": "#FFA15A",
          "size": [
           58.56
          ],
          "sizemode": "area",
          "sizeref": 1.7255102040816326,
          "symbol": "circle"
         },
         "mode": "markers",
         "name": "Paraguay",
         "showlegend": true,
         "type": "scattergeo"
        },
        {
         "geo": "geo",
         "hovertemplate": "<b>%{hovertext}</b><br><br>Country=Russia<br>AveragScore=%{marker.size}<br>latitude=%{lat}<br>longitude=%{lon}<extra></extra>",
         "hovertext": [
          "Russia"
         ],
         "lat": [
          61.52401
         ],
         "legendgroup": "Russia",
         "lon": [
          105.318756
         ],
         "marker": {
          "color": "#19d3f3",
          "size": [
           58.5
          ],
          "sizemode": "area",
          "sizeref": 1.7255102040816326,
          "symbol": "circle"
         },
         "mode": "markers",
         "name": "Russia",
         "showlegend": true,
         "type": "scattergeo"
        },
        {
         "geo": "geo",
         "hovertemplate": "<b>%{hovertext}</b><br><br>Country=Belarus<br>AveragScore=%{marker.size}<br>latitude=%{lat}<br>longitude=%{lon}<extra></extra>",
         "hovertext": [
          "Belarus"
         ],
         "lat": [
          53.709807
         ],
         "legendgroup": "Belarus",
         "lon": [
          27.953389
         ],
         "marker": {
          "color": "#FF6692",
          "size": [
           58.4
          ],
          "sizemode": "area",
          "sizeref": 1.7255102040816326,
          "symbol": "circle"
         },
         "mode": "markers",
         "name": "Belarus",
         "showlegend": true,
         "type": "scattergeo"
        },
        {
         "geo": "geo",
         "hovertemplate": "<b>%{hovertext}</b><br><br>Country=Saudi Arabia<br>AveragScore=%{marker.size}<br>latitude=%{lat}<br>longitude=%{lon}<extra></extra>",
         "hovertext": [
          "Saudi Arabia"
         ],
         "lat": [
          23.885942
         ],
         "legendgroup": "Saudi Arabia",
         "lon": [
          45.079162
         ],
         "marker": {
          "color": "#B6E880",
          "size": [
           58.35
          ],
          "sizemode": "area",
          "sizeref": 1.7255102040816326,
          "symbol": "circle"
         },
         "mode": "markers",
         "name": "Saudi Arabia",
         "showlegend": true,
         "type": "scattergeo"
        },
        {
         "geo": "geo",
         "hovertemplate": "<b>%{hovertext}</b><br><br>Country=Colombia<br>AveragScore=%{marker.size}<br>latitude=%{lat}<br>longitude=%{lon}<extra></extra>",
         "hovertext": [
          "Colombia"
         ],
         "lat": [
          4.570868
         ],
         "legendgroup": "Colombia",
         "lon": [
          -74.297333
         ],
         "marker": {
          "color": "#FF97FF",
          "size": [
           58.01
          ],
          "sizemode": "area",
          "sizeref": 1.7255102040816326,
          "symbol": "circle"
         },
         "mode": "markers",
         "name": "Colombia",
         "showlegend": true,
         "type": "scattergeo"
        },
        {
         "geo": "geo",
         "hovertemplate": "<b>%{hovertext}</b><br><br>Country=Suriname<br>AveragScore=%{marker.size}<br>latitude=%{lat}<br>longitude=%{lon}<extra></extra>",
         "hovertext": [
          "Suriname"
         ],
         "lat": [
          3.919305
         ],
         "legendgroup": "Suriname",
         "lon": [
          -56.027783
         ],
         "marker": {
          "color": "#FECB52",
          "size": [
           57.91
          ],
          "sizemode": "area",
          "sizeref": 1.7255102040816326,
          "symbol": "circle"
         },
         "mode": "markers",
         "name": "Suriname",
         "showlegend": true,
         "type": "scattergeo"
        },
        {
         "geo": "geo",
         "hovertemplate": "<b>%{hovertext}</b><br><br>Country=Botswana<br>AveragScore=%{marker.size}<br>latitude=%{lat}<br>longitude=%{lon}<extra></extra>",
         "hovertext": [
          "Botswana"
         ],
         "lat": [
          -22.328474
         ],
         "legendgroup": "Botswana",
         "lon": [
          24.684866
         ],
         "marker": {
          "color": "#636efa",
          "size": [
           57.83
          ],
          "sizemode": "area",
          "sizeref": 1.7255102040816326,
          "symbol": "circle"
         },
         "mode": "markers",
         "name": "Botswana",
         "showlegend": true,
         "type": "scattergeo"
        },
        {
         "geo": "geo",
         "hovertemplate": "<b>%{hovertext}</b><br><br>Country=Philippines<br>AveragScore=%{marker.size}<br>latitude=%{lat}<br>longitude=%{lon}<extra></extra>",
         "hovertext": [
          "Philippines"
         ],
         "lat": [
          12.879721
         ],
         "legendgroup": "Philippines",
         "lon": [
          121.774017
         ],
         "marker": {
          "color": "#EF553B",
          "size": [
           57.53
          ],
          "sizemode": "area",
          "sizeref": 1.7255102040816326,
          "symbol": "circle"
         },
         "mode": "markers",
         "name": "Philippines",
         "showlegend": true,
         "type": "scattergeo"
        },
        {
         "geo": "geo",
         "hovertemplate": "<b>%{hovertext}</b><br><br>Country=Ecuador<br>AveragScore=%{marker.size}<br>latitude=%{lat}<br>longitude=%{lon}<extra></extra>",
         "hovertext": [
          "Ecuador"
         ],
         "lat": [
          -1.831239
         ],
         "legendgroup": "Ecuador",
         "lon": [
          -78.183406
         ],
         "marker": {
          "color": "#00cc96",
          "size": [
           57.42
          ],
          "sizemode": "area",
          "sizeref": 1.7255102040816326,
          "symbol": "circle"
         },
         "mode": "markers",
         "name": "Ecuador",
         "showlegend": true,
         "type": "scattergeo"
        },
        {
         "geo": "geo",
         "hovertemplate": "<b>%{hovertext}</b><br><br>Country=Jordan<br>AveragScore=%{marker.size}<br>latitude=%{lat}<br>longitude=%{lon}<extra></extra>",
         "hovertext": [
          "Jordan"
         ],
         "lat": [
          30.585164
         ],
         "legendgroup": "Jordan",
         "lon": [
          36.238414
         ],
         "marker": {
          "color": "#ab63fa",
          "size": [
           57.14
          ],
          "sizemode": "area",
          "sizeref": 1.7255102040816326,
          "symbol": "circle"
         },
         "mode": "markers",
         "name": "Jordan",
         "showlegend": true,
         "type": "scattergeo"
        },
        {
         "geo": "geo",
         "hovertemplate": "<b>%{hovertext}</b><br><br>Country=São Tomé and Príncipe<br>AveragScore=%{marker.size}<br>latitude=%{lat}<br>longitude=%{lon}<extra></extra>",
         "hovertext": [
          "São Tomé and Príncipe"
         ],
         "lat": [
          0.18636
         ],
         "legendgroup": "São Tomé and Príncipe",
         "lon": [
          6.613081
         ],
         "marker": {
          "color": "#FFA15A",
          "size": [
           57.09
          ],
          "sizemode": "area",
          "sizeref": 1.7255102040816326,
          "symbol": "circle"
         },
         "mode": "markers",
         "name": "São Tomé and Príncipe",
         "showlegend": true,
         "type": "scattergeo"
        },
        {
         "geo": "geo",
         "hovertemplate": "<b>%{hovertext}</b><br><br>Country=Mongolia<br>AveragScore=%{marker.size}<br>latitude=%{lat}<br>longitude=%{lon}<extra></extra>",
         "hovertext": [
          "Mongolia"
         ],
         "lat": [
          46.862496
         ],
         "legendgroup": "Mongolia",
         "lon": [
          103.846656
         ],
         "marker": {
          "color": "#19d3f3",
          "size": [
           57.07
          ],
          "sizemode": "area",
          "sizeref": 1.7255102040816326,
          "symbol": "circle"
         },
         "mode": "markers",
         "name": "Mongolia",
         "showlegend": true,
         "type": "scattergeo"
        },
        {
         "geo": "geo",
         "hovertemplate": "<b>%{hovertext}</b><br><br>Country=Guyana<br>AveragScore=%{marker.size}<br>latitude=%{lat}<br>longitude=%{lon}<extra></extra>",
         "hovertext": [
          "Guyana"
         ],
         "lat": [
          4.860416
         ],
         "legendgroup": "Guyana",
         "lon": [
          -58.93018
         ],
         "marker": {
          "color": "#FF6692",
          "size": [
           56.93
          ],
          "sizemode": "area",
          "sizeref": 1.7255102040816326,
          "symbol": "circle"
         },
         "mode": "markers",
         "name": "Guyana",
         "showlegend": true,
         "type": "scattergeo"
        },
        {
         "geo": "geo",
         "hovertemplate": "<b>%{hovertext}</b><br><br>Country=Namibia<br>AveragScore=%{marker.size}<br>latitude=%{lat}<br>longitude=%{lon}<extra></extra>",
         "hovertext": [
          "Namibia"
         ],
         "lat": [
          -22.95764
         ],
         "legendgroup": "Namibia",
         "lon": [
          18.49041
         ],
         "marker": {
          "color": "#B6E880",
          "size": [
           56.38
          ],
          "sizemode": "area",
          "sizeref": 1.7255102040816326,
          "symbol": "circle"
         },
         "mode": "markers",
         "name": "Namibia",
         "showlegend": true,
         "type": "scattergeo"
        },
        {
         "geo": "geo",
         "hovertemplate": "<b>%{hovertext}</b><br><br>Country=Sri Lanka<br>AveragScore=%{marker.size}<br>latitude=%{lat}<br>longitude=%{lon}<extra></extra>",
         "hovertext": [
          "Sri Lanka"
         ],
         "lat": [
          7.873054
         ],
         "legendgroup": "Sri Lanka",
         "lon": [
          80.771797
         ],
         "marker": {
          "color": "#FF97FF",
          "size": [
           56.34
          ],
          "sizemode": "area",
          "sizeref": 1.7255102040816326,
          "symbol": "circle"
         },
         "mode": "markers",
         "name": "Sri Lanka",
         "showlegend": true,
         "type": "scattergeo"
        },
        {
         "geo": "geo",
         "hovertemplate": "<b>%{hovertext}</b><br><br>Country=Azerbaijan<br>AveragScore=%{marker.size}<br>latitude=%{lat}<br>longitude=%{lon}<extra></extra>",
         "hovertext": [
          "Azerbaijan"
         ],
         "lat": [
          40.143105
         ],
         "legendgroup": "Azerbaijan",
         "lon": [
          47.576927
         ],
         "marker": {
          "color": "#FECB52",
          "size": [
           56.26
          ],
          "sizemode": "area",
          "sizeref": 1.7255102040816326,
          "symbol": "circle"
         },
         "mode": "markers",
         "name": "Azerbaijan",
         "showlegend": true,
         "type": "scattergeo"
        },
        {
         "geo": "geo",
         "hovertemplate": "<b>%{hovertext}</b><br><br>Country=Belize<br>AveragScore=%{marker.size}<br>latitude=%{lat}<br>longitude=%{lon}<extra></extra>",
         "hovertext": [
          "Belize"
         ],
         "lat": [
          17.189877
         ],
         "legendgroup": "Belize",
         "lon": [
          -88.49765
         ],
         "marker": {
          "color": "#636efa",
          "size": [
           55.91
          ],
          "sizemode": "area",
          "sizeref": 1.7255102040816326,
          "symbol": "circle"
         },
         "mode": "markers",
         "name": "Belize",
         "showlegend": true,
         "type": "scattergeo"
        },
        {
         "geo": "geo",
         "hovertemplate": "<b>%{hovertext}</b><br><br>Country=Kyrgyzstan<br>AveragScore=%{marker.size}<br>latitude=%{lat}<br>longitude=%{lon}<extra></extra>",
         "hovertext": [
          "Kyrgyzstan"
         ],
         "lat": [
          41.20438
         ],
         "legendgroup": "Kyrgyzstan",
         "lon": [
          74.766098
         ],
         "marker": {
          "color": "#EF553B",
          "size": [
           55.75
          ],
          "sizemode": "area",
          "sizeref": 1.7255102040816326,
          "symbol": "circle"
         },
         "mode": "markers",
         "name": "Kyrgyzstan",
         "showlegend": true,
         "type": "scattergeo"
        },
        {
         "geo": "geo",
         "hovertemplate": "<b>%{hovertext}</b><br><br>Country=Turkey<br>AveragScore=%{marker.size}<br>latitude=%{lat}<br>longitude=%{lon}<extra></extra>",
         "hovertext": [
          "Turkey"
         ],
         "lat": [
          38.963745
         ],
         "legendgroup": "Turkey",
         "lon": [
          35.243322
         ],
         "marker": {
          "color": "#00cc96",
          "size": [
           55.5
          ],
          "sizemode": "area",
          "sizeref": 1.7255102040816326,
          "symbol": "circle"
         },
         "mode": "markers",
         "name": "Turkey",
         "showlegend": true,
         "type": "scattergeo"
        },
        {
         "geo": "geo",
         "hovertemplate": "<b>%{hovertext}</b><br><br>Country=Morocco<br>AveragScore=%{marker.size}<br>latitude=%{lat}<br>longitude=%{lon}<extra></extra>",
         "hovertext": [
          "Morocco"
         ],
         "lat": [
          31.791702
         ],
         "legendgroup": "Morocco",
         "lon": [
          -7.09262
         ],
         "marker": {
          "color": "#ab63fa",
          "size": [
           55.19
          ],
          "sizemode": "area",
          "sizeref": 1.7255102040816326,
          "symbol": "circle"
         },
         "mode": "markers",
         "name": "Morocco",
         "showlegend": true,
         "type": "scattergeo"
        },
        {
         "geo": "geo",
         "hovertemplate": "<b>%{hovertext}</b><br><br>Country=El Salvador<br>AveragScore=%{marker.size}<br>latitude=%{lat}<br>longitude=%{lon}<extra></extra>",
         "hovertext": [
          "El Salvador"
         ],
         "lat": [
          13.794185
         ],
         "legendgroup": "El Salvador",
         "lon": [
          -88.89653
         ],
         "marker": {
          "color": "#FFA15A",
          "size": [
           55.05
          ],
          "sizemode": "area",
          "sizeref": 1.7255102040816326,
          "symbol": "circle"
         },
         "mode": "markers",
         "name": "El Salvador",
         "showlegend": true,
         "type": "scattergeo"
        },
        {
         "geo": "geo",
         "hovertemplate": "<b>%{hovertext}</b><br><br>Country=Ghana<br>AveragScore=%{marker.size}<br>latitude=%{lat}<br>longitude=%{lon}<extra></extra>",
         "hovertext": [
          "Ghana"
         ],
         "lat": [
          7.946527
         ],
         "legendgroup": "Ghana",
         "lon": [
          -1.023194
         ],
         "marker": {
          "color": "#19d3f3",
          "size": [
           54.66
          ],
          "sizemode": "area",
          "sizeref": 1.7255102040816326,
          "symbol": "circle"
         },
         "mode": "markers",
         "name": "Ghana",
         "showlegend": true,
         "type": "scattergeo"
        },
        {
         "geo": "geo",
         "hovertemplate": "<b>%{hovertext}</b><br><br>Country=Tunisia<br>AveragScore=%{marker.size}<br>latitude=%{lat}<br>longitude=%{lon}<extra></extra>",
         "hovertext": [
          "Tunisia"
         ],
         "lat": [
          33.886917
         ],
         "legendgroup": "Tunisia",
         "lon": [
          9.537499
         ],
         "marker": {
          "color": "#FF6692",
          "size": [
           54.46
          ],
          "sizemode": "area",
          "sizeref": 1.7255102040816326,
          "symbol": "circle"
         },
         "mode": "markers",
         "name": "Tunisia",
         "showlegend": true,
         "type": "scattergeo"
        },
        {
         "geo": "geo",
         "hovertemplate": "<b>%{hovertext}</b><br><br>Country=Uzbekistan<br>AveragScore=%{marker.size}<br>latitude=%{lat}<br>longitude=%{lon}<extra></extra>",
         "hovertext": [
          "Uzbekistan"
         ],
         "lat": [
          41.377491
         ],
         "legendgroup": "Uzbekistan",
         "lon": [
          64.585262
         ],
         "marker": {
          "color": "#B6E880",
          "size": [
           53.8
          ],
          "sizemode": "area",
          "sizeref": 1.7255102040816326,
          "symbol": "circle"
         },
         "mode": "markers",
         "name": "Uzbekistan",
         "showlegend": true,
         "type": "scattergeo"
        },
        {
         "geo": "geo",
         "hovertemplate": "<b>%{hovertext}</b><br><br>Country=Guatemala<br>AveragScore=%{marker.size}<br>latitude=%{lat}<br>longitude=%{lon}<extra></extra>",
         "hovertext": [
          "Guatemala"
         ],
         "lat": [
          15.783471
         ],
         "legendgroup": "Guatemala",
         "lon": [
          -90.230759
         ],
         "marker": {
          "color": "#FF97FF",
          "size": [
           53.73
          ],
          "sizemode": "area",
          "sizeref": 1.7255102040816326,
          "symbol": "circle"
         },
         "mode": "markers",
         "name": "Guatemala",
         "showlegend": true,
         "type": "scattergeo"
        },
        {
         "geo": "geo",
         "hovertemplate": "<b>%{hovertext}</b><br><br>Country=Senegal<br>AveragScore=%{marker.size}<br>latitude=%{lat}<br>longitude=%{lon}<extra></extra>",
         "hovertext": [
          "Senegal"
         ],
         "lat": [
          14.497401
         ],
         "legendgroup": "Senegal",
         "lon": [
          -14.452362
         ],
         "marker": {
          "color": "#FECB52",
          "size": [
           53.68
          ],
          "sizemode": "area",
          "sizeref": 1.7255102040816326,
          "symbol": "circle"
         },
         "mode": "markers",
         "name": "Senegal",
         "showlegend": true,
         "type": "scattergeo"
        },
        {
         "geo": "geo",
         "hovertemplate": "<b>%{hovertext}</b><br><br>Country=India<br>AveragScore=%{marker.size}<br>latitude=%{lat}<br>longitude=%{lon}<extra></extra>",
         "hovertext": [
          "India"
         ],
         "lat": [
          20.593684
         ],
         "legendgroup": "India",
         "lon": [
          78.96288
         ],
         "marker": {
          "color": "#636efa",
          "size": [
           53.66
          ],
          "sizemode": "area",
          "sizeref": 1.7255102040816326,
          "symbol": "circle"
         },
         "mode": "markers",
         "name": "India",
         "showlegend": true,
         "type": "scattergeo"
        },
        {
         "geo": "geo",
         "hovertemplate": "<b>%{hovertext}</b><br><br>Country=Cuba<br>AveragScore=%{marker.size}<br>latitude=%{lat}<br>longitude=%{lon}<extra></extra>",
         "hovertext": [
          "Cuba"
         ],
         "lat": [
          21.521757
         ],
         "legendgroup": "Cuba",
         "lon": [
          -77.781167
         ],
         "marker": {
          "color": "#EF553B",
          "size": [
           53.44
          ],
          "sizemode": "area",
          "sizeref": 1.7255102040816326,
          "symbol": "circle"
         },
         "mode": "markers",
         "name": "Cuba",
         "showlegend": true,
         "type": "scattergeo"
        },
        {
         "geo": "geo",
         "hovertemplate": "<b>%{hovertext}</b><br><br>Country=Honduras<br>AveragScore=%{marker.size}<br>latitude=%{lat}<br>longitude=%{lon}<extra></extra>",
         "hovertext": [
          "Honduras"
         ],
         "lat": [
          15.199999
         ],
         "legendgroup": "Honduras",
         "lon": [
          -86.241905
         ],
         "marker": {
          "color": "#00cc96",
          "size": [
           53.25
          ],
          "sizemode": "area",
          "sizeref": 1.7255102040816326,
          "symbol": "circle"
         },
         "mode": "markers",
         "name": "Honduras",
         "showlegend": true,
         "type": "scattergeo"
        },
        {
         "geo": "geo",
         "hovertemplate": "<b>%{hovertext}</b><br><br>Country=Bolivia<br>AveragScore=%{marker.size}<br>latitude=%{lat}<br>longitude=%{lon}<extra></extra>",
         "hovertext": [
          "Bolivia"
         ],
         "lat": [
          -16.290154
         ],
         "legendgroup": "Bolivia",
         "lon": [
          -63.588653
         ],
         "marker": {
          "color": "#ab63fa",
          "size": [
           53.13
          ],
          "sizemode": "area",
          "sizeref": 1.7255102040816326,
          "symbol": "circle"
         },
         "mode": "markers",
         "name": "Bolivia",
         "showlegend": true,
         "type": "scattergeo"
        },
        {
         "geo": "geo",
         "hovertemplate": "<b>%{hovertext}</b><br><br>Country=Turkmenistan<br>AveragScore=%{marker.size}<br>latitude=%{lat}<br>longitude=%{lon}<extra></extra>",
         "hovertext": [
          "Turkmenistan"
         ],
         "lat": [
          38.969719
         ],
         "legendgroup": "Turkmenistan",
         "lon": [
          59.556278
         ],
         "marker": {
          "color": "#FFA15A",
          "size": [
           52.38
          ],
          "sizemode": "area",
          "sizeref": 1.7255102040816326,
          "symbol": "circle"
         },
         "mode": "markers",
         "name": "Turkmenistan",
         "showlegend": true,
         "type": "scattergeo"
        },
        {
         "geo": "geo",
         "hovertemplate": "<b>%{hovertext}</b><br><br>Country=Kenya<br>AveragScore=%{marker.size}<br>latitude=%{lat}<br>longitude=%{lon}<extra></extra>",
         "hovertext": [
          "Kenya"
         ],
         "lat": [
          -0.023559
         ],
         "legendgroup": "Kenya",
         "lon": [
          37.906193
         ],
         "marker": {
          "color": "#19d3f3",
          "size": [
           52.25
          ],
          "sizemode": "area",
          "sizeref": 1.7255102040816326,
          "symbol": "circle"
         },
         "mode": "markers",
         "name": "Kenya",
         "showlegend": true,
         "type": "scattergeo"
        },
        {
         "geo": "geo",
         "hovertemplate": "<b>%{hovertext}</b><br><br>Country=Algeria<br>AveragScore=%{marker.size}<br>latitude=%{lat}<br>longitude=%{lon}<extra></extra>",
         "hovertext": [
          "Algeria"
         ],
         "lat": [
          28.033886
         ],
         "legendgroup": "Algeria",
         "lon": [
          1.659626
         ],
         "marker": {
          "color": "#FF6692",
          "size": [
           52.13
          ],
          "sizemode": "area",
          "sizeref": 1.7255102040816326,
          "symbol": "circle"
         },
         "mode": "markers",
         "name": "Algeria",
         "showlegend": true,
         "type": "scattergeo"
        },
        {
         "geo": "geo",
         "hovertemplate": "<b>%{hovertext}</b><br><br>Country=Nepal<br>AveragScore=%{marker.size}<br>latitude=%{lat}<br>longitude=%{lon}<extra></extra>",
         "hovertext": [
          "Nepal"
         ],
         "lat": [
          28.394857
         ],
         "legendgroup": "Nepal",
         "lon": [
          84.124008
         ],
         "marker": {
          "color": "#B6E880",
          "size": [
           51.57
          ],
          "sizemode": "area",
          "sizeref": 1.7255102040816326,
          "symbol": "circle"
         },
         "mode": "markers",
         "name": "Nepal",
         "showlegend": true,
         "type": "scattergeo"
        },
        {
         "geo": "geo",
         "hovertemplate": "<b>%{hovertext}</b><br><br>Country=Rwanda<br>AveragScore=%{marker.size}<br>latitude=%{lat}<br>longitude=%{lon}<extra></extra>",
         "hovertext": [
          "Rwanda"
         ],
         "lat": [
          -1.940278
         ],
         "legendgroup": "Rwanda",
         "lon": [
          29.873888
         ],
         "marker": {
          "color": "#FF97FF",
          "size": [
           51.56
          ],
          "sizemode": "area",
          "sizeref": 1.7255102040816326,
          "symbol": "circle"
         },
         "mode": "markers",
         "name": "Rwanda",
         "showlegend": true,
         "type": "scattergeo"
        },
        {
         "geo": "geo",
         "hovertemplate": "<b>%{hovertext}</b><br><br>Country=Lebanon<br>AveragScore=%{marker.size}<br>latitude=%{lat}<br>longitude=%{lon}<extra></extra>",
         "hovertext": [
          "Lebanon"
         ],
         "lat": [
          33.854721
         ],
         "legendgroup": "Lebanon",
         "lon": [
          35.862285
         ],
         "marker": {
          "color": "#FECB52",
          "size": [
           51.38
          ],
          "sizemode": "area",
          "sizeref": 1.7255102040816326,
          "symbol": "circle"
         },
         "mode": "markers",
         "name": "Lebanon",
         "showlegend": true,
         "type": "scattergeo"
        },
        {
         "geo": "geo",
         "hovertemplate": "<b>%{hovertext}</b><br><br>Country=Tajikistan<br>AveragScore=%{marker.size}<br>latitude=%{lat}<br>longitude=%{lon}<extra></extra>",
         "hovertext": [
          "Tajikistan"
         ],
         "lat": [
          38.861034
         ],
         "legendgroup": "Tajikistan",
         "lon": [
          71.276093
         ],
         "marker": {
          "color": "#636efa",
          "size": [
           51.2
          ],
          "sizemode": "area",
          "sizeref": 1.7255102040816326,
          "symbol": "circle"
         },
         "mode": "markers",
         "name": "Tajikistan",
         "showlegend": true,
         "type": "scattergeo"
        },
        {
         "geo": "geo",
         "hovertemplate": "<b>%{hovertext}</b><br><br>Country=Nicaragua<br>AveragScore=%{marker.size}<br>latitude=%{lat}<br>longitude=%{lon}<extra></extra>",
         "hovertext": [
          "Nicaragua"
         ],
         "lat": [
          12.865416
         ],
         "legendgroup": "Nicaragua",
         "lon": [
          -85.207229
         ],
         "marker": {
          "color": "#EF553B",
          "size": [
           50.22
          ],
          "sizemode": "area",
          "sizeref": 1.7255102040816326,
          "symbol": "circle"
         },
         "mode": "markers",
         "name": "Nicaragua",
         "showlegend": true,
         "type": "scattergeo"
        },
        {
         "geo": "geo",
         "hovertemplate": "<b>%{hovertext}</b><br><br>Country=Laos<br>AveragScore=%{marker.size}<br>latitude=%{lat}<br>longitude=%{lon}<extra></extra>",
         "hovertext": [
          "Laos"
         ],
         "lat": [
          19.85627
         ],
         "legendgroup": "Laos",
         "lon": [
          102.495496
         ],
         "marker": {
          "color": "#00cc96",
          "size": [
           50.18
          ],
          "sizemode": "area",
          "sizeref": 1.7255102040816326,
          "symbol": "circle"
         },
         "mode": "markers",
         "name": "Laos",
         "showlegend": true,
         "type": "scattergeo"
        },
        {
         "geo": "geo",
         "hovertemplate": "<b>%{hovertext}</b><br><br>Country=Gambia<br>AveragScore=%{marker.size}<br>latitude=%{lat}<br>longitude=%{lon}<extra></extra>",
         "hovertext": [
          "Gambia"
         ],
         "lat": [
          13.443182
         ],
         "legendgroup": "Gambia",
         "lon": [
          -15.310139
         ],
         "marker": {
          "color": "#ab63fa",
          "size": [
           50.1
          ],
          "sizemode": "area",
          "sizeref": 1.7255102040816326,
          "symbol": "circle"
         },
         "mode": "markers",
         "name": "Gambia",
         "showlegend": true,
         "type": "scattergeo"
        },
        {
         "geo": "geo",
         "hovertemplate": "<b>%{hovertext}</b><br><br>Country=Tanzania<br>AveragScore=%{marker.size}<br>latitude=%{lat}<br>longitude=%{lon}<extra></extra>",
         "hovertext": [
          "Tanzania"
         ],
         "lat": [
          -6.369028
         ],
         "legendgroup": "Tanzania",
         "lon": [
          34.888822
         ],
         "marker": {
          "color": "#FFA15A",
          "size": [
           49.2
          ],
          "sizemode": "area",
          "sizeref": 1.7255102040816326,
          "symbol": "circle"
         },
         "mode": "markers",
         "name": "Tanzania",
         "showlegend": true,
         "type": "scattergeo"
        },
        {
         "geo": "geo",
         "hovertemplate": "<b>%{hovertext}</b><br><br>Country=Cambodia<br>AveragScore=%{marker.size}<br>latitude=%{lat}<br>longitude=%{lon}<extra></extra>",
         "hovertext": [
          "Cambodia"
         ],
         "lat": [
          12.565679
         ],
         "legendgroup": "Cambodia",
         "lon": [
          104.990963
         ],
         "marker": {
          "color": "#19d3f3",
          "size": [
           49.19
          ],
          "sizemode": "area",
          "sizeref": 1.7255102040816326,
          "symbol": "circle"
         },
         "mode": "markers",
         "name": "Cambodia",
         "showlegend": true,
         "type": "scattergeo"
        },
        {
         "geo": "geo",
         "hovertemplate": "<b>%{hovertext}</b><br><br>Country=Gabon<br>AveragScore=%{marker.size}<br>latitude=%{lat}<br>longitude=%{lon}<extra></extra>",
         "hovertext": [
          "Gabon"
         ],
         "lat": [
          -0.803689
         ],
         "legendgroup": "Gabon",
         "lon": [
          11.609444
         ],
         "marker": {
          "color": "#FF6692",
          "size": [
           48.84
          ],
          "sizemode": "area",
          "sizeref": 1.7255102040816326,
          "symbol": "circle"
         },
         "mode": "markers",
         "name": "Gabon",
         "showlegend": true,
         "type": "scattergeo"
        },
        {
         "geo": "geo",
         "hovertemplate": "<b>%{hovertext}</b><br><br>Country=Côte d'Ivoire<br>AveragScore=%{marker.size}<br>latitude=%{lat}<br>longitude=%{lon}<extra></extra>",
         "hovertext": [
          "Côte d'Ivoire"
         ],
         "lat": [
          7.539989
         ],
         "legendgroup": "Côte d'Ivoire",
         "lon": [
          -5.54708
         ],
         "marker": {
          "color": "#B6E880",
          "size": [
           48.59
          ],
          "sizemode": "area",
          "sizeref": 1.7255102040816326,
          "symbol": "circle"
         },
         "mode": "markers",
         "name": "Côte d'Ivoire",
         "showlegend": true,
         "type": "scattergeo"
        },
        {
         "geo": "geo",
         "hovertemplate": "<b>%{hovertext}</b><br><br>Country=Egypt<br>AveragScore=%{marker.size}<br>latitude=%{lat}<br>longitude=%{lon}<extra></extra>",
         "hovertext": [
          "Egypt"
         ],
         "lat": [
          26.820553
         ],
         "legendgroup": "Egypt",
         "lon": [
          30.802498
         ],
         "marker": {
          "color": "#FF97FF",
          "size": [
           48.57
          ],
          "sizemode": "area",
          "sizeref": 1.7255102040816326,
          "symbol": "circle"
         },
         "mode": "markers",
         "name": "Egypt",
         "showlegend": true,
         "type": "scattergeo"
        },
        {
         "geo": "geo",
         "hovertemplate": "<b>%{hovertext}</b><br><br>Country=Djibouti<br>AveragScore=%{marker.size}<br>latitude=%{lat}<br>longitude=%{lon}<extra></extra>",
         "hovertext": [
          "Djibouti"
         ],
         "lat": [
          11.825138
         ],
         "legendgroup": "Djibouti",
         "lon": [
          42.590275
         ],
         "marker": {
          "color": "#FECB52",
          "size": [
           48.47
          ],
          "sizemode": "area",
          "sizeref": 1.7255102040816326,
          "symbol": "circle"
         },
         "mode": "markers",
         "name": "Djibouti",
         "showlegend": true,
         "type": "scattergeo"
        },
        {
         "geo": "geo",
         "hovertemplate": "<b>%{hovertext}</b><br><br>Country=Benin<br>AveragScore=%{marker.size}<br>latitude=%{lat}<br>longitude=%{lon}<extra></extra>",
         "hovertext": [
          "Benin"
         ],
         "lat": [
          9.30769
         ],
         "legendgroup": "Benin",
         "lon": [
          2.315834
         ],
         "marker": {
          "color": "#636efa",
          "size": [
           48.22
          ],
          "sizemode": "area",
          "sizeref": 1.7255102040816326,
          "symbol": "circle"
         },
         "mode": "markers",
         "name": "Benin",
         "showlegend": true,
         "type": "scattergeo"
        },
        {
         "geo": "geo",
         "hovertemplate": "<b>%{hovertext}</b><br><br>Country=Bangladesh<br>AveragScore=%{marker.size}<br>latitude=%{lat}<br>longitude=%{lon}<extra></extra>",
         "hovertext": [
          "Bangladesh"
         ],
         "lat": [
          23.684994
         ],
         "legendgroup": "Bangladesh",
         "lon": [
          90.356331
         ],
         "marker": {
          "color": "#EF553B",
          "size": [
           47.87
          ],
          "sizemode": "area",
          "sizeref": 1.7255102040816326,
          "symbol": "circle"
         },
         "mode": "markers",
         "name": "Bangladesh",
         "showlegend": true,
         "type": "scattergeo"
        },
        {
         "geo": "geo",
         "hovertemplate": "<b>%{hovertext}</b><br><br>Country=Malawi<br>AveragScore=%{marker.size}<br>latitude=%{lat}<br>longitude=%{lon}<extra></extra>",
         "hovertext": [
          "Malawi"
         ],
         "lat": [
          -13.254308
         ],
         "legendgroup": "Malawi",
         "lon": [
          34.301525
         ],
         "marker": {
          "color": "#00cc96",
          "size": [
           47.83
          ],
          "sizemode": "area",
          "sizeref": 1.7255102040816326,
          "symbol": "circle"
         },
         "mode": "markers",
         "name": "Malawi",
         "showlegend": true,
         "type": "scattergeo"
        },
        {
         "geo": "geo",
         "hovertemplate": "<b>%{hovertext}</b><br><br>Country=Iran<br>AveragScore=%{marker.size}<br>latitude=%{lat}<br>longitude=%{lon}<extra></extra>",
         "hovertext": [
          "Iran"
         ],
         "lat": [
          32.427908
         ],
         "legendgroup": "Iran",
         "lon": [
          53.688046
         ],
         "marker": {
          "color": "#ab63fa",
          "size": [
           47.71
          ],
          "sizemode": "area",
          "sizeref": 1.7255102040816326,
          "symbol": "circle"
         },
         "mode": "markers",
         "name": "Iran",
         "showlegend": true,
         "type": "scattergeo"
        },
        {
         "geo": "geo",
         "hovertemplate": "<b>%{hovertext}</b><br><br>Country=Zambia<br>AveragScore=%{marker.size}<br>latitude=%{lat}<br>longitude=%{lon}<extra></extra>",
         "hovertext": [
          "Zambia"
         ],
         "lat": [
          -13.133897
         ],
         "legendgroup": "Zambia",
         "lon": [
          27.849332
         ],
         "marker": {
          "color": "#FFA15A",
          "size": [
           47.14
          ],
          "sizemode": "area",
          "sizeref": 1.7255102040816326,
          "symbol": "circle"
         },
         "mode": "markers",
         "name": "Zambia",
         "showlegend": true,
         "type": "scattergeo"
        },
        {
         "geo": "geo",
         "hovertemplate": "<b>%{hovertext}</b><br><br>Country=Comoros<br>AveragScore=%{marker.size}<br>latitude=%{lat}<br>longitude=%{lon}<extra></extra>",
         "hovertext": [
          "Comoros"
         ],
         "lat": [
          -11.875001
         ],
         "legendgroup": "Comoros",
         "lon": [
          43.872219
         ],
         "marker": {
          "color": "#19d3f3",
          "size": [
           46.93
          ],
          "sizemode": "area",
          "sizeref": 1.7255102040816326,
          "symbol": "circle"
         },
         "mode": "markers",
         "name": "Comoros",
         "showlegend": true,
         "type": "scattergeo"
        },
        {
         "geo": "geo",
         "hovertemplate": "<b>%{hovertext}</b><br><br>Country=Uganda<br>AveragScore=%{marker.size}<br>latitude=%{lat}<br>longitude=%{lon}<extra></extra>",
         "hovertext": [
          "Uganda"
         ],
         "lat": [
          1.373333
         ],
         "legendgroup": "Uganda",
         "lon": [
          32.290275
         ],
         "marker": {
          "color": "#FF6692",
          "size": [
           46.83
          ],
          "sizemode": "area",
          "sizeref": 1.7255102040816326,
          "symbol": "circle"
         },
         "mode": "markers",
         "name": "Uganda",
         "showlegend": true,
         "type": "scattergeo"
        },
        {
         "geo": "geo",
         "hovertemplate": "<b>%{hovertext}</b><br><br>Country=Papua New Guinea<br>AveragScore=%{marker.size}<br>latitude=%{lat}<br>longitude=%{lon}<extra></extra>",
         "hovertext": [
          "Papua New Guinea"
         ],
         "lat": [
          -6.314993
         ],
         "legendgroup": "Papua New Guinea",
         "lon": [
          143.95555
         ],
         "marker": {
          "color": "#B6E880",
          "size": [
           46.64
          ],
          "sizemode": "area",
          "sizeref": 1.7255102040816326,
          "symbol": "circle"
         },
         "mode": "markers",
         "name": "Papua New Guinea",
         "showlegend": true,
         "type": "scattergeo"
        },
        {
         "geo": "geo",
         "hovertemplate": "<b>%{hovertext}</b><br><br>Country=Equatorial Guinea<br>AveragScore=%{marker.size}<br>latitude=%{lat}<br>longitude=%{lon}<extra></extra>",
         "hovertext": [
          "Equatorial Guinea"
         ],
         "lat": [
          1.650801
         ],
         "legendgroup": "Equatorial Guinea",
         "lon": [
          10.267895
         ],
         "marker": {
          "color": "#FF97FF",
          "size": [
           46.59
          ],
          "sizemode": "area",
          "sizeref": 1.7255102040816326,
          "symbol": "circle"
         },
         "mode": "markers",
         "name": "Equatorial Guinea",
         "showlegend": true,
         "type": "scattergeo"
        },
        {
         "geo": "geo",
         "hovertemplate": "<b>%{hovertext}</b><br><br>Country=Lesotho<br>AveragScore=%{marker.size}<br>latitude=%{lat}<br>longitude=%{lon}<extra></extra>",
         "hovertext": [
          "Lesotho"
         ],
         "lat": [
          -29.609988
         ],
         "legendgroup": "Lesotho",
         "lon": [
          28.233608
         ],
         "marker": {
          "color": "#FECB52",
          "size": [
           45.62
          ],
          "sizemode": "area",
          "sizeref": 1.7255102040816326,
          "symbol": "circle"
         },
         "mode": "markers",
         "name": "Lesotho",
         "showlegend": true,
         "type": "scattergeo"
        },
        {
         "geo": "geo",
         "hovertemplate": "<b>%{hovertext}</b><br><br>Country=Togo<br>AveragScore=%{marker.size}<br>latitude=%{lat}<br>longitude=%{lon}<extra></extra>",
         "hovertext": [
          "Togo"
         ],
         "lat": [
          8.619543
         ],
         "legendgroup": "Togo",
         "lon": [
          0.824782
         ],
         "marker": {
          "color": "#636efa",
          "size": [
           45.52
          ],
          "sizemode": "area",
          "sizeref": 1.7255102040816326,
          "symbol": "circle"
         },
         "mode": "markers",
         "name": "Togo",
         "showlegend": true,
         "type": "scattergeo"
        },
        {
         "geo": "geo",
         "hovertemplate": "<b>%{hovertext}</b><br><br>Country=Swaziland<br>AveragScore=%{marker.size}<br>latitude=%{lat}<br>longitude=%{lon}<extra></extra>",
         "hovertext": [
          "Swaziland"
         ],
         "lat": [
          -26.522503
         ],
         "legendgroup": "Swaziland",
         "lon": [
          31.465866
         ],
         "marker": {
          "color": "#EF553B",
          "size": [
           45.36
          ],
          "sizemode": "area",
          "sizeref": 1.7255102040816326,
          "symbol": "circle"
         },
         "mode": "markers",
         "name": "Swaziland",
         "showlegend": true,
         "type": "scattergeo"
        },
        {
         "geo": "geo",
         "hovertemplate": "<b>%{hovertext}</b><br><br>Country=Burkina Faso<br>AveragScore=%{marker.size}<br>latitude=%{lat}<br>longitude=%{lon}<extra></extra>",
         "hovertext": [
          "Burkina Faso"
         ],
         "lat": [
          12.238333
         ],
         "legendgroup": "Burkina Faso",
         "lon": [
          -1.561593
         ],
         "marker": {
          "color": "#00cc96",
          "size": [
           45.12
          ],
          "sizemode": "area",
          "sizeref": 1.7255102040816326,
          "symbol": "circle"
         },
         "mode": "markers",
         "name": "Burkina Faso",
         "showlegend": true,
         "type": "scattergeo"
        },
        {
         "geo": "geo",
         "hovertemplate": "<b>%{hovertext}</b><br><br>Country=Pakistan<br>AveragScore=%{marker.size}<br>latitude=%{lat}<br>longitude=%{lon}<extra></extra>",
         "hovertext": [
          "Pakistan"
         ],
         "lat": [
          30.375321
         ],
         "legendgroup": "Pakistan",
         "lon": [
          69.345116
         ],
         "marker": {
          "color": "#ab63fa",
          "size": [
           45.1
          ],
          "sizemode": "area",
          "sizeref": 1.7255102040816326,
          "symbol": "circle"
         },
         "mode": "markers",
         "name": "Pakistan",
         "showlegend": true,
         "type": "scattergeo"
        },
        {
         "geo": "geo",
         "hovertemplate": "<b>%{hovertext}</b><br><br>Country=Madagascar<br>AveragScore=%{marker.size}<br>latitude=%{lat}<br>longitude=%{lon}<extra></extra>",
         "hovertext": [
          "Madagascar"
         ],
         "lat": [
          -18.766947
         ],
         "legendgroup": "Madagascar",
         "lon": [
          46.869107
         ],
         "marker": {
          "color": "#FFA15A",
          "size": [
           44.94
          ],
          "sizemode": "area",
          "sizeref": 1.7255102040816326,
          "symbol": "circle"
         },
         "mode": "markers",
         "name": "Madagascar",
         "showlegend": true,
         "type": "scattergeo"
        },
        {
         "geo": "geo",
         "hovertemplate": "<b>%{hovertext}</b><br><br>Country=Liberia<br>AveragScore=%{marker.size}<br>latitude=%{lat}<br>longitude=%{lon}<extra></extra>",
         "hovertext": [
          "Liberia"
         ],
         "lat": [
          6.428055
         ],
         "legendgroup": "Liberia",
         "lon": [
          -9.429499
         ],
         "marker": {
          "color": "#19d3f3",
          "size": [
           44.79
          ],
          "sizemode": "area",
          "sizeref": 1.7255102040816326,
          "symbol": "circle"
         },
         "mode": "markers",
         "name": "Liberia",
         "showlegend": true,
         "type": "scattergeo"
        },
        {
         "geo": "geo",
         "hovertemplate": "<b>%{hovertext}</b><br><br>Country=Zimbabwe<br>AveragScore=%{marker.size}<br>latitude=%{lat}<br>longitude=%{lon}<extra></extra>",
         "hovertext": [
          "Zimbabwe"
         ],
         "lat": [
          -19.015438
         ],
         "legendgroup": "Zimbabwe",
         "lon": [
          29.154857
         ],
         "marker": {
          "color": "#FF6692",
          "size": [
           44.67
          ],
          "sizemode": "area",
          "sizeref": 1.7255102040816326,
          "symbol": "circle"
         },
         "mode": "markers",
         "name": "Zimbabwe",
         "showlegend": true,
         "type": "scattergeo"
        },
        {
         "geo": "geo",
         "hovertemplate": "<b>%{hovertext}</b><br><br>Country=Iraq<br>AveragScore=%{marker.size}<br>latitude=%{lat}<br>longitude=%{lon}<extra></extra>",
         "hovertext": [
          "Iraq"
         ],
         "lat": [
          33.223191
         ],
         "legendgroup": "Iraq",
         "lon": [
          43.679291
         ],
         "marker": {
          "color": "#B6E880",
          "size": [
           44.66
          ],
          "sizemode": "area",
          "sizeref": 1.7255102040816326,
          "symbol": "circle"
         },
         "mode": "markers",
         "name": "Iraq",
         "showlegend": true,
         "type": "scattergeo"
        },
        {
         "geo": "geo",
         "hovertemplate": "<b>%{hovertext}</b><br><br>Country=Guinea<br>AveragScore=%{marker.size}<br>latitude=%{lat}<br>longitude=%{lon}<extra></extra>",
         "hovertext": [
          "Guinea"
         ],
         "lat": [
          9.945587
         ],
         "legendgroup": "Guinea",
         "lon": [
          -9.696645
         ],
         "marker": {
          "color": "#FF97FF",
          "size": [
           44.47
          ],
          "sizemode": "area",
          "sizeref": 1.7255102040816326,
          "symbol": "circle"
         },
         "mode": "markers",
         "name": "Guinea",
         "showlegend": true,
         "type": "scattergeo"
        },
        {
         "geo": "geo",
         "hovertemplate": "<b>%{hovertext}</b><br><br>Country=Nigeria<br>AveragScore=%{marker.size}<br>latitude=%{lat}<br>longitude=%{lon}<extra></extra>",
         "hovertext": [
          "Nigeria"
         ],
         "lat": [
          9.081999
         ],
         "legendgroup": "Nigeria",
         "lon": [
          8.675277
         ],
         "marker": {
          "color": "#FECB52",
          "size": [
           44
          ],
          "sizemode": "area",
          "sizeref": 1.7255102040816326,
          "symbol": "circle"
         },
         "mode": "markers",
         "name": "Nigeria",
         "showlegend": true,
         "type": "scattergeo"
        },
        {
         "geo": "geo",
         "hovertemplate": "<b>%{hovertext}</b><br><br>Country=Sierra Leone<br>AveragScore=%{marker.size}<br>latitude=%{lat}<br>longitude=%{lon}<extra></extra>",
         "hovertext": [
          "Sierra Leone"
         ],
         "lat": [
          8.460555
         ],
         "legendgroup": "Sierra Leone",
         "lon": [
          -11.779889
         ],
         "marker": {
          "color": "#636efa",
          "size": [
           43.62
          ],
          "sizemode": "area",
          "sizeref": 1.7255102040816326,
          "symbol": "circle"
         },
         "mode": "markers",
         "name": "Sierra Leone",
         "showlegend": true,
         "type": "scattergeo"
        },
        {
         "geo": "geo",
         "hovertemplate": "<b>%{hovertext}</b><br><br>Country=Venezuela<br>AveragScore=%{marker.size}<br>latitude=%{lat}<br>longitude=%{lon}<extra></extra>",
         "hovertext": [
          "Venezuela"
         ],
         "lat": [
          6.42375
         ],
         "legendgroup": "Venezuela",
         "lon": [
          -66.58973
         ],
         "marker": {
          "color": "#EF553B",
          "size": [
           43.6
          ],
          "sizemode": "area",
          "sizeref": 1.7255102040816326,
          "symbol": "circle"
         },
         "mode": "markers",
         "name": "Venezuela",
         "showlegend": true,
         "type": "scattergeo"
        },
        {
         "geo": "geo",
         "hovertemplate": "<b>%{hovertext}</b><br><br>Country=Libya<br>AveragScore=%{marker.size}<br>latitude=%{lat}<br>longitude=%{lon}<extra></extra>",
         "hovertext": [
          "Libya"
         ],
         "lat": [
          26.3351
         ],
         "legendgroup": "Libya",
         "lon": [
          17.228331
         ],
         "marker": {
          "color": "#00cc96",
          "size": [
           43.46
          ],
          "sizemode": "area",
          "sizeref": 1.7255102040816326,
          "symbol": "circle"
         },
         "mode": "markers",
         "name": "Libya",
         "showlegend": true,
         "type": "scattergeo"
        },
        {
         "geo": "geo",
         "hovertemplate": "<b>%{hovertext}</b><br><br>Country=Cameroon<br>AveragScore=%{marker.size}<br>latitude=%{lat}<br>longitude=%{lon}<extra></extra>",
         "hovertext": [
          "Cameroon"
         ],
         "lat": [
          7.369722
         ],
         "legendgroup": "Cameroon",
         "lon": [
          12.354722
         ],
         "marker": {
          "color": "#ab63fa",
          "size": [
           43.08
          ],
          "sizemode": "area",
          "sizeref": 1.7255102040816326,
          "symbol": "circle"
         },
         "mode": "markers",
         "name": "Cameroon",
         "showlegend": true,
         "type": "scattergeo"
        },
        {
         "geo": "geo",
         "hovertemplate": "<b>%{hovertext}</b><br><br>Country=Guinea-Bissau<br>AveragScore=%{marker.size}<br>latitude=%{lat}<br>longitude=%{lon}<extra></extra>",
         "hovertext": [
          "Guinea-Bissau"
         ],
         "lat": [
          11.803749
         ],
         "legendgroup": "Guinea-Bissau",
         "lon": [
          -15.180413
         ],
         "marker": {
          "color": "#FFA15A",
          "size": [
           42.78
          ],
          "sizemode": "area",
          "sizeref": 1.7255102040816326,
          "symbol": "circle"
         },
         "mode": "markers",
         "name": "Guinea-Bissau",
         "showlegend": true,
         "type": "scattergeo"
        },
        {
         "geo": "geo",
         "hovertemplate": "<b>%{hovertext}</b><br><br>Country=Mozambique<br>AveragScore=%{marker.size}<br>latitude=%{lat}<br>longitude=%{lon}<extra></extra>",
         "hovertext": [
          "Mozambique"
         ],
         "lat": [
          -18.665695
         ],
         "legendgroup": "Mozambique",
         "lon": [
          35.529562
         ],
         "marker": {
          "color": "#19d3f3",
          "size": [
           42.7
          ],
          "sizemode": "area",
          "sizeref": 1.7255102040816326,
          "symbol": "circle"
         },
         "mode": "markers",
         "name": "Mozambique",
         "showlegend": true,
         "type": "scattergeo"
        },
        {
         "geo": "geo",
         "hovertemplate": "<b>%{hovertext}</b><br><br>Country=Mali<br>AveragScore=%{marker.size}<br>latitude=%{lat}<br>longitude=%{lon}<extra></extra>",
         "hovertext": [
          "Mali"
         ],
         "lat": [
          17.570692
         ],
         "legendgroup": "Mali",
         "lon": [
          -3.996166
         ],
         "marker": {
          "color": "#FF6692",
          "size": [
           42.36
          ],
          "sizemode": "area",
          "sizeref": 1.7255102040816326,
          "symbol": "circle"
         },
         "mode": "markers",
         "name": "Mali",
         "showlegend": true,
         "type": "scattergeo"
        },
        {
         "geo": "geo",
         "hovertemplate": "<b>%{hovertext}</b><br><br>Country=Niger<br>AveragScore=%{marker.size}<br>latitude=%{lat}<br>longitude=%{lon}<extra></extra>",
         "hovertext": [
          "Niger"
         ],
         "lat": [
          17.607789
         ],
         "legendgroup": "Niger",
         "lon": [
          8.081666
         ],
         "marker": {
          "color": "#B6E880",
          "size": [
           42.26
          ],
          "sizemode": "area",
          "sizeref": 1.7255102040816326,
          "symbol": "circle"
         },
         "mode": "markers",
         "name": "Niger",
         "showlegend": true,
         "type": "scattergeo"
        },
        {
         "geo": "geo",
         "hovertemplate": "<b>%{hovertext}</b><br><br>Country=Ethiopia<br>AveragScore=%{marker.size}<br>latitude=%{lat}<br>longitude=%{lon}<extra></extra>",
         "hovertext": [
          "Ethiopia"
         ],
         "lat": [
          9.145
         ],
         "legendgroup": "Ethiopia",
         "lon": [
          40.489673
         ],
         "marker": {
          "color": "#FF97FF",
          "size": [
           41.87
          ],
          "sizemode": "area",
          "sizeref": 1.7255102040816326,
          "symbol": "circle"
         },
         "mode": "markers",
         "name": "Ethiopia",
         "showlegend": true,
         "type": "scattergeo"
        },
        {
         "geo": "geo",
         "hovertemplate": "<b>%{hovertext}</b><br><br>Country=Mauritania<br>AveragScore=%{marker.size}<br>latitude=%{lat}<br>longitude=%{lon}<extra></extra>",
         "hovertext": [
          "Mauritania"
         ],
         "lat": [
          21.00789
         ],
         "legendgroup": "Mauritania",
         "lon": [
          -10.940835
         ],
         "marker": {
          "color": "#FECB52",
          "size": [
           41.23
          ],
          "sizemode": "area",
          "sizeref": 1.7255102040816326,
          "symbol": "circle"
         },
         "mode": "markers",
         "name": "Mauritania",
         "showlegend": true,
         "type": "scattergeo"
        },
        {
         "geo": "geo",
         "hovertemplate": "<b>%{hovertext}</b><br><br>Country=Angola<br>AveragScore=%{marker.size}<br>latitude=%{lat}<br>longitude=%{lon}<extra></extra>",
         "hovertext": [
          "Angola"
         ],
         "lat": [
          -11.202692
         ],
         "legendgroup": "Angola",
         "lon": [
          17.873887
         ],
         "marker": {
          "color": "#636efa",
          "size": [
           40.55
          ],
          "sizemode": "area",
          "sizeref": 1.7255102040816326,
          "symbol": "circle"
         },
         "mode": "markers",
         "name": "Angola",
         "showlegend": true,
         "type": "scattergeo"
        },
        {
         "geo": "geo",
         "hovertemplate": "<b>%{hovertext}</b><br><br>Country=Haiti<br>AveragScore=%{marker.size}<br>latitude=%{lat}<br>longitude=%{lon}<extra></extra>",
         "hovertext": [
          "Haiti"
         ],
         "lat": [
          18.971187
         ],
         "legendgroup": "Haiti",
         "lon": [
          -72.285215
         ],
         "marker": {
          "color": "#EF553B",
          "size": [
           39.82
          ],
          "sizemode": "area",
          "sizeref": 1.7255102040816326,
          "symbol": "circle"
         },
         "mode": "markers",
         "name": "Haiti",
         "showlegend": true,
         "type": "scattergeo"
        },
        {
         "geo": "geo",
         "hovertemplate": "<b>%{hovertext}</b><br><br>Country=Burundi<br>AveragScore=%{marker.size}<br>latitude=%{lat}<br>longitude=%{lon}<extra></extra>",
         "hovertext": [
          "Burundi"
         ],
         "lat": [
          -3.373056
         ],
         "legendgroup": "Burundi",
         "lon": [
          29.918886
         ],
         "marker": {
          "color": "#00cc96",
          "size": [
           38.2
          ],
          "sizemode": "area",
          "sizeref": 1.7255102040816326,
          "symbol": "circle"
         },
         "mode": "markers",
         "name": "Burundi",
         "showlegend": true,
         "type": "scattergeo"
        },
        {
         "geo": "geo",
         "hovertemplate": "<b>%{hovertext}</b><br><br>Country=Sudan<br>AveragScore=%{marker.size}<br>latitude=%{lat}<br>longitude=%{lon}<extra></extra>",
         "hovertext": [
          "Sudan"
         ],
         "lat": [
          12.862807
         ],
         "legendgroup": "Sudan",
         "lon": [
          30.217636
         ],
         "marker": {
          "color": "#ab63fa",
          "size": [
           36.97
          ],
          "sizemode": "area",
          "sizeref": 1.7255102040816326,
          "symbol": "circle"
         },
         "mode": "markers",
         "name": "Sudan",
         "showlegend": true,
         "type": "scattergeo"
        },
        {
         "geo": "geo",
         "hovertemplate": "<b>%{hovertext}</b><br><br>Country=Syria<br>AveragScore=%{marker.size}<br>latitude=%{lat}<br>longitude=%{lon}<extra></extra>",
         "hovertext": [
          "Syria"
         ],
         "lat": [
          34.802075
         ],
         "legendgroup": "Syria",
         "lon": [
          38.996815
         ],
         "marker": {
          "color": "#FFA15A",
          "size": [
           36.83
          ],
          "sizemode": "area",
          "sizeref": 1.7255102040816326,
          "symbol": "circle"
         },
         "mode": "markers",
         "name": "Syria",
         "showlegend": true,
         "type": "scattergeo"
        },
        {
         "geo": "geo",
         "hovertemplate": "<b>%{hovertext}</b><br><br>Country=Eritrea<br>AveragScore=%{marker.size}<br>latitude=%{lat}<br>longitude=%{lon}<extra></extra>",
         "hovertext": [
          "Eritrea"
         ],
         "lat": [
          15.179384
         ],
         "legendgroup": "Eritrea",
         "lon": [
          39.782334
         ],
         "marker": {
          "color": "#19d3f3",
          "size": [
           36.02
          ],
          "sizemode": "area",
          "sizeref": 1.7255102040816326,
          "symbol": "circle"
         },
         "mode": "markers",
         "name": "Eritrea",
         "showlegend": true,
         "type": "scattergeo"
        },
        {
         "geo": "geo",
         "hovertemplate": "<b>%{hovertext}</b><br><br>Country=Chad<br>AveragScore=%{marker.size}<br>latitude=%{lat}<br>longitude=%{lon}<extra></extra>",
         "hovertext": [
          "Chad"
         ],
         "lat": [
          15.454166
         ],
         "legendgroup": "Chad",
         "lon": [
          18.732207
         ],
         "marker": {
          "color": "#FF6692",
          "size": [
           34.69
          ],
          "sizemode": "area",
          "sizeref": 1.7255102040816326,
          "symbol": "circle"
         },
         "mode": "markers",
         "name": "Chad",
         "showlegend": true,
         "type": "scattergeo"
        },
        {
         "geo": "geo",
         "hovertemplate": "<b>%{hovertext}</b><br><br>Country=Somalia<br>AveragScore=%{marker.size}<br>latitude=%{lat}<br>longitude=%{lon}<extra></extra>",
         "hovertext": [
          "Somalia"
         ],
         "lat": [
          5.152149
         ],
         "legendgroup": "Somalia",
         "lon": [
          46.199616
         ],
         "marker": {
          "color": "#B6E880",
          "size": [
           34.39
          ],
          "sizemode": "area",
          "sizeref": 1.7255102040816326,
          "symbol": "circle"
         },
         "mode": "markers",
         "name": "Somalia",
         "showlegend": true,
         "type": "scattergeo"
        },
        {
         "geo": "geo",
         "hovertemplate": "<b>%{hovertext}</b><br><br>Country=Afghanistan<br>AveragScore=%{marker.size}<br>latitude=%{lat}<br>longitude=%{lon}<extra></extra>",
         "hovertext": [
          "Afghanistan"
         ],
         "lat": [
          33.93911
         ],
         "legendgroup": "Afghanistan",
         "lon": [
          67.709953
         ],
         "marker": {
          "color": "#FF97FF",
          "size": [
           34.18
          ],
          "sizemode": "area",
          "sizeref": 1.7255102040816326,
          "symbol": "circle"
         },
         "mode": "markers",
         "name": "Afghanistan",
         "showlegend": true,
         "type": "scattergeo"
        },
        {
         "geo": "geo",
         "hovertemplate": "<b>%{hovertext}</b><br><br>Country=Central African Republic<br>AveragScore=%{marker.size}<br>latitude=%{lat}<br>longitude=%{lon}<extra></extra>",
         "hovertext": [
          "Central African Republic"
         ],
         "lat": [
          6.611111
         ],
         "legendgroup": "Central African Republic",
         "lon": [
          20.939444
         ],
         "marker": {
          "color": "#FECB52",
          "size": [
           32.83
          ],
          "sizemode": "area",
          "sizeref": 1.7255102040816326,
          "symbol": "circle"
         },
         "mode": "markers",
         "name": "Central African Republic",
         "showlegend": true,
         "type": "scattergeo"
        },
        {
         "geo": "geo",
         "hovertemplate": "<b>%{hovertext}</b><br><br>Country=Yemen<br>AveragScore=%{marker.size}<br>latitude=%{lat}<br>longitude=%{lon}<extra></extra>",
         "hovertext": [
          "Yemen"
         ],
         "lat": [
          15.552727
         ],
         "legendgroup": "Yemen",
         "lon": [
          48.516388
         ],
         "marker": {
          "color": "#636efa",
          "size": [
           32.65
          ],
          "sizemode": "area",
          "sizeref": 1.7255102040816326,
          "symbol": "circle"
         },
         "mode": "markers",
         "name": "Yemen",
         "showlegend": true,
         "type": "scattergeo"
        }
       ],
       "layout": {
        "autosize": true,
        "geo": {
         "center": {},
         "domain": {
          "x": [
           0,
           1
          ],
          "y": [
           0,
           1
          ]
         }
        },
        "legend": {
         "itemsizing": "constant",
         "title": {
          "text": "Country"
         },
         "tracegroupgap": 0
        },
        "margin": {
         "t": 60
        },
        "template": {
         "data": {
          "bar": [
           {
            "error_x": {
             "color": "#2a3f5f"
            },
            "error_y": {
             "color": "#2a3f5f"
            },
            "marker": {
             "line": {
              "color": "#E5ECF6",
              "width": 0.5
             },
             "pattern": {
              "fillmode": "overlay",
              "size": 10,
              "solidity": 0.2
             }
            },
            "type": "bar"
           }
          ],
          "barpolar": [
           {
            "marker": {
             "line": {
              "color": "#E5ECF6",
              "width": 0.5
             },
             "pattern": {
              "fillmode": "overlay",
              "size": 10,
              "solidity": 0.2
             }
            },
            "type": "barpolar"
           }
          ],
          "carpet": [
           {
            "aaxis": {
             "endlinecolor": "#2a3f5f",
             "gridcolor": "white",
             "linecolor": "white",
             "minorgridcolor": "white",
             "startlinecolor": "#2a3f5f"
            },
            "baxis": {
             "endlinecolor": "#2a3f5f",
             "gridcolor": "white",
             "linecolor": "white",
             "minorgridcolor": "white",
             "startlinecolor": "#2a3f5f"
            },
            "type": "carpet"
           }
          ],
          "choropleth": [
           {
            "colorbar": {
             "outlinewidth": 0,
             "ticks": ""
            },
            "type": "choropleth"
           }
          ],
          "contour": [
           {
            "colorbar": {
             "outlinewidth": 0,
             "ticks": ""
            },
            "colorscale": [
             [
              0,
              "#0d0887"
             ],
             [
              0.1111111111111111,
              "#46039f"
             ],
             [
              0.2222222222222222,
              "#7201a8"
             ],
             [
              0.3333333333333333,
              "#9c179e"
             ],
             [
              0.4444444444444444,
              "#bd3786"
             ],
             [
              0.5555555555555556,
              "#d8576b"
             ],
             [
              0.6666666666666666,
              "#ed7953"
             ],
             [
              0.7777777777777778,
              "#fb9f3a"
             ],
             [
              0.8888888888888888,
              "#fdca26"
             ],
             [
              1,
              "#f0f921"
             ]
            ],
            "type": "contour"
           }
          ],
          "contourcarpet": [
           {
            "colorbar": {
             "outlinewidth": 0,
             "ticks": ""
            },
            "type": "contourcarpet"
           }
          ],
          "heatmap": [
           {
            "colorbar": {
             "outlinewidth": 0,
             "ticks": ""
            },
            "colorscale": [
             [
              0,
              "#0d0887"
             ],
             [
              0.1111111111111111,
              "#46039f"
             ],
             [
              0.2222222222222222,
              "#7201a8"
             ],
             [
              0.3333333333333333,
              "#9c179e"
             ],
             [
              0.4444444444444444,
              "#bd3786"
             ],
             [
              0.5555555555555556,
              "#d8576b"
             ],
             [
              0.6666666666666666,
              "#ed7953"
             ],
             [
              0.7777777777777778,
              "#fb9f3a"
             ],
             [
              0.8888888888888888,
              "#fdca26"
             ],
             [
              1,
              "#f0f921"
             ]
            ],
            "type": "heatmap"
           }
          ],
          "heatmapgl": [
           {
            "colorbar": {
             "outlinewidth": 0,
             "ticks": ""
            },
            "colorscale": [
             [
              0,
              "#0d0887"
             ],
             [
              0.1111111111111111,
              "#46039f"
             ],
             [
              0.2222222222222222,
              "#7201a8"
             ],
             [
              0.3333333333333333,
              "#9c179e"
             ],
             [
              0.4444444444444444,
              "#bd3786"
             ],
             [
              0.5555555555555556,
              "#d8576b"
             ],
             [
              0.6666666666666666,
              "#ed7953"
             ],
             [
              0.7777777777777778,
              "#fb9f3a"
             ],
             [
              0.8888888888888888,
              "#fdca26"
             ],
             [
              1,
              "#f0f921"
             ]
            ],
            "type": "heatmapgl"
           }
          ],
          "histogram": [
           {
            "marker": {
             "pattern": {
              "fillmode": "overlay",
              "size": 10,
              "solidity": 0.2
             }
            },
            "type": "histogram"
           }
          ],
          "histogram2d": [
           {
            "colorbar": {
             "outlinewidth": 0,
             "ticks": ""
            },
            "colorscale": [
             [
              0,
              "#0d0887"
             ],
             [
              0.1111111111111111,
              "#46039f"
             ],
             [
              0.2222222222222222,
              "#7201a8"
             ],
             [
              0.3333333333333333,
              "#9c179e"
             ],
             [
              0.4444444444444444,
              "#bd3786"
             ],
             [
              0.5555555555555556,
              "#d8576b"
             ],
             [
              0.6666666666666666,
              "#ed7953"
             ],
             [
              0.7777777777777778,
              "#fb9f3a"
             ],
             [
              0.8888888888888888,
              "#fdca26"
             ],
             [
              1,
              "#f0f921"
             ]
            ],
            "type": "histogram2d"
           }
          ],
          "histogram2dcontour": [
           {
            "colorbar": {
             "outlinewidth": 0,
             "ticks": ""
            },
            "colorscale": [
             [
              0,
              "#0d0887"
             ],
             [
              0.1111111111111111,
              "#46039f"
             ],
             [
              0.2222222222222222,
              "#7201a8"
             ],
             [
              0.3333333333333333,
              "#9c179e"
             ],
             [
              0.4444444444444444,
              "#bd3786"
             ],
             [
              0.5555555555555556,
              "#d8576b"
             ],
             [
              0.6666666666666666,
              "#ed7953"
             ],
             [
              0.7777777777777778,
              "#fb9f3a"
             ],
             [
              0.8888888888888888,
              "#fdca26"
             ],
             [
              1,
              "#f0f921"
             ]
            ],
            "type": "histogram2dcontour"
           }
          ],
          "mesh3d": [
           {
            "colorbar": {
             "outlinewidth": 0,
             "ticks": ""
            },
            "type": "mesh3d"
           }
          ],
          "parcoords": [
           {
            "line": {
             "colorbar": {
              "outlinewidth": 0,
              "ticks": ""
             }
            },
            "type": "parcoords"
           }
          ],
          "pie": [
           {
            "automargin": true,
            "type": "pie"
           }
          ],
          "scatter": [
           {
            "fillpattern": {
             "fillmode": "overlay",
             "size": 10,
             "solidity": 0.2
            },
            "type": "scatter"
           }
          ],
          "scatter3d": [
           {
            "line": {
             "colorbar": {
              "outlinewidth": 0,
              "ticks": ""
             }
            },
            "marker": {
             "colorbar": {
              "outlinewidth": 0,
              "ticks": ""
             }
            },
            "type": "scatter3d"
           }
          ],
          "scattercarpet": [
           {
            "marker": {
             "colorbar": {
              "outlinewidth": 0,
              "ticks": ""
             }
            },
            "type": "scattercarpet"
           }
          ],
          "scattergeo": [
           {
            "marker": {
             "colorbar": {
              "outlinewidth": 0,
              "ticks": ""
             }
            },
            "type": "scattergeo"
           }
          ],
          "scattergl": [
           {
            "marker": {
             "colorbar": {
              "outlinewidth": 0,
              "ticks": ""
             }
            },
            "type": "scattergl"
           }
          ],
          "scattermapbox": [
           {
            "marker": {
             "colorbar": {
              "outlinewidth": 0,
              "ticks": ""
             }
            },
            "type": "scattermapbox"
           }
          ],
          "scatterpolar": [
           {
            "marker": {
             "colorbar": {
              "outlinewidth": 0,
              "ticks": ""
             }
            },
            "type": "scatterpolar"
           }
          ],
          "scatterpolargl": [
           {
            "marker": {
             "colorbar": {
              "outlinewidth": 0,
              "ticks": ""
             }
            },
            "type": "scatterpolargl"
           }
          ],
          "scatterternary": [
           {
            "marker": {
             "colorbar": {
              "outlinewidth": 0,
              "ticks": ""
             }
            },
            "type": "scatterternary"
           }
          ],
          "surface": [
           {
            "colorbar": {
             "outlinewidth": 0,
             "ticks": ""
            },
            "colorscale": [
             [
              0,
              "#0d0887"
             ],
             [
              0.1111111111111111,
              "#46039f"
             ],
             [
              0.2222222222222222,
              "#7201a8"
             ],
             [
              0.3333333333333333,
              "#9c179e"
             ],
             [
              0.4444444444444444,
              "#bd3786"
             ],
             [
              0.5555555555555556,
              "#d8576b"
             ],
             [
              0.6666666666666666,
              "#ed7953"
             ],
             [
              0.7777777777777778,
              "#fb9f3a"
             ],
             [
              0.8888888888888888,
              "#fdca26"
             ],
             [
              1,
              "#f0f921"
             ]
            ],
            "type": "surface"
           }
          ],
          "table": [
           {
            "cells": {
             "fill": {
              "color": "#EBF0F8"
             },
             "line": {
              "color": "white"
             }
            },
            "header": {
             "fill": {
              "color": "#C8D4E3"
             },
             "line": {
              "color": "white"
             }
            },
            "type": "table"
           }
          ]
         },
         "layout": {
          "annotationdefaults": {
           "arrowcolor": "#2a3f5f",
           "arrowhead": 0,
           "arrowwidth": 1
          },
          "autotypenumbers": "strict",
          "coloraxis": {
           "colorbar": {
            "outlinewidth": 0,
            "ticks": ""
           }
          },
          "colorscale": {
           "diverging": [
            [
             0,
             "#8e0152"
            ],
            [
             0.1,
             "#c51b7d"
            ],
            [
             0.2,
             "#de77ae"
            ],
            [
             0.3,
             "#f1b6da"
            ],
            [
             0.4,
             "#fde0ef"
            ],
            [
             0.5,
             "#f7f7f7"
            ],
            [
             0.6,
             "#e6f5d0"
            ],
            [
             0.7,
             "#b8e186"
            ],
            [
             0.8,
             "#7fbc41"
            ],
            [
             0.9,
             "#4d9221"
            ],
            [
             1,
             "#276419"
            ]
           ],
           "sequential": [
            [
             0,
             "#0d0887"
            ],
            [
             0.1111111111111111,
             "#46039f"
            ],
            [
             0.2222222222222222,
             "#7201a8"
            ],
            [
             0.3333333333333333,
             "#9c179e"
            ],
            [
             0.4444444444444444,
             "#bd3786"
            ],
            [
             0.5555555555555556,
             "#d8576b"
            ],
            [
             0.6666666666666666,
             "#ed7953"
            ],
            [
             0.7777777777777778,
             "#fb9f3a"
            ],
            [
             0.8888888888888888,
             "#fdca26"
            ],
            [
             1,
             "#f0f921"
            ]
           ],
           "sequentialminus": [
            [
             0,
             "#0d0887"
            ],
            [
             0.1111111111111111,
             "#46039f"
            ],
            [
             0.2222222222222222,
             "#7201a8"
            ],
            [
             0.3333333333333333,
             "#9c179e"
            ],
            [
             0.4444444444444444,
             "#bd3786"
            ],
            [
             0.5555555555555556,
             "#d8576b"
            ],
            [
             0.6666666666666666,
             "#ed7953"
            ],
            [
             0.7777777777777778,
             "#fb9f3a"
            ],
            [
             0.8888888888888888,
             "#fdca26"
            ],
            [
             1,
             "#f0f921"
            ]
           ]
          },
          "colorway": [
           "#636efa",
           "#EF553B",
           "#00cc96",
           "#ab63fa",
           "#FFA15A",
           "#19d3f3",
           "#FF6692",
           "#B6E880",
           "#FF97FF",
           "#FECB52"
          ],
          "font": {
           "color": "#2a3f5f"
          },
          "geo": {
           "bgcolor": "white",
           "lakecolor": "white",
           "landcolor": "#E5ECF6",
           "showlakes": true,
           "showland": true,
           "subunitcolor": "white"
          },
          "hoverlabel": {
           "align": "left"
          },
          "hovermode": "closest",
          "mapbox": {
           "style": "light"
          },
          "paper_bgcolor": "white",
          "plot_bgcolor": "#E5ECF6",
          "polar": {
           "angularaxis": {
            "gridcolor": "white",
            "linecolor": "white",
            "ticks": ""
           },
           "bgcolor": "#E5ECF6",
           "radialaxis": {
            "gridcolor": "white",
            "linecolor": "white",
            "ticks": ""
           }
          },
          "scene": {
           "xaxis": {
            "backgroundcolor": "#E5ECF6",
            "gridcolor": "white",
            "gridwidth": 2,
            "linecolor": "white",
            "showbackground": true,
            "ticks": "",
            "zerolinecolor": "white"
           },
           "yaxis": {
            "backgroundcolor": "#E5ECF6",
            "gridcolor": "white",
            "gridwidth": 2,
            "linecolor": "white",
            "showbackground": true,
            "ticks": "",
            "zerolinecolor": "white"
           },
           "zaxis": {
            "backgroundcolor": "#E5ECF6",
            "gridcolor": "white",
            "gridwidth": 2,
            "linecolor": "white",
            "showbackground": true,
            "ticks": "",
            "zerolinecolor": "white"
           }
          },
          "shapedefaults": {
           "line": {
            "color": "#2a3f5f"
           }
          },
          "ternary": {
           "aaxis": {
            "gridcolor": "white",
            "linecolor": "white",
            "ticks": ""
           },
           "baxis": {
            "gridcolor": "white",
            "linecolor": "white",
            "ticks": ""
           },
           "bgcolor": "#E5ECF6",
           "caxis": {
            "gridcolor": "white",
            "linecolor": "white",
            "ticks": ""
           }
          },
          "title": {
           "x": 0.05
          },
          "xaxis": {
           "automargin": true,
           "gridcolor": "white",
           "linecolor": "white",
           "ticks": "",
           "title": {
            "standoff": 15
           },
           "zerolinecolor": "white",
           "zerolinewidth": 2
          },
          "yaxis": {
           "automargin": true,
           "gridcolor": "white",
           "linecolor": "white",
           "ticks": "",
           "title": {
            "standoff": 15
           },
           "zerolinecolor": "white",
           "zerolinewidth": 2
          }
         }
        }
       }
      },
      "image/png": "[encoded data removed]",
      "text/html": [
       "<div>                            <div id=\"acf49fe7-2d2c-4784-9c5e-29a25e887589\" class=\"plotly-graph-div\" style=\"height:525px; width:100%;\"></div>            <script type=\"text/javascript\">                require([\"plotly\"], function(Plotly) {                    window.PLOTLYENV=window.PLOTLYENV || {};                                    if (document.getElementById(\"acf49fe7-2d2c-4784-9c5e-29a25e887589\")) {                    Plotly.newPlot(                        \"acf49fe7-2d2c-4784-9c5e-29a25e887589\",                        [{\"geo\":\"geo\",\"hovertemplate\":\"\\u003cb\\u003e%{hovertext}\\u003c\\u002fb\\u003e\\u003cbr\\u003e\\u003cbr\\u003eCountry=Denmark\\u003cbr\\u003eAveragScore=%{marker.size}\\u003cbr\\u003elatitude=%{lat}\\u003cbr\\u003elongitude=%{lon}\\u003cextra\\u003e\\u003c\\u002fextra\\u003e\",\"hovertext\":[\"Denmark\"],\"lat\":[56.26392],\"legendgroup\":\"Denmark\",\"lon\":[9.501785],\"marker\":{\"color\":\"#636efa\",\"size\":[84.55],\"sizemode\":\"area\",\"sizeref\":1.7255102040816326,\"symbol\":\"circle\"},\"mode\":\"markers\",\"name\":\"Denmark\",\"showlegend\":true,\"type\":\"scattergeo\"},{\"geo\":\"geo\",\"hovertemplate\":\"\\u003cb\\u003e%{hovertext}\\u003c\\u002fb\\u003e\\u003cbr\\u003e\\u003cbr\\u003eCountry=Sweden\\u003cbr\\u003eAveragScore=%{marker.size}\\u003cbr\\u003elatitude=%{lat}\\u003cbr\\u003elongitude=%{lon}\\u003cextra\\u003e\\u003c\\u002fextra\\u003e\",\"hovertext\":[\"Sweden\"],\"lat\":[60.128161],\"legendgroup\":\"Sweden\",\"lon\":[18.643501],\"marker\":{\"color\":\"#EF553B\",\"size\":[83.67],\"sizemode\":\"area\",\"sizeref\":1.7255102040816326,\"symbol\":\"circle\"},\"mode\":\"markers\",\"name\":\"Sweden\",\"showlegend\":true,\"type\":\"scattergeo\"},{\"geo\":\"geo\",\"hovertemplate\":\"\\u003cb\\u003e%{hovertext}\\u003c\\u002fb\\u003e\\u003cbr\\u003e\\u003cbr\\u003eCountry=Norway\\u003cbr\\u003eAveragScore=%{marker.size}\\u003cbr\\u003elatitude=%{lat}\\u003cbr\\u003elongitude=%{lon}\\u003cextra\\u003e\\u003c\\u002fextra\\u003e\",\"hovertext\":[\"Norway\"],\"lat\":[60.472024],\"legendgroup\":\"Norway\",\"lon\":[8.468946],\"marker\":{\"color\":\"#00cc96\",\"size\":[83.59],\"sizemode\":\"area\",\"sizeref\":1.7255102040816326,\"symbol\":\"circle\"},\"mode\":\"markers\",\"name\":\"Norway\",\"showlegend\":true,\"type\":\"scattergeo\"},{\"geo\":\"geo\",\"hovertemplate\":\"\\u003cb\\u003e%{hovertext}\\u003c\\u002fb\\u003e\\u003cbr\\u003e\\u003cbr\\u003eCountry=Finland\\u003cbr\\u003eAveragScore=%{marker.size}\\u003cbr\\u003elatitude=%{lat}\\u003cbr\\u003elongitude=%{lon}\\u003cextra\\u003e\\u003c\\u002fextra\\u003e\",\"hovertext\":[\"Finland\"],\"lat\":[61.92411],\"legendgroup\":\"Finland\",\"lon\":[25.748151],\"marker\":{\"color\":\"#ab63fa\",\"size\":[83.47],\"sizemode\":\"area\",\"sizeref\":1.7255102040816326,\"symbol\":\"circle\"},\"mode\":\"markers\",\"name\":\"Finland\",\"showlegend\":true,\"type\":\"scattergeo\"},{\"geo\":\"geo\",\"hovertemplate\":\"\\u003cb\\u003e%{hovertext}\\u003c\\u002fb\\u003e\\u003cbr\\u003e\\u003cbr\\u003eCountry=Switzerland\\u003cbr\\u003eAveragScore=%{marker.size}\\u003cbr\\u003elatitude=%{lat}\\u003cbr\\u003elongitude=%{lon}\\u003cextra\\u003e\\u003c\\u002fextra\\u003e\",\"hovertext\":[\"Switzerland\"],\"lat\":[46.818188],\"legendgroup\":\"Switzerland\",\"lon\":[8.227512],\"marker\":{\"color\":\"#FFA15A\",\"size\":[83.42],\"sizemode\":\"area\",\"sizeref\":1.7255102040816326,\"symbol\":\"circle\"},\"mode\":\"markers\",\"name\":\"Switzerland\",\"showlegend\":true,\"type\":\"scattergeo\"},{\"geo\":\"geo\",\"hovertemplate\":\"\\u003cb\\u003e%{hovertext}\\u003c\\u002fb\\u003e\\u003cbr\\u003e\\u003cbr\\u003eCountry=Netherlands\\u003cbr\\u003eAveragScore=%{marker.size}\\u003cbr\\u003elatitude=%{lat}\\u003cbr\\u003elongitude=%{lon}\\u003cextra\\u003e\\u003c\\u002fextra\\u003e\",\"hovertext\":[\"Netherlands\"],\"lat\":[52.132633],\"legendgroup\":\"Netherlands\",\"lon\":[5.291266],\"marker\":{\"color\":\"#19d3f3\",\"size\":[82.32],\"sizemode\":\"area\",\"sizeref\":1.7255102040816326,\"symbol\":\"circle\"},\"mode\":\"markers\",\"name\":\"Netherlands\",\"showlegend\":true,\"type\":\"scattergeo\"},{\"geo\":\"geo\",\"hovertemplate\":\"\\u003cb\\u003e%{hovertext}\\u003c\\u002fb\\u003e\\u003cbr\\u003e\\u003cbr\\u003eCountry=Luxembourg\\u003cbr\\u003eAveragScore=%{marker.size}\\u003cbr\\u003elatitude=%{lat}\\u003cbr\\u003elongitude=%{lon}\\u003cextra\\u003e\\u003c\\u002fextra\\u003e\",\"hovertext\":[\"Luxembourg\"],\"lat\":[49.815273],\"legendgroup\":\"Luxembourg\",\"lon\":[6.129583],\"marker\":{\"color\":\"#FF6692\",\"size\":[81.83],\"sizemode\":\"area\",\"sizeref\":1.7255102040816326,\"symbol\":\"circle\"},\"mode\":\"markers\",\"name\":\"Luxembourg\",\"showlegend\":true,\"type\":\"scattergeo\"},{\"geo\":\"geo\",\"hovertemplate\":\"\\u003cb\\u003e%{hovertext}\\u003c\\u002fb\\u003e\\u003cbr\\u003e\\u003cbr\\u003eCountry=Iceland\\u003cbr\\u003eAveragScore=%{marker.size}\\u003cbr\\u003elatitude=%{lat}\\u003cbr\\u003elongitude=%{lon}\\u003cextra\\u003e\\u003c\\u002fextra\\u003e\",\"hovertext\":[\"Iceland\"],\"lat\":[64.963051],\"legendgroup\":\"Iceland\",\"lon\":[-19.020835],\"marker\":{\"color\":\"#B6E880\",\"size\":[81.02],\"sizemode\":\"area\",\"sizeref\":1.7255102040816326,\"symbol\":\"circle\"},\"mode\":\"markers\",\"name\":\"Iceland\",\"showlegend\":true,\"type\":\"scattergeo\"},{\"geo\":\"geo\",\"hovertemplate\":\"\\u003cb\\u003e%{hovertext}\\u003c\\u002fb\\u003e\\u003cbr\\u003e\\u003cbr\\u003eCountry=Germany\\u003cbr\\u003eAveragScore=%{marker.size}\\u003cbr\\u003elatitude=%{lat}\\u003cbr\\u003elongitude=%{lon}\\u003cextra\\u003e\\u003c\\u002fextra\\u003e\",\"hovertext\":[\"Germany\"],\"lat\":[51.165691],\"legendgroup\":\"Germany\",\"lon\":[10.451526],\"marker\":{\"color\":\"#FF97FF\",\"size\":[80.81],\"sizemode\":\"area\",\"sizeref\":1.7255102040816326,\"symbol\":\"circle\"},\"mode\":\"markers\",\"name\":\"Germany\",\"showlegend\":true,\"type\":\"scattergeo\"},{\"geo\":\"geo\",\"hovertemplate\":\"\\u003cb\\u003e%{hovertext}\\u003c\\u002fb\\u003e\\u003cbr\\u003e\\u003cbr\\u003eCountry=New Zealand\\u003cbr\\u003eAveragScore=%{marker.size}\\u003cbr\\u003elatitude=%{lat}\\u003cbr\\u003elongitude=%{lon}\\u003cextra\\u003e\\u003c\\u002fextra\\u003e\",\"hovertext\":[\"New Zealand\"],\"lat\":[-40.900557],\"legendgroup\":\"New Zealand\",\"lon\":[174.885971],\"marker\":{\"color\":\"#FECB52\",\"size\":[80.47],\"sizemode\":\"area\",\"sizeref\":1.7255102040816326,\"symbol\":\"circle\"},\"mode\":\"markers\",\"name\":\"New Zealand\",\"showlegend\":true,\"type\":\"scattergeo\"},{\"geo\":\"geo\",\"hovertemplate\":\"\\u003cb\\u003e%{hovertext}\\u003c\\u002fb\\u003e\\u003cbr\\u003e\\u003cbr\\u003eCountry=Ireland\\u003cbr\\u003eAveragScore=%{marker.size}\\u003cbr\\u003elatitude=%{lat}\\u003cbr\\u003elongitude=%{lon}\\u003cextra\\u003e\\u003c\\u002fextra\\u003e\",\"hovertext\":[\"Ireland\"],\"lat\":[53.41291],\"legendgroup\":\"Ireland\",\"lon\":[-8.24389],\"marker\":{\"color\":\"#636efa\",\"size\":[80.31],\"sizemode\":\"area\",\"sizeref\":1.7255102040816326,\"symbol\":\"circle\"},\"mode\":\"markers\",\"name\":\"Ireland\",\"showlegend\":true,\"type\":\"scattergeo\"},{\"geo\":\"geo\",\"hovertemplate\":\"\\u003cb\\u003e%{hovertext}\\u003c\\u002fb\\u003e\\u003cbr\\u003e\\u003cbr\\u003eCountry=United Kingdom\\u003cbr\\u003eAveragScore=%{marker.size}\\u003cbr\\u003elatitude=%{lat}\\u003cbr\\u003elongitude=%{lon}\\u003cextra\\u003e\\u003c\\u002fextra\\u003e\",\"hovertext\":[\"United Kingdom\"],\"lat\":[55.378051],\"legendgroup\":\"United Kingdom\",\"lon\":[-3.435973],\"marker\":{\"color\":\"#EF553B\",\"size\":[79.95],\"sizemode\":\"area\",\"sizeref\":1.7255102040816326,\"symbol\":\"circle\"},\"mode\":\"markers\",\"name\":\"United Kingdom\",\"showlegend\":true,\"type\":\"scattergeo\"},{\"geo\":\"geo\",\"hovertemplate\":\"\\u003cb\\u003e%{hovertext}\\u003c\\u002fb\\u003e\\u003cbr\\u003e\\u003cbr\\u003eCountry=Canada\\u003cbr\\u003eAveragScore=%{marker.size}\\u003cbr\\u003elatitude=%{lat}\\u003cbr\\u003elongitude=%{lon}\\u003cextra\\u003e\\u003c\\u002fextra\\u003e\",\"hovertext\":[\"Canada\"],\"lat\":[56.130366],\"legendgroup\":\"Canada\",\"lon\":[-106.346771],\"marker\":{\"color\":\"#00cc96\",\"size\":[79.62],\"sizemode\":\"area\",\"sizeref\":1.7255102040816326,\"symbol\":\"circle\"},\"mode\":\"markers\",\"name\":\"Canada\",\"showlegend\":true,\"type\":\"scattergeo\"},{\"geo\":\"geo\",\"hovertemplate\":\"\\u003cb\\u003e%{hovertext}\\u003c\\u002fb\\u003e\\u003cbr\\u003e\\u003cbr\\u003eCountry=Austria\\u003cbr\\u003eAveragScore=%{marker.size}\\u003cbr\\u003elatitude=%{lat}\\u003cbr\\u003elongitude=%{lon}\\u003cextra\\u003e\\u003c\\u002fextra\\u003e\",\"hovertext\":[\"Austria\"],\"lat\":[47.516231],\"legendgroup\":\"Austria\",\"lon\":[14.550072],\"marker\":{\"color\":\"#ab63fa\",\"size\":[79.38],\"sizemode\":\"area\",\"sizeref\":1.7255102040816326,\"symbol\":\"circle\"},\"mode\":\"markers\",\"name\":\"Austria\",\"showlegend\":true,\"type\":\"scattergeo\"},{\"geo\":\"geo\",\"hovertemplate\":\"\\u003cb\\u003e%{hovertext}\\u003c\\u002fb\\u003e\\u003cbr\\u003e\\u003cbr\\u003eCountry=Australia\\u003cbr\\u003eAveragScore=%{marker.size}\\u003cbr\\u003elatitude=%{lat}\\u003cbr\\u003elongitude=%{lon}\\u003cextra\\u003e\\u003c\\u002fextra\\u003e\",\"hovertext\":[\"Australia\"],\"lat\":[-25.274398],\"legendgroup\":\"Australia\",\"lon\":[133.775136],\"marker\":{\"color\":\"#FFA15A\",\"size\":[79.36],\"sizemode\":\"area\",\"sizeref\":1.7255102040816326,\"symbol\":\"circle\"},\"mode\":\"markers\",\"name\":\"Australia\",\"showlegend\":true,\"type\":\"scattergeo\"},{\"geo\":\"geo\",\"hovertemplate\":\"\\u003cb\\u003e%{hovertext}\\u003c\\u002fb\\u003e\\u003cbr\\u003e\\u003cbr\\u003eCountry=Japan\\u003cbr\\u003eAveragScore=%{marker.size}\\u003cbr\\u003elatitude=%{lat}\\u003cbr\\u003elongitude=%{lon}\\u003cextra\\u003e\\u003c\\u002fextra\\u003e\",\"hovertext\":[\"Japan\"],\"lat\":[36.204824],\"legendgroup\":\"Japan\",\"lon\":[138.252924],\"marker\":{\"color\":\"#19d3f3\",\"size\":[78.22],\"sizemode\":\"area\",\"sizeref\":1.7255102040816326,\"symbol\":\"circle\"},\"mode\":\"markers\",\"name\":\"Japan\",\"showlegend\":true,\"type\":\"scattergeo\"},{\"geo\":\"geo\",\"hovertemplate\":\"\\u003cb\\u003e%{hovertext}\\u003c\\u002fb\\u003e\\u003cbr\\u003e\\u003cbr\\u003eCountry=Singapore\\u003cbr\\u003eAveragScore=%{marker.size}\\u003cbr\\u003elatitude=%{lat}\\u003cbr\\u003elongitude=%{lon}\\u003cextra\\u003e\\u003c\\u002fextra\\u003e\",\"hovertext\":[\"Singapore\"],\"lat\":[1.352083],\"legendgroup\":\"Singapore\",\"lon\":[103.819836],\"marker\":{\"color\":\"#FF6692\",\"size\":[78.21],\"sizemode\":\"area\",\"sizeref\":1.7255102040816326,\"symbol\":\"circle\"},\"mode\":\"markers\",\"name\":\"Singapore\",\"showlegend\":true,\"type\":\"scattergeo\"},{\"geo\":\"geo\",\"hovertemplate\":\"\\u003cb\\u003e%{hovertext}\\u003c\\u002fb\\u003e\\u003cbr\\u003e\\u003cbr\\u003eCountry=Belgium\\u003cbr\\u003eAveragScore=%{marker.size}\\u003cbr\\u003elatitude=%{lat}\\u003cbr\\u003elongitude=%{lon}\\u003cextra\\u003e\\u003c\\u002fextra\\u003e\",\"hovertext\":[\"Belgium\"],\"lat\":[50.503887],\"legendgroup\":\"Belgium\",\"lon\":[4.469936],\"marker\":{\"color\":\"#B6E880\",\"size\":[77.84],\"sizemode\":\"area\",\"sizeref\":1.7255102040816326,\"symbol\":\"circle\"},\"mode\":\"markers\",\"name\":\"Belgium\",\"showlegend\":true,\"type\":\"scattergeo\"},{\"geo\":\"geo\",\"hovertemplate\":\"\\u003cb\\u003e%{hovertext}\\u003c\\u002fb\\u003e\\u003cbr\\u003e\\u003cbr\\u003eCountry=United States\\u003cbr\\u003eAveragScore=%{marker.size}\\u003cbr\\u003elatitude=%{lat}\\u003cbr\\u003elongitude=%{lon}\\u003cextra\\u003e\\u003c\\u002fextra\\u003e\",\"hovertext\":[\"United States\"],\"lat\":[37.09024],\"legendgroup\":\"United States\",\"lon\":[-95.712891],\"marker\":{\"color\":\"#FF97FF\",\"size\":[77.44],\"sizemode\":\"area\",\"sizeref\":1.7255102040816326,\"symbol\":\"circle\"},\"mode\":\"markers\",\"name\":\"United States\",\"showlegend\":true,\"type\":\"scattergeo\"},{\"geo\":\"geo\",\"hovertemplate\":\"\\u003cb\\u003e%{hovertext}\\u003c\\u002fb\\u003e\\u003cbr\\u003e\\u003cbr\\u003eCountry=Taiwan\\u003cbr\\u003eAveragScore=%{marker.size}\\u003cbr\\u003elatitude=%{lat}\\u003cbr\\u003elongitude=%{lon}\\u003cextra\\u003e\\u003c\\u002fextra\\u003e\",\"hovertext\":[\"Taiwan\"],\"lat\":[23.69781],\"legendgroup\":\"Taiwan\",\"lon\":[120.960515],\"marker\":{\"color\":\"#FECB52\",\"size\":[77.36],\"sizemode\":\"area\",\"sizeref\":1.7255102040816326,\"symbol\":\"circle\"},\"mode\":\"markers\",\"name\":\"Taiwan\",\"showlegend\":true,\"type\":\"scattergeo\"},{\"geo\":\"geo\",\"hovertemplate\":\"\\u003cb\\u003e%{hovertext}\\u003c\\u002fb\\u003e\\u003cbr\\u003e\\u003cbr\\u003eCountry=Estonia\\u003cbr\\u003eAveragScore=%{marker.size}\\u003cbr\\u003elatitude=%{lat}\\u003cbr\\u003elongitude=%{lon}\\u003cextra\\u003e\\u003c\\u002fextra\\u003e\",\"hovertext\":[\"Estonia\"],\"lat\":[58.595272],\"legendgroup\":\"Estonia\",\"lon\":[25.013607],\"marker\":{\"color\":\"#636efa\",\"size\":[77.31],\"sizemode\":\"area\",\"sizeref\":1.7255102040816326,\"symbol\":\"circle\"},\"mode\":\"markers\",\"name\":\"Estonia\",\"showlegend\":true,\"type\":\"scattergeo\"},{\"geo\":\"geo\",\"hovertemplate\":\"\\u003cb\\u003e%{hovertext}\\u003c\\u002fb\\u003e\\u003cbr\\u003e\\u003cbr\\u003eCountry=Hong Kong\\u003cbr\\u003eAveragScore=%{marker.size}\\u003cbr\\u003elatitude=%{lat}\\u003cbr\\u003elongitude=%{lon}\\u003cextra\\u003e\\u003c\\u002fextra\\u003e\",\"hovertext\":[\"Hong Kong\"],\"lat\":[22.396428],\"legendgroup\":\"Hong Kong\",\"lon\":[114.109497],\"marker\":{\"color\":\"#EF553B\",\"size\":[76.9],\"sizemode\":\"area\",\"sizeref\":1.7255102040816326,\"symbol\":\"circle\"},\"mode\":\"markers\",\"name\":\"Hong Kong\",\"showlegend\":true,\"type\":\"scattergeo\"},{\"geo\":\"geo\",\"hovertemplate\":\"\\u003cb\\u003e%{hovertext}\\u003c\\u002fb\\u003e\\u003cbr\\u003e\\u003cbr\\u003eCountry=France\\u003cbr\\u003eAveragScore=%{marker.size}\\u003cbr\\u003elatitude=%{lat}\\u003cbr\\u003elongitude=%{lon}\\u003cextra\\u003e\\u003c\\u002fextra\\u003e\",\"hovertext\":[\"France\"],\"lat\":[46.227638],\"legendgroup\":\"France\",\"lon\":[2.213749],\"marker\":{\"color\":\"#00cc96\",\"size\":[76.73],\"sizemode\":\"area\",\"sizeref\":1.7255102040816326,\"symbol\":\"circle\"},\"mode\":\"markers\",\"name\":\"France\",\"showlegend\":true,\"type\":\"scattergeo\"},{\"geo\":\"geo\",\"hovertemplate\":\"\\u003cb\\u003e%{hovertext}\\u003c\\u002fb\\u003e\\u003cbr\\u003e\\u003cbr\\u003eCountry=Spain\\u003cbr\\u003eAveragScore=%{marker.size}\\u003cbr\\u003elatitude=%{lat}\\u003cbr\\u003elongitude=%{lon}\\u003cextra\\u003e\\u003c\\u002fextra\\u003e\",\"hovertext\":[\"Spain\"],\"lat\":[40.463667],\"legendgroup\":\"Spain\",\"lon\":[-3.74922],\"marker\":{\"color\":\"#ab63fa\",\"size\":[76.03],\"sizemode\":\"area\",\"sizeref\":1.7255102040816326,\"symbol\":\"circle\"},\"mode\":\"markers\",\"name\":\"Spain\",\"showlegend\":true,\"type\":\"scattergeo\"},{\"geo\":\"geo\",\"hovertemplate\":\"\\u003cb\\u003e%{hovertext}\\u003c\\u002fb\\u003e\\u003cbr\\u003e\\u003cbr\\u003eCountry=Czech Republic\\u003cbr\\u003eAveragScore=%{marker.size}\\u003cbr\\u003elatitude=%{lat}\\u003cbr\\u003elongitude=%{lon}\\u003cextra\\u003e\\u003c\\u002fextra\\u003e\",\"hovertext\":[\"Czech Republic\"],\"lat\":[49.817492],\"legendgroup\":\"Czech Republic\",\"lon\":[15.472962],\"marker\":{\"color\":\"#FFA15A\",\"size\":[75.08],\"sizemode\":\"area\",\"sizeref\":1.7255102040816326,\"symbol\":\"circle\"},\"mode\":\"markers\",\"name\":\"Czech Republic\",\"showlegend\":true,\"type\":\"scattergeo\"},{\"geo\":\"geo\",\"hovertemplate\":\"\\u003cb\\u003e%{hovertext}\\u003c\\u002fb\\u003e\\u003cbr\\u003e\\u003cbr\\u003eCountry=Portugal\\u003cbr\\u003eAveragScore=%{marker.size}\\u003cbr\\u003elatitude=%{lat}\\u003cbr\\u003elongitude=%{lon}\\u003cextra\\u003e\\u003c\\u002fextra\\u003e\",\"hovertext\":[\"Portugal\"],\"lat\":[39.399872],\"legendgroup\":\"Portugal\",\"lon\":[-8.224454],\"marker\":{\"color\":\"#19d3f3\",\"size\":[74.64],\"sizemode\":\"area\",\"sizeref\":1.7255102040816326,\"symbol\":\"circle\"},\"mode\":\"markers\",\"name\":\"Portugal\",\"showlegend\":true,\"type\":\"scattergeo\"},{\"geo\":\"geo\",\"hovertemplate\":\"\\u003cb\\u003e%{hovertext}\\u003c\\u002fb\\u003e\\u003cbr\\u003e\\u003cbr\\u003eCountry=Slovenia\\u003cbr\\u003eAveragScore=%{marker.size}\\u003cbr\\u003elatitude=%{lat}\\u003cbr\\u003elongitude=%{lon}\\u003cextra\\u003e\\u003c\\u002fextra\\u003e\",\"hovertext\":[\"Slovenia\"],\"lat\":[46.151241],\"legendgroup\":\"Slovenia\",\"lon\":[14.995463],\"marker\":{\"color\":\"#FF6692\",\"size\":[74.54],\"sizemode\":\"area\",\"sizeref\":1.7255102040816326,\"symbol\":\"circle\"},\"mode\":\"markers\",\"name\":\"Slovenia\",\"showlegend\":true,\"type\":\"scattergeo\"},{\"geo\":\"geo\",\"hovertemplate\":\"\\u003cb\\u003e%{hovertext}\\u003c\\u002fb\\u003e\\u003cbr\\u003e\\u003cbr\\u003eCountry=Malta\\u003cbr\\u003eAveragScore=%{marker.size}\\u003cbr\\u003elatitude=%{lat}\\u003cbr\\u003elongitude=%{lon}\\u003cextra\\u003e\\u003c\\u002fextra\\u003e\",\"hovertext\":[\"Malta\"],\"lat\":[35.937496],\"legendgroup\":\"Malta\",\"lon\":[14.375416],\"marker\":{\"color\":\"#B6E880\",\"size\":[74.36],\"sizemode\":\"area\",\"sizeref\":1.7255102040816326,\"symbol\":\"circle\"},\"mode\":\"markers\",\"name\":\"Malta\",\"showlegend\":true,\"type\":\"scattergeo\"},{\"geo\":\"geo\",\"hovertemplate\":\"\\u003cb\\u003e%{hovertext}\\u003c\\u002fb\\u003e\\u003cbr\\u003e\\u003cbr\\u003eCountry=South Korea\\u003cbr\\u003eAveragScore=%{marker.size}\\u003cbr\\u003elatitude=%{lat}\\u003cbr\\u003elongitude=%{lon}\\u003cextra\\u003e\\u003c\\u002fextra\\u003e\",\"hovertext\":[\"South Korea\"],\"lat\":[35.907757],\"legendgroup\":\"South Korea\",\"lon\":[127.766922],\"marker\":{\"color\":\"#FF97FF\",\"size\":[74.07],\"sizemode\":\"area\",\"sizeref\":1.7255102040816326,\"symbol\":\"circle\"},\"mode\":\"markers\",\"name\":\"South Korea\",\"showlegend\":true,\"type\":\"scattergeo\"},{\"geo\":\"geo\",\"hovertemplate\":\"\\u003cb\\u003e%{hovertext}\\u003c\\u002fb\\u003e\\u003cbr\\u003e\\u003cbr\\u003eCountry=Italy\\u003cbr\\u003eAveragScore=%{marker.size}\\u003cbr\\u003elatitude=%{lat}\\u003cbr\\u003elongitude=%{lon}\\u003cextra\\u003e\\u003c\\u002fextra\\u003e\",\"hovertext\":[\"Italy\"],\"lat\":[41.87194],\"legendgroup\":\"Italy\",\"lon\":[12.56738],\"marker\":{\"color\":\"#FECB52\",\"size\":[73.03],\"sizemode\":\"area\",\"sizeref\":1.7255102040816326,\"symbol\":\"circle\"},\"mode\":\"markers\",\"name\":\"Italy\",\"showlegend\":true,\"type\":\"scattergeo\"},{\"geo\":\"geo\",\"hovertemplate\":\"\\u003cb\\u003e%{hovertext}\\u003c\\u002fb\\u003e\\u003cbr\\u003e\\u003cbr\\u003eCountry=Latvia\\u003cbr\\u003eAveragScore=%{marker.size}\\u003cbr\\u003elatitude=%{lat}\\u003cbr\\u003elongitude=%{lon}\\u003cextra\\u003e\\u003c\\u002fextra\\u003e\",\"hovertext\":[\"Latvia\"],\"lat\":[56.879635],\"legendgroup\":\"Latvia\",\"lon\":[24.603189],\"marker\":{\"color\":\"#636efa\",\"size\":[72.99],\"sizemode\":\"area\",\"sizeref\":1.7255102040816326,\"symbol\":\"circle\"},\"mode\":\"markers\",\"name\":\"Latvia\",\"showlegend\":true,\"type\":\"scattergeo\"},{\"geo\":\"geo\",\"hovertemplate\":\"\\u003cb\\u003e%{hovertext}\\u003c\\u002fb\\u003e\\u003cbr\\u003e\\u003cbr\\u003eCountry=Lithuania\\u003cbr\\u003eAveragScore=%{marker.size}\\u003cbr\\u003elatitude=%{lat}\\u003cbr\\u003elongitude=%{lon}\\u003cextra\\u003e\\u003c\\u002fextra\\u003e\",\"hovertext\":[\"Lithuania\"],\"lat\":[55.169438],\"legendgroup\":\"Lithuania\",\"lon\":[23.881275],\"marker\":{\"color\":\"#EF553B\",\"size\":[72.54],\"sizemode\":\"area\",\"sizeref\":1.7255102040816326,\"symbol\":\"circle\"},\"mode\":\"markers\",\"name\":\"Lithuania\",\"showlegend\":true,\"type\":\"scattergeo\"},{\"geo\":\"geo\",\"hovertemplate\":\"\\u003cb\\u003e%{hovertext}\\u003c\\u002fb\\u003e\\u003cbr\\u003e\\u003cbr\\u003eCountry=Israel\\u003cbr\\u003eAveragScore=%{marker.size}\\u003cbr\\u003elatitude=%{lat}\\u003cbr\\u003elongitude=%{lon}\\u003cextra\\u003e\\u003c\\u002fextra\\u003e\",\"hovertext\":[\"Israel\"],\"lat\":[31.046051],\"legendgroup\":\"Israel\",\"lon\":[34.851612],\"marker\":{\"color\":\"#00cc96\",\"size\":[72.25],\"sizemode\":\"area\",\"sizeref\":1.7255102040816326,\"symbol\":\"circle\"},\"mode\":\"markers\",\"name\":\"Israel\",\"showlegend\":true,\"type\":\"scattergeo\"},{\"geo\":\"geo\",\"hovertemplate\":\"\\u003cb\\u003e%{hovertext}\\u003c\\u002fb\\u003e\\u003cbr\\u003e\\u003cbr\\u003eCountry=Cyprus\\u003cbr\\u003eAveragScore=%{marker.size}\\u003cbr\\u003elatitude=%{lat}\\u003cbr\\u003elongitude=%{lon}\\u003cextra\\u003e\\u003c\\u002fextra\\u003e\",\"hovertext\":[\"Cyprus\"],\"lat\":[35.126413],\"legendgroup\":\"Cyprus\",\"lon\":[33.429859],\"marker\":{\"color\":\"#ab63fa\",\"size\":[71.82],\"sizemode\":\"area\",\"sizeref\":1.7255102040816326,\"symbol\":\"circle\"},\"mode\":\"markers\",\"name\":\"Cyprus\",\"showlegend\":true,\"type\":\"scattergeo\"},{\"geo\":\"geo\",\"hovertemplate\":\"\\u003cb\\u003e%{hovertext}\\u003c\\u002fb\\u003e\\u003cbr\\u003e\\u003cbr\\u003eCountry=Slovakia\\u003cbr\\u003eAveragScore=%{marker.size}\\u003cbr\\u003elatitude=%{lat}\\u003cbr\\u003elongitude=%{lon}\\u003cextra\\u003e\\u003c\\u002fextra\\u003e\",\"hovertext\":[\"Slovakia\"],\"lat\":[48.669026],\"legendgroup\":\"Slovakia\",\"lon\":[19.699024],\"marker\":{\"color\":\"#FFA15A\",\"size\":[71.15],\"sizemode\":\"area\",\"sizeref\":1.7255102040816326,\"symbol\":\"circle\"},\"mode\":\"markers\",\"name\":\"Slovakia\",\"showlegend\":true,\"type\":\"scattergeo\"},{\"geo\":\"geo\",\"hovertemplate\":\"\\u003cb\\u003e%{hovertext}\\u003c\\u002fb\\u003e\\u003cbr\\u003e\\u003cbr\\u003eCountry=Chile\\u003cbr\\u003eAveragScore=%{marker.size}\\u003cbr\\u003elatitude=%{lat}\\u003cbr\\u003elongitude=%{lon}\\u003cextra\\u003e\\u003c\\u002fextra\\u003e\",\"hovertext\":[\"Chile\"],\"lat\":[-35.675147],\"legendgroup\":\"Chile\",\"lon\":[-71.542969],\"marker\":{\"color\":\"#19d3f3\",\"size\":[70.18],\"sizemode\":\"area\",\"sizeref\":1.7255102040816326,\"symbol\":\"circle\"},\"mode\":\"markers\",\"name\":\"Chile\",\"showlegend\":true,\"type\":\"scattergeo\"},{\"geo\":\"geo\",\"hovertemplate\":\"\\u003cb\\u003e%{hovertext}\\u003c\\u002fb\\u003e\\u003cbr\\u003e\\u003cbr\\u003eCountry=Poland\\u003cbr\\u003eAveragScore=%{marker.size}\\u003cbr\\u003elatitude=%{lat}\\u003cbr\\u003elongitude=%{lon}\\u003cextra\\u003e\\u003c\\u002fextra\\u003e\",\"hovertext\":[\"Poland\"],\"lat\":[51.919438],\"legendgroup\":\"Poland\",\"lon\":[19.145136],\"marker\":{\"color\":\"#FF6692\",\"size\":[70.15],\"sizemode\":\"area\",\"sizeref\":1.7255102040816326,\"symbol\":\"circle\"},\"mode\":\"markers\",\"name\":\"Poland\",\"showlegend\":true,\"type\":\"scattergeo\"},{\"geo\":\"geo\",\"hovertemplate\":\"\\u003cb\\u003e%{hovertext}\\u003c\\u002fb\\u003e\\u003cbr\\u003e\\u003cbr\\u003eCountry=Uruguay\\u003cbr\\u003eAveragScore=%{marker.size}\\u003cbr\\u003elatitude=%{lat}\\u003cbr\\u003elongitude=%{lon}\\u003cextra\\u003e\\u003c\\u002fextra\\u003e\",\"hovertext\":[\"Uruguay\"],\"lat\":[-32.522779],\"legendgroup\":\"Uruguay\",\"lon\":[-55.765835],\"marker\":{\"color\":\"#B6E880\",\"size\":[69.69],\"sizemode\":\"area\",\"sizeref\":1.7255102040816326,\"symbol\":\"circle\"},\"mode\":\"markers\",\"name\":\"Uruguay\",\"showlegend\":true,\"type\":\"scattergeo\"},{\"geo\":\"geo\",\"hovertemplate\":\"\\u003cb\\u003e%{hovertext}\\u003c\\u002fb\\u003e\\u003cbr\\u003e\\u003cbr\\u003eCountry=Costa Rica\\u003cbr\\u003eAveragScore=%{marker.size}\\u003cbr\\u003elatitude=%{lat}\\u003cbr\\u003elongitude=%{lon}\\u003cextra\\u003e\\u003c\\u002fextra\\u003e\",\"hovertext\":[\"Costa Rica\"],\"lat\":[9.748917],\"legendgroup\":\"Costa Rica\",\"lon\":[-83.753428],\"marker\":{\"color\":\"#FF97FF\",\"size\":[69.59],\"sizemode\":\"area\",\"sizeref\":1.7255102040816326,\"symbol\":\"circle\"},\"mode\":\"markers\",\"name\":\"Costa Rica\",\"showlegend\":true,\"type\":\"scattergeo\"},{\"geo\":\"geo\",\"hovertemplate\":\"\\u003cb\\u003e%{hovertext}\\u003c\\u002fb\\u003e\\u003cbr\\u003e\\u003cbr\\u003eCountry=Greece\\u003cbr\\u003eAveragScore=%{marker.size}\\u003cbr\\u003elatitude=%{lat}\\u003cbr\\u003elongitude=%{lon}\\u003cextra\\u003e\\u003c\\u002fextra\\u003e\",\"hovertext\":[\"Greece\"],\"lat\":[39.074208],\"legendgroup\":\"Greece\",\"lon\":[21.824312],\"marker\":{\"color\":\"#FECB52\",\"size\":[68.48],\"sizemode\":\"area\",\"sizeref\":1.7255102040816326,\"symbol\":\"circle\"},\"mode\":\"markers\",\"name\":\"Greece\",\"showlegend\":true,\"type\":\"scattergeo\"},{\"geo\":\"geo\",\"hovertemplate\":\"\\u003cb\\u003e%{hovertext}\\u003c\\u002fb\\u003e\\u003cbr\\u003e\\u003cbr\\u003eCountry=Croatia\\u003cbr\\u003eAveragScore=%{marker.size}\\u003cbr\\u003elatitude=%{lat}\\u003cbr\\u003elongitude=%{lon}\\u003cextra\\u003e\\u003c\\u002fextra\\u003e\",\"hovertext\":[\"Croatia\"],\"lat\":[45.1],\"legendgroup\":\"Croatia\",\"lon\":[15.2],\"marker\":{\"color\":\"#636efa\",\"size\":[68.24],\"sizemode\":\"area\",\"sizeref\":1.7255102040816326,\"symbol\":\"circle\"},\"mode\":\"markers\",\"name\":\"Croatia\",\"showlegend\":true,\"type\":\"scattergeo\"},{\"geo\":\"geo\",\"hovertemplate\":\"\\u003cb\\u003e%{hovertext}\\u003c\\u002fb\\u003e\\u003cbr\\u003e\\u003cbr\\u003eCountry=Hungary\\u003cbr\\u003eAveragScore=%{marker.size}\\u003cbr\\u003elatitude=%{lat}\\u003cbr\\u003elongitude=%{lon}\\u003cextra\\u003e\\u003c\\u002fextra\\u003e\",\"hovertext\":[\"Hungary\"],\"lat\":[47.162494],\"legendgroup\":\"Hungary\",\"lon\":[19.503304],\"marker\":{\"color\":\"#EF553B\",\"size\":[66.88],\"sizemode\":\"area\",\"sizeref\":1.7255102040816326,\"symbol\":\"circle\"},\"mode\":\"markers\",\"name\":\"Hungary\",\"showlegend\":true,\"type\":\"scattergeo\"},{\"geo\":\"geo\",\"hovertemplate\":\"\\u003cb\\u003e%{hovertext}\\u003c\\u002fb\\u003e\\u003cbr\\u003e\\u003cbr\\u003eCountry=Malaysia\\u003cbr\\u003eAveragScore=%{marker.size}\\u003cbr\\u003elatitude=%{lat}\\u003cbr\\u003elongitude=%{lon}\\u003cextra\\u003e\\u003c\\u002fextra\\u003e\",\"hovertext\":[\"Malaysia\"],\"lat\":[4.210484],\"legendgroup\":\"Malaysia\",\"lon\":[101.975766],\"marker\":{\"color\":\"#00cc96\",\"size\":[66.84],\"sizemode\":\"area\",\"sizeref\":1.7255102040816326,\"symbol\":\"circle\"},\"mode\":\"markers\",\"name\":\"Malaysia\",\"showlegend\":true,\"type\":\"scattergeo\"},{\"geo\":\"geo\",\"hovertemplate\":\"\\u003cb\\u003e%{hovertext}\\u003c\\u002fb\\u003e\\u003cbr\\u003e\\u003cbr\\u003eCountry=United Arab Emirates\\u003cbr\\u003eAveragScore=%{marker.size}\\u003cbr\\u003elatitude=%{lat}\\u003cbr\\u003elongitude=%{lon}\\u003cextra\\u003e\\u003c\\u002fextra\\u003e\",\"hovertext\":[\"United Arab Emirates\"],\"lat\":[23.424076],\"legendgroup\":\"United Arab Emirates\",\"lon\":[53.847818],\"marker\":{\"color\":\"#ab63fa\",\"size\":[66.69],\"sizemode\":\"area\",\"sizeref\":1.7255102040816326,\"symbol\":\"circle\"},\"mode\":\"markers\",\"name\":\"United Arab Emirates\",\"showlegend\":true,\"type\":\"scattergeo\"},{\"geo\":\"geo\",\"hovertemplate\":\"\\u003cb\\u003e%{hovertext}\\u003c\\u002fb\\u003e\\u003cbr\\u003e\\u003cbr\\u003eCountry=Romania\\u003cbr\\u003eAveragScore=%{marker.size}\\u003cbr\\u003elatitude=%{lat}\\u003cbr\\u003elongitude=%{lon}\\u003cextra\\u003e\\u003c\\u002fextra\\u003e\",\"hovertext\":[\"Romania\"],\"lat\":[45.943161],\"legendgroup\":\"Romania\",\"lon\":[24.96676],\"marker\":{\"color\":\"#FFA15A\",\"size\":[66.4],\"sizemode\":\"area\",\"sizeref\":1.7255102040816326,\"symbol\":\"circle\"},\"mode\":\"markers\",\"name\":\"Romania\",\"showlegend\":true,\"type\":\"scattergeo\"},{\"geo\":\"geo\",\"hovertemplate\":\"\\u003cb\\u003e%{hovertext}\\u003c\\u002fb\\u003e\\u003cbr\\u003e\\u003cbr\\u003eCountry=Qatar\\u003cbr\\u003eAveragScore=%{marker.size}\\u003cbr\\u003elatitude=%{lat}\\u003cbr\\u003elongitude=%{lon}\\u003cextra\\u003e\\u003c\\u002fextra\\u003e\",\"hovertext\":[\"Qatar\"],\"lat\":[25.354826],\"legendgroup\":\"Qatar\",\"lon\":[51.183884],\"marker\":{\"color\":\"#19d3f3\",\"size\":[66.24],\"sizemode\":\"area\",\"sizeref\":1.7255102040816326,\"symbol\":\"circle\"},\"mode\":\"markers\",\"name\":\"Qatar\",\"showlegend\":true,\"type\":\"scattergeo\"},{\"geo\":\"geo\",\"hovertemplate\":\"\\u003cb\\u003e%{hovertext}\\u003c\\u002fb\\u003e\\u003cbr\\u003e\\u003cbr\\u003eCountry=Mauritius\\u003cbr\\u003eAveragScore=%{marker.size}\\u003cbr\\u003elatitude=%{lat}\\u003cbr\\u003elongitude=%{lon}\\u003cextra\\u003e\\u003c\\u002fextra\\u003e\",\"hovertext\":[\"Mauritius\"],\"lat\":[-20.348404],\"legendgroup\":\"Mauritius\",\"lon\":[57.552152],\"marker\":{\"color\":\"#FF6692\",\"size\":[65.65],\"sizemode\":\"area\",\"sizeref\":1.7255102040816326,\"symbol\":\"circle\"},\"mode\":\"markers\",\"name\":\"Mauritius\",\"showlegend\":true,\"type\":\"scattergeo\"},{\"geo\":\"geo\",\"hovertemplate\":\"\\u003cb\\u003e%{hovertext}\\u003c\\u002fb\\u003e\\u003cbr\\u003e\\u003cbr\\u003eCountry=Bulgaria\\u003cbr\\u003eAveragScore=%{marker.size}\\u003cbr\\u003elatitude=%{lat}\\u003cbr\\u003elongitude=%{lon}\\u003cextra\\u003e\\u003c\\u002fextra\\u003e\",\"hovertext\":[\"Bulgaria\"],\"lat\":[42.733883],\"legendgroup\":\"Bulgaria\",\"lon\":[25.48583],\"marker\":{\"color\":\"#B6E880\",\"size\":[65.55],\"sizemode\":\"area\",\"sizeref\":1.7255102040816326,\"symbol\":\"circle\"},\"mode\":\"markers\",\"name\":\"Bulgaria\",\"showlegend\":true,\"type\":\"scattergeo\"},{\"geo\":\"geo\",\"hovertemplate\":\"\\u003cb\\u003e%{hovertext}\\u003c\\u002fb\\u003e\\u003cbr\\u003e\\u003cbr\\u003eCountry=Montenegro\\u003cbr\\u003eAveragScore=%{marker.size}\\u003cbr\\u003elatitude=%{lat}\\u003cbr\\u003elongitude=%{lon}\\u003cextra\\u003e\\u003c\\u002fextra\\u003e\",\"hovertext\":[\"Montenegro\"],\"lat\":[42.708678],\"legendgroup\":\"Montenegro\",\"lon\":[19.37439],\"marker\":{\"color\":\"#FF97FF\",\"size\":[65.01],\"sizemode\":\"area\",\"sizeref\":1.7255102040816326,\"symbol\":\"circle\"},\"mode\":\"markers\",\"name\":\"Montenegro\",\"showlegend\":true,\"type\":\"scattergeo\"},{\"geo\":\"geo\",\"hovertemplate\":\"\\u003cb\\u003e%{hovertext}\\u003c\\u002fb\\u003e\\u003cbr\\u003e\\u003cbr\\u003eCountry=Panama\\u003cbr\\u003eAveragScore=%{marker.size}\\u003cbr\\u003elatitude=%{lat}\\u003cbr\\u003elongitude=%{lon}\\u003cextra\\u003e\\u003c\\u002fextra\\u003e\",\"hovertext\":[\"Panama\"],\"lat\":[8.537981],\"legendgroup\":\"Panama\",\"lon\":[-80.782127],\"marker\":{\"color\":\"#FECB52\",\"size\":[64.32],\"sizemode\":\"area\",\"sizeref\":1.7255102040816326,\"symbol\":\"circle\"},\"mode\":\"markers\",\"name\":\"Panama\",\"showlegend\":true,\"type\":\"scattergeo\"},{\"geo\":\"geo\",\"hovertemplate\":\"\\u003cb\\u003e%{hovertext}\\u003c\\u002fb\\u003e\\u003cbr\\u003e\\u003cbr\\u003eCountry=Seychelles\\u003cbr\\u003eAveragScore=%{marker.size}\\u003cbr\\u003elatitude=%{lat}\\u003cbr\\u003elongitude=%{lon}\\u003cextra\\u003e\\u003c\\u002fextra\\u003e\",\"hovertext\":[\"Seychelles\"],\"lat\":[-4.679574],\"legendgroup\":\"Seychelles\",\"lon\":[55.491977],\"marker\":{\"color\":\"#636efa\",\"size\":[63.65],\"sizemode\":\"area\",\"sizeref\":1.7255102040816326,\"symbol\":\"circle\"},\"mode\":\"markers\",\"name\":\"Seychelles\",\"showlegend\":true,\"type\":\"scattergeo\"},{\"geo\":\"geo\",\"hovertemplate\":\"\\u003cb\\u003e%{hovertext}\\u003c\\u002fb\\u003e\\u003cbr\\u003e\\u003cbr\\u003eCountry=Serbia\\u003cbr\\u003eAveragScore=%{marker.size}\\u003cbr\\u003elatitude=%{lat}\\u003cbr\\u003elongitude=%{lon}\\u003cextra\\u003e\\u003c\\u002fextra\\u003e\",\"hovertext\":[\"Serbia\"],\"lat\":[44.016521],\"legendgroup\":\"Serbia\",\"lon\":[21.005859],\"marker\":{\"color\":\"#EF553B\",\"size\":[62.75],\"sizemode\":\"area\",\"sizeref\":1.7255102040816326,\"symbol\":\"circle\"},\"mode\":\"markers\",\"name\":\"Serbia\",\"showlegend\":true,\"type\":\"scattergeo\"},{\"geo\":\"geo\",\"hovertemplate\":\"\\u003cb\\u003e%{hovertext}\\u003c\\u002fb\\u003e\\u003cbr\\u003e\\u003cbr\\u003eCountry=Georgia\\u003cbr\\u003eAveragScore=%{marker.size}\\u003cbr\\u003elatitude=%{lat}\\u003cbr\\u003elongitude=%{lon}\\u003cextra\\u003e\\u003c\\u002fextra\\u003e\",\"hovertext\":[\"Georgia\"],\"lat\":[42.315407],\"legendgroup\":\"Georgia\",\"lon\":[43.356892],\"marker\":{\"color\":\"#00cc96\",\"size\":[62.28],\"sizemode\":\"area\",\"sizeref\":1.7255102040816326,\"symbol\":\"circle\"},\"mode\":\"markers\",\"name\":\"Georgia\",\"showlegend\":true,\"type\":\"scattergeo\"},{\"geo\":\"geo\",\"hovertemplate\":\"\\u003cb\\u003e%{hovertext}\\u003c\\u002fb\\u003e\\u003cbr\\u003e\\u003cbr\\u003eCountry=China\\u003cbr\\u003eAveragScore=%{marker.size}\\u003cbr\\u003elatitude=%{lat}\\u003cbr\\u003elongitude=%{lon}\\u003cextra\\u003e\\u003c\\u002fextra\\u003e\",\"hovertext\":[\"China\"],\"lat\":[35.86166],\"legendgroup\":\"China\",\"lon\":[104.195397],\"marker\":{\"color\":\"#ab63fa\",\"size\":[62.15],\"sizemode\":\"area\",\"sizeref\":1.7255102040816326,\"symbol\":\"circle\"},\"mode\":\"markers\",\"name\":\"China\",\"showlegend\":true,\"type\":\"scattergeo\"},{\"geo\":\"geo\",\"hovertemplate\":\"\\u003cb\\u003e%{hovertext}\\u003c\\u002fb\\u003e\\u003cbr\\u003e\\u003cbr\\u003eCountry=Trinidad and Tobago\\u003cbr\\u003eAveragScore=%{marker.size}\\u003cbr\\u003elatitude=%{lat}\\u003cbr\\u003elongitude=%{lon}\\u003cextra\\u003e\\u003c\\u002fextra\\u003e\",\"hovertext\":[\"Trinidad and Tobago\"],\"lat\":[10.691803],\"legendgroup\":\"Trinidad and Tobago\",\"lon\":[-61.222503],\"marker\":{\"color\":\"#FFA15A\",\"size\":[61.91],\"sizemode\":\"area\",\"sizeref\":1.7255102040816326,\"symbol\":\"circle\"},\"mode\":\"markers\",\"name\":\"Trinidad and Tobago\",\"showlegend\":true,\"type\":\"scattergeo\"},{\"geo\":\"geo\",\"hovertemplate\":\"\\u003cb\\u003e%{hovertext}\\u003c\\u002fb\\u003e\\u003cbr\\u003e\\u003cbr\\u003eCountry=Jamaica\\u003cbr\\u003eAveragScore=%{marker.size}\\u003cbr\\u003elatitude=%{lat}\\u003cbr\\u003elongitude=%{lon}\\u003cextra\\u003e\\u003c\\u002fextra\\u003e\",\"hovertext\":[\"Jamaica\"],\"lat\":[18.109581],\"legendgroup\":\"Jamaica\",\"lon\":[-77.297508],\"marker\":{\"color\":\"#19d3f3\",\"size\":[61.39],\"sizemode\":\"area\",\"sizeref\":1.7255102040816326,\"symbol\":\"circle\"},\"mode\":\"markers\",\"name\":\"Jamaica\",\"showlegend\":true,\"type\":\"scattergeo\"},{\"geo\":\"geo\",\"hovertemplate\":\"\\u003cb\\u003e%{hovertext}\\u003c\\u002fb\\u003e\\u003cbr\\u003e\\u003cbr\\u003eCountry=Argentina\\u003cbr\\u003eAveragScore=%{marker.size}\\u003cbr\\u003elatitude=%{lat}\\u003cbr\\u003elongitude=%{lon}\\u003cextra\\u003e\\u003c\\u002fextra\\u003e\",\"hovertext\":[\"Argentina\"],\"lat\":[-38.416097],\"legendgroup\":\"Argentina\",\"lon\":[-63.616672],\"marker\":{\"color\":\"#FF6692\",\"size\":[61.38],\"sizemode\":\"area\",\"sizeref\":1.7255102040816326,\"symbol\":\"circle\"},\"mode\":\"markers\",\"name\":\"Argentina\",\"showlegend\":true,\"type\":\"scattergeo\"},{\"geo\":\"geo\",\"hovertemplate\":\"\\u003cb\\u003e%{hovertext}\\u003c\\u002fb\\u003e\\u003cbr\\u003e\\u003cbr\\u003eCountry=Peru\\u003cbr\\u003eAveragScore=%{marker.size}\\u003cbr\\u003elatitude=%{lat}\\u003cbr\\u003elongitude=%{lon}\\u003cextra\\u003e\\u003c\\u002fextra\\u003e\",\"hovertext\":[\"Peru\"],\"lat\":[-9.189967],\"legendgroup\":\"Peru\",\"lon\":[-75.015152],\"marker\":{\"color\":\"#B6E880\",\"size\":[61.27],\"sizemode\":\"area\",\"sizeref\":1.7255102040816326,\"symbol\":\"circle\"},\"mode\":\"markers\",\"name\":\"Peru\",\"showlegend\":true,\"type\":\"scattergeo\"},{\"geo\":\"geo\",\"hovertemplate\":\"\\u003cb\\u003e%{hovertext}\\u003c\\u002fb\\u003e\\u003cbr\\u003e\\u003cbr\\u003eCountry=Kuwait\\u003cbr\\u003eAveragScore=%{marker.size}\\u003cbr\\u003elatitude=%{lat}\\u003cbr\\u003elongitude=%{lon}\\u003cextra\\u003e\\u003c\\u002fextra\\u003e\",\"hovertext\":[\"Kuwait\"],\"lat\":[29.31166],\"legendgroup\":\"Kuwait\",\"lon\":[47.481766],\"marker\":{\"color\":\"#FF97FF\",\"size\":[60.93],\"sizemode\":\"area\",\"sizeref\":1.7255102040816326,\"symbol\":\"circle\"},\"mode\":\"markers\",\"name\":\"Kuwait\",\"showlegend\":true,\"type\":\"scattergeo\"},{\"geo\":\"geo\",\"hovertemplate\":\"\\u003cb\\u003e%{hovertext}\\u003c\\u002fb\\u003e\\u003cbr\\u003e\\u003cbr\\u003eCountry=Armenia\\u003cbr\\u003eAveragScore=%{marker.size}\\u003cbr\\u003elatitude=%{lat}\\u003cbr\\u003elongitude=%{lon}\\u003cextra\\u003e\\u003c\\u002fextra\\u003e\",\"hovertext\":[\"Armenia\"],\"lat\":[40.069099],\"legendgroup\":\"Armenia\",\"lon\":[45.038189],\"marker\":{\"color\":\"#FECB52\",\"size\":[60.92],\"sizemode\":\"area\",\"sizeref\":1.7255102040816326,\"symbol\":\"circle\"},\"mode\":\"markers\",\"name\":\"Armenia\",\"showlegend\":true,\"type\":\"scattergeo\"},{\"geo\":\"geo\",\"hovertemplate\":\"\\u003cb\\u003e%{hovertext}\\u003c\\u002fb\\u003e\\u003cbr\\u003e\\u003cbr\\u003eCountry=Bahrain\\u003cbr\\u003eAveragScore=%{marker.size}\\u003cbr\\u003elatitude=%{lat}\\u003cbr\\u003elongitude=%{lon}\\u003cextra\\u003e\\u003c\\u002fextra\\u003e\",\"hovertext\":[\"Bahrain\"],\"lat\":[25.930414],\"legendgroup\":\"Bahrain\",\"lon\":[50.637772],\"marker\":{\"color\":\"#636efa\",\"size\":[60.92],\"sizemode\":\"area\",\"sizeref\":1.7255102040816326,\"symbol\":\"circle\"},\"mode\":\"markers\",\"name\":\"Bahrain\",\"showlegend\":true,\"type\":\"scattergeo\"},{\"geo\":\"geo\",\"hovertemplate\":\"\\u003cb\\u003e%{hovertext}\\u003c\\u002fb\\u003e\\u003cbr\\u003e\\u003cbr\\u003eCountry=Indonesia\\u003cbr\\u003eAveragScore=%{marker.size}\\u003cbr\\u003elatitude=%{lat}\\u003cbr\\u003elongitude=%{lon}\\u003cextra\\u003e\\u003c\\u002fextra\\u003e\",\"hovertext\":[\"Indonesia\"],\"lat\":[-0.789275],\"legendgroup\":\"Indonesia\",\"lon\":[113.921327],\"marker\":{\"color\":\"#EF553B\",\"size\":[60.88],\"sizemode\":\"area\",\"sizeref\":1.7255102040816326,\"symbol\":\"circle\"},\"mode\":\"markers\",\"name\":\"Indonesia\",\"showlegend\":true,\"type\":\"scattergeo\"},{\"geo\":\"geo\",\"hovertemplate\":\"\\u003cb\\u003e%{hovertext}\\u003c\\u002fb\\u003e\\u003cbr\\u003e\\u003cbr\\u003eCountry=Thailand\\u003cbr\\u003eAveragScore=%{marker.size}\\u003cbr\\u003elatitude=%{lat}\\u003cbr\\u003elongitude=%{lon}\\u003cextra\\u003e\\u003c\\u002fextra\\u003e\",\"hovertext\":[\"Thailand\"],\"lat\":[15.870032],\"legendgroup\":\"Thailand\",\"lon\":[100.992541],\"marker\":{\"color\":\"#00cc96\",\"size\":[60.79],\"sizemode\":\"area\",\"sizeref\":1.7255102040816326,\"symbol\":\"circle\"},\"mode\":\"markers\",\"name\":\"Thailand\",\"showlegend\":true,\"type\":\"scattergeo\"},{\"geo\":\"geo\",\"hovertemplate\":\"\\u003cb\\u003e%{hovertext}\\u003c\\u002fb\\u003e\\u003cbr\\u003e\\u003cbr\\u003eCountry=Albania\\u003cbr\\u003eAveragScore=%{marker.size}\\u003cbr\\u003elatitude=%{lat}\\u003cbr\\u003elongitude=%{lon}\\u003cextra\\u003e\\u003c\\u002fextra\\u003e\",\"hovertext\":[\"Albania\"],\"lat\":[41.153332],\"legendgroup\":\"Albania\",\"lon\":[20.168331],\"marker\":{\"color\":\"#ab63fa\",\"size\":[60.69],\"sizemode\":\"area\",\"sizeref\":1.7255102040816326,\"symbol\":\"circle\"},\"mode\":\"markers\",\"name\":\"Albania\",\"showlegend\":true,\"type\":\"scattergeo\"},{\"geo\":\"geo\",\"hovertemplate\":\"\\u003cb\\u003e%{hovertext}\\u003c\\u002fb\\u003e\\u003cbr\\u003e\\u003cbr\\u003eCountry=Brazil\\u003cbr\\u003eAveragScore=%{marker.size}\\u003cbr\\u003elatitude=%{lat}\\u003cbr\\u003elongitude=%{lon}\\u003cextra\\u003e\\u003c\\u002fextra\\u003e\",\"hovertext\":[\"Brazil\"],\"lat\":[-14.235004],\"legendgroup\":\"Brazil\",\"lon\":[-51.92528],\"marker\":{\"color\":\"#FFA15A\",\"size\":[60.07],\"sizemode\":\"area\",\"sizeref\":1.7255102040816326,\"symbol\":\"circle\"},\"mode\":\"markers\",\"name\":\"Brazil\",\"showlegend\":true,\"type\":\"scattergeo\"},{\"geo\":\"geo\",\"hovertemplate\":\"\\u003cb\\u003e%{hovertext}\\u003c\\u002fb\\u003e\\u003cbr\\u003e\\u003cbr\\u003eCountry=Oman\\u003cbr\\u003eAveragScore=%{marker.size}\\u003cbr\\u003elatitude=%{lat}\\u003cbr\\u003elongitude=%{lon}\\u003cextra\\u003e\\u003c\\u002fextra\\u003e\",\"hovertext\":[\"Oman\"],\"lat\":[21.512583],\"legendgroup\":\"Oman\",\"lon\":[55.923255],\"marker\":{\"color\":\"#19d3f3\",\"size\":[59.85],\"sizemode\":\"area\",\"sizeref\":1.7255102040816326,\"symbol\":\"circle\"},\"mode\":\"markers\",\"name\":\"Oman\",\"showlegend\":true,\"type\":\"scattergeo\"},{\"geo\":\"geo\",\"hovertemplate\":\"\\u003cb\\u003e%{hovertext}\\u003c\\u002fb\\u003e\\u003cbr\\u003e\\u003cbr\\u003eCountry=Dominican Republic\\u003cbr\\u003eAveragScore=%{marker.size}\\u003cbr\\u003elatitude=%{lat}\\u003cbr\\u003elongitude=%{lon}\\u003cextra\\u003e\\u003c\\u002fextra\\u003e\",\"hovertext\":[\"Dominican Republic\"],\"lat\":[18.735693],\"legendgroup\":\"Dominican Republic\",\"lon\":[-70.162651],\"marker\":{\"color\":\"#FF6692\",\"size\":[59.85],\"sizemode\":\"area\",\"sizeref\":1.7255102040816326,\"symbol\":\"circle\"},\"mode\":\"markers\",\"name\":\"Dominican Republic\",\"showlegend\":true,\"type\":\"scattergeo\"},{\"geo\":\"geo\",\"hovertemplate\":\"\\u003cb\\u003e%{hovertext}\\u003c\\u002fb\\u003e\\u003cbr\\u003e\\u003cbr\\u003eCountry=Kazakhstan\\u003cbr\\u003eAveragScore=%{marker.size}\\u003cbr\\u003elatitude=%{lat}\\u003cbr\\u003elongitude=%{lon}\\u003cextra\\u003e\\u003c\\u002fextra\\u003e\",\"hovertext\":[\"Kazakhstan\"],\"lat\":[48.019573],\"legendgroup\":\"Kazakhstan\",\"lon\":[66.923684],\"marker\":{\"color\":\"#B6E880\",\"size\":[59.53],\"sizemode\":\"area\",\"sizeref\":1.7255102040816326,\"symbol\":\"circle\"},\"mode\":\"markers\",\"name\":\"Kazakhstan\",\"showlegend\":true,\"type\":\"scattergeo\"},{\"geo\":\"geo\",\"hovertemplate\":\"\\u003cb\\u003e%{hovertext}\\u003c\\u002fb\\u003e\\u003cbr\\u003e\\u003cbr\\u003eCountry=Moldova\\u003cbr\\u003eAveragScore=%{marker.size}\\u003cbr\\u003elatitude=%{lat}\\u003cbr\\u003elongitude=%{lon}\\u003cextra\\u003e\\u003c\\u002fextra\\u003e\",\"hovertext\":[\"Moldova\"],\"lat\":[47.411631],\"legendgroup\":\"Moldova\",\"lon\":[28.369885],\"marker\":{\"color\":\"#FF97FF\",\"size\":[59.44],\"sizemode\":\"area\",\"sizeref\":1.7255102040816326,\"symbol\":\"circle\"},\"mode\":\"markers\",\"name\":\"Moldova\",\"showlegend\":true,\"type\":\"scattergeo\"},{\"geo\":\"geo\",\"hovertemplate\":\"\\u003cb\\u003e%{hovertext}\\u003c\\u002fb\\u003e\\u003cbr\\u003e\\u003cbr\\u003eCountry=Mexico\\u003cbr\\u003eAveragScore=%{marker.size}\\u003cbr\\u003elatitude=%{lat}\\u003cbr\\u003elongitude=%{lon}\\u003cextra\\u003e\\u003c\\u002fextra\\u003e\",\"hovertext\":[\"Mexico\"],\"lat\":[23.634501],\"legendgroup\":\"Mexico\",\"lon\":[-102.552784],\"marker\":{\"color\":\"#FECB52\",\"size\":[59.3],\"sizemode\":\"area\",\"sizeref\":1.7255102040816326,\"symbol\":\"circle\"},\"mode\":\"markers\",\"name\":\"Mexico\",\"showlegend\":true,\"type\":\"scattergeo\"},{\"geo\":\"geo\",\"hovertemplate\":\"\\u003cb\\u003e%{hovertext}\\u003c\\u002fb\\u003e\\u003cbr\\u003e\\u003cbr\\u003eCountry=Bosnia and Herzegovina\\u003cbr\\u003eAveragScore=%{marker.size}\\u003cbr\\u003elatitude=%{lat}\\u003cbr\\u003elongitude=%{lon}\\u003cextra\\u003e\\u003c\\u002fextra\\u003e\",\"hovertext\":[\"Bosnia and Herzegovina\"],\"lat\":[43.915886],\"legendgroup\":\"Bosnia and Herzegovina\",\"lon\":[17.679076],\"marker\":{\"color\":\"#636efa\",\"size\":[59.11],\"sizemode\":\"area\",\"sizeref\":1.7255102040816326,\"symbol\":\"circle\"},\"mode\":\"markers\",\"name\":\"Bosnia and Herzegovina\",\"showlegend\":true,\"type\":\"scattergeo\"},{\"geo\":\"geo\",\"hovertemplate\":\"\\u003cb\\u003e%{hovertext}\\u003c\\u002fb\\u003e\\u003cbr\\u003e\\u003cbr\\u003eCountry=Vietnam\\u003cbr\\u003eAveragScore=%{marker.size}\\u003cbr\\u003elatitude=%{lat}\\u003cbr\\u003elongitude=%{lon}\\u003cextra\\u003e\\u003c\\u002fextra\\u003e\",\"hovertext\":[\"Vietnam\"],\"lat\":[14.058324],\"legendgroup\":\"Vietnam\",\"lon\":[108.277199],\"marker\":{\"color\":\"#EF553B\",\"size\":[58.86],\"sizemode\":\"area\",\"sizeref\":1.7255102040816326,\"symbol\":\"circle\"},\"mode\":\"markers\",\"name\":\"Vietnam\",\"showlegend\":true,\"type\":\"scattergeo\"},{\"geo\":\"geo\",\"hovertemplate\":\"\\u003cb\\u003e%{hovertext}\\u003c\\u002fb\\u003e\\u003cbr\\u003e\\u003cbr\\u003eCountry=Ukraine\\u003cbr\\u003eAveragScore=%{marker.size}\\u003cbr\\u003elatitude=%{lat}\\u003cbr\\u003elongitude=%{lon}\\u003cextra\\u003e\\u003c\\u002fextra\\u003e\",\"hovertext\":[\"Ukraine\"],\"lat\":[48.379433],\"legendgroup\":\"Ukraine\",\"lon\":[31.16558],\"marker\":{\"color\":\"#00cc96\",\"size\":[58.84],\"sizemode\":\"area\",\"sizeref\":1.7255102040816326,\"symbol\":\"circle\"},\"mode\":\"markers\",\"name\":\"Ukraine\",\"showlegend\":true,\"type\":\"scattergeo\"},{\"geo\":\"geo\",\"hovertemplate\":\"\\u003cb\\u003e%{hovertext}\\u003c\\u002fb\\u003e\\u003cbr\\u003e\\u003cbr\\u003eCountry=South Africa\\u003cbr\\u003eAveragScore=%{marker.size}\\u003cbr\\u003elatitude=%{lat}\\u003cbr\\u003elongitude=%{lon}\\u003cextra\\u003e\\u003c\\u002fextra\\u003e\",\"hovertext\":[\"South Africa\"],\"lat\":[-30.559482],\"legendgroup\":\"South Africa\",\"lon\":[22.937506],\"marker\":{\"color\":\"#ab63fa\",\"size\":[58.67],\"sizemode\":\"area\",\"sizeref\":1.7255102040816326,\"symbol\":\"circle\"},\"mode\":\"markers\",\"name\":\"South Africa\",\"showlegend\":true,\"type\":\"scattergeo\"},{\"geo\":\"geo\",\"hovertemplate\":\"\\u003cb\\u003e%{hovertext}\\u003c\\u002fb\\u003e\\u003cbr\\u003e\\u003cbr\\u003eCountry=Paraguay\\u003cbr\\u003eAveragScore=%{marker.size}\\u003cbr\\u003elatitude=%{lat}\\u003cbr\\u003elongitude=%{lon}\\u003cextra\\u003e\\u003c\\u002fextra\\u003e\",\"hovertext\":[\"Paraguay\"],\"lat\":[-23.442503],\"legendgroup\":\"Paraguay\",\"lon\":[-58.443832],\"marker\":{\"color\":\"#FFA15A\",\"size\":[58.56],\"sizemode\":\"area\",\"sizeref\":1.7255102040816326,\"symbol\":\"circle\"},\"mode\":\"markers\",\"name\":\"Paraguay\",\"showlegend\":true,\"type\":\"scattergeo\"},{\"geo\":\"geo\",\"hovertemplate\":\"\\u003cb\\u003e%{hovertext}\\u003c\\u002fb\\u003e\\u003cbr\\u003e\\u003cbr\\u003eCountry=Russia\\u003cbr\\u003eAveragScore=%{marker.size}\\u003cbr\\u003elatitude=%{lat}\\u003cbr\\u003elongitude=%{lon}\\u003cextra\\u003e\\u003c\\u002fextra\\u003e\",\"hovertext\":[\"Russia\"],\"lat\":[61.52401],\"legendgroup\":\"Russia\",\"lon\":[105.318756],\"marker\":{\"color\":\"#19d3f3\",\"size\":[58.5],\"sizemode\":\"area\",\"sizeref\":1.7255102040816326,\"symbol\":\"circle\"},\"mode\":\"markers\",\"name\":\"Russia\",\"showlegend\":true,\"type\":\"scattergeo\"},{\"geo\":\"geo\",\"hovertemplate\":\"\\u003cb\\u003e%{hovertext}\\u003c\\u002fb\\u003e\\u003cbr\\u003e\\u003cbr\\u003eCountry=Belarus\\u003cbr\\u003eAveragScore=%{marker.size}\\u003cbr\\u003elatitude=%{lat}\\u003cbr\\u003elongitude=%{lon}\\u003cextra\\u003e\\u003c\\u002fextra\\u003e\",\"hovertext\":[\"Belarus\"],\"lat\":[53.709807],\"legendgroup\":\"Belarus\",\"lon\":[27.953389],\"marker\":{\"color\":\"#FF6692\",\"size\":[58.4],\"sizemode\":\"area\",\"sizeref\":1.7255102040816326,\"symbol\":\"circle\"},\"mode\":\"markers\",\"name\":\"Belarus\",\"showlegend\":true,\"type\":\"scattergeo\"},{\"geo\":\"geo\",\"hovertemplate\":\"\\u003cb\\u003e%{hovertext}\\u003c\\u002fb\\u003e\\u003cbr\\u003e\\u003cbr\\u003eCountry=Saudi Arabia\\u003cbr\\u003eAveragScore=%{marker.size}\\u003cbr\\u003elatitude=%{lat}\\u003cbr\\u003elongitude=%{lon}\\u003cextra\\u003e\\u003c\\u002fextra\\u003e\",\"hovertext\":[\"Saudi Arabia\"],\"lat\":[23.885942],\"legendgroup\":\"Saudi Arabia\",\"lon\":[45.079162],\"marker\":{\"color\":\"#B6E880\",\"size\":[58.35],\"sizemode\":\"area\",\"sizeref\":1.7255102040816326,\"symbol\":\"circle\"},\"mode\":\"markers\",\"name\":\"Saudi Arabia\",\"showlegend\":true,\"type\":\"scattergeo\"},{\"geo\":\"geo\",\"hovertemplate\":\"\\u003cb\\u003e%{hovertext}\\u003c\\u002fb\\u003e\\u003cbr\\u003e\\u003cbr\\u003eCountry=Colombia\\u003cbr\\u003eAveragScore=%{marker.size}\\u003cbr\\u003elatitude=%{lat}\\u003cbr\\u003elongitude=%{lon}\\u003cextra\\u003e\\u003c\\u002fextra\\u003e\",\"hovertext\":[\"Colombia\"],\"lat\":[4.570868],\"legendgroup\":\"Colombia\",\"lon\":[-74.297333],\"marker\":{\"color\":\"#FF97FF\",\"size\":[58.01],\"sizemode\":\"area\",\"sizeref\":1.7255102040816326,\"symbol\":\"circle\"},\"mode\":\"markers\",\"name\":\"Colombia\",\"showlegend\":true,\"type\":\"scattergeo\"},{\"geo\":\"geo\",\"hovertemplate\":\"\\u003cb\\u003e%{hovertext}\\u003c\\u002fb\\u003e\\u003cbr\\u003e\\u003cbr\\u003eCountry=Suriname\\u003cbr\\u003eAveragScore=%{marker.size}\\u003cbr\\u003elatitude=%{lat}\\u003cbr\\u003elongitude=%{lon}\\u003cextra\\u003e\\u003c\\u002fextra\\u003e\",\"hovertext\":[\"Suriname\"],\"lat\":[3.919305],\"legendgroup\":\"Suriname\",\"lon\":[-56.027783],\"marker\":{\"color\":\"#FECB52\",\"size\":[57.91],\"sizemode\":\"area\",\"sizeref\":1.7255102040816326,\"symbol\":\"circle\"},\"mode\":\"markers\",\"name\":\"Suriname\",\"showlegend\":true,\"type\":\"scattergeo\"},{\"geo\":\"geo\",\"hovertemplate\":\"\\u003cb\\u003e%{hovertext}\\u003c\\u002fb\\u003e\\u003cbr\\u003e\\u003cbr\\u003eCountry=Botswana\\u003cbr\\u003eAveragScore=%{marker.size}\\u003cbr\\u003elatitude=%{lat}\\u003cbr\\u003elongitude=%{lon}\\u003cextra\\u003e\\u003c\\u002fextra\\u003e\",\"hovertext\":[\"Botswana\"],\"lat\":[-22.328474],\"legendgroup\":\"Botswana\",\"lon\":[24.684866],\"marker\":{\"color\":\"#636efa\",\"size\":[57.83],\"sizemode\":\"area\",\"sizeref\":1.7255102040816326,\"symbol\":\"circle\"},\"mode\":\"markers\",\"name\":\"Botswana\",\"showlegend\":true,\"type\":\"scattergeo\"},{\"geo\":\"geo\",\"hovertemplate\":\"\\u003cb\\u003e%{hovertext}\\u003c\\u002fb\\u003e\\u003cbr\\u003e\\u003cbr\\u003eCountry=Philippines\\u003cbr\\u003eAveragScore=%{marker.size}\\u003cbr\\u003elatitude=%{lat}\\u003cbr\\u003elongitude=%{lon}\\u003cextra\\u003e\\u003c\\u002fextra\\u003e\",\"hovertext\":[\"Philippines\"],\"lat\":[12.879721],\"legendgroup\":\"Philippines\",\"lon\":[121.774017],\"marker\":{\"color\":\"#EF553B\",\"size\":[57.53],\"sizemode\":\"area\",\"sizeref\":1.7255102040816326,\"symbol\":\"circle\"},\"mode\":\"markers\",\"name\":\"Philippines\",\"showlegend\":true,\"type\":\"scattergeo\"},{\"geo\":\"geo\",\"hovertemplate\":\"\\u003cb\\u003e%{hovertext}\\u003c\\u002fb\\u003e\\u003cbr\\u003e\\u003cbr\\u003eCountry=Ecuador\\u003cbr\\u003eAveragScore=%{marker.size}\\u003cbr\\u003elatitude=%{lat}\\u003cbr\\u003elongitude=%{lon}\\u003cextra\\u003e\\u003c\\u002fextra\\u003e\",\"hovertext\":[\"Ecuador\"],\"lat\":[-1.831239],\"legendgroup\":\"Ecuador\",\"lon\":[-78.183406],\"marker\":{\"color\":\"#00cc96\",\"size\":[57.42],\"sizemode\":\"area\",\"sizeref\":1.7255102040816326,\"symbol\":\"circle\"},\"mode\":\"markers\",\"name\":\"Ecuador\",\"showlegend\":true,\"type\":\"scattergeo\"},{\"geo\":\"geo\",\"hovertemplate\":\"\\u003cb\\u003e%{hovertext}\\u003c\\u002fb\\u003e\\u003cbr\\u003e\\u003cbr\\u003eCountry=Jordan\\u003cbr\\u003eAveragScore=%{marker.size}\\u003cbr\\u003elatitude=%{lat}\\u003cbr\\u003elongitude=%{lon}\\u003cextra\\u003e\\u003c\\u002fextra\\u003e\",\"hovertext\":[\"Jordan\"],\"lat\":[30.585164],\"legendgroup\":\"Jordan\",\"lon\":[36.238414],\"marker\":{\"color\":\"#ab63fa\",\"size\":[57.14],\"sizemode\":\"area\",\"sizeref\":1.7255102040816326,\"symbol\":\"circle\"},\"mode\":\"markers\",\"name\":\"Jordan\",\"showlegend\":true,\"type\":\"scattergeo\"},{\"geo\":\"geo\",\"hovertemplate\":\"\\u003cb\\u003e%{hovertext}\\u003c\\u002fb\\u003e\\u003cbr\\u003e\\u003cbr\\u003eCountry=S\\u00e3o Tom\\u00e9 and Pr\\u00edncipe\\u003cbr\\u003eAveragScore=%{marker.size}\\u003cbr\\u003elatitude=%{lat}\\u003cbr\\u003elongitude=%{lon}\\u003cextra\\u003e\\u003c\\u002fextra\\u003e\",\"hovertext\":[\"S\\u00e3o Tom\\u00e9 and Pr\\u00edncipe\"],\"lat\":[0.18636],\"legendgroup\":\"S\\u00e3o Tom\\u00e9 and Pr\\u00edncipe\",\"lon\":[6.613081],\"marker\":{\"color\":\"#FFA15A\",\"size\":[57.09],\"sizemode\":\"area\",\"sizeref\":1.7255102040816326,\"symbol\":\"circle\"},\"mode\":\"markers\",\"name\":\"S\\u00e3o Tom\\u00e9 and Pr\\u00edncipe\",\"showlegend\":true,\"type\":\"scattergeo\"},{\"geo\":\"geo\",\"hovertemplate\":\"\\u003cb\\u003e%{hovertext}\\u003c\\u002fb\\u003e\\u003cbr\\u003e\\u003cbr\\u003eCountry=Mongolia\\u003cbr\\u003eAveragScore=%{marker.size}\\u003cbr\\u003elatitude=%{lat}\\u003cbr\\u003elongitude=%{lon}\\u003cextra\\u003e\\u003c\\u002fextra\\u003e\",\"hovertext\":[\"Mongolia\"],\"lat\":[46.862496],\"legendgroup\":\"Mongolia\",\"lon\":[103.846656],\"marker\":{\"color\":\"#19d3f3\",\"size\":[57.07],\"sizemode\":\"area\",\"sizeref\":1.7255102040816326,\"symbol\":\"circle\"},\"mode\":\"markers\",\"name\":\"Mongolia\",\"showlegend\":true,\"type\":\"scattergeo\"},{\"geo\":\"geo\",\"hovertemplate\":\"\\u003cb\\u003e%{hovertext}\\u003c\\u002fb\\u003e\\u003cbr\\u003e\\u003cbr\\u003eCountry=Guyana\\u003cbr\\u003eAveragScore=%{marker.size}\\u003cbr\\u003elatitude=%{lat}\\u003cbr\\u003elongitude=%{lon}\\u003cextra\\u003e\\u003c\\u002fextra\\u003e\",\"hovertext\":[\"Guyana\"],\"lat\":[4.860416],\"legendgroup\":\"Guyana\",\"lon\":[-58.93018],\"marker\":{\"color\":\"#FF6692\",\"size\":[56.93],\"sizemode\":\"area\",\"sizeref\":1.7255102040816326,\"symbol\":\"circle\"},\"mode\":\"markers\",\"name\":\"Guyana\",\"showlegend\":true,\"type\":\"scattergeo\"},{\"geo\":\"geo\",\"hovertemplate\":\"\\u003cb\\u003e%{hovertext}\\u003c\\u002fb\\u003e\\u003cbr\\u003e\\u003cbr\\u003eCountry=Namibia\\u003cbr\\u003eAveragScore=%{marker.size}\\u003cbr\\u003elatitude=%{lat}\\u003cbr\\u003elongitude=%{lon}\\u003cextra\\u003e\\u003c\\u002fextra\\u003e\",\"hovertext\":[\"Namibia\"],\"lat\":[-22.95764],\"legendgroup\":\"Namibia\",\"lon\":[18.49041],\"marker\":{\"color\":\"#B6E880\",\"size\":[56.38],\"sizemode\":\"area\",\"sizeref\":1.7255102040816326,\"symbol\":\"circle\"},\"mode\":\"markers\",\"name\":\"Namibia\",\"showlegend\":true,\"type\":\"scattergeo\"},{\"geo\":\"geo\",\"hovertemplate\":\"\\u003cb\\u003e%{hovertext}\\u003c\\u002fb\\u003e\\u003cbr\\u003e\\u003cbr\\u003eCountry=Sri Lanka\\u003cbr\\u003eAveragScore=%{marker.size}\\u003cbr\\u003elatitude=%{lat}\\u003cbr\\u003elongitude=%{lon}\\u003cextra\\u003e\\u003c\\u002fextra\\u003e\",\"hovertext\":[\"Sri Lanka\"],\"lat\":[7.873054],\"legendgroup\":\"Sri Lanka\",\"lon\":[80.771797],\"marker\":{\"color\":\"#FF97FF\",\"size\":[56.34],\"sizemode\":\"area\",\"sizeref\":1.7255102040816326,\"symbol\":\"circle\"},\"mode\":\"markers\",\"name\":\"Sri Lanka\",\"showlegend\":true,\"type\":\"scattergeo\"},{\"geo\":\"geo\",\"hovertemplate\":\"\\u003cb\\u003e%{hovertext}\\u003c\\u002fb\\u003e\\u003cbr\\u003e\\u003cbr\\u003eCountry=Azerbaijan\\u003cbr\\u003eAveragScore=%{marker.size}\\u003cbr\\u003elatitude=%{lat}\\u003cbr\\u003elongitude=%{lon}\\u003cextra\\u003e\\u003c\\u002fextra\\u003e\",\"hovertext\":[\"Azerbaijan\"],\"lat\":[40.143105],\"legendgroup\":\"Azerbaijan\",\"lon\":[47.576927],\"marker\":{\"color\":\"#FECB52\",\"size\":[56.26],\"sizemode\":\"area\",\"sizeref\":1.7255102040816326,\"symbol\":\"circle\"},\"mode\":\"markers\",\"name\":\"Azerbaijan\",\"showlegend\":true,\"type\":\"scattergeo\"},{\"geo\":\"geo\",\"hovertemplate\":\"\\u003cb\\u003e%{hovertext}\\u003c\\u002fb\\u003e\\u003cbr\\u003e\\u003cbr\\u003eCountry=Belize\\u003cbr\\u003eAveragScore=%{marker.size}\\u003cbr\\u003elatitude=%{lat}\\u003cbr\\u003elongitude=%{lon}\\u003cextra\\u003e\\u003c\\u002fextra\\u003e\",\"hovertext\":[\"Belize\"],\"lat\":[17.189877],\"legendgroup\":\"Belize\",\"lon\":[-88.49765],\"marker\":{\"color\":\"#636efa\",\"size\":[55.91],\"sizemode\":\"area\",\"sizeref\":1.7255102040816326,\"symbol\":\"circle\"},\"mode\":\"markers\",\"name\":\"Belize\",\"showlegend\":true,\"type\":\"scattergeo\"},{\"geo\":\"geo\",\"hovertemplate\":\"\\u003cb\\u003e%{hovertext}\\u003c\\u002fb\\u003e\\u003cbr\\u003e\\u003cbr\\u003eCountry=Kyrgyzstan\\u003cbr\\u003eAveragScore=%{marker.size}\\u003cbr\\u003elatitude=%{lat}\\u003cbr\\u003elongitude=%{lon}\\u003cextra\\u003e\\u003c\\u002fextra\\u003e\",\"hovertext\":[\"Kyrgyzstan\"],\"lat\":[41.20438],\"legendgroup\":\"Kyrgyzstan\",\"lon\":[74.766098],\"marker\":{\"color\":\"#EF553B\",\"size\":[55.75],\"sizemode\":\"area\",\"sizeref\":1.7255102040816326,\"symbol\":\"circle\"},\"mode\":\"markers\",\"name\":\"Kyrgyzstan\",\"showlegend\":true,\"type\":\"scattergeo\"},{\"geo\":\"geo\",\"hovertemplate\":\"\\u003cb\\u003e%{hovertext}\\u003c\\u002fb\\u003e\\u003cbr\\u003e\\u003cbr\\u003eCountry=Turkey\\u003cbr\\u003eAveragScore=%{marker.size}\\u003cbr\\u003elatitude=%{lat}\\u003cbr\\u003elongitude=%{lon}\\u003cextra\\u003e\\u003c\\u002fextra\\u003e\",\"hovertext\":[\"Turkey\"],\"lat\":[38.963745],\"legendgroup\":\"Turkey\",\"lon\":[35.243322],\"marker\":{\"color\":\"#00cc96\",\"size\":[55.5],\"sizemode\":\"area\",\"sizeref\":1.7255102040816326,\"symbol\":\"circle\"},\"mode\":\"markers\",\"name\":\"Turkey\",\"showlegend\":true,\"type\":\"scattergeo\"},{\"geo\":\"geo\",\"hovertemplate\":\"\\u003cb\\u003e%{hovertext}\\u003c\\u002fb\\u003e\\u003cbr\\u003e\\u003cbr\\u003eCountry=Morocco\\u003cbr\\u003eAveragScore=%{marker.size}\\u003cbr\\u003elatitude=%{lat}\\u003cbr\\u003elongitude=%{lon}\\u003cextra\\u003e\\u003c\\u002fextra\\u003e\",\"hovertext\":[\"Morocco\"],\"lat\":[31.791702],\"legendgroup\":\"Morocco\",\"lon\":[-7.09262],\"marker\":{\"color\":\"#ab63fa\",\"size\":[55.19],\"sizemode\":\"area\",\"sizeref\":1.7255102040816326,\"symbol\":\"circle\"},\"mode\":\"markers\",\"name\":\"Morocco\",\"showlegend\":true,\"type\":\"scattergeo\"},{\"geo\":\"geo\",\"hovertemplate\":\"\\u003cb\\u003e%{hovertext}\\u003c\\u002fb\\u003e\\u003cbr\\u003e\\u003cbr\\u003eCountry=El Salvador\\u003cbr\\u003eAveragScore=%{marker.size}\\u003cbr\\u003elatitude=%{lat}\\u003cbr\\u003elongitude=%{lon}\\u003cextra\\u003e\\u003c\\u002fextra\\u003e\",\"hovertext\":[\"El Salvador\"],\"lat\":[13.794185],\"legendgroup\":\"El Salvador\",\"lon\":[-88.89653],\"marker\":{\"color\":\"#FFA15A\",\"size\":[55.05],\"sizemode\":\"area\",\"sizeref\":1.7255102040816326,\"symbol\":\"circle\"},\"mode\":\"markers\",\"name\":\"El Salvador\",\"showlegend\":true,\"type\":\"scattergeo\"},{\"geo\":\"geo\",\"hovertemplate\":\"\\u003cb\\u003e%{hovertext}\\u003c\\u002fb\\u003e\\u003cbr\\u003e\\u003cbr\\u003eCountry=Ghana\\u003cbr\\u003eAveragScore=%{marker.size}\\u003cbr\\u003elatitude=%{lat}\\u003cbr\\u003elongitude=%{lon}\\u003cextra\\u003e\\u003c\\u002fextra\\u003e\",\"hovertext\":[\"Ghana\"],\"lat\":[7.946527],\"legendgroup\":\"Ghana\",\"lon\":[-1.023194],\"marker\":{\"color\":\"#19d3f3\",\"size\":[54.66],\"sizemode\":\"area\",\"sizeref\":1.7255102040816326,\"symbol\":\"circle\"},\"mode\":\"markers\",\"name\":\"Ghana\",\"showlegend\":true,\"type\":\"scattergeo\"},{\"geo\":\"geo\",\"hovertemplate\":\"\\u003cb\\u003e%{hovertext}\\u003c\\u002fb\\u003e\\u003cbr\\u003e\\u003cbr\\u003eCountry=Tunisia\\u003cbr\\u003eAveragScore=%{marker.size}\\u003cbr\\u003elatitude=%{lat}\\u003cbr\\u003elongitude=%{lon}\\u003cextra\\u003e\\u003c\\u002fextra\\u003e\",\"hovertext\":[\"Tunisia\"],\"lat\":[33.886917],\"legendgroup\":\"Tunisia\",\"lon\":[9.537499],\"marker\":{\"color\":\"#FF6692\",\"size\":[54.46],\"sizemode\":\"area\",\"sizeref\":1.7255102040816326,\"symbol\":\"circle\"},\"mode\":\"markers\",\"name\":\"Tunisia\",\"showlegend\":true,\"type\":\"scattergeo\"},{\"geo\":\"geo\",\"hovertemplate\":\"\\u003cb\\u003e%{hovertext}\\u003c\\u002fb\\u003e\\u003cbr\\u003e\\u003cbr\\u003eCountry=Uzbekistan\\u003cbr\\u003eAveragScore=%{marker.size}\\u003cbr\\u003elatitude=%{lat}\\u003cbr\\u003elongitude=%{lon}\\u003cextra\\u003e\\u003c\\u002fextra\\u003e\",\"hovertext\":[\"Uzbekistan\"],\"lat\":[41.377491],\"legendgroup\":\"Uzbekistan\",\"lon\":[64.585262],\"marker\":{\"color\":\"#B6E880\",\"size\":[53.8],\"sizemode\":\"area\",\"sizeref\":1.7255102040816326,\"symbol\":\"circle\"},\"mode\":\"markers\",\"name\":\"Uzbekistan\",\"showlegend\":true,\"type\":\"scattergeo\"},{\"geo\":\"geo\",\"hovertemplate\":\"\\u003cb\\u003e%{hovertext}\\u003c\\u002fb\\u003e\\u003cbr\\u003e\\u003cbr\\u003eCountry=Guatemala\\u003cbr\\u003eAveragScore=%{marker.size}\\u003cbr\\u003elatitude=%{lat}\\u003cbr\\u003elongitude=%{lon}\\u003cextra\\u003e\\u003c\\u002fextra\\u003e\",\"hovertext\":[\"Guatemala\"],\"lat\":[15.783471],\"legendgroup\":\"Guatemala\",\"lon\":[-90.230759],\"marker\":{\"color\":\"#FF97FF\",\"size\":[53.73],\"sizemode\":\"area\",\"sizeref\":1.7255102040816326,\"symbol\":\"circle\"},\"mode\":\"markers\",\"name\":\"Guatemala\",\"showlegend\":true,\"type\":\"scattergeo\"},{\"geo\":\"geo\",\"hovertemplate\":\"\\u003cb\\u003e%{hovertext}\\u003c\\u002fb\\u003e\\u003cbr\\u003e\\u003cbr\\u003eCountry=Senegal\\u003cbr\\u003eAveragScore=%{marker.size}\\u003cbr\\u003elatitude=%{lat}\\u003cbr\\u003elongitude=%{lon}\\u003cextra\\u003e\\u003c\\u002fextra\\u003e\",\"hovertext\":[\"Senegal\"],\"lat\":[14.497401],\"legendgroup\":\"Senegal\",\"lon\":[-14.452362],\"marker\":{\"color\":\"#FECB52\",\"size\":[53.68],\"sizemode\":\"area\",\"sizeref\":1.7255102040816326,\"symbol\":\"circle\"},\"mode\":\"markers\",\"name\":\"Senegal\",\"showlegend\":true,\"type\":\"scattergeo\"},{\"geo\":\"geo\",\"hovertemplate\":\"\\u003cb\\u003e%{hovertext}\\u003c\\u002fb\\u003e\\u003cbr\\u003e\\u003cbr\\u003eCountry=India\\u003cbr\\u003eAveragScore=%{marker.size}\\u003cbr\\u003elatitude=%{lat}\\u003cbr\\u003elongitude=%{lon}\\u003cextra\\u003e\\u003c\\u002fextra\\u003e\",\"hovertext\":[\"India\"],\"lat\":[20.593684],\"legendgroup\":\"India\",\"lon\":[78.96288],\"marker\":{\"color\":\"#636efa\",\"size\":[53.66],\"sizemode\":\"area\",\"sizeref\":1.7255102040816326,\"symbol\":\"circle\"},\"mode\":\"markers\",\"name\":\"India\",\"showlegend\":true,\"type\":\"scattergeo\"},{\"geo\":\"geo\",\"hovertemplate\":\"\\u003cb\\u003e%{hovertext}\\u003c\\u002fb\\u003e\\u003cbr\\u003e\\u003cbr\\u003eCountry=Cuba\\u003cbr\\u003eAveragScore=%{marker.size}\\u003cbr\\u003elatitude=%{lat}\\u003cbr\\u003elongitude=%{lon}\\u003cextra\\u003e\\u003c\\u002fextra\\u003e\",\"hovertext\":[\"Cuba\"],\"lat\":[21.521757],\"legendgroup\":\"Cuba\",\"lon\":[-77.781167],\"marker\":{\"color\":\"#EF553B\",\"size\":[53.44],\"sizemode\":\"area\",\"sizeref\":1.7255102040816326,\"symbol\":\"circle\"},\"mode\":\"markers\",\"name\":\"Cuba\",\"showlegend\":true,\"type\":\"scattergeo\"},{\"geo\":\"geo\",\"hovertemplate\":\"\\u003cb\\u003e%{hovertext}\\u003c\\u002fb\\u003e\\u003cbr\\u003e\\u003cbr\\u003eCountry=Honduras\\u003cbr\\u003eAveragScore=%{marker.size}\\u003cbr\\u003elatitude=%{lat}\\u003cbr\\u003elongitude=%{lon}\\u003cextra\\u003e\\u003c\\u002fextra\\u003e\",\"hovertext\":[\"Honduras\"],\"lat\":[15.199999],\"legendgroup\":\"Honduras\",\"lon\":[-86.241905],\"marker\":{\"color\":\"#00cc96\",\"size\":[53.25],\"sizemode\":\"area\",\"sizeref\":1.7255102040816326,\"symbol\":\"circle\"},\"mode\":\"markers\",\"name\":\"Honduras\",\"showlegend\":true,\"type\":\"scattergeo\"},{\"geo\":\"geo\",\"hovertemplate\":\"\\u003cb\\u003e%{hovertext}\\u003c\\u002fb\\u003e\\u003cbr\\u003e\\u003cbr\\u003eCountry=Bolivia\\u003cbr\\u003eAveragScore=%{marker.size}\\u003cbr\\u003elatitude=%{lat}\\u003cbr\\u003elongitude=%{lon}\\u003cextra\\u003e\\u003c\\u002fextra\\u003e\",\"hovertext\":[\"Bolivia\"],\"lat\":[-16.290154],\"legendgroup\":\"Bolivia\",\"lon\":[-63.588653],\"marker\":{\"color\":\"#ab63fa\",\"size\":[53.13],\"sizemode\":\"area\",\"sizeref\":1.7255102040816326,\"symbol\":\"circle\"},\"mode\":\"markers\",\"name\":\"Bolivia\",\"showlegend\":true,\"type\":\"scattergeo\"},{\"geo\":\"geo\",\"hovertemplate\":\"\\u003cb\\u003e%{hovertext}\\u003c\\u002fb\\u003e\\u003cbr\\u003e\\u003cbr\\u003eCountry=Turkmenistan\\u003cbr\\u003eAveragScore=%{marker.size}\\u003cbr\\u003elatitude=%{lat}\\u003cbr\\u003elongitude=%{lon}\\u003cextra\\u003e\\u003c\\u002fextra\\u003e\",\"hovertext\":[\"Turkmenistan\"],\"lat\":[38.969719],\"legendgroup\":\"Turkmenistan\",\"lon\":[59.556278],\"marker\":{\"color\":\"#FFA15A\",\"size\":[52.38],\"sizemode\":\"area\",\"sizeref\":1.7255102040816326,\"symbol\":\"circle\"},\"mode\":\"markers\",\"name\":\"Turkmenistan\",\"showlegend\":true,\"type\":\"scattergeo\"},{\"geo\":\"geo\",\"hovertemplate\":\"\\u003cb\\u003e%{hovertext}\\u003c\\u002fb\\u003e\\u003cbr\\u003e\\u003cbr\\u003eCountry=Kenya\\u003cbr\\u003eAveragScore=%{marker.size}\\u003cbr\\u003elatitude=%{lat}\\u003cbr\\u003elongitude=%{lon}\\u003cextra\\u003e\\u003c\\u002fextra\\u003e\",\"hovertext\":[\"Kenya\"],\"lat\":[-0.023559],\"legendgroup\":\"Kenya\",\"lon\":[37.906193],\"marker\":{\"color\":\"#19d3f3\",\"size\":[52.25],\"sizemode\":\"area\",\"sizeref\":1.7255102040816326,\"symbol\":\"circle\"},\"mode\":\"markers\",\"name\":\"Kenya\",\"showlegend\":true,\"type\":\"scattergeo\"},{\"geo\":\"geo\",\"hovertemplate\":\"\\u003cb\\u003e%{hovertext}\\u003c\\u002fb\\u003e\\u003cbr\\u003e\\u003cbr\\u003eCountry=Algeria\\u003cbr\\u003eAveragScore=%{marker.size}\\u003cbr\\u003elatitude=%{lat}\\u003cbr\\u003elongitude=%{lon}\\u003cextra\\u003e\\u003c\\u002fextra\\u003e\",\"hovertext\":[\"Algeria\"],\"lat\":[28.033886],\"legendgroup\":\"Algeria\",\"lon\":[1.659626],\"marker\":{\"color\":\"#FF6692\",\"size\":[52.13],\"sizemode\":\"area\",\"sizeref\":1.7255102040816326,\"symbol\":\"circle\"},\"mode\":\"markers\",\"name\":\"Algeria\",\"showlegend\":true,\"type\":\"scattergeo\"},{\"geo\":\"geo\",\"hovertemplate\":\"\\u003cb\\u003e%{hovertext}\\u003c\\u002fb\\u003e\\u003cbr\\u003e\\u003cbr\\u003eCountry=Nepal\\u003cbr\\u003eAveragScore=%{marker.size}\\u003cbr\\u003elatitude=%{lat}\\u003cbr\\u003elongitude=%{lon}\\u003cextra\\u003e\\u003c\\u002fextra\\u003e\",\"hovertext\":[\"Nepal\"],\"lat\":[28.394857],\"legendgroup\":\"Nepal\",\"lon\":[84.124008],\"marker\":{\"color\":\"#B6E880\",\"size\":[51.57],\"sizemode\":\"area\",\"sizeref\":1.7255102040816326,\"symbol\":\"circle\"},\"mode\":\"markers\",\"name\":\"Nepal\",\"showlegend\":true,\"type\":\"scattergeo\"},{\"geo\":\"geo\",\"hovertemplate\":\"\\u003cb\\u003e%{hovertext}\\u003c\\u002fb\\u003e\\u003cbr\\u003e\\u003cbr\\u003eCountry=Rwanda\\u003cbr\\u003eAveragScore=%{marker.size}\\u003cbr\\u003elatitude=%{lat}\\u003cbr\\u003elongitude=%{lon}\\u003cextra\\u003e\\u003c\\u002fextra\\u003e\",\"hovertext\":[\"Rwanda\"],\"lat\":[-1.940278],\"legendgroup\":\"Rwanda\",\"lon\":[29.873888],\"marker\":{\"color\":\"#FF97FF\",\"size\":[51.56],\"sizemode\":\"area\",\"sizeref\":1.7255102040816326,\"symbol\":\"circle\"},\"mode\":\"markers\",\"name\":\"Rwanda\",\"showlegend\":true,\"type\":\"scattergeo\"},{\"geo\":\"geo\",\"hovertemplate\":\"\\u003cb\\u003e%{hovertext}\\u003c\\u002fb\\u003e\\u003cbr\\u003e\\u003cbr\\u003eCountry=Lebanon\\u003cbr\\u003eAveragScore=%{marker.size}\\u003cbr\\u003elatitude=%{lat}\\u003cbr\\u003elongitude=%{lon}\\u003cextra\\u003e\\u003c\\u002fextra\\u003e\",\"hovertext\":[\"Lebanon\"],\"lat\":[33.854721],\"legendgroup\":\"Lebanon\",\"lon\":[35.862285],\"marker\":{\"color\":\"#FECB52\",\"size\":[51.38],\"sizemode\":\"area\",\"sizeref\":1.7255102040816326,\"symbol\":\"circle\"},\"mode\":\"markers\",\"name\":\"Lebanon\",\"showlegend\":true,\"type\":\"scattergeo\"},{\"geo\":\"geo\",\"hovertemplate\":\"\\u003cb\\u003e%{hovertext}\\u003c\\u002fb\\u003e\\u003cbr\\u003e\\u003cbr\\u003eCountry=Tajikistan\\u003cbr\\u003eAveragScore=%{marker.size}\\u003cbr\\u003elatitude=%{lat}\\u003cbr\\u003elongitude=%{lon}\\u003cextra\\u003e\\u003c\\u002fextra\\u003e\",\"hovertext\":[\"Tajikistan\"],\"lat\":[38.861034],\"legendgroup\":\"Tajikistan\",\"lon\":[71.276093],\"marker\":{\"color\":\"#636efa\",\"size\":[51.2],\"sizemode\":\"area\",\"sizeref\":1.7255102040816326,\"symbol\":\"circle\"},\"mode\":\"markers\",\"name\":\"Tajikistan\",\"showlegend\":true,\"type\":\"scattergeo\"},{\"geo\":\"geo\",\"hovertemplate\":\"\\u003cb\\u003e%{hovertext}\\u003c\\u002fb\\u003e\\u003cbr\\u003e\\u003cbr\\u003eCountry=Nicaragua\\u003cbr\\u003eAveragScore=%{marker.size}\\u003cbr\\u003elatitude=%{lat}\\u003cbr\\u003elongitude=%{lon}\\u003cextra\\u003e\\u003c\\u002fextra\\u003e\",\"hovertext\":[\"Nicaragua\"],\"lat\":[12.865416],\"legendgroup\":\"Nicaragua\",\"lon\":[-85.207229],\"marker\":{\"color\":\"#EF553B\",\"size\":[50.22],\"sizemode\":\"area\",\"sizeref\":1.7255102040816326,\"symbol\":\"circle\"},\"mode\":\"markers\",\"name\":\"Nicaragua\",\"showlegend\":true,\"type\":\"scattergeo\"},{\"geo\":\"geo\",\"hovertemplate\":\"\\u003cb\\u003e%{hovertext}\\u003c\\u002fb\\u003e\\u003cbr\\u003e\\u003cbr\\u003eCountry=Laos\\u003cbr\\u003eAveragScore=%{marker.size}\\u003cbr\\u003elatitude=%{lat}\\u003cbr\\u003elongitude=%{lon}\\u003cextra\\u003e\\u003c\\u002fextra\\u003e\",\"hovertext\":[\"Laos\"],\"lat\":[19.85627],\"legendgroup\":\"Laos\",\"lon\":[102.495496],\"marker\":{\"color\":\"#00cc96\",\"size\":[50.18],\"sizemode\":\"area\",\"sizeref\":1.7255102040816326,\"symbol\":\"circle\"},\"mode\":\"markers\",\"name\":\"Laos\",\"showlegend\":true,\"type\":\"scattergeo\"},{\"geo\":\"geo\",\"hovertemplate\":\"\\u003cb\\u003e%{hovertext}\\u003c\\u002fb\\u003e\\u003cbr\\u003e\\u003cbr\\u003eCountry=Gambia\\u003cbr\\u003eAveragScore=%{marker.size}\\u003cbr\\u003elatitude=%{lat}\\u003cbr\\u003elongitude=%{lon}\\u003cextra\\u003e\\u003c\\u002fextra\\u003e\",\"hovertext\":[\"Gambia\"],\"lat\":[13.443182],\"legendgroup\":\"Gambia\",\"lon\":[-15.310139],\"marker\":{\"color\":\"#ab63fa\",\"size\":[50.1],\"sizemode\":\"area\",\"sizeref\":1.7255102040816326,\"symbol\":\"circle\"},\"mode\":\"markers\",\"name\":\"Gambia\",\"showlegend\":true,\"type\":\"scattergeo\"},{\"geo\":\"geo\",\"hovertemplate\":\"\\u003cb\\u003e%{hovertext}\\u003c\\u002fb\\u003e\\u003cbr\\u003e\\u003cbr\\u003eCountry=Tanzania\\u003cbr\\u003eAveragScore=%{marker.size}\\u003cbr\\u003elatitude=%{lat}\\u003cbr\\u003elongitude=%{lon}\\u003cextra\\u003e\\u003c\\u002fextra\\u003e\",\"hovertext\":[\"Tanzania\"],\"lat\":[-6.369028],\"legendgroup\":\"Tanzania\",\"lon\":[34.888822],\"marker\":{\"color\":\"#FFA15A\",\"size\":[49.2],\"sizemode\":\"area\",\"sizeref\":1.7255102040816326,\"symbol\":\"circle\"},\"mode\":\"markers\",\"name\":\"Tanzania\",\"showlegend\":true,\"type\":\"scattergeo\"},{\"geo\":\"geo\",\"hovertemplate\":\"\\u003cb\\u003e%{hovertext}\\u003c\\u002fb\\u003e\\u003cbr\\u003e\\u003cbr\\u003eCountry=Cambodia\\u003cbr\\u003eAveragScore=%{marker.size}\\u003cbr\\u003elatitude=%{lat}\\u003cbr\\u003elongitude=%{lon}\\u003cextra\\u003e\\u003c\\u002fextra\\u003e\",\"hovertext\":[\"Cambodia\"],\"lat\":[12.565679],\"legendgroup\":\"Cambodia\",\"lon\":[104.990963],\"marker\":{\"color\":\"#19d3f3\",\"size\":[49.19],\"sizemode\":\"area\",\"sizeref\":1.7255102040816326,\"symbol\":\"circle\"},\"mode\":\"markers\",\"name\":\"Cambodia\",\"showlegend\":true,\"type\":\"scattergeo\"},{\"geo\":\"geo\",\"hovertemplate\":\"\\u003cb\\u003e%{hovertext}\\u003c\\u002fb\\u003e\\u003cbr\\u003e\\u003cbr\\u003eCountry=Gabon\\u003cbr\\u003eAveragScore=%{marker.size}\\u003cbr\\u003elatitude=%{lat}\\u003cbr\\u003elongitude=%{lon}\\u003cextra\\u003e\\u003c\\u002fextra\\u003e\",\"hovertext\":[\"Gabon\"],\"lat\":[-0.803689],\"legendgroup\":\"Gabon\",\"lon\":[11.609444],\"marker\":{\"color\":\"#FF6692\",\"size\":[48.84],\"sizemode\":\"area\",\"sizeref\":1.7255102040816326,\"symbol\":\"circle\"},\"mode\":\"markers\",\"name\":\"Gabon\",\"showlegend\":true,\"type\":\"scattergeo\"},{\"geo\":\"geo\",\"hovertemplate\":\"\\u003cb\\u003e%{hovertext}\\u003c\\u002fb\\u003e\\u003cbr\\u003e\\u003cbr\\u003eCountry=C\\u00f4te d'Ivoire\\u003cbr\\u003eAveragScore=%{marker.size}\\u003cbr\\u003elatitude=%{lat}\\u003cbr\\u003elongitude=%{lon}\\u003cextra\\u003e\\u003c\\u002fextra\\u003e\",\"hovertext\":[\"C\\u00f4te d'Ivoire\"],\"lat\":[7.539989],\"legendgroup\":\"C\\u00f4te d'Ivoire\",\"lon\":[-5.54708],\"marker\":{\"color\":\"#B6E880\",\"size\":[48.59],\"sizemode\":\"area\",\"sizeref\":1.7255102040816326,\"symbol\":\"circle\"},\"mode\":\"markers\",\"name\":\"C\\u00f4te d'Ivoire\",\"showlegend\":true,\"type\":\"scattergeo\"},{\"geo\":\"geo\",\"hovertemplate\":\"\\u003cb\\u003e%{hovertext}\\u003c\\u002fb\\u003e\\u003cbr\\u003e\\u003cbr\\u003eCountry=Egypt\\u003cbr\\u003eAveragScore=%{marker.size}\\u003cbr\\u003elatitude=%{lat}\\u003cbr\\u003elongitude=%{lon}\\u003cextra\\u003e\\u003c\\u002fextra\\u003e\",\"hovertext\":[\"Egypt\"],\"lat\":[26.820553],\"legendgroup\":\"Egypt\",\"lon\":[30.802498],\"marker\":{\"color\":\"#FF97FF\",\"size\":[48.57],\"sizemode\":\"area\",\"sizeref\":1.7255102040816326,\"symbol\":\"circle\"},\"mode\":\"markers\",\"name\":\"Egypt\",\"showlegend\":true,\"type\":\"scattergeo\"},{\"geo\":\"geo\",\"hovertemplate\":\"\\u003cb\\u003e%{hovertext}\\u003c\\u002fb\\u003e\\u003cbr\\u003e\\u003cbr\\u003eCountry=Djibouti\\u003cbr\\u003eAveragScore=%{marker.size}\\u003cbr\\u003elatitude=%{lat}\\u003cbr\\u003elongitude=%{lon}\\u003cextra\\u003e\\u003c\\u002fextra\\u003e\",\"hovertext\":[\"Djibouti\"],\"lat\":[11.825138],\"legendgroup\":\"Djibouti\",\"lon\":[42.590275],\"marker\":{\"color\":\"#FECB52\",\"size\":[48.47],\"sizemode\":\"area\",\"sizeref\":1.7255102040816326,\"symbol\":\"circle\"},\"mode\":\"markers\",\"name\":\"Djibouti\",\"showlegend\":true,\"type\":\"scattergeo\"},{\"geo\":\"geo\",\"hovertemplate\":\"\\u003cb\\u003e%{hovertext}\\u003c\\u002fb\\u003e\\u003cbr\\u003e\\u003cbr\\u003eCountry=Benin\\u003cbr\\u003eAveragScore=%{marker.size}\\u003cbr\\u003elatitude=%{lat}\\u003cbr\\u003elongitude=%{lon}\\u003cextra\\u003e\\u003c\\u002fextra\\u003e\",\"hovertext\":[\"Benin\"],\"lat\":[9.30769],\"legendgroup\":\"Benin\",\"lon\":[2.315834],\"marker\":{\"color\":\"#636efa\",\"size\":[48.22],\"sizemode\":\"area\",\"sizeref\":1.7255102040816326,\"symbol\":\"circle\"},\"mode\":\"markers\",\"name\":\"Benin\",\"showlegend\":true,\"type\":\"scattergeo\"},{\"geo\":\"geo\",\"hovertemplate\":\"\\u003cb\\u003e%{hovertext}\\u003c\\u002fb\\u003e\\u003cbr\\u003e\\u003cbr\\u003eCountry=Bangladesh\\u003cbr\\u003eAveragScore=%{marker.size}\\u003cbr\\u003elatitude=%{lat}\\u003cbr\\u003elongitude=%{lon}\\u003cextra\\u003e\\u003c\\u002fextra\\u003e\",\"hovertext\":[\"Bangladesh\"],\"lat\":[23.684994],\"legendgroup\":\"Bangladesh\",\"lon\":[90.356331],\"marker\":{\"color\":\"#EF553B\",\"size\":[47.87],\"sizemode\":\"area\",\"sizeref\":1.7255102040816326,\"symbol\":\"circle\"},\"mode\":\"markers\",\"name\":\"Bangladesh\",\"showlegend\":true,\"type\":\"scattergeo\"},{\"geo\":\"geo\",\"hovertemplate\":\"\\u003cb\\u003e%{hovertext}\\u003c\\u002fb\\u003e\\u003cbr\\u003e\\u003cbr\\u003eCountry=Malawi\\u003cbr\\u003eAveragScore=%{marker.size}\\u003cbr\\u003elatitude=%{lat}\\u003cbr\\u003elongitude=%{lon}\\u003cextra\\u003e\\u003c\\u002fextra\\u003e\",\"hovertext\":[\"Malawi\"],\"lat\":[-13.254308],\"legendgroup\":\"Malawi\",\"lon\":[34.301525],\"marker\":{\"color\":\"#00cc96\",\"size\":[47.83],\"sizemode\":\"area\",\"sizeref\":1.7255102040816326,\"symbol\":\"circle\"},\"mode\":\"markers\",\"name\":\"Malawi\",\"showlegend\":true,\"type\":\"scattergeo\"},{\"geo\":\"geo\",\"hovertemplate\":\"\\u003cb\\u003e%{hovertext}\\u003c\\u002fb\\u003e\\u003cbr\\u003e\\u003cbr\\u003eCountry=Iran\\u003cbr\\u003eAveragScore=%{marker.size}\\u003cbr\\u003elatitude=%{lat}\\u003cbr\\u003elongitude=%{lon}\\u003cextra\\u003e\\u003c\\u002fextra\\u003e\",\"hovertext\":[\"Iran\"],\"lat\":[32.427908],\"legendgroup\":\"Iran\",\"lon\":[53.688046],\"marker\":{\"color\":\"#ab63fa\",\"size\":[47.71],\"sizemode\":\"area\",\"sizeref\":1.7255102040816326,\"symbol\":\"circle\"},\"mode\":\"markers\",\"name\":\"Iran\",\"showlegend\":true,\"type\":\"scattergeo\"},{\"geo\":\"geo\",\"hovertemplate\":\"\\u003cb\\u003e%{hovertext}\\u003c\\u002fb\\u003e\\u003cbr\\u003e\\u003cbr\\u003eCountry=Zambia\\u003cbr\\u003eAveragScore=%{marker.size}\\u003cbr\\u003elatitude=%{lat}\\u003cbr\\u003elongitude=%{lon}\\u003cextra\\u003e\\u003c\\u002fextra\\u003e\",\"hovertext\":[\"Zambia\"],\"lat\":[-13.133897],\"legendgroup\":\"Zambia\",\"lon\":[27.849332],\"marker\":{\"color\":\"#FFA15A\",\"size\":[47.14],\"sizemode\":\"area\",\"sizeref\":1.7255102040816326,\"symbol\":\"circle\"},\"mode\":\"markers\",\"name\":\"Zambia\",\"showlegend\":true,\"type\":\"scattergeo\"},{\"geo\":\"geo\",\"hovertemplate\":\"\\u003cb\\u003e%{hovertext}\\u003c\\u002fb\\u003e\\u003cbr\\u003e\\u003cbr\\u003eCountry=Comoros\\u003cbr\\u003eAveragScore=%{marker.size}\\u003cbr\\u003elatitude=%{lat}\\u003cbr\\u003elongitude=%{lon}\\u003cextra\\u003e\\u003c\\u002fextra\\u003e\",\"hovertext\":[\"Comoros\"],\"lat\":[-11.875001],\"legendgroup\":\"Comoros\",\"lon\":[43.872219],\"marker\":{\"color\":\"#19d3f3\",\"size\":[46.93],\"sizemode\":\"area\",\"sizeref\":1.7255102040816326,\"symbol\":\"circle\"},\"mode\":\"markers\",\"name\":\"Comoros\",\"showlegend\":true,\"type\":\"scattergeo\"},{\"geo\":\"geo\",\"hovertemplate\":\"\\u003cb\\u003e%{hovertext}\\u003c\\u002fb\\u003e\\u003cbr\\u003e\\u003cbr\\u003eCountry=Uganda\\u003cbr\\u003eAveragScore=%{marker.size}\\u003cbr\\u003elatitude=%{lat}\\u003cbr\\u003elongitude=%{lon}\\u003cextra\\u003e\\u003c\\u002fextra\\u003e\",\"hovertext\":[\"Uganda\"],\"lat\":[1.373333],\"legendgroup\":\"Uganda\",\"lon\":[32.290275],\"marker\":{\"color\":\"#FF6692\",\"size\":[46.83],\"sizemode\":\"area\",\"sizeref\":1.7255102040816326,\"symbol\":\"circle\"},\"mode\":\"markers\",\"name\":\"Uganda\",\"showlegend\":true,\"type\":\"scattergeo\"},{\"geo\":\"geo\",\"hovertemplate\":\"\\u003cb\\u003e%{hovertext}\\u003c\\u002fb\\u003e\\u003cbr\\u003e\\u003cbr\\u003eCountry=Papua New Guinea\\u003cbr\\u003eAveragScore=%{marker.size}\\u003cbr\\u003elatitude=%{lat}\\u003cbr\\u003elongitude=%{lon}\\u003cextra\\u003e\\u003c\\u002fextra\\u003e\",\"hovertext\":[\"Papua New Guinea\"],\"lat\":[-6.314993],\"legendgroup\":\"Papua New Guinea\",\"lon\":[143.95555],\"marker\":{\"color\":\"#B6E880\",\"size\":[46.64],\"sizemode\":\"area\",\"sizeref\":1.7255102040816326,\"symbol\":\"circle\"},\"mode\":\"markers\",\"name\":\"Papua New Guinea\",\"showlegend\":true,\"type\":\"scattergeo\"},{\"geo\":\"geo\",\"hovertemplate\":\"\\u003cb\\u003e%{hovertext}\\u003c\\u002fb\\u003e\\u003cbr\\u003e\\u003cbr\\u003eCountry=Equatorial Guinea\\u003cbr\\u003eAveragScore=%{marker.size}\\u003cbr\\u003elatitude=%{lat}\\u003cbr\\u003elongitude=%{lon}\\u003cextra\\u003e\\u003c\\u002fextra\\u003e\",\"hovertext\":[\"Equatorial Guinea\"],\"lat\":[1.650801],\"legendgroup\":\"Equatorial Guinea\",\"lon\":[10.267895],\"marker\":{\"color\":\"#FF97FF\",\"size\":[46.59],\"sizemode\":\"area\",\"sizeref\":1.7255102040816326,\"symbol\":\"circle\"},\"mode\":\"markers\",\"name\":\"Equatorial Guinea\",\"showlegend\":true,\"type\":\"scattergeo\"},{\"geo\":\"geo\",\"hovertemplate\":\"\\u003cb\\u003e%{hovertext}\\u003c\\u002fb\\u003e\\u003cbr\\u003e\\u003cbr\\u003eCountry=Lesotho\\u003cbr\\u003eAveragScore=%{marker.size}\\u003cbr\\u003elatitude=%{lat}\\u003cbr\\u003elongitude=%{lon}\\u003cextra\\u003e\\u003c\\u002fextra\\u003e\",\"hovertext\":[\"Lesotho\"],\"lat\":[-29.609988],\"legendgroup\":\"Lesotho\",\"lon\":[28.233608],\"marker\":{\"color\":\"#FECB52\",\"size\":[45.62],\"sizemode\":\"area\",\"sizeref\":1.7255102040816326,\"symbol\":\"circle\"},\"mode\":\"markers\",\"name\":\"Lesotho\",\"showlegend\":true,\"type\":\"scattergeo\"},{\"geo\":\"geo\",\"hovertemplate\":\"\\u003cb\\u003e%{hovertext}\\u003c\\u002fb\\u003e\\u003cbr\\u003e\\u003cbr\\u003eCountry=Togo\\u003cbr\\u003eAveragScore=%{marker.size}\\u003cbr\\u003elatitude=%{lat}\\u003cbr\\u003elongitude=%{lon}\\u003cextra\\u003e\\u003c\\u002fextra\\u003e\",\"hovertext\":[\"Togo\"],\"lat\":[8.619543],\"legendgroup\":\"Togo\",\"lon\":[0.824782],\"marker\":{\"color\":\"#636efa\",\"size\":[45.52],\"sizemode\":\"area\",\"sizeref\":1.7255102040816326,\"symbol\":\"circle\"},\"mode\":\"markers\",\"name\":\"Togo\",\"showlegend\":true,\"type\":\"scattergeo\"},{\"geo\":\"geo\",\"hovertemplate\":\"\\u003cb\\u003e%{hovertext}\\u003c\\u002fb\\u003e\\u003cbr\\u003e\\u003cbr\\u003eCountry=Swaziland\\u003cbr\\u003eAveragScore=%{marker.size}\\u003cbr\\u003elatitude=%{lat}\\u003cbr\\u003elongitude=%{lon}\\u003cextra\\u003e\\u003c\\u002fextra\\u003e\",\"hovertext\":[\"Swaziland\"],\"lat\":[-26.522503],\"legendgroup\":\"Swaziland\",\"lon\":[31.465866],\"marker\":{\"color\":\"#EF553B\",\"size\":[45.36],\"sizemode\":\"area\",\"sizeref\":1.7255102040816326,\"symbol\":\"circle\"},\"mode\":\"markers\",\"name\":\"Swaziland\",\"showlegend\":true,\"type\":\"scattergeo\"},{\"geo\":\"geo\",\"hovertemplate\":\"\\u003cb\\u003e%{hovertext}\\u003c\\u002fb\\u003e\\u003cbr\\u003e\\u003cbr\\u003eCountry=Burkina Faso\\u003cbr\\u003eAveragScore=%{marker.size}\\u003cbr\\u003elatitude=%{lat}\\u003cbr\\u003elongitude=%{lon}\\u003cextra\\u003e\\u003c\\u002fextra\\u003e\",\"hovertext\":[\"Burkina Faso\"],\"lat\":[12.238333],\"legendgroup\":\"Burkina Faso\",\"lon\":[-1.561593],\"marker\":{\"color\":\"#00cc96\",\"size\":[45.12],\"sizemode\":\"area\",\"sizeref\":1.7255102040816326,\"symbol\":\"circle\"},\"mode\":\"markers\",\"name\":\"Burkina Faso\",\"showlegend\":true,\"type\":\"scattergeo\"},{\"geo\":\"geo\",\"hovertemplate\":\"\\u003cb\\u003e%{hovertext}\\u003c\\u002fb\\u003e\\u003cbr\\u003e\\u003cbr\\u003eCountry=Pakistan\\u003cbr\\u003eAveragScore=%{marker.size}\\u003cbr\\u003elatitude=%{lat}\\u003cbr\\u003elongitude=%{lon}\\u003cextra\\u003e\\u003c\\u002fextra\\u003e\",\"hovertext\":[\"Pakistan\"],\"lat\":[30.375321],\"legendgroup\":\"Pakistan\",\"lon\":[69.345116],\"marker\":{\"color\":\"#ab63fa\",\"size\":[45.1],\"sizemode\":\"area\",\"sizeref\":1.7255102040816326,\"symbol\":\"circle\"},\"mode\":\"markers\",\"name\":\"Pakistan\",\"showlegend\":true,\"type\":\"scattergeo\"},{\"geo\":\"geo\",\"hovertemplate\":\"\\u003cb\\u003e%{hovertext}\\u003c\\u002fb\\u003e\\u003cbr\\u003e\\u003cbr\\u003eCountry=Madagascar\\u003cbr\\u003eAveragScore=%{marker.size}\\u003cbr\\u003elatitude=%{lat}\\u003cbr\\u003elongitude=%{lon}\\u003cextra\\u003e\\u003c\\u002fextra\\u003e\",\"hovertext\":[\"Madagascar\"],\"lat\":[-18.766947],\"legendgroup\":\"Madagascar\",\"lon\":[46.869107],\"marker\":{\"color\":\"#FFA15A\",\"size\":[44.94],\"sizemode\":\"area\",\"sizeref\":1.7255102040816326,\"symbol\":\"circle\"},\"mode\":\"markers\",\"name\":\"Madagascar\",\"showlegend\":true,\"type\":\"scattergeo\"},{\"geo\":\"geo\",\"hovertemplate\":\"\\u003cb\\u003e%{hovertext}\\u003c\\u002fb\\u003e\\u003cbr\\u003e\\u003cbr\\u003eCountry=Liberia\\u003cbr\\u003eAveragScore=%{marker.size}\\u003cbr\\u003elatitude=%{lat}\\u003cbr\\u003elongitude=%{lon}\\u003cextra\\u003e\\u003c\\u002fextra\\u003e\",\"hovertext\":[\"Liberia\"],\"lat\":[6.428055],\"legendgroup\":\"Liberia\",\"lon\":[-9.429499],\"marker\":{\"color\":\"#19d3f3\",\"size\":[44.79],\"sizemode\":\"area\",\"sizeref\":1.7255102040816326,\"symbol\":\"circle\"},\"mode\":\"markers\",\"name\":\"Liberia\",\"showlegend\":true,\"type\":\"scattergeo\"},{\"geo\":\"geo\",\"hovertemplate\":\"\\u003cb\\u003e%{hovertext}\\u003c\\u002fb\\u003e\\u003cbr\\u003e\\u003cbr\\u003eCountry=Zimbabwe\\u003cbr\\u003eAveragScore=%{marker.size}\\u003cbr\\u003elatitude=%{lat}\\u003cbr\\u003elongitude=%{lon}\\u003cextra\\u003e\\u003c\\u002fextra\\u003e\",\"hovertext\":[\"Zimbabwe\"],\"lat\":[-19.015438],\"legendgroup\":\"Zimbabwe\",\"lon\":[29.154857],\"marker\":{\"color\":\"#FF6692\",\"size\":[44.67],\"sizemode\":\"area\",\"sizeref\":1.7255102040816326,\"symbol\":\"circle\"},\"mode\":\"markers\",\"name\":\"Zimbabwe\",\"showlegend\":true,\"type\":\"scattergeo\"},{\"geo\":\"geo\",\"hovertemplate\":\"\\u003cb\\u003e%{hovertext}\\u003c\\u002fb\\u003e\\u003cbr\\u003e\\u003cbr\\u003eCountry=Iraq\\u003cbr\\u003eAveragScore=%{marker.size}\\u003cbr\\u003elatitude=%{lat}\\u003cbr\\u003elongitude=%{lon}\\u003cextra\\u003e\\u003c\\u002fextra\\u003e\",\"hovertext\":[\"Iraq\"],\"lat\":[33.223191],\"legendgroup\":\"Iraq\",\"lon\":[43.679291],\"marker\":{\"color\":\"#B6E880\",\"size\":[44.66],\"sizemode\":\"area\",\"sizeref\":1.7255102040816326,\"symbol\":\"circle\"},\"mode\":\"markers\",\"name\":\"Iraq\",\"showlegend\":true,\"type\":\"scattergeo\"},{\"geo\":\"geo\",\"hovertemplate\":\"\\u003cb\\u003e%{hovertext}\\u003c\\u002fb\\u003e\\u003cbr\\u003e\\u003cbr\\u003eCountry=Guinea\\u003cbr\\u003eAveragScore=%{marker.size}\\u003cbr\\u003elatitude=%{lat}\\u003cbr\\u003elongitude=%{lon}\\u003cextra\\u003e\\u003c\\u002fextra\\u003e\",\"hovertext\":[\"Guinea\"],\"lat\":[9.945587],\"legendgroup\":\"Guinea\",\"lon\":[-9.696645],\"marker\":{\"color\":\"#FF97FF\",\"size\":[44.47],\"sizemode\":\"area\",\"sizeref\":1.7255102040816326,\"symbol\":\"circle\"},\"mode\":\"markers\",\"name\":\"Guinea\",\"showlegend\":true,\"type\":\"scattergeo\"},{\"geo\":\"geo\",\"hovertemplate\":\"\\u003cb\\u003e%{hovertext}\\u003c\\u002fb\\u003e\\u003cbr\\u003e\\u003cbr\\u003eCountry=Nigeria\\u003cbr\\u003eAveragScore=%{marker.size}\\u003cbr\\u003elatitude=%{lat}\\u003cbr\\u003elongitude=%{lon}\\u003cextra\\u003e\\u003c\\u002fextra\\u003e\",\"hovertext\":[\"Nigeria\"],\"lat\":[9.081999],\"legendgroup\":\"Nigeria\",\"lon\":[8.675277],\"marker\":{\"color\":\"#FECB52\",\"size\":[44.0],\"sizemode\":\"area\",\"sizeref\":1.7255102040816326,\"symbol\":\"circle\"},\"mode\":\"markers\",\"name\":\"Nigeria\",\"showlegend\":true,\"type\":\"scattergeo\"},{\"geo\":\"geo\",\"hovertemplate\":\"\\u003cb\\u003e%{hovertext}\\u003c\\u002fb\\u003e\\u003cbr\\u003e\\u003cbr\\u003eCountry=Sierra Leone\\u003cbr\\u003eAveragScore=%{marker.size}\\u003cbr\\u003elatitude=%{lat}\\u003cbr\\u003elongitude=%{lon}\\u003cextra\\u003e\\u003c\\u002fextra\\u003e\",\"hovertext\":[\"Sierra Leone\"],\"lat\":[8.460555],\"legendgroup\":\"Sierra Leone\",\"lon\":[-11.779889],\"marker\":{\"color\":\"#636efa\",\"size\":[43.62],\"sizemode\":\"area\",\"sizeref\":1.7255102040816326,\"symbol\":\"circle\"},\"mode\":\"markers\",\"name\":\"Sierra Leone\",\"showlegend\":true,\"type\":\"scattergeo\"},{\"geo\":\"geo\",\"hovertemplate\":\"\\u003cb\\u003e%{hovertext}\\u003c\\u002fb\\u003e\\u003cbr\\u003e\\u003cbr\\u003eCountry=Venezuela\\u003cbr\\u003eAveragScore=%{marker.size}\\u003cbr\\u003elatitude=%{lat}\\u003cbr\\u003elongitude=%{lon}\\u003cextra\\u003e\\u003c\\u002fextra\\u003e\",\"hovertext\":[\"Venezuela\"],\"lat\":[6.42375],\"legendgroup\":\"Venezuela\",\"lon\":[-66.58973],\"marker\":{\"color\":\"#EF553B\",\"size\":[43.6],\"sizemode\":\"area\",\"sizeref\":1.7255102040816326,\"symbol\":\"circle\"},\"mode\":\"markers\",\"name\":\"Venezuela\",\"showlegend\":true,\"type\":\"scattergeo\"},{\"geo\":\"geo\",\"hovertemplate\":\"\\u003cb\\u003e%{hovertext}\\u003c\\u002fb\\u003e\\u003cbr\\u003e\\u003cbr\\u003eCountry=Libya\\u003cbr\\u003eAveragScore=%{marker.size}\\u003cbr\\u003elatitude=%{lat}\\u003cbr\\u003elongitude=%{lon}\\u003cextra\\u003e\\u003c\\u002fextra\\u003e\",\"hovertext\":[\"Libya\"],\"lat\":[26.3351],\"legendgroup\":\"Libya\",\"lon\":[17.228331],\"marker\":{\"color\":\"#00cc96\",\"size\":[43.46],\"sizemode\":\"area\",\"sizeref\":1.7255102040816326,\"symbol\":\"circle\"},\"mode\":\"markers\",\"name\":\"Libya\",\"showlegend\":true,\"type\":\"scattergeo\"},{\"geo\":\"geo\",\"hovertemplate\":\"\\u003cb\\u003e%{hovertext}\\u003c\\u002fb\\u003e\\u003cbr\\u003e\\u003cbr\\u003eCountry=Cameroon\\u003cbr\\u003eAveragScore=%{marker.size}\\u003cbr\\u003elatitude=%{lat}\\u003cbr\\u003elongitude=%{lon}\\u003cextra\\u003e\\u003c\\u002fextra\\u003e\",\"hovertext\":[\"Cameroon\"],\"lat\":[7.369722],\"legendgroup\":\"Cameroon\",\"lon\":[12.354722],\"marker\":{\"color\":\"#ab63fa\",\"size\":[43.08],\"sizemode\":\"area\",\"sizeref\":1.7255102040816326,\"symbol\":\"circle\"},\"mode\":\"markers\",\"name\":\"Cameroon\",\"showlegend\":true,\"type\":\"scattergeo\"},{\"geo\":\"geo\",\"hovertemplate\":\"\\u003cb\\u003e%{hovertext}\\u003c\\u002fb\\u003e\\u003cbr\\u003e\\u003cbr\\u003eCountry=Guinea-Bissau\\u003cbr\\u003eAveragScore=%{marker.size}\\u003cbr\\u003elatitude=%{lat}\\u003cbr\\u003elongitude=%{lon}\\u003cextra\\u003e\\u003c\\u002fextra\\u003e\",\"hovertext\":[\"Guinea-Bissau\"],\"lat\":[11.803749],\"legendgroup\":\"Guinea-Bissau\",\"lon\":[-15.180413],\"marker\":{\"color\":\"#FFA15A\",\"size\":[42.78],\"sizemode\":\"area\",\"sizeref\":1.7255102040816326,\"symbol\":\"circle\"},\"mode\":\"markers\",\"name\":\"Guinea-Bissau\",\"showlegend\":true,\"type\":\"scattergeo\"},{\"geo\":\"geo\",\"hovertemplate\":\"\\u003cb\\u003e%{hovertext}\\u003c\\u002fb\\u003e\\u003cbr\\u003e\\u003cbr\\u003eCountry=Mozambique\\u003cbr\\u003eAveragScore=%{marker.size}\\u003cbr\\u003elatitude=%{lat}\\u003cbr\\u003elongitude=%{lon}\\u003cextra\\u003e\\u003c\\u002fextra\\u003e\",\"hovertext\":[\"Mozambique\"],\"lat\":[-18.665695],\"legendgroup\":\"Mozambique\",\"lon\":[35.529562],\"marker\":{\"color\":\"#19d3f3\",\"size\":[42.7],\"sizemode\":\"area\",\"sizeref\":1.7255102040816326,\"symbol\":\"circle\"},\"mode\":\"markers\",\"name\":\"Mozambique\",\"showlegend\":true,\"type\":\"scattergeo\"},{\"geo\":\"geo\",\"hovertemplate\":\"\\u003cb\\u003e%{hovertext}\\u003c\\u002fb\\u003e\\u003cbr\\u003e\\u003cbr\\u003eCountry=Mali\\u003cbr\\u003eAveragScore=%{marker.size}\\u003cbr\\u003elatitude=%{lat}\\u003cbr\\u003elongitude=%{lon}\\u003cextra\\u003e\\u003c\\u002fextra\\u003e\",\"hovertext\":[\"Mali\"],\"lat\":[17.570692],\"legendgroup\":\"Mali\",\"lon\":[-3.996166],\"marker\":{\"color\":\"#FF6692\",\"size\":[42.36],\"sizemode\":\"area\",\"sizeref\":1.7255102040816326,\"symbol\":\"circle\"},\"mode\":\"markers\",\"name\":\"Mali\",\"showlegend\":true,\"type\":\"scattergeo\"},{\"geo\":\"geo\",\"hovertemplate\":\"\\u003cb\\u003e%{hovertext}\\u003c\\u002fb\\u003e\\u003cbr\\u003e\\u003cbr\\u003eCountry=Niger\\u003cbr\\u003eAveragScore=%{marker.size}\\u003cbr\\u003elatitude=%{lat}\\u003cbr\\u003elongitude=%{lon}\\u003cextra\\u003e\\u003c\\u002fextra\\u003e\",\"hovertext\":[\"Niger\"],\"lat\":[17.607789],\"legendgroup\":\"Niger\",\"lon\":[8.081666],\"marker\":{\"color\":\"#B6E880\",\"size\":[42.26],\"sizemode\":\"area\",\"sizeref\":1.7255102040816326,\"symbol\":\"circle\"},\"mode\":\"markers\",\"name\":\"Niger\",\"showlegend\":true,\"type\":\"scattergeo\"},{\"geo\":\"geo\",\"hovertemplate\":\"\\u003cb\\u003e%{hovertext}\\u003c\\u002fb\\u003e\\u003cbr\\u003e\\u003cbr\\u003eCountry=Ethiopia\\u003cbr\\u003eAveragScore=%{marker.size}\\u003cbr\\u003elatitude=%{lat}\\u003cbr\\u003elongitude=%{lon}\\u003cextra\\u003e\\u003c\\u002fextra\\u003e\",\"hovertext\":[\"Ethiopia\"],\"lat\":[9.145],\"legendgroup\":\"Ethiopia\",\"lon\":[40.489673],\"marker\":{\"color\":\"#FF97FF\",\"size\":[41.87],\"sizemode\":\"area\",\"sizeref\":1.7255102040816326,\"symbol\":\"circle\"},\"mode\":\"markers\",\"name\":\"Ethiopia\",\"showlegend\":true,\"type\":\"scattergeo\"},{\"geo\":\"geo\",\"hovertemplate\":\"\\u003cb\\u003e%{hovertext}\\u003c\\u002fb\\u003e\\u003cbr\\u003e\\u003cbr\\u003eCountry=Mauritania\\u003cbr\\u003eAveragScore=%{marker.size}\\u003cbr\\u003elatitude=%{lat}\\u003cbr\\u003elongitude=%{lon}\\u003cextra\\u003e\\u003c\\u002fextra\\u003e\",\"hovertext\":[\"Mauritania\"],\"lat\":[21.00789],\"legendgroup\":\"Mauritania\",\"lon\":[-10.940835],\"marker\":{\"color\":\"#FECB52\",\"size\":[41.23],\"sizemode\":\"area\",\"sizeref\":1.7255102040816326,\"symbol\":\"circle\"},\"mode\":\"markers\",\"name\":\"Mauritania\",\"showlegend\":true,\"type\":\"scattergeo\"},{\"geo\":\"geo\",\"hovertemplate\":\"\\u003cb\\u003e%{hovertext}\\u003c\\u002fb\\u003e\\u003cbr\\u003e\\u003cbr\\u003eCountry=Angola\\u003cbr\\u003eAveragScore=%{marker.size}\\u003cbr\\u003elatitude=%{lat}\\u003cbr\\u003elongitude=%{lon}\\u003cextra\\u003e\\u003c\\u002fextra\\u003e\",\"hovertext\":[\"Angola\"],\"lat\":[-11.202692],\"legendgroup\":\"Angola\",\"lon\":[17.873887],\"marker\":{\"color\":\"#636efa\",\"size\":[40.55],\"sizemode\":\"area\",\"sizeref\":1.7255102040816326,\"symbol\":\"circle\"},\"mode\":\"markers\",\"name\":\"Angola\",\"showlegend\":true,\"type\":\"scattergeo\"},{\"geo\":\"geo\",\"hovertemplate\":\"\\u003cb\\u003e%{hovertext}\\u003c\\u002fb\\u003e\\u003cbr\\u003e\\u003cbr\\u003eCountry=Haiti\\u003cbr\\u003eAveragScore=%{marker.size}\\u003cbr\\u003elatitude=%{lat}\\u003cbr\\u003elongitude=%{lon}\\u003cextra\\u003e\\u003c\\u002fextra\\u003e\",\"hovertext\":[\"Haiti\"],\"lat\":[18.971187],\"legendgroup\":\"Haiti\",\"lon\":[-72.285215],\"marker\":{\"color\":\"#EF553B\",\"size\":[39.82],\"sizemode\":\"area\",\"sizeref\":1.7255102040816326,\"symbol\":\"circle\"},\"mode\":\"markers\",\"name\":\"Haiti\",\"showlegend\":true,\"type\":\"scattergeo\"},{\"geo\":\"geo\",\"hovertemplate\":\"\\u003cb\\u003e%{hovertext}\\u003c\\u002fb\\u003e\\u003cbr\\u003e\\u003cbr\\u003eCountry=Burundi\\u003cbr\\u003eAveragScore=%{marker.size}\\u003cbr\\u003elatitude=%{lat}\\u003cbr\\u003elongitude=%{lon}\\u003cextra\\u003e\\u003c\\u002fextra\\u003e\",\"hovertext\":[\"Burundi\"],\"lat\":[-3.373056],\"legendgroup\":\"Burundi\",\"lon\":[29.918886],\"marker\":{\"color\":\"#00cc96\",\"size\":[38.2],\"sizemode\":\"area\",\"sizeref\":1.7255102040816326,\"symbol\":\"circle\"},\"mode\":\"markers\",\"name\":\"Burundi\",\"showlegend\":true,\"type\":\"scattergeo\"},{\"geo\":\"geo\",\"hovertemplate\":\"\\u003cb\\u003e%{hovertext}\\u003c\\u002fb\\u003e\\u003cbr\\u003e\\u003cbr\\u003eCountry=Sudan\\u003cbr\\u003eAveragScore=%{marker.size}\\u003cbr\\u003elatitude=%{lat}\\u003cbr\\u003elongitude=%{lon}\\u003cextra\\u003e\\u003c\\u002fextra\\u003e\",\"hovertext\":[\"Sudan\"],\"lat\":[12.862807],\"legendgroup\":\"Sudan\",\"lon\":[30.217636],\"marker\":{\"color\":\"#ab63fa\",\"size\":[36.97],\"sizemode\":\"area\",\"sizeref\":1.7255102040816326,\"symbol\":\"circle\"},\"mode\":\"markers\",\"name\":\"Sudan\",\"showlegend\":true,\"type\":\"scattergeo\"},{\"geo\":\"geo\",\"hovertemplate\":\"\\u003cb\\u003e%{hovertext}\\u003c\\u002fb\\u003e\\u003cbr\\u003e\\u003cbr\\u003eCountry=Syria\\u003cbr\\u003eAveragScore=%{marker.size}\\u003cbr\\u003elatitude=%{lat}\\u003cbr\\u003elongitude=%{lon}\\u003cextra\\u003e\\u003c\\u002fextra\\u003e\",\"hovertext\":[\"Syria\"],\"lat\":[34.802075],\"legendgroup\":\"Syria\",\"lon\":[38.996815],\"marker\":{\"color\":\"#FFA15A\",\"size\":[36.83],\"sizemode\":\"area\",\"sizeref\":1.7255102040816326,\"symbol\":\"circle\"},\"mode\":\"markers\",\"name\":\"Syria\",\"showlegend\":true,\"type\":\"scattergeo\"},{\"geo\":\"geo\",\"hovertemplate\":\"\\u003cb\\u003e%{hovertext}\\u003c\\u002fb\\u003e\\u003cbr\\u003e\\u003cbr\\u003eCountry=Eritrea\\u003cbr\\u003eAveragScore=%{marker.size}\\u003cbr\\u003elatitude=%{lat}\\u003cbr\\u003elongitude=%{lon}\\u003cextra\\u003e\\u003c\\u002fextra\\u003e\",\"hovertext\":[\"Eritrea\"],\"lat\":[15.179384],\"legendgroup\":\"Eritrea\",\"lon\":[39.782334],\"marker\":{\"color\":\"#19d3f3\",\"size\":[36.02],\"sizemode\":\"area\",\"sizeref\":1.7255102040816326,\"symbol\":\"circle\"},\"mode\":\"markers\",\"name\":\"Eritrea\",\"showlegend\":true,\"type\":\"scattergeo\"},{\"geo\":\"geo\",\"hovertemplate\":\"\\u003cb\\u003e%{hovertext}\\u003c\\u002fb\\u003e\\u003cbr\\u003e\\u003cbr\\u003eCountry=Chad\\u003cbr\\u003eAveragScore=%{marker.size}\\u003cbr\\u003elatitude=%{lat}\\u003cbr\\u003elongitude=%{lon}\\u003cextra\\u003e\\u003c\\u002fextra\\u003e\",\"hovertext\":[\"Chad\"],\"lat\":[15.454166],\"legendgroup\":\"Chad\",\"lon\":[18.732207],\"marker\":{\"color\":\"#FF6692\",\"size\":[34.69],\"sizemode\":\"area\",\"sizeref\":1.7255102040816326,\"symbol\":\"circle\"},\"mode\":\"markers\",\"name\":\"Chad\",\"showlegend\":true,\"type\":\"scattergeo\"},{\"geo\":\"geo\",\"hovertemplate\":\"\\u003cb\\u003e%{hovertext}\\u003c\\u002fb\\u003e\\u003cbr\\u003e\\u003cbr\\u003eCountry=Somalia\\u003cbr\\u003eAveragScore=%{marker.size}\\u003cbr\\u003elatitude=%{lat}\\u003cbr\\u003elongitude=%{lon}\\u003cextra\\u003e\\u003c\\u002fextra\\u003e\",\"hovertext\":[\"Somalia\"],\"lat\":[5.152149],\"legendgroup\":\"Somalia\",\"lon\":[46.199616],\"marker\":{\"color\":\"#B6E880\",\"size\":[34.39],\"sizemode\":\"area\",\"sizeref\":1.7255102040816326,\"symbol\":\"circle\"},\"mode\":\"markers\",\"name\":\"Somalia\",\"showlegend\":true,\"type\":\"scattergeo\"},{\"geo\":\"geo\",\"hovertemplate\":\"\\u003cb\\u003e%{hovertext}\\u003c\\u002fb\\u003e\\u003cbr\\u003e\\u003cbr\\u003eCountry=Afghanistan\\u003cbr\\u003eAveragScore=%{marker.size}\\u003cbr\\u003elatitude=%{lat}\\u003cbr\\u003elongitude=%{lon}\\u003cextra\\u003e\\u003c\\u002fextra\\u003e\",\"hovertext\":[\"Afghanistan\"],\"lat\":[33.93911],\"legendgroup\":\"Afghanistan\",\"lon\":[67.709953],\"marker\":{\"color\":\"#FF97FF\",\"size\":[34.18],\"sizemode\":\"area\",\"sizeref\":1.7255102040816326,\"symbol\":\"circle\"},\"mode\":\"markers\",\"name\":\"Afghanistan\",\"showlegend\":true,\"type\":\"scattergeo\"},{\"geo\":\"geo\",\"hovertemplate\":\"\\u003cb\\u003e%{hovertext}\\u003c\\u002fb\\u003e\\u003cbr\\u003e\\u003cbr\\u003eCountry=Central African Republic\\u003cbr\\u003eAveragScore=%{marker.size}\\u003cbr\\u003elatitude=%{lat}\\u003cbr\\u003elongitude=%{lon}\\u003cextra\\u003e\\u003c\\u002fextra\\u003e\",\"hovertext\":[\"Central African Republic\"],\"lat\":[6.611111],\"legendgroup\":\"Central African Republic\",\"lon\":[20.939444],\"marker\":{\"color\":\"#FECB52\",\"size\":[32.83],\"sizemode\":\"area\",\"sizeref\":1.7255102040816326,\"symbol\":\"circle\"},\"mode\":\"markers\",\"name\":\"Central African Republic\",\"showlegend\":true,\"type\":\"scattergeo\"},{\"geo\":\"geo\",\"hovertemplate\":\"\\u003cb\\u003e%{hovertext}\\u003c\\u002fb\\u003e\\u003cbr\\u003e\\u003cbr\\u003eCountry=Yemen\\u003cbr\\u003eAveragScore=%{marker.size}\\u003cbr\\u003elatitude=%{lat}\\u003cbr\\u003elongitude=%{lon}\\u003cextra\\u003e\\u003c\\u002fextra\\u003e\",\"hovertext\":[\"Yemen\"],\"lat\":[15.552727],\"legendgroup\":\"Yemen\",\"lon\":[48.516388],\"marker\":{\"color\":\"#636efa\",\"size\":[32.65],\"sizemode\":\"area\",\"sizeref\":1.7255102040816326,\"symbol\":\"circle\"},\"mode\":\"markers\",\"name\":\"Yemen\",\"showlegend\":true,\"type\":\"scattergeo\"}],                        {\"template\":{\"data\":{\"histogram2dcontour\":[{\"type\":\"histogram2dcontour\",\"colorbar\":{\"outlinewidth\":0,\"ticks\":\"\"},\"colorscale\":[[0.0,\"#0d0887\"],[0.1111111111111111,\"#46039f\"],[0.2222222222222222,\"#7201a8\"],[0.3333333333333333,\"#9c179e\"],[0.4444444444444444,\"#bd3786\"],[0.5555555555555556,\"#d8576b\"],[0.6666666666666666,\"#ed7953\"],[0.7777777777777778,\"#fb9f3a\"],[0.8888888888888888,\"#fdca26\"],[1.0,\"#f0f921\"]]}],\"choropleth\":[{\"type\":\"choropleth\",\"colorbar\":{\"outlinewidth\":0,\"ticks\":\"\"}}],\"histogram2d\":[{\"type\":\"histogram2d\",\"colorbar\":{\"outlinewidth\":0,\"ticks\":\"\"},\"colorscale\":[[0.0,\"#0d0887\"],[0.1111111111111111,\"#46039f\"],[0.2222222222222222,\"#7201a8\"],[0.3333333333333333,\"#9c179e\"],[0.4444444444444444,\"#bd3786\"],[0.5555555555555556,\"#d8576b\"],[0.6666666666666666,\"#ed7953\"],[0.7777777777777778,\"#fb9f3a\"],[0.8888888888888888,\"#fdca26\"],[1.0,\"#f0f921\"]]}],\"heatmap\":[{\"type\":\"heatmap\",\"colorbar\":{\"outlinewidth\":0,\"ticks\":\"\"},\"colorscale\":[[0.0,\"#0d0887\"],[0.1111111111111111,\"#46039f\"],[0.2222222222222222,\"#7201a8\"],[0.3333333333333333,\"#9c179e\"],[0.4444444444444444,\"#bd3786\"],[0.5555555555555556,\"#d8576b\"],[0.6666666666666666,\"#ed7953\"],[0.7777777777777778,\"#fb9f3a\"],[0.8888888888888888,\"#fdca26\"],[1.0,\"#f0f921\"]]}],\"heatmapgl\":[{\"type\":\"heatmapgl\",\"colorbar\":{\"outlinewidth\":0,\"ticks\":\"\"},\"colorscale\":[[0.0,\"#0d0887\"],[0.1111111111111111,\"#46039f\"],[0.2222222222222222,\"#7201a8\"],[0.3333333333333333,\"#9c179e\"],[0.4444444444444444,\"#bd3786\"],[0.5555555555555556,\"#d8576b\"],[0.6666666666666666,\"#ed7953\"],[0.7777777777777778,\"#fb9f3a\"],[0.8888888888888888,\"#fdca26\"],[1.0,\"#f0f921\"]]}],\"contourcarpet\":[{\"type\":\"contourcarpet\",\"colorbar\":{\"outlinewidth\":0,\"ticks\":\"\"}}],\"contour\":[{\"type\":\"contour\",\"colorbar\":{\"outlinewidth\":0,\"ticks\":\"\"},\"colorscale\":[[0.0,\"#0d0887\"],[0.1111111111111111,\"#46039f\"],[0.2222222222222222,\"#7201a8\"],[0.3333333333333333,\"#9c179e\"],[0.4444444444444444,\"#bd3786\"],[0.5555555555555556,\"#d8576b\"],[0.6666666666666666,\"#ed7953\"],[0.7777777777777778,\"#fb9f3a\"],[0.8888888888888888,\"#fdca26\"],[1.0,\"#f0f921\"]]}],\"surface\":[{\"type\":\"surface\",\"colorbar\":{\"outlinewidth\":0,\"ticks\":\"\"},\"colorscale\":[[0.0,\"#0d0887\"],[0.1111111111111111,\"#46039f\"],[0.2222222222222222,\"#7201a8\"],[0.3333333333333333,\"#9c179e\"],[0.4444444444444444,\"#bd3786\"],[0.5555555555555556,\"#d8576b\"],[0.6666666666666666,\"#ed7953\"],[0.7777777777777778,\"#fb9f3a\"],[0.8888888888888888,\"#fdca26\"],[1.0,\"#f0f921\"]]}],\"mesh3d\":[{\"type\":\"mesh3d\",\"colorbar\":{\"outlinewidth\":0,\"ticks\":\"\"}}],\"scatter\":[{\"fillpattern\":{\"fillmode\":\"overlay\",\"size\":10,\"solidity\":0.2},\"type\":\"scatter\"}],\"parcoords\":[{\"type\":\"parcoords\",\"line\":{\"colorbar\":{\"outlinewidth\":0,\"ticks\":\"\"}}}],\"scatterpolargl\":[{\"type\":\"scatterpolargl\",\"marker\":{\"colorbar\":{\"outlinewidth\":0,\"ticks\":\"\"}}}],\"bar\":[{\"error_x\":{\"color\":\"#2a3f5f\"},\"error_y\":{\"color\":\"#2a3f5f\"},\"marker\":{\"line\":{\"color\":\"#E5ECF6\",\"width\":0.5},\"pattern\":{\"fillmode\":\"overlay\",\"size\":10,\"solidity\":0.2}},\"type\":\"bar\"}],\"scattergeo\":[{\"type\":\"scattergeo\",\"marker\":{\"colorbar\":{\"outlinewidth\":0,\"ticks\":\"\"}}}],\"scatterpolar\":[{\"type\":\"scatterpolar\",\"marker\":{\"colorbar\":{\"outlinewidth\":0,\"ticks\":\"\"}}}],\"histogram\":[{\"marker\":{\"pattern\":{\"fillmode\":\"overlay\",\"size\":10,\"solidity\":0.2}},\"type\":\"histogram\"}],\"scattergl\":[{\"type\":\"scattergl\",\"marker\":{\"colorbar\":{\"outlinewidth\":0,\"ticks\":\"\"}}}],\"scatter3d\":[{\"type\":\"scatter3d\",\"line\":{\"colorbar\":{\"outlinewidth\":0,\"ticks\":\"\"}},\"marker\":{\"colorbar\":{\"outlinewidth\":0,\"ticks\":\"\"}}}],\"scattermapbox\":[{\"type\":\"scattermapbox\",\"marker\":{\"colorbar\":{\"outlinewidth\":0,\"ticks\":\"\"}}}],\"scatterternary\":[{\"type\":\"scatterternary\",\"marker\":{\"colorbar\":{\"outlinewidth\":0,\"ticks\":\"\"}}}],\"scattercarpet\":[{\"type\":\"scattercarpet\",\"marker\":{\"colorbar\":{\"outlinewidth\":0,\"ticks\":\"\"}}}],\"carpet\":[{\"aaxis\":{\"endlinecolor\":\"#2a3f5f\",\"gridcolor\":\"white\",\"linecolor\":\"white\",\"minorgridcolor\":\"white\",\"startlinecolor\":\"#2a3f5f\"},\"baxis\":{\"endlinecolor\":\"#2a3f5f\",\"gridcolor\":\"white\",\"linecolor\":\"white\",\"minorgridcolor\":\"white\",\"startlinecolor\":\"#2a3f5f\"},\"type\":\"carpet\"}],\"table\":[{\"cells\":{\"fill\":{\"color\":\"#EBF0F8\"},\"line\":{\"color\":\"white\"}},\"header\":{\"fill\":{\"color\":\"#C8D4E3\"},\"line\":{\"color\":\"white\"}},\"type\":\"table\"}],\"barpolar\":[{\"marker\":{\"line\":{\"color\":\"#E5ECF6\",\"width\":0.5},\"pattern\":{\"fillmode\":\"overlay\",\"size\":10,\"solidity\":0.2}},\"type\":\"barpolar\"}],\"pie\":[{\"automargin\":true,\"type\":\"pie\"}]},\"layout\":{\"autotypenumbers\":\"strict\",\"colorway\":[\"#636efa\",\"#EF553B\",\"#00cc96\",\"#ab63fa\",\"#FFA15A\",\"#19d3f3\",\"#FF6692\",\"#B6E880\",\"#FF97FF\",\"#FECB52\"],\"font\":{\"color\":\"#2a3f5f\"},\"hovermode\":\"closest\",\"hoverlabel\":{\"align\":\"left\"},\"paper_bgcolor\":\"white\",\"plot_bgcolor\":\"#E5ECF6\",\"polar\":{\"bgcolor\":\"#E5ECF6\",\"angularaxis\":{\"gridcolor\":\"white\",\"linecolor\":\"white\",\"ticks\":\"\"},\"radialaxis\":{\"gridcolor\":\"white\",\"linecolor\":\"white\",\"ticks\":\"\"}},\"ternary\":{\"bgcolor\":\"#E5ECF6\",\"aaxis\":{\"gridcolor\":\"white\",\"linecolor\":\"white\",\"ticks\":\"\"},\"baxis\":{\"gridcolor\":\"white\",\"linecolor\":\"white\",\"ticks\":\"\"},\"caxis\":{\"gridcolor\":\"white\",\"linecolor\":\"white\",\"ticks\":\"\"}},\"coloraxis\":{\"colorbar\":{\"outlinewidth\":0,\"ticks\":\"\"}},\"colorscale\":{\"sequential\":[[0.0,\"#0d0887\"],[0.1111111111111111,\"#46039f\"],[0.2222222222222222,\"#7201a8\"],[0.3333333333333333,\"#9c179e\"],[0.4444444444444444,\"#bd3786\"],[0.5555555555555556,\"#d8576b\"],[0.6666666666666666,\"#ed7953\"],[0.7777777777777778,\"#fb9f3a\"],[0.8888888888888888,\"#fdca26\"],[1.0,\"#f0f921\"]],\"sequentialminus\":[[0.0,\"#0d0887\"],[0.1111111111111111,\"#46039f\"],[0.2222222222222222,\"#7201a8\"],[0.3333333333333333,\"#9c179e\"],[0.4444444444444444,\"#bd3786\"],[0.5555555555555556,\"#d8576b\"],[0.6666666666666666,\"#ed7953\"],[0.7777777777777778,\"#fb9f3a\"],[0.8888888888888888,\"#fdca26\"],[1.0,\"#f0f921\"]],\"diverging\":[[0,\"#8e0152\"],[0.1,\"#c51b7d\"],[0.2,\"#de77ae\"],[0.3,\"#f1b6da\"],[0.4,\"#fde0ef\"],[0.5,\"#f7f7f7\"],[0.6,\"#e6f5d0\"],[0.7,\"#b8e186\"],[0.8,\"#7fbc41\"],[0.9,\"#4d9221\"],[1,\"#276419\"]]},\"xaxis\":{\"gridcolor\":\"white\",\"linecolor\":\"white\",\"ticks\":\"\",\"title\":{\"standoff\":15},\"zerolinecolor\":\"white\",\"automargin\":true,\"zerolinewidth\":2},\"yaxis\":{\"gridcolor\":\"white\",\"linecolor\":\"white\",\"ticks\":\"\",\"title\":{\"standoff\":15},\"zerolinecolor\":\"white\",\"automargin\":true,\"zerolinewidth\":2},\"scene\":{\"xaxis\":{\"backgroundcolor\":\"#E5ECF6\",\"gridcolor\":\"white\",\"linecolor\":\"white\",\"showbackground\":true,\"ticks\":\"\",\"zerolinecolor\":\"white\",\"gridwidth\":2},\"yaxis\":{\"backgroundcolor\":\"#E5ECF6\",\"gridcolor\":\"white\",\"linecolor\":\"white\",\"showbackground\":true,\"ticks\":\"\",\"zerolinecolor\":\"white\",\"gridwidth\":2},\"zaxis\":{\"backgroundcolor\":\"#E5ECF6\",\"gridcolor\":\"white\",\"linecolor\":\"white\",\"showbackground\":true,\"ticks\":\"\",\"zerolinecolor\":\"white\",\"gridwidth\":2}},\"shapedefaults\":{\"line\":{\"color\":\"#2a3f5f\"}},\"annotationdefaults\":{\"arrowcolor\":\"#2a3f5f\",\"arrowhead\":0,\"arrowwidth\":1},\"geo\":{\"bgcolor\":\"white\",\"landcolor\":\"#E5ECF6\",\"subunitcolor\":\"white\",\"showland\":true,\"showlakes\":true,\"lakecolor\":\"white\"},\"title\":{\"x\":0.05},\"mapbox\":{\"style\":\"light\"}}},\"geo\":{\"domain\":{\"x\":[0.0,1.0],\"y\":[0.0,1.0]},\"center\":{}},\"legend\":{\"title\":{\"text\":\"Country\"},\"tracegroupgap\":0,\"itemsizing\":\"constant\"},\"margin\":{\"t\":60}},                        {\"responsive\": true}                    ).then(function(){\n",
       "                            \n",
       "var gd = document.getElementById('acf49fe7-2d2c-4784-9c5e-29a25e887589');\n",
       "var x = new MutationObserver(function (mutations, observer) {{\n",
       "        var display = window.getComputedStyle(gd).display;\n",
       "        if (!display || display === 'none') {{\n",
       "            console.log([gd, 'removed!']);\n",
       "            Plotly.purge(gd);\n",
       "            observer.disconnect();\n",
       "        }}\n",
       "}});\n",
       "\n",
       "// Listen for the removal of the full notebook cells\n",
       "var notebookContainer = gd.closest('#notebook-container');\n",
       "if (notebookContainer) {{\n",
       "    x.observe(notebookContainer, {childList: true});\n",
       "}}\n",
       "\n",
       "// Listen for the clearing of the current output cell\n",
       "var outputEl = gd.closest('.output');\n",
       "if (outputEl) {{\n",
       "    x.observe(outputEl, {childList: true});\n",
       "}}\n",
       "\n",
       "                        })                };                });            </script>        </div>"
      ]
     },
     "metadata": {},
     "output_type": "display_data"
    }
   ],
   "source": [
    "plot = px.scatter_geo(result, lat='latitude', lon='longitude', color = \"Country\", size=\"AveragScore\", hover_name = 'Country',size_max = 7) \n",
    "plot.show() "
   ]
  },
  {
   "cell_type": "markdown",
   "id": "e96fbdc1-add3-4824-82d1-0be5e1ab38d8",
   "metadata": {},
   "source": [
    "<h2>Вот такая получилась карта<h2>"
   ]
  }
 ],
 "metadata": {
  "kernelspec": {
   "display_name": "Python 3",
   "language": "python",
   "name": "python3"
  },
  "language_info": {
   "codemirror_mode": {
    "name": "ipython",
    "version": 3
   },
   "file_extension": ".py",
   "mimetype": "text/x-python",
   "name": "python",
   "nbconvert_exporter": "python",
   "pygments_lexer": "ipython3",
   "version": "3.12.4"
  }
 },
 "nbformat": 4,
 "nbformat_minor": 5
}
