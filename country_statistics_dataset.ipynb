{
 "cells": [
  {
   "cell_type": "markdown",
   "id": "b4a9b8e4-de24-470f-94e8-acc13fffb98f",
   "metadata": {},
   "source": [
    "<h1>Возьмем несколько датасетов с каггла и поисследуем их<h1>"
   ]
  },
  {
   "cell_type": "code",
   "execution_count": 6,
   "id": "2ae1822f-68f4-4546-adc1-9f19c844cacd",
   "metadata": {},
   "outputs": [
    {
     "data": {
      "text/html": [
       "        <script type=\"text/javascript\">\n",
       "        window.PlotlyConfig = {MathJaxConfig: 'local'};\n",
       "        if (window.MathJax && window.MathJax.Hub && window.MathJax.Hub.Config) {window.MathJax.Hub.Config({SVG: {font: \"STIX-Web\"}});}\n",
       "        </script>\n",
       "        <script type=\"module\">import \"https://cdn.plot.ly/plotly-3.0.1.min\"</script>\n",
       "        "
      ]
     },
     "metadata": {},
     "output_type": "display_data"
    },
    {
     "data": {
      "text/html": [
       "<div>\n",
       "<style scoped>\n",
       "    .dataframe tbody tr th:only-of-type {\n",
       "        vertical-align: middle;\n",
       "    }\n",
       "\n",
       "    .dataframe tbody tr th {\n",
       "        vertical-align: top;\n",
       "    }\n",
       "\n",
       "    .dataframe thead th {\n",
       "        text-align: right;\n",
       "    }\n",
       "</style>\n",
       "<table border=\"1\" class=\"dataframe\">\n",
       "  <thead>\n",
       "    <tr style=\"text-align: right;\">\n",
       "      <th></th>\n",
       "      <th>Country</th>\n",
       "      <th>AveragScore</th>\n",
       "      <th>SafetySecurity</th>\n",
       "      <th>PersonelFreedom</th>\n",
       "      <th>Governance</th>\n",
       "      <th>SocialCapital</th>\n",
       "      <th>InvestmentEnvironment</th>\n",
       "      <th>EnterpriseConditions</th>\n",
       "      <th>MarketAccessInfrastructure</th>\n",
       "      <th>EconomicQuality</th>\n",
       "      <th>LivingConditions</th>\n",
       "      <th>Health</th>\n",
       "      <th>Education</th>\n",
       "      <th>NaturalEnvironment</th>\n",
       "    </tr>\n",
       "  </thead>\n",
       "  <tbody>\n",
       "    <tr>\n",
       "      <th>0</th>\n",
       "      <td>Denmark</td>\n",
       "      <td>84.55</td>\n",
       "      <td>92.59</td>\n",
       "      <td>94.09</td>\n",
       "      <td>89.45</td>\n",
       "      <td>82.56</td>\n",
       "      <td>82.42</td>\n",
       "      <td>79.64</td>\n",
       "      <td>78.79</td>\n",
       "      <td>76.81</td>\n",
       "      <td>95.77</td>\n",
       "      <td>81.07</td>\n",
       "      <td>87.48</td>\n",
       "      <td>73.94</td>\n",
       "    </tr>\n",
       "    <tr>\n",
       "      <th>1</th>\n",
       "      <td>Sweden</td>\n",
       "      <td>83.67</td>\n",
       "      <td>90.97</td>\n",
       "      <td>91.90</td>\n",
       "      <td>86.41</td>\n",
       "      <td>78.29</td>\n",
       "      <td>82.81</td>\n",
       "      <td>75.54</td>\n",
       "      <td>79.67</td>\n",
       "      <td>76.18</td>\n",
       "      <td>95.33</td>\n",
       "      <td>82.28</td>\n",
       "      <td>85.92</td>\n",
       "      <td>78.74</td>\n",
       "    </tr>\n",
       "    <tr>\n",
       "      <th>2</th>\n",
       "      <td>Norway</td>\n",
       "      <td>83.59</td>\n",
       "      <td>93.30</td>\n",
       "      <td>94.10</td>\n",
       "      <td>89.66</td>\n",
       "      <td>79.03</td>\n",
       "      <td>82.24</td>\n",
       "      <td>75.95</td>\n",
       "      <td>75.87</td>\n",
       "      <td>77.25</td>\n",
       "      <td>94.70</td>\n",
       "      <td>82.98</td>\n",
       "      <td>85.68</td>\n",
       "      <td>72.37</td>\n",
       "    </tr>\n",
       "    <tr>\n",
       "      <th>3</th>\n",
       "      <td>Finland</td>\n",
       "      <td>83.47</td>\n",
       "      <td>89.56</td>\n",
       "      <td>91.96</td>\n",
       "      <td>90.41</td>\n",
       "      <td>77.27</td>\n",
       "      <td>84.12</td>\n",
       "      <td>77.25</td>\n",
       "      <td>78.77</td>\n",
       "      <td>70.28</td>\n",
       "      <td>94.46</td>\n",
       "      <td>81.19</td>\n",
       "      <td>88.38</td>\n",
       "      <td>77.99</td>\n",
       "    </tr>\n",
       "    <tr>\n",
       "      <th>4</th>\n",
       "      <td>Switzerland</td>\n",
       "      <td>83.42</td>\n",
       "      <td>95.66</td>\n",
       "      <td>87.50</td>\n",
       "      <td>87.67</td>\n",
       "      <td>69.14</td>\n",
       "      <td>80.81</td>\n",
       "      <td>83.84</td>\n",
       "      <td>78.65</td>\n",
       "      <td>79.71</td>\n",
       "      <td>94.66</td>\n",
       "      <td>82.11</td>\n",
       "      <td>87.72</td>\n",
       "      <td>73.60</td>\n",
       "    </tr>\n",
       "  </tbody>\n",
       "</table>\n",
       "</div>"
      ],
      "text/plain": [
       "       Country  AveragScore  SafetySecurity  PersonelFreedom  Governance  \\\n",
       "0      Denmark        84.55           92.59            94.09       89.45   \n",
       "1       Sweden        83.67           90.97            91.90       86.41   \n",
       "2       Norway        83.59           93.30            94.10       89.66   \n",
       "3      Finland        83.47           89.56            91.96       90.41   \n",
       "4  Switzerland        83.42           95.66            87.50       87.67   \n",
       "\n",
       "   SocialCapital  InvestmentEnvironment  EnterpriseConditions  \\\n",
       "0          82.56                  82.42                 79.64   \n",
       "1          78.29                  82.81                 75.54   \n",
       "2          79.03                  82.24                 75.95   \n",
       "3          77.27                  84.12                 77.25   \n",
       "4          69.14                  80.81                 83.84   \n",
       "\n",
       "   MarketAccessInfrastructure  EconomicQuality  LivingConditions  Health  \\\n",
       "0                       78.79            76.81             95.77   81.07   \n",
       "1                       79.67            76.18             95.33   82.28   \n",
       "2                       75.87            77.25             94.70   82.98   \n",
       "3                       78.77            70.28             94.46   81.19   \n",
       "4                       78.65            79.71             94.66   82.11   \n",
       "\n",
       "   Education  NaturalEnvironment  \n",
       "0      87.48               73.94  \n",
       "1      85.92               78.74  \n",
       "2      85.68               72.37  \n",
       "3      88.38               77.99  \n",
       "4      87.72               73.60  "
      ]
     },
     "execution_count": 6,
     "metadata": {},
     "output_type": "execute_result"
    }
   ],
   "source": [
    "from plotly.offline import init_notebook_mode\n",
    "init_notebook_mode(connected=True)\n",
    "\n",
    "import csv\n",
    "import numpy as np\n",
    "import plotly.express as px \n",
    "import pandas as pd\n",
    "import plotly.graph_objects as go\n",
    "\n",
    "\n",
    "\n",
    "cntr = pd.read_csv(\"https://raw.githubusercontent.com/esbergenovg/proj/main/data.csv\")\n",
    "cntr['Country'] = cntr['Country'].str.strip().str.replace('\\xa0', '')\n",
    "cntr.head()\n",
    "\n"
   ]
  },
  {
   "cell_type": "markdown",
   "id": "83162f65-9706-4a44-aa9d-b7bf1d63352a",
   "metadata": {},
   "source": [
    "<h2>Выведем немного статистики<h2>"
   ]
  },
  {
   "cell_type": "code",
   "execution_count": 7,
   "id": "73ffd098-2ed9-4315-ba96-83c3a98d62d9",
   "metadata": {},
   "outputs": [
    {
     "name": "stdout",
     "output_type": "stream",
     "text": [
      "count    167.000000\n",
      "mean      67.242515\n",
      "std       17.542279\n",
      "min       16.540000\n",
      "25%       59.290000\n",
      "50%       68.930000\n",
      "75%       80.560000\n",
      "max       96.320000\n",
      "Name: SafetySecurity, dtype: float64\n",
      "68.93\n"
     ]
    }
   ],
   "source": [
    "print(cntr['SafetySecurity'].describe())\n",
    "print(cntr['SafetySecurity'].median())"
   ]
  },
  {
   "cell_type": "code",
   "execution_count": 8,
   "id": "d6a62e3d-c1e4-4abe-b352-9c6758c4bdc3",
   "metadata": {},
   "outputs": [
    {
     "name": "stdout",
     "output_type": "stream",
     "text": [
      "count    167.000000\n",
      "mean      56.829401\n",
      "std       19.914638\n",
      "min       16.160000\n",
      "25%       39.650000\n",
      "50%       57.170000\n",
      "75%       72.865000\n",
      "max       94.100000\n",
      "Name: PersonelFreedom, dtype: float64\n",
      "57.17\n"
     ]
    }
   ],
   "source": [
    "print(cntr['PersonelFreedom'].describe())\n",
    "print(cntr['PersonelFreedom'].median())"
   ]
  },
  {
   "cell_type": "code",
   "execution_count": 9,
   "id": "32690ed5-480e-4276-b440-e3a399951ca9",
   "metadata": {},
   "outputs": [
    {
     "name": "stdout",
     "output_type": "stream",
     "text": [
      "count    167.000000\n",
      "mean      50.360299\n",
      "std       17.747092\n",
      "min       13.090000\n",
      "25%       37.470000\n",
      "50%       47.510000\n",
      "75%       60.965000\n",
      "max       90.410000\n",
      "Name: Governance, dtype: float64\n",
      "47.51\n"
     ]
    }
   ],
   "source": [
    "print(cntr['Governance'].describe())\n",
    "print(cntr['Governance'].median())"
   ]
  },
  {
   "cell_type": "code",
   "execution_count": 10,
   "id": "2728eb9b-2b31-4051-9b12-acbceec0a90f",
   "metadata": {},
   "outputs": [
    {
     "name": "stdout",
     "output_type": "stream",
     "text": [
      "count    167.000000\n",
      "mean      54.468024\n",
      "std       10.350639\n",
      "min       23.010000\n",
      "25%       47.820000\n",
      "50%       54.390000\n",
      "75%       60.610000\n",
      "max       82.560000\n",
      "Name: SocialCapital, dtype: float64\n",
      "54.39\n"
     ]
    }
   ],
   "source": [
    "print(cntr['SocialCapital'].describe())\n",
    "print(cntr['SocialCapital'].median())"
   ]
  },
  {
   "cell_type": "code",
   "execution_count": 11,
   "id": "5dd4e877-4652-4283-a937-3c8245d5e1b1",
   "metadata": {},
   "outputs": [
    {
     "name": "stdout",
     "output_type": "stream",
     "text": [
      "count    167.000000\n",
      "mean      53.013653\n",
      "std       16.743723\n",
      "min       21.690000\n",
      "25%       40.765000\n",
      "50%       51.250000\n",
      "75%       64.640000\n",
      "max       84.990000\n",
      "Name: InvestmentEnvironment, dtype: float64\n",
      "51.25\n"
     ]
    }
   ],
   "source": [
    "print(cntr['InvestmentEnvironment'].describe())\n",
    "print(cntr['InvestmentEnvironment'].median())"
   ]
  },
  {
   "cell_type": "code",
   "execution_count": 12,
   "id": "b782013f-19cb-4a61-a66f-0bbce87888ed",
   "metadata": {},
   "outputs": [
    {
     "name": "stdout",
     "output_type": "stream",
     "text": [
      "count    167.000000\n",
      "mean      54.791677\n",
      "std       12.876166\n",
      "min       20.500000\n",
      "25%       45.830000\n",
      "50%       53.520000\n",
      "75%       62.760000\n",
      "max       83.840000\n",
      "Name: EnterpriseConditions, dtype: float64\n",
      "53.52\n"
     ]
    }
   ],
   "source": [
    "print(cntr['EnterpriseConditions'].describe())\n",
    "print(cntr['EnterpriseConditions'].median())"
   ]
  },
  {
   "cell_type": "code",
   "execution_count": 13,
   "id": "7cfd9ce1-54cb-43b6-86aa-6d73ac42387f",
   "metadata": {},
   "outputs": [
    {
     "name": "stdout",
     "output_type": "stream",
     "text": [
      "count    167.000000\n",
      "mean      55.019701\n",
      "std       15.849004\n",
      "min       24.230000\n",
      "25%       40.055000\n",
      "50%       56.590000\n",
      "75%       69.060000\n",
      "max       85.750000\n",
      "Name: MarketAccessInfrastructure, dtype: float64\n",
      "56.59\n"
     ]
    }
   ],
   "source": [
    "print(cntr['MarketAccessInfrastructure'].describe())\n",
    "print(cntr['MarketAccessInfrastructure'].median())"
   ]
  },
  {
   "cell_type": "code",
   "execution_count": 14,
   "id": "3c1763a2-8b6f-4825-ad80-849eeee27d43",
   "metadata": {},
   "outputs": [
    {
     "name": "stdout",
     "output_type": "stream",
     "text": [
      "count    167.000000\n",
      "mean      51.568683\n",
      "std       13.427811\n",
      "min       24.460000\n",
      "25%       41.295000\n",
      "50%       50.060000\n",
      "75%       62.555000\n",
      "max       80.100000\n",
      "Name: EconomicQuality, dtype: float64\n",
      "50.06\n"
     ]
    }
   ],
   "source": [
    "print(cntr['EconomicQuality'].describe())\n",
    "print(cntr['EconomicQuality'].median())"
   ]
  },
  {
   "cell_type": "code",
   "execution_count": 15,
   "id": "4e95400b-4dd3-4ad1-88ac-6ecfb34596a8",
   "metadata": {},
   "outputs": [
    {
     "name": "stdout",
     "output_type": "stream",
     "text": [
      "count    167.000000\n",
      "mean      69.803293\n",
      "std       19.752677\n",
      "min       19.210000\n",
      "25%       55.830000\n",
      "50%       74.770000\n",
      "75%       86.975000\n",
      "max       95.860000\n",
      "Name: LivingConditions, dtype: float64\n",
      "74.77\n"
     ]
    }
   ],
   "source": [
    "print(cntr['LivingConditions'].describe())\n",
    "print(cntr['LivingConditions'].median())"
   ]
  },
  {
   "cell_type": "code",
   "execution_count": 16,
   "id": "8343bbb0-d3c6-4be4-a33a-7537dbda02d0",
   "metadata": {},
   "outputs": [
    {
     "name": "stdout",
     "output_type": "stream",
     "text": [
      "count    167.000000\n",
      "mean      68.624910\n",
      "std       11.166266\n",
      "min       31.950000\n",
      "25%       60.595000\n",
      "50%       71.380000\n",
      "75%       77.340000\n",
      "max       86.890000\n",
      "Name: Health, dtype: float64\n",
      "71.38\n"
     ]
    }
   ],
   "source": [
    "print(cntr['Health'].describe())\n",
    "print(cntr['Health'].median())"
   ]
  },
  {
   "cell_type": "code",
   "execution_count": 17,
   "id": "4334fc5f-9f30-41ac-ad1e-d015b55124b7",
   "metadata": {},
   "outputs": [
    {
     "name": "stdout",
     "output_type": "stream",
     "text": [
      "count    167.000000\n",
      "mean      58.723772\n",
      "std       19.679023\n",
      "min       16.780000\n",
      "25%       44.355000\n",
      "50%       61.930000\n",
      "75%       74.130000\n",
      "max       91.440000\n",
      "Name: Education, dtype: float64\n",
      "61.93\n"
     ]
    }
   ],
   "source": [
    "print(cntr['Education'].describe())\n",
    "print(cntr['Education'].median())"
   ]
  },
  {
   "cell_type": "code",
   "execution_count": 18,
   "id": "311ca7f4-e64a-43b9-a4d6-d05bc80ad557",
   "metadata": {},
   "outputs": [
    {
     "name": "stdout",
     "output_type": "stream",
     "text": [
      "count    167.000000\n",
      "mean      56.231737\n",
      "std        9.061262\n",
      "min       33.670000\n",
      "25%       50.265000\n",
      "50%       55.540000\n",
      "75%       61.940000\n",
      "max       78.740000\n",
      "Name: NaturalEnvironment, dtype: float64\n",
      "55.54\n"
     ]
    }
   ],
   "source": [
    "print(cntr['NaturalEnvironment'].describe())\n",
    "print(cntr['NaturalEnvironment'].median())"
   ]
  },
  {
   "cell_type": "markdown",
   "id": "6225f3a6-150d-4b27-a85f-3984fe4f3446",
   "metadata": {},
   "source": [
    "<h2>Во-первых, рассмотрим зависимость между Governance (компетенции руководства?) и SafetySecurity (безопасность) and PersonalFreedom (личными свободами)<h2>"
   ]
  },
  {
   "cell_type": "code",
   "execution_count": 19,
   "id": "44b67ab3-322a-4afd-982a-a56af2b46792",
   "metadata": {},
   "outputs": [
    {
     "name": "stdout",
     "output_type": "stream",
     "text": [
      "0.76255346698305\n",
      "0.8163122586042961\n"
     ]
    },
    {
     "data": {
      "application/vnd.plotly.v1+json": {
       "config": {
        "plotlyServerURL": "https://plot.ly"
       },
       "data": [
        {
         "hovertemplate": "<b>%{hovertext}</b><br><br>PersonelFreedom=%{x}<br>SafetySecurity=%{y}<br>Governance=%{marker.color}<extra></extra>",
         "hovertext": [
          "Denmark",
          "Sweden",
          "Norway",
          "Finland",
          "Switzerland",
          "Netherlands",
          "Luxembourg",
          "Iceland",
          "Germany",
          "New Zealand",
          "Ireland",
          "United Kingdom",
          "Canada",
          "Austria",
          "Australia",
          "Japan",
          "Singapore",
          "Belgium",
          "United States",
          "Taiwan",
          "Estonia",
          "Hong Kong",
          "France",
          "Spain",
          "Czech Republic",
          "Portugal",
          "Slovenia",
          "Malta",
          "South Korea",
          "Italy",
          "Latvia",
          "Lithuania",
          "Israel",
          "Cyprus",
          "Slovakia",
          "Chile",
          "Poland",
          "Uruguay",
          "Costa Rica",
          "Greece",
          "Croatia",
          "Hungary",
          "Malaysia",
          "United Arab Emirates",
          "Romania",
          "Qatar",
          "Mauritius",
          "Bulgaria",
          "Montenegro",
          "Panama",
          "Seychelles",
          "Serbia",
          "Georgia",
          "China",
          "Macedonia",
          "Trinidad and Tobago",
          "Jamaica",
          "Argentina",
          "Peru",
          "Kuwait",
          "Armenia",
          "Bahrain",
          "Indonesia",
          "Thailand",
          "Albania",
          "Brazil",
          "Oman",
          "Dominican Republic",
          "Kazakhstan",
          "Moldova",
          "Mexico",
          "Bosnia and Herzegovina",
          "Vietnam",
          "Ukraine",
          "South Africa",
          "Paraguay",
          "Russia",
          "Belarus",
          "Saudi Arabia",
          "Cabo Verde",
          "Colombia",
          "Suriname",
          "Botswana",
          "Philippines",
          "Ecuador",
          "Jordan",
          "São Tomé and Príncipe",
          "Mongolia",
          "Guyana",
          "Namibia",
          "Sri Lanka",
          "Azerbaijan",
          "Belize",
          "Kyrgyzstan",
          "Turkey",
          "Morocco",
          "El Salvador",
          "Ghana",
          "Tunisia",
          "Uzbekistan",
          "Guatemala",
          "Senegal",
          "India",
          "Cuba",
          "Honduras",
          "Bolivia",
          "Turkmenistan",
          "Kenya",
          "Algeria",
          "Nepal",
          "Rwanda",
          "Lebanon",
          "Tajikistan",
          "Nicaragua",
          "Laos",
          "Gambia",
          "Tanzania",
          "Cambodia",
          "Gabon",
          "Côte d'Ivoire",
          "Egypt",
          "Djibouti",
          "Benin",
          "Bangladesh",
          "Malawi",
          "Iran",
          "Zambia",
          "Comoros",
          "Uganda",
          "Papua New Guinea",
          "Equatorial Guinea",
          "Lesotho",
          "Togo",
          "Swaziland",
          "Burkina Faso",
          "Pakistan",
          "Madagascar",
          "Liberia",
          "Zimbabwe",
          "Iraq",
          "Guinea",
          "Nigeria",
          "Myanmar",
          "Sierra Leone",
          "Venezuela",
          "Libya",
          "Cameroon",
          "Congo",
          "Guinea-Bissau",
          "Mozambique",
          "Mali",
          "Niger",
          "Ethiopia",
          "Mauritania",
          "Angola",
          "Haiti",
          "Burundi",
          "Sudan",
          "Syria",
          "Eritrea",
          "Democratic Republic of Congo",
          "Chad",
          "Somalia",
          "Afghanistan",
          "Central African Republic",
          "Yemen",
          "South Sudan"
         ],
         "legendgroup": "",
         "marker": {
          "color": {
           "bdata": "zczMzMxcVkAK16NwPZpVQArXo3A9alZACtejcD2aVkB7FK5H4epVQPYoXI/C1VVApHA9CteTVUAzMzMzM9NUQClcj8L1GFVAXI/C9SjMVUCuR+F6FG5UQLgehetRKFRA9ihcj8KVVEBcj8L1KExUQKRwPQrXs1RAexSuR+HqU0BI4XoUrsdTQKRwPQrXE1RA7FG4HoXLUkDsUbgehWtTQFK4HoXrwVNApHA9CtcTUkCPwvUoXE9TQB+F61G4HlJArkfhehQuUUBcj8L1KExSQBSuR+F61E9AcT0K16OQUUApXI/C9UhRQArXo3A9Kk9AFK5H4Xo0UUAUrkfheiRSQJqZmZmZ2VJAXI/C9ShsUEDXo3A9CvdOQB+F61G4vlBApHA9CtcDTUAUrkfhejRSQAAAAAAAAFFASOF6FK5nTkAzMzMzMxNMQAAAAAAA4EZAPQrXo3CdTEDhehSuR8FPQK5H4XoUjkxAuB6F61EYTUDNzMzMzOxPQI/C9Shcj0pAMzMzMzPzS0BI4XoUrudIQHsUrkfhOk5AhetRuB5lRkCF61G4HgVMQFyPwvUoPEhAPQrXo3A9SEAK16NwPapKQAAAAAAAwEtAw/UoXI/CSEBSuB6F6xFIQIXrUbgehUdAAAAAAAAASUA9CtejcF1GQB+F61G4nktAH4XrUbgeREC4HoXrUThIQI/C9Shcj0dAzczMzMzMR0ApXI/C9ShHQDMzMzMzM0ZAmpmZmZn5R0BSuB6F6/FFQLgehetRWENArkfhehTuR0CamZmZmflGQHE9Ctej0ExAUrgeheuRRUBmZmZmZoZEQMP1KFyP4kFAXI/C9SjcR0CPwvUoXI9OQPYoXI/CdUdAXI/C9SjcR0B7FK5H4bpOQLgehetR2EZAcT0K16NwRUC4HoXrUbhIQNejcD0Kt0lAAAAAAACgSEAK16NwPUpIQOF6FK5HIU1AZmZmZmYGSEDD9Shcj0JEQAAAAAAAYEZA7FG4HoWrREBSuB6F63FCQK5H4XoULkdArkfhehTuRUAfhetRuD5LQBSuR+F6VElAcT0K16NQQ0B7FK5H4dpCQGZmZmZm5kpApHA9CtcDTEAfhetRuD5CQEjhehSu50BAFK5H4Xp0QkAK16NwPco7QOF6FK5HwUdAexSuR+H6REAfhetRuD5IQIXrUbgeBU5AMzMzMzNzQECuR+F6FG5CQK5H4XoUbjxAMzMzMzOzQ0BxPQrXo/BIQB+F61G4nkdAMzMzMzPzOkDD9Shcj4JBQBSuR+F69EVAj8L1KFwPQUA9CtejcB1EQIXrUbgepUhAAAAAAAAgQkBxPQrXozBIQBSuR+F61D9ApHA9CtcDRUDNzMzMzEw9QB+F61G4PkNArkfhehRuREBxPQrXo3A8QLgehetRmEZAPQrXo3CdQkBmZmZmZgZCQPYoXI/C1UZA16NwPQq3Q0C4HoXrUZhDQIXrUbgepURAKVyPwvWoP0DNzMzMzOxBQAAAAAAAYEJAexSuR+E6QkBI4XoUrudAQK5H4XoUjkVArkfhehQuKkB7FK5H4Xo4QOxRuB6Faz9AcT0K16PwPEBmZmZmZoZBQBSuR+F6lENAPQrXo3C9Q0B7FK5H4ZpEQK5H4XoU7kNA7FG4HoVrPEBSuB6F69FBQHsUrkfhujlApHA9CtdjQEBmZmZmZuY/QIXrUbgeRTVA16NwPQqXNkAAAAAAAIA5QPYoXI/C9TZAzczMzMzMN0C4HoXrUXg9QGZmZmZmZjxAMzMzMzMzMkApXI/C9Sg2QA==",
           "dtype": "f8"
          },
          "coloraxis": "coloraxis",
          "size": {
           "bdata": "zczMzMxcVkAK16NwPZpVQArXo3A9alZACtejcD2aVkB7FK5H4epVQPYoXI/C1VVApHA9CteTVUAzMzMzM9NUQClcj8L1GFVAXI/C9SjMVUCuR+F6FG5UQLgehetRKFRA9ihcj8KVVEBcj8L1KExUQKRwPQrXs1RAexSuR+HqU0BI4XoUrsdTQKRwPQrXE1RA7FG4HoXLUkDsUbgehWtTQFK4HoXrwVNApHA9CtcTUkCPwvUoXE9TQB+F61G4HlJArkfhehQuUUBcj8L1KExSQBSuR+F61E9AcT0K16OQUUApXI/C9UhRQArXo3A9Kk9AFK5H4Xo0UUAUrkfheiRSQJqZmZmZ2VJAXI/C9ShsUEDXo3A9CvdOQB+F61G4vlBApHA9CtcDTUAUrkfhejRSQAAAAAAAAFFASOF6FK5nTkAzMzMzMxNMQAAAAAAA4EZAPQrXo3CdTEDhehSuR8FPQK5H4XoUjkxAuB6F61EYTUDNzMzMzOxPQI/C9Shcj0pAMzMzMzPzS0BI4XoUrudIQHsUrkfhOk5AhetRuB5lRkCF61G4HgVMQFyPwvUoPEhAPQrXo3A9SEAK16NwPapKQAAAAAAAwEtAw/UoXI/CSEBSuB6F6xFIQIXrUbgehUdAAAAAAAAASUA9CtejcF1GQB+F61G4nktAH4XrUbgeREC4HoXrUThIQI/C9Shcj0dAzczMzMzMR0ApXI/C9ShHQDMzMzMzM0ZAmpmZmZn5R0BSuB6F6/FFQLgehetRWENArkfhehTuR0CamZmZmflGQHE9Ctej0ExAUrgeheuRRUBmZmZmZoZEQMP1KFyP4kFAXI/C9SjcR0CPwvUoXI9OQPYoXI/CdUdAXI/C9SjcR0B7FK5H4bpOQLgehetR2EZAcT0K16NwRUC4HoXrUbhIQNejcD0Kt0lAAAAAAACgSEAK16NwPUpIQOF6FK5HIU1AZmZmZmYGSEDD9Shcj0JEQAAAAAAAYEZA7FG4HoWrREBSuB6F63FCQK5H4XoULkdArkfhehTuRUAfhetRuD5LQBSuR+F6VElAcT0K16NQQ0B7FK5H4dpCQGZmZmZm5kpApHA9CtcDTEAfhetRuD5CQEjhehSu50BAFK5H4Xp0QkAK16NwPco7QOF6FK5HwUdAexSuR+H6REAfhetRuD5IQIXrUbgeBU5AMzMzMzNzQECuR+F6FG5CQK5H4XoUbjxAMzMzMzOzQ0BxPQrXo/BIQB+F61G4nkdAMzMzMzPzOkDD9Shcj4JBQBSuR+F69EVAj8L1KFwPQUA9CtejcB1EQIXrUbgepUhAAAAAAAAgQkBxPQrXozBIQBSuR+F61D9ApHA9CtcDRUDNzMzMzEw9QB+F61G4PkNArkfhehRuREBxPQrXo3A8QLgehetRmEZAPQrXo3CdQkBmZmZmZgZCQPYoXI/C1UZA16NwPQq3Q0C4HoXrUZhDQIXrUbgepURAKVyPwvWoP0DNzMzMzOxBQAAAAAAAYEJAexSuR+E6QkBI4XoUrudAQK5H4XoUjkVArkfhehQuKkB7FK5H4Xo4QOxRuB6Faz9AcT0K16PwPEBmZmZmZoZBQBSuR+F6lENAPQrXo3C9Q0B7FK5H4ZpEQK5H4XoU7kNA7FG4HoVrPEBSuB6F69FBQHsUrkfhujlApHA9CtdjQEBmZmZmZuY/QIXrUbgeRTVA16NwPQqXNkAAAAAAAIA5QPYoXI/C9TZAzczMzMzMN0C4HoXrUXg9QGZmZmZmZjxAMzMzMzMzMkApXI/C9Sg2QA==",
           "dtype": "f8"
          },
          "sizemode": "area",
          "sizeref": 0.226025,
          "symbol": "circle"
         },
         "mode": "markers",
         "name": "",
         "orientation": "v",
         "showlegend": false,
         "type": "scatter",
         "x": {
          "bdata": "9ihcj8KFV0CamZmZmflWQGZmZmZmhldAPQrXo3D9VkAAAAAAAOBVQIXrUbgehVZAzczMzMxMVkCPwvUoXC9WQM3MzMzM7FVApHA9CtfjVUD2KFyPwiVWQClcj8L1aFVASOF6FK6nVUCPwvUoXH9VQFK4HoXrIVVAKVyPwvXIU0BxPQrXo1BIQM3MzMzM7FVAZmZmZma2U0AfhetRuM5TQM3MzMzMzFVApHA9CtejSkCkcD0K18NTQJqZmZmZ6VRAUrgeheuhVEBSuB6F63FVQDMzMzMz81JAMzMzMzNDVEAUrkfhekRSQFyPwvUonFNAKVyPwvVYVEBI4XoUrudTQMP1KFyPIlFApHA9CteTU0BmZmZmZqZTQGZmZmZmFlNA9ihcj8LFUEBI4XoUrjdVQI/C9ShcL1VAMzMzMzNTUkAK16NwPcpSQK5H4XoULk5AMzMzMzNzR0CF61G4HkU/QKRwPQrXY1JAKVyPwvWoPkAzMzMzMxNRQKRwPQrXE1FA9ihcj8IlUUCPwvUoXM9QQI/C9Shcz05AexSuR+E6TkCF61G4HmVQQLgehetRODVAPQrXo3AtUECuR+F6FE5SQEjhehSux1JAXI/C9SgMU0DhehSuR6FQQDMzMzMzk0VASOF6FK5HT0AAAAAAAMA7QOxRuB6Fy0pAAAAAAACgRUDsUbgehctOQDMzMzMzk09AmpmZmZnZQEDNzMzMzFxRQNejcD0Kt0NAw/UoXI/CT0AK16NwPSpNQAAAAAAAYE9AzczMzMxsQUDD9Shcj2JPQEjhehSud1JAcT0K16OwTkBxPQrXozBBQFK4HoXrUUBAH4XrUbjeNEAK16NwPSpSQPYoXI/C9UxACtejcD1aUUApXI/C9ahQQJqZmZmZmUxAFK5H4XrUT0AUrkfhetRFQGZmZmZmZlFAcT0K16OQUEDsUbgehStQQM3MzMzM7FBAw/UoXI/CSkCuR+F6FE5AQOxRuB6Fa1FA7FG4HoWLSUC4HoXrUTg+QHE9Ctej0EZAhetRuB5FTECamZmZmRlRQAAAAAAAYExAuB6F61E4P0C4HoXrUZhLQM3MzMzMHFBAMzMzMzOzR0ApXI/C9ag8QFK4HoXrUUtAPQrXo3B9TUCF61G4HkU2QM3MzMzMjEtAzczMzMyMQ0D2KFyPwpVMQK5H4XoUDkZAUrgehetxSkCamZmZmTlAQHsUrkfh+kNAw/UoXI+CO0DhehSuR0FKQOF6FK5H4UdAcT0K16MQQkApXI/C9ShIQGZmZmZmhktAmpmZmZnZOEAfhetRuF5DQArXo3A9ik1Aj8L1KFzvQ0CuR+F6FM5OQNejcD0KFzFAhetRuB4lSEAzMzMzM7NKQMP1KFyP4kRAZmZmZmYGUEA9CtejcH0+QM3MzMzMjE1ArkfhehTuSECPwvUoXI8+QMP1KFyPwk9AUrgehetRRUBSuB6F6xFNQHsUrkfh+ktAFK5H4Xr0QkDhehSuRwFDQKRwPQrXA0hArkfhehTOSEAzMzMzM7M0QFyPwvUofExAcT0K16NQQkBxPQrXo3BDQJqZmZmZmUNAcT0K16MwQ0A9CtejcJ1KQHE9CtejUEpArkfhehROTECF61G4HuVLQPYoXI/ClUFAAAAAAACAREBxPQrXo5BEQFyPwvUofElAAAAAAAAAPUAK16NwPUo9QClcj8L1KDBAhetRuB7FMEBmZmZmZsZFQKRwPQrXI0NAKVyPwvUoQUCF61G4HgU/QArXo3A9akJAzczMzMxMOUB7FK5H4fo6QA==",
          "dtype": "f8"
         },
         "xaxis": "x",
         "y": {
          "bdata": "9ihcj8IlV0CuR+F6FL5WQDMzMzMzU1dApHA9CtdjVkAK16NwPepXQFyPwvUozFZAFK5H4XoUWEApXI/C9ehWQHsUrkfh+lVAFK5H4XpEVUCuR+F6FL5WQLgehetR6FVAexSuR+H6VUBcj8L1KLxWQArXo3A9+lVAUrgehesxV0AzMzMzMwNXQHE9CtejcFVA7FG4HoUbUkA9CtejcD1XQEjhehSuh1VACtejcD1KVkAfhetRuL5UQEjhehSut1VAKVyPwvWoVkBSuB6F64FVQDMzMzMzg1ZA16NwPQpHVkBSuB6F68FUQMP1KFyPolVAKVyPwvVIVUBSuB6F67FVQM3MzMzMzE1AFK5H4XoUVEDhehSuR9FVQOF6FK5HkVFAj8L1KFyvVUDsUbgehdtTQDMzMzMzc1NAzczMzMwMVUApXI/C9RhVQDMzMzMz81RApHA9CtezUUCamZmZmUlTQJqZmZmZ6VRAPQrXo3C9VUAzMzMzMzNUQPYoXI/CtVJAzczMzMw8VEAK16NwPWpTQFK4HoXrAVNAMzMzMzPzU0D2KFyPwlVRQD0K16Nw/VBAcT0K16PwUkDsUbgehTtRQOF6FK5HAU5ArkfhehRuUUBSuB6F6+FQQEjhehSuR1NAH4XrUbieUUDD9Shcj6JQQNejcD0Kd1FAj8L1KFxvTkCamZmZmblSQFK4HoXrEU5A9ihcj8JlVEDD9Shcj+JPQPYoXI/CZVFAw/UoXI8yUkCF61G4HsVFQHsUrkfhqlNAZmZmZmZGUUBI4XoUridLQArXo3A9KkpAMzMzMzNjUkApXI/C9chJQIXrUbgexVFAmpmZmZmJUEBSuB6F63FUQOxRuB6FS0JAj8L1KFx/UkBmZmZmZgZSQD0K16NwHUdAZmZmZmbmUEDhehSuR6FRQI/C9Shc71NAj8L1KFyPUkBxPQrXo6BQQFyPwvUoXFJAzczMzMzMSkBcj8L1KLxPQI/C9Shc31BAmpmZmZn5UUCamZmZmdlGQK5H4XoUjlJAuB6F61G4TUAAAAAAAHBRQArXo3A96k1AKVyPwvX4UkCkcD0K14NOQLgehetRaFBAUrgehevxSUDD9Shcj3JQQGZmZmZmJkxAmpmZmZmJUEApXI/C9VhSQFK4HoXr0UdAzczMzMysUkApXI/C9ahQQFK4HoXrkU1AFK5H4Xo0TED2KFyPwpVRQD0K16Nw3U9AMzMzMzPjUkBSuB6F67FQQOxRuB6FK1BA9ihcj8KFUEB7FK5H4QpQQDMzMzMzU05AcT0K16MQSEBcj8L1KBxRQDMzMzMzI1JAj8L1KFxPSUA9CtejcH1QQClcj8L1yEtAMzMzMzODUEAzMzMzM7NSQOF6FK5HgUpA4XoUrkdhT0D2KFyPwtVQQDMzMzMzk1BACtejcD2qUECkcD0K1wNPQFK4HoXr8UdAcT0K16MQRUCPwvUoXO9NQAAAAAAAoE9APQrXo3C9T0BxPQrXo/A6QPYoXI/C1U1AZmZmZmamQ0DNzMzMzGxCQHE9Ctej8E9AmpmZmZk5REApXI/C9Sg+QFyPwvUoXEJA4XoUrkfhSkDXo3A9CvdSQB+F61G4HktAhetRuB4FQUC4HoXrUXhJQI/C9Shcz0RAmpmZmZnpUEAK16NwPapOQDMzMzMzU0xArkfhehTOQ0CkcD0K16NAQFyPwvUoHDdASOF6FK4HSkAK16NwPco/QGZmZmZmhkdAKVyPwvXoP0CuR+F6FO40QGZmZmZmpkFAmpmZmZmZNkAK16NwPYowQA==",
          "dtype": "f8"
         },
         "yaxis": "y"
        }
       ],
       "layout": {
        "coloraxis": {
         "colorbar": {
          "title": {
           "text": "Governance"
          }
         },
         "colorscale": [
          [
           0,
           "#0d0887"
          ],
          [
           0.1111111111111111,
           "#46039f"
          ],
          [
           0.2222222222222222,
           "#7201a8"
          ],
          [
           0.3333333333333333,
           "#9c179e"
          ],
          [
           0.4444444444444444,
           "#bd3786"
          ],
          [
           0.5555555555555556,
           "#d8576b"
          ],
          [
           0.6666666666666666,
           "#ed7953"
          ],
          [
           0.7777777777777778,
           "#fb9f3a"
          ],
          [
           0.8888888888888888,
           "#fdca26"
          ],
          [
           1,
           "#f0f921"
          ]
         ]
        },
        "legend": {
         "itemsizing": "constant",
         "tracegroupgap": 0
        },
        "margin": {
         "t": 60
        },
        "template": {
         "data": {
          "bar": [
           {
            "error_x": {
             "color": "#2a3f5f"
            },
            "error_y": {
             "color": "#2a3f5f"
            },
            "marker": {
             "line": {
              "color": "#E5ECF6",
              "width": 0.5
             },
             "pattern": {
              "fillmode": "overlay",
              "size": 10,
              "solidity": 0.2
             }
            },
            "type": "bar"
           }
          ],
          "barpolar": [
           {
            "marker": {
             "line": {
              "color": "#E5ECF6",
              "width": 0.5
             },
             "pattern": {
              "fillmode": "overlay",
              "size": 10,
              "solidity": 0.2
             }
            },
            "type": "barpolar"
           }
          ],
          "carpet": [
           {
            "aaxis": {
             "endlinecolor": "#2a3f5f",
             "gridcolor": "white",
             "linecolor": "white",
             "minorgridcolor": "white",
             "startlinecolor": "#2a3f5f"
            },
            "baxis": {
             "endlinecolor": "#2a3f5f",
             "gridcolor": "white",
             "linecolor": "white",
             "minorgridcolor": "white",
             "startlinecolor": "#2a3f5f"
            },
            "type": "carpet"
           }
          ],
          "choropleth": [
           {
            "colorbar": {
             "outlinewidth": 0,
             "ticks": ""
            },
            "type": "choropleth"
           }
          ],
          "contour": [
           {
            "colorbar": {
             "outlinewidth": 0,
             "ticks": ""
            },
            "colorscale": [
             [
              0,
              "#0d0887"
             ],
             [
              0.1111111111111111,
              "#46039f"
             ],
             [
              0.2222222222222222,
              "#7201a8"
             ],
             [
              0.3333333333333333,
              "#9c179e"
             ],
             [
              0.4444444444444444,
              "#bd3786"
             ],
             [
              0.5555555555555556,
              "#d8576b"
             ],
             [
              0.6666666666666666,
              "#ed7953"
             ],
             [
              0.7777777777777778,
              "#fb9f3a"
             ],
             [
              0.8888888888888888,
              "#fdca26"
             ],
             [
              1,
              "#f0f921"
             ]
            ],
            "type": "contour"
           }
          ],
          "contourcarpet": [
           {
            "colorbar": {
             "outlinewidth": 0,
             "ticks": ""
            },
            "type": "contourcarpet"
           }
          ],
          "heatmap": [
           {
            "colorbar": {
             "outlinewidth": 0,
             "ticks": ""
            },
            "colorscale": [
             [
              0,
              "#0d0887"
             ],
             [
              0.1111111111111111,
              "#46039f"
             ],
             [
              0.2222222222222222,
              "#7201a8"
             ],
             [
              0.3333333333333333,
              "#9c179e"
             ],
             [
              0.4444444444444444,
              "#bd3786"
             ],
             [
              0.5555555555555556,
              "#d8576b"
             ],
             [
              0.6666666666666666,
              "#ed7953"
             ],
             [
              0.7777777777777778,
              "#fb9f3a"
             ],
             [
              0.8888888888888888,
              "#fdca26"
             ],
             [
              1,
              "#f0f921"
             ]
            ],
            "type": "heatmap"
           }
          ],
          "histogram": [
           {
            "marker": {
             "pattern": {
              "fillmode": "overlay",
              "size": 10,
              "solidity": 0.2
             }
            },
            "type": "histogram"
           }
          ],
          "histogram2d": [
           {
            "colorbar": {
             "outlinewidth": 0,
             "ticks": ""
            },
            "colorscale": [
             [
              0,
              "#0d0887"
             ],
             [
              0.1111111111111111,
              "#46039f"
             ],
             [
              0.2222222222222222,
              "#7201a8"
             ],
             [
              0.3333333333333333,
              "#9c179e"
             ],
             [
              0.4444444444444444,
              "#bd3786"
             ],
             [
              0.5555555555555556,
              "#d8576b"
             ],
             [
              0.6666666666666666,
              "#ed7953"
             ],
             [
              0.7777777777777778,
              "#fb9f3a"
             ],
             [
              0.8888888888888888,
              "#fdca26"
             ],
             [
              1,
              "#f0f921"
             ]
            ],
            "type": "histogram2d"
           }
          ],
          "histogram2dcontour": [
           {
            "colorbar": {
             "outlinewidth": 0,
             "ticks": ""
            },
            "colorscale": [
             [
              0,
              "#0d0887"
             ],
             [
              0.1111111111111111,
              "#46039f"
             ],
             [
              0.2222222222222222,
              "#7201a8"
             ],
             [
              0.3333333333333333,
              "#9c179e"
             ],
             [
              0.4444444444444444,
              "#bd3786"
             ],
             [
              0.5555555555555556,
              "#d8576b"
             ],
             [
              0.6666666666666666,
              "#ed7953"
             ],
             [
              0.7777777777777778,
              "#fb9f3a"
             ],
             [
              0.8888888888888888,
              "#fdca26"
             ],
             [
              1,
              "#f0f921"
             ]
            ],
            "type": "histogram2dcontour"
           }
          ],
          "mesh3d": [
           {
            "colorbar": {
             "outlinewidth": 0,
             "ticks": ""
            },
            "type": "mesh3d"
           }
          ],
          "parcoords": [
           {
            "line": {
             "colorbar": {
              "outlinewidth": 0,
              "ticks": ""
             }
            },
            "type": "parcoords"
           }
          ],
          "pie": [
           {
            "automargin": true,
            "type": "pie"
           }
          ],
          "scatter": [
           {
            "fillpattern": {
             "fillmode": "overlay",
             "size": 10,
             "solidity": 0.2
            },
            "type": "scatter"
           }
          ],
          "scatter3d": [
           {
            "line": {
             "colorbar": {
              "outlinewidth": 0,
              "ticks": ""
             }
            },
            "marker": {
             "colorbar": {
              "outlinewidth": 0,
              "ticks": ""
             }
            },
            "type": "scatter3d"
           }
          ],
          "scattercarpet": [
           {
            "marker": {
             "colorbar": {
              "outlinewidth": 0,
              "ticks": ""
             }
            },
            "type": "scattercarpet"
           }
          ],
          "scattergeo": [
           {
            "marker": {
             "colorbar": {
              "outlinewidth": 0,
              "ticks": ""
             }
            },
            "type": "scattergeo"
           }
          ],
          "scattergl": [
           {
            "marker": {
             "colorbar": {
              "outlinewidth": 0,
              "ticks": ""
             }
            },
            "type": "scattergl"
           }
          ],
          "scattermap": [
           {
            "marker": {
             "colorbar": {
              "outlinewidth": 0,
              "ticks": ""
             }
            },
            "type": "scattermap"
           }
          ],
          "scattermapbox": [
           {
            "marker": {
             "colorbar": {
              "outlinewidth": 0,
              "ticks": ""
             }
            },
            "type": "scattermapbox"
           }
          ],
          "scatterpolar": [
           {
            "marker": {
             "colorbar": {
              "outlinewidth": 0,
              "ticks": ""
             }
            },
            "type": "scatterpolar"
           }
          ],
          "scatterpolargl": [
           {
            "marker": {
             "colorbar": {
              "outlinewidth": 0,
              "ticks": ""
             }
            },
            "type": "scatterpolargl"
           }
          ],
          "scatterternary": [
           {
            "marker": {
             "colorbar": {
              "outlinewidth": 0,
              "ticks": ""
             }
            },
            "type": "scatterternary"
           }
          ],
          "surface": [
           {
            "colorbar": {
             "outlinewidth": 0,
             "ticks": ""
            },
            "colorscale": [
             [
              0,
              "#0d0887"
             ],
             [
              0.1111111111111111,
              "#46039f"
             ],
             [
              0.2222222222222222,
              "#7201a8"
             ],
             [
              0.3333333333333333,
              "#9c179e"
             ],
             [
              0.4444444444444444,
              "#bd3786"
             ],
             [
              0.5555555555555556,
              "#d8576b"
             ],
             [
              0.6666666666666666,
              "#ed7953"
             ],
             [
              0.7777777777777778,
              "#fb9f3a"
             ],
             [
              0.8888888888888888,
              "#fdca26"
             ],
             [
              1,
              "#f0f921"
             ]
            ],
            "type": "surface"
           }
          ],
          "table": [
           {
            "cells": {
             "fill": {
              "color": "#EBF0F8"
             },
             "line": {
              "color": "white"
             }
            },
            "header": {
             "fill": {
              "color": "#C8D4E3"
             },
             "line": {
              "color": "white"
             }
            },
            "type": "table"
           }
          ]
         },
         "layout": {
          "annotationdefaults": {
           "arrowcolor": "#2a3f5f",
           "arrowhead": 0,
           "arrowwidth": 1
          },
          "autotypenumbers": "strict",
          "coloraxis": {
           "colorbar": {
            "outlinewidth": 0,
            "ticks": ""
           }
          },
          "colorscale": {
           "diverging": [
            [
             0,
             "#8e0152"
            ],
            [
             0.1,
             "#c51b7d"
            ],
            [
             0.2,
             "#de77ae"
            ],
            [
             0.3,
             "#f1b6da"
            ],
            [
             0.4,
             "#fde0ef"
            ],
            [
             0.5,
             "#f7f7f7"
            ],
            [
             0.6,
             "#e6f5d0"
            ],
            [
             0.7,
             "#b8e186"
            ],
            [
             0.8,
             "#7fbc41"
            ],
            [
             0.9,
             "#4d9221"
            ],
            [
             1,
             "#276419"
            ]
           ],
           "sequential": [
            [
             0,
             "#0d0887"
            ],
            [
             0.1111111111111111,
             "#46039f"
            ],
            [
             0.2222222222222222,
             "#7201a8"
            ],
            [
             0.3333333333333333,
             "#9c179e"
            ],
            [
             0.4444444444444444,
             "#bd3786"
            ],
            [
             0.5555555555555556,
             "#d8576b"
            ],
            [
             0.6666666666666666,
             "#ed7953"
            ],
            [
             0.7777777777777778,
             "#fb9f3a"
            ],
            [
             0.8888888888888888,
             "#fdca26"
            ],
            [
             1,
             "#f0f921"
            ]
           ],
           "sequentialminus": [
            [
             0,
             "#0d0887"
            ],
            [
             0.1111111111111111,
             "#46039f"
            ],
            [
             0.2222222222222222,
             "#7201a8"
            ],
            [
             0.3333333333333333,
             "#9c179e"
            ],
            [
             0.4444444444444444,
             "#bd3786"
            ],
            [
             0.5555555555555556,
             "#d8576b"
            ],
            [
             0.6666666666666666,
             "#ed7953"
            ],
            [
             0.7777777777777778,
             "#fb9f3a"
            ],
            [
             0.8888888888888888,
             "#fdca26"
            ],
            [
             1,
             "#f0f921"
            ]
           ]
          },
          "colorway": [
           "#636efa",
           "#EF553B",
           "#00cc96",
           "#ab63fa",
           "#FFA15A",
           "#19d3f3",
           "#FF6692",
           "#B6E880",
           "#FF97FF",
           "#FECB52"
          ],
          "font": {
           "color": "#2a3f5f"
          },
          "geo": {
           "bgcolor": "white",
           "lakecolor": "white",
           "landcolor": "#E5ECF6",
           "showlakes": true,
           "showland": true,
           "subunitcolor": "white"
          },
          "hoverlabel": {
           "align": "left"
          },
          "hovermode": "closest",
          "mapbox": {
           "style": "light"
          },
          "paper_bgcolor": "white",
          "plot_bgcolor": "#E5ECF6",
          "polar": {
           "angularaxis": {
            "gridcolor": "white",
            "linecolor": "white",
            "ticks": ""
           },
           "bgcolor": "#E5ECF6",
           "radialaxis": {
            "gridcolor": "white",
            "linecolor": "white",
            "ticks": ""
           }
          },
          "scene": {
           "xaxis": {
            "backgroundcolor": "#E5ECF6",
            "gridcolor": "white",
            "gridwidth": 2,
            "linecolor": "white",
            "showbackground": true,
            "ticks": "",
            "zerolinecolor": "white"
           },
           "yaxis": {
            "backgroundcolor": "#E5ECF6",
            "gridcolor": "white",
            "gridwidth": 2,
            "linecolor": "white",
            "showbackground": true,
            "ticks": "",
            "zerolinecolor": "white"
           },
           "zaxis": {
            "backgroundcolor": "#E5ECF6",
            "gridcolor": "white",
            "gridwidth": 2,
            "linecolor": "white",
            "showbackground": true,
            "ticks": "",
            "zerolinecolor": "white"
           }
          },
          "shapedefaults": {
           "line": {
            "color": "#2a3f5f"
           }
          },
          "ternary": {
           "aaxis": {
            "gridcolor": "white",
            "linecolor": "white",
            "ticks": ""
           },
           "baxis": {
            "gridcolor": "white",
            "linecolor": "white",
            "ticks": ""
           },
           "bgcolor": "#E5ECF6",
           "caxis": {
            "gridcolor": "white",
            "linecolor": "white",
            "ticks": ""
           }
          },
          "title": {
           "x": 0.05
          },
          "xaxis": {
           "automargin": true,
           "gridcolor": "white",
           "linecolor": "white",
           "ticks": "",
           "title": {
            "standoff": 15
           },
           "zerolinecolor": "white",
           "zerolinewidth": 2
          },
          "yaxis": {
           "automargin": true,
           "gridcolor": "white",
           "linecolor": "white",
           "ticks": "",
           "title": {
            "standoff": 15
           },
           "zerolinecolor": "white",
           "zerolinewidth": 2
          }
         }
        },
        "xaxis": {
         "anchor": "y",
         "domain": [
          0,
          1
         ],
         "title": {
          "text": "PersonelFreedom"
         }
        },
        "yaxis": {
         "anchor": "x",
         "domain": [
          0,
          1
         ],
         "title": {
          "text": "SafetySecurity"
         }
        }
       }
      },
      "text/html": [
       "<div>            <script src=\"https://cdnjs.cloudflare.com/ajax/libs/mathjax/2.7.5/MathJax.js?config=TeX-AMS-MML_SVG\"></script><script type=\"text/javascript\">if (window.MathJax && window.MathJax.Hub && window.MathJax.Hub.Config) {window.MathJax.Hub.Config({SVG: {font: \"STIX-Web\"}});}</script>                <script type=\"text/javascript\">window.PlotlyConfig = {MathJaxConfig: 'local'};</script>\n",
       "        <script charset=\"utf-8\" src=\"https://cdn.plot.ly/plotly-3.0.1.min.js\"></script>                <div id=\"5ee44255-afd3-49e9-ae51-a7a0e47ed511\" class=\"plotly-graph-div\" style=\"height:525px; width:100%;\"></div>            <script type=\"text/javascript\">                window.PLOTLYENV=window.PLOTLYENV || {};                                if (document.getElementById(\"5ee44255-afd3-49e9-ae51-a7a0e47ed511\")) {                    Plotly.newPlot(                        \"5ee44255-afd3-49e9-ae51-a7a0e47ed511\",                        [{\"hovertemplate\":\"\\u003cb\\u003e%{hovertext}\\u003c\\u002fb\\u003e\\u003cbr\\u003e\\u003cbr\\u003ePersonelFreedom=%{x}\\u003cbr\\u003eSafetySecurity=%{y}\\u003cbr\\u003eGovernance=%{marker.color}\\u003cextra\\u003e\\u003c\\u002fextra\\u003e\",\"hovertext\":[\"Denmark\",\"Sweden\",\"Norway\",\"Finland\",\"Switzerland\",\"Netherlands\",\"Luxembourg\",\"Iceland\",\"Germany\",\"New Zealand\",\"Ireland\",\"United Kingdom\",\"Canada\",\"Austria\",\"Australia\",\"Japan\",\"Singapore\",\"Belgium\",\"United States\",\"Taiwan\",\"Estonia\",\"Hong Kong\",\"France\",\"Spain\",\"Czech Republic\",\"Portugal\",\"Slovenia\",\"Malta\",\"South Korea\",\"Italy\",\"Latvia\",\"Lithuania\",\"Israel\",\"Cyprus\",\"Slovakia\",\"Chile\",\"Poland\",\"Uruguay\",\"Costa Rica\",\"Greece\",\"Croatia\",\"Hungary\",\"Malaysia\",\"United Arab Emirates\",\"Romania\",\"Qatar\",\"Mauritius\",\"Bulgaria\",\"Montenegro\",\"Panama\",\"Seychelles\",\"Serbia\",\"Georgia\",\"China\",\"Macedonia\",\"Trinidad and Tobago\",\"Jamaica\",\"Argentina\",\"Peru\",\"Kuwait\",\"Armenia\",\"Bahrain\",\"Indonesia\",\"Thailand\",\"Albania\",\"Brazil\",\"Oman\",\"Dominican Republic\",\"Kazakhstan\",\"Moldova\",\"Mexico\",\"Bosnia and Herzegovina\",\"Vietnam\",\"Ukraine\",\"South Africa\",\"Paraguay\",\"Russia\",\"Belarus\",\"Saudi Arabia\",\"Cabo Verde\",\"Colombia\",\"Suriname\",\"Botswana\",\"Philippines\",\"Ecuador\",\"Jordan\",\"S\\u00e3o Tom\\u00e9 and Pr\\u00edncipe\",\"Mongolia\",\"Guyana\",\"Namibia\",\"Sri Lanka\",\"Azerbaijan\",\"Belize\",\"Kyrgyzstan\",\"Turkey\",\"Morocco\",\"El Salvador\",\"Ghana\",\"Tunisia\",\"Uzbekistan\",\"Guatemala\",\"Senegal\",\"India\",\"Cuba\",\"Honduras\",\"Bolivia\",\"Turkmenistan\",\"Kenya\",\"Algeria\",\"Nepal\",\"Rwanda\",\"Lebanon\",\"Tajikistan\",\"Nicaragua\",\"Laos\",\"Gambia\",\"Tanzania\",\"Cambodia\",\"Gabon\",\"C\\u00f4te d'Ivoire\",\"Egypt\",\"Djibouti\",\"Benin\",\"Bangladesh\",\"Malawi\",\"Iran\",\"Zambia\",\"Comoros\",\"Uganda\",\"Papua New Guinea\",\"Equatorial Guinea\",\"Lesotho\",\"Togo\",\"Swaziland\",\"Burkina Faso\",\"Pakistan\",\"Madagascar\",\"Liberia\",\"Zimbabwe\",\"Iraq\",\"Guinea\",\"Nigeria\",\"Myanmar\",\"Sierra Leone\",\"Venezuela\",\"Libya\",\"Cameroon\",\"Congo\",\"Guinea-Bissau\",\"Mozambique\",\"Mali\",\"Niger\",\"Ethiopia\",\"Mauritania\",\"Angola\",\"Haiti\",\"Burundi\",\"Sudan\",\"Syria\",\"Eritrea\",\"Democratic Republic of Congo\",\"Chad\",\"Somalia\",\"Afghanistan\",\"Central African Republic\",\"Yemen\",\"South Sudan\"],\"legendgroup\":\"\",\"marker\":{\"color\":{\"dtype\":\"f8\",\"bdata\":\"zczMzMxcVkAK16NwPZpVQArXo3A9alZACtejcD2aVkB7FK5H4epVQPYoXI\\u002fC1VVApHA9CteTVUAzMzMzM9NUQClcj8L1GFVAXI\\u002fC9SjMVUCuR+F6FG5UQLgehetRKFRA9ihcj8KVVEBcj8L1KExUQKRwPQrXs1RAexSuR+HqU0BI4XoUrsdTQKRwPQrXE1RA7FG4HoXLUkDsUbgehWtTQFK4HoXrwVNApHA9CtcTUkCPwvUoXE9TQB+F61G4HlJArkfhehQuUUBcj8L1KExSQBSuR+F61E9AcT0K16OQUUApXI\\u002fC9UhRQArXo3A9Kk9AFK5H4Xo0UUAUrkfheiRSQJqZmZmZ2VJAXI\\u002fC9ShsUEDXo3A9CvdOQB+F61G4vlBApHA9CtcDTUAUrkfhejRSQAAAAAAAAFFASOF6FK5nTkAzMzMzMxNMQAAAAAAA4EZAPQrXo3CdTEDhehSuR8FPQK5H4XoUjkxAuB6F61EYTUDNzMzMzOxPQI\\u002fC9Shcj0pAMzMzMzPzS0BI4XoUrudIQHsUrkfhOk5AhetRuB5lRkCF61G4HgVMQFyPwvUoPEhAPQrXo3A9SEAK16NwPapKQAAAAAAAwEtAw\\u002fUoXI\\u002fCSEBSuB6F6xFIQIXrUbgehUdAAAAAAAAASUA9CtejcF1GQB+F61G4nktAH4XrUbgeREC4HoXrUThIQI\\u002fC9Shcj0dAzczMzMzMR0ApXI\\u002fC9ShHQDMzMzMzM0ZAmpmZmZn5R0BSuB6F6\\u002fFFQLgehetRWENArkfhehTuR0CamZmZmflGQHE9Ctej0ExAUrgeheuRRUBmZmZmZoZEQMP1KFyP4kFAXI\\u002fC9SjcR0CPwvUoXI9OQPYoXI\\u002fCdUdAXI\\u002fC9SjcR0B7FK5H4bpOQLgehetR2EZAcT0K16NwRUC4HoXrUbhIQNejcD0Kt0lAAAAAAACgSEAK16NwPUpIQOF6FK5HIU1AZmZmZmYGSEDD9Shcj0JEQAAAAAAAYEZA7FG4HoWrREBSuB6F63FCQK5H4XoULkdArkfhehTuRUAfhetRuD5LQBSuR+F6VElAcT0K16NQQ0B7FK5H4dpCQGZmZmZm5kpApHA9CtcDTEAfhetRuD5CQEjhehSu50BAFK5H4Xp0QkAK16NwPco7QOF6FK5HwUdAexSuR+H6REAfhetRuD5IQIXrUbgeBU5AMzMzMzNzQECuR+F6FG5CQK5H4XoUbjxAMzMzMzOzQ0BxPQrXo\\u002fBIQB+F61G4nkdAMzMzMzPzOkDD9Shcj4JBQBSuR+F69EVAj8L1KFwPQUA9CtejcB1EQIXrUbgepUhAAAAAAAAgQkBxPQrXozBIQBSuR+F61D9ApHA9CtcDRUDNzMzMzEw9QB+F61G4PkNArkfhehRuREBxPQrXo3A8QLgehetRmEZAPQrXo3CdQkBmZmZmZgZCQPYoXI\\u002fC1UZA16NwPQq3Q0C4HoXrUZhDQIXrUbgepURAKVyPwvWoP0DNzMzMzOxBQAAAAAAAYEJAexSuR+E6QkBI4XoUrudAQK5H4XoUjkVArkfhehQuKkB7FK5H4Xo4QOxRuB6Faz9AcT0K16PwPEBmZmZmZoZBQBSuR+F6lENAPQrXo3C9Q0B7FK5H4ZpEQK5H4XoU7kNA7FG4HoVrPEBSuB6F69FBQHsUrkfhujlApHA9CtdjQEBmZmZmZuY\\u002fQIXrUbgeRTVA16NwPQqXNkAAAAAAAIA5QPYoXI\\u002fC9TZAzczMzMzMN0C4HoXrUXg9QGZmZmZmZjxAMzMzMzMzMkApXI\\u002fC9Sg2QA==\"},\"coloraxis\":\"coloraxis\",\"size\":{\"dtype\":\"f8\",\"bdata\":\"zczMzMxcVkAK16NwPZpVQArXo3A9alZACtejcD2aVkB7FK5H4epVQPYoXI\\u002fC1VVApHA9CteTVUAzMzMzM9NUQClcj8L1GFVAXI\\u002fC9SjMVUCuR+F6FG5UQLgehetRKFRA9ihcj8KVVEBcj8L1KExUQKRwPQrXs1RAexSuR+HqU0BI4XoUrsdTQKRwPQrXE1RA7FG4HoXLUkDsUbgehWtTQFK4HoXrwVNApHA9CtcTUkCPwvUoXE9TQB+F61G4HlJArkfhehQuUUBcj8L1KExSQBSuR+F61E9AcT0K16OQUUApXI\\u002fC9UhRQArXo3A9Kk9AFK5H4Xo0UUAUrkfheiRSQJqZmZmZ2VJAXI\\u002fC9ShsUEDXo3A9CvdOQB+F61G4vlBApHA9CtcDTUAUrkfhejRSQAAAAAAAAFFASOF6FK5nTkAzMzMzMxNMQAAAAAAA4EZAPQrXo3CdTEDhehSuR8FPQK5H4XoUjkxAuB6F61EYTUDNzMzMzOxPQI\\u002fC9Shcj0pAMzMzMzPzS0BI4XoUrudIQHsUrkfhOk5AhetRuB5lRkCF61G4HgVMQFyPwvUoPEhAPQrXo3A9SEAK16NwPapKQAAAAAAAwEtAw\\u002fUoXI\\u002fCSEBSuB6F6xFIQIXrUbgehUdAAAAAAAAASUA9CtejcF1GQB+F61G4nktAH4XrUbgeREC4HoXrUThIQI\\u002fC9Shcj0dAzczMzMzMR0ApXI\\u002fC9ShHQDMzMzMzM0ZAmpmZmZn5R0BSuB6F6\\u002fFFQLgehetRWENArkfhehTuR0CamZmZmflGQHE9Ctej0ExAUrgeheuRRUBmZmZmZoZEQMP1KFyP4kFAXI\\u002fC9SjcR0CPwvUoXI9OQPYoXI\\u002fCdUdAXI\\u002fC9SjcR0B7FK5H4bpOQLgehetR2EZAcT0K16NwRUC4HoXrUbhIQNejcD0Kt0lAAAAAAACgSEAK16NwPUpIQOF6FK5HIU1AZmZmZmYGSEDD9Shcj0JEQAAAAAAAYEZA7FG4HoWrREBSuB6F63FCQK5H4XoULkdArkfhehTuRUAfhetRuD5LQBSuR+F6VElAcT0K16NQQ0B7FK5H4dpCQGZmZmZm5kpApHA9CtcDTEAfhetRuD5CQEjhehSu50BAFK5H4Xp0QkAK16NwPco7QOF6FK5HwUdAexSuR+H6REAfhetRuD5IQIXrUbgeBU5AMzMzMzNzQECuR+F6FG5CQK5H4XoUbjxAMzMzMzOzQ0BxPQrXo\\u002fBIQB+F61G4nkdAMzMzMzPzOkDD9Shcj4JBQBSuR+F69EVAj8L1KFwPQUA9CtejcB1EQIXrUbgepUhAAAAAAAAgQkBxPQrXozBIQBSuR+F61D9ApHA9CtcDRUDNzMzMzEw9QB+F61G4PkNArkfhehRuREBxPQrXo3A8QLgehetRmEZAPQrXo3CdQkBmZmZmZgZCQPYoXI\\u002fC1UZA16NwPQq3Q0C4HoXrUZhDQIXrUbgepURAKVyPwvWoP0DNzMzMzOxBQAAAAAAAYEJAexSuR+E6QkBI4XoUrudAQK5H4XoUjkVArkfhehQuKkB7FK5H4Xo4QOxRuB6Faz9AcT0K16PwPEBmZmZmZoZBQBSuR+F6lENAPQrXo3C9Q0B7FK5H4ZpEQK5H4XoU7kNA7FG4HoVrPEBSuB6F69FBQHsUrkfhujlApHA9CtdjQEBmZmZmZuY\\u002fQIXrUbgeRTVA16NwPQqXNkAAAAAAAIA5QPYoXI\\u002fC9TZAzczMzMzMN0C4HoXrUXg9QGZmZmZmZjxAMzMzMzMzMkApXI\\u002fC9Sg2QA==\"},\"sizemode\":\"area\",\"sizeref\":0.226025,\"symbol\":\"circle\"},\"mode\":\"markers\",\"name\":\"\",\"orientation\":\"v\",\"showlegend\":false,\"x\":{\"dtype\":\"f8\",\"bdata\":\"9ihcj8KFV0CamZmZmflWQGZmZmZmhldAPQrXo3D9VkAAAAAAAOBVQIXrUbgehVZAzczMzMxMVkCPwvUoXC9WQM3MzMzM7FVApHA9CtfjVUD2KFyPwiVWQClcj8L1aFVASOF6FK6nVUCPwvUoXH9VQFK4HoXrIVVAKVyPwvXIU0BxPQrXo1BIQM3MzMzM7FVAZmZmZma2U0AfhetRuM5TQM3MzMzMzFVApHA9CtejSkCkcD0K18NTQJqZmZmZ6VRAUrgeheuhVEBSuB6F63FVQDMzMzMz81JAMzMzMzNDVEAUrkfhekRSQFyPwvUonFNAKVyPwvVYVEBI4XoUrudTQMP1KFyPIlFApHA9CteTU0BmZmZmZqZTQGZmZmZmFlNA9ihcj8LFUEBI4XoUrjdVQI\\u002fC9ShcL1VAMzMzMzNTUkAK16NwPcpSQK5H4XoULk5AMzMzMzNzR0CF61G4HkU\\u002fQKRwPQrXY1JAKVyPwvWoPkAzMzMzMxNRQKRwPQrXE1FA9ihcj8IlUUCPwvUoXM9QQI\\u002fC9Shcz05AexSuR+E6TkCF61G4HmVQQLgehetRODVAPQrXo3AtUECuR+F6FE5SQEjhehSux1JAXI\\u002fC9SgMU0DhehSuR6FQQDMzMzMzk0VASOF6FK5HT0AAAAAAAMA7QOxRuB6Fy0pAAAAAAACgRUDsUbgehctOQDMzMzMzk09AmpmZmZnZQEDNzMzMzFxRQNejcD0Kt0NAw\\u002fUoXI\\u002fCT0AK16NwPSpNQAAAAAAAYE9AzczMzMxsQUDD9Shcj2JPQEjhehSud1JAcT0K16OwTkBxPQrXozBBQFK4HoXrUUBAH4XrUbjeNEAK16NwPSpSQPYoXI\\u002fC9UxACtejcD1aUUApXI\\u002fC9ahQQJqZmZmZmUxAFK5H4XrUT0AUrkfhetRFQGZmZmZmZlFAcT0K16OQUEDsUbgehStQQM3MzMzM7FBAw\\u002fUoXI\\u002fCSkCuR+F6FE5AQOxRuB6Fa1FA7FG4HoWLSUC4HoXrUTg+QHE9Ctej0EZAhetRuB5FTECamZmZmRlRQAAAAAAAYExAuB6F61E4P0C4HoXrUZhLQM3MzMzMHFBAMzMzMzOzR0ApXI\\u002fC9ag8QFK4HoXrUUtAPQrXo3B9TUCF61G4HkU2QM3MzMzMjEtAzczMzMyMQ0D2KFyPwpVMQK5H4XoUDkZAUrgehetxSkCamZmZmTlAQHsUrkfh+kNAw\\u002fUoXI+CO0DhehSuR0FKQOF6FK5H4UdAcT0K16MQQkApXI\\u002fC9ShIQGZmZmZmhktAmpmZmZnZOEAfhetRuF5DQArXo3A9ik1Aj8L1KFzvQ0CuR+F6FM5OQNejcD0KFzFAhetRuB4lSEAzMzMzM7NKQMP1KFyP4kRAZmZmZmYGUEA9CtejcH0+QM3MzMzMjE1ArkfhehTuSECPwvUoXI8+QMP1KFyPwk9AUrgehetRRUBSuB6F6xFNQHsUrkfh+ktAFK5H4Xr0QkDhehSuRwFDQKRwPQrXA0hArkfhehTOSEAzMzMzM7M0QFyPwvUofExAcT0K16NQQkBxPQrXo3BDQJqZmZmZmUNAcT0K16MwQ0A9CtejcJ1KQHE9CtejUEpArkfhehROTECF61G4HuVLQPYoXI\\u002fClUFAAAAAAACAREBxPQrXo5BEQFyPwvUofElAAAAAAAAAPUAK16NwPUo9QClcj8L1KDBAhetRuB7FMEBmZmZmZsZFQKRwPQrXI0NAKVyPwvUoQUCF61G4HgU\\u002fQArXo3A9akJAzczMzMxMOUB7FK5H4fo6QA==\"},\"xaxis\":\"x\",\"y\":{\"dtype\":\"f8\",\"bdata\":\"9ihcj8IlV0CuR+F6FL5WQDMzMzMzU1dApHA9CtdjVkAK16NwPepXQFyPwvUozFZAFK5H4XoUWEApXI\\u002fC9ehWQHsUrkfh+lVAFK5H4XpEVUCuR+F6FL5WQLgehetR6FVAexSuR+H6VUBcj8L1KLxWQArXo3A9+lVAUrgehesxV0AzMzMzMwNXQHE9CtejcFVA7FG4HoUbUkA9CtejcD1XQEjhehSuh1VACtejcD1KVkAfhetRuL5UQEjhehSut1VAKVyPwvWoVkBSuB6F64FVQDMzMzMzg1ZA16NwPQpHVkBSuB6F68FUQMP1KFyPolVAKVyPwvVIVUBSuB6F67FVQM3MzMzMzE1AFK5H4XoUVEDhehSuR9FVQOF6FK5HkVFAj8L1KFyvVUDsUbgehdtTQDMzMzMzc1NAzczMzMwMVUApXI\\u002fC9RhVQDMzMzMz81RApHA9CtezUUCamZmZmUlTQJqZmZmZ6VRAPQrXo3C9VUAzMzMzMzNUQPYoXI\\u002fCtVJAzczMzMw8VEAK16NwPWpTQFK4HoXrAVNAMzMzMzPzU0D2KFyPwlVRQD0K16Nw\\u002fVBAcT0K16PwUkDsUbgehTtRQOF6FK5HAU5ArkfhehRuUUBSuB6F6+FQQEjhehSuR1NAH4XrUbieUUDD9Shcj6JQQNejcD0Kd1FAj8L1KFxvTkCamZmZmblSQFK4HoXrEU5A9ihcj8JlVEDD9Shcj+JPQPYoXI\\u002fCZVFAw\\u002fUoXI8yUkCF61G4HsVFQHsUrkfhqlNAZmZmZmZGUUBI4XoUridLQArXo3A9KkpAMzMzMzNjUkApXI\\u002fC9chJQIXrUbgexVFAmpmZmZmJUEBSuB6F63FUQOxRuB6FS0JAj8L1KFx\\u002fUkBmZmZmZgZSQD0K16NwHUdAZmZmZmbmUEDhehSuR6FRQI\\u002fC9Shc71NAj8L1KFyPUkBxPQrXo6BQQFyPwvUoXFJAzczMzMzMSkBcj8L1KLxPQI\\u002fC9Shc31BAmpmZmZn5UUCamZmZmdlGQK5H4XoUjlJAuB6F61G4TUAAAAAAAHBRQArXo3A96k1AKVyPwvX4UkCkcD0K14NOQLgehetRaFBAUrgehevxSUDD9Shcj3JQQGZmZmZmJkxAmpmZmZmJUEApXI\\u002fC9VhSQFK4HoXr0UdAzczMzMysUkApXI\\u002fC9ahQQFK4HoXrkU1AFK5H4Xo0TED2KFyPwpVRQD0K16Nw3U9AMzMzMzPjUkBSuB6F67FQQOxRuB6FK1BA9ihcj8KFUEB7FK5H4QpQQDMzMzMzU05AcT0K16MQSEBcj8L1KBxRQDMzMzMzI1JAj8L1KFxPSUA9CtejcH1QQClcj8L1yEtAMzMzMzODUEAzMzMzM7NSQOF6FK5HgUpA4XoUrkdhT0D2KFyPwtVQQDMzMzMzk1BACtejcD2qUECkcD0K1wNPQFK4HoXr8UdAcT0K16MQRUCPwvUoXO9NQAAAAAAAoE9APQrXo3C9T0BxPQrXo\\u002fA6QPYoXI\\u002fC1U1AZmZmZmamQ0DNzMzMzGxCQHE9Ctej8E9AmpmZmZk5REApXI\\u002fC9Sg+QFyPwvUoXEJA4XoUrkfhSkDXo3A9CvdSQB+F61G4HktAhetRuB4FQUC4HoXrUXhJQI\\u002fC9Shcz0RAmpmZmZnpUEAK16NwPapOQDMzMzMzU0xArkfhehTOQ0CkcD0K16NAQFyPwvUoHDdASOF6FK4HSkAK16NwPco\\u002fQGZmZmZmhkdAKVyPwvXoP0CuR+F6FO40QGZmZmZmpkFAmpmZmZmZNkAK16NwPYowQA==\"},\"yaxis\":\"y\",\"type\":\"scatter\"}],                        {\"template\":{\"data\":{\"histogram2dcontour\":[{\"type\":\"histogram2dcontour\",\"colorbar\":{\"outlinewidth\":0,\"ticks\":\"\"},\"colorscale\":[[0.0,\"#0d0887\"],[0.1111111111111111,\"#46039f\"],[0.2222222222222222,\"#7201a8\"],[0.3333333333333333,\"#9c179e\"],[0.4444444444444444,\"#bd3786\"],[0.5555555555555556,\"#d8576b\"],[0.6666666666666666,\"#ed7953\"],[0.7777777777777778,\"#fb9f3a\"],[0.8888888888888888,\"#fdca26\"],[1.0,\"#f0f921\"]]}],\"choropleth\":[{\"type\":\"choropleth\",\"colorbar\":{\"outlinewidth\":0,\"ticks\":\"\"}}],\"histogram2d\":[{\"type\":\"histogram2d\",\"colorbar\":{\"outlinewidth\":0,\"ticks\":\"\"},\"colorscale\":[[0.0,\"#0d0887\"],[0.1111111111111111,\"#46039f\"],[0.2222222222222222,\"#7201a8\"],[0.3333333333333333,\"#9c179e\"],[0.4444444444444444,\"#bd3786\"],[0.5555555555555556,\"#d8576b\"],[0.6666666666666666,\"#ed7953\"],[0.7777777777777778,\"#fb9f3a\"],[0.8888888888888888,\"#fdca26\"],[1.0,\"#f0f921\"]]}],\"heatmap\":[{\"type\":\"heatmap\",\"colorbar\":{\"outlinewidth\":0,\"ticks\":\"\"},\"colorscale\":[[0.0,\"#0d0887\"],[0.1111111111111111,\"#46039f\"],[0.2222222222222222,\"#7201a8\"],[0.3333333333333333,\"#9c179e\"],[0.4444444444444444,\"#bd3786\"],[0.5555555555555556,\"#d8576b\"],[0.6666666666666666,\"#ed7953\"],[0.7777777777777778,\"#fb9f3a\"],[0.8888888888888888,\"#fdca26\"],[1.0,\"#f0f921\"]]}],\"contourcarpet\":[{\"type\":\"contourcarpet\",\"colorbar\":{\"outlinewidth\":0,\"ticks\":\"\"}}],\"contour\":[{\"type\":\"contour\",\"colorbar\":{\"outlinewidth\":0,\"ticks\":\"\"},\"colorscale\":[[0.0,\"#0d0887\"],[0.1111111111111111,\"#46039f\"],[0.2222222222222222,\"#7201a8\"],[0.3333333333333333,\"#9c179e\"],[0.4444444444444444,\"#bd3786\"],[0.5555555555555556,\"#d8576b\"],[0.6666666666666666,\"#ed7953\"],[0.7777777777777778,\"#fb9f3a\"],[0.8888888888888888,\"#fdca26\"],[1.0,\"#f0f921\"]]}],\"surface\":[{\"type\":\"surface\",\"colorbar\":{\"outlinewidth\":0,\"ticks\":\"\"},\"colorscale\":[[0.0,\"#0d0887\"],[0.1111111111111111,\"#46039f\"],[0.2222222222222222,\"#7201a8\"],[0.3333333333333333,\"#9c179e\"],[0.4444444444444444,\"#bd3786\"],[0.5555555555555556,\"#d8576b\"],[0.6666666666666666,\"#ed7953\"],[0.7777777777777778,\"#fb9f3a\"],[0.8888888888888888,\"#fdca26\"],[1.0,\"#f0f921\"]]}],\"mesh3d\":[{\"type\":\"mesh3d\",\"colorbar\":{\"outlinewidth\":0,\"ticks\":\"\"}}],\"scatter\":[{\"fillpattern\":{\"fillmode\":\"overlay\",\"size\":10,\"solidity\":0.2},\"type\":\"scatter\"}],\"parcoords\":[{\"type\":\"parcoords\",\"line\":{\"colorbar\":{\"outlinewidth\":0,\"ticks\":\"\"}}}],\"scatterpolargl\":[{\"type\":\"scatterpolargl\",\"marker\":{\"colorbar\":{\"outlinewidth\":0,\"ticks\":\"\"}}}],\"bar\":[{\"error_x\":{\"color\":\"#2a3f5f\"},\"error_y\":{\"color\":\"#2a3f5f\"},\"marker\":{\"line\":{\"color\":\"#E5ECF6\",\"width\":0.5},\"pattern\":{\"fillmode\":\"overlay\",\"size\":10,\"solidity\":0.2}},\"type\":\"bar\"}],\"scattergeo\":[{\"type\":\"scattergeo\",\"marker\":{\"colorbar\":{\"outlinewidth\":0,\"ticks\":\"\"}}}],\"scatterpolar\":[{\"type\":\"scatterpolar\",\"marker\":{\"colorbar\":{\"outlinewidth\":0,\"ticks\":\"\"}}}],\"histogram\":[{\"marker\":{\"pattern\":{\"fillmode\":\"overlay\",\"size\":10,\"solidity\":0.2}},\"type\":\"histogram\"}],\"scattergl\":[{\"type\":\"scattergl\",\"marker\":{\"colorbar\":{\"outlinewidth\":0,\"ticks\":\"\"}}}],\"scatter3d\":[{\"type\":\"scatter3d\",\"line\":{\"colorbar\":{\"outlinewidth\":0,\"ticks\":\"\"}},\"marker\":{\"colorbar\":{\"outlinewidth\":0,\"ticks\":\"\"}}}],\"scattermap\":[{\"type\":\"scattermap\",\"marker\":{\"colorbar\":{\"outlinewidth\":0,\"ticks\":\"\"}}}],\"scattermapbox\":[{\"type\":\"scattermapbox\",\"marker\":{\"colorbar\":{\"outlinewidth\":0,\"ticks\":\"\"}}}],\"scatterternary\":[{\"type\":\"scatterternary\",\"marker\":{\"colorbar\":{\"outlinewidth\":0,\"ticks\":\"\"}}}],\"scattercarpet\":[{\"type\":\"scattercarpet\",\"marker\":{\"colorbar\":{\"outlinewidth\":0,\"ticks\":\"\"}}}],\"carpet\":[{\"aaxis\":{\"endlinecolor\":\"#2a3f5f\",\"gridcolor\":\"white\",\"linecolor\":\"white\",\"minorgridcolor\":\"white\",\"startlinecolor\":\"#2a3f5f\"},\"baxis\":{\"endlinecolor\":\"#2a3f5f\",\"gridcolor\":\"white\",\"linecolor\":\"white\",\"minorgridcolor\":\"white\",\"startlinecolor\":\"#2a3f5f\"},\"type\":\"carpet\"}],\"table\":[{\"cells\":{\"fill\":{\"color\":\"#EBF0F8\"},\"line\":{\"color\":\"white\"}},\"header\":{\"fill\":{\"color\":\"#C8D4E3\"},\"line\":{\"color\":\"white\"}},\"type\":\"table\"}],\"barpolar\":[{\"marker\":{\"line\":{\"color\":\"#E5ECF6\",\"width\":0.5},\"pattern\":{\"fillmode\":\"overlay\",\"size\":10,\"solidity\":0.2}},\"type\":\"barpolar\"}],\"pie\":[{\"automargin\":true,\"type\":\"pie\"}]},\"layout\":{\"autotypenumbers\":\"strict\",\"colorway\":[\"#636efa\",\"#EF553B\",\"#00cc96\",\"#ab63fa\",\"#FFA15A\",\"#19d3f3\",\"#FF6692\",\"#B6E880\",\"#FF97FF\",\"#FECB52\"],\"font\":{\"color\":\"#2a3f5f\"},\"hovermode\":\"closest\",\"hoverlabel\":{\"align\":\"left\"},\"paper_bgcolor\":\"white\",\"plot_bgcolor\":\"#E5ECF6\",\"polar\":{\"bgcolor\":\"#E5ECF6\",\"angularaxis\":{\"gridcolor\":\"white\",\"linecolor\":\"white\",\"ticks\":\"\"},\"radialaxis\":{\"gridcolor\":\"white\",\"linecolor\":\"white\",\"ticks\":\"\"}},\"ternary\":{\"bgcolor\":\"#E5ECF6\",\"aaxis\":{\"gridcolor\":\"white\",\"linecolor\":\"white\",\"ticks\":\"\"},\"baxis\":{\"gridcolor\":\"white\",\"linecolor\":\"white\",\"ticks\":\"\"},\"caxis\":{\"gridcolor\":\"white\",\"linecolor\":\"white\",\"ticks\":\"\"}},\"coloraxis\":{\"colorbar\":{\"outlinewidth\":0,\"ticks\":\"\"}},\"colorscale\":{\"sequential\":[[0.0,\"#0d0887\"],[0.1111111111111111,\"#46039f\"],[0.2222222222222222,\"#7201a8\"],[0.3333333333333333,\"#9c179e\"],[0.4444444444444444,\"#bd3786\"],[0.5555555555555556,\"#d8576b\"],[0.6666666666666666,\"#ed7953\"],[0.7777777777777778,\"#fb9f3a\"],[0.8888888888888888,\"#fdca26\"],[1.0,\"#f0f921\"]],\"sequentialminus\":[[0.0,\"#0d0887\"],[0.1111111111111111,\"#46039f\"],[0.2222222222222222,\"#7201a8\"],[0.3333333333333333,\"#9c179e\"],[0.4444444444444444,\"#bd3786\"],[0.5555555555555556,\"#d8576b\"],[0.6666666666666666,\"#ed7953\"],[0.7777777777777778,\"#fb9f3a\"],[0.8888888888888888,\"#fdca26\"],[1.0,\"#f0f921\"]],\"diverging\":[[0,\"#8e0152\"],[0.1,\"#c51b7d\"],[0.2,\"#de77ae\"],[0.3,\"#f1b6da\"],[0.4,\"#fde0ef\"],[0.5,\"#f7f7f7\"],[0.6,\"#e6f5d0\"],[0.7,\"#b8e186\"],[0.8,\"#7fbc41\"],[0.9,\"#4d9221\"],[1,\"#276419\"]]},\"xaxis\":{\"gridcolor\":\"white\",\"linecolor\":\"white\",\"ticks\":\"\",\"title\":{\"standoff\":15},\"zerolinecolor\":\"white\",\"automargin\":true,\"zerolinewidth\":2},\"yaxis\":{\"gridcolor\":\"white\",\"linecolor\":\"white\",\"ticks\":\"\",\"title\":{\"standoff\":15},\"zerolinecolor\":\"white\",\"automargin\":true,\"zerolinewidth\":2},\"scene\":{\"xaxis\":{\"backgroundcolor\":\"#E5ECF6\",\"gridcolor\":\"white\",\"linecolor\":\"white\",\"showbackground\":true,\"ticks\":\"\",\"zerolinecolor\":\"white\",\"gridwidth\":2},\"yaxis\":{\"backgroundcolor\":\"#E5ECF6\",\"gridcolor\":\"white\",\"linecolor\":\"white\",\"showbackground\":true,\"ticks\":\"\",\"zerolinecolor\":\"white\",\"gridwidth\":2},\"zaxis\":{\"backgroundcolor\":\"#E5ECF6\",\"gridcolor\":\"white\",\"linecolor\":\"white\",\"showbackground\":true,\"ticks\":\"\",\"zerolinecolor\":\"white\",\"gridwidth\":2}},\"shapedefaults\":{\"line\":{\"color\":\"#2a3f5f\"}},\"annotationdefaults\":{\"arrowcolor\":\"#2a3f5f\",\"arrowhead\":0,\"arrowwidth\":1},\"geo\":{\"bgcolor\":\"white\",\"landcolor\":\"#E5ECF6\",\"subunitcolor\":\"white\",\"showland\":true,\"showlakes\":true,\"lakecolor\":\"white\"},\"title\":{\"x\":0.05},\"mapbox\":{\"style\":\"light\"}}},\"xaxis\":{\"anchor\":\"y\",\"domain\":[0.0,1.0],\"title\":{\"text\":\"PersonelFreedom\"}},\"yaxis\":{\"anchor\":\"x\",\"domain\":[0.0,1.0],\"title\":{\"text\":\"SafetySecurity\"}},\"coloraxis\":{\"colorbar\":{\"title\":{\"text\":\"Governance\"}},\"colorscale\":[[0.0,\"#0d0887\"],[0.1111111111111111,\"#46039f\"],[0.2222222222222222,\"#7201a8\"],[0.3333333333333333,\"#9c179e\"],[0.4444444444444444,\"#bd3786\"],[0.5555555555555556,\"#d8576b\"],[0.6666666666666666,\"#ed7953\"],[0.7777777777777778,\"#fb9f3a\"],[0.8888888888888888,\"#fdca26\"],[1.0,\"#f0f921\"]]},\"legend\":{\"tracegroupgap\":0,\"itemsizing\":\"constant\"},\"margin\":{\"t\":60}},                        {\"responsive\": true}                    ).then(function(){\n",
       "                            \n",
       "var gd = document.getElementById('5ee44255-afd3-49e9-ae51-a7a0e47ed511');\n",
       "var x = new MutationObserver(function (mutations, observer) {{\n",
       "        var display = window.getComputedStyle(gd).display;\n",
       "        if (!display || display === 'none') {{\n",
       "            console.log([gd, 'removed!']);\n",
       "            Plotly.purge(gd);\n",
       "            observer.disconnect();\n",
       "        }}\n",
       "}});\n",
       "\n",
       "// Listen for the removal of the full notebook cells\n",
       "var notebookContainer = gd.closest('#notebook-container');\n",
       "if (notebookContainer) {{\n",
       "    x.observe(notebookContainer, {childList: true});\n",
       "}}\n",
       "\n",
       "// Listen for the clearing of the current output cell\n",
       "var outputEl = gd.closest('.output');\n",
       "if (outputEl) {{\n",
       "    x.observe(outputEl, {childList: true});\n",
       "}}\n",
       "\n",
       "                        })                };            </script>        </div>"
      ]
     },
     "metadata": {},
     "output_type": "display_data"
    }
   ],
   "source": [
    "print(cntr['Governance'].corr(cntr['SafetySecurity']))\n",
    "print(cntr['Governance'].corr(cntr['PersonelFreedom']))\n",
    "fig = px.scatter(cntr, y = 'SafetySecurity', x = 'PersonelFreedom', hover_name = 'Country', color = 'Governance', size = 'Governance')\n",
    "fig.show()"
   ]
  },
  {
   "cell_type": "markdown",
   "id": "e6494acd-1528-473b-bdda-e6cbb1e6f27d",
   "metadata": {},
   "source": [
    "<h2>На графике очевидна зависимость<h2>"
   ]
  },
  {
   "cell_type": "markdown",
   "id": "e7e904d2-aa3a-4147-9c9f-b6c25a104865",
   "metadata": {},
   "source": [
    "<h2>Далее, посмотрим, как системы образования и здравоохранения влияет на уровень жизни (LivingConditions)<h2>"
   ]
  },
  {
   "cell_type": "code",
   "execution_count": 20,
   "id": "845a65d2-38ff-4218-b0ee-1c9ac34b519d",
   "metadata": {},
   "outputs": [
    {
     "name": "stdout",
     "output_type": "stream",
     "text": [
      "0.9032194407611616\n",
      "0.9378221751906275\n"
     ]
    },
    {
     "data": {
      "application/vnd.plotly.v1+json": {
       "config": {
        "plotlyServerURL": "https://plot.ly"
       },
       "data": [
        {
         "coloraxis": "coloraxis",
         "histfunc": "avg",
         "hovertemplate": "Health=%{x}<br>Education=%{y}<br>avg of LivingConditions=%{z}<extra></extra>",
         "name": "",
         "texttemplate": "%{z}",
         "type": "histogram2d",
         "x": {
          "bdata": "FK5H4XpEVEBSuB6F65FUQB+F61G4vlRAXI/C9ShMVEDXo3A9CodUQDMzMzMzg1RA9ihcj8JlVECuR+F6FK5UQArXo3A9WlRA9ihcj8L1U0DD9ShcjwJUQKRwPQrXk1NAuB6F61G4U0AfhetRuA5UQNejcD0KF1RAAAAAAACgVUApXI/C9bhVQGZmZmZmJlRAcT0K16NQUkBI4XoUrtdUQD0K16NwbVNAhetRuB5VVEA9CtejcB1UQArXo3A96lNAj8L1KFzfU0Bcj8L1KFxTQLgehetR+FNAw/UoXI8iVEAzMzMzMzNVQJqZmZmZOVRA4XoUrkehUkDsUbgehZtSQGZmZmZmxlRAH4XrUbjOU0CPwvUoXC9TQKRwPQrXA1NApHA9CtcTU0AfhetRuH5TQPYoXI/CxVNA7FG4HoVbU0CPwvUoXO9SQM3MzMzMLFNAZmZmZmZWU0C4HoXrUZhTQOF6FK5HQVJAKVyPwvVoU0DXo3A9CvdRQNejcD0Kh1JAXI/C9SgcUUBmZmZmZsZSQFyPwvUoXFNA7FG4HoX7UUApXI/C9ahRQNejcD0Kx1RAuB6F61EoUkC4HoXrUYhSQIXrUbgedVJAzczMzMycUkCkcD0K1/NSQIXrUbgeVVNAH4XrUbheUkCPwvUoXA9TQLgehetRyFFAexSuR+G6U0DNzMzMzHxSQOxRuB6F61FAXI/C9SjcUkApXI/C9ahRQB+F61G4DlJAFK5H4XqkUUD2KFyPwkVSQAAAAAAAoFFAj8L1KFw/U0A9CtejcC1RQDMzMzMz801A9ihcj8K1UUC4HoXrUdhRQPYoXI/ClVJA9ihcj8LVUkAAAAAAADBSQFK4HoXrcVNAZmZmZmZmTkApXI/C9YhNQKRwPQrXg1FAMzMzMzPzUUB7FK5H4TpRQMP1KFyPolFAj8L1KFyvUEBcj8L1KDxPQFK4HoXrUU5AhetRuB4lU0AAAAAAANBRQNejcD0Kp1FAPQrXo3AdUkBcj8L1KIxSQHsUrkfhylFAZmZmZmZWUUAK16NwPYpPQDMzMzMzA1JAUrgehesRU0CF61G4HhVRQFyPwvUoHFBACtejcD2KUEBSuB6F6+FTQHE9CtejQFFA4XoUrkeBUED2KFyPwuVSQD0K16NwTVBArkfhehROUkCPwvUoXO9PQGZmZmZmJlBAmpmZmZkpUUA9CtejcB1SQGZmZmZmBlJAuB6F61GYUEDXo3A9ChdMQClcj8L1CE5AhetRuB6lUUApXI/C9QhMQEjhehSu50lAzczMzMzMUEBmZmZmZkZOQAAAAAAAwEpAKVyPwvXYUEDhehSuR4FOQOxRuB6Fu1JAmpmZmZmZTEDNzMzMzMxNQB+F61G4Pk1Aj8L1KFxvSkAUrkfhejRJQGZmZmZmpkRA7FG4HoWLS0DXo3A9CjdIQFyPwvUoXE1ApHA9CtdjTkCPwvUoXA9LQFK4HoXrUUhAexSuR+G6S0BI4XoUridQQDMzMzMzU0hAj8L1KFwPSUCPwvUoXK9QQOF6FK5HIUhA16NwPQpnUUD2KFyPwvVQQMP1KFyPgklAzczMzMwMS0CPwvUoXG9JQOxRuB6Fa0pAXI/C9Sg8S0DNzMzMzExLQBSuR+F6dE5AH4XrUbheTEBxPQrXo/BIQNejcD0Kd0pAFK5H4XoUTUBmZmZmZkZOQArXo3A9ylBAH4XrUbi+TEAzMzMzM3NJQPYoXI/ClUNAcT0K16MwRkAUrkfhenRJQDMzMzMz8z9AmpmZmZm5TEC4HoXrUdhBQA==",
          "dtype": "f8"
         },
         "xaxis": "x",
         "xbingroup": "x",
         "y": {
          "bdata": "H4XrUbjeVUB7FK5H4XpVQOxRuB6Fa1VAuB6F61EYVkCuR+F6FO5VQOxRuB6Fm1VAw/UoXI+yU0Bcj8L1KExVQM3MzMzM3FRAKVyPwvX4VEAAAAAAAEBVQKRwPQrXM1VAXI/C9SgMVUDsUbgehXtUQI/C9Shcf1VA7FG4HoU7VUBcj8L1KNxWQMP1KFyPMlVAmpmZmZnJVEDXo3A9CidVQFyPwvUojFRApHA9CtdzVUDhehSuR1FUQB+F61G4PlRACtejcD0qVEApXI/C9WhTQDMzMzMzc1RAhetRuB6VU0BxPQrXo/BVQAAAAAAAAFRA16NwPQpXVEAzMzMzM3NUQLgehetRaFRAKVyPwvXIU0AAAAAAADBSQK5H4XoUXlJAuB6F61GoU0ApXI/C9ahRQD0K16Nw7VFA9ihcj8LVU0DD9Shcj2JSQPYoXI/CVVNAXI/C9Sg8UkCuR+F6FK5SQK5H4XoUnlFAmpmZmZlJUUDsUbgehStRQMP1KFyPMlJAXI/C9SjsUUBxPQrXo9BMQOxRuB6Fm1BA4XoUrkdBUkCF61G4HhVSQHsUrkfhmlFAhetRuB6FTkA9CtejcH1QQLgehetRCFBAAAAAAABQUUA9CtejcD1QQMP1KFyPElBAXI/C9ShMUUCamZmZmSlRQNejcD0Kd05AmpmZmZk5UEAUrkfheoRRQHsUrkfh2k1AAAAAAAAAT0BmZmZmZsZLQDMzMzMzs1NA4XoUrkfBUUDXo3A9CvdPQNejcD0K905ApHA9CtejUECF61G4HmVTQEjhehSuR0pAzczMzMwMSkBI4XoUrndUQI/C9ShcT1RA4XoUrkfxUEB7FK5H4fpKQArXo3A9qk9AH4XrUbg+TEAAAAAAAEBLQGZmZmZmxk5AH4XrUbgeT0CF61G4HmVOQJqZmZmZeUhASOF6FK5HUUCPwvUoXG9MQAAAAAAAgEhApHA9CtdDUEAfhetRuL5PQOxRuB6Fi0lAKVyPwvXITkDhehSuRzFQQAAAAAAAoEZA16NwPQr3SEAAAAAAAOBGQDMzMzMzc0xAUrgehesxUEDhehSuR2FGQHE9CtejcEBAexSuR+E6SUDsUbgehZtRQEjhehSuB0dA16NwPQqXTECkcD0K16NQQHsUrkfhGkhAKVyPwvXITUDXo3A9CtdGQHE9CtejkENAhetRuB7FUEDsUbgehUtPQM3MzMzMzEZAUrgehetxSEDXo3A9CldBQClcj8L1SEVAAAAAAACgRUBSuB6F6zFJQDMzMzMzk0JASOF6FK6HSUApXI/C9ahDQM3MzMzMbEJAuB6F61EYRkDXo3A9CvdAQAAAAAAA4E9AhetRuB6FQ0Bcj8L1KBxDQB+F61G4nkJAMzMzMzOzQUB7FK5H4XpFQKRwPQrXg0ZAH4XrUbj+Q0DD9Shcj0JGQEjhehSuBzZAFK5H4Xq0QUDhehSuR+FAQM3MzMzMDDlApHA9CtcDTEC4HoXrUbhGQBSuR+F61DtAAAAAAADAQkAK16NwPepHQAAAAAAAwD5AzczMzMyMTkApXI/C9WhIQB+F61G43kdAj8L1KFzPR0D2KFyPwvUzQFyPwvUoXDhAXI/C9SicM0BI4XoUrscwQI/C9Shcjz9AhetRuB5FPEBcj8L1KJw9QFyPwvUoHEFAj8L1KFwPP0CuR+F6FA5BQOF6FK5HgUVAexSuR+E6PUCuR+F6FM5AQBSuR+F6lDFAUrgehetROkBcj8L1KBw7QB+F61G4njJAH4XrUbgePEA9CtejcP0yQA==",
          "dtype": "f8"
         },
         "yaxis": "y",
         "ybingroup": "y",
         "z": {
          "bdata": "4XoUrkfxV0CF61G4HtVXQM3MzMzMrFdAPQrXo3CdV0AK16NwPapXQNejcD0K91dApHA9CtejV0AUrkfhenRXQHsUrkfhmldACtejcD2qVkCamZmZmSlXQArXo3A9ildAj8L1KFxfV0BxPQrXoyBXQKRwPQrXQ1dA16NwPQo3V0BmZmZmZlZXQFK4HoXrMVdAj8L1KFyvVkCuR+F6FI5WQM3MzMzM/FZA16NwPQrXVkDXo3A9CidXQKRwPQrXc1dAKVyPwvXoVkBmZmZmZvZWQB+F61G4zlZAH4XrUbg+V0CuR+F6FN5WQHE9Ctej4FZAuB6F61H4VUDXo3A9CgdWQAAAAAAAYFdAexSuR+GKVkCuR+F6FF5WQM3MzMzM7FVAcT0K16OAVkDD9Shcj4JVQAAAAAAAUFRAAAAAAABwVkAAAAAAACBWQEjhehSuF1ZA4XoUrkfhU0C4HoXrUThVQDMzMzMzk1RA9ihcj8I1VUCuR+F6FA5UQOxRuB6F21RAPQrXo3DtVEDXo3A9ChdTQPYoXI/C5VNAXI/C9SjsVUAzMzMzMyNTQDMzMzMzQ1VAZmZmZmbWVEAAAAAAAJBUQFyPwvUojFNAhetRuB6FVEAzMzMzM2NRQFyPwvUo7FVAMzMzMzNDU0CPwvUoXH9VQDMzMzMzY1FA9ihcj8KVU0B7FK5H4QpTQEjhehSuV1RAZmZmZmamU0CamZmZmVlSQFyPwvUonFRAAAAAAADwU0CuR+F6FI5SQLgehetRGFVAMzMzMzPzUUAzMzMzM4NTQKRwPQrXE1FA9ihcj8IFU0AAAAAAAKBTQHE9CtejkFVASOF6FK53U0ApXI/C9UhRQOxRuB6FS1JACtejcD2KU0D2KFyPwtVNQKRwPQrXI1BAXI/C9ShsUUCF61G4HgVUQBSuR+F6NE5AcT0K16OgUEDD9Shcj6JSQIXrUbgeZUxAZmZmZmbGUEAUrkfherRTQPYoXI/CFVJA4XoUrkexUkA9CtejcD1UQAAAAAAAsFFAcT0K16MgUkAzMzMzM3NNQBSuR+F6hFNA4XoUrkfRUEB7FK5H4fpNQJqZmZmZGU1AMzMzMzPzS0A9CtejcD1TQK5H4XoUzk9ArkfhehQuUUCuR+F6FK5TQMP1KFyPwkhAj8L1KFyPU0CuR+F6FA5MQI/C9Shcz0RA4XoUrkexUkBI4XoUrrdQQNejcD0KF1BAexSuR+GaTECPwvUoXO9KQMP1KFyPwkdAexSuR+GaS0AfhetRuJ5QQClcj8L1KEtAzczMzMzsUUAUrkfhehRNQPYoXI/ClUZA7FG4HoWLTEDXo3A9CpdCQNejcD0KB1NAKVyPwvVoREBI4XoUrgdIQPYoXI/CNUdAj8L1KFwvQUCuR+F6FG5NQEjhehSup0ZA4XoUrkcBR0DhehSuR+FLQB+F61G4PkRAcT0K16MQTUAAAAAAAAA+QHsUrkfhGkZA7FG4HoWrR0DXo3A9CmdSQFK4HoXrUURAXI/C9SicSEC4HoXrUXhKQNejcD0KN0JAFK5H4Xp0UUAUrkfheuRRQB+F61G43kdAPQrXo3AdSEBSuB6F6zFDQEjhehSu50FAPQrXo3DdR0CkcD0K1+M/QEjhehSuB0VAMzMzMzPzS0AK16NwPSpGQOF6FK5HoURASOF6FK7HO0AUrkfherRHQNejcD0Kt1BASOF6FK7HPkBmZmZmZqY+QFK4HoXrUT9AKVyPwvUIQEAfhetRuN5DQPYoXI/CNTNACtejcD3KREA9CtejcP01QA==",
          "dtype": "f8"
         }
        }
       ],
       "layout": {
        "coloraxis": {
         "colorbar": {
          "title": {
           "text": "avg of LivingConditions"
          }
         },
         "colorscale": [
          [
           0,
           "#0d0887"
          ],
          [
           0.1111111111111111,
           "#46039f"
          ],
          [
           0.2222222222222222,
           "#7201a8"
          ],
          [
           0.3333333333333333,
           "#9c179e"
          ],
          [
           0.4444444444444444,
           "#bd3786"
          ],
          [
           0.5555555555555556,
           "#d8576b"
          ],
          [
           0.6666666666666666,
           "#ed7953"
          ],
          [
           0.7777777777777778,
           "#fb9f3a"
          ],
          [
           0.8888888888888888,
           "#fdca26"
          ],
          [
           1,
           "#f0f921"
          ]
         ]
        },
        "legend": {
         "tracegroupgap": 0
        },
        "margin": {
         "t": 60
        },
        "template": {
         "data": {
          "bar": [
           {
            "error_x": {
             "color": "#2a3f5f"
            },
            "error_y": {
             "color": "#2a3f5f"
            },
            "marker": {
             "line": {
              "color": "#E5ECF6",
              "width": 0.5
             },
             "pattern": {
              "fillmode": "overlay",
              "size": 10,
              "solidity": 0.2
             }
            },
            "type": "bar"
           }
          ],
          "barpolar": [
           {
            "marker": {
             "line": {
              "color": "#E5ECF6",
              "width": 0.5
             },
             "pattern": {
              "fillmode": "overlay",
              "size": 10,
              "solidity": 0.2
             }
            },
            "type": "barpolar"
           }
          ],
          "carpet": [
           {
            "aaxis": {
             "endlinecolor": "#2a3f5f",
             "gridcolor": "white",
             "linecolor": "white",
             "minorgridcolor": "white",
             "startlinecolor": "#2a3f5f"
            },
            "baxis": {
             "endlinecolor": "#2a3f5f",
             "gridcolor": "white",
             "linecolor": "white",
             "minorgridcolor": "white",
             "startlinecolor": "#2a3f5f"
            },
            "type": "carpet"
           }
          ],
          "choropleth": [
           {
            "colorbar": {
             "outlinewidth": 0,
             "ticks": ""
            },
            "type": "choropleth"
           }
          ],
          "contour": [
           {
            "colorbar": {
             "outlinewidth": 0,
             "ticks": ""
            },
            "colorscale": [
             [
              0,
              "#0d0887"
             ],
             [
              0.1111111111111111,
              "#46039f"
             ],
             [
              0.2222222222222222,
              "#7201a8"
             ],
             [
              0.3333333333333333,
              "#9c179e"
             ],
             [
              0.4444444444444444,
              "#bd3786"
             ],
             [
              0.5555555555555556,
              "#d8576b"
             ],
             [
              0.6666666666666666,
              "#ed7953"
             ],
             [
              0.7777777777777778,
              "#fb9f3a"
             ],
             [
              0.8888888888888888,
              "#fdca26"
             ],
             [
              1,
              "#f0f921"
             ]
            ],
            "type": "contour"
           }
          ],
          "contourcarpet": [
           {
            "colorbar": {
             "outlinewidth": 0,
             "ticks": ""
            },
            "type": "contourcarpet"
           }
          ],
          "heatmap": [
           {
            "colorbar": {
             "outlinewidth": 0,
             "ticks": ""
            },
            "colorscale": [
             [
              0,
              "#0d0887"
             ],
             [
              0.1111111111111111,
              "#46039f"
             ],
             [
              0.2222222222222222,
              "#7201a8"
             ],
             [
              0.3333333333333333,
              "#9c179e"
             ],
             [
              0.4444444444444444,
              "#bd3786"
             ],
             [
              0.5555555555555556,
              "#d8576b"
             ],
             [
              0.6666666666666666,
              "#ed7953"
             ],
             [
              0.7777777777777778,
              "#fb9f3a"
             ],
             [
              0.8888888888888888,
              "#fdca26"
             ],
             [
              1,
              "#f0f921"
             ]
            ],
            "type": "heatmap"
           }
          ],
          "histogram": [
           {
            "marker": {
             "pattern": {
              "fillmode": "overlay",
              "size": 10,
              "solidity": 0.2
             }
            },
            "type": "histogram"
           }
          ],
          "histogram2d": [
           {
            "colorbar": {
             "outlinewidth": 0,
             "ticks": ""
            },
            "colorscale": [
             [
              0,
              "#0d0887"
             ],
             [
              0.1111111111111111,
              "#46039f"
             ],
             [
              0.2222222222222222,
              "#7201a8"
             ],
             [
              0.3333333333333333,
              "#9c179e"
             ],
             [
              0.4444444444444444,
              "#bd3786"
             ],
             [
              0.5555555555555556,
              "#d8576b"
             ],
             [
              0.6666666666666666,
              "#ed7953"
             ],
             [
              0.7777777777777778,
              "#fb9f3a"
             ],
             [
              0.8888888888888888,
              "#fdca26"
             ],
             [
              1,
              "#f0f921"
             ]
            ],
            "type": "histogram2d"
           }
          ],
          "histogram2dcontour": [
           {
            "colorbar": {
             "outlinewidth": 0,
             "ticks": ""
            },
            "colorscale": [
             [
              0,
              "#0d0887"
             ],
             [
              0.1111111111111111,
              "#46039f"
             ],
             [
              0.2222222222222222,
              "#7201a8"
             ],
             [
              0.3333333333333333,
              "#9c179e"
             ],
             [
              0.4444444444444444,
              "#bd3786"
             ],
             [
              0.5555555555555556,
              "#d8576b"
             ],
             [
              0.6666666666666666,
              "#ed7953"
             ],
             [
              0.7777777777777778,
              "#fb9f3a"
             ],
             [
              0.8888888888888888,
              "#fdca26"
             ],
             [
              1,
              "#f0f921"
             ]
            ],
            "type": "histogram2dcontour"
           }
          ],
          "mesh3d": [
           {
            "colorbar": {
             "outlinewidth": 0,
             "ticks": ""
            },
            "type": "mesh3d"
           }
          ],
          "parcoords": [
           {
            "line": {
             "colorbar": {
              "outlinewidth": 0,
              "ticks": ""
             }
            },
            "type": "parcoords"
           }
          ],
          "pie": [
           {
            "automargin": true,
            "type": "pie"
           }
          ],
          "scatter": [
           {
            "fillpattern": {
             "fillmode": "overlay",
             "size": 10,
             "solidity": 0.2
            },
            "type": "scatter"
           }
          ],
          "scatter3d": [
           {
            "line": {
             "colorbar": {
              "outlinewidth": 0,
              "ticks": ""
             }
            },
            "marker": {
             "colorbar": {
              "outlinewidth": 0,
              "ticks": ""
             }
            },
            "type": "scatter3d"
           }
          ],
          "scattercarpet": [
           {
            "marker": {
             "colorbar": {
              "outlinewidth": 0,
              "ticks": ""
             }
            },
            "type": "scattercarpet"
           }
          ],
          "scattergeo": [
           {
            "marker": {
             "colorbar": {
              "outlinewidth": 0,
              "ticks": ""
             }
            },
            "type": "scattergeo"
           }
          ],
          "scattergl": [
           {
            "marker": {
             "colorbar": {
              "outlinewidth": 0,
              "ticks": ""
             }
            },
            "type": "scattergl"
           }
          ],
          "scattermap": [
           {
            "marker": {
             "colorbar": {
              "outlinewidth": 0,
              "ticks": ""
             }
            },
            "type": "scattermap"
           }
          ],
          "scattermapbox": [
           {
            "marker": {
             "colorbar": {
              "outlinewidth": 0,
              "ticks": ""
             }
            },
            "type": "scattermapbox"
           }
          ],
          "scatterpolar": [
           {
            "marker": {
             "colorbar": {
              "outlinewidth": 0,
              "ticks": ""
             }
            },
            "type": "scatterpolar"
           }
          ],
          "scatterpolargl": [
           {
            "marker": {
             "colorbar": {
              "outlinewidth": 0,
              "ticks": ""
             }
            },
            "type": "scatterpolargl"
           }
          ],
          "scatterternary": [
           {
            "marker": {
             "colorbar": {
              "outlinewidth": 0,
              "ticks": ""
             }
            },
            "type": "scatterternary"
           }
          ],
          "surface": [
           {
            "colorbar": {
             "outlinewidth": 0,
             "ticks": ""
            },
            "colorscale": [
             [
              0,
              "#0d0887"
             ],
             [
              0.1111111111111111,
              "#46039f"
             ],
             [
              0.2222222222222222,
              "#7201a8"
             ],
             [
              0.3333333333333333,
              "#9c179e"
             ],
             [
              0.4444444444444444,
              "#bd3786"
             ],
             [
              0.5555555555555556,
              "#d8576b"
             ],
             [
              0.6666666666666666,
              "#ed7953"
             ],
             [
              0.7777777777777778,
              "#fb9f3a"
             ],
             [
              0.8888888888888888,
              "#fdca26"
             ],
             [
              1,
              "#f0f921"
             ]
            ],
            "type": "surface"
           }
          ],
          "table": [
           {
            "cells": {
             "fill": {
              "color": "#EBF0F8"
             },
             "line": {
              "color": "white"
             }
            },
            "header": {
             "fill": {
              "color": "#C8D4E3"
             },
             "line": {
              "color": "white"
             }
            },
            "type": "table"
           }
          ]
         },
         "layout": {
          "annotationdefaults": {
           "arrowcolor": "#2a3f5f",
           "arrowhead": 0,
           "arrowwidth": 1
          },
          "autotypenumbers": "strict",
          "coloraxis": {
           "colorbar": {
            "outlinewidth": 0,
            "ticks": ""
           }
          },
          "colorscale": {
           "diverging": [
            [
             0,
             "#8e0152"
            ],
            [
             0.1,
             "#c51b7d"
            ],
            [
             0.2,
             "#de77ae"
            ],
            [
             0.3,
             "#f1b6da"
            ],
            [
             0.4,
             "#fde0ef"
            ],
            [
             0.5,
             "#f7f7f7"
            ],
            [
             0.6,
             "#e6f5d0"
            ],
            [
             0.7,
             "#b8e186"
            ],
            [
             0.8,
             "#7fbc41"
            ],
            [
             0.9,
             "#4d9221"
            ],
            [
             1,
             "#276419"
            ]
           ],
           "sequential": [
            [
             0,
             "#0d0887"
            ],
            [
             0.1111111111111111,
             "#46039f"
            ],
            [
             0.2222222222222222,
             "#7201a8"
            ],
            [
             0.3333333333333333,
             "#9c179e"
            ],
            [
             0.4444444444444444,
             "#bd3786"
            ],
            [
             0.5555555555555556,
             "#d8576b"
            ],
            [
             0.6666666666666666,
             "#ed7953"
            ],
            [
             0.7777777777777778,
             "#fb9f3a"
            ],
            [
             0.8888888888888888,
             "#fdca26"
            ],
            [
             1,
             "#f0f921"
            ]
           ],
           "sequentialminus": [
            [
             0,
             "#0d0887"
            ],
            [
             0.1111111111111111,
             "#46039f"
            ],
            [
             0.2222222222222222,
             "#7201a8"
            ],
            [
             0.3333333333333333,
             "#9c179e"
            ],
            [
             0.4444444444444444,
             "#bd3786"
            ],
            [
             0.5555555555555556,
             "#d8576b"
            ],
            [
             0.6666666666666666,
             "#ed7953"
            ],
            [
             0.7777777777777778,
             "#fb9f3a"
            ],
            [
             0.8888888888888888,
             "#fdca26"
            ],
            [
             1,
             "#f0f921"
            ]
           ]
          },
          "colorway": [
           "#636efa",
           "#EF553B",
           "#00cc96",
           "#ab63fa",
           "#FFA15A",
           "#19d3f3",
           "#FF6692",
           "#B6E880",
           "#FF97FF",
           "#FECB52"
          ],
          "font": {
           "color": "#2a3f5f"
          },
          "geo": {
           "bgcolor": "white",
           "lakecolor": "white",
           "landcolor": "#E5ECF6",
           "showlakes": true,
           "showland": true,
           "subunitcolor": "white"
          },
          "hoverlabel": {
           "align": "left"
          },
          "hovermode": "closest",
          "mapbox": {
           "style": "light"
          },
          "paper_bgcolor": "white",
          "plot_bgcolor": "#E5ECF6",
          "polar": {
           "angularaxis": {
            "gridcolor": "white",
            "linecolor": "white",
            "ticks": ""
           },
           "bgcolor": "#E5ECF6",
           "radialaxis": {
            "gridcolor": "white",
            "linecolor": "white",
            "ticks": ""
           }
          },
          "scene": {
           "xaxis": {
            "backgroundcolor": "#E5ECF6",
            "gridcolor": "white",
            "gridwidth": 2,
            "linecolor": "white",
            "showbackground": true,
            "ticks": "",
            "zerolinecolor": "white"
           },
           "yaxis": {
            "backgroundcolor": "#E5ECF6",
            "gridcolor": "white",
            "gridwidth": 2,
            "linecolor": "white",
            "showbackground": true,
            "ticks": "",
            "zerolinecolor": "white"
           },
           "zaxis": {
            "backgroundcolor": "#E5ECF6",
            "gridcolor": "white",
            "gridwidth": 2,
            "linecolor": "white",
            "showbackground": true,
            "ticks": "",
            "zerolinecolor": "white"
           }
          },
          "shapedefaults": {
           "line": {
            "color": "#2a3f5f"
           }
          },
          "ternary": {
           "aaxis": {
            "gridcolor": "white",
            "linecolor": "white",
            "ticks": ""
           },
           "baxis": {
            "gridcolor": "white",
            "linecolor": "white",
            "ticks": ""
           },
           "bgcolor": "#E5ECF6",
           "caxis": {
            "gridcolor": "white",
            "linecolor": "white",
            "ticks": ""
           }
          },
          "title": {
           "x": 0.05
          },
          "xaxis": {
           "automargin": true,
           "gridcolor": "white",
           "linecolor": "white",
           "ticks": "",
           "title": {
            "standoff": 15
           },
           "zerolinecolor": "white",
           "zerolinewidth": 2
          },
          "yaxis": {
           "automargin": true,
           "gridcolor": "white",
           "linecolor": "white",
           "ticks": "",
           "title": {
            "standoff": 15
           },
           "zerolinecolor": "white",
           "zerolinewidth": 2
          }
         }
        },
        "xaxis": {
         "anchor": "y",
         "domain": [
          0,
          1
         ],
         "title": {
          "text": "Health"
         }
        },
        "yaxis": {
         "anchor": "x",
         "domain": [
          0,
          1
         ],
         "title": {
          "text": "Education"
         }
        }
       }
      },
      "text/html": [
       "<div>            <script src=\"https://cdnjs.cloudflare.com/ajax/libs/mathjax/2.7.5/MathJax.js?config=TeX-AMS-MML_SVG\"></script><script type=\"text/javascript\">if (window.MathJax && window.MathJax.Hub && window.MathJax.Hub.Config) {window.MathJax.Hub.Config({SVG: {font: \"STIX-Web\"}});}</script>                <script type=\"text/javascript\">window.PlotlyConfig = {MathJaxConfig: 'local'};</script>\n",
       "        <script charset=\"utf-8\" src=\"https://cdn.plot.ly/plotly-3.0.1.min.js\"></script>                <div id=\"c4e65132-905d-4823-9297-b58f4331e5c6\" class=\"plotly-graph-div\" style=\"height:525px; width:100%;\"></div>            <script type=\"text/javascript\">                window.PLOTLYENV=window.PLOTLYENV || {};                                if (document.getElementById(\"c4e65132-905d-4823-9297-b58f4331e5c6\")) {                    Plotly.newPlot(                        \"c4e65132-905d-4823-9297-b58f4331e5c6\",                        [{\"coloraxis\":\"coloraxis\",\"histfunc\":\"avg\",\"hovertemplate\":\"Health=%{x}\\u003cbr\\u003eEducation=%{y}\\u003cbr\\u003eavg of LivingConditions=%{z}\\u003cextra\\u003e\\u003c\\u002fextra\\u003e\",\"name\":\"\",\"texttemplate\":\"%{z}\",\"x\":{\"dtype\":\"f8\",\"bdata\":\"FK5H4XpEVEBSuB6F65FUQB+F61G4vlRAXI\\u002fC9ShMVEDXo3A9CodUQDMzMzMzg1RA9ihcj8JlVECuR+F6FK5UQArXo3A9WlRA9ihcj8L1U0DD9ShcjwJUQKRwPQrXk1NAuB6F61G4U0AfhetRuA5UQNejcD0KF1RAAAAAAACgVUApXI\\u002fC9bhVQGZmZmZmJlRAcT0K16NQUkBI4XoUrtdUQD0K16NwbVNAhetRuB5VVEA9CtejcB1UQArXo3A96lNAj8L1KFzfU0Bcj8L1KFxTQLgehetR+FNAw\\u002fUoXI8iVEAzMzMzMzNVQJqZmZmZOVRA4XoUrkehUkDsUbgehZtSQGZmZmZmxlRAH4XrUbjOU0CPwvUoXC9TQKRwPQrXA1NApHA9CtcTU0AfhetRuH5TQPYoXI\\u002fCxVNA7FG4HoVbU0CPwvUoXO9SQM3MzMzMLFNAZmZmZmZWU0C4HoXrUZhTQOF6FK5HQVJAKVyPwvVoU0DXo3A9CvdRQNejcD0Kh1JAXI\\u002fC9SgcUUBmZmZmZsZSQFyPwvUoXFNA7FG4HoX7UUApXI\\u002fC9ahRQNejcD0Kx1RAuB6F61EoUkC4HoXrUYhSQIXrUbgedVJAzczMzMycUkCkcD0K1\\u002fNSQIXrUbgeVVNAH4XrUbheUkCPwvUoXA9TQLgehetRyFFAexSuR+G6U0DNzMzMzHxSQOxRuB6F61FAXI\\u002fC9SjcUkApXI\\u002fC9ahRQB+F61G4DlJAFK5H4XqkUUD2KFyPwkVSQAAAAAAAoFFAj8L1KFw\\u002fU0A9CtejcC1RQDMzMzMz801A9ihcj8K1UUC4HoXrUdhRQPYoXI\\u002fClVJA9ihcj8LVUkAAAAAAADBSQFK4HoXrcVNAZmZmZmZmTkApXI\\u002fC9YhNQKRwPQrXg1FAMzMzMzPzUUB7FK5H4TpRQMP1KFyPolFAj8L1KFyvUEBcj8L1KDxPQFK4HoXrUU5AhetRuB4lU0AAAAAAANBRQNejcD0Kp1FAPQrXo3AdUkBcj8L1KIxSQHsUrkfhylFAZmZmZmZWUUAK16NwPYpPQDMzMzMzA1JAUrgehesRU0CF61G4HhVRQFyPwvUoHFBACtejcD2KUEBSuB6F6+FTQHE9CtejQFFA4XoUrkeBUED2KFyPwuVSQD0K16NwTVBArkfhehROUkCPwvUoXO9PQGZmZmZmJlBAmpmZmZkpUUA9CtejcB1SQGZmZmZmBlJAuB6F61GYUEDXo3A9ChdMQClcj8L1CE5AhetRuB6lUUApXI\\u002fC9QhMQEjhehSu50lAzczMzMzMUEBmZmZmZkZOQAAAAAAAwEpAKVyPwvXYUEDhehSuR4FOQOxRuB6Fu1JAmpmZmZmZTEDNzMzMzMxNQB+F61G4Pk1Aj8L1KFxvSkAUrkfhejRJQGZmZmZmpkRA7FG4HoWLS0DXo3A9CjdIQFyPwvUoXE1ApHA9CtdjTkCPwvUoXA9LQFK4HoXrUUhAexSuR+G6S0BI4XoUridQQDMzMzMzU0hAj8L1KFwPSUCPwvUoXK9QQOF6FK5HIUhA16NwPQpnUUD2KFyPwvVQQMP1KFyPgklAzczMzMwMS0CPwvUoXG9JQOxRuB6Fa0pAXI\\u002fC9Sg8S0DNzMzMzExLQBSuR+F6dE5AH4XrUbheTEBxPQrXo\\u002fBIQNejcD0Kd0pAFK5H4XoUTUBmZmZmZkZOQArXo3A9ylBAH4XrUbi+TEAzMzMzM3NJQPYoXI\\u002fClUNAcT0K16MwRkAUrkfhenRJQDMzMzMz8z9AmpmZmZm5TEC4HoXrUdhBQA==\"},\"xaxis\":\"x\",\"xbingroup\":\"x\",\"y\":{\"dtype\":\"f8\",\"bdata\":\"H4XrUbjeVUB7FK5H4XpVQOxRuB6Fa1VAuB6F61EYVkCuR+F6FO5VQOxRuB6Fm1VAw\\u002fUoXI+yU0Bcj8L1KExVQM3MzMzM3FRAKVyPwvX4VEAAAAAAAEBVQKRwPQrXM1VAXI\\u002fC9SgMVUDsUbgehXtUQI\\u002fC9Shcf1VA7FG4HoU7VUBcj8L1KNxWQMP1KFyPMlVAmpmZmZnJVEDXo3A9CidVQFyPwvUojFRApHA9CtdzVUDhehSuR1FUQB+F61G4PlRACtejcD0qVEApXI\\u002fC9WhTQDMzMzMzc1RAhetRuB6VU0BxPQrXo\\u002fBVQAAAAAAAAFRA16NwPQpXVEAzMzMzM3NUQLgehetRaFRAKVyPwvXIU0AAAAAAADBSQK5H4XoUXlJAuB6F61GoU0ApXI\\u002fC9ahRQD0K16Nw7VFA9ihcj8LVU0DD9Shcj2JSQPYoXI\\u002fCVVNAXI\\u002fC9Sg8UkCuR+F6FK5SQK5H4XoUnlFAmpmZmZlJUUDsUbgehStRQMP1KFyPMlJAXI\\u002fC9SjsUUBxPQrXo9BMQOxRuB6Fm1BA4XoUrkdBUkCF61G4HhVSQHsUrkfhmlFAhetRuB6FTkA9CtejcH1QQLgehetRCFBAAAAAAABQUUA9CtejcD1QQMP1KFyPElBAXI\\u002fC9ShMUUCamZmZmSlRQNejcD0Kd05AmpmZmZk5UEAUrkfheoRRQHsUrkfh2k1AAAAAAAAAT0BmZmZmZsZLQDMzMzMzs1NA4XoUrkfBUUDXo3A9CvdPQNejcD0K905ApHA9CtejUECF61G4HmVTQEjhehSuR0pAzczMzMwMSkBI4XoUrndUQI\\u002fC9ShcT1RA4XoUrkfxUEB7FK5H4fpKQArXo3A9qk9AH4XrUbg+TEAAAAAAAEBLQGZmZmZmxk5AH4XrUbgeT0CF61G4HmVOQJqZmZmZeUhASOF6FK5HUUCPwvUoXG9MQAAAAAAAgEhApHA9CtdDUEAfhetRuL5PQOxRuB6Fi0lAKVyPwvXITkDhehSuRzFQQAAAAAAAoEZA16NwPQr3SEAAAAAAAOBGQDMzMzMzc0xAUrgehesxUEDhehSuR2FGQHE9CtejcEBAexSuR+E6SUDsUbgehZtRQEjhehSuB0dA16NwPQqXTECkcD0K16NQQHsUrkfhGkhAKVyPwvXITUDXo3A9CtdGQHE9CtejkENAhetRuB7FUEDsUbgehUtPQM3MzMzMzEZAUrgehetxSEDXo3A9CldBQClcj8L1SEVAAAAAAACgRUBSuB6F6zFJQDMzMzMzk0JASOF6FK6HSUApXI\\u002fC9ahDQM3MzMzMbEJAuB6F61EYRkDXo3A9CvdAQAAAAAAA4E9AhetRuB6FQ0Bcj8L1KBxDQB+F61G4nkJAMzMzMzOzQUB7FK5H4XpFQKRwPQrXg0ZAH4XrUbj+Q0DD9Shcj0JGQEjhehSuBzZAFK5H4Xq0QUDhehSuR+FAQM3MzMzMDDlApHA9CtcDTEC4HoXrUbhGQBSuR+F61DtAAAAAAADAQkAK16NwPepHQAAAAAAAwD5AzczMzMyMTkApXI\\u002fC9WhIQB+F61G43kdAj8L1KFzPR0D2KFyPwvUzQFyPwvUoXDhAXI\\u002fC9SicM0BI4XoUrscwQI\\u002fC9Shcjz9AhetRuB5FPEBcj8L1KJw9QFyPwvUoHEFAj8L1KFwPP0CuR+F6FA5BQOF6FK5HgUVAexSuR+E6PUCuR+F6FM5AQBSuR+F6lDFAUrgehetROkBcj8L1KBw7QB+F61G4njJAH4XrUbgePEA9CtejcP0yQA==\"},\"yaxis\":\"y\",\"ybingroup\":\"y\",\"z\":{\"dtype\":\"f8\",\"bdata\":\"4XoUrkfxV0CF61G4HtVXQM3MzMzMrFdAPQrXo3CdV0AK16NwPapXQNejcD0K91dApHA9CtejV0AUrkfhenRXQHsUrkfhmldACtejcD2qVkCamZmZmSlXQArXo3A9ildAj8L1KFxfV0BxPQrXoyBXQKRwPQrXQ1dA16NwPQo3V0BmZmZmZlZXQFK4HoXrMVdAj8L1KFyvVkCuR+F6FI5WQM3MzMzM\\u002fFZA16NwPQrXVkDXo3A9CidXQKRwPQrXc1dAKVyPwvXoVkBmZmZmZvZWQB+F61G4zlZAH4XrUbg+V0CuR+F6FN5WQHE9Ctej4FZAuB6F61H4VUDXo3A9CgdWQAAAAAAAYFdAexSuR+GKVkCuR+F6FF5WQM3MzMzM7FVAcT0K16OAVkDD9Shcj4JVQAAAAAAAUFRAAAAAAABwVkAAAAAAACBWQEjhehSuF1ZA4XoUrkfhU0C4HoXrUThVQDMzMzMzk1RA9ihcj8I1VUCuR+F6FA5UQOxRuB6F21RAPQrXo3DtVEDXo3A9ChdTQPYoXI\\u002fC5VNAXI\\u002fC9SjsVUAzMzMzMyNTQDMzMzMzQ1VAZmZmZmbWVEAAAAAAAJBUQFyPwvUojFNAhetRuB6FVEAzMzMzM2NRQFyPwvUo7FVAMzMzMzNDU0CPwvUoXH9VQDMzMzMzY1FA9ihcj8KVU0B7FK5H4QpTQEjhehSuV1RAZmZmZmamU0CamZmZmVlSQFyPwvUonFRAAAAAAADwU0CuR+F6FI5SQLgehetRGFVAMzMzMzPzUUAzMzMzM4NTQKRwPQrXE1FA9ihcj8IFU0AAAAAAAKBTQHE9CtejkFVASOF6FK53U0ApXI\\u002fC9UhRQOxRuB6FS1JACtejcD2KU0D2KFyPwtVNQKRwPQrXI1BAXI\\u002fC9ShsUUCF61G4HgVUQBSuR+F6NE5AcT0K16OgUEDD9Shcj6JSQIXrUbgeZUxAZmZmZmbGUEAUrkfherRTQPYoXI\\u002fCFVJA4XoUrkexUkA9CtejcD1UQAAAAAAAsFFAcT0K16MgUkAzMzMzM3NNQBSuR+F6hFNA4XoUrkfRUEB7FK5H4fpNQJqZmZmZGU1AMzMzMzPzS0A9CtejcD1TQK5H4XoUzk9ArkfhehQuUUCuR+F6FK5TQMP1KFyPwkhAj8L1KFyPU0CuR+F6FA5MQI\\u002fC9Shcz0RA4XoUrkexUkBI4XoUrrdQQNejcD0KF1BAexSuR+GaTECPwvUoXO9KQMP1KFyPwkdAexSuR+GaS0AfhetRuJ5QQClcj8L1KEtAzczMzMzsUUAUrkfhehRNQPYoXI\\u002fClUZA7FG4HoWLTEDXo3A9CpdCQNejcD0KB1NAKVyPwvVoREBI4XoUrgdIQPYoXI\\u002fCNUdAj8L1KFwvQUCuR+F6FG5NQEjhehSup0ZA4XoUrkcBR0DhehSuR+FLQB+F61G4PkRAcT0K16MQTUAAAAAAAAA+QHsUrkfhGkZA7FG4HoWrR0DXo3A9CmdSQFK4HoXrUURAXI\\u002fC9SicSEC4HoXrUXhKQNejcD0KN0JAFK5H4Xp0UUAUrkfheuRRQB+F61G43kdAPQrXo3AdSEBSuB6F6zFDQEjhehSu50FAPQrXo3DdR0CkcD0K1+M\\u002fQEjhehSuB0VAMzMzMzPzS0AK16NwPSpGQOF6FK5HoURASOF6FK7HO0AUrkfherRHQNejcD0Kt1BASOF6FK7HPkBmZmZmZqY+QFK4HoXrUT9AKVyPwvUIQEAfhetRuN5DQPYoXI\\u002fCNTNACtejcD3KREA9CtejcP01QA==\"},\"type\":\"histogram2d\"}],                        {\"template\":{\"data\":{\"histogram2dcontour\":[{\"type\":\"histogram2dcontour\",\"colorbar\":{\"outlinewidth\":0,\"ticks\":\"\"},\"colorscale\":[[0.0,\"#0d0887\"],[0.1111111111111111,\"#46039f\"],[0.2222222222222222,\"#7201a8\"],[0.3333333333333333,\"#9c179e\"],[0.4444444444444444,\"#bd3786\"],[0.5555555555555556,\"#d8576b\"],[0.6666666666666666,\"#ed7953\"],[0.7777777777777778,\"#fb9f3a\"],[0.8888888888888888,\"#fdca26\"],[1.0,\"#f0f921\"]]}],\"choropleth\":[{\"type\":\"choropleth\",\"colorbar\":{\"outlinewidth\":0,\"ticks\":\"\"}}],\"histogram2d\":[{\"type\":\"histogram2d\",\"colorbar\":{\"outlinewidth\":0,\"ticks\":\"\"},\"colorscale\":[[0.0,\"#0d0887\"],[0.1111111111111111,\"#46039f\"],[0.2222222222222222,\"#7201a8\"],[0.3333333333333333,\"#9c179e\"],[0.4444444444444444,\"#bd3786\"],[0.5555555555555556,\"#d8576b\"],[0.6666666666666666,\"#ed7953\"],[0.7777777777777778,\"#fb9f3a\"],[0.8888888888888888,\"#fdca26\"],[1.0,\"#f0f921\"]]}],\"heatmap\":[{\"type\":\"heatmap\",\"colorbar\":{\"outlinewidth\":0,\"ticks\":\"\"},\"colorscale\":[[0.0,\"#0d0887\"],[0.1111111111111111,\"#46039f\"],[0.2222222222222222,\"#7201a8\"],[0.3333333333333333,\"#9c179e\"],[0.4444444444444444,\"#bd3786\"],[0.5555555555555556,\"#d8576b\"],[0.6666666666666666,\"#ed7953\"],[0.7777777777777778,\"#fb9f3a\"],[0.8888888888888888,\"#fdca26\"],[1.0,\"#f0f921\"]]}],\"contourcarpet\":[{\"type\":\"contourcarpet\",\"colorbar\":{\"outlinewidth\":0,\"ticks\":\"\"}}],\"contour\":[{\"type\":\"contour\",\"colorbar\":{\"outlinewidth\":0,\"ticks\":\"\"},\"colorscale\":[[0.0,\"#0d0887\"],[0.1111111111111111,\"#46039f\"],[0.2222222222222222,\"#7201a8\"],[0.3333333333333333,\"#9c179e\"],[0.4444444444444444,\"#bd3786\"],[0.5555555555555556,\"#d8576b\"],[0.6666666666666666,\"#ed7953\"],[0.7777777777777778,\"#fb9f3a\"],[0.8888888888888888,\"#fdca26\"],[1.0,\"#f0f921\"]]}],\"surface\":[{\"type\":\"surface\",\"colorbar\":{\"outlinewidth\":0,\"ticks\":\"\"},\"colorscale\":[[0.0,\"#0d0887\"],[0.1111111111111111,\"#46039f\"],[0.2222222222222222,\"#7201a8\"],[0.3333333333333333,\"#9c179e\"],[0.4444444444444444,\"#bd3786\"],[0.5555555555555556,\"#d8576b\"],[0.6666666666666666,\"#ed7953\"],[0.7777777777777778,\"#fb9f3a\"],[0.8888888888888888,\"#fdca26\"],[1.0,\"#f0f921\"]]}],\"mesh3d\":[{\"type\":\"mesh3d\",\"colorbar\":{\"outlinewidth\":0,\"ticks\":\"\"}}],\"scatter\":[{\"fillpattern\":{\"fillmode\":\"overlay\",\"size\":10,\"solidity\":0.2},\"type\":\"scatter\"}],\"parcoords\":[{\"type\":\"parcoords\",\"line\":{\"colorbar\":{\"outlinewidth\":0,\"ticks\":\"\"}}}],\"scatterpolargl\":[{\"type\":\"scatterpolargl\",\"marker\":{\"colorbar\":{\"outlinewidth\":0,\"ticks\":\"\"}}}],\"bar\":[{\"error_x\":{\"color\":\"#2a3f5f\"},\"error_y\":{\"color\":\"#2a3f5f\"},\"marker\":{\"line\":{\"color\":\"#E5ECF6\",\"width\":0.5},\"pattern\":{\"fillmode\":\"overlay\",\"size\":10,\"solidity\":0.2}},\"type\":\"bar\"}],\"scattergeo\":[{\"type\":\"scattergeo\",\"marker\":{\"colorbar\":{\"outlinewidth\":0,\"ticks\":\"\"}}}],\"scatterpolar\":[{\"type\":\"scatterpolar\",\"marker\":{\"colorbar\":{\"outlinewidth\":0,\"ticks\":\"\"}}}],\"histogram\":[{\"marker\":{\"pattern\":{\"fillmode\":\"overlay\",\"size\":10,\"solidity\":0.2}},\"type\":\"histogram\"}],\"scattergl\":[{\"type\":\"scattergl\",\"marker\":{\"colorbar\":{\"outlinewidth\":0,\"ticks\":\"\"}}}],\"scatter3d\":[{\"type\":\"scatter3d\",\"line\":{\"colorbar\":{\"outlinewidth\":0,\"ticks\":\"\"}},\"marker\":{\"colorbar\":{\"outlinewidth\":0,\"ticks\":\"\"}}}],\"scattermap\":[{\"type\":\"scattermap\",\"marker\":{\"colorbar\":{\"outlinewidth\":0,\"ticks\":\"\"}}}],\"scattermapbox\":[{\"type\":\"scattermapbox\",\"marker\":{\"colorbar\":{\"outlinewidth\":0,\"ticks\":\"\"}}}],\"scatterternary\":[{\"type\":\"scatterternary\",\"marker\":{\"colorbar\":{\"outlinewidth\":0,\"ticks\":\"\"}}}],\"scattercarpet\":[{\"type\":\"scattercarpet\",\"marker\":{\"colorbar\":{\"outlinewidth\":0,\"ticks\":\"\"}}}],\"carpet\":[{\"aaxis\":{\"endlinecolor\":\"#2a3f5f\",\"gridcolor\":\"white\",\"linecolor\":\"white\",\"minorgridcolor\":\"white\",\"startlinecolor\":\"#2a3f5f\"},\"baxis\":{\"endlinecolor\":\"#2a3f5f\",\"gridcolor\":\"white\",\"linecolor\":\"white\",\"minorgridcolor\":\"white\",\"startlinecolor\":\"#2a3f5f\"},\"type\":\"carpet\"}],\"table\":[{\"cells\":{\"fill\":{\"color\":\"#EBF0F8\"},\"line\":{\"color\":\"white\"}},\"header\":{\"fill\":{\"color\":\"#C8D4E3\"},\"line\":{\"color\":\"white\"}},\"type\":\"table\"}],\"barpolar\":[{\"marker\":{\"line\":{\"color\":\"#E5ECF6\",\"width\":0.5},\"pattern\":{\"fillmode\":\"overlay\",\"size\":10,\"solidity\":0.2}},\"type\":\"barpolar\"}],\"pie\":[{\"automargin\":true,\"type\":\"pie\"}]},\"layout\":{\"autotypenumbers\":\"strict\",\"colorway\":[\"#636efa\",\"#EF553B\",\"#00cc96\",\"#ab63fa\",\"#FFA15A\",\"#19d3f3\",\"#FF6692\",\"#B6E880\",\"#FF97FF\",\"#FECB52\"],\"font\":{\"color\":\"#2a3f5f\"},\"hovermode\":\"closest\",\"hoverlabel\":{\"align\":\"left\"},\"paper_bgcolor\":\"white\",\"plot_bgcolor\":\"#E5ECF6\",\"polar\":{\"bgcolor\":\"#E5ECF6\",\"angularaxis\":{\"gridcolor\":\"white\",\"linecolor\":\"white\",\"ticks\":\"\"},\"radialaxis\":{\"gridcolor\":\"white\",\"linecolor\":\"white\",\"ticks\":\"\"}},\"ternary\":{\"bgcolor\":\"#E5ECF6\",\"aaxis\":{\"gridcolor\":\"white\",\"linecolor\":\"white\",\"ticks\":\"\"},\"baxis\":{\"gridcolor\":\"white\",\"linecolor\":\"white\",\"ticks\":\"\"},\"caxis\":{\"gridcolor\":\"white\",\"linecolor\":\"white\",\"ticks\":\"\"}},\"coloraxis\":{\"colorbar\":{\"outlinewidth\":0,\"ticks\":\"\"}},\"colorscale\":{\"sequential\":[[0.0,\"#0d0887\"],[0.1111111111111111,\"#46039f\"],[0.2222222222222222,\"#7201a8\"],[0.3333333333333333,\"#9c179e\"],[0.4444444444444444,\"#bd3786\"],[0.5555555555555556,\"#d8576b\"],[0.6666666666666666,\"#ed7953\"],[0.7777777777777778,\"#fb9f3a\"],[0.8888888888888888,\"#fdca26\"],[1.0,\"#f0f921\"]],\"sequentialminus\":[[0.0,\"#0d0887\"],[0.1111111111111111,\"#46039f\"],[0.2222222222222222,\"#7201a8\"],[0.3333333333333333,\"#9c179e\"],[0.4444444444444444,\"#bd3786\"],[0.5555555555555556,\"#d8576b\"],[0.6666666666666666,\"#ed7953\"],[0.7777777777777778,\"#fb9f3a\"],[0.8888888888888888,\"#fdca26\"],[1.0,\"#f0f921\"]],\"diverging\":[[0,\"#8e0152\"],[0.1,\"#c51b7d\"],[0.2,\"#de77ae\"],[0.3,\"#f1b6da\"],[0.4,\"#fde0ef\"],[0.5,\"#f7f7f7\"],[0.6,\"#e6f5d0\"],[0.7,\"#b8e186\"],[0.8,\"#7fbc41\"],[0.9,\"#4d9221\"],[1,\"#276419\"]]},\"xaxis\":{\"gridcolor\":\"white\",\"linecolor\":\"white\",\"ticks\":\"\",\"title\":{\"standoff\":15},\"zerolinecolor\":\"white\",\"automargin\":true,\"zerolinewidth\":2},\"yaxis\":{\"gridcolor\":\"white\",\"linecolor\":\"white\",\"ticks\":\"\",\"title\":{\"standoff\":15},\"zerolinecolor\":\"white\",\"automargin\":true,\"zerolinewidth\":2},\"scene\":{\"xaxis\":{\"backgroundcolor\":\"#E5ECF6\",\"gridcolor\":\"white\",\"linecolor\":\"white\",\"showbackground\":true,\"ticks\":\"\",\"zerolinecolor\":\"white\",\"gridwidth\":2},\"yaxis\":{\"backgroundcolor\":\"#E5ECF6\",\"gridcolor\":\"white\",\"linecolor\":\"white\",\"showbackground\":true,\"ticks\":\"\",\"zerolinecolor\":\"white\",\"gridwidth\":2},\"zaxis\":{\"backgroundcolor\":\"#E5ECF6\",\"gridcolor\":\"white\",\"linecolor\":\"white\",\"showbackground\":true,\"ticks\":\"\",\"zerolinecolor\":\"white\",\"gridwidth\":2}},\"shapedefaults\":{\"line\":{\"color\":\"#2a3f5f\"}},\"annotationdefaults\":{\"arrowcolor\":\"#2a3f5f\",\"arrowhead\":0,\"arrowwidth\":1},\"geo\":{\"bgcolor\":\"white\",\"landcolor\":\"#E5ECF6\",\"subunitcolor\":\"white\",\"showland\":true,\"showlakes\":true,\"lakecolor\":\"white\"},\"title\":{\"x\":0.05},\"mapbox\":{\"style\":\"light\"}}},\"xaxis\":{\"anchor\":\"y\",\"domain\":[0.0,1.0],\"title\":{\"text\":\"Health\"}},\"yaxis\":{\"anchor\":\"x\",\"domain\":[0.0,1.0],\"title\":{\"text\":\"Education\"}},\"coloraxis\":{\"colorbar\":{\"title\":{\"text\":\"avg of LivingConditions\"}},\"colorscale\":[[0.0,\"#0d0887\"],[0.1111111111111111,\"#46039f\"],[0.2222222222222222,\"#7201a8\"],[0.3333333333333333,\"#9c179e\"],[0.4444444444444444,\"#bd3786\"],[0.5555555555555556,\"#d8576b\"],[0.6666666666666666,\"#ed7953\"],[0.7777777777777778,\"#fb9f3a\"],[0.8888888888888888,\"#fdca26\"],[1.0,\"#f0f921\"]]},\"legend\":{\"tracegroupgap\":0},\"margin\":{\"t\":60}},                        {\"responsive\": true}                    ).then(function(){\n",
       "                            \n",
       "var gd = document.getElementById('c4e65132-905d-4823-9297-b58f4331e5c6');\n",
       "var x = new MutationObserver(function (mutations, observer) {{\n",
       "        var display = window.getComputedStyle(gd).display;\n",
       "        if (!display || display === 'none') {{\n",
       "            console.log([gd, 'removed!']);\n",
       "            Plotly.purge(gd);\n",
       "            observer.disconnect();\n",
       "        }}\n",
       "}});\n",
       "\n",
       "// Listen for the removal of the full notebook cells\n",
       "var notebookContainer = gd.closest('#notebook-container');\n",
       "if (notebookContainer) {{\n",
       "    x.observe(notebookContainer, {childList: true});\n",
       "}}\n",
       "\n",
       "// Listen for the clearing of the current output cell\n",
       "var outputEl = gd.closest('.output');\n",
       "if (outputEl) {{\n",
       "    x.observe(outputEl, {childList: true});\n",
       "}}\n",
       "\n",
       "                        })                };            </script>        </div>"
      ]
     },
     "metadata": {},
     "output_type": "display_data"
    }
   ],
   "source": [
    "print(cntr['LivingConditions'].corr(cntr['Health']))\n",
    "print(cntr['LivingConditions'].corr(cntr['Education']))\n",
    "fig = px.density_heatmap(cntr, x= 'Health', y='Education', z='LivingConditions', histfunc=\"avg\", text_auto=True)\n",
    "fig.show()"
   ]
  },
  {
   "cell_type": "markdown",
   "id": "d08ad7d3-d640-4e77-bd2f-ac2e8737dfd9",
   "metadata": {},
   "source": [
    "<h2>Зависимость очевидна<h2>"
   ]
  },
  {
   "cell_type": "markdown",
   "id": "b11fc9bb-cf19-4dfe-8a6d-a1e1fa44be2e",
   "metadata": {},
   "source": [
    "<h2>Совместим наш датасет с похожим и посмотрим, что там с SafetySecurity в других регионах<h2>"
   ]
  },
  {
   "cell_type": "code",
   "execution_count": 21,
   "id": "04c48d96-3a9d-4f69-8880-50a08d95a5db",
   "metadata": {},
   "outputs": [
    {
     "data": {
      "text/html": [
       "<div>\n",
       "<style scoped>\n",
       "    .dataframe tbody tr th:only-of-type {\n",
       "        vertical-align: middle;\n",
       "    }\n",
       "\n",
       "    .dataframe tbody tr th {\n",
       "        vertical-align: top;\n",
       "    }\n",
       "\n",
       "    .dataframe thead th {\n",
       "        text-align: right;\n",
       "    }\n",
       "</style>\n",
       "<table border=\"1\" class=\"dataframe\">\n",
       "  <thead>\n",
       "    <tr style=\"text-align: right;\">\n",
       "      <th></th>\n",
       "      <th>Country</th>\n",
       "      <th>alpha-2</th>\n",
       "      <th>alpha-3</th>\n",
       "      <th>country-code</th>\n",
       "      <th>iso_3166-2</th>\n",
       "      <th>region</th>\n",
       "      <th>sub-region</th>\n",
       "      <th>intermediate-region</th>\n",
       "      <th>region-code</th>\n",
       "      <th>sub-region-code</th>\n",
       "      <th>intermediate-region-code</th>\n",
       "    </tr>\n",
       "  </thead>\n",
       "  <tbody>\n",
       "    <tr>\n",
       "      <th>0</th>\n",
       "      <td>Afghanistan</td>\n",
       "      <td>AF</td>\n",
       "      <td>AFG</td>\n",
       "      <td>4</td>\n",
       "      <td>ISO 3166-2:AF</td>\n",
       "      <td>Asia</td>\n",
       "      <td>Southern Asia</td>\n",
       "      <td>NaN</td>\n",
       "      <td>142.0</td>\n",
       "      <td>34.0</td>\n",
       "      <td>NaN</td>\n",
       "    </tr>\n",
       "    <tr>\n",
       "      <th>1</th>\n",
       "      <td>Åland Islands</td>\n",
       "      <td>AX</td>\n",
       "      <td>ALA</td>\n",
       "      <td>248</td>\n",
       "      <td>ISO 3166-2:AX</td>\n",
       "      <td>Europe</td>\n",
       "      <td>Northern Europe</td>\n",
       "      <td>NaN</td>\n",
       "      <td>150.0</td>\n",
       "      <td>154.0</td>\n",
       "      <td>NaN</td>\n",
       "    </tr>\n",
       "    <tr>\n",
       "      <th>2</th>\n",
       "      <td>Albania</td>\n",
       "      <td>AL</td>\n",
       "      <td>ALB</td>\n",
       "      <td>8</td>\n",
       "      <td>ISO 3166-2:AL</td>\n",
       "      <td>Europe</td>\n",
       "      <td>Southern Europe</td>\n",
       "      <td>NaN</td>\n",
       "      <td>150.0</td>\n",
       "      <td>39.0</td>\n",
       "      <td>NaN</td>\n",
       "    </tr>\n",
       "    <tr>\n",
       "      <th>3</th>\n",
       "      <td>Algeria</td>\n",
       "      <td>DZ</td>\n",
       "      <td>DZA</td>\n",
       "      <td>12</td>\n",
       "      <td>ISO 3166-2:DZ</td>\n",
       "      <td>Africa</td>\n",
       "      <td>Northern Africa</td>\n",
       "      <td>NaN</td>\n",
       "      <td>2.0</td>\n",
       "      <td>15.0</td>\n",
       "      <td>NaN</td>\n",
       "    </tr>\n",
       "    <tr>\n",
       "      <th>4</th>\n",
       "      <td>American Samoa</td>\n",
       "      <td>AS</td>\n",
       "      <td>ASM</td>\n",
       "      <td>16</td>\n",
       "      <td>ISO 3166-2:AS</td>\n",
       "      <td>Oceania</td>\n",
       "      <td>Polynesia</td>\n",
       "      <td>NaN</td>\n",
       "      <td>9.0</td>\n",
       "      <td>61.0</td>\n",
       "      <td>NaN</td>\n",
       "    </tr>\n",
       "  </tbody>\n",
       "</table>\n",
       "</div>"
      ],
      "text/plain": [
       "          Country alpha-2 alpha-3  country-code     iso_3166-2   region  \\\n",
       "0     Afghanistan      AF     AFG             4  ISO 3166-2:AF     Asia   \n",
       "1   Åland Islands      AX     ALA           248  ISO 3166-2:AX   Europe   \n",
       "2         Albania      AL     ALB             8  ISO 3166-2:AL   Europe   \n",
       "3         Algeria      DZ     DZA            12  ISO 3166-2:DZ   Africa   \n",
       "4  American Samoa      AS     ASM            16  ISO 3166-2:AS  Oceania   \n",
       "\n",
       "        sub-region intermediate-region  region-code  sub-region-code  \\\n",
       "0    Southern Asia                 NaN        142.0             34.0   \n",
       "1  Northern Europe                 NaN        150.0            154.0   \n",
       "2  Southern Europe                 NaN        150.0             39.0   \n",
       "3  Northern Africa                 NaN          2.0             15.0   \n",
       "4        Polynesia                 NaN          9.0             61.0   \n",
       "\n",
       "   intermediate-region-code  \n",
       "0                       NaN  \n",
       "1                       NaN  \n",
       "2                       NaN  \n",
       "3                       NaN  \n",
       "4                       NaN  "
      ]
     },
     "execution_count": 21,
     "metadata": {},
     "output_type": "execute_result"
    }
   ],
   "source": [
    "cont = pd.read_csv(\"https://raw.githubusercontent.com/esbergenovg/proj/main/continents2.csv\")\n",
    "cont.head()"
   ]
  },
  {
   "cell_type": "code",
   "execution_count": 22,
   "id": "3ad039e9-8f73-4345-a06c-2987dc7f24ce",
   "metadata": {
    "scrolled": true
   },
   "outputs": [
    {
     "data": {
      "text/html": [
       "<div>\n",
       "<style scoped>\n",
       "    .dataframe tbody tr th:only-of-type {\n",
       "        vertical-align: middle;\n",
       "    }\n",
       "\n",
       "    .dataframe tbody tr th {\n",
       "        vertical-align: top;\n",
       "    }\n",
       "\n",
       "    .dataframe thead th {\n",
       "        text-align: right;\n",
       "    }\n",
       "</style>\n",
       "<table border=\"1\" class=\"dataframe\">\n",
       "  <thead>\n",
       "    <tr style=\"text-align: right;\">\n",
       "      <th></th>\n",
       "      <th>Country</th>\n",
       "      <th>AveragScore</th>\n",
       "      <th>SafetySecurity</th>\n",
       "      <th>PersonelFreedom</th>\n",
       "      <th>Governance</th>\n",
       "      <th>SocialCapital</th>\n",
       "      <th>InvestmentEnvironment</th>\n",
       "      <th>EnterpriseConditions</th>\n",
       "      <th>MarketAccessInfrastructure</th>\n",
       "      <th>EconomicQuality</th>\n",
       "      <th>...</th>\n",
       "      <th>alpha-2</th>\n",
       "      <th>alpha-3</th>\n",
       "      <th>country-code</th>\n",
       "      <th>iso_3166-2</th>\n",
       "      <th>region</th>\n",
       "      <th>sub-region</th>\n",
       "      <th>intermediate-region</th>\n",
       "      <th>region-code</th>\n",
       "      <th>sub-region-code</th>\n",
       "      <th>intermediate-region-code</th>\n",
       "    </tr>\n",
       "  </thead>\n",
       "  <tbody>\n",
       "    <tr>\n",
       "      <th>0</th>\n",
       "      <td>Denmark</td>\n",
       "      <td>84.55</td>\n",
       "      <td>92.59</td>\n",
       "      <td>94.09</td>\n",
       "      <td>89.45</td>\n",
       "      <td>82.56</td>\n",
       "      <td>82.42</td>\n",
       "      <td>79.64</td>\n",
       "      <td>78.79</td>\n",
       "      <td>76.81</td>\n",
       "      <td>...</td>\n",
       "      <td>DK</td>\n",
       "      <td>DNK</td>\n",
       "      <td>208</td>\n",
       "      <td>ISO 3166-2:DK</td>\n",
       "      <td>Europe</td>\n",
       "      <td>Northern Europe</td>\n",
       "      <td>NaN</td>\n",
       "      <td>150.0</td>\n",
       "      <td>154.0</td>\n",
       "      <td>NaN</td>\n",
       "    </tr>\n",
       "    <tr>\n",
       "      <th>1</th>\n",
       "      <td>Sweden</td>\n",
       "      <td>83.67</td>\n",
       "      <td>90.97</td>\n",
       "      <td>91.90</td>\n",
       "      <td>86.41</td>\n",
       "      <td>78.29</td>\n",
       "      <td>82.81</td>\n",
       "      <td>75.54</td>\n",
       "      <td>79.67</td>\n",
       "      <td>76.18</td>\n",
       "      <td>...</td>\n",
       "      <td>SE</td>\n",
       "      <td>SWE</td>\n",
       "      <td>752</td>\n",
       "      <td>ISO 3166-2:SE</td>\n",
       "      <td>Europe</td>\n",
       "      <td>Northern Europe</td>\n",
       "      <td>NaN</td>\n",
       "      <td>150.0</td>\n",
       "      <td>154.0</td>\n",
       "      <td>NaN</td>\n",
       "    </tr>\n",
       "    <tr>\n",
       "      <th>2</th>\n",
       "      <td>Norway</td>\n",
       "      <td>83.59</td>\n",
       "      <td>93.30</td>\n",
       "      <td>94.10</td>\n",
       "      <td>89.66</td>\n",
       "      <td>79.03</td>\n",
       "      <td>82.24</td>\n",
       "      <td>75.95</td>\n",
       "      <td>75.87</td>\n",
       "      <td>77.25</td>\n",
       "      <td>...</td>\n",
       "      <td>NO</td>\n",
       "      <td>NOR</td>\n",
       "      <td>578</td>\n",
       "      <td>ISO 3166-2:NO</td>\n",
       "      <td>Europe</td>\n",
       "      <td>Northern Europe</td>\n",
       "      <td>NaN</td>\n",
       "      <td>150.0</td>\n",
       "      <td>154.0</td>\n",
       "      <td>NaN</td>\n",
       "    </tr>\n",
       "    <tr>\n",
       "      <th>3</th>\n",
       "      <td>Finland</td>\n",
       "      <td>83.47</td>\n",
       "      <td>89.56</td>\n",
       "      <td>91.96</td>\n",
       "      <td>90.41</td>\n",
       "      <td>77.27</td>\n",
       "      <td>84.12</td>\n",
       "      <td>77.25</td>\n",
       "      <td>78.77</td>\n",
       "      <td>70.28</td>\n",
       "      <td>...</td>\n",
       "      <td>FI</td>\n",
       "      <td>FIN</td>\n",
       "      <td>246</td>\n",
       "      <td>ISO 3166-2:FI</td>\n",
       "      <td>Europe</td>\n",
       "      <td>Northern Europe</td>\n",
       "      <td>NaN</td>\n",
       "      <td>150.0</td>\n",
       "      <td>154.0</td>\n",
       "      <td>NaN</td>\n",
       "    </tr>\n",
       "    <tr>\n",
       "      <th>4</th>\n",
       "      <td>Switzerland</td>\n",
       "      <td>83.42</td>\n",
       "      <td>95.66</td>\n",
       "      <td>87.50</td>\n",
       "      <td>87.67</td>\n",
       "      <td>69.14</td>\n",
       "      <td>80.81</td>\n",
       "      <td>83.84</td>\n",
       "      <td>78.65</td>\n",
       "      <td>79.71</td>\n",
       "      <td>...</td>\n",
       "      <td>CH</td>\n",
       "      <td>CHE</td>\n",
       "      <td>756</td>\n",
       "      <td>ISO 3166-2:CH</td>\n",
       "      <td>Europe</td>\n",
       "      <td>Western Europe</td>\n",
       "      <td>NaN</td>\n",
       "      <td>150.0</td>\n",
       "      <td>155.0</td>\n",
       "      <td>NaN</td>\n",
       "    </tr>\n",
       "  </tbody>\n",
       "</table>\n",
       "<p>5 rows × 24 columns</p>\n",
       "</div>"
      ],
      "text/plain": [
       "       Country  AveragScore  SafetySecurity  PersonelFreedom  Governance  \\\n",
       "0      Denmark        84.55           92.59            94.09       89.45   \n",
       "1       Sweden        83.67           90.97            91.90       86.41   \n",
       "2       Norway        83.59           93.30            94.10       89.66   \n",
       "3      Finland        83.47           89.56            91.96       90.41   \n",
       "4  Switzerland        83.42           95.66            87.50       87.67   \n",
       "\n",
       "   SocialCapital  InvestmentEnvironment  EnterpriseConditions  \\\n",
       "0          82.56                  82.42                 79.64   \n",
       "1          78.29                  82.81                 75.54   \n",
       "2          79.03                  82.24                 75.95   \n",
       "3          77.27                  84.12                 77.25   \n",
       "4          69.14                  80.81                 83.84   \n",
       "\n",
       "   MarketAccessInfrastructure  EconomicQuality  ...  alpha-2  alpha-3  \\\n",
       "0                       78.79            76.81  ...       DK      DNK   \n",
       "1                       79.67            76.18  ...       SE      SWE   \n",
       "2                       75.87            77.25  ...       NO      NOR   \n",
       "3                       78.77            70.28  ...       FI      FIN   \n",
       "4                       78.65            79.71  ...       CH      CHE   \n",
       "\n",
       "   country-code     iso_3166-2  region       sub-region  intermediate-region  \\\n",
       "0           208  ISO 3166-2:DK  Europe  Northern Europe                  NaN   \n",
       "1           752  ISO 3166-2:SE  Europe  Northern Europe                  NaN   \n",
       "2           578  ISO 3166-2:NO  Europe  Northern Europe                  NaN   \n",
       "3           246  ISO 3166-2:FI  Europe  Northern Europe                  NaN   \n",
       "4           756  ISO 3166-2:CH  Europe   Western Europe                  NaN   \n",
       "\n",
       "  region-code sub-region-code intermediate-region-code  \n",
       "0       150.0           154.0                      NaN  \n",
       "1       150.0           154.0                      NaN  \n",
       "2       150.0           154.0                      NaN  \n",
       "3       150.0           154.0                      NaN  \n",
       "4       150.0           155.0                      NaN  \n",
       "\n",
       "[5 rows x 24 columns]"
      ]
     },
     "execution_count": 22,
     "metadata": {},
     "output_type": "execute_result"
    }
   ],
   "source": [
    "union = pd.merge(left=cntr, right=cont, how='inner', on='Country')\n",
    "union.head()\n"
   ]
  },
  {
   "cell_type": "markdown",
   "id": "65bc9f20-8420-499b-80b5-77340db76809",
   "metadata": {},
   "source": [
    "<h2>Найдем среднее значение SafetySecurity разных регионов<h2>"
   ]
  },
  {
   "cell_type": "code",
   "execution_count": 23,
   "id": "6934a4ef-0060-4703-a63f-056e8f206e1c",
   "metadata": {},
   "outputs": [
    {
     "data": {
      "text/html": [
       "<div>\n",
       "<style scoped>\n",
       "    .dataframe tbody tr th:only-of-type {\n",
       "        vertical-align: middle;\n",
       "    }\n",
       "\n",
       "    .dataframe tbody tr th {\n",
       "        vertical-align: top;\n",
       "    }\n",
       "\n",
       "    .dataframe thead tr th {\n",
       "        text-align: left;\n",
       "    }\n",
       "\n",
       "    .dataframe thead tr:last-of-type th {\n",
       "        text-align: right;\n",
       "    }\n",
       "</style>\n",
       "<table border=\"1\" class=\"dataframe\">\n",
       "  <thead>\n",
       "    <tr>\n",
       "      <th></th>\n",
       "      <th>SafetySecurity</th>\n",
       "    </tr>\n",
       "    <tr>\n",
       "      <th></th>\n",
       "      <th>mean</th>\n",
       "    </tr>\n",
       "    <tr>\n",
       "      <th>region</th>\n",
       "      <th></th>\n",
       "    </tr>\n",
       "  </thead>\n",
       "  <tbody>\n",
       "    <tr>\n",
       "      <th>Africa</th>\n",
       "      <td>57.465510</td>\n",
       "    </tr>\n",
       "    <tr>\n",
       "      <th>Americas</th>\n",
       "      <td>64.978519</td>\n",
       "    </tr>\n",
       "    <tr>\n",
       "      <th>Asia</th>\n",
       "      <td>64.409773</td>\n",
       "    </tr>\n",
       "    <tr>\n",
       "      <th>Europe</th>\n",
       "      <td>84.230526</td>\n",
       "    </tr>\n",
       "    <tr>\n",
       "      <th>Oceania</th>\n",
       "      <td>78.580000</td>\n",
       "    </tr>\n",
       "  </tbody>\n",
       "</table>\n",
       "</div>"
      ],
      "text/plain": [
       "         SafetySecurity\n",
       "                   mean\n",
       "region                 \n",
       "Africa        57.465510\n",
       "Americas      64.978519\n",
       "Asia          64.409773\n",
       "Europe        84.230526\n",
       "Oceania       78.580000"
      ]
     },
     "execution_count": 23,
     "metadata": {},
     "output_type": "execute_result"
    }
   ],
   "source": [
    "res = union.groupby(['region']).agg({\"SafetySecurity\":[\"mean\"]})\n",
    "res.head()"
   ]
  },
  {
   "cell_type": "code",
   "execution_count": 24,
   "id": "576cbfc0-e657-4359-918f-aed017b097f4",
   "metadata": {},
   "outputs": [
    {
     "data": {
      "application/vnd.plotly.v1+json": {
       "config": {
        "plotlyServerURL": "https://plot.ly"
       },
       "data": [
        {
         "marker": {
          "color": [
           "lightslategray",
           "lightslategray",
           "lightslategray",
           "crimson",
           "lightslategray"
          ]
         },
         "type": "bar",
         "x": [
          "Africa",
          "Americas",
          "Asia",
          "Europe",
          "Oceania"
         ],
         "y": {
          "bdata": "ET6f1pW7TEBR5CIMoD5QQHebY7c5GlBAucty8cAOVUCF61G4HqVTQA==",
          "dtype": "f8"
         }
        }
       ],
       "layout": {
        "template": {
         "data": {
          "bar": [
           {
            "error_x": {
             "color": "#2a3f5f"
            },
            "error_y": {
             "color": "#2a3f5f"
            },
            "marker": {
             "line": {
              "color": "#E5ECF6",
              "width": 0.5
             },
             "pattern": {
              "fillmode": "overlay",
              "size": 10,
              "solidity": 0.2
             }
            },
            "type": "bar"
           }
          ],
          "barpolar": [
           {
            "marker": {
             "line": {
              "color": "#E5ECF6",
              "width": 0.5
             },
             "pattern": {
              "fillmode": "overlay",
              "size": 10,
              "solidity": 0.2
             }
            },
            "type": "barpolar"
           }
          ],
          "carpet": [
           {
            "aaxis": {
             "endlinecolor": "#2a3f5f",
             "gridcolor": "white",
             "linecolor": "white",
             "minorgridcolor": "white",
             "startlinecolor": "#2a3f5f"
            },
            "baxis": {
             "endlinecolor": "#2a3f5f",
             "gridcolor": "white",
             "linecolor": "white",
             "minorgridcolor": "white",
             "startlinecolor": "#2a3f5f"
            },
            "type": "carpet"
           }
          ],
          "choropleth": [
           {
            "colorbar": {
             "outlinewidth": 0,
             "ticks": ""
            },
            "type": "choropleth"
           }
          ],
          "contour": [
           {
            "colorbar": {
             "outlinewidth": 0,
             "ticks": ""
            },
            "colorscale": [
             [
              0,
              "#0d0887"
             ],
             [
              0.1111111111111111,
              "#46039f"
             ],
             [
              0.2222222222222222,
              "#7201a8"
             ],
             [
              0.3333333333333333,
              "#9c179e"
             ],
             [
              0.4444444444444444,
              "#bd3786"
             ],
             [
              0.5555555555555556,
              "#d8576b"
             ],
             [
              0.6666666666666666,
              "#ed7953"
             ],
             [
              0.7777777777777778,
              "#fb9f3a"
             ],
             [
              0.8888888888888888,
              "#fdca26"
             ],
             [
              1,
              "#f0f921"
             ]
            ],
            "type": "contour"
           }
          ],
          "contourcarpet": [
           {
            "colorbar": {
             "outlinewidth": 0,
             "ticks": ""
            },
            "type": "contourcarpet"
           }
          ],
          "heatmap": [
           {
            "colorbar": {
             "outlinewidth": 0,
             "ticks": ""
            },
            "colorscale": [
             [
              0,
              "#0d0887"
             ],
             [
              0.1111111111111111,
              "#46039f"
             ],
             [
              0.2222222222222222,
              "#7201a8"
             ],
             [
              0.3333333333333333,
              "#9c179e"
             ],
             [
              0.4444444444444444,
              "#bd3786"
             ],
             [
              0.5555555555555556,
              "#d8576b"
             ],
             [
              0.6666666666666666,
              "#ed7953"
             ],
             [
              0.7777777777777778,
              "#fb9f3a"
             ],
             [
              0.8888888888888888,
              "#fdca26"
             ],
             [
              1,
              "#f0f921"
             ]
            ],
            "type": "heatmap"
           }
          ],
          "histogram": [
           {
            "marker": {
             "pattern": {
              "fillmode": "overlay",
              "size": 10,
              "solidity": 0.2
             }
            },
            "type": "histogram"
           }
          ],
          "histogram2d": [
           {
            "colorbar": {
             "outlinewidth": 0,
             "ticks": ""
            },
            "colorscale": [
             [
              0,
              "#0d0887"
             ],
             [
              0.1111111111111111,
              "#46039f"
             ],
             [
              0.2222222222222222,
              "#7201a8"
             ],
             [
              0.3333333333333333,
              "#9c179e"
             ],
             [
              0.4444444444444444,
              "#bd3786"
             ],
             [
              0.5555555555555556,
              "#d8576b"
             ],
             [
              0.6666666666666666,
              "#ed7953"
             ],
             [
              0.7777777777777778,
              "#fb9f3a"
             ],
             [
              0.8888888888888888,
              "#fdca26"
             ],
             [
              1,
              "#f0f921"
             ]
            ],
            "type": "histogram2d"
           }
          ],
          "histogram2dcontour": [
           {
            "colorbar": {
             "outlinewidth": 0,
             "ticks": ""
            },
            "colorscale": [
             [
              0,
              "#0d0887"
             ],
             [
              0.1111111111111111,
              "#46039f"
             ],
             [
              0.2222222222222222,
              "#7201a8"
             ],
             [
              0.3333333333333333,
              "#9c179e"
             ],
             [
              0.4444444444444444,
              "#bd3786"
             ],
             [
              0.5555555555555556,
              "#d8576b"
             ],
             [
              0.6666666666666666,
              "#ed7953"
             ],
             [
              0.7777777777777778,
              "#fb9f3a"
             ],
             [
              0.8888888888888888,
              "#fdca26"
             ],
             [
              1,
              "#f0f921"
             ]
            ],
            "type": "histogram2dcontour"
           }
          ],
          "mesh3d": [
           {
            "colorbar": {
             "outlinewidth": 0,
             "ticks": ""
            },
            "type": "mesh3d"
           }
          ],
          "parcoords": [
           {
            "line": {
             "colorbar": {
              "outlinewidth": 0,
              "ticks": ""
             }
            },
            "type": "parcoords"
           }
          ],
          "pie": [
           {
            "automargin": true,
            "type": "pie"
           }
          ],
          "scatter": [
           {
            "fillpattern": {
             "fillmode": "overlay",
             "size": 10,
             "solidity": 0.2
            },
            "type": "scatter"
           }
          ],
          "scatter3d": [
           {
            "line": {
             "colorbar": {
              "outlinewidth": 0,
              "ticks": ""
             }
            },
            "marker": {
             "colorbar": {
              "outlinewidth": 0,
              "ticks": ""
             }
            },
            "type": "scatter3d"
           }
          ],
          "scattercarpet": [
           {
            "marker": {
             "colorbar": {
              "outlinewidth": 0,
              "ticks": ""
             }
            },
            "type": "scattercarpet"
           }
          ],
          "scattergeo": [
           {
            "marker": {
             "colorbar": {
              "outlinewidth": 0,
              "ticks": ""
             }
            },
            "type": "scattergeo"
           }
          ],
          "scattergl": [
           {
            "marker": {
             "colorbar": {
              "outlinewidth": 0,
              "ticks": ""
             }
            },
            "type": "scattergl"
           }
          ],
          "scattermap": [
           {
            "marker": {
             "colorbar": {
              "outlinewidth": 0,
              "ticks": ""
             }
            },
            "type": "scattermap"
           }
          ],
          "scattermapbox": [
           {
            "marker": {
             "colorbar": {
              "outlinewidth": 0,
              "ticks": ""
             }
            },
            "type": "scattermapbox"
           }
          ],
          "scatterpolar": [
           {
            "marker": {
             "colorbar": {
              "outlinewidth": 0,
              "ticks": ""
             }
            },
            "type": "scatterpolar"
           }
          ],
          "scatterpolargl": [
           {
            "marker": {
             "colorbar": {
              "outlinewidth": 0,
              "ticks": ""
             }
            },
            "type": "scatterpolargl"
           }
          ],
          "scatterternary": [
           {
            "marker": {
             "colorbar": {
              "outlinewidth": 0,
              "ticks": ""
             }
            },
            "type": "scatterternary"
           }
          ],
          "surface": [
           {
            "colorbar": {
             "outlinewidth": 0,
             "ticks": ""
            },
            "colorscale": [
             [
              0,
              "#0d0887"
             ],
             [
              0.1111111111111111,
              "#46039f"
             ],
             [
              0.2222222222222222,
              "#7201a8"
             ],
             [
              0.3333333333333333,
              "#9c179e"
             ],
             [
              0.4444444444444444,
              "#bd3786"
             ],
             [
              0.5555555555555556,
              "#d8576b"
             ],
             [
              0.6666666666666666,
              "#ed7953"
             ],
             [
              0.7777777777777778,
              "#fb9f3a"
             ],
             [
              0.8888888888888888,
              "#fdca26"
             ],
             [
              1,
              "#f0f921"
             ]
            ],
            "type": "surface"
           }
          ],
          "table": [
           {
            "cells": {
             "fill": {
              "color": "#EBF0F8"
             },
             "line": {
              "color": "white"
             }
            },
            "header": {
             "fill": {
              "color": "#C8D4E3"
             },
             "line": {
              "color": "white"
             }
            },
            "type": "table"
           }
          ]
         },
         "layout": {
          "annotationdefaults": {
           "arrowcolor": "#2a3f5f",
           "arrowhead": 0,
           "arrowwidth": 1
          },
          "autotypenumbers": "strict",
          "coloraxis": {
           "colorbar": {
            "outlinewidth": 0,
            "ticks": ""
           }
          },
          "colorscale": {
           "diverging": [
            [
             0,
             "#8e0152"
            ],
            [
             0.1,
             "#c51b7d"
            ],
            [
             0.2,
             "#de77ae"
            ],
            [
             0.3,
             "#f1b6da"
            ],
            [
             0.4,
             "#fde0ef"
            ],
            [
             0.5,
             "#f7f7f7"
            ],
            [
             0.6,
             "#e6f5d0"
            ],
            [
             0.7,
             "#b8e186"
            ],
            [
             0.8,
             "#7fbc41"
            ],
            [
             0.9,
             "#4d9221"
            ],
            [
             1,
             "#276419"
            ]
           ],
           "sequential": [
            [
             0,
             "#0d0887"
            ],
            [
             0.1111111111111111,
             "#46039f"
            ],
            [
             0.2222222222222222,
             "#7201a8"
            ],
            [
             0.3333333333333333,
             "#9c179e"
            ],
            [
             0.4444444444444444,
             "#bd3786"
            ],
            [
             0.5555555555555556,
             "#d8576b"
            ],
            [
             0.6666666666666666,
             "#ed7953"
            ],
            [
             0.7777777777777778,
             "#fb9f3a"
            ],
            [
             0.8888888888888888,
             "#fdca26"
            ],
            [
             1,
             "#f0f921"
            ]
           ],
           "sequentialminus": [
            [
             0,
             "#0d0887"
            ],
            [
             0.1111111111111111,
             "#46039f"
            ],
            [
             0.2222222222222222,
             "#7201a8"
            ],
            [
             0.3333333333333333,
             "#9c179e"
            ],
            [
             0.4444444444444444,
             "#bd3786"
            ],
            [
             0.5555555555555556,
             "#d8576b"
            ],
            [
             0.6666666666666666,
             "#ed7953"
            ],
            [
             0.7777777777777778,
             "#fb9f3a"
            ],
            [
             0.8888888888888888,
             "#fdca26"
            ],
            [
             1,
             "#f0f921"
            ]
           ]
          },
          "colorway": [
           "#636efa",
           "#EF553B",
           "#00cc96",
           "#ab63fa",
           "#FFA15A",
           "#19d3f3",
           "#FF6692",
           "#B6E880",
           "#FF97FF",
           "#FECB52"
          ],
          "font": {
           "color": "#2a3f5f"
          },
          "geo": {
           "bgcolor": "white",
           "lakecolor": "white",
           "landcolor": "#E5ECF6",
           "showlakes": true,
           "showland": true,
           "subunitcolor": "white"
          },
          "hoverlabel": {
           "align": "left"
          },
          "hovermode": "closest",
          "mapbox": {
           "style": "light"
          },
          "paper_bgcolor": "white",
          "plot_bgcolor": "#E5ECF6",
          "polar": {
           "angularaxis": {
            "gridcolor": "white",
            "linecolor": "white",
            "ticks": ""
           },
           "bgcolor": "#E5ECF6",
           "radialaxis": {
            "gridcolor": "white",
            "linecolor": "white",
            "ticks": ""
           }
          },
          "scene": {
           "xaxis": {
            "backgroundcolor": "#E5ECF6",
            "gridcolor": "white",
            "gridwidth": 2,
            "linecolor": "white",
            "showbackground": true,
            "ticks": "",
            "zerolinecolor": "white"
           },
           "yaxis": {
            "backgroundcolor": "#E5ECF6",
            "gridcolor": "white",
            "gridwidth": 2,
            "linecolor": "white",
            "showbackground": true,
            "ticks": "",
            "zerolinecolor": "white"
           },
           "zaxis": {
            "backgroundcolor": "#E5ECF6",
            "gridcolor": "white",
            "gridwidth": 2,
            "linecolor": "white",
            "showbackground": true,
            "ticks": "",
            "zerolinecolor": "white"
           }
          },
          "shapedefaults": {
           "line": {
            "color": "#2a3f5f"
           }
          },
          "ternary": {
           "aaxis": {
            "gridcolor": "white",
            "linecolor": "white",
            "ticks": ""
           },
           "baxis": {
            "gridcolor": "white",
            "linecolor": "white",
            "ticks": ""
           },
           "bgcolor": "#E5ECF6",
           "caxis": {
            "gridcolor": "white",
            "linecolor": "white",
            "ticks": ""
           }
          },
          "title": {
           "x": 0.05
          },
          "xaxis": {
           "automargin": true,
           "gridcolor": "white",
           "linecolor": "white",
           "ticks": "",
           "title": {
            "standoff": 15
           },
           "zerolinecolor": "white",
           "zerolinewidth": 2
          },
          "yaxis": {
           "automargin": true,
           "gridcolor": "white",
           "linecolor": "white",
           "ticks": "",
           "title": {
            "standoff": 15
           },
           "zerolinecolor": "white",
           "zerolinewidth": 2
          }
         }
        },
        "title": {
         "text": "Mean region SafetySecurity"
        }
       }
      },
      "text/html": [
       "<div>            <script src=\"https://cdnjs.cloudflare.com/ajax/libs/mathjax/2.7.5/MathJax.js?config=TeX-AMS-MML_SVG\"></script><script type=\"text/javascript\">if (window.MathJax && window.MathJax.Hub && window.MathJax.Hub.Config) {window.MathJax.Hub.Config({SVG: {font: \"STIX-Web\"}});}</script>                <script type=\"text/javascript\">window.PlotlyConfig = {MathJaxConfig: 'local'};</script>\n",
       "        <script charset=\"utf-8\" src=\"https://cdn.plot.ly/plotly-3.0.1.min.js\"></script>                <div id=\"57304eda-c131-4bfe-b8a6-000ba98a5700\" class=\"plotly-graph-div\" style=\"height:525px; width:100%;\"></div>            <script type=\"text/javascript\">                window.PLOTLYENV=window.PLOTLYENV || {};                                if (document.getElementById(\"57304eda-c131-4bfe-b8a6-000ba98a5700\")) {                    Plotly.newPlot(                        \"57304eda-c131-4bfe-b8a6-000ba98a5700\",                        [{\"marker\":{\"color\":[\"lightslategray\",\"lightslategray\",\"lightslategray\",\"crimson\",\"lightslategray\"]},\"x\":[\"Africa\",\"Americas\",\"Asia\",\"Europe\",\"Oceania\"],\"y\":{\"dtype\":\"f8\",\"bdata\":\"ET6f1pW7TEBR5CIMoD5QQHebY7c5GlBAucty8cAOVUCF61G4HqVTQA==\"},\"type\":\"bar\"}],                        {\"template\":{\"data\":{\"histogram2dcontour\":[{\"type\":\"histogram2dcontour\",\"colorbar\":{\"outlinewidth\":0,\"ticks\":\"\"},\"colorscale\":[[0.0,\"#0d0887\"],[0.1111111111111111,\"#46039f\"],[0.2222222222222222,\"#7201a8\"],[0.3333333333333333,\"#9c179e\"],[0.4444444444444444,\"#bd3786\"],[0.5555555555555556,\"#d8576b\"],[0.6666666666666666,\"#ed7953\"],[0.7777777777777778,\"#fb9f3a\"],[0.8888888888888888,\"#fdca26\"],[1.0,\"#f0f921\"]]}],\"choropleth\":[{\"type\":\"choropleth\",\"colorbar\":{\"outlinewidth\":0,\"ticks\":\"\"}}],\"histogram2d\":[{\"type\":\"histogram2d\",\"colorbar\":{\"outlinewidth\":0,\"ticks\":\"\"},\"colorscale\":[[0.0,\"#0d0887\"],[0.1111111111111111,\"#46039f\"],[0.2222222222222222,\"#7201a8\"],[0.3333333333333333,\"#9c179e\"],[0.4444444444444444,\"#bd3786\"],[0.5555555555555556,\"#d8576b\"],[0.6666666666666666,\"#ed7953\"],[0.7777777777777778,\"#fb9f3a\"],[0.8888888888888888,\"#fdca26\"],[1.0,\"#f0f921\"]]}],\"heatmap\":[{\"type\":\"heatmap\",\"colorbar\":{\"outlinewidth\":0,\"ticks\":\"\"},\"colorscale\":[[0.0,\"#0d0887\"],[0.1111111111111111,\"#46039f\"],[0.2222222222222222,\"#7201a8\"],[0.3333333333333333,\"#9c179e\"],[0.4444444444444444,\"#bd3786\"],[0.5555555555555556,\"#d8576b\"],[0.6666666666666666,\"#ed7953\"],[0.7777777777777778,\"#fb9f3a\"],[0.8888888888888888,\"#fdca26\"],[1.0,\"#f0f921\"]]}],\"contourcarpet\":[{\"type\":\"contourcarpet\",\"colorbar\":{\"outlinewidth\":0,\"ticks\":\"\"}}],\"contour\":[{\"type\":\"contour\",\"colorbar\":{\"outlinewidth\":0,\"ticks\":\"\"},\"colorscale\":[[0.0,\"#0d0887\"],[0.1111111111111111,\"#46039f\"],[0.2222222222222222,\"#7201a8\"],[0.3333333333333333,\"#9c179e\"],[0.4444444444444444,\"#bd3786\"],[0.5555555555555556,\"#d8576b\"],[0.6666666666666666,\"#ed7953\"],[0.7777777777777778,\"#fb9f3a\"],[0.8888888888888888,\"#fdca26\"],[1.0,\"#f0f921\"]]}],\"surface\":[{\"type\":\"surface\",\"colorbar\":{\"outlinewidth\":0,\"ticks\":\"\"},\"colorscale\":[[0.0,\"#0d0887\"],[0.1111111111111111,\"#46039f\"],[0.2222222222222222,\"#7201a8\"],[0.3333333333333333,\"#9c179e\"],[0.4444444444444444,\"#bd3786\"],[0.5555555555555556,\"#d8576b\"],[0.6666666666666666,\"#ed7953\"],[0.7777777777777778,\"#fb9f3a\"],[0.8888888888888888,\"#fdca26\"],[1.0,\"#f0f921\"]]}],\"mesh3d\":[{\"type\":\"mesh3d\",\"colorbar\":{\"outlinewidth\":0,\"ticks\":\"\"}}],\"scatter\":[{\"fillpattern\":{\"fillmode\":\"overlay\",\"size\":10,\"solidity\":0.2},\"type\":\"scatter\"}],\"parcoords\":[{\"type\":\"parcoords\",\"line\":{\"colorbar\":{\"outlinewidth\":0,\"ticks\":\"\"}}}],\"scatterpolargl\":[{\"type\":\"scatterpolargl\",\"marker\":{\"colorbar\":{\"outlinewidth\":0,\"ticks\":\"\"}}}],\"bar\":[{\"error_x\":{\"color\":\"#2a3f5f\"},\"error_y\":{\"color\":\"#2a3f5f\"},\"marker\":{\"line\":{\"color\":\"#E5ECF6\",\"width\":0.5},\"pattern\":{\"fillmode\":\"overlay\",\"size\":10,\"solidity\":0.2}},\"type\":\"bar\"}],\"scattergeo\":[{\"type\":\"scattergeo\",\"marker\":{\"colorbar\":{\"outlinewidth\":0,\"ticks\":\"\"}}}],\"scatterpolar\":[{\"type\":\"scatterpolar\",\"marker\":{\"colorbar\":{\"outlinewidth\":0,\"ticks\":\"\"}}}],\"histogram\":[{\"marker\":{\"pattern\":{\"fillmode\":\"overlay\",\"size\":10,\"solidity\":0.2}},\"type\":\"histogram\"}],\"scattergl\":[{\"type\":\"scattergl\",\"marker\":{\"colorbar\":{\"outlinewidth\":0,\"ticks\":\"\"}}}],\"scatter3d\":[{\"type\":\"scatter3d\",\"line\":{\"colorbar\":{\"outlinewidth\":0,\"ticks\":\"\"}},\"marker\":{\"colorbar\":{\"outlinewidth\":0,\"ticks\":\"\"}}}],\"scattermap\":[{\"type\":\"scattermap\",\"marker\":{\"colorbar\":{\"outlinewidth\":0,\"ticks\":\"\"}}}],\"scattermapbox\":[{\"type\":\"scattermapbox\",\"marker\":{\"colorbar\":{\"outlinewidth\":0,\"ticks\":\"\"}}}],\"scatterternary\":[{\"type\":\"scatterternary\",\"marker\":{\"colorbar\":{\"outlinewidth\":0,\"ticks\":\"\"}}}],\"scattercarpet\":[{\"type\":\"scattercarpet\",\"marker\":{\"colorbar\":{\"outlinewidth\":0,\"ticks\":\"\"}}}],\"carpet\":[{\"aaxis\":{\"endlinecolor\":\"#2a3f5f\",\"gridcolor\":\"white\",\"linecolor\":\"white\",\"minorgridcolor\":\"white\",\"startlinecolor\":\"#2a3f5f\"},\"baxis\":{\"endlinecolor\":\"#2a3f5f\",\"gridcolor\":\"white\",\"linecolor\":\"white\",\"minorgridcolor\":\"white\",\"startlinecolor\":\"#2a3f5f\"},\"type\":\"carpet\"}],\"table\":[{\"cells\":{\"fill\":{\"color\":\"#EBF0F8\"},\"line\":{\"color\":\"white\"}},\"header\":{\"fill\":{\"color\":\"#C8D4E3\"},\"line\":{\"color\":\"white\"}},\"type\":\"table\"}],\"barpolar\":[{\"marker\":{\"line\":{\"color\":\"#E5ECF6\",\"width\":0.5},\"pattern\":{\"fillmode\":\"overlay\",\"size\":10,\"solidity\":0.2}},\"type\":\"barpolar\"}],\"pie\":[{\"automargin\":true,\"type\":\"pie\"}]},\"layout\":{\"autotypenumbers\":\"strict\",\"colorway\":[\"#636efa\",\"#EF553B\",\"#00cc96\",\"#ab63fa\",\"#FFA15A\",\"#19d3f3\",\"#FF6692\",\"#B6E880\",\"#FF97FF\",\"#FECB52\"],\"font\":{\"color\":\"#2a3f5f\"},\"hovermode\":\"closest\",\"hoverlabel\":{\"align\":\"left\"},\"paper_bgcolor\":\"white\",\"plot_bgcolor\":\"#E5ECF6\",\"polar\":{\"bgcolor\":\"#E5ECF6\",\"angularaxis\":{\"gridcolor\":\"white\",\"linecolor\":\"white\",\"ticks\":\"\"},\"radialaxis\":{\"gridcolor\":\"white\",\"linecolor\":\"white\",\"ticks\":\"\"}},\"ternary\":{\"bgcolor\":\"#E5ECF6\",\"aaxis\":{\"gridcolor\":\"white\",\"linecolor\":\"white\",\"ticks\":\"\"},\"baxis\":{\"gridcolor\":\"white\",\"linecolor\":\"white\",\"ticks\":\"\"},\"caxis\":{\"gridcolor\":\"white\",\"linecolor\":\"white\",\"ticks\":\"\"}},\"coloraxis\":{\"colorbar\":{\"outlinewidth\":0,\"ticks\":\"\"}},\"colorscale\":{\"sequential\":[[0.0,\"#0d0887\"],[0.1111111111111111,\"#46039f\"],[0.2222222222222222,\"#7201a8\"],[0.3333333333333333,\"#9c179e\"],[0.4444444444444444,\"#bd3786\"],[0.5555555555555556,\"#d8576b\"],[0.6666666666666666,\"#ed7953\"],[0.7777777777777778,\"#fb9f3a\"],[0.8888888888888888,\"#fdca26\"],[1.0,\"#f0f921\"]],\"sequentialminus\":[[0.0,\"#0d0887\"],[0.1111111111111111,\"#46039f\"],[0.2222222222222222,\"#7201a8\"],[0.3333333333333333,\"#9c179e\"],[0.4444444444444444,\"#bd3786\"],[0.5555555555555556,\"#d8576b\"],[0.6666666666666666,\"#ed7953\"],[0.7777777777777778,\"#fb9f3a\"],[0.8888888888888888,\"#fdca26\"],[1.0,\"#f0f921\"]],\"diverging\":[[0,\"#8e0152\"],[0.1,\"#c51b7d\"],[0.2,\"#de77ae\"],[0.3,\"#f1b6da\"],[0.4,\"#fde0ef\"],[0.5,\"#f7f7f7\"],[0.6,\"#e6f5d0\"],[0.7,\"#b8e186\"],[0.8,\"#7fbc41\"],[0.9,\"#4d9221\"],[1,\"#276419\"]]},\"xaxis\":{\"gridcolor\":\"white\",\"linecolor\":\"white\",\"ticks\":\"\",\"title\":{\"standoff\":15},\"zerolinecolor\":\"white\",\"automargin\":true,\"zerolinewidth\":2},\"yaxis\":{\"gridcolor\":\"white\",\"linecolor\":\"white\",\"ticks\":\"\",\"title\":{\"standoff\":15},\"zerolinecolor\":\"white\",\"automargin\":true,\"zerolinewidth\":2},\"scene\":{\"xaxis\":{\"backgroundcolor\":\"#E5ECF6\",\"gridcolor\":\"white\",\"linecolor\":\"white\",\"showbackground\":true,\"ticks\":\"\",\"zerolinecolor\":\"white\",\"gridwidth\":2},\"yaxis\":{\"backgroundcolor\":\"#E5ECF6\",\"gridcolor\":\"white\",\"linecolor\":\"white\",\"showbackground\":true,\"ticks\":\"\",\"zerolinecolor\":\"white\",\"gridwidth\":2},\"zaxis\":{\"backgroundcolor\":\"#E5ECF6\",\"gridcolor\":\"white\",\"linecolor\":\"white\",\"showbackground\":true,\"ticks\":\"\",\"zerolinecolor\":\"white\",\"gridwidth\":2}},\"shapedefaults\":{\"line\":{\"color\":\"#2a3f5f\"}},\"annotationdefaults\":{\"arrowcolor\":\"#2a3f5f\",\"arrowhead\":0,\"arrowwidth\":1},\"geo\":{\"bgcolor\":\"white\",\"landcolor\":\"#E5ECF6\",\"subunitcolor\":\"white\",\"showland\":true,\"showlakes\":true,\"lakecolor\":\"white\"},\"title\":{\"x\":0.05},\"mapbox\":{\"style\":\"light\"}}},\"title\":{\"text\":\"Mean region SafetySecurity\"}},                        {\"responsive\": true}                    ).then(function(){\n",
       "                            \n",
       "var gd = document.getElementById('57304eda-c131-4bfe-b8a6-000ba98a5700');\n",
       "var x = new MutationObserver(function (mutations, observer) {{\n",
       "        var display = window.getComputedStyle(gd).display;\n",
       "        if (!display || display === 'none') {{\n",
       "            console.log([gd, 'removed!']);\n",
       "            Plotly.purge(gd);\n",
       "            observer.disconnect();\n",
       "        }}\n",
       "}});\n",
       "\n",
       "// Listen for the removal of the full notebook cells\n",
       "var notebookContainer = gd.closest('#notebook-container');\n",
       "if (notebookContainer) {{\n",
       "    x.observe(notebookContainer, {childList: true});\n",
       "}}\n",
       "\n",
       "// Listen for the clearing of the current output cell\n",
       "var outputEl = gd.closest('.output');\n",
       "if (outputEl) {{\n",
       "    x.observe(outputEl, {childList: true});\n",
       "}}\n",
       "\n",
       "                        })                };            </script>        </div>"
      ]
     },
     "metadata": {},
     "output_type": "display_data"
    }
   ],
   "source": [
    "colors = ['lightslategray',] * 5\n",
    "colors[3] = 'crimson'\n",
    "\n",
    "fig = go.Figure(data=[go.Bar(\n",
    "    x = res.index.values,\n",
    "    y = res['SafetySecurity']['mean'].values,\n",
    "    marker_color=colors\n",
    ")])\n",
    "fig.update_layout(title_text='Mean region SafetySecurity')"
   ]
  },
  {
   "cell_type": "markdown",
   "id": "d1e468f6-151d-4858-a716-b13c435e02c6",
   "metadata": {},
   "source": [
    "<h2>Самый высокий показатель в Европе, самый низкий -- в Африке<h2>\n"
   ]
  },
  {
   "cell_type": "markdown",
   "id": "0781e5da-198e-4a83-9fbe-33fb055cf1fa",
   "metadata": {},
   "source": [
    "<h2>А какой же показатель оказывает самое большое влияние на AverageScore?<h2>"
   ]
  },
  {
   "cell_type": "code",
   "execution_count": 25,
   "id": "57e32315-5baf-4b25-9192-c58f13b412a8",
   "metadata": {},
   "outputs": [
    {
     "data": {
      "application/vnd.plotly.v1+json": {
       "config": {
        "plotlyServerURL": "https://plot.ly"
       },
       "data": [
        {
         "domain": {
          "x": [
           0,
           1
          ],
          "y": [
           0,
           1
          ]
         },
         "hovertemplate": "label=%{label}<br>value=%{value}<extra></extra>",
         "labels": [
          "SafetySecurity",
          "PersonelFreedom",
          "Governance",
          "SocialCapital",
          "InvestmentEnvironment",
          "EnterpriseConditions",
          "MarketAccessInfrastructure",
          "EconomicQuality",
          "LivingConditions",
          "Health",
          "Education",
          "NaturalEnvironment"
         ],
         "legendgroup": "",
         "name": "",
         "showlegend": true,
         "type": "pie",
         "values": {
          "bdata": "GhH0MO2D6j8U1+usQmvoP4YekmXjke0/+JsSD5F36D/jCakTVlvuPzQxGBELSuw/3jqCQ9kv7j/UmmdeXADtP9vCeKamn+w/OUXviuoM6z+9GSzo+SDtP3oXwWHTI+Y/",
          "dtype": "f8"
         }
        }
       ],
       "layout": {
        "legend": {
         "tracegroupgap": 0
        },
        "margin": {
         "t": 60
        },
        "piecolorway": [
         "rgb(103,0,31)",
         "rgb(178,24,43)",
         "rgb(214,96,77)",
         "rgb(244,165,130)",
         "rgb(253,219,199)",
         "rgb(247,247,247)",
         "rgb(209,229,240)",
         "rgb(146,197,222)",
         "rgb(67,147,195)",
         "rgb(33,102,172)",
         "rgb(5,48,97)"
        ],
        "template": {
         "data": {
          "bar": [
           {
            "error_x": {
             "color": "#2a3f5f"
            },
            "error_y": {
             "color": "#2a3f5f"
            },
            "marker": {
             "line": {
              "color": "#E5ECF6",
              "width": 0.5
             },
             "pattern": {
              "fillmode": "overlay",
              "size": 10,
              "solidity": 0.2
             }
            },
            "type": "bar"
           }
          ],
          "barpolar": [
           {
            "marker": {
             "line": {
              "color": "#E5ECF6",
              "width": 0.5
             },
             "pattern": {
              "fillmode": "overlay",
              "size": 10,
              "solidity": 0.2
             }
            },
            "type": "barpolar"
           }
          ],
          "carpet": [
           {
            "aaxis": {
             "endlinecolor": "#2a3f5f",
             "gridcolor": "white",
             "linecolor": "white",
             "minorgridcolor": "white",
             "startlinecolor": "#2a3f5f"
            },
            "baxis": {
             "endlinecolor": "#2a3f5f",
             "gridcolor": "white",
             "linecolor": "white",
             "minorgridcolor": "white",
             "startlinecolor": "#2a3f5f"
            },
            "type": "carpet"
           }
          ],
          "choropleth": [
           {
            "colorbar": {
             "outlinewidth": 0,
             "ticks": ""
            },
            "type": "choropleth"
           }
          ],
          "contour": [
           {
            "colorbar": {
             "outlinewidth": 0,
             "ticks": ""
            },
            "colorscale": [
             [
              0,
              "#0d0887"
             ],
             [
              0.1111111111111111,
              "#46039f"
             ],
             [
              0.2222222222222222,
              "#7201a8"
             ],
             [
              0.3333333333333333,
              "#9c179e"
             ],
             [
              0.4444444444444444,
              "#bd3786"
             ],
             [
              0.5555555555555556,
              "#d8576b"
             ],
             [
              0.6666666666666666,
              "#ed7953"
             ],
             [
              0.7777777777777778,
              "#fb9f3a"
             ],
             [
              0.8888888888888888,
              "#fdca26"
             ],
             [
              1,
              "#f0f921"
             ]
            ],
            "type": "contour"
           }
          ],
          "contourcarpet": [
           {
            "colorbar": {
             "outlinewidth": 0,
             "ticks": ""
            },
            "type": "contourcarpet"
           }
          ],
          "heatmap": [
           {
            "colorbar": {
             "outlinewidth": 0,
             "ticks": ""
            },
            "colorscale": [
             [
              0,
              "#0d0887"
             ],
             [
              0.1111111111111111,
              "#46039f"
             ],
             [
              0.2222222222222222,
              "#7201a8"
             ],
             [
              0.3333333333333333,
              "#9c179e"
             ],
             [
              0.4444444444444444,
              "#bd3786"
             ],
             [
              0.5555555555555556,
              "#d8576b"
             ],
             [
              0.6666666666666666,
              "#ed7953"
             ],
             [
              0.7777777777777778,
              "#fb9f3a"
             ],
             [
              0.8888888888888888,
              "#fdca26"
             ],
             [
              1,
              "#f0f921"
             ]
            ],
            "type": "heatmap"
           }
          ],
          "histogram": [
           {
            "marker": {
             "pattern": {
              "fillmode": "overlay",
              "size": 10,
              "solidity": 0.2
             }
            },
            "type": "histogram"
           }
          ],
          "histogram2d": [
           {
            "colorbar": {
             "outlinewidth": 0,
             "ticks": ""
            },
            "colorscale": [
             [
              0,
              "#0d0887"
             ],
             [
              0.1111111111111111,
              "#46039f"
             ],
             [
              0.2222222222222222,
              "#7201a8"
             ],
             [
              0.3333333333333333,
              "#9c179e"
             ],
             [
              0.4444444444444444,
              "#bd3786"
             ],
             [
              0.5555555555555556,
              "#d8576b"
             ],
             [
              0.6666666666666666,
              "#ed7953"
             ],
             [
              0.7777777777777778,
              "#fb9f3a"
             ],
             [
              0.8888888888888888,
              "#fdca26"
             ],
             [
              1,
              "#f0f921"
             ]
            ],
            "type": "histogram2d"
           }
          ],
          "histogram2dcontour": [
           {
            "colorbar": {
             "outlinewidth": 0,
             "ticks": ""
            },
            "colorscale": [
             [
              0,
              "#0d0887"
             ],
             [
              0.1111111111111111,
              "#46039f"
             ],
             [
              0.2222222222222222,
              "#7201a8"
             ],
             [
              0.3333333333333333,
              "#9c179e"
             ],
             [
              0.4444444444444444,
              "#bd3786"
             ],
             [
              0.5555555555555556,
              "#d8576b"
             ],
             [
              0.6666666666666666,
              "#ed7953"
             ],
             [
              0.7777777777777778,
              "#fb9f3a"
             ],
             [
              0.8888888888888888,
              "#fdca26"
             ],
             [
              1,
              "#f0f921"
             ]
            ],
            "type": "histogram2dcontour"
           }
          ],
          "mesh3d": [
           {
            "colorbar": {
             "outlinewidth": 0,
             "ticks": ""
            },
            "type": "mesh3d"
           }
          ],
          "parcoords": [
           {
            "line": {
             "colorbar": {
              "outlinewidth": 0,
              "ticks": ""
             }
            },
            "type": "parcoords"
           }
          ],
          "pie": [
           {
            "automargin": true,
            "type": "pie"
           }
          ],
          "scatter": [
           {
            "fillpattern": {
             "fillmode": "overlay",
             "size": 10,
             "solidity": 0.2
            },
            "type": "scatter"
           }
          ],
          "scatter3d": [
           {
            "line": {
             "colorbar": {
              "outlinewidth": 0,
              "ticks": ""
             }
            },
            "marker": {
             "colorbar": {
              "outlinewidth": 0,
              "ticks": ""
             }
            },
            "type": "scatter3d"
           }
          ],
          "scattercarpet": [
           {
            "marker": {
             "colorbar": {
              "outlinewidth": 0,
              "ticks": ""
             }
            },
            "type": "scattercarpet"
           }
          ],
          "scattergeo": [
           {
            "marker": {
             "colorbar": {
              "outlinewidth": 0,
              "ticks": ""
             }
            },
            "type": "scattergeo"
           }
          ],
          "scattergl": [
           {
            "marker": {
             "colorbar": {
              "outlinewidth": 0,
              "ticks": ""
             }
            },
            "type": "scattergl"
           }
          ],
          "scattermap": [
           {
            "marker": {
             "colorbar": {
              "outlinewidth": 0,
              "ticks": ""
             }
            },
            "type": "scattermap"
           }
          ],
          "scattermapbox": [
           {
            "marker": {
             "colorbar": {
              "outlinewidth": 0,
              "ticks": ""
             }
            },
            "type": "scattermapbox"
           }
          ],
          "scatterpolar": [
           {
            "marker": {
             "colorbar": {
              "outlinewidth": 0,
              "ticks": ""
             }
            },
            "type": "scatterpolar"
           }
          ],
          "scatterpolargl": [
           {
            "marker": {
             "colorbar": {
              "outlinewidth": 0,
              "ticks": ""
             }
            },
            "type": "scatterpolargl"
           }
          ],
          "scatterternary": [
           {
            "marker": {
             "colorbar": {
              "outlinewidth": 0,
              "ticks": ""
             }
            },
            "type": "scatterternary"
           }
          ],
          "surface": [
           {
            "colorbar": {
             "outlinewidth": 0,
             "ticks": ""
            },
            "colorscale": [
             [
              0,
              "#0d0887"
             ],
             [
              0.1111111111111111,
              "#46039f"
             ],
             [
              0.2222222222222222,
              "#7201a8"
             ],
             [
              0.3333333333333333,
              "#9c179e"
             ],
             [
              0.4444444444444444,
              "#bd3786"
             ],
             [
              0.5555555555555556,
              "#d8576b"
             ],
             [
              0.6666666666666666,
              "#ed7953"
             ],
             [
              0.7777777777777778,
              "#fb9f3a"
             ],
             [
              0.8888888888888888,
              "#fdca26"
             ],
             [
              1,
              "#f0f921"
             ]
            ],
            "type": "surface"
           }
          ],
          "table": [
           {
            "cells": {
             "fill": {
              "color": "#EBF0F8"
             },
             "line": {
              "color": "white"
             }
            },
            "header": {
             "fill": {
              "color": "#C8D4E3"
             },
             "line": {
              "color": "white"
             }
            },
            "type": "table"
           }
          ]
         },
         "layout": {
          "annotationdefaults": {
           "arrowcolor": "#2a3f5f",
           "arrowhead": 0,
           "arrowwidth": 1
          },
          "autotypenumbers": "strict",
          "coloraxis": {
           "colorbar": {
            "outlinewidth": 0,
            "ticks": ""
           }
          },
          "colorscale": {
           "diverging": [
            [
             0,
             "#8e0152"
            ],
            [
             0.1,
             "#c51b7d"
            ],
            [
             0.2,
             "#de77ae"
            ],
            [
             0.3,
             "#f1b6da"
            ],
            [
             0.4,
             "#fde0ef"
            ],
            [
             0.5,
             "#f7f7f7"
            ],
            [
             0.6,
             "#e6f5d0"
            ],
            [
             0.7,
             "#b8e186"
            ],
            [
             0.8,
             "#7fbc41"
            ],
            [
             0.9,
             "#4d9221"
            ],
            [
             1,
             "#276419"
            ]
           ],
           "sequential": [
            [
             0,
             "#0d0887"
            ],
            [
             0.1111111111111111,
             "#46039f"
            ],
            [
             0.2222222222222222,
             "#7201a8"
            ],
            [
             0.3333333333333333,
             "#9c179e"
            ],
            [
             0.4444444444444444,
             "#bd3786"
            ],
            [
             0.5555555555555556,
             "#d8576b"
            ],
            [
             0.6666666666666666,
             "#ed7953"
            ],
            [
             0.7777777777777778,
             "#fb9f3a"
            ],
            [
             0.8888888888888888,
             "#fdca26"
            ],
            [
             1,
             "#f0f921"
            ]
           ],
           "sequentialminus": [
            [
             0,
             "#0d0887"
            ],
            [
             0.1111111111111111,
             "#46039f"
            ],
            [
             0.2222222222222222,
             "#7201a8"
            ],
            [
             0.3333333333333333,
             "#9c179e"
            ],
            [
             0.4444444444444444,
             "#bd3786"
            ],
            [
             0.5555555555555556,
             "#d8576b"
            ],
            [
             0.6666666666666666,
             "#ed7953"
            ],
            [
             0.7777777777777778,
             "#fb9f3a"
            ],
            [
             0.8888888888888888,
             "#fdca26"
            ],
            [
             1,
             "#f0f921"
            ]
           ]
          },
          "colorway": [
           "#636efa",
           "#EF553B",
           "#00cc96",
           "#ab63fa",
           "#FFA15A",
           "#19d3f3",
           "#FF6692",
           "#B6E880",
           "#FF97FF",
           "#FECB52"
          ],
          "font": {
           "color": "#2a3f5f"
          },
          "geo": {
           "bgcolor": "white",
           "lakecolor": "white",
           "landcolor": "#E5ECF6",
           "showlakes": true,
           "showland": true,
           "subunitcolor": "white"
          },
          "hoverlabel": {
           "align": "left"
          },
          "hovermode": "closest",
          "mapbox": {
           "style": "light"
          },
          "paper_bgcolor": "white",
          "plot_bgcolor": "#E5ECF6",
          "polar": {
           "angularaxis": {
            "gridcolor": "white",
            "linecolor": "white",
            "ticks": ""
           },
           "bgcolor": "#E5ECF6",
           "radialaxis": {
            "gridcolor": "white",
            "linecolor": "white",
            "ticks": ""
           }
          },
          "scene": {
           "xaxis": {
            "backgroundcolor": "#E5ECF6",
            "gridcolor": "white",
            "gridwidth": 2,
            "linecolor": "white",
            "showbackground": true,
            "ticks": "",
            "zerolinecolor": "white"
           },
           "yaxis": {
            "backgroundcolor": "#E5ECF6",
            "gridcolor": "white",
            "gridwidth": 2,
            "linecolor": "white",
            "showbackground": true,
            "ticks": "",
            "zerolinecolor": "white"
           },
           "zaxis": {
            "backgroundcolor": "#E5ECF6",
            "gridcolor": "white",
            "gridwidth": 2,
            "linecolor": "white",
            "showbackground": true,
            "ticks": "",
            "zerolinecolor": "white"
           }
          },
          "shapedefaults": {
           "line": {
            "color": "#2a3f5f"
           }
          },
          "ternary": {
           "aaxis": {
            "gridcolor": "white",
            "linecolor": "white",
            "ticks": ""
           },
           "baxis": {
            "gridcolor": "white",
            "linecolor": "white",
            "ticks": ""
           },
           "bgcolor": "#E5ECF6",
           "caxis": {
            "gridcolor": "white",
            "linecolor": "white",
            "ticks": ""
           }
          },
          "title": {
           "x": 0.05
          },
          "xaxis": {
           "automargin": true,
           "gridcolor": "white",
           "linecolor": "white",
           "ticks": "",
           "title": {
            "standoff": 15
           },
           "zerolinecolor": "white",
           "zerolinewidth": 2
          },
          "yaxis": {
           "automargin": true,
           "gridcolor": "white",
           "linecolor": "white",
           "ticks": "",
           "title": {
            "standoff": 15
           },
           "zerolinecolor": "white",
           "zerolinewidth": 2
          }
         }
        }
       }
      },
      "text/html": [
       "<div>            <script src=\"https://cdnjs.cloudflare.com/ajax/libs/mathjax/2.7.5/MathJax.js?config=TeX-AMS-MML_SVG\"></script><script type=\"text/javascript\">if (window.MathJax && window.MathJax.Hub && window.MathJax.Hub.Config) {window.MathJax.Hub.Config({SVG: {font: \"STIX-Web\"}});}</script>                <script type=\"text/javascript\">window.PlotlyConfig = {MathJaxConfig: 'local'};</script>\n",
       "        <script charset=\"utf-8\" src=\"https://cdn.plot.ly/plotly-3.0.1.min.js\"></script>                <div id=\"618c4499-db78-4ed3-9b64-ce7d9fcebbef\" class=\"plotly-graph-div\" style=\"height:525px; width:100%;\"></div>            <script type=\"text/javascript\">                window.PLOTLYENV=window.PLOTLYENV || {};                                if (document.getElementById(\"618c4499-db78-4ed3-9b64-ce7d9fcebbef\")) {                    Plotly.newPlot(                        \"618c4499-db78-4ed3-9b64-ce7d9fcebbef\",                        [{\"domain\":{\"x\":[0.0,1.0],\"y\":[0.0,1.0]},\"hovertemplate\":\"label=%{label}\\u003cbr\\u003evalue=%{value}\\u003cextra\\u003e\\u003c\\u002fextra\\u003e\",\"labels\":[\"SafetySecurity\",\"PersonelFreedom\",\"Governance\",\"SocialCapital\",\"InvestmentEnvironment\",\"EnterpriseConditions\",\"MarketAccessInfrastructure\",\"EconomicQuality\",\"LivingConditions\",\"Health\",\"Education\",\"NaturalEnvironment\"],\"legendgroup\":\"\",\"name\":\"\",\"showlegend\":true,\"values\":{\"dtype\":\"f8\",\"bdata\":\"GhH0MO2D6j8U1+usQmvoP4YekmXjke0\\u002f+JsSD5F36D\\u002fjCakTVlvuPzQxGBELSuw\\u002f3jqCQ9kv7j\\u002fUmmdeXADtP9vCeKamn+w\\u002fOUXviuoM6z+9GSzo+SDtP3oXwWHTI+Y\\u002f\"},\"type\":\"pie\"}],                        {\"template\":{\"data\":{\"histogram2dcontour\":[{\"type\":\"histogram2dcontour\",\"colorbar\":{\"outlinewidth\":0,\"ticks\":\"\"},\"colorscale\":[[0.0,\"#0d0887\"],[0.1111111111111111,\"#46039f\"],[0.2222222222222222,\"#7201a8\"],[0.3333333333333333,\"#9c179e\"],[0.4444444444444444,\"#bd3786\"],[0.5555555555555556,\"#d8576b\"],[0.6666666666666666,\"#ed7953\"],[0.7777777777777778,\"#fb9f3a\"],[0.8888888888888888,\"#fdca26\"],[1.0,\"#f0f921\"]]}],\"choropleth\":[{\"type\":\"choropleth\",\"colorbar\":{\"outlinewidth\":0,\"ticks\":\"\"}}],\"histogram2d\":[{\"type\":\"histogram2d\",\"colorbar\":{\"outlinewidth\":0,\"ticks\":\"\"},\"colorscale\":[[0.0,\"#0d0887\"],[0.1111111111111111,\"#46039f\"],[0.2222222222222222,\"#7201a8\"],[0.3333333333333333,\"#9c179e\"],[0.4444444444444444,\"#bd3786\"],[0.5555555555555556,\"#d8576b\"],[0.6666666666666666,\"#ed7953\"],[0.7777777777777778,\"#fb9f3a\"],[0.8888888888888888,\"#fdca26\"],[1.0,\"#f0f921\"]]}],\"heatmap\":[{\"type\":\"heatmap\",\"colorbar\":{\"outlinewidth\":0,\"ticks\":\"\"},\"colorscale\":[[0.0,\"#0d0887\"],[0.1111111111111111,\"#46039f\"],[0.2222222222222222,\"#7201a8\"],[0.3333333333333333,\"#9c179e\"],[0.4444444444444444,\"#bd3786\"],[0.5555555555555556,\"#d8576b\"],[0.6666666666666666,\"#ed7953\"],[0.7777777777777778,\"#fb9f3a\"],[0.8888888888888888,\"#fdca26\"],[1.0,\"#f0f921\"]]}],\"contourcarpet\":[{\"type\":\"contourcarpet\",\"colorbar\":{\"outlinewidth\":0,\"ticks\":\"\"}}],\"contour\":[{\"type\":\"contour\",\"colorbar\":{\"outlinewidth\":0,\"ticks\":\"\"},\"colorscale\":[[0.0,\"#0d0887\"],[0.1111111111111111,\"#46039f\"],[0.2222222222222222,\"#7201a8\"],[0.3333333333333333,\"#9c179e\"],[0.4444444444444444,\"#bd3786\"],[0.5555555555555556,\"#d8576b\"],[0.6666666666666666,\"#ed7953\"],[0.7777777777777778,\"#fb9f3a\"],[0.8888888888888888,\"#fdca26\"],[1.0,\"#f0f921\"]]}],\"surface\":[{\"type\":\"surface\",\"colorbar\":{\"outlinewidth\":0,\"ticks\":\"\"},\"colorscale\":[[0.0,\"#0d0887\"],[0.1111111111111111,\"#46039f\"],[0.2222222222222222,\"#7201a8\"],[0.3333333333333333,\"#9c179e\"],[0.4444444444444444,\"#bd3786\"],[0.5555555555555556,\"#d8576b\"],[0.6666666666666666,\"#ed7953\"],[0.7777777777777778,\"#fb9f3a\"],[0.8888888888888888,\"#fdca26\"],[1.0,\"#f0f921\"]]}],\"mesh3d\":[{\"type\":\"mesh3d\",\"colorbar\":{\"outlinewidth\":0,\"ticks\":\"\"}}],\"scatter\":[{\"fillpattern\":{\"fillmode\":\"overlay\",\"size\":10,\"solidity\":0.2},\"type\":\"scatter\"}],\"parcoords\":[{\"type\":\"parcoords\",\"line\":{\"colorbar\":{\"outlinewidth\":0,\"ticks\":\"\"}}}],\"scatterpolargl\":[{\"type\":\"scatterpolargl\",\"marker\":{\"colorbar\":{\"outlinewidth\":0,\"ticks\":\"\"}}}],\"bar\":[{\"error_x\":{\"color\":\"#2a3f5f\"},\"error_y\":{\"color\":\"#2a3f5f\"},\"marker\":{\"line\":{\"color\":\"#E5ECF6\",\"width\":0.5},\"pattern\":{\"fillmode\":\"overlay\",\"size\":10,\"solidity\":0.2}},\"type\":\"bar\"}],\"scattergeo\":[{\"type\":\"scattergeo\",\"marker\":{\"colorbar\":{\"outlinewidth\":0,\"ticks\":\"\"}}}],\"scatterpolar\":[{\"type\":\"scatterpolar\",\"marker\":{\"colorbar\":{\"outlinewidth\":0,\"ticks\":\"\"}}}],\"histogram\":[{\"marker\":{\"pattern\":{\"fillmode\":\"overlay\",\"size\":10,\"solidity\":0.2}},\"type\":\"histogram\"}],\"scattergl\":[{\"type\":\"scattergl\",\"marker\":{\"colorbar\":{\"outlinewidth\":0,\"ticks\":\"\"}}}],\"scatter3d\":[{\"type\":\"scatter3d\",\"line\":{\"colorbar\":{\"outlinewidth\":0,\"ticks\":\"\"}},\"marker\":{\"colorbar\":{\"outlinewidth\":0,\"ticks\":\"\"}}}],\"scattermap\":[{\"type\":\"scattermap\",\"marker\":{\"colorbar\":{\"outlinewidth\":0,\"ticks\":\"\"}}}],\"scattermapbox\":[{\"type\":\"scattermapbox\",\"marker\":{\"colorbar\":{\"outlinewidth\":0,\"ticks\":\"\"}}}],\"scatterternary\":[{\"type\":\"scatterternary\",\"marker\":{\"colorbar\":{\"outlinewidth\":0,\"ticks\":\"\"}}}],\"scattercarpet\":[{\"type\":\"scattercarpet\",\"marker\":{\"colorbar\":{\"outlinewidth\":0,\"ticks\":\"\"}}}],\"carpet\":[{\"aaxis\":{\"endlinecolor\":\"#2a3f5f\",\"gridcolor\":\"white\",\"linecolor\":\"white\",\"minorgridcolor\":\"white\",\"startlinecolor\":\"#2a3f5f\"},\"baxis\":{\"endlinecolor\":\"#2a3f5f\",\"gridcolor\":\"white\",\"linecolor\":\"white\",\"minorgridcolor\":\"white\",\"startlinecolor\":\"#2a3f5f\"},\"type\":\"carpet\"}],\"table\":[{\"cells\":{\"fill\":{\"color\":\"#EBF0F8\"},\"line\":{\"color\":\"white\"}},\"header\":{\"fill\":{\"color\":\"#C8D4E3\"},\"line\":{\"color\":\"white\"}},\"type\":\"table\"}],\"barpolar\":[{\"marker\":{\"line\":{\"color\":\"#E5ECF6\",\"width\":0.5},\"pattern\":{\"fillmode\":\"overlay\",\"size\":10,\"solidity\":0.2}},\"type\":\"barpolar\"}],\"pie\":[{\"automargin\":true,\"type\":\"pie\"}]},\"layout\":{\"autotypenumbers\":\"strict\",\"colorway\":[\"#636efa\",\"#EF553B\",\"#00cc96\",\"#ab63fa\",\"#FFA15A\",\"#19d3f3\",\"#FF6692\",\"#B6E880\",\"#FF97FF\",\"#FECB52\"],\"font\":{\"color\":\"#2a3f5f\"},\"hovermode\":\"closest\",\"hoverlabel\":{\"align\":\"left\"},\"paper_bgcolor\":\"white\",\"plot_bgcolor\":\"#E5ECF6\",\"polar\":{\"bgcolor\":\"#E5ECF6\",\"angularaxis\":{\"gridcolor\":\"white\",\"linecolor\":\"white\",\"ticks\":\"\"},\"radialaxis\":{\"gridcolor\":\"white\",\"linecolor\":\"white\",\"ticks\":\"\"}},\"ternary\":{\"bgcolor\":\"#E5ECF6\",\"aaxis\":{\"gridcolor\":\"white\",\"linecolor\":\"white\",\"ticks\":\"\"},\"baxis\":{\"gridcolor\":\"white\",\"linecolor\":\"white\",\"ticks\":\"\"},\"caxis\":{\"gridcolor\":\"white\",\"linecolor\":\"white\",\"ticks\":\"\"}},\"coloraxis\":{\"colorbar\":{\"outlinewidth\":0,\"ticks\":\"\"}},\"colorscale\":{\"sequential\":[[0.0,\"#0d0887\"],[0.1111111111111111,\"#46039f\"],[0.2222222222222222,\"#7201a8\"],[0.3333333333333333,\"#9c179e\"],[0.4444444444444444,\"#bd3786\"],[0.5555555555555556,\"#d8576b\"],[0.6666666666666666,\"#ed7953\"],[0.7777777777777778,\"#fb9f3a\"],[0.8888888888888888,\"#fdca26\"],[1.0,\"#f0f921\"]],\"sequentialminus\":[[0.0,\"#0d0887\"],[0.1111111111111111,\"#46039f\"],[0.2222222222222222,\"#7201a8\"],[0.3333333333333333,\"#9c179e\"],[0.4444444444444444,\"#bd3786\"],[0.5555555555555556,\"#d8576b\"],[0.6666666666666666,\"#ed7953\"],[0.7777777777777778,\"#fb9f3a\"],[0.8888888888888888,\"#fdca26\"],[1.0,\"#f0f921\"]],\"diverging\":[[0,\"#8e0152\"],[0.1,\"#c51b7d\"],[0.2,\"#de77ae\"],[0.3,\"#f1b6da\"],[0.4,\"#fde0ef\"],[0.5,\"#f7f7f7\"],[0.6,\"#e6f5d0\"],[0.7,\"#b8e186\"],[0.8,\"#7fbc41\"],[0.9,\"#4d9221\"],[1,\"#276419\"]]},\"xaxis\":{\"gridcolor\":\"white\",\"linecolor\":\"white\",\"ticks\":\"\",\"title\":{\"standoff\":15},\"zerolinecolor\":\"white\",\"automargin\":true,\"zerolinewidth\":2},\"yaxis\":{\"gridcolor\":\"white\",\"linecolor\":\"white\",\"ticks\":\"\",\"title\":{\"standoff\":15},\"zerolinecolor\":\"white\",\"automargin\":true,\"zerolinewidth\":2},\"scene\":{\"xaxis\":{\"backgroundcolor\":\"#E5ECF6\",\"gridcolor\":\"white\",\"linecolor\":\"white\",\"showbackground\":true,\"ticks\":\"\",\"zerolinecolor\":\"white\",\"gridwidth\":2},\"yaxis\":{\"backgroundcolor\":\"#E5ECF6\",\"gridcolor\":\"white\",\"linecolor\":\"white\",\"showbackground\":true,\"ticks\":\"\",\"zerolinecolor\":\"white\",\"gridwidth\":2},\"zaxis\":{\"backgroundcolor\":\"#E5ECF6\",\"gridcolor\":\"white\",\"linecolor\":\"white\",\"showbackground\":true,\"ticks\":\"\",\"zerolinecolor\":\"white\",\"gridwidth\":2}},\"shapedefaults\":{\"line\":{\"color\":\"#2a3f5f\"}},\"annotationdefaults\":{\"arrowcolor\":\"#2a3f5f\",\"arrowhead\":0,\"arrowwidth\":1},\"geo\":{\"bgcolor\":\"white\",\"landcolor\":\"#E5ECF6\",\"subunitcolor\":\"white\",\"showland\":true,\"showlakes\":true,\"lakecolor\":\"white\"},\"title\":{\"x\":0.05},\"mapbox\":{\"style\":\"light\"}}},\"legend\":{\"tracegroupgap\":0},\"margin\":{\"t\":60},\"piecolorway\":[\"rgb(103,0,31)\",\"rgb(178,24,43)\",\"rgb(214,96,77)\",\"rgb(244,165,130)\",\"rgb(253,219,199)\",\"rgb(247,247,247)\",\"rgb(209,229,240)\",\"rgb(146,197,222)\",\"rgb(67,147,195)\",\"rgb(33,102,172)\",\"rgb(5,48,97)\"]},                        {\"responsive\": true}                    ).then(function(){\n",
       "                            \n",
       "var gd = document.getElementById('618c4499-db78-4ed3-9b64-ce7d9fcebbef');\n",
       "var x = new MutationObserver(function (mutations, observer) {{\n",
       "        var display = window.getComputedStyle(gd).display;\n",
       "        if (!display || display === 'none') {{\n",
       "            console.log([gd, 'removed!']);\n",
       "            Plotly.purge(gd);\n",
       "            observer.disconnect();\n",
       "        }}\n",
       "}});\n",
       "\n",
       "// Listen for the removal of the full notebook cells\n",
       "var notebookContainer = gd.closest('#notebook-container');\n",
       "if (notebookContainer) {{\n",
       "    x.observe(notebookContainer, {childList: true});\n",
       "}}\n",
       "\n",
       "// Listen for the clearing of the current output cell\n",
       "var outputEl = gd.closest('.output');\n",
       "if (outputEl) {{\n",
       "    x.observe(outputEl, {childList: true});\n",
       "}}\n",
       "\n",
       "                        })                };            </script>        </div>"
      ]
     },
     "metadata": {},
     "output_type": "display_data"
    }
   ],
   "source": [
    "values =[ cntr['AveragScore'].corr(cntr['SafetySecurity']), \n",
    "          cntr['AveragScore'].corr(cntr['PersonelFreedom']), \n",
    "          cntr['AveragScore'].corr(cntr['Governance']), \n",
    "          cntr['AveragScore'].corr(cntr['SocialCapital']),\n",
    "          cntr['AveragScore'].corr(cntr['InvestmentEnvironment']),\n",
    "          cntr['AveragScore'].corr(cntr['EnterpriseConditions']),\n",
    "          cntr['AveragScore'].corr(cntr['MarketAccessInfrastructure']),\n",
    "          cntr['AveragScore'].corr(cntr['EconomicQuality']),\n",
    "          cntr['AveragScore'].corr(cntr['LivingConditions']),\n",
    "          cntr['AveragScore'].corr(cntr['Health']),\n",
    "          cntr['AveragScore'].corr(cntr['Education']),\n",
    "          cntr['AveragScore'].corr(cntr['NaturalEnvironment'])\n",
    "        ]\n",
    "fig = px.pie(cntr, values=values , labels=cntr.keys(), names=cntr.keys()[2::], color_discrete_sequence=px.colors.sequential.RdBu)\n",
    "fig.show()"
   ]
  },
  {
   "cell_type": "markdown",
   "id": "68d20fab-fedb-4f70-9be6-783ad801a844",
   "metadata": {},
   "source": [
    "<h2>Видно, что MarketAccessInfrastructure является самым важным при подсчете AverageScore<h2>"
   ]
  },
  {
   "cell_type": "markdown",
   "id": "eeebb904-4f45-44c6-87ff-7a77e020c57e",
   "metadata": {},
   "source": [
    "<h2>Давайте посмотрим, какие будут AverageScore у разных стран<h2>"
   ]
  },
  {
   "cell_type": "code",
   "execution_count": 26,
   "id": "21c2bbc1-b356-4b9a-8d14-cc003fac86dc",
   "metadata": {},
   "outputs": [
    {
     "data": {
      "application/vnd.plotly.v1+json": {
       "config": {
        "plotlyServerURL": "https://plot.ly"
       },
       "data": [
        {
         "alignmentgroup": "True",
         "boxpoints": "all",
         "hovertemplate": "<b>%{hovertext}</b><br><br>AveragScore=%{y}<extra></extra>",
         "hovertext": [
          "Denmark",
          "Sweden",
          "Norway",
          "Finland",
          "Switzerland",
          "Netherlands",
          "Luxembourg",
          "Iceland",
          "Germany",
          "New Zealand",
          "Ireland",
          "United Kingdom",
          "Canada",
          "Austria",
          "Australia",
          "Japan",
          "Singapore",
          "Belgium",
          "United States",
          "Taiwan",
          "Estonia",
          "Hong Kong",
          "France",
          "Spain",
          "Czech Republic",
          "Portugal",
          "Slovenia",
          "Malta",
          "South Korea",
          "Italy",
          "Latvia",
          "Lithuania",
          "Israel",
          "Cyprus",
          "Slovakia",
          "Chile",
          "Poland",
          "Uruguay",
          "Costa Rica",
          "Greece",
          "Croatia",
          "Hungary",
          "Malaysia",
          "United Arab Emirates",
          "Romania",
          "Qatar",
          "Mauritius",
          "Bulgaria",
          "Montenegro",
          "Panama",
          "Seychelles",
          "Serbia",
          "Georgia",
          "China",
          "Macedonia",
          "Trinidad and Tobago",
          "Jamaica",
          "Argentina",
          "Peru",
          "Kuwait",
          "Armenia",
          "Bahrain",
          "Indonesia",
          "Thailand",
          "Albania",
          "Brazil",
          "Oman",
          "Dominican Republic",
          "Kazakhstan",
          "Moldova",
          "Mexico",
          "Bosnia and Herzegovina",
          "Vietnam",
          "Ukraine",
          "South Africa",
          "Paraguay",
          "Russia",
          "Belarus",
          "Saudi Arabia",
          "Cabo Verde",
          "Colombia",
          "Suriname",
          "Botswana",
          "Philippines",
          "Ecuador",
          "Jordan",
          "São Tomé and Príncipe",
          "Mongolia",
          "Guyana",
          "Namibia",
          "Sri Lanka",
          "Azerbaijan",
          "Belize",
          "Kyrgyzstan",
          "Turkey",
          "Morocco",
          "El Salvador",
          "Ghana",
          "Tunisia",
          "Uzbekistan",
          "Guatemala",
          "Senegal",
          "India",
          "Cuba",
          "Honduras",
          "Bolivia",
          "Turkmenistan",
          "Kenya",
          "Algeria",
          "Nepal",
          "Rwanda",
          "Lebanon",
          "Tajikistan",
          "Nicaragua",
          "Laos",
          "Gambia",
          "Tanzania",
          "Cambodia",
          "Gabon",
          "Côte d'Ivoire",
          "Egypt",
          "Djibouti",
          "Benin",
          "Bangladesh",
          "Malawi",
          "Iran",
          "Zambia",
          "Comoros",
          "Uganda",
          "Papua New Guinea",
          "Equatorial Guinea",
          "Lesotho",
          "Togo",
          "Swaziland",
          "Burkina Faso",
          "Pakistan",
          "Madagascar",
          "Liberia",
          "Zimbabwe",
          "Iraq",
          "Guinea",
          "Nigeria",
          "Myanmar",
          "Sierra Leone",
          "Venezuela",
          "Libya",
          "Cameroon",
          "Congo",
          "Guinea-Bissau",
          "Mozambique",
          "Mali",
          "Niger",
          "Ethiopia",
          "Mauritania",
          "Angola",
          "Haiti",
          "Burundi",
          "Sudan",
          "Syria",
          "Eritrea",
          "Democratic Republic of Congo",
          "Chad",
          "Somalia",
          "Afghanistan",
          "Central African Republic",
          "Yemen",
          "South Sudan"
         ],
         "legendgroup": "",
         "marker": {
          "color": "#636efa"
         },
         "name": "",
         "notched": false,
         "offsetgroup": "",
         "orientation": "v",
         "showlegend": false,
         "type": "box",
         "x0": " ",
         "xaxis": "x",
         "y": {
          "bdata": "MzMzMzMjVUB7FK5H4epUQPYoXI/C5VRArkfhehTeVEB7FK5H4dpUQBSuR+F6lFRAhetRuB51VEDhehSuR0FUQKRwPQrXM1RArkfhehQeVECkcD0K1xNUQM3MzMzM/FNASOF6FK7nU0C4HoXrUdhTQNejcD0K11NArkfhehSOU0A9CtejcI1TQPYoXI/CdVNAXI/C9ShcU0DXo3A9CldTQKRwPQrXU1NAmpmZmZk5U0AfhetRuC5TQFK4HoXrAVNAhetRuB7FUkApXI/C9ahSQMP1KFyPolJA16NwPQqXUkAUrkfheoRSQFK4HoXrQVJAj8L1KFw/UkDD9ShcjyJSQAAAAAAAEFJAFK5H4Xr0UUCamZmZmclRQOxRuB6Fi1FAmpmZmZmJUUBcj8L1KGxRQPYoXI/CZVFAH4XrUbgeUUCPwvUoXA9RQLgehetRuFBA9ihcj8K1UEBcj8L1KKxQQJqZmZmZmVBAj8L1KFyPUECamZmZmWlQQDMzMzMzY1BAcT0K16NAUEAUrkfhehRQQDMzMzMz009AAAAAAABgT0CkcD0K1yNPQDMzMzMzE09AmpmZmZn5TkAUrkfhevROQFK4HoXrsU5AcT0K16OwTkDD9Shcj6JOQNejcD0Kd05A9ihcj8J1TkD2KFyPwnVOQHE9CtejcE5AhetRuB5lTkC4HoXrUVhOQClcj8L1CE5AzczMzMzsTUDNzMzMzOxNQKRwPQrXw01AuB6F61G4TUBmZmZmZqZNQK5H4XoUjk1ArkfhehRuTUDsUbgehWtNQPYoXI/CVU1ASOF6FK5HTUAAAAAAAEBNQDMzMzMzM01AzczMzMwsTUDsUbgehStNQOF6FK5HAU1AFK5H4Xr0TEAK16NwPepMQKRwPQrXw0xA9ihcj8K1TEBSuB6F65FMQOxRuB6Fi0xAKVyPwvWITEDXo3A9CndMQHE9CtejMExA7FG4HoUrTEDhehSuRyFMQBSuR+F69EtAAAAAAADgS0AAAAAAAMBLQLgehetRmEtAZmZmZmaGS0AUrkfhelRLQHsUrkfhOktAZmZmZmbmSkA9CtejcN1KQNejcD0K10pAFK5H4XrUSkC4HoXrUbhKQAAAAAAAoEpAcT0K16OQSkBxPQrXozBKQAAAAAAAIEpAcT0K16MQSkApXI/C9chJQEjhehSux0lAcT0K16OwSUCamZmZmZlJQFyPwvUoHElA16NwPQoXSUDNzMzMzAxJQJqZmZmZmUhAuB6F61GYSEDsUbgehWtIQOxRuB6FS0hAKVyPwvVISEBcj8L1KDxIQFyPwvUoHEhAj8L1KFzvR0AK16NwPepHQHsUrkfh2kdAUrgeheuRR0DXo3A9CndHQArXo3A9akdAUrgehetRR0DsUbgehUtHQI/C9Shcz0ZAw/UoXI/CRkCuR+F6FK5GQI/C9Shcj0ZAzczMzMyMRkC4HoXrUXhGQIXrUbgeZUZA9ihcj8JVRkAUrkfhelRGQFyPwvUoPEZAAAAAAAAARkAUrkfhetRFQI/C9Shcz0VAzczMzMzMRUB7FK5H4bpFQArXo3A9ikVAKVyPwvVoRUCkcD0K12NFQJqZmZmZWUVArkfhehQuRUDhehSuRyFFQI/C9Shc70RAPQrXo3CdREBmZmZmZkZEQClcj8L16ENAmpmZmZkZQ0Bcj8L1KHxCQArXo3A9akJAw/UoXI8CQkAfhetRuN5BQLgehetRWEFAUrgehesxQUDXo3A9ChdBQArXo3A9akBAMzMzMzNTQEBmZmZmZmY+QA==",
          "dtype": "f8"
         },
         "y0": " ",
         "yaxis": "y"
        }
       ],
       "layout": {
        "boxmode": "group",
        "legend": {
         "tracegroupgap": 0
        },
        "margin": {
         "t": 60
        },
        "template": {
         "data": {
          "bar": [
           {
            "error_x": {
             "color": "#2a3f5f"
            },
            "error_y": {
             "color": "#2a3f5f"
            },
            "marker": {
             "line": {
              "color": "#E5ECF6",
              "width": 0.5
             },
             "pattern": {
              "fillmode": "overlay",
              "size": 10,
              "solidity": 0.2
             }
            },
            "type": "bar"
           }
          ],
          "barpolar": [
           {
            "marker": {
             "line": {
              "color": "#E5ECF6",
              "width": 0.5
             },
             "pattern": {
              "fillmode": "overlay",
              "size": 10,
              "solidity": 0.2
             }
            },
            "type": "barpolar"
           }
          ],
          "carpet": [
           {
            "aaxis": {
             "endlinecolor": "#2a3f5f",
             "gridcolor": "white",
             "linecolor": "white",
             "minorgridcolor": "white",
             "startlinecolor": "#2a3f5f"
            },
            "baxis": {
             "endlinecolor": "#2a3f5f",
             "gridcolor": "white",
             "linecolor": "white",
             "minorgridcolor": "white",
             "startlinecolor": "#2a3f5f"
            },
            "type": "carpet"
           }
          ],
          "choropleth": [
           {
            "colorbar": {
             "outlinewidth": 0,
             "ticks": ""
            },
            "type": "choropleth"
           }
          ],
          "contour": [
           {
            "colorbar": {
             "outlinewidth": 0,
             "ticks": ""
            },
            "colorscale": [
             [
              0,
              "#0d0887"
             ],
             [
              0.1111111111111111,
              "#46039f"
             ],
             [
              0.2222222222222222,
              "#7201a8"
             ],
             [
              0.3333333333333333,
              "#9c179e"
             ],
             [
              0.4444444444444444,
              "#bd3786"
             ],
             [
              0.5555555555555556,
              "#d8576b"
             ],
             [
              0.6666666666666666,
              "#ed7953"
             ],
             [
              0.7777777777777778,
              "#fb9f3a"
             ],
             [
              0.8888888888888888,
              "#fdca26"
             ],
             [
              1,
              "#f0f921"
             ]
            ],
            "type": "contour"
           }
          ],
          "contourcarpet": [
           {
            "colorbar": {
             "outlinewidth": 0,
             "ticks": ""
            },
            "type": "contourcarpet"
           }
          ],
          "heatmap": [
           {
            "colorbar": {
             "outlinewidth": 0,
             "ticks": ""
            },
            "colorscale": [
             [
              0,
              "#0d0887"
             ],
             [
              0.1111111111111111,
              "#46039f"
             ],
             [
              0.2222222222222222,
              "#7201a8"
             ],
             [
              0.3333333333333333,
              "#9c179e"
             ],
             [
              0.4444444444444444,
              "#bd3786"
             ],
             [
              0.5555555555555556,
              "#d8576b"
             ],
             [
              0.6666666666666666,
              "#ed7953"
             ],
             [
              0.7777777777777778,
              "#fb9f3a"
             ],
             [
              0.8888888888888888,
              "#fdca26"
             ],
             [
              1,
              "#f0f921"
             ]
            ],
            "type": "heatmap"
           }
          ],
          "histogram": [
           {
            "marker": {
             "pattern": {
              "fillmode": "overlay",
              "size": 10,
              "solidity": 0.2
             }
            },
            "type": "histogram"
           }
          ],
          "histogram2d": [
           {
            "colorbar": {
             "outlinewidth": 0,
             "ticks": ""
            },
            "colorscale": [
             [
              0,
              "#0d0887"
             ],
             [
              0.1111111111111111,
              "#46039f"
             ],
             [
              0.2222222222222222,
              "#7201a8"
             ],
             [
              0.3333333333333333,
              "#9c179e"
             ],
             [
              0.4444444444444444,
              "#bd3786"
             ],
             [
              0.5555555555555556,
              "#d8576b"
             ],
             [
              0.6666666666666666,
              "#ed7953"
             ],
             [
              0.7777777777777778,
              "#fb9f3a"
             ],
             [
              0.8888888888888888,
              "#fdca26"
             ],
             [
              1,
              "#f0f921"
             ]
            ],
            "type": "histogram2d"
           }
          ],
          "histogram2dcontour": [
           {
            "colorbar": {
             "outlinewidth": 0,
             "ticks": ""
            },
            "colorscale": [
             [
              0,
              "#0d0887"
             ],
             [
              0.1111111111111111,
              "#46039f"
             ],
             [
              0.2222222222222222,
              "#7201a8"
             ],
             [
              0.3333333333333333,
              "#9c179e"
             ],
             [
              0.4444444444444444,
              "#bd3786"
             ],
             [
              0.5555555555555556,
              "#d8576b"
             ],
             [
              0.6666666666666666,
              "#ed7953"
             ],
             [
              0.7777777777777778,
              "#fb9f3a"
             ],
             [
              0.8888888888888888,
              "#fdca26"
             ],
             [
              1,
              "#f0f921"
             ]
            ],
            "type": "histogram2dcontour"
           }
          ],
          "mesh3d": [
           {
            "colorbar": {
             "outlinewidth": 0,
             "ticks": ""
            },
            "type": "mesh3d"
           }
          ],
          "parcoords": [
           {
            "line": {
             "colorbar": {
              "outlinewidth": 0,
              "ticks": ""
             }
            },
            "type": "parcoords"
           }
          ],
          "pie": [
           {
            "automargin": true,
            "type": "pie"
           }
          ],
          "scatter": [
           {
            "fillpattern": {
             "fillmode": "overlay",
             "size": 10,
             "solidity": 0.2
            },
            "type": "scatter"
           }
          ],
          "scatter3d": [
           {
            "line": {
             "colorbar": {
              "outlinewidth": 0,
              "ticks": ""
             }
            },
            "marker": {
             "colorbar": {
              "outlinewidth": 0,
              "ticks": ""
             }
            },
            "type": "scatter3d"
           }
          ],
          "scattercarpet": [
           {
            "marker": {
             "colorbar": {
              "outlinewidth": 0,
              "ticks": ""
             }
            },
            "type": "scattercarpet"
           }
          ],
          "scattergeo": [
           {
            "marker": {
             "colorbar": {
              "outlinewidth": 0,
              "ticks": ""
             }
            },
            "type": "scattergeo"
           }
          ],
          "scattergl": [
           {
            "marker": {
             "colorbar": {
              "outlinewidth": 0,
              "ticks": ""
             }
            },
            "type": "scattergl"
           }
          ],
          "scattermap": [
           {
            "marker": {
             "colorbar": {
              "outlinewidth": 0,
              "ticks": ""
             }
            },
            "type": "scattermap"
           }
          ],
          "scattermapbox": [
           {
            "marker": {
             "colorbar": {
              "outlinewidth": 0,
              "ticks": ""
             }
            },
            "type": "scattermapbox"
           }
          ],
          "scatterpolar": [
           {
            "marker": {
             "colorbar": {
              "outlinewidth": 0,
              "ticks": ""
             }
            },
            "type": "scatterpolar"
           }
          ],
          "scatterpolargl": [
           {
            "marker": {
             "colorbar": {
              "outlinewidth": 0,
              "ticks": ""
             }
            },
            "type": "scatterpolargl"
           }
          ],
          "scatterternary": [
           {
            "marker": {
             "colorbar": {
              "outlinewidth": 0,
              "ticks": ""
             }
            },
            "type": "scatterternary"
           }
          ],
          "surface": [
           {
            "colorbar": {
             "outlinewidth": 0,
             "ticks": ""
            },
            "colorscale": [
             [
              0,
              "#0d0887"
             ],
             [
              0.1111111111111111,
              "#46039f"
             ],
             [
              0.2222222222222222,
              "#7201a8"
             ],
             [
              0.3333333333333333,
              "#9c179e"
             ],
             [
              0.4444444444444444,
              "#bd3786"
             ],
             [
              0.5555555555555556,
              "#d8576b"
             ],
             [
              0.6666666666666666,
              "#ed7953"
             ],
             [
              0.7777777777777778,
              "#fb9f3a"
             ],
             [
              0.8888888888888888,
              "#fdca26"
             ],
             [
              1,
              "#f0f921"
             ]
            ],
            "type": "surface"
           }
          ],
          "table": [
           {
            "cells": {
             "fill": {
              "color": "#EBF0F8"
             },
             "line": {
              "color": "white"
             }
            },
            "header": {
             "fill": {
              "color": "#C8D4E3"
             },
             "line": {
              "color": "white"
             }
            },
            "type": "table"
           }
          ]
         },
         "layout": {
          "annotationdefaults": {
           "arrowcolor": "#2a3f5f",
           "arrowhead": 0,
           "arrowwidth": 1
          },
          "autotypenumbers": "strict",
          "coloraxis": {
           "colorbar": {
            "outlinewidth": 0,
            "ticks": ""
           }
          },
          "colorscale": {
           "diverging": [
            [
             0,
             "#8e0152"
            ],
            [
             0.1,
             "#c51b7d"
            ],
            [
             0.2,
             "#de77ae"
            ],
            [
             0.3,
             "#f1b6da"
            ],
            [
             0.4,
             "#fde0ef"
            ],
            [
             0.5,
             "#f7f7f7"
            ],
            [
             0.6,
             "#e6f5d0"
            ],
            [
             0.7,
             "#b8e186"
            ],
            [
             0.8,
             "#7fbc41"
            ],
            [
             0.9,
             "#4d9221"
            ],
            [
             1,
             "#276419"
            ]
           ],
           "sequential": [
            [
             0,
             "#0d0887"
            ],
            [
             0.1111111111111111,
             "#46039f"
            ],
            [
             0.2222222222222222,
             "#7201a8"
            ],
            [
             0.3333333333333333,
             "#9c179e"
            ],
            [
             0.4444444444444444,
             "#bd3786"
            ],
            [
             0.5555555555555556,
             "#d8576b"
            ],
            [
             0.6666666666666666,
             "#ed7953"
            ],
            [
             0.7777777777777778,
             "#fb9f3a"
            ],
            [
             0.8888888888888888,
             "#fdca26"
            ],
            [
             1,
             "#f0f921"
            ]
           ],
           "sequentialminus": [
            [
             0,
             "#0d0887"
            ],
            [
             0.1111111111111111,
             "#46039f"
            ],
            [
             0.2222222222222222,
             "#7201a8"
            ],
            [
             0.3333333333333333,
             "#9c179e"
            ],
            [
             0.4444444444444444,
             "#bd3786"
            ],
            [
             0.5555555555555556,
             "#d8576b"
            ],
            [
             0.6666666666666666,
             "#ed7953"
            ],
            [
             0.7777777777777778,
             "#fb9f3a"
            ],
            [
             0.8888888888888888,
             "#fdca26"
            ],
            [
             1,
             "#f0f921"
            ]
           ]
          },
          "colorway": [
           "#636efa",
           "#EF553B",
           "#00cc96",
           "#ab63fa",
           "#FFA15A",
           "#19d3f3",
           "#FF6692",
           "#B6E880",
           "#FF97FF",
           "#FECB52"
          ],
          "font": {
           "color": "#2a3f5f"
          },
          "geo": {
           "bgcolor": "white",
           "lakecolor": "white",
           "landcolor": "#E5ECF6",
           "showlakes": true,
           "showland": true,
           "subunitcolor": "white"
          },
          "hoverlabel": {
           "align": "left"
          },
          "hovermode": "closest",
          "mapbox": {
           "style": "light"
          },
          "paper_bgcolor": "white",
          "plot_bgcolor": "#E5ECF6",
          "polar": {
           "angularaxis": {
            "gridcolor": "white",
            "linecolor": "white",
            "ticks": ""
           },
           "bgcolor": "#E5ECF6",
           "radialaxis": {
            "gridcolor": "white",
            "linecolor": "white",
            "ticks": ""
           }
          },
          "scene": {
           "xaxis": {
            "backgroundcolor": "#E5ECF6",
            "gridcolor": "white",
            "gridwidth": 2,
            "linecolor": "white",
            "showbackground": true,
            "ticks": "",
            "zerolinecolor": "white"
           },
           "yaxis": {
            "backgroundcolor": "#E5ECF6",
            "gridcolor": "white",
            "gridwidth": 2,
            "linecolor": "white",
            "showbackground": true,
            "ticks": "",
            "zerolinecolor": "white"
           },
           "zaxis": {
            "backgroundcolor": "#E5ECF6",
            "gridcolor": "white",
            "gridwidth": 2,
            "linecolor": "white",
            "showbackground": true,
            "ticks": "",
            "zerolinecolor": "white"
           }
          },
          "shapedefaults": {
           "line": {
            "color": "#2a3f5f"
           }
          },
          "ternary": {
           "aaxis": {
            "gridcolor": "white",
            "linecolor": "white",
            "ticks": ""
           },
           "baxis": {
            "gridcolor": "white",
            "linecolor": "white",
            "ticks": ""
           },
           "bgcolor": "#E5ECF6",
           "caxis": {
            "gridcolor": "white",
            "linecolor": "white",
            "ticks": ""
           }
          },
          "title": {
           "x": 0.05
          },
          "xaxis": {
           "automargin": true,
           "gridcolor": "white",
           "linecolor": "white",
           "ticks": "",
           "title": {
            "standoff": 15
           },
           "zerolinecolor": "white",
           "zerolinewidth": 2
          },
          "yaxis": {
           "automargin": true,
           "gridcolor": "white",
           "linecolor": "white",
           "ticks": "",
           "title": {
            "standoff": 15
           },
           "zerolinecolor": "white",
           "zerolinewidth": 2
          }
         }
        },
        "xaxis": {
         "anchor": "y",
         "domain": [
          0,
          1
         ]
        },
        "yaxis": {
         "anchor": "x",
         "domain": [
          0,
          1
         ],
         "title": {
          "text": "AveragScore"
         }
        }
       }
      },
      "text/html": [
       "<div>            <script src=\"https://cdnjs.cloudflare.com/ajax/libs/mathjax/2.7.5/MathJax.js?config=TeX-AMS-MML_SVG\"></script><script type=\"text/javascript\">if (window.MathJax && window.MathJax.Hub && window.MathJax.Hub.Config) {window.MathJax.Hub.Config({SVG: {font: \"STIX-Web\"}});}</script>                <script type=\"text/javascript\">window.PlotlyConfig = {MathJaxConfig: 'local'};</script>\n",
       "        <script charset=\"utf-8\" src=\"https://cdn.plot.ly/plotly-3.0.1.min.js\"></script>                <div id=\"8be771ce-3989-4658-9d72-7982ae81973f\" class=\"plotly-graph-div\" style=\"height:525px; width:100%;\"></div>            <script type=\"text/javascript\">                window.PLOTLYENV=window.PLOTLYENV || {};                                if (document.getElementById(\"8be771ce-3989-4658-9d72-7982ae81973f\")) {                    Plotly.newPlot(                        \"8be771ce-3989-4658-9d72-7982ae81973f\",                        [{\"alignmentgroup\":\"True\",\"boxpoints\":\"all\",\"hovertemplate\":\"\\u003cb\\u003e%{hovertext}\\u003c\\u002fb\\u003e\\u003cbr\\u003e\\u003cbr\\u003eAveragScore=%{y}\\u003cextra\\u003e\\u003c\\u002fextra\\u003e\",\"hovertext\":[\"Denmark\",\"Sweden\",\"Norway\",\"Finland\",\"Switzerland\",\"Netherlands\",\"Luxembourg\",\"Iceland\",\"Germany\",\"New Zealand\",\"Ireland\",\"United Kingdom\",\"Canada\",\"Austria\",\"Australia\",\"Japan\",\"Singapore\",\"Belgium\",\"United States\",\"Taiwan\",\"Estonia\",\"Hong Kong\",\"France\",\"Spain\",\"Czech Republic\",\"Portugal\",\"Slovenia\",\"Malta\",\"South Korea\",\"Italy\",\"Latvia\",\"Lithuania\",\"Israel\",\"Cyprus\",\"Slovakia\",\"Chile\",\"Poland\",\"Uruguay\",\"Costa Rica\",\"Greece\",\"Croatia\",\"Hungary\",\"Malaysia\",\"United Arab Emirates\",\"Romania\",\"Qatar\",\"Mauritius\",\"Bulgaria\",\"Montenegro\",\"Panama\",\"Seychelles\",\"Serbia\",\"Georgia\",\"China\",\"Macedonia\",\"Trinidad and Tobago\",\"Jamaica\",\"Argentina\",\"Peru\",\"Kuwait\",\"Armenia\",\"Bahrain\",\"Indonesia\",\"Thailand\",\"Albania\",\"Brazil\",\"Oman\",\"Dominican Republic\",\"Kazakhstan\",\"Moldova\",\"Mexico\",\"Bosnia and Herzegovina\",\"Vietnam\",\"Ukraine\",\"South Africa\",\"Paraguay\",\"Russia\",\"Belarus\",\"Saudi Arabia\",\"Cabo Verde\",\"Colombia\",\"Suriname\",\"Botswana\",\"Philippines\",\"Ecuador\",\"Jordan\",\"S\\u00e3o Tom\\u00e9 and Pr\\u00edncipe\",\"Mongolia\",\"Guyana\",\"Namibia\",\"Sri Lanka\",\"Azerbaijan\",\"Belize\",\"Kyrgyzstan\",\"Turkey\",\"Morocco\",\"El Salvador\",\"Ghana\",\"Tunisia\",\"Uzbekistan\",\"Guatemala\",\"Senegal\",\"India\",\"Cuba\",\"Honduras\",\"Bolivia\",\"Turkmenistan\",\"Kenya\",\"Algeria\",\"Nepal\",\"Rwanda\",\"Lebanon\",\"Tajikistan\",\"Nicaragua\",\"Laos\",\"Gambia\",\"Tanzania\",\"Cambodia\",\"Gabon\",\"C\\u00f4te d'Ivoire\",\"Egypt\",\"Djibouti\",\"Benin\",\"Bangladesh\",\"Malawi\",\"Iran\",\"Zambia\",\"Comoros\",\"Uganda\",\"Papua New Guinea\",\"Equatorial Guinea\",\"Lesotho\",\"Togo\",\"Swaziland\",\"Burkina Faso\",\"Pakistan\",\"Madagascar\",\"Liberia\",\"Zimbabwe\",\"Iraq\",\"Guinea\",\"Nigeria\",\"Myanmar\",\"Sierra Leone\",\"Venezuela\",\"Libya\",\"Cameroon\",\"Congo\",\"Guinea-Bissau\",\"Mozambique\",\"Mali\",\"Niger\",\"Ethiopia\",\"Mauritania\",\"Angola\",\"Haiti\",\"Burundi\",\"Sudan\",\"Syria\",\"Eritrea\",\"Democratic Republic of Congo\",\"Chad\",\"Somalia\",\"Afghanistan\",\"Central African Republic\",\"Yemen\",\"South Sudan\"],\"legendgroup\":\"\",\"marker\":{\"color\":\"#636efa\"},\"name\":\"\",\"notched\":false,\"offsetgroup\":\"\",\"orientation\":\"v\",\"showlegend\":false,\"x0\":\" \",\"xaxis\":\"x\",\"y\":{\"dtype\":\"f8\",\"bdata\":\"MzMzMzMjVUB7FK5H4epUQPYoXI\\u002fC5VRArkfhehTeVEB7FK5H4dpUQBSuR+F6lFRAhetRuB51VEDhehSuR0FUQKRwPQrXM1RArkfhehQeVECkcD0K1xNUQM3MzMzM\\u002fFNASOF6FK7nU0C4HoXrUdhTQNejcD0K11NArkfhehSOU0A9CtejcI1TQPYoXI\\u002fCdVNAXI\\u002fC9ShcU0DXo3A9CldTQKRwPQrXU1NAmpmZmZk5U0AfhetRuC5TQFK4HoXrAVNAhetRuB7FUkApXI\\u002fC9ahSQMP1KFyPolJA16NwPQqXUkAUrkfheoRSQFK4HoXrQVJAj8L1KFw\\u002fUkDD9ShcjyJSQAAAAAAAEFJAFK5H4Xr0UUCamZmZmclRQOxRuB6Fi1FAmpmZmZmJUUBcj8L1KGxRQPYoXI\\u002fCZVFAH4XrUbgeUUCPwvUoXA9RQLgehetRuFBA9ihcj8K1UEBcj8L1KKxQQJqZmZmZmVBAj8L1KFyPUECamZmZmWlQQDMzMzMzY1BAcT0K16NAUEAUrkfhehRQQDMzMzMz009AAAAAAABgT0CkcD0K1yNPQDMzMzMzE09AmpmZmZn5TkAUrkfhevROQFK4HoXrsU5AcT0K16OwTkDD9Shcj6JOQNejcD0Kd05A9ihcj8J1TkD2KFyPwnVOQHE9CtejcE5AhetRuB5lTkC4HoXrUVhOQClcj8L1CE5AzczMzMzsTUDNzMzMzOxNQKRwPQrXw01AuB6F61G4TUBmZmZmZqZNQK5H4XoUjk1ArkfhehRuTUDsUbgehWtNQPYoXI\\u002fCVU1ASOF6FK5HTUAAAAAAAEBNQDMzMzMzM01AzczMzMwsTUDsUbgehStNQOF6FK5HAU1AFK5H4Xr0TEAK16NwPepMQKRwPQrXw0xA9ihcj8K1TEBSuB6F65FMQOxRuB6Fi0xAKVyPwvWITEDXo3A9CndMQHE9CtejMExA7FG4HoUrTEDhehSuRyFMQBSuR+F69EtAAAAAAADgS0AAAAAAAMBLQLgehetRmEtAZmZmZmaGS0AUrkfhelRLQHsUrkfhOktAZmZmZmbmSkA9CtejcN1KQNejcD0K10pAFK5H4XrUSkC4HoXrUbhKQAAAAAAAoEpAcT0K16OQSkBxPQrXozBKQAAAAAAAIEpAcT0K16MQSkApXI\\u002fC9chJQEjhehSux0lAcT0K16OwSUCamZmZmZlJQFyPwvUoHElA16NwPQoXSUDNzMzMzAxJQJqZmZmZmUhAuB6F61GYSEDsUbgehWtIQOxRuB6FS0hAKVyPwvVISEBcj8L1KDxIQFyPwvUoHEhAj8L1KFzvR0AK16NwPepHQHsUrkfh2kdAUrgeheuRR0DXo3A9CndHQArXo3A9akdAUrgehetRR0DsUbgehUtHQI\\u002fC9Shcz0ZAw\\u002fUoXI\\u002fCRkCuR+F6FK5GQI\\u002fC9Shcj0ZAzczMzMyMRkC4HoXrUXhGQIXrUbgeZUZA9ihcj8JVRkAUrkfhelRGQFyPwvUoPEZAAAAAAAAARkAUrkfhetRFQI\\u002fC9Shcz0VAzczMzMzMRUB7FK5H4bpFQArXo3A9ikVAKVyPwvVoRUCkcD0K12NFQJqZmZmZWUVArkfhehQuRUDhehSuRyFFQI\\u002fC9Shc70RAPQrXo3CdREBmZmZmZkZEQClcj8L16ENAmpmZmZkZQ0Bcj8L1KHxCQArXo3A9akJAw\\u002fUoXI8CQkAfhetRuN5BQLgehetRWEFAUrgehesxQUDXo3A9ChdBQArXo3A9akBAMzMzMzNTQEBmZmZmZmY+QA==\"},\"y0\":\" \",\"yaxis\":\"y\",\"type\":\"box\"}],                        {\"template\":{\"data\":{\"histogram2dcontour\":[{\"type\":\"histogram2dcontour\",\"colorbar\":{\"outlinewidth\":0,\"ticks\":\"\"},\"colorscale\":[[0.0,\"#0d0887\"],[0.1111111111111111,\"#46039f\"],[0.2222222222222222,\"#7201a8\"],[0.3333333333333333,\"#9c179e\"],[0.4444444444444444,\"#bd3786\"],[0.5555555555555556,\"#d8576b\"],[0.6666666666666666,\"#ed7953\"],[0.7777777777777778,\"#fb9f3a\"],[0.8888888888888888,\"#fdca26\"],[1.0,\"#f0f921\"]]}],\"choropleth\":[{\"type\":\"choropleth\",\"colorbar\":{\"outlinewidth\":0,\"ticks\":\"\"}}],\"histogram2d\":[{\"type\":\"histogram2d\",\"colorbar\":{\"outlinewidth\":0,\"ticks\":\"\"},\"colorscale\":[[0.0,\"#0d0887\"],[0.1111111111111111,\"#46039f\"],[0.2222222222222222,\"#7201a8\"],[0.3333333333333333,\"#9c179e\"],[0.4444444444444444,\"#bd3786\"],[0.5555555555555556,\"#d8576b\"],[0.6666666666666666,\"#ed7953\"],[0.7777777777777778,\"#fb9f3a\"],[0.8888888888888888,\"#fdca26\"],[1.0,\"#f0f921\"]]}],\"heatmap\":[{\"type\":\"heatmap\",\"colorbar\":{\"outlinewidth\":0,\"ticks\":\"\"},\"colorscale\":[[0.0,\"#0d0887\"],[0.1111111111111111,\"#46039f\"],[0.2222222222222222,\"#7201a8\"],[0.3333333333333333,\"#9c179e\"],[0.4444444444444444,\"#bd3786\"],[0.5555555555555556,\"#d8576b\"],[0.6666666666666666,\"#ed7953\"],[0.7777777777777778,\"#fb9f3a\"],[0.8888888888888888,\"#fdca26\"],[1.0,\"#f0f921\"]]}],\"contourcarpet\":[{\"type\":\"contourcarpet\",\"colorbar\":{\"outlinewidth\":0,\"ticks\":\"\"}}],\"contour\":[{\"type\":\"contour\",\"colorbar\":{\"outlinewidth\":0,\"ticks\":\"\"},\"colorscale\":[[0.0,\"#0d0887\"],[0.1111111111111111,\"#46039f\"],[0.2222222222222222,\"#7201a8\"],[0.3333333333333333,\"#9c179e\"],[0.4444444444444444,\"#bd3786\"],[0.5555555555555556,\"#d8576b\"],[0.6666666666666666,\"#ed7953\"],[0.7777777777777778,\"#fb9f3a\"],[0.8888888888888888,\"#fdca26\"],[1.0,\"#f0f921\"]]}],\"surface\":[{\"type\":\"surface\",\"colorbar\":{\"outlinewidth\":0,\"ticks\":\"\"},\"colorscale\":[[0.0,\"#0d0887\"],[0.1111111111111111,\"#46039f\"],[0.2222222222222222,\"#7201a8\"],[0.3333333333333333,\"#9c179e\"],[0.4444444444444444,\"#bd3786\"],[0.5555555555555556,\"#d8576b\"],[0.6666666666666666,\"#ed7953\"],[0.7777777777777778,\"#fb9f3a\"],[0.8888888888888888,\"#fdca26\"],[1.0,\"#f0f921\"]]}],\"mesh3d\":[{\"type\":\"mesh3d\",\"colorbar\":{\"outlinewidth\":0,\"ticks\":\"\"}}],\"scatter\":[{\"fillpattern\":{\"fillmode\":\"overlay\",\"size\":10,\"solidity\":0.2},\"type\":\"scatter\"}],\"parcoords\":[{\"type\":\"parcoords\",\"line\":{\"colorbar\":{\"outlinewidth\":0,\"ticks\":\"\"}}}],\"scatterpolargl\":[{\"type\":\"scatterpolargl\",\"marker\":{\"colorbar\":{\"outlinewidth\":0,\"ticks\":\"\"}}}],\"bar\":[{\"error_x\":{\"color\":\"#2a3f5f\"},\"error_y\":{\"color\":\"#2a3f5f\"},\"marker\":{\"line\":{\"color\":\"#E5ECF6\",\"width\":0.5},\"pattern\":{\"fillmode\":\"overlay\",\"size\":10,\"solidity\":0.2}},\"type\":\"bar\"}],\"scattergeo\":[{\"type\":\"scattergeo\",\"marker\":{\"colorbar\":{\"outlinewidth\":0,\"ticks\":\"\"}}}],\"scatterpolar\":[{\"type\":\"scatterpolar\",\"marker\":{\"colorbar\":{\"outlinewidth\":0,\"ticks\":\"\"}}}],\"histogram\":[{\"marker\":{\"pattern\":{\"fillmode\":\"overlay\",\"size\":10,\"solidity\":0.2}},\"type\":\"histogram\"}],\"scattergl\":[{\"type\":\"scattergl\",\"marker\":{\"colorbar\":{\"outlinewidth\":0,\"ticks\":\"\"}}}],\"scatter3d\":[{\"type\":\"scatter3d\",\"line\":{\"colorbar\":{\"outlinewidth\":0,\"ticks\":\"\"}},\"marker\":{\"colorbar\":{\"outlinewidth\":0,\"ticks\":\"\"}}}],\"scattermap\":[{\"type\":\"scattermap\",\"marker\":{\"colorbar\":{\"outlinewidth\":0,\"ticks\":\"\"}}}],\"scattermapbox\":[{\"type\":\"scattermapbox\",\"marker\":{\"colorbar\":{\"outlinewidth\":0,\"ticks\":\"\"}}}],\"scatterternary\":[{\"type\":\"scatterternary\",\"marker\":{\"colorbar\":{\"outlinewidth\":0,\"ticks\":\"\"}}}],\"scattercarpet\":[{\"type\":\"scattercarpet\",\"marker\":{\"colorbar\":{\"outlinewidth\":0,\"ticks\":\"\"}}}],\"carpet\":[{\"aaxis\":{\"endlinecolor\":\"#2a3f5f\",\"gridcolor\":\"white\",\"linecolor\":\"white\",\"minorgridcolor\":\"white\",\"startlinecolor\":\"#2a3f5f\"},\"baxis\":{\"endlinecolor\":\"#2a3f5f\",\"gridcolor\":\"white\",\"linecolor\":\"white\",\"minorgridcolor\":\"white\",\"startlinecolor\":\"#2a3f5f\"},\"type\":\"carpet\"}],\"table\":[{\"cells\":{\"fill\":{\"color\":\"#EBF0F8\"},\"line\":{\"color\":\"white\"}},\"header\":{\"fill\":{\"color\":\"#C8D4E3\"},\"line\":{\"color\":\"white\"}},\"type\":\"table\"}],\"barpolar\":[{\"marker\":{\"line\":{\"color\":\"#E5ECF6\",\"width\":0.5},\"pattern\":{\"fillmode\":\"overlay\",\"size\":10,\"solidity\":0.2}},\"type\":\"barpolar\"}],\"pie\":[{\"automargin\":true,\"type\":\"pie\"}]},\"layout\":{\"autotypenumbers\":\"strict\",\"colorway\":[\"#636efa\",\"#EF553B\",\"#00cc96\",\"#ab63fa\",\"#FFA15A\",\"#19d3f3\",\"#FF6692\",\"#B6E880\",\"#FF97FF\",\"#FECB52\"],\"font\":{\"color\":\"#2a3f5f\"},\"hovermode\":\"closest\",\"hoverlabel\":{\"align\":\"left\"},\"paper_bgcolor\":\"white\",\"plot_bgcolor\":\"#E5ECF6\",\"polar\":{\"bgcolor\":\"#E5ECF6\",\"angularaxis\":{\"gridcolor\":\"white\",\"linecolor\":\"white\",\"ticks\":\"\"},\"radialaxis\":{\"gridcolor\":\"white\",\"linecolor\":\"white\",\"ticks\":\"\"}},\"ternary\":{\"bgcolor\":\"#E5ECF6\",\"aaxis\":{\"gridcolor\":\"white\",\"linecolor\":\"white\",\"ticks\":\"\"},\"baxis\":{\"gridcolor\":\"white\",\"linecolor\":\"white\",\"ticks\":\"\"},\"caxis\":{\"gridcolor\":\"white\",\"linecolor\":\"white\",\"ticks\":\"\"}},\"coloraxis\":{\"colorbar\":{\"outlinewidth\":0,\"ticks\":\"\"}},\"colorscale\":{\"sequential\":[[0.0,\"#0d0887\"],[0.1111111111111111,\"#46039f\"],[0.2222222222222222,\"#7201a8\"],[0.3333333333333333,\"#9c179e\"],[0.4444444444444444,\"#bd3786\"],[0.5555555555555556,\"#d8576b\"],[0.6666666666666666,\"#ed7953\"],[0.7777777777777778,\"#fb9f3a\"],[0.8888888888888888,\"#fdca26\"],[1.0,\"#f0f921\"]],\"sequentialminus\":[[0.0,\"#0d0887\"],[0.1111111111111111,\"#46039f\"],[0.2222222222222222,\"#7201a8\"],[0.3333333333333333,\"#9c179e\"],[0.4444444444444444,\"#bd3786\"],[0.5555555555555556,\"#d8576b\"],[0.6666666666666666,\"#ed7953\"],[0.7777777777777778,\"#fb9f3a\"],[0.8888888888888888,\"#fdca26\"],[1.0,\"#f0f921\"]],\"diverging\":[[0,\"#8e0152\"],[0.1,\"#c51b7d\"],[0.2,\"#de77ae\"],[0.3,\"#f1b6da\"],[0.4,\"#fde0ef\"],[0.5,\"#f7f7f7\"],[0.6,\"#e6f5d0\"],[0.7,\"#b8e186\"],[0.8,\"#7fbc41\"],[0.9,\"#4d9221\"],[1,\"#276419\"]]},\"xaxis\":{\"gridcolor\":\"white\",\"linecolor\":\"white\",\"ticks\":\"\",\"title\":{\"standoff\":15},\"zerolinecolor\":\"white\",\"automargin\":true,\"zerolinewidth\":2},\"yaxis\":{\"gridcolor\":\"white\",\"linecolor\":\"white\",\"ticks\":\"\",\"title\":{\"standoff\":15},\"zerolinecolor\":\"white\",\"automargin\":true,\"zerolinewidth\":2},\"scene\":{\"xaxis\":{\"backgroundcolor\":\"#E5ECF6\",\"gridcolor\":\"white\",\"linecolor\":\"white\",\"showbackground\":true,\"ticks\":\"\",\"zerolinecolor\":\"white\",\"gridwidth\":2},\"yaxis\":{\"backgroundcolor\":\"#E5ECF6\",\"gridcolor\":\"white\",\"linecolor\":\"white\",\"showbackground\":true,\"ticks\":\"\",\"zerolinecolor\":\"white\",\"gridwidth\":2},\"zaxis\":{\"backgroundcolor\":\"#E5ECF6\",\"gridcolor\":\"white\",\"linecolor\":\"white\",\"showbackground\":true,\"ticks\":\"\",\"zerolinecolor\":\"white\",\"gridwidth\":2}},\"shapedefaults\":{\"line\":{\"color\":\"#2a3f5f\"}},\"annotationdefaults\":{\"arrowcolor\":\"#2a3f5f\",\"arrowhead\":0,\"arrowwidth\":1},\"geo\":{\"bgcolor\":\"white\",\"landcolor\":\"#E5ECF6\",\"subunitcolor\":\"white\",\"showland\":true,\"showlakes\":true,\"lakecolor\":\"white\"},\"title\":{\"x\":0.05},\"mapbox\":{\"style\":\"light\"}}},\"xaxis\":{\"anchor\":\"y\",\"domain\":[0.0,1.0]},\"yaxis\":{\"anchor\":\"x\",\"domain\":[0.0,1.0],\"title\":{\"text\":\"AveragScore\"}},\"legend\":{\"tracegroupgap\":0},\"margin\":{\"t\":60},\"boxmode\":\"group\"},                        {\"responsive\": true}                    ).then(function(){\n",
       "                            \n",
       "var gd = document.getElementById('8be771ce-3989-4658-9d72-7982ae81973f');\n",
       "var x = new MutationObserver(function (mutations, observer) {{\n",
       "        var display = window.getComputedStyle(gd).display;\n",
       "        if (!display || display === 'none') {{\n",
       "            console.log([gd, 'removed!']);\n",
       "            Plotly.purge(gd);\n",
       "            observer.disconnect();\n",
       "        }}\n",
       "}});\n",
       "\n",
       "// Listen for the removal of the full notebook cells\n",
       "var notebookContainer = gd.closest('#notebook-container');\n",
       "if (notebookContainer) {{\n",
       "    x.observe(notebookContainer, {childList: true});\n",
       "}}\n",
       "\n",
       "// Listen for the clearing of the current output cell\n",
       "var outputEl = gd.closest('.output');\n",
       "if (outputEl) {{\n",
       "    x.observe(outputEl, {childList: true});\n",
       "}}\n",
       "\n",
       "                        })                };            </script>        </div>"
      ]
     },
     "metadata": {},
     "output_type": "display_data"
    }
   ],
   "source": [
    "fig = px.box(cntr, y = 'AveragScore', points = 'all', hover_name = 'Country')\n",
    "fig.show()"
   ]
  },
  {
   "cell_type": "markdown",
   "id": "0321555c-70de-42b7-b2a2-e04fb212bb30",
   "metadata": {},
   "source": [
    "<h2>Видно, что среднее значение примерно равно 47.74-68.87, а медианное -- 57.53.<h2>"
   ]
  },
  {
   "cell_type": "code",
   "execution_count": 27,
   "id": "90c61986-cdee-4240-bc38-e7d3c966f726",
   "metadata": {},
   "outputs": [
    {
     "data": {
      "text/html": [
       "<div>\n",
       "<style scoped>\n",
       "    .dataframe tbody tr th:only-of-type {\n",
       "        vertical-align: middle;\n",
       "    }\n",
       "\n",
       "    .dataframe tbody tr th {\n",
       "        vertical-align: top;\n",
       "    }\n",
       "\n",
       "    .dataframe thead th {\n",
       "        text-align: right;\n",
       "    }\n",
       "</style>\n",
       "<table border=\"1\" class=\"dataframe\">\n",
       "  <thead>\n",
       "    <tr style=\"text-align: right;\">\n",
       "      <th></th>\n",
       "      <th>country_code</th>\n",
       "      <th>latitude</th>\n",
       "      <th>longitude</th>\n",
       "      <th>Country</th>\n",
       "      <th>usa_state_code</th>\n",
       "      <th>usa_state_latitude</th>\n",
       "      <th>usa_state_longitude</th>\n",
       "      <th>usa_state</th>\n",
       "    </tr>\n",
       "  </thead>\n",
       "  <tbody>\n",
       "    <tr>\n",
       "      <th>0</th>\n",
       "      <td>AD</td>\n",
       "      <td>42.546245</td>\n",
       "      <td>1.601554</td>\n",
       "      <td>Andorra</td>\n",
       "      <td>AK</td>\n",
       "      <td>63.588753</td>\n",
       "      <td>-154.493062</td>\n",
       "      <td>Alaska</td>\n",
       "    </tr>\n",
       "    <tr>\n",
       "      <th>1</th>\n",
       "      <td>AE</td>\n",
       "      <td>23.424076</td>\n",
       "      <td>53.847818</td>\n",
       "      <td>United Arab Emirates</td>\n",
       "      <td>AL</td>\n",
       "      <td>32.318231</td>\n",
       "      <td>-86.902298</td>\n",
       "      <td>Alabama</td>\n",
       "    </tr>\n",
       "    <tr>\n",
       "      <th>2</th>\n",
       "      <td>AF</td>\n",
       "      <td>33.939110</td>\n",
       "      <td>67.709953</td>\n",
       "      <td>Afghanistan</td>\n",
       "      <td>AR</td>\n",
       "      <td>35.201050</td>\n",
       "      <td>-91.831833</td>\n",
       "      <td>Arkansas</td>\n",
       "    </tr>\n",
       "    <tr>\n",
       "      <th>3</th>\n",
       "      <td>AG</td>\n",
       "      <td>17.060816</td>\n",
       "      <td>-61.796428</td>\n",
       "      <td>Antigua and Barbuda</td>\n",
       "      <td>AZ</td>\n",
       "      <td>34.048928</td>\n",
       "      <td>-111.093731</td>\n",
       "      <td>Arizona</td>\n",
       "    </tr>\n",
       "    <tr>\n",
       "      <th>4</th>\n",
       "      <td>AI</td>\n",
       "      <td>18.220554</td>\n",
       "      <td>-63.068615</td>\n",
       "      <td>Anguilla</td>\n",
       "      <td>CA</td>\n",
       "      <td>36.778261</td>\n",
       "      <td>-119.417932</td>\n",
       "      <td>California</td>\n",
       "    </tr>\n",
       "  </tbody>\n",
       "</table>\n",
       "</div>"
      ],
      "text/plain": [
       "  country_code   latitude  longitude               Country usa_state_code  \\\n",
       "0           AD  42.546245   1.601554               Andorra             AK   \n",
       "1           AE  23.424076  53.847818  United Arab Emirates             AL   \n",
       "2           AF  33.939110  67.709953           Afghanistan             AR   \n",
       "3           AG  17.060816 -61.796428   Antigua and Barbuda             AZ   \n",
       "4           AI  18.220554 -63.068615              Anguilla             CA   \n",
       "\n",
       "   usa_state_latitude  usa_state_longitude   usa_state  \n",
       "0           63.588753          -154.493062      Alaska  \n",
       "1           32.318231           -86.902298     Alabama  \n",
       "2           35.201050           -91.831833    Arkansas  \n",
       "3           34.048928          -111.093731     Arizona  \n",
       "4           36.778261          -119.417932  California  "
      ]
     },
     "execution_count": 27,
     "metadata": {},
     "output_type": "execute_result"
    }
   ],
   "source": [
    "geo = pd.read_csv(r\"https://raw.githubusercontent.com/esbergenovg/proj/refs/heads/main/world_country_and_usa_states_latitude_and_longitude_values.csv\")\n",
    "geo.head()\n"
   ]
  },
  {
   "cell_type": "markdown",
   "id": "c63f2c34-88ff-4ccb-9348-0c563990db8e",
   "metadata": {},
   "source": [
    "<h2>Теперь расположим некоторые страны и их AverageScore на карте.<h2>"
   ]
  },
  {
   "cell_type": "markdown",
   "id": "99744933-2080-4aa1-8599-5e3c0d3fa2e9",
   "metadata": {},
   "source": [
    "<h2>Нам понадобится датасет с долготой и широтой этих стран<h2>"
   ]
  },
  {
   "cell_type": "code",
   "execution_count": 28,
   "id": "312d86a4-8514-4dc1-8a44-00c0a21394ce",
   "metadata": {},
   "outputs": [
    {
     "data": {
      "text/html": [
       "<div>\n",
       "<style scoped>\n",
       "    .dataframe tbody tr th:only-of-type {\n",
       "        vertical-align: middle;\n",
       "    }\n",
       "\n",
       "    .dataframe tbody tr th {\n",
       "        vertical-align: top;\n",
       "    }\n",
       "\n",
       "    .dataframe thead th {\n",
       "        text-align: right;\n",
       "    }\n",
       "</style>\n",
       "<table border=\"1\" class=\"dataframe\">\n",
       "  <thead>\n",
       "    <tr style=\"text-align: right;\">\n",
       "      <th></th>\n",
       "      <th>Country</th>\n",
       "      <th>AveragScore</th>\n",
       "      <th>SafetySecurity</th>\n",
       "      <th>PersonelFreedom</th>\n",
       "      <th>Governance</th>\n",
       "      <th>SocialCapital</th>\n",
       "      <th>InvestmentEnvironment</th>\n",
       "      <th>EnterpriseConditions</th>\n",
       "      <th>MarketAccessInfrastructure</th>\n",
       "      <th>EconomicQuality</th>\n",
       "      <th>...</th>\n",
       "      <th>Health</th>\n",
       "      <th>Education</th>\n",
       "      <th>NaturalEnvironment</th>\n",
       "      <th>country_code</th>\n",
       "      <th>latitude</th>\n",
       "      <th>longitude</th>\n",
       "      <th>usa_state_code</th>\n",
       "      <th>usa_state_latitude</th>\n",
       "      <th>usa_state_longitude</th>\n",
       "      <th>usa_state</th>\n",
       "    </tr>\n",
       "  </thead>\n",
       "  <tbody>\n",
       "    <tr>\n",
       "      <th>0</th>\n",
       "      <td>Denmark</td>\n",
       "      <td>84.55</td>\n",
       "      <td>92.59</td>\n",
       "      <td>94.09</td>\n",
       "      <td>89.45</td>\n",
       "      <td>82.56</td>\n",
       "      <td>82.42</td>\n",
       "      <td>79.64</td>\n",
       "      <td>78.79</td>\n",
       "      <td>76.81</td>\n",
       "      <td>...</td>\n",
       "      <td>81.07</td>\n",
       "      <td>87.48</td>\n",
       "      <td>73.94</td>\n",
       "      <td>DK</td>\n",
       "      <td>56.263920</td>\n",
       "      <td>9.501785</td>\n",
       "      <td>NaN</td>\n",
       "      <td>NaN</td>\n",
       "      <td>NaN</td>\n",
       "      <td>NaN</td>\n",
       "    </tr>\n",
       "    <tr>\n",
       "      <th>1</th>\n",
       "      <td>Sweden</td>\n",
       "      <td>83.67</td>\n",
       "      <td>90.97</td>\n",
       "      <td>91.90</td>\n",
       "      <td>86.41</td>\n",
       "      <td>78.29</td>\n",
       "      <td>82.81</td>\n",
       "      <td>75.54</td>\n",
       "      <td>79.67</td>\n",
       "      <td>76.18</td>\n",
       "      <td>...</td>\n",
       "      <td>82.28</td>\n",
       "      <td>85.92</td>\n",
       "      <td>78.74</td>\n",
       "      <td>SE</td>\n",
       "      <td>60.128161</td>\n",
       "      <td>18.643501</td>\n",
       "      <td>NaN</td>\n",
       "      <td>NaN</td>\n",
       "      <td>NaN</td>\n",
       "      <td>NaN</td>\n",
       "    </tr>\n",
       "    <tr>\n",
       "      <th>2</th>\n",
       "      <td>Norway</td>\n",
       "      <td>83.59</td>\n",
       "      <td>93.30</td>\n",
       "      <td>94.10</td>\n",
       "      <td>89.66</td>\n",
       "      <td>79.03</td>\n",
       "      <td>82.24</td>\n",
       "      <td>75.95</td>\n",
       "      <td>75.87</td>\n",
       "      <td>77.25</td>\n",
       "      <td>...</td>\n",
       "      <td>82.98</td>\n",
       "      <td>85.68</td>\n",
       "      <td>72.37</td>\n",
       "      <td>NO</td>\n",
       "      <td>60.472024</td>\n",
       "      <td>8.468946</td>\n",
       "      <td>NaN</td>\n",
       "      <td>NaN</td>\n",
       "      <td>NaN</td>\n",
       "      <td>NaN</td>\n",
       "    </tr>\n",
       "    <tr>\n",
       "      <th>3</th>\n",
       "      <td>Finland</td>\n",
       "      <td>83.47</td>\n",
       "      <td>89.56</td>\n",
       "      <td>91.96</td>\n",
       "      <td>90.41</td>\n",
       "      <td>77.27</td>\n",
       "      <td>84.12</td>\n",
       "      <td>77.25</td>\n",
       "      <td>78.77</td>\n",
       "      <td>70.28</td>\n",
       "      <td>...</td>\n",
       "      <td>81.19</td>\n",
       "      <td>88.38</td>\n",
       "      <td>77.99</td>\n",
       "      <td>FI</td>\n",
       "      <td>61.924110</td>\n",
       "      <td>25.748151</td>\n",
       "      <td>NaN</td>\n",
       "      <td>NaN</td>\n",
       "      <td>NaN</td>\n",
       "      <td>NaN</td>\n",
       "    </tr>\n",
       "    <tr>\n",
       "      <th>4</th>\n",
       "      <td>Switzerland</td>\n",
       "      <td>83.42</td>\n",
       "      <td>95.66</td>\n",
       "      <td>87.50</td>\n",
       "      <td>87.67</td>\n",
       "      <td>69.14</td>\n",
       "      <td>80.81</td>\n",
       "      <td>83.84</td>\n",
       "      <td>78.65</td>\n",
       "      <td>79.71</td>\n",
       "      <td>...</td>\n",
       "      <td>82.11</td>\n",
       "      <td>87.72</td>\n",
       "      <td>73.60</td>\n",
       "      <td>CH</td>\n",
       "      <td>46.818188</td>\n",
       "      <td>8.227512</td>\n",
       "      <td>RI</td>\n",
       "      <td>41.580095</td>\n",
       "      <td>-71.477429</td>\n",
       "      <td>Rhode Island</td>\n",
       "    </tr>\n",
       "  </tbody>\n",
       "</table>\n",
       "<p>5 rows × 21 columns</p>\n",
       "</div>"
      ],
      "text/plain": [
       "       Country  AveragScore  SafetySecurity  PersonelFreedom  Governance  \\\n",
       "0      Denmark        84.55           92.59            94.09       89.45   \n",
       "1       Sweden        83.67           90.97            91.90       86.41   \n",
       "2       Norway        83.59           93.30            94.10       89.66   \n",
       "3      Finland        83.47           89.56            91.96       90.41   \n",
       "4  Switzerland        83.42           95.66            87.50       87.67   \n",
       "\n",
       "   SocialCapital  InvestmentEnvironment  EnterpriseConditions  \\\n",
       "0          82.56                  82.42                 79.64   \n",
       "1          78.29                  82.81                 75.54   \n",
       "2          79.03                  82.24                 75.95   \n",
       "3          77.27                  84.12                 77.25   \n",
       "4          69.14                  80.81                 83.84   \n",
       "\n",
       "   MarketAccessInfrastructure  EconomicQuality  ...  Health  Education  \\\n",
       "0                       78.79            76.81  ...   81.07      87.48   \n",
       "1                       79.67            76.18  ...   82.28      85.92   \n",
       "2                       75.87            77.25  ...   82.98      85.68   \n",
       "3                       78.77            70.28  ...   81.19      88.38   \n",
       "4                       78.65            79.71  ...   82.11      87.72   \n",
       "\n",
       "   NaturalEnvironment  country_code   latitude  longitude  usa_state_code  \\\n",
       "0               73.94            DK  56.263920   9.501785             NaN   \n",
       "1               78.74            SE  60.128161  18.643501             NaN   \n",
       "2               72.37            NO  60.472024   8.468946             NaN   \n",
       "3               77.99            FI  61.924110  25.748151             NaN   \n",
       "4               73.60            CH  46.818188   8.227512              RI   \n",
       "\n",
       "  usa_state_latitude  usa_state_longitude     usa_state  \n",
       "0                NaN                  NaN           NaN  \n",
       "1                NaN                  NaN           NaN  \n",
       "2                NaN                  NaN           NaN  \n",
       "3                NaN                  NaN           NaN  \n",
       "4          41.580095           -71.477429  Rhode Island  \n",
       "\n",
       "[5 rows x 21 columns]"
      ]
     },
     "execution_count": 28,
     "metadata": {},
     "output_type": "execute_result"
    }
   ],
   "source": [
    "result =pd.merge(left = cntr, right = geo , how='inner', on= 'Country')\n",
    "result.head()"
   ]
  },
  {
   "cell_type": "code",
   "execution_count": 30,
   "id": "7dff9c48-ba88-40c2-8c11-48695a8c9b73",
   "metadata": {},
   "outputs": [
    {
     "data": {
      "application/vnd.plotly.v1+json": {
       "config": {
        "plotlyServerURL": "https://plot.ly"
       },
       "data": [
        {
         "geo": "geo",
         "hovertemplate": "<b>%{hovertext}</b><br><br>Country=Denmark<br>AveragScore=%{marker.size}<br>latitude=%{lat}<br>longitude=%{lon}<extra></extra>",
         "hovertext": [
          "Denmark"
         ],
         "lat": {
          "bdata": "UmFsIcghTEA=",
          "dtype": "f8"
         },
         "legendgroup": "Denmark",
         "lon": {
          "bdata": "KT+p9ukAI0A=",
          "dtype": "f8"
         },
         "marker": {
          "color": "#636efa",
          "size": {
           "bdata": "MzMzMzMjVUA=",
           "dtype": "f8"
          },
          "sizemode": "area",
          "sizeref": 1.7255102040816326,
          "symbol": "circle"
         },
         "mode": "markers",
         "name": "Denmark",
         "showlegend": true,
         "type": "scattergeo"
        },
        {
         "geo": "geo",
         "hovertemplate": "<b>%{hovertext}</b><br><br>Country=Sweden<br>AveragScore=%{marker.size}<br>latitude=%{lat}<br>longitude=%{lon}<extra></extra>",
         "hovertext": [
          "Sweden"
         ],
         "lat": {
          "bdata": "s89jlGcQTkA=",
          "dtype": "f8"
         },
         "legendgroup": "Sweden",
         "lon": {
          "bdata": "fPFFe7ykMkA=",
          "dtype": "f8"
         },
         "marker": {
          "color": "#EF553B",
          "size": {
           "bdata": "exSuR+HqVEA=",
           "dtype": "f8"
          },
          "sizemode": "area",
          "sizeref": 1.7255102040816326,
          "symbol": "circle"
         },
         "mode": "markers",
         "name": "Sweden",
         "showlegend": true,
         "type": "scattergeo"
        },
        {
         "geo": "geo",
         "hovertemplate": "<b>%{hovertext}</b><br><br>Country=Norway<br>AveragScore=%{marker.size}<br>latitude=%{lat}<br>longitude=%{lon}<extra></extra>",
         "hovertext": [
          "Norway"
         ],
         "lat": {
          "bdata": "q3ZNSGs8TkA=",
          "dtype": "f8"
         },
         "legendgroup": "Norway",
         "lon": {
          "bdata": "Fy6rsBnwIEA=",
          "dtype": "f8"
         },
         "marker": {
          "color": "#00cc96",
          "size": {
           "bdata": "9ihcj8LlVEA=",
           "dtype": "f8"
          },
          "sizemode": "area",
          "sizeref": 1.7255102040816326,
          "symbol": "circle"
         },
         "mode": "markers",
         "name": "Norway",
         "showlegend": true,
         "type": "scattergeo"
        },
        {
         "geo": "geo",
         "hovertemplate": "<b>%{hovertext}</b><br><br>Country=Finland<br>AveragScore=%{marker.size}<br>latitude=%{lat}<br>longitude=%{lon}<extra></extra>",
         "hovertext": [
          "Finland"
         ],
         "lat": {
          "bdata": "CvSJPEn2TkA=",
          "dtype": "f8"
         },
         "legendgroup": "Finland",
         "lon": {
          "bdata": "Pnjt0oa/OUA=",
          "dtype": "f8"
         },
         "marker": {
          "color": "#ab63fa",
          "size": {
           "bdata": "rkfhehTeVEA=",
           "dtype": "f8"
          },
          "sizemode": "area",
          "sizeref": 1.7255102040816326,
          "symbol": "circle"
         },
         "mode": "markers",
         "name": "Finland",
         "showlegend": true,
         "type": "scattergeo"
        },
        {
         "geo": "geo",
         "hovertemplate": "<b>%{hovertext}</b><br><br>Country=Switzerland<br>AveragScore=%{marker.size}<br>latitude=%{lat}<br>longitude=%{lon}<extra></extra>",
         "hovertext": [
          "Switzerland"
         ],
         "lat": {
          "bdata": "Zf1mYrpoR0A=",
          "dtype": "f8"
         },
         "legendgroup": "Switzerland",
         "lon": {
          "bdata": "JuXuc3x0IEA=",
          "dtype": "f8"
         },
         "marker": {
          "color": "#FFA15A",
          "size": {
           "bdata": "exSuR+HaVEA=",
           "dtype": "f8"
          },
          "sizemode": "area",
          "sizeref": 1.7255102040816326,
          "symbol": "circle"
         },
         "mode": "markers",
         "name": "Switzerland",
         "showlegend": true,
         "type": "scattergeo"
        },
        {
         "geo": "geo",
         "hovertemplate": "<b>%{hovertext}</b><br><br>Country=Netherlands<br>AveragScore=%{marker.size}<br>latitude=%{lat}<br>longitude=%{lon}<extra></extra>",
         "hovertext": [
          "Netherlands"
         ],
         "lat": {
          "bdata": "aK8+HvoQSkA=",
          "dtype": "f8"
         },
         "legendgroup": "Netherlands",
         "lon": {
          "bdata": "OL9hokEqFUA=",
          "dtype": "f8"
         },
         "marker": {
          "color": "#19d3f3",
          "size": {
           "bdata": "FK5H4XqUVEA=",
           "dtype": "f8"
          },
          "sizemode": "area",
          "sizeref": 1.7255102040816326,
          "symbol": "circle"
         },
         "mode": "markers",
         "name": "Netherlands",
         "showlegend": true,
         "type": "scattergeo"
        },
        {
         "geo": "geo",
         "hovertemplate": "<b>%{hovertext}</b><br><br>Country=Luxembourg<br>AveragScore=%{marker.size}<br>latitude=%{lat}<br>longitude=%{lon}<extra></extra>",
         "hovertext": [
          "Luxembourg"
         ],
         "lat": {
          "bdata": "6Sec3VroSEA=",
          "dtype": "f8"
         },
         "legendgroup": "Luxembourg",
         "lon": {
          "bdata": "ZHjsZ7GEGEA=",
          "dtype": "f8"
         },
         "marker": {
          "color": "#FF6692",
          "size": {
           "bdata": "hetRuB51VEA=",
           "dtype": "f8"
          },
          "sizemode": "area",
          "sizeref": 1.7255102040816326,
          "symbol": "circle"
         },
         "mode": "markers",
         "name": "Luxembourg",
         "showlegend": true,
         "type": "scattergeo"
        },
        {
         "geo": "geo",
         "hovertemplate": "<b>%{hovertext}</b><br><br>Country=Iceland<br>AveragScore=%{marker.size}<br>latitude=%{lat}<br>longitude=%{lon}<extra></extra>",
         "hovertext": [
          "Iceland"
         ],
         "lat": {
          "bdata": "U1ipoKI9UEA=",
          "dtype": "f8"
         },
         "legendgroup": "Iceland",
         "lon": {
          "bdata": "t5xLcVUFM8A=",
          "dtype": "f8"
         },
         "marker": {
          "color": "#B6E880",
          "size": {
           "bdata": "4XoUrkdBVEA=",
           "dtype": "f8"
          },
          "sizemode": "area",
          "sizeref": 1.7255102040816326,
          "symbol": "circle"
         },
         "mode": "markers",
         "name": "Iceland",
         "showlegend": true,
         "type": "scattergeo"
        },
        {
         "geo": "geo",
         "hovertemplate": "<b>%{hovertext}</b><br><br>Country=Germany<br>AveragScore=%{marker.size}<br>latitude=%{lat}<br>longitude=%{lon}<extra></extra>",
         "hovertext": [
          "Germany"
         ],
         "lat": {
          "bdata": "6x7ZXDWVSUA=",
          "dtype": "f8"
         },
         "legendgroup": "Germany",
         "lon": {
          "bdata": "X5Z2ai7nJEA=",
          "dtype": "f8"
         },
         "marker": {
          "color": "#FF97FF",
          "size": {
           "bdata": "pHA9CtczVEA=",
           "dtype": "f8"
          },
          "sizemode": "area",
          "sizeref": 1.7255102040816326,
          "symbol": "circle"
         },
         "mode": "markers",
         "name": "Germany",
         "showlegend": true,
         "type": "scattergeo"
        },
        {
         "geo": "geo",
         "hovertemplate": "<b>%{hovertext}</b><br><br>Country=New Zealand<br>AveragScore=%{marker.size}<br>latitude=%{lat}<br>longitude=%{lon}<extra></extra>",
         "hovertext": [
          "New Zealand"
         ],
         "lat": {
          "bdata": "iZenc0VzRMA=",
          "dtype": "f8"
         },
         "legendgroup": "New Zealand",
         "lon": {
          "bdata": "i8ba31ncZUA=",
          "dtype": "f8"
         },
         "marker": {
          "color": "#FECB52",
          "size": {
           "bdata": "rkfhehQeVEA=",
           "dtype": "f8"
          },
          "sizemode": "area",
          "sizeref": 1.7255102040816326,
          "symbol": "circle"
         },
         "mode": "markers",
         "name": "New Zealand",
         "showlegend": true,
         "type": "scattergeo"
        },
        {
         "geo": "geo",
         "hovertemplate": "<b>%{hovertext}</b><br><br>Country=Ireland<br>AveragScore=%{marker.size}<br>latitude=%{lat}<br>longitude=%{lon}<extra></extra>",
         "hovertext": [
          "Ireland"
         ],
         "lat": {
          "bdata": "fhghPNq0SkA=",
          "dtype": "f8"
         },
         "legendgroup": "Ireland",
         "lon": {
          "bdata": "lKRrJt98IMA=",
          "dtype": "f8"
         },
         "marker": {
          "color": "#636efa",
          "size": {
           "bdata": "pHA9CtcTVEA=",
           "dtype": "f8"
          },
          "sizemode": "area",
          "sizeref": 1.7255102040816326,
          "symbol": "circle"
         },
         "mode": "markers",
         "name": "Ireland",
         "showlegend": true,
         "type": "scattergeo"
        },
        {
         "geo": "geo",
         "hovertemplate": "<b>%{hovertext}</b><br><br>Country=United Kingdom<br>AveragScore=%{marker.size}<br>latitude=%{lat}<br>longitude=%{lon}<extra></extra>",
         "hovertext": [
          "United Kingdom"
         ],
         "lat": {
          "bdata": "LJyk+WOwS0A=",
          "dtype": "f8"
         },
         "legendgroup": "United Kingdom",
         "lon": {
          "bdata": "F4OHad98C8A=",
          "dtype": "f8"
         },
         "marker": {
          "color": "#EF553B",
          "size": {
           "bdata": "zczMzMz8U0A=",
           "dtype": "f8"
          },
          "sizemode": "area",
          "sizeref": 1.7255102040816326,
          "symbol": "circle"
         },
         "mode": "markers",
         "name": "United Kingdom",
         "showlegend": true,
         "type": "scattergeo"
        },
        {
         "geo": "geo",
         "hovertemplate": "<b>%{hovertext}</b><br><br>Country=Canada<br>AveragScore=%{marker.size}<br>latitude=%{lat}<br>longitude=%{lon}<extra></extra>",
         "hovertext": [
          "Canada"
         ],
         "lat": {
          "bdata": "U0FF1a8QTEA=",
          "dtype": "f8"
         },
         "legendgroup": "Canada",
         "lon": {
          "bdata": "4Qz+fjGWWsA=",
          "dtype": "f8"
         },
         "marker": {
          "color": "#00cc96",
          "size": {
           "bdata": "SOF6FK7nU0A=",
           "dtype": "f8"
          },
          "sizemode": "area",
          "sizeref": 1.7255102040816326,
          "symbol": "circle"
         },
         "mode": "markers",
         "name": "Canada",
         "showlegend": true,
         "type": "scattergeo"
        },
        {
         "geo": "geo",
         "hovertemplate": "<b>%{hovertext}</b><br><br>Country=Austria<br>AveragScore=%{marker.size}<br>latitude=%{lat}<br>longitude=%{lon}<extra></extra>",
         "hovertext": [
          "Austria"
         ],
         "lat": {
          "bdata": "Nxd/2xPCR0A=",
          "dtype": "f8"
         },
         "legendgroup": "Austria",
         "lon": {
          "bdata": "AOSECaMZLUA=",
          "dtype": "f8"
         },
         "marker": {
          "color": "#ab63fa",
          "size": {
           "bdata": "uB6F61HYU0A=",
           "dtype": "f8"
          },
          "sizemode": "area",
          "sizeref": 1.7255102040816326,
          "symbol": "circle"
         },
         "mode": "markers",
         "name": "Austria",
         "showlegend": true,
         "type": "scattergeo"
        },
        {
         "geo": "geo",
         "hovertemplate": "<b>%{hovertext}</b><br><br>Country=Australia<br>AveragScore=%{marker.size}<br>latitude=%{lat}<br>longitude=%{lon}<extra></extra>",
         "hovertext": [
          "Australia"
         ],
         "lat": {
          "bdata": "exaE8j5GOcA=",
          "dtype": "f8"
         },
         "legendgroup": "Australia",
         "lon": {
          "bdata": "eT4D6s24YEA=",
          "dtype": "f8"
         },
         "marker": {
          "color": "#FFA15A",
          "size": {
           "bdata": "16NwPQrXU0A=",
           "dtype": "f8"
          },
          "sizemode": "area",
          "sizeref": 1.7255102040816326,
          "symbol": "circle"
         },
         "mode": "markers",
         "name": "Australia",
         "showlegend": true,
         "type": "scattergeo"
        },
        {
         "geo": "geo",
         "hovertemplate": "<b>%{hovertext}</b><br><br>Country=Japan<br>AveragScore=%{marker.size}<br>latitude=%{lat}<br>longitude=%{lon}<extra></extra>",
         "hovertext": [
          "Japan"
         ],
         "lat": {
          "bdata": "zLc+rDcaQkA=",
          "dtype": "f8"
         },
         "legendgroup": "Japan",
         "lon": {
          "bdata": "9IsS9BdIYUA=",
          "dtype": "f8"
         },
         "marker": {
          "color": "#19d3f3",
          "size": {
           "bdata": "rkfhehSOU0A=",
           "dtype": "f8"
          },
          "sizemode": "area",
          "sizeref": 1.7255102040816326,
          "symbol": "circle"
         },
         "mode": "markers",
         "name": "Japan",
         "showlegend": true,
         "type": "scattergeo"
        },
        {
         "geo": "geo",
         "hovertemplate": "<b>%{hovertext}</b><br><br>Country=Singapore<br>AveragScore=%{marker.size}<br>latitude=%{lat}<br>longitude=%{lon}<extra></extra>",
         "hovertext": [
          "Singapore"
         ],
         "lat": {
          "bdata": "HqSnyCGi9T8=",
          "dtype": "f8"
         },
         "legendgroup": "Singapore",
         "lon": {
          "bdata": "VwVqMXj0WUA=",
          "dtype": "f8"
         },
         "marker": {
          "color": "#FF6692",
          "size": {
           "bdata": "PQrXo3CNU0A=",
           "dtype": "f8"
          },
          "sizemode": "area",
          "sizeref": 1.7255102040816326,
          "symbol": "circle"
         },
         "mode": "markers",
         "name": "Singapore",
         "showlegend": true,
         "type": "scattergeo"
        },
        {
         "geo": "geo",
         "hovertemplate": "<b>%{hovertext}</b><br><br>Country=Belgium<br>AveragScore=%{marker.size}<br>latitude=%{lat}<br>longitude=%{lon}<extra></extra>",
         "hovertext": [
          "Belgium"
         ],
         "lat": {
          "bdata": "lfCEXn9ASUA=",
          "dtype": "f8"
         },
         "legendgroup": "Belgium",
         "lon": {
          "bdata": "K9oc5zbhEUA=",
          "dtype": "f8"
         },
         "marker": {
          "color": "#B6E880",
          "size": {
           "bdata": "9ihcj8J1U0A=",
           "dtype": "f8"
          },
          "sizemode": "area",
          "sizeref": 1.7255102040816326,
          "symbol": "circle"
         },
         "mode": "markers",
         "name": "Belgium",
         "showlegend": true,
         "type": "scattergeo"
        },
        {
         "geo": "geo",
         "hovertemplate": "<b>%{hovertext}</b><br><br>Country=United States<br>AveragScore=%{marker.size}<br>latitude=%{lat}<br>longitude=%{lon}<extra></extra>",
         "hovertext": [
          "United States"
         ],
         "lat": {
          "bdata": "QWX8+4yLQkA=",
          "dtype": "f8"
         },
         "legendgroup": "United States",
         "lon": {
          "bdata": "N6eSAaDtV8A=",
          "dtype": "f8"
         },
         "marker": {
          "color": "#FF97FF",
          "size": {
           "bdata": "XI/C9ShcU0A=",
           "dtype": "f8"
          },
          "sizemode": "area",
          "sizeref": 1.7255102040816326,
          "symbol": "circle"
         },
         "mode": "markers",
         "name": "United States",
         "showlegend": true,
         "type": "scattergeo"
        },
        {
         "geo": "geo",
         "hovertemplate": "<b>%{hovertext}</b><br><br>Country=Taiwan<br>AveragScore=%{marker.size}<br>latitude=%{lat}<br>longitude=%{lon}<extra></extra>",
         "hovertext": [
          "Taiwan"
         ],
         "lat": {
          "bdata": "X9IYraOyN0A=",
          "dtype": "f8"
         },
         "legendgroup": "Taiwan",
         "lon": {
          "bdata": "URToE3k9XkA=",
          "dtype": "f8"
         },
         "marker": {
          "color": "#FECB52",
          "size": {
           "bdata": "16NwPQpXU0A=",
           "dtype": "f8"
          },
          "sizemode": "area",
          "sizeref": 1.7255102040816326,
          "symbol": "circle"
         },
         "mode": "markers",
         "name": "Taiwan",
         "showlegend": true,
         "type": "scattergeo"
        },
        {
         "geo": "geo",
         "hovertemplate": "<b>%{hovertext}</b><br><br>Country=Estonia<br>AveragScore=%{marker.size}<br>latitude=%{lat}<br>longitude=%{lon}<extra></extra>",
         "hovertext": [
          "Estonia"
         ],
         "lat": {
          "bdata": "vRx23zFMTUA=",
          "dtype": "f8"
         },
         "legendgroup": "Estonia",
         "lon": {
          "bdata": "Jv+Tv3sDOUA=",
          "dtype": "f8"
         },
         "marker": {
          "color": "#636efa",
          "size": {
           "bdata": "pHA9CtdTU0A=",
           "dtype": "f8"
          },
          "sizemode": "area",
          "sizeref": 1.7255102040816326,
          "symbol": "circle"
         },
         "mode": "markers",
         "name": "Estonia",
         "showlegend": true,
         "type": "scattergeo"
        },
        {
         "geo": "geo",
         "hovertemplate": "<b>%{hovertext}</b><br><br>Country=Hong Kong<br>AveragScore=%{marker.size}<br>latitude=%{lat}<br>longitude=%{lon}<extra></extra>",
         "hovertext": [
          "Hong Kong"
         ],
         "lat": {
          "bdata": "/DcvTnxlNkA=",
          "dtype": "f8"
         },
         "legendgroup": "Hong Kong",
         "lon": {
          "bdata": "poC0/wGHXEA=",
          "dtype": "f8"
         },
         "marker": {
          "color": "#EF553B",
          "size": {
           "bdata": "mpmZmZk5U0A=",
           "dtype": "f8"
          },
          "sizemode": "area",
          "sizeref": 1.7255102040816326,
          "symbol": "circle"
         },
         "mode": "markers",
         "name": "Hong Kong",
         "showlegend": true,
         "type": "scattergeo"
        },
        {
         "geo": "geo",
         "hovertemplate": "<b>%{hovertext}</b><br><br>Country=France<br>AveragScore=%{marker.size}<br>latitude=%{lat}<br>longitude=%{lon}<extra></extra>",
         "hovertext": [
          "France"
         ],
         "lat": {
          "bdata": "1qnyPSMdR0A=",
          "dtype": "f8"
         },
         "legendgroup": "France",
         "lon": {
          "bdata": "8GskCcK1AUA=",
          "dtype": "f8"
         },
         "marker": {
          "color": "#00cc96",
          "size": {
           "bdata": "H4XrUbguU0A=",
           "dtype": "f8"
          },
          "sizemode": "area",
          "sizeref": 1.7255102040816326,
          "symbol": "circle"
         },
         "mode": "markers",
         "name": "France",
         "showlegend": true,
         "type": "scattergeo"
        },
        {
         "geo": "geo",
         "hovertemplate": "<b>%{hovertext}</b><br><br>Country=Spain<br>AveragScore=%{marker.size}<br>latitude=%{lat}<br>longitude=%{lon}<extra></extra>",
         "hovertext": [
          "Spain"
         ],
         "lat": {
          "bdata": "Ap60cFk7REA=",
          "dtype": "f8"
         },
         "legendgroup": "Spain",
         "lon": {
          "bdata": "rhIsDmf+DcA=",
          "dtype": "f8"
         },
         "marker": {
          "color": "#ab63fa",
          "size": {
           "bdata": "UrgehesBU0A=",
           "dtype": "f8"
          },
          "sizemode": "area",
          "sizeref": 1.7255102040816326,
          "symbol": "circle"
         },
         "mode": "markers",
         "name": "Spain",
         "showlegend": true,
         "type": "scattergeo"
        },
        {
         "geo": "geo",
         "hovertemplate": "<b>%{hovertext}</b><br><br>Country=Czech Republic<br>AveragScore=%{marker.size}<br>latitude=%{lat}<br>longitude=%{lon}<extra></extra>",
         "hovertext": [
          "Czech Republic"
         ],
         "lat": {
          "bdata": "7l7uk6PoSEA=",
          "dtype": "f8"
         },
         "legendgroup": "Czech Republic",
         "lon": {
          "bdata": "Y4BEEyjyLkA=",
          "dtype": "f8"
         },
         "marker": {
          "color": "#FFA15A",
          "size": {
           "bdata": "hetRuB7FUkA=",
           "dtype": "f8"
          },
          "sizemode": "area",
          "sizeref": 1.7255102040816326,
          "symbol": "circle"
         },
         "mode": "markers",
         "name": "Czech Republic",
         "showlegend": true,
         "type": "scattergeo"
        },
        {
         "geo": "geo",
         "hovertemplate": "<b>%{hovertext}</b><br><br>Country=Portugal<br>AveragScore=%{marker.size}<br>latitude=%{lat}<br>longitude=%{lon}<extra></extra>",
         "hovertext": [
          "Portugal"
         ],
         "lat": {
          "bdata": "Bkt1AS+zQ0A=",
          "dtype": "f8"
         },
         "legendgroup": "Portugal",
         "lon": {
          "bdata": "q+l6outyIMA=",
          "dtype": "f8"
         },
         "marker": {
          "color": "#19d3f3",
          "size": {
           "bdata": "KVyPwvWoUkA=",
           "dtype": "f8"
          },
          "sizemode": "area",
          "sizeref": 1.7255102040816326,
          "symbol": "circle"
         },
         "mode": "markers",
         "name": "Portugal",
         "showlegend": true,
         "type": "scattergeo"
        },
        {
         "geo": "geo",
         "hovertemplate": "<b>%{hovertext}</b><br><br>Country=Slovenia<br>AveragScore=%{marker.size}<br>latitude=%{lat}<br>longitude=%{lon}<extra></extra>",
         "hovertext": [
          "Slovenia"
         ],
         "lat": {
          "bdata": "PGh23VsTR0A=",
          "dtype": "f8"
         },
         "legendgroup": "Slovenia",
         "lon": {
          "bdata": "kMGKU639LUA=",
          "dtype": "f8"
         },
         "marker": {
          "color": "#FF6692",
          "size": {
           "bdata": "w/UoXI+iUkA=",
           "dtype": "f8"
          },
          "sizemode": "area",
          "sizeref": 1.7255102040816326,
          "symbol": "circle"
         },
         "mode": "markers",
         "name": "Slovenia",
         "showlegend": true,
         "type": "scattergeo"
        },
        {
         "geo": "geo",
         "hovertemplate": "<b>%{hovertext}</b><br><br>Country=Malta<br>AveragScore=%{marker.size}<br>latitude=%{lat}<br>longitude=%{lon}<extra></extra>",
         "hovertext": [
          "Malta"
         ],
         "lat": {
          "bdata": "vxBy3v/3QUA=",
          "dtype": "f8"
         },
         "legendgroup": "Malta",
         "lon": {
          "bdata": "T8qkhjbALEA=",
          "dtype": "f8"
         },
         "marker": {
          "color": "#B6E880",
          "size": {
           "bdata": "16NwPQqXUkA=",
           "dtype": "f8"
          },
          "sizemode": "area",
          "sizeref": 1.7255102040816326,
          "symbol": "circle"
         },
         "mode": "markers",
         "name": "Malta",
         "showlegend": true,
         "type": "scattergeo"
        },
        {
         "geo": "geo",
         "hovertemplate": "<b>%{hovertext}</b><br><br>Country=South Korea<br>AveragScore=%{marker.size}<br>latitude=%{lat}<br>longitude=%{lon}<extra></extra>",
         "hovertext": [
          "South Korea"
         ],
         "lat": {
          "bdata": "h9uhYTH0QUA=",
          "dtype": "f8"
         },
         "legendgroup": "South Korea",
         "lon": {
          "bdata": "TiUDQBXxX0A=",
          "dtype": "f8"
         },
         "marker": {
          "color": "#FF97FF",
          "size": {
           "bdata": "FK5H4XqEUkA=",
           "dtype": "f8"
          },
          "sizemode": "area",
          "sizeref": 1.7255102040816326,
          "symbol": "circle"
         },
         "mode": "markers",
         "name": "South Korea",
         "showlegend": true,
         "type": "scattergeo"
        },
        {
         "geo": "geo",
         "hovertemplate": "<b>%{hovertext}</b><br><br>Country=Italy<br>AveragScore=%{marker.size}<br>latitude=%{lat}<br>longitude=%{lon}<extra></extra>",
         "hovertext": [
          "Italy"
         ],
         "lat": {
          "bdata": "gQncupvvREA=",
          "dtype": "f8"
         },
         "legendgroup": "Italy",
         "lon": {
          "bdata": "GM+goX8iKUA=",
          "dtype": "f8"
         },
         "marker": {
          "color": "#FECB52",
          "size": {
           "bdata": "UrgehetBUkA=",
           "dtype": "f8"
          },
          "sizemode": "area",
          "sizeref": 1.7255102040816326,
          "symbol": "circle"
         },
         "mode": "markers",
         "name": "Italy",
         "showlegend": true,
         "type": "scattergeo"
        },
        {
         "geo": "geo",
         "hovertemplate": "<b>%{hovertext}</b><br><br>Country=Latvia<br>AveragScore=%{marker.size}<br>latitude=%{lat}<br>longitude=%{lon}<extra></extra>",
         "hovertext": [
          "Latvia"
         ],
         "lat": {
          "bdata": "X7Uy4ZdwTEA=",
          "dtype": "f8"
         },
         "legendgroup": "Latvia",
         "lon": {
          "bdata": "lE4kmGqaOEA=",
          "dtype": "f8"
         },
         "marker": {
          "color": "#636efa",
          "size": {
           "bdata": "j8L1KFw/UkA=",
           "dtype": "f8"
          },
          "sizemode": "area",
          "sizeref": 1.7255102040816326,
          "symbol": "circle"
         },
         "mode": "markers",
         "name": "Latvia",
         "showlegend": true,
         "type": "scattergeo"
        },
        {
         "geo": "geo",
         "hovertemplate": "<b>%{hovertext}</b><br><br>Country=Lithuania<br>AveragScore=%{marker.size}<br>latitude=%{lat}<br>longitude=%{lon}<extra></extra>",
         "hovertext": [
          "Lithuania"
         ],
         "lat": {
          "bdata": "jln2JLCVS0A=",
          "dtype": "f8"
         },
         "legendgroup": "Lithuania",
         "lon": {
          "bdata": "S8gHPZvhN0A=",
          "dtype": "f8"
         },
         "marker": {
          "color": "#EF553B",
          "size": {
           "bdata": "w/UoXI8iUkA=",
           "dtype": "f8"
          },
          "sizemode": "area",
          "sizeref": 1.7255102040816326,
          "symbol": "circle"
         },
         "mode": "markers",
         "name": "Lithuania",
         "showlegend": true,
         "type": "scattergeo"
        },
        {
         "geo": "geo",
         "hovertemplate": "<b>%{hovertext}</b><br><br>Country=Israel<br>AveragScore=%{marker.size}<br>latitude=%{lat}<br>longitude=%{lon}<extra></extra>",
         "hovertext": [
          "Israel"
         ],
         "lat": {
          "bdata": "tvKS/8kLP0A=",
          "dtype": "f8"
         },
         "legendgroup": "Israel",
         "lon": {
          "bdata": "ynA8nwFtQUA=",
          "dtype": "f8"
         },
         "marker": {
          "color": "#00cc96",
          "size": {
           "bdata": "AAAAAAAQUkA=",
           "dtype": "f8"
          },
          "sizemode": "area",
          "sizeref": 1.7255102040816326,
          "symbol": "circle"
         },
         "mode": "markers",
         "name": "Israel",
         "showlegend": true,
         "type": "scattergeo"
        },
        {
         "geo": "geo",
         "hovertemplate": "<b>%{hovertext}</b><br><br>Country=Cyprus<br>AveragScore=%{marker.size}<br>latitude=%{lat}<br>longitude=%{lon}<extra></extra>",
         "hovertext": [
          "Cyprus"
         ],
         "lat": {
          "bdata": "BmUaTS6QQUA=",
          "dtype": "f8"
         },
         "legendgroup": "Cyprus",
         "lon": {
          "bdata": "FXKlngW3QEA=",
          "dtype": "f8"
         },
         "marker": {
          "color": "#ab63fa",
          "size": {
           "bdata": "FK5H4Xr0UUA=",
           "dtype": "f8"
          },
          "sizemode": "area",
          "sizeref": 1.7255102040816326,
          "symbol": "circle"
         },
         "mode": "markers",
         "name": "Cyprus",
         "showlegend": true,
         "type": "scattergeo"
        },
        {
         "geo": "geo",
         "hovertemplate": "<b>%{hovertext}</b><br><br>Country=Slovakia<br>AveragScore=%{marker.size}<br>latitude=%{lat}<br>longitude=%{lon}<extra></extra>",
         "hovertext": [
          "Slovakia"
         ],
         "lat": {
          "bdata": "PBbbpKJVSEA=",
          "dtype": "f8"
         },
         "legendgroup": "Slovakia",
         "lon": {
          "bdata": "fh6jPPOyM0A=",
          "dtype": "f8"
         },
         "marker": {
          "color": "#FFA15A",
          "size": {
           "bdata": "mpmZmZnJUUA=",
           "dtype": "f8"
          },
          "sizemode": "area",
          "sizeref": 1.7255102040816326,
          "symbol": "circle"
         },
         "mode": "markers",
         "name": "Slovakia",
         "showlegend": true,
         "type": "scattergeo"
        },
        {
         "geo": "geo",
         "hovertemplate": "<b>%{hovertext}</b><br><br>Country=Chile<br>AveragScore=%{marker.size}<br>latitude=%{lat}<br>longitude=%{lon}<extra></extra>",
         "hovertext": [
          "Chile"
         ],
         "lat": {
          "bdata": "C3+GN2vWQcA=",
          "dtype": "f8"
         },
         "legendgroup": "Chile",
         "lon": {
          "bdata": "em8MAcDiUcA=",
          "dtype": "f8"
         },
         "marker": {
          "color": "#19d3f3",
          "size": {
           "bdata": "7FG4HoWLUUA=",
           "dtype": "f8"
          },
          "sizemode": "area",
          "sizeref": 1.7255102040816326,
          "symbol": "circle"
         },
         "mode": "markers",
         "name": "Chile",
         "showlegend": true,
         "type": "scattergeo"
        },
        {
         "geo": "geo",
         "hovertemplate": "<b>%{hovertext}</b><br><br>Country=Poland<br>AveragScore=%{marker.size}<br>latitude=%{lat}<br>longitude=%{lon}<extra></extra>",
         "hovertext": [
          "Poland"
         ],
         "lat": {
          "bdata": "jln2JLD1SUA=",
          "dtype": "f8"
         },
         "legendgroup": "Poland",
         "lon": {
          "bdata": "5ngFoiclM0A=",
          "dtype": "f8"
         },
         "marker": {
          "color": "#FF6692",
          "size": {
           "bdata": "mpmZmZmJUUA=",
           "dtype": "f8"
          },
          "sizemode": "area",
          "sizeref": 1.7255102040816326,
          "symbol": "circle"
         },
         "mode": "markers",
         "name": "Poland",
         "showlegend": true,
         "type": "scattergeo"
        },
        {
         "geo": "geo",
         "hovertemplate": "<b>%{hovertext}</b><br><br>Country=Uruguay<br>AveragScore=%{marker.size}<br>latitude=%{lat}<br>longitude=%{lon}<extra></extra>",
         "hovertext": [
          "Uruguay"
         ],
         "lat": {
          "bdata": "jgQabOpCQMA=",
          "dtype": "f8"
         },
         "legendgroup": "Uruguay",
         "lon": {
          "bdata": "65Cb4QbiS8A=",
          "dtype": "f8"
         },
         "marker": {
          "color": "#B6E880",
          "size": {
           "bdata": "XI/C9ShsUUA=",
           "dtype": "f8"
          },
          "sizemode": "area",
          "sizeref": 1.7255102040816326,
          "symbol": "circle"
         },
         "mode": "markers",
         "name": "Uruguay",
         "showlegend": true,
         "type": "scattergeo"
        },
        {
         "geo": "geo",
         "hovertemplate": "<b>%{hovertext}</b><br><br>Country=Costa Rica<br>AveragScore=%{marker.size}<br>latitude=%{lat}<br>longitude=%{lon}<extra></extra>",
         "hovertext": [
          "Costa Rica"
         ],
         "lat": {
          "bdata": "PdaMDHJ/I0A=",
          "dtype": "f8"
         },
         "legendgroup": "Costa Rica",
         "lon": {
          "bdata": "AfkSKjjwVMA=",
          "dtype": "f8"
         },
         "marker": {
          "color": "#FF97FF",
          "size": {
           "bdata": "9ihcj8JlUUA=",
           "dtype": "f8"
          },
          "sizemode": "area",
          "sizeref": 1.7255102040816326,
          "symbol": "circle"
         },
         "mode": "markers",
         "name": "Costa Rica",
         "showlegend": true,
         "type": "scattergeo"
        },
        {
         "geo": "geo",
         "hovertemplate": "<b>%{hovertext}</b><br><br>Country=Greece<br>AveragScore=%{marker.size}<br>latitude=%{lat}<br>longitude=%{lon}<extra></extra>",
         "hovertext": [
          "Greece"
         ],
         "lat": {
          "bdata": "AI3SpX+JQ0A=",
          "dtype": "f8"
         },
         "legendgroup": "Greece",
         "lon": {
          "bdata": "SrN5HAbTNUA=",
          "dtype": "f8"
         },
         "marker": {
          "color": "#FECB52",
          "size": {
           "bdata": "H4XrUbgeUUA=",
           "dtype": "f8"
          },
          "sizemode": "area",
          "sizeref": 1.7255102040816326,
          "symbol": "circle"
         },
         "mode": "markers",
         "name": "Greece",
         "showlegend": true,
         "type": "scattergeo"
        },
        {
         "geo": "geo",
         "hovertemplate": "<b>%{hovertext}</b><br><br>Country=Croatia<br>AveragScore=%{marker.size}<br>latitude=%{lat}<br>longitude=%{lon}<extra></extra>",
         "hovertext": [
          "Croatia"
         ],
         "lat": {
          "bdata": "zczMzMyMRkA=",
          "dtype": "f8"
         },
         "legendgroup": "Croatia",
         "lon": {
          "bdata": "ZmZmZmZmLkA=",
          "dtype": "f8"
         },
         "marker": {
          "color": "#636efa",
          "size": {
           "bdata": "j8L1KFwPUUA=",
           "dtype": "f8"
          },
          "sizemode": "area",
          "sizeref": 1.7255102040816326,
          "symbol": "circle"
         },
         "mode": "markers",
         "name": "Croatia",
         "showlegend": true,
         "type": "scattergeo"
        },
        {
         "geo": "geo",
         "hovertemplate": "<b>%{hovertext}</b><br><br>Country=Hungary<br>AveragScore=%{marker.size}<br>latitude=%{lat}<br>longitude=%{lon}<extra></extra>",
         "hovertext": [
          "Hungary"
         ],
         "lat": {
          "bdata": "6+V3msyUR0A=",
          "dtype": "f8"
         },
         "legendgroup": "Hungary",
         "lon": {
          "bdata": "LPLrh9iAM0A=",
          "dtype": "f8"
         },
         "marker": {
          "color": "#EF553B",
          "size": {
           "bdata": "uB6F61G4UEA=",
           "dtype": "f8"
          },
          "sizemode": "area",
          "sizeref": 1.7255102040816326,
          "symbol": "circle"
         },
         "mode": "markers",
         "name": "Hungary",
         "showlegend": true,
         "type": "scattergeo"
        },
        {
         "geo": "geo",
         "hovertemplate": "<b>%{hovertext}</b><br><br>Country=Malaysia<br>AveragScore=%{marker.size}<br>latitude=%{lat}<br>longitude=%{lon}<extra></extra>",
         "hovertext": [
          "Malaysia"
         ],
         "lat": {
          "bdata": "N1MhHonXEEA=",
          "dtype": "f8"
         },
         "legendgroup": "Malaysia",
         "lon": {
          "bdata": "HqM883J+WUA=",
          "dtype": "f8"
         },
         "marker": {
          "color": "#00cc96",
          "size": {
           "bdata": "9ihcj8K1UEA=",
           "dtype": "f8"
          },
          "sizemode": "area",
          "sizeref": 1.7255102040816326,
          "symbol": "circle"
         },
         "mode": "markers",
         "name": "Malaysia",
         "showlegend": true,
         "type": "scattergeo"
        },
        {
         "geo": "geo",
         "hovertemplate": "<b>%{hovertext}</b><br><br>Country=United Arab Emirates<br>AveragScore=%{marker.size}<br>latitude=%{lat}<br>longitude=%{lon}<extra></extra>",
         "hovertext": [
          "United Arab Emirates"
         ],
         "lat": {
          "bdata": "vASnPpBsN0A=",
          "dtype": "f8"
         },
         "legendgroup": "United Arab Emirates",
         "lon": {
          "bdata": "5XrbTIXsSkA=",
          "dtype": "f8"
         },
         "marker": {
          "color": "#ab63fa",
          "size": {
           "bdata": "XI/C9SisUEA=",
           "dtype": "f8"
          },
          "sizemode": "area",
          "sizeref": 1.7255102040816326,
          "symbol": "circle"
         },
         "mode": "markers",
         "name": "United Arab Emirates",
         "showlegend": true,
         "type": "scattergeo"
        },
        {
         "geo": "geo",
         "hovertemplate": "<b>%{hovertext}</b><br><br>Country=Romania<br>AveragScore=%{marker.size}<br>latitude=%{lat}<br>longitude=%{lon}<extra></extra>",
         "hovertext": [
          "Romania"
         ],
         "lat": {
          "bdata": "bO7of7n4RkA=",
          "dtype": "f8"
         },
         "legendgroup": "Romania",
         "lon": {
          "bdata": "uhRXlX33OEA=",
          "dtype": "f8"
         },
         "marker": {
          "color": "#FFA15A",
          "size": {
           "bdata": "mpmZmZmZUEA=",
           "dtype": "f8"
          },
          "sizemode": "area",
          "sizeref": 1.7255102040816326,
          "symbol": "circle"
         },
         "mode": "markers",
         "name": "Romania",
         "showlegend": true,
         "type": "scattergeo"
        },
        {
         "geo": "geo",
         "hovertemplate": "<b>%{hovertext}</b><br><br>Country=Qatar<br>AveragScore=%{marker.size}<br>latitude=%{lat}<br>longitude=%{lon}<extra></extra>",
         "hovertext": [
          "Qatar"
         ],
         "lat": {
          "bdata": "P8Vx4NVaOUA=",
          "dtype": "f8"
         },
         "legendgroup": "Qatar",
         "lon": {
          "bdata": "+yDLgomXSUA=",
          "dtype": "f8"
         },
         "marker": {
          "color": "#19d3f3",
          "size": {
           "bdata": "j8L1KFyPUEA=",
           "dtype": "f8"
          },
          "sizemode": "area",
          "sizeref": 1.7255102040816326,
          "symbol": "circle"
         },
         "mode": "markers",
         "name": "Qatar",
         "showlegend": true,
         "type": "scattergeo"
        },
        {
         "geo": "geo",
         "hovertemplate": "<b>%{hovertext}</b><br><br>Country=Mauritius<br>AveragScore=%{marker.size}<br>latitude=%{lat}<br>longitude=%{lon}<extra></extra>",
         "hovertext": [
          "Mauritius"
         ],
         "lat": {
          "bdata": "q8spATFZNMA=",
          "dtype": "f8"
         },
         "legendgroup": "Mauritius",
         "lon": {
          "bdata": "4zWv6qzGTEA=",
          "dtype": "f8"
         },
         "marker": {
          "color": "#FF6692",
          "size": {
           "bdata": "mpmZmZlpUEA=",
           "dtype": "f8"
          },
          "sizemode": "area",
          "sizeref": 1.7255102040816326,
          "symbol": "circle"
         },
         "mode": "markers",
         "name": "Mauritius",
         "showlegend": true,
         "type": "scattergeo"
        },
        {
         "geo": "geo",
         "hovertemplate": "<b>%{hovertext}</b><br><br>Country=Bulgaria<br>AveragScore=%{marker.size}<br>latitude=%{lat}<br>longitude=%{lon}<extra></extra>",
         "hovertext": [
          "Bulgaria"
         ],
         "lat": {
          "bdata": "kQvO4O9dRUA=",
          "dtype": "f8"
         },
         "legendgroup": "Bulgaria",
         "lon": {
          "bdata": "amrZWl98OUA=",
          "dtype": "f8"
         },
         "marker": {
          "color": "#B6E880",
          "size": {
           "bdata": "MzMzMzNjUEA=",
           "dtype": "f8"
          },
          "sizemode": "area",
          "sizeref": 1.7255102040816326,
          "symbol": "circle"
         },
         "mode": "markers",
         "name": "Bulgaria",
         "showlegend": true,
         "type": "scattergeo"
        },
        {
         "geo": "geo",
         "hovertemplate": "<b>%{hovertext}</b><br><br>Country=Montenegro<br>AveragScore=%{marker.size}<br>latitude=%{lat}<br>longitude=%{lon}<extra></extra>",
         "hovertext": [
          "Montenegro"
         ],
         "lat": {
          "bdata": "hbLw9bVaRUA=",
          "dtype": "f8"
         },
         "legendgroup": "Montenegro",
         "lon": {
          "bdata": "DvPlBdhfM0A=",
          "dtype": "f8"
         },
         "marker": {
          "color": "#FF97FF",
          "size": {
           "bdata": "cT0K16NAUEA=",
           "dtype": "f8"
          },
          "sizemode": "area",
          "sizeref": 1.7255102040816326,
          "symbol": "circle"
         },
         "mode": "markers",
         "name": "Montenegro",
         "showlegend": true,
         "type": "scattergeo"
        },
        {
         "geo": "geo",
         "hovertemplate": "<b>%{hovertext}</b><br><br>Country=Panama<br>AveragScore=%{marker.size}<br>latitude=%{lat}<br>longitude=%{lon}<extra></extra>",
         "hovertext": [
          "Panama"
         ],
         "lat": {
          "bdata": "H73hPnITIUA=",
          "dtype": "f8"
         },
         "legendgroup": "Panama",
         "lon": {
          "bdata": "ZJRnXg4yVMA=",
          "dtype": "f8"
         },
         "marker": {
          "color": "#FECB52",
          "size": {
           "bdata": "FK5H4XoUUEA=",
           "dtype": "f8"
          },
          "sizemode": "area",
          "sizeref": 1.7255102040816326,
          "symbol": "circle"
         },
         "mode": "markers",
         "name": "Panama",
         "showlegend": true,
         "type": "scattergeo"
        },
        {
         "geo": "geo",
         "hovertemplate": "<b>%{hovertext}</b><br><br>Country=Seychelles<br>AveragScore=%{marker.size}<br>latitude=%{lat}<br>longitude=%{lon}<extra></extra>",
         "hovertext": [
          "Seychelles"
         ],
         "lat": {
          "bdata": "/dgkP+K3EsA=",
          "dtype": "f8"
         },
         "legendgroup": "Seychelles",
         "lon": {
          "bdata": "LbEyGvm+S0A=",
          "dtype": "f8"
         },
         "marker": {
          "color": "#636efa",
          "size": {
           "bdata": "MzMzMzPTT0A=",
           "dtype": "f8"
          },
          "sizemode": "area",
          "sizeref": 1.7255102040816326,
          "symbol": "circle"
         },
         "mode": "markers",
         "name": "Seychelles",
         "showlegend": true,
         "type": "scattergeo"
        },
        {
         "geo": "geo",
         "hovertemplate": "<b>%{hovertext}</b><br><br>Country=Serbia<br>AveragScore=%{marker.size}<br>latitude=%{lat}<br>longitude=%{lon}<extra></extra>",
         "hovertext": [
          "Serbia"
         ],
         "lat": {
          "bdata": "PlkxXB0CRkA=",
          "dtype": "f8"
         },
         "legendgroup": "Serbia",
         "lon": {
          "bdata": "JGO1+X8BNUA=",
          "dtype": "f8"
         },
         "marker": {
          "color": "#EF553B",
          "size": {
           "bdata": "AAAAAABgT0A=",
           "dtype": "f8"
          },
          "sizemode": "area",
          "sizeref": 1.7255102040816326,
          "symbol": "circle"
         },
         "mode": "markers",
         "name": "Serbia",
         "showlegend": true,
         "type": "scattergeo"
        },
        {
         "geo": "geo",
         "hovertemplate": "<b>%{hovertext}</b><br><br>Country=Georgia<br>AveragScore=%{marker.size}<br>latitude=%{lat}<br>longitude=%{lon}<extra></extra>",
         "hovertext": [
          "Georgia"
         ],
         "lat": {
          "bdata": "+fauQV8oRUA=",
          "dtype": "f8"
         },
         "legendgroup": "Georgia",
         "lon": {
          "bdata": "HhoWo66tRUA=",
          "dtype": "f8"
         },
         "marker": {
          "color": "#00cc96",
          "size": {
           "bdata": "pHA9CtcjT0A=",
           "dtype": "f8"
          },
          "sizemode": "area",
          "sizeref": 1.7255102040816326,
          "symbol": "circle"
         },
         "mode": "markers",
         "name": "Georgia",
         "showlegend": true,
         "type": "scattergeo"
        },
        {
         "geo": "geo",
         "hovertemplate": "<b>%{hovertext}</b><br><br>Country=China<br>AveragScore=%{marker.size}<br>latitude=%{lat}<br>longitude=%{lon}<extra></extra>",
         "hovertext": [
          "China"
         ],
         "lat": {
          "bdata": "vCL430ruQUA=",
          "dtype": "f8"
         },
         "legendgroup": "China",
         "lon": {
          "bdata": "Iy9rYoEMWkA=",
          "dtype": "f8"
         },
         "marker": {
          "color": "#ab63fa",
          "size": {
           "bdata": "MzMzMzMTT0A=",
           "dtype": "f8"
          },
          "sizemode": "area",
          "sizeref": 1.7255102040816326,
          "symbol": "circle"
         },
         "mode": "markers",
         "name": "China",
         "showlegend": true,
         "type": "scattergeo"
        },
        {
         "geo": "geo",
         "hovertemplate": "<b>%{hovertext}</b><br><br>Country=Trinidad and Tobago<br>AveragScore=%{marker.size}<br>latitude=%{lat}<br>longitude=%{lon}<extra></extra>",
         "hovertext": [
          "Trinidad and Tobago"
         ],
         "lat": {
          "bdata": "pIy4ADRiJUA=",
          "dtype": "f8"
         },
         "legendgroup": "Trinidad and Tobago",
         "lon": {
          "bdata": "hiFy+nqcTsA=",
          "dtype": "f8"
         },
         "marker": {
          "color": "#FFA15A",
          "size": {
           "bdata": "FK5H4Xr0TkA=",
           "dtype": "f8"
          },
          "sizemode": "area",
          "sizeref": 1.7255102040816326,
          "symbol": "circle"
         },
         "mode": "markers",
         "name": "Trinidad and Tobago",
         "showlegend": true,
         "type": "scattergeo"
        },
        {
         "geo": "geo",
         "hovertemplate": "<b>%{hovertext}</b><br><br>Country=Jamaica<br>AveragScore=%{marker.size}<br>latitude=%{lat}<br>longitude=%{lon}<extra></extra>",
         "hovertext": [
          "Jamaica"
         ],
         "lat": {
          "bdata": "UkMbgA0cMkA=",
          "dtype": "f8"
         },
         "legendgroup": "Jamaica",
         "lon": {
          "bdata": "GJP+XgpTU8A=",
          "dtype": "f8"
         },
         "marker": {
          "color": "#19d3f3",
          "size": {
           "bdata": "UrgeheuxTkA=",
           "dtype": "f8"
          },
          "sizemode": "area",
          "sizeref": 1.7255102040816326,
          "symbol": "circle"
         },
         "mode": "markers",
         "name": "Jamaica",
         "showlegend": true,
         "type": "scattergeo"
        },
        {
         "geo": "geo",
         "hovertemplate": "<b>%{hovertext}</b><br><br>Country=Argentina<br>AveragScore=%{marker.size}<br>latitude=%{lat}<br>longitude=%{lon}<extra></extra>",
         "hovertext": [
          "Argentina"
         ],
         "lat": {
          "bdata": "W3ufqkI1Q8A=",
          "dtype": "f8"
         },
         "legendgroup": "Argentina",
         "lon": {
          "bdata": "8S2sG+/OT8A=",
          "dtype": "f8"
         },
         "marker": {
          "color": "#FF6692",
          "size": {
           "bdata": "cT0K16OwTkA=",
           "dtype": "f8"
          },
          "sizemode": "area",
          "sizeref": 1.7255102040816326,
          "symbol": "circle"
         },
         "mode": "markers",
         "name": "Argentina",
         "showlegend": true,
         "type": "scattergeo"
        },
        {
         "geo": "geo",
         "hovertemplate": "<b>%{hovertext}</b><br><br>Country=Peru<br>AveragScore=%{marker.size}<br>latitude=%{lat}<br>longitude=%{lon}<extra></extra>",
         "hovertext": [
          "Peru"
         ],
         "lat": {
          "bdata": "cqPIWkNhIsA=",
          "dtype": "f8"
         },
         "legendgroup": "Peru",
         "lon": {
          "bdata": "BB4YQPjAUsA=",
          "dtype": "f8"
         },
         "marker": {
          "color": "#B6E880",
          "size": {
           "bdata": "w/UoXI+iTkA=",
           "dtype": "f8"
          },
          "sizemode": "area",
          "sizeref": 1.7255102040816326,
          "symbol": "circle"
         },
         "mode": "markers",
         "name": "Peru",
         "showlegend": true,
         "type": "scattergeo"
        },
        {
         "geo": "geo",
         "hovertemplate": "<b>%{hovertext}</b><br><br>Country=Kuwait<br>AveragScore=%{marker.size}<br>latitude=%{lat}<br>longitude=%{lon}<extra></extra>",
         "hovertext": [
          "Kuwait"
         ],
         "lat": {
          "bdata": "q3gj88hPPUA=",
          "dtype": "f8"
         },
         "legendgroup": "Kuwait",
         "lon": {
          "bdata": "kSkfgqq9R0A=",
          "dtype": "f8"
         },
         "marker": {
          "color": "#FF97FF",
          "size": {
           "bdata": "16NwPQp3TkA=",
           "dtype": "f8"
          },
          "sizemode": "area",
          "sizeref": 1.7255102040816326,
          "symbol": "circle"
         },
         "mode": "markers",
         "name": "Kuwait",
         "showlegend": true,
         "type": "scattergeo"
        },
        {
         "geo": "geo",
         "hovertemplate": "<b>%{hovertext}</b><br><br>Country=Armenia<br>AveragScore=%{marker.size}<br>latitude=%{lat}<br>longitude=%{lon}<extra></extra>",
         "hovertext": [
          "Armenia"
         ],
         "lat": {
          "bdata": "2ZdsPNgIREA=",
          "dtype": "f8"
         },
         "legendgroup": "Armenia",
         "lon": {
          "bdata": "kgiNYOOERkA=",
          "dtype": "f8"
         },
         "marker": {
          "color": "#FECB52",
          "size": {
           "bdata": "9ihcj8J1TkA=",
           "dtype": "f8"
          },
          "sizemode": "area",
          "sizeref": 1.7255102040816326,
          "symbol": "circle"
         },
         "mode": "markers",
         "name": "Armenia",
         "showlegend": true,
         "type": "scattergeo"
        },
        {
         "geo": "geo",
         "hovertemplate": "<b>%{hovertext}</b><br><br>Country=Bahrain<br>AveragScore=%{marker.size}<br>latitude=%{lat}<br>longitude=%{lon}<extra></extra>",
         "hovertext": [
          "Bahrain"
         ],
         "lat": {
          "bdata": "lL2lnC/uOUA=",
          "dtype": "f8"
         },
         "legendgroup": "Bahrain",
         "lon": {
          "bdata": "+iZNg6JRSUA=",
          "dtype": "f8"
         },
         "marker": {
          "color": "#636efa",
          "size": {
           "bdata": "9ihcj8J1TkA=",
           "dtype": "f8"
          },
          "sizemode": "area",
          "sizeref": 1.7255102040816326,
          "symbol": "circle"
         },
         "mode": "markers",
         "name": "Bahrain",
         "showlegend": true,
         "type": "scattergeo"
        },
        {
         "geo": "geo",
         "hovertemplate": "<b>%{hovertext}</b><br><br>Country=Indonesia<br>AveragScore=%{marker.size}<br>latitude=%{lat}<br>longitude=%{lon}<extra></extra>",
         "hovertext": [
          "Indonesia"
         ],
         "lat": {
          "bdata": "4JwRpb1B6b8=",
          "dtype": "f8"
         },
         "legendgroup": "Indonesia",
         "lon": {
          "bdata": "/3qFBfd6XEA=",
          "dtype": "f8"
         },
         "marker": {
          "color": "#EF553B",
          "size": {
           "bdata": "cT0K16NwTkA=",
           "dtype": "f8"
          },
          "sizemode": "area",
          "sizeref": 1.7255102040816326,
          "symbol": "circle"
         },
         "mode": "markers",
         "name": "Indonesia",
         "showlegend": true,
         "type": "scattergeo"
        },
        {
         "geo": "geo",
         "hovertemplate": "<b>%{hovertext}</b><br><br>Country=Thailand<br>AveragScore=%{marker.size}<br>latitude=%{lat}<br>longitude=%{lon}<extra></extra>",
         "hovertext": [
          "Thailand"
         ],
         "lat": {
          "bdata": "a/KU1XS9L0A=",
          "dtype": "f8"
         },
         "legendgroup": "Thailand",
         "lon": {
          "bdata": "G7yvyoU/WUA=",
          "dtype": "f8"
         },
         "marker": {
          "color": "#00cc96",
          "size": {
           "bdata": "hetRuB5lTkA=",
           "dtype": "f8"
          },
          "sizemode": "area",
          "sizeref": 1.7255102040816326,
          "symbol": "circle"
         },
         "mode": "markers",
         "name": "Thailand",
         "showlegend": true,
         "type": "scattergeo"
        },
        {
         "geo": "geo",
         "hovertemplate": "<b>%{hovertext}</b><br><br>Country=Albania<br>AveragScore=%{marker.size}<br>latitude=%{lat}<br>longitude=%{lon}<extra></extra>",
         "hovertext": [
          "Albania"
         ],
         "lat": {
          "bdata": "E7cKYqCTREA=",
          "dtype": "f8"
         },
         "legendgroup": "Albania",
         "lon": {
          "bdata": "KeeLvRcrNEA=",
          "dtype": "f8"
         },
         "marker": {
          "color": "#ab63fa",
          "size": {
           "bdata": "uB6F61FYTkA=",
           "dtype": "f8"
          },
          "sizemode": "area",
          "sizeref": 1.7255102040816326,
          "symbol": "circle"
         },
         "mode": "markers",
         "name": "Albania",
         "showlegend": true,
         "type": "scattergeo"
        },
        {
         "geo": "geo",
         "hovertemplate": "<b>%{hovertext}</b><br><br>Country=Brazil<br>AveragScore=%{marker.size}<br>latitude=%{lat}<br>longitude=%{lon}<extra></extra>",
         "hovertext": [
          "Brazil"
         ],
         "lat": {
          "bdata": "vtu8cVJ4LMA=",
          "dtype": "f8"
         },
         "legendgroup": "Brazil",
         "lon": {
          "bdata": "StI1k2/2ScA=",
          "dtype": "f8"
         },
         "marker": {
          "color": "#FFA15A",
          "size": {
           "bdata": "KVyPwvUITkA=",
           "dtype": "f8"
          },
          "sizemode": "area",
          "sizeref": 1.7255102040816326,
          "symbol": "circle"
         },
         "mode": "markers",
         "name": "Brazil",
         "showlegend": true,
         "type": "scattergeo"
        },
        {
         "geo": "geo",
         "hovertemplate": "<b>%{hovertext}</b><br><br>Country=Oman<br>AveragScore=%{marker.size}<br>latitude=%{lat}<br>longitude=%{lon}<extra></extra>",
         "hovertext": [
          "Oman"
         ],
         "lat": {
          "bdata": "Tny1oziDNUA=",
          "dtype": "f8"
         },
         "legendgroup": "Oman",
         "lon": {
          "bdata": "Km9HOC32S0A=",
          "dtype": "f8"
         },
         "marker": {
          "color": "#19d3f3",
          "size": {
           "bdata": "zczMzMzsTUA=",
           "dtype": "f8"
          },
          "sizemode": "area",
          "sizeref": 1.7255102040816326,
          "symbol": "circle"
         },
         "mode": "markers",
         "name": "Oman",
         "showlegend": true,
         "type": "scattergeo"
        },
        {
         "geo": "geo",
         "hovertemplate": "<b>%{hovertext}</b><br><br>Country=Dominican Republic<br>AveragScore=%{marker.size}<br>latitude=%{lat}<br>longitude=%{lon}<extra></extra>",
         "hovertext": [
          "Dominican Republic"
         ],
         "lat": {
          "bdata": "aeVeYFa8MkA=",
          "dtype": "f8"
         },
         "legendgroup": "Dominican Republic",
         "lon": {
          "bdata": "WWq932iKUcA=",
          "dtype": "f8"
         },
         "marker": {
          "color": "#FF6692",
          "size": {
           "bdata": "zczMzMzsTUA=",
           "dtype": "f8"
          },
          "sizemode": "area",
          "sizeref": 1.7255102040816326,
          "symbol": "circle"
         },
         "mode": "markers",
         "name": "Dominican Republic",
         "showlegend": true,
         "type": "scattergeo"
        },
        {
         "geo": "geo",
         "hovertemplate": "<b>%{hovertext}</b><br><br>Country=Kazakhstan<br>AveragScore=%{marker.size}<br>latitude=%{lat}<br>longitude=%{lon}<extra></extra>",
         "hovertext": [
          "Kazakhstan"
         ],
         "lat": {
          "bdata": "O3E5XoECSEA=",
          "dtype": "f8"
         },
         "legendgroup": "Kazakhstan",
         "lon": {
          "bdata": "qfV+ox27UEA=",
          "dtype": "f8"
         },
         "marker": {
          "color": "#B6E880",
          "size": {
           "bdata": "pHA9CtfDTUA=",
           "dtype": "f8"
          },
          "sizemode": "area",
          "sizeref": 1.7255102040816326,
          "symbol": "circle"
         },
         "mode": "markers",
         "name": "Kazakhstan",
         "showlegend": true,
         "type": "scattergeo"
        },
        {
         "geo": "geo",
         "hovertemplate": "<b>%{hovertext}</b><br><br>Country=Moldova<br>AveragScore=%{marker.size}<br>latitude=%{lat}<br>longitude=%{lon}<extra></extra>",
         "hovertext": [
          "Moldova"
         ],
         "lat": {
          "bdata": "iIIZU7C0R0A=",
          "dtype": "f8"
         },
         "legendgroup": "Moldova",
         "lon": {
          "bdata": "7UeKyLBePEA=",
          "dtype": "f8"
         },
         "marker": {
          "color": "#FF97FF",
          "size": {
           "bdata": "uB6F61G4TUA=",
           "dtype": "f8"
          },
          "sizemode": "area",
          "sizeref": 1.7255102040816326,
          "symbol": "circle"
         },
         "mode": "markers",
         "name": "Moldova",
         "showlegend": true,
         "type": "scattergeo"
        },
        {
         "geo": "geo",
         "hovertemplate": "<b>%{hovertext}</b><br><br>Country=Mexico<br>AveragScore=%{marker.size}<br>latitude=%{lat}<br>longitude=%{lon}<extra></extra>",
         "hovertext": [
          "Mexico"
         ],
         "lat": {
          "bdata": "gEdUqG6iN0A=",
          "dtype": "f8"
         },
         "legendgroup": "Mexico",
         "lon": {
          "bdata": "InAk0GCjWcA=",
          "dtype": "f8"
         },
         "marker": {
          "color": "#FECB52",
          "size": {
           "bdata": "ZmZmZmamTUA=",
           "dtype": "f8"
          },
          "sizemode": "area",
          "sizeref": 1.7255102040816326,
          "symbol": "circle"
         },
         "mode": "markers",
         "name": "Mexico",
         "showlegend": true,
         "type": "scattergeo"
        },
        {
         "geo": "geo",
         "hovertemplate": "<b>%{hovertext}</b><br><br>Country=Bosnia and Herzegovina<br>AveragScore=%{marker.size}<br>latitude=%{lat}<br>longitude=%{lon}<extra></extra>",
         "hovertext": [
          "Bosnia and Herzegovina"
         ],
         "lat": {
          "bdata": "oG6gwDv1RUA=",
          "dtype": "f8"
         },
         "legendgroup": "Bosnia and Herzegovina",
         "lon": {
          "bdata": "nX+77NetMUA=",
          "dtype": "f8"
         },
         "marker": {
          "color": "#636efa",
          "size": {
           "bdata": "rkfhehSOTUA=",
           "dtype": "f8"
          },
          "sizemode": "area",
          "sizeref": 1.7255102040816326,
          "symbol": "circle"
         },
         "mode": "markers",
         "name": "Bosnia and Herzegovina",
         "showlegend": true,
         "type": "scattergeo"
        },
        {
         "geo": "geo",
         "hovertemplate": "<b>%{hovertext}</b><br><br>Country=Vietnam<br>AveragScore=%{marker.size}<br>latitude=%{lat}<br>longitude=%{lon}<extra></extra>",
         "hovertext": [
          "Vietnam"
         ],
         "lat": {
          "bdata": "0SSxpNwdLEA=",
          "dtype": "f8"
         },
         "legendgroup": "Vietnam",
         "lon": {
          "bdata": "+N7foL0RW0A=",
          "dtype": "f8"
         },
         "marker": {
          "color": "#EF553B",
          "size": {
           "bdata": "rkfhehRuTUA=",
           "dtype": "f8"
          },
          "sizemode": "area",
          "sizeref": 1.7255102040816326,
          "symbol": "circle"
         },
         "mode": "markers",
         "name": "Vietnam",
         "showlegend": true,
         "type": "scattergeo"
        },
        {
         "geo": "geo",
         "hovertemplate": "<b>%{hovertext}</b><br><br>Country=Ukraine<br>AveragScore=%{marker.size}<br>latitude=%{lat}<br>longitude=%{lon}<extra></extra>",
         "hovertext": [
          "Ukraine"
         ],
         "lat": {
          "bdata": "9wKzQpEwSEA=",
          "dtype": "f8"
         },
         "legendgroup": "Ukraine",
         "lon": {
          "bdata": "Jt9sc2MqP0A=",
          "dtype": "f8"
         },
         "marker": {
          "color": "#00cc96",
          "size": {
           "bdata": "7FG4HoVrTUA=",
           "dtype": "f8"
          },
          "sizemode": "area",
          "sizeref": 1.7255102040816326,
          "symbol": "circle"
         },
         "mode": "markers",
         "name": "Ukraine",
         "showlegend": true,
         "type": "scattergeo"
        },
        {
         "geo": "geo",
         "hovertemplate": "<b>%{hovertext}</b><br><br>Country=South Africa<br>AveragScore=%{marker.size}<br>latitude=%{lat}<br>longitude=%{lon}<extra></extra>",
         "hovertext": [
          "South Africa"
         ],
         "lat": {
          "bdata": "X7NcNjqPPsA=",
          "dtype": "f8"
         },
         "legendgroup": "South Africa",
         "lon": {
          "bdata": "xM2pZADwNkA=",
          "dtype": "f8"
         },
         "marker": {
          "color": "#ab63fa",
          "size": {
           "bdata": "9ihcj8JVTUA=",
           "dtype": "f8"
          },
          "sizemode": "area",
          "sizeref": 1.7255102040816326,
          "symbol": "circle"
         },
         "mode": "markers",
         "name": "South Africa",
         "showlegend": true,
         "type": "scattergeo"
        },
        {
         "geo": "geo",
         "hovertemplate": "<b>%{hovertext}</b><br><br>Country=Paraguay<br>AveragScore=%{marker.size}<br>latitude=%{lat}<br>longitude=%{lon}<extra></extra>",
         "hovertext": [
          "Paraguay"
         ],
         "lat": {
          "bdata": "w2Fp4EdxN8A=",
          "dtype": "f8"
         },
         "legendgroup": "Paraguay",
         "lon": {
          "bdata": "inWqfM84TcA=",
          "dtype": "f8"
         },
         "marker": {
          "color": "#FFA15A",
          "size": {
           "bdata": "SOF6FK5HTUA=",
           "dtype": "f8"
          },
          "sizemode": "area",
          "sizeref": 1.7255102040816326,
          "symbol": "circle"
         },
         "mode": "markers",
         "name": "Paraguay",
         "showlegend": true,
         "type": "scattergeo"
        },
        {
         "geo": "geo",
         "hovertemplate": "<b>%{hovertext}</b><br><br>Country=Russia<br>AveragScore=%{marker.size}<br>latitude=%{lat}<br>longitude=%{lon}<extra></extra>",
         "hovertext": [
          "Russia"
         ],
         "lat": {
          "bdata": "c2N6whLDTkA=",
          "dtype": "f8"
         },
         "legendgroup": "Russia",
         "lon": {
          "bdata": "19mQf2ZUWkA=",
          "dtype": "f8"
         },
         "marker": {
          "color": "#19d3f3",
          "size": {
           "bdata": "AAAAAABATUA=",
           "dtype": "f8"
          },
          "sizemode": "area",
          "sizeref": 1.7255102040816326,
          "symbol": "circle"
         },
         "mode": "markers",
         "name": "Russia",
         "showlegend": true,
         "type": "scattergeo"
        },
        {
         "geo": "geo",
         "hovertemplate": "<b>%{hovertext}</b><br><br>Country=Belarus<br>AveragScore=%{marker.size}<br>latitude=%{lat}<br>longitude=%{lon}<extra></extra>",
         "hovertext": [
          "Belarus"
         ],
         "lat": {
          "bdata": "Zryt9NraSkA=",
          "dtype": "f8"
         },
         "legendgroup": "Belarus",
         "lon": {
          "bdata": "vF0vTRH0O0A=",
          "dtype": "f8"
         },
         "marker": {
          "color": "#FF6692",
          "size": {
           "bdata": "MzMzMzMzTUA=",
           "dtype": "f8"
          },
          "sizemode": "area",
          "sizeref": 1.7255102040816326,
          "symbol": "circle"
         },
         "mode": "markers",
         "name": "Belarus",
         "showlegend": true,
         "type": "scattergeo"
        },
        {
         "geo": "geo",
         "hovertemplate": "<b>%{hovertext}</b><br><br>Country=Saudi Arabia<br>AveragScore=%{marker.size}<br>latitude=%{lat}<br>longitude=%{lon}<extra></extra>",
         "hovertext": [
          "Saudi Arabia"
         ],
         "lat": {
          "bdata": "ICdMGM3iN0A=",
          "dtype": "f8"
         },
         "legendgroup": "Saudi Arabia",
         "lon": {
          "bdata": "AIv8+iGKRkA=",
          "dtype": "f8"
         },
         "marker": {
          "color": "#B6E880",
          "size": {
           "bdata": "zczMzMwsTUA=",
           "dtype": "f8"
          },
          "sizemode": "area",
          "sizeref": 1.7255102040816326,
          "symbol": "circle"
         },
         "mode": "markers",
         "name": "Saudi Arabia",
         "showlegend": true,
         "type": "scattergeo"
        },
        {
         "geo": "geo",
         "hovertemplate": "<b>%{hovertext}</b><br><br>Country=Colombia<br>AveragScore=%{marker.size}<br>latitude=%{lat}<br>longitude=%{lon}<extra></extra>",
         "hovertext": [
          "Colombia"
         ],
         "lat": {
          "bdata": "61T5npFIEkA=",
          "dtype": "f8"
         },
         "legendgroup": "Colombia",
         "lon": {
          "bdata": "YcH9gAeTUsA=",
          "dtype": "f8"
         },
         "marker": {
          "color": "#FF97FF",
          "size": {
           "bdata": "4XoUrkcBTUA=",
           "dtype": "f8"
          },
          "sizemode": "area",
          "sizeref": 1.7255102040816326,
          "symbol": "circle"
         },
         "mode": "markers",
         "name": "Colombia",
         "showlegend": true,
         "type": "scattergeo"
        },
        {
         "geo": "geo",
         "hovertemplate": "<b>%{hovertext}</b><br><br>Country=Suriname<br>AveragScore=%{marker.size}<br>latitude=%{lat}<br>longitude=%{lon}<extra></extra>",
         "hovertext": [
          "Suriname"
         ],
         "lat": {
          "bdata": "7WRwlLxaD0A=",
          "dtype": "f8"
         },
         "legendgroup": "Suriname",
         "lon": {
          "bdata": "QDGyZI4DTMA=",
          "dtype": "f8"
         },
         "marker": {
          "color": "#FECB52",
          "size": {
           "bdata": "FK5H4Xr0TEA=",
           "dtype": "f8"
          },
          "sizemode": "area",
          "sizeref": 1.7255102040816326,
          "symbol": "circle"
         },
         "mode": "markers",
         "name": "Suriname",
         "showlegend": true,
         "type": "scattergeo"
        },
        {
         "geo": "geo",
         "hovertemplate": "<b>%{hovertext}</b><br><br>Country=Botswana<br>AveragScore=%{marker.size}<br>latitude=%{lat}<br>longitude=%{lon}<extra></extra>",
         "hovertext": [
          "Botswana"
         ],
         "lat": {
          "bdata": "GJY/3xZUNsA=",
          "dtype": "f8"
         },
         "legendgroup": "Botswana",
         "lon": {
          "bdata": "cCTQYFOvOEA=",
          "dtype": "f8"
         },
         "marker": {
          "color": "#636efa",
          "size": {
           "bdata": "CtejcD3qTEA=",
           "dtype": "f8"
          },
          "sizemode": "area",
          "sizeref": 1.7255102040816326,
          "symbol": "circle"
         },
         "mode": "markers",
         "name": "Botswana",
         "showlegend": true,
         "type": "scattergeo"
        },
        {
         "geo": "geo",
         "hovertemplate": "<b>%{hovertext}</b><br><br>Country=Philippines<br>AveragScore=%{marker.size}<br>latitude=%{lat}<br>longitude=%{lon}<extra></extra>",
         "hovertext": [
          "Philippines"
         ],
         "lat": {
          "bdata": "djV5ymrCKUA=",
          "dtype": "f8"
         },
         "legendgroup": "Philippines",
         "lon": {
          "bdata": "E2OZfolxXkA=",
          "dtype": "f8"
         },
         "marker": {
          "color": "#EF553B",
          "size": {
           "bdata": "pHA9CtfDTEA=",
           "dtype": "f8"
          },
          "sizemode": "area",
          "sizeref": 1.7255102040816326,
          "symbol": "circle"
         },
         "mode": "markers",
         "name": "Philippines",
         "showlegend": true,
         "type": "scattergeo"
        },
        {
         "geo": "geo",
         "hovertemplate": "<b>%{hovertext}</b><br><br>Country=Ecuador<br>AveragScore=%{marker.size}<br>latitude=%{lat}<br>longitude=%{lon}<extra></extra>",
         "hovertext": [
          "Ecuador"
         ],
         "lat": {
          "bdata": "UI4CRMFM/b8=",
          "dtype": "f8"
         },
         "legendgroup": "Ecuador",
         "lon": {
          "bdata": "+fiE7LyLU8A=",
          "dtype": "f8"
         },
         "marker": {
          "color": "#00cc96",
          "size": {
           "bdata": "9ihcj8K1TEA=",
           "dtype": "f8"
          },
          "sizemode": "area",
          "sizeref": 1.7255102040816326,
          "symbol": "circle"
         },
         "mode": "markers",
         "name": "Ecuador",
         "showlegend": true,
         "type": "scattergeo"
        },
        {
         "geo": "geo",
         "hovertemplate": "<b>%{hovertext}</b><br><br>Country=Jordan<br>AveragScore=%{marker.size}<br>latitude=%{lat}<br>longitude=%{lon}<extra></extra>",
         "hovertext": [
          "Jordan"
         ],
         "lat": {
          "bdata": "6svSTs2VPkA=",
          "dtype": "f8"
         },
         "legendgroup": "Jordan",
         "lon": {
          "bdata": "S3SWWYQeQkA=",
          "dtype": "f8"
         },
         "marker": {
          "color": "#ab63fa",
          "size": {
           "bdata": "UrgeheuRTEA=",
           "dtype": "f8"
          },
          "sizemode": "area",
          "sizeref": 1.7255102040816326,
          "symbol": "circle"
         },
         "mode": "markers",
         "name": "Jordan",
         "showlegend": true,
         "type": "scattergeo"
        },
        {
         "geo": "geo",
         "hovertemplate": "<b>%{hovertext}</b><br><br>Country=São Tomé and Príncipe<br>AveragScore=%{marker.size}<br>latitude=%{lat}<br>longitude=%{lon}<extra></extra>",
         "hovertext": [
          "São Tomé and Príncipe"
         ],
         "lat": {
          "bdata": "7Sqk/KTaxz8=",
          "dtype": "f8"
         },
         "legendgroup": "São Tomé and Príncipe",
         "lon": {
          "bdata": "JzJzgctzGkA=",
          "dtype": "f8"
         },
         "marker": {
          "color": "#FFA15A",
          "size": {
           "bdata": "7FG4HoWLTEA=",
           "dtype": "f8"
          },
          "sizemode": "area",
          "sizeref": 1.7255102040816326,
          "symbol": "circle"
         },
         "mode": "markers",
         "name": "São Tomé and Príncipe",
         "showlegend": true,
         "type": "scattergeo"
        },
        {
         "geo": "geo",
         "hovertemplate": "<b>%{hovertext}</b><br><br>Country=Mongolia<br>AveragScore=%{marker.size}<br>latitude=%{lat}<br>longitude=%{lon}<extra></extra>",
         "hovertext": [
          "Mongolia"
         ],
         "lat": {
          "bdata": "JXfYRGZuR0A=",
          "dtype": "f8"
         },
         "legendgroup": "Mongolia",
         "lon": {
          "bdata": "lL2lnC/2WUA=",
          "dtype": "f8"
         },
         "marker": {
          "color": "#19d3f3",
          "size": {
           "bdata": "KVyPwvWITEA=",
           "dtype": "f8"
          },
          "sizemode": "area",
          "sizeref": 1.7255102040816326,
          "symbol": "circle"
         },
         "mode": "markers",
         "name": "Mongolia",
         "showlegend": true,
         "type": "scattergeo"
        },
        {
         "geo": "geo",
         "hovertemplate": "<b>%{hovertext}</b><br><br>Country=Guyana<br>AveragScore=%{marker.size}<br>latitude=%{lat}<br>longitude=%{lon}<extra></extra>",
         "hovertext": [
          "Guyana"
         ],
         "lat": {
          "bdata": "D9JT5BBxE0A=",
          "dtype": "f8"
         },
         "legendgroup": "Guyana",
         "lon": {
          "bdata": "V7JjIxB3TcA=",
          "dtype": "f8"
         },
         "marker": {
          "color": "#FF6692",
          "size": {
           "bdata": "16NwPQp3TEA=",
           "dtype": "f8"
          },
          "sizemode": "area",
          "sizeref": 1.7255102040816326,
          "symbol": "circle"
         },
         "mode": "markers",
         "name": "Guyana",
         "showlegend": true,
         "type": "scattergeo"
        },
        {
         "geo": "geo",
         "hovertemplate": "<b>%{hovertext}</b><br><br>Country=Namibia<br>AveragScore=%{marker.size}<br>latitude=%{lat}<br>longitude=%{lon}<extra></extra>",
         "hovertext": [
          "Namibia"
         ],
         "lat": {
          "bdata": "aVch5Sf1NsA=",
          "dtype": "f8"
         },
         "legendgroup": "Namibia",
         "lon": {
          "bdata": "oaF/got9MkA=",
          "dtype": "f8"
         },
         "marker": {
          "color": "#B6E880",
          "size": {
           "bdata": "cT0K16MwTEA=",
           "dtype": "f8"
          },
          "sizemode": "area",
          "sizeref": 1.7255102040816326,
          "symbol": "circle"
         },
         "mode": "markers",
         "name": "Namibia",
         "showlegend": true,
         "type": "scattergeo"
        },
        {
         "geo": "geo",
         "hovertemplate": "<b>%{hovertext}</b><br><br>Country=Sri Lanka<br>AveragScore=%{marker.size}<br>latitude=%{lat}<br>longitude=%{lon}<extra></extra>",
         "hovertext": [
          "Sri Lanka"
         ],
         "lat": {
          "bdata": "ZJEm3gF+H0A=",
          "dtype": "f8"
         },
         "legendgroup": "Sri Lanka",
         "lon": {
          "bdata": "qYk+H2UxVEA=",
          "dtype": "f8"
         },
         "marker": {
          "color": "#FF97FF",
          "size": {
           "bdata": "7FG4HoUrTEA=",
           "dtype": "f8"
          },
          "sizemode": "area",
          "sizeref": 1.7255102040816326,
          "symbol": "circle"
         },
         "mode": "markers",
         "name": "Sri Lanka",
         "showlegend": true,
         "type": "scattergeo"
        },
        {
         "geo": "geo",
         "hovertemplate": "<b>%{hovertext}</b><br><br>Country=Azerbaijan<br>AveragScore=%{marker.size}<br>latitude=%{lat}<br>longitude=%{lon}<extra></extra>",
         "hovertext": [
          "Azerbaijan"
         ],
         "lat": {
          "bdata": "cXK/Q1ESREA=",
          "dtype": "f8"
         },
         "legendgroup": "Azerbaijan",
         "lon": {
          "bdata": "9pZyvtjJR0A=",
          "dtype": "f8"
         },
         "marker": {
          "color": "#FECB52",
          "size": {
           "bdata": "4XoUrkchTEA=",
           "dtype": "f8"
          },
          "sizemode": "area",
          "sizeref": 1.7255102040816326,
          "symbol": "circle"
         },
         "mode": "markers",
         "name": "Azerbaijan",
         "showlegend": true,
         "type": "scattergeo"
        },
        {
         "geo": "geo",
         "hovertemplate": "<b>%{hovertext}</b><br><br>Country=Belize<br>AveragScore=%{marker.size}<br>latitude=%{lat}<br>longitude=%{lon}<extra></extra>",
         "hovertext": [
          "Belize"
         ],
         "lat": {
          "bdata": "OUNxx5swMUA=",
          "dtype": "f8"
         },
         "legendgroup": "Belize",
         "lon": {
          "bdata": "rrZif9kfVsA=",
          "dtype": "f8"
         },
         "marker": {
          "color": "#636efa",
          "size": {
           "bdata": "FK5H4Xr0S0A=",
           "dtype": "f8"
          },
          "sizemode": "area",
          "sizeref": 1.7255102040816326,
          "symbol": "circle"
         },
         "mode": "markers",
         "name": "Belize",
         "showlegend": true,
         "type": "scattergeo"
        },
        {
         "geo": "geo",
         "hovertemplate": "<b>%{hovertext}</b><br><br>Country=Kyrgyzstan<br>AveragScore=%{marker.size}<br>latitude=%{lat}<br>longitude=%{lon}<extra></extra>",
         "hovertext": [
          "Kyrgyzstan"
         ],
         "lat": {
          "bdata": "bvqzHymaREA=",
          "dtype": "f8"
         },
         "legendgroup": "Kyrgyzstan",
         "lon": {
          "bdata": "/OHnvwexUkA=",
          "dtype": "f8"
         },
         "marker": {
          "color": "#EF553B",
          "size": {
           "bdata": "AAAAAADgS0A=",
           "dtype": "f8"
          },
          "sizemode": "area",
          "sizeref": 1.7255102040816326,
          "symbol": "circle"
         },
         "mode": "markers",
         "name": "Kyrgyzstan",
         "showlegend": true,
         "type": "scattergeo"
        },
        {
         "geo": "geo",
         "hovertemplate": "<b>%{hovertext}</b><br><br>Country=Turkey<br>AveragScore=%{marker.size}<br>latitude=%{lat}<br>longitude=%{lon}<extra></extra>",
         "hovertext": [
          "Turkey"
         ],
         "lat": {
          "bdata": "flcE/1t7Q0A=",
          "dtype": "f8"
         },
         "legendgroup": "Turkey",
         "lon": {
          "bdata": "2zLgLCWfQUA=",
          "dtype": "f8"
         },
         "marker": {
          "color": "#00cc96",
          "size": {
           "bdata": "AAAAAADAS0A=",
           "dtype": "f8"
          },
          "sizemode": "area",
          "sizeref": 1.7255102040816326,
          "symbol": "circle"
         },
         "mode": "markers",
         "name": "Turkey",
         "showlegend": true,
         "type": "scattergeo"
        },
        {
         "geo": "geo",
         "hovertemplate": "<b>%{hovertext}</b><br><br>Country=Morocco<br>AveragScore=%{marker.size}<br>latitude=%{lat}<br>longitude=%{lon}<extra></extra>",
         "hovertext": [
          "Morocco"
         ],
         "lat": {
          "bdata": "hC12+6zKP0A=",
          "dtype": "f8"
         },
         "legendgroup": "Morocco",
         "lon": {
          "bdata": "dNL7xtdeHMA=",
          "dtype": "f8"
         },
         "marker": {
          "color": "#ab63fa",
          "size": {
           "bdata": "uB6F61GYS0A=",
           "dtype": "f8"
          },
          "sizemode": "area",
          "sizeref": 1.7255102040816326,
          "symbol": "circle"
         },
         "mode": "markers",
         "name": "Morocco",
         "showlegend": true,
         "type": "scattergeo"
        },
        {
         "geo": "geo",
         "hovertemplate": "<b>%{hovertext}</b><br><br>Country=El Salvador<br>AveragScore=%{marker.size}<br>latitude=%{lat}<br>longitude=%{lon}<extra></extra>",
         "hovertext": [
          "El Salvador"
         ],
         "lat": {
          "bdata": "kfKTap+WK0A=",
          "dtype": "f8"
         },
         "legendgroup": "El Salvador",
         "lon": {
          "bdata": "gXhdv2A5VsA=",
          "dtype": "f8"
         },
         "marker": {
          "color": "#FFA15A",
          "size": {
           "bdata": "ZmZmZmaGS0A=",
           "dtype": "f8"
          },
          "sizemode": "area",
          "sizeref": 1.7255102040816326,
          "symbol": "circle"
         },
         "mode": "markers",
         "name": "El Salvador",
         "showlegend": true,
         "type": "scattergeo"
        },
        {
         "geo": "geo",
         "hovertemplate": "<b>%{hovertext}</b><br><br>Country=Ghana<br>AveragScore=%{marker.size}<br>latitude=%{lat}<br>longitude=%{lon}<extra></extra>",
         "hovertext": [
          "Ghana"
         ],
         "lat": {
          "bdata": "vB+3Xz7JH0A=",
          "dtype": "f8"
         },
         "legendgroup": "Ghana",
         "lon": {
          "bdata": "L2r3qwBf8L8=",
          "dtype": "f8"
         },
         "marker": {
          "color": "#19d3f3",
          "size": {
           "bdata": "FK5H4XpUS0A=",
           "dtype": "f8"
          },
          "sizemode": "area",
          "sizeref": 1.7255102040816326,
          "symbol": "circle"
         },
         "mode": "markers",
         "name": "Ghana",
         "showlegend": true,
         "type": "scattergeo"
        },
        {
         "geo": "geo",
         "hovertemplate": "<b>%{hovertext}</b><br><br>Country=Tunisia<br>AveragScore=%{marker.size}<br>latitude=%{lat}<br>longitude=%{lon}<extra></extra>",
         "hovertext": [
          "Tunisia"
         ],
         "lat": {
          "bdata": "GqIKf4bxQEA=",
          "dtype": "f8"
         },
         "legendgroup": "Tunisia",
         "lon": {
          "bdata": "8kOlETMTI0A=",
          "dtype": "f8"
         },
         "marker": {
          "color": "#FF6692",
          "size": {
           "bdata": "exSuR+E6S0A=",
           "dtype": "f8"
          },
          "sizemode": "area",
          "sizeref": 1.7255102040816326,
          "symbol": "circle"
         },
         "mode": "markers",
         "name": "Tunisia",
         "showlegend": true,
         "type": "scattergeo"
        },
        {
         "geo": "geo",
         "hovertemplate": "<b>%{hovertext}</b><br><br>Country=Uzbekistan<br>AveragScore=%{marker.size}<br>latitude=%{lat}<br>longitude=%{lon}<extra></extra>",
         "hovertext": [
          "Uzbekistan"
         ],
         "lat": {
          "bdata": "ZcQFoFGwREA=",
          "dtype": "f8"
         },
         "legendgroup": "Uzbekistan",
         "lon": {
          "bdata": "3GW/7nQlUEA=",
          "dtype": "f8"
         },
         "marker": {
          "color": "#B6E880",
          "size": {
           "bdata": "ZmZmZmbmSkA=",
           "dtype": "f8"
          },
          "sizemode": "area",
          "sizeref": 1.7255102040816326,
          "symbol": "circle"
         },
         "mode": "markers",
         "name": "Uzbekistan",
         "showlegend": true,
         "type": "scattergeo"
        },
        {
         "geo": "geo",
         "hovertemplate": "<b>%{hovertext}</b><br><br>Country=Guatemala<br>AveragScore=%{marker.size}<br>latitude=%{lat}<br>longitude=%{lon}<extra></extra>",
         "hovertext": [
          "Guatemala"
         ],
         "lat": {
          "bdata": "lbpkHCORL0A=",
          "dtype": "f8"
         },
         "legendgroup": "Guatemala",
         "lon": {
          "bdata": "fpBlwcSOVsA=",
          "dtype": "f8"
         },
         "marker": {
          "color": "#FF97FF",
          "size": {
           "bdata": "PQrXo3DdSkA=",
           "dtype": "f8"
          },
          "sizemode": "area",
          "sizeref": 1.7255102040816326,
          "symbol": "circle"
         },
         "mode": "markers",
         "name": "Guatemala",
         "showlegend": true,
         "type": "scattergeo"
        },
        {
         "geo": "geo",
         "hovertemplate": "<b>%{hovertext}</b><br><br>Country=Senegal<br>AveragScore=%{marker.size}<br>latitude=%{lat}<br>longitude=%{lon}<extra></extra>",
         "hovertext": [
          "Senegal"
         ],
         "lat": {
          "bdata": "0v4HWKv+LEA=",
          "dtype": "f8"
         },
         "legendgroup": "Senegal",
         "lon": {
          "bdata": "BOj3/ZvnLMA=",
          "dtype": "f8"
         },
         "marker": {
          "color": "#FECB52",
          "size": {
           "bdata": "16NwPQrXSkA=",
           "dtype": "f8"
          },
          "sizemode": "area",
          "sizeref": 1.7255102040816326,
          "symbol": "circle"
         },
         "mode": "markers",
         "name": "Senegal",
         "showlegend": true,
         "type": "scattergeo"
        },
        {
         "geo": "geo",
         "hovertemplate": "<b>%{hovertext}</b><br><br>Country=India<br>AveragScore=%{marker.size}<br>latitude=%{lat}<br>longitude=%{lon}<extra></extra>",
         "hovertext": [
          "India"
         ],
         "lat": {
          "bdata": "kSi0rPuXNEA=",
          "dtype": "f8"
         },
         "legendgroup": "India",
         "lon": {
          "bdata": "PX5v05+9U0A=",
          "dtype": "f8"
         },
         "marker": {
          "color": "#636efa",
          "size": {
           "bdata": "FK5H4XrUSkA=",
           "dtype": "f8"
          },
          "sizemode": "area",
          "sizeref": 1.7255102040816326,
          "symbol": "circle"
         },
         "mode": "markers",
         "name": "India",
         "showlegend": true,
         "type": "scattergeo"
        },
        {
         "geo": "geo",
         "hovertemplate": "<b>%{hovertext}</b><br><br>Country=Cuba<br>AveragScore=%{marker.size}<br>latitude=%{lat}<br>longitude=%{lon}<extra></extra>",
         "hovertext": [
          "Cuba"
         ],
         "lat": {
          "bdata": "hnXj3ZGFNUA=",
          "dtype": "f8"
         },
         "legendgroup": "Cuba",
         "lon": {
          "bdata": "uW3fo/5xU8A=",
          "dtype": "f8"
         },
         "marker": {
          "color": "#EF553B",
          "size": {
           "bdata": "uB6F61G4SkA=",
           "dtype": "f8"
          },
          "sizemode": "area",
          "sizeref": 1.7255102040816326,
          "symbol": "circle"
         },
         "mode": "markers",
         "name": "Cuba",
         "showlegend": true,
         "type": "scattergeo"
        },
        {
         "geo": "geo",
         "hovertemplate": "<b>%{hovertext}</b><br><br>Country=Honduras<br>AveragScore=%{marker.size}<br>latitude=%{lat}<br>longitude=%{lon}<extra></extra>",
         "hovertext": [
          "Honduras"
         ],
         "lat": {
          "bdata": "JXfYRGZmLkA=",
          "dtype": "f8"
         },
         "legendgroup": "Honduras",
         "lon": {
          "bdata": "Su8bX3uPVcA=",
          "dtype": "f8"
         },
         "marker": {
          "color": "#00cc96",
          "size": {
           "bdata": "AAAAAACgSkA=",
           "dtype": "f8"
          },
          "sizemode": "area",
          "sizeref": 1.7255102040816326,
          "symbol": "circle"
         },
         "mode": "markers",
         "name": "Honduras",
         "showlegend": true,
         "type": "scattergeo"
        },
        {
         "geo": "geo",
         "hovertemplate": "<b>%{hovertext}</b><br><br>Country=Bolivia<br>AveragScore=%{marker.size}<br>latitude=%{lat}<br>longitude=%{lon}<extra></extra>",
         "hovertext": [
          "Bolivia"
         ],
         "lat": {
          "bdata": "uM1UiEdKMMA=",
          "dtype": "f8"
         },
         "legendgroup": "Bolivia",
         "lon": {
          "bdata": "ndhD+1jLT8A=",
          "dtype": "f8"
         },
         "marker": {
          "color": "#ab63fa",
          "size": {
           "bdata": "cT0K16OQSkA=",
           "dtype": "f8"
          },
          "sizemode": "area",
          "sizeref": 1.7255102040816326,
          "symbol": "circle"
         },
         "mode": "markers",
         "name": "Bolivia",
         "showlegend": true,
         "type": "scattergeo"
        },
        {
         "geo": "geo",
         "hovertemplate": "<b>%{hovertext}</b><br><br>Country=Turkmenistan<br>AveragScore=%{marker.size}<br>latitude=%{lat}<br>longitude=%{lon}<extra></extra>",
         "hovertext": [
          "Turkmenistan"
         ],
         "lat": {
          "bdata": "qKePwB98Q0A=",
          "dtype": "f8"
         },
         "legendgroup": "Turkmenistan",
         "lon": {
          "bdata": "/b0UHjTHTUA=",
          "dtype": "f8"
         },
         "marker": {
          "color": "#FFA15A",
          "size": {
           "bdata": "cT0K16MwSkA=",
           "dtype": "f8"
          },
          "sizemode": "area",
          "sizeref": 1.7255102040816326,
          "symbol": "circle"
         },
         "mode": "markers",
         "name": "Turkmenistan",
         "showlegend": true,
         "type": "scattergeo"
        },
        {
         "geo": "geo",
         "hovertemplate": "<b>%{hovertext}</b><br><br>Country=Kenya<br>AveragScore=%{marker.size}<br>latitude=%{lat}<br>longitude=%{lon}<extra></extra>",
         "hovertext": [
          "Kenya"
         ],
         "lat": {
          "bdata": "YRkbutkfmL8=",
          "dtype": "f8"
         },
         "legendgroup": "Kenya",
         "lon": {
          "bdata": "nG7ZIf7zQkA=",
          "dtype": "f8"
         },
         "marker": {
          "color": "#19d3f3",
          "size": {
           "bdata": "AAAAAAAgSkA=",
           "dtype": "f8"
          },
          "sizemode": "area",
          "sizeref": 1.7255102040816326,
          "symbol": "circle"
         },
         "mode": "markers",
         "name": "Kenya",
         "showlegend": true,
         "type": "scattergeo"
        },
        {
         "geo": "geo",
         "hovertemplate": "<b>%{hovertext}</b><br><br>Country=Algeria<br>AveragScore=%{marker.size}<br>latitude=%{lat}<br>longitude=%{lon}<extra></extra>",
         "hovertext": [
          "Algeria"
         ],
         "lat": {
          "bdata": "0cq9wKwIPEA=",
          "dtype": "f8"
         },
         "legendgroup": "Algeria",
         "lon": {
          "bdata": "83UZ/tON+j8=",
          "dtype": "f8"
         },
         "marker": {
          "color": "#FF6692",
          "size": {
           "bdata": "cT0K16MQSkA=",
           "dtype": "f8"
          },
          "sizemode": "area",
          "sizeref": 1.7255102040816326,
          "symbol": "circle"
         },
         "mode": "markers",
         "name": "Algeria",
         "showlegend": true,
         "type": "scattergeo"
        },
        {
         "geo": "geo",
         "hovertemplate": "<b>%{hovertext}</b><br><br>Country=Nepal<br>AveragScore=%{marker.size}<br>latitude=%{lat}<br>longitude=%{lon}<extra></extra>",
         "hovertext": [
          "Nepal"
         ],
         "lat": {
          "bdata": "v5gtWRVlPEA=",
          "dtype": "f8"
         },
         "legendgroup": "Nepal",
         "lon": {
          "bdata": "UBxAv+8HVUA=",
          "dtype": "f8"
         },
         "marker": {
          "color": "#B6E880",
          "size": {
           "bdata": "KVyPwvXISUA=",
           "dtype": "f8"
          },
          "sizemode": "area",
          "sizeref": 1.7255102040816326,
          "symbol": "circle"
         },
         "mode": "markers",
         "name": "Nepal",
         "showlegend": true,
         "type": "scattergeo"
        },
        {
         "geo": "geo",
         "hovertemplate": "<b>%{hovertext}</b><br><br>Country=Rwanda<br>AveragScore=%{marker.size}<br>latitude=%{lat}<br>longitude=%{lon}<extra></extra>",
         "hovertext": [
          "Rwanda"
         ],
         "lat": {
          "bdata": "Y1+y8WAL/78=",
          "dtype": "f8"
         },
         "legendgroup": "Rwanda",
         "lon": {
          "bdata": "6l28H7ffPUA=",
          "dtype": "f8"
         },
         "marker": {
          "color": "#FF97FF",
          "size": {
           "bdata": "SOF6FK7HSUA=",
           "dtype": "f8"
          },
          "sizemode": "area",
          "sizeref": 1.7255102040816326,
          "symbol": "circle"
         },
         "mode": "markers",
         "name": "Rwanda",
         "showlegend": true,
         "type": "scattergeo"
        },
        {
         "geo": "geo",
         "hovertemplate": "<b>%{hovertext}</b><br><br>Country=Lebanon<br>AveragScore=%{marker.size}<br>latitude=%{lat}<br>longitude=%{lon}<extra></extra>",
         "hovertext": [
          "Lebanon"
         ],
         "lat": {
          "bdata": "Khprf2ftQEA=",
          "dtype": "f8"
         },
         "legendgroup": "Lebanon",
         "lon": {
          "bdata": "amrZWl/uQUA=",
          "dtype": "f8"
         },
         "marker": {
          "color": "#FECB52",
          "size": {
           "bdata": "cT0K16OwSUA=",
           "dtype": "f8"
          },
          "sizemode": "area",
          "sizeref": 1.7255102040816326,
          "symbol": "circle"
         },
         "mode": "markers",
         "name": "Lebanon",
         "showlegend": true,
         "type": "scattergeo"
        },
        {
         "geo": "geo",
         "hovertemplate": "<b>%{hovertext}</b><br><br>Country=Tajikistan<br>AveragScore=%{marker.size}<br>latitude=%{lat}<br>longitude=%{lon}<extra></extra>",
         "hovertext": [
          "Tajikistan"
         ],
         "lat": {
          "bdata": "PV+zXDZuQ0A=",
          "dtype": "f8"
         },
         "legendgroup": "Tajikistan",
         "lon": {
          "bdata": "5Gn5gavRUUA=",
          "dtype": "f8"
         },
         "marker": {
          "color": "#636efa",
          "size": {
           "bdata": "mpmZmZmZSUA=",
           "dtype": "f8"
          },
          "sizemode": "area",
          "sizeref": 1.7255102040816326,
          "symbol": "circle"
         },
         "mode": "markers",
         "name": "Tajikistan",
         "showlegend": true,
         "type": "scattergeo"
        },
        {
         "geo": "geo",
         "hovertemplate": "<b>%{hovertext}</b><br><br>Country=Nicaragua<br>AveragScore=%{marker.size}<br>latitude=%{lat}<br>longitude=%{lon}<extra></extra>",
         "hovertext": [
          "Nicaragua"
         ],
         "lat": {
          "bdata": "yt5Szhe7KUA=",
          "dtype": "f8"
         },
         "legendgroup": "Nicaragua",
         "lon": {
          "bdata": "GXJsPUNNVcA=",
          "dtype": "f8"
         },
         "marker": {
          "color": "#EF553B",
          "size": {
           "bdata": "XI/C9SgcSUA=",
           "dtype": "f8"
          },
          "sizemode": "area",
          "sizeref": 1.7255102040816326,
          "symbol": "circle"
         },
         "mode": "markers",
         "name": "Nicaragua",
         "showlegend": true,
         "type": "scattergeo"
        },
        {
         "geo": "geo",
         "hovertemplate": "<b>%{hovertext}</b><br><br>Country=Laos<br>AveragScore=%{marker.size}<br>latitude=%{lat}<br>longitude=%{lon}<extra></extra>",
         "hovertext": [
          "Laos"
         ],
         "lat": {
          "bdata": "wYu+gjTbM0A=",
          "dtype": "f8"
         },
         "legendgroup": "Laos",
         "lon": {
          "bdata": "INPaNLafWUA=",
          "dtype": "f8"
         },
         "marker": {
          "color": "#00cc96",
          "size": {
           "bdata": "16NwPQoXSUA=",
           "dtype": "f8"
          },
          "sizemode": "area",
          "sizeref": 1.7255102040816326,
          "symbol": "circle"
         },
         "mode": "markers",
         "name": "Laos",
         "showlegend": true,
         "type": "scattergeo"
        },
        {
         "geo": "geo",
         "hovertemplate": "<b>%{hovertext}</b><br><br>Country=Gambia<br>AveragScore=%{marker.size}<br>latitude=%{lat}<br>longitude=%{lon}<extra></extra>",
         "hovertext": [
          "Gambia"
         ],
         "lat": {
          "bdata": "DFpIwOjiKkA=",
          "dtype": "f8"
         },
         "legendgroup": "Gambia",
         "lon": {
          "bdata": "pG38icqeLsA=",
          "dtype": "f8"
         },
         "marker": {
          "color": "#ab63fa",
          "size": {
           "bdata": "zczMzMwMSUA=",
           "dtype": "f8"
          },
          "sizemode": "area",
          "sizeref": 1.7255102040816326,
          "symbol": "circle"
         },
         "mode": "markers",
         "name": "Gambia",
         "showlegend": true,
         "type": "scattergeo"
        },
        {
         "geo": "geo",
         "hovertemplate": "<b>%{hovertext}</b><br><br>Country=Tanzania<br>AveragScore=%{marker.size}<br>latitude=%{lat}<br>longitude=%{lon}<extra></extra>",
         "hovertext": [
          "Tanzania"
         ],
         "lat": {
          "bdata": "sDvdeeJ5GcA=",
          "dtype": "f8"
         },
         "legendgroup": "Tanzania",
         "lon": {
          "bdata": "j/tW68RxQUA=",
          "dtype": "f8"
         },
         "marker": {
          "color": "#FFA15A",
          "size": {
           "bdata": "mpmZmZmZSEA=",
           "dtype": "f8"
          },
          "sizemode": "area",
          "sizeref": 1.7255102040816326,
          "symbol": "circle"
         },
         "mode": "markers",
         "name": "Tanzania",
         "showlegend": true,
         "type": "scattergeo"
        },
        {
         "geo": "geo",
         "hovertemplate": "<b>%{hovertext}</b><br><br>Country=Cambodia<br>AveragScore=%{marker.size}<br>latitude=%{lat}<br>longitude=%{lon}<extra></extra>",
         "hovertext": [
          "Cambodia"
         ],
         "lat": {
          "bdata": "ZhGKraAhKUA=",
          "dtype": "f8"
         },
         "legendgroup": "Cambodia",
         "lon": {
          "bdata": "8iIT8Gs/WkA=",
          "dtype": "f8"
         },
         "marker": {
          "color": "#19d3f3",
          "size": {
           "bdata": "uB6F61GYSEA=",
           "dtype": "f8"
          },
          "sizemode": "area",
          "sizeref": 1.7255102040816326,
          "symbol": "circle"
         },
         "mode": "markers",
         "name": "Cambodia",
         "showlegend": true,
         "type": "scattergeo"
        },
        {
         "geo": "geo",
         "hovertemplate": "<b>%{hovertext}</b><br><br>Country=Gabon<br>AveragScore=%{marker.size}<br>latitude=%{lat}<br>longitude=%{lon}<extra></extra>",
         "hovertext": [
          "Gabon"
         ],
         "lat": {
          "bdata": "TfVk/tG36b8=",
          "dtype": "f8"
         },
         "legendgroup": "Gabon",
         "lon": {
          "bdata": "onxBCwk4J0A=",
          "dtype": "f8"
         },
         "marker": {
          "color": "#FF6692",
          "size": {
           "bdata": "7FG4HoVrSEA=",
           "dtype": "f8"
          },
          "sizemode": "area",
          "sizeref": 1.7255102040816326,
          "symbol": "circle"
         },
         "mode": "markers",
         "name": "Gabon",
         "showlegend": true,
         "type": "scattergeo"
        },
        {
         "geo": "geo",
         "hovertemplate": "<b>%{hovertext}</b><br><br>Country=Côte d'Ivoire<br>AveragScore=%{marker.size}<br>latitude=%{lat}<br>longitude=%{lon}<extra></extra>",
         "hovertext": [
          "Côte d'Ivoire"
         ],
         "lat": {
          "bdata": "isxc4PIoHkA=",
          "dtype": "f8"
         },
         "legendgroup": "Côte d'Ivoire",
         "lon": {
          "bdata": "xy5RvTUwFsA=",
          "dtype": "f8"
         },
         "marker": {
          "color": "#B6E880",
          "size": {
           "bdata": "7FG4HoVLSEA=",
           "dtype": "f8"
          },
          "sizemode": "area",
          "sizeref": 1.7255102040816326,
          "symbol": "circle"
         },
         "mode": "markers",
         "name": "Côte d'Ivoire",
         "showlegend": true,
         "type": "scattergeo"
        },
        {
         "geo": "geo",
         "hovertemplate": "<b>%{hovertext}</b><br><br>Country=Egypt<br>AveragScore=%{marker.size}<br>latitude=%{lat}<br>longitude=%{lon}<extra></extra>",
         "hovertext": [
          "Egypt"
         ],
         "lat": {
          "bdata": "e6Lrwg/SOkA=",
          "dtype": "f8"
         },
         "legendgroup": "Egypt",
         "lon": {
          "bdata": "/BpJgnDNPkA=",
          "dtype": "f8"
         },
         "marker": {
          "color": "#FF97FF",
          "size": {
           "bdata": "KVyPwvVISEA=",
           "dtype": "f8"
          },
          "sizemode": "area",
          "sizeref": 1.7255102040816326,
          "symbol": "circle"
         },
         "mode": "markers",
         "name": "Egypt",
         "showlegend": true,
         "type": "scattergeo"
        },
        {
         "geo": "geo",
         "hovertemplate": "<b>%{hovertext}</b><br><br>Country=Djibouti<br>AveragScore=%{marker.size}<br>latitude=%{lat}<br>longitude=%{lon}<extra></extra>",
         "hovertext": [
          "Djibouti"
         ],
         "lat": {
          "bdata": "q1/pfHimJ0A=",
          "dtype": "f8"
         },
         "legendgroup": "Djibouti",
         "lon": {
          "bdata": "vVKWIY5LRUA=",
          "dtype": "f8"
         },
         "marker": {
          "color": "#FECB52",
          "size": {
           "bdata": "XI/C9Sg8SEA=",
           "dtype": "f8"
          },
          "sizemode": "area",
          "sizeref": 1.7255102040816326,
          "symbol": "circle"
         },
         "mode": "markers",
         "name": "Djibouti",
         "showlegend": true,
         "type": "scattergeo"
        },
        {
         "geo": "geo",
         "hovertemplate": "<b>%{hovertext}</b><br><br>Country=Benin<br>AveragScore=%{marker.size}<br>latitude=%{lat}<br>longitude=%{lon}<extra></extra>",
         "hovertext": [
          "Benin"
         ],
         "lat": {
          "bdata": "y5wui4mdIkA=",
          "dtype": "f8"
         },
         "legendgroup": "Benin",
         "lon": {
          "bdata": "C7jn+dOGAkA=",
          "dtype": "f8"
         },
         "marker": {
          "color": "#636efa",
          "size": {
           "bdata": "XI/C9SgcSEA=",
           "dtype": "f8"
          },
          "sizemode": "area",
          "sizeref": 1.7255102040816326,
          "symbol": "circle"
         },
         "mode": "markers",
         "name": "Benin",
         "showlegend": true,
         "type": "scattergeo"
        },
        {
         "geo": "geo",
         "hovertemplate": "<b>%{hovertext}</b><br><br>Country=Bangladesh<br>AveragScore=%{marker.size}<br>latitude=%{lat}<br>longitude=%{lon}<extra></extra>",
         "hovertext": [
          "Bangladesh"
         ],
         "lat": {
          "bdata": "y/RLxFuvN0A=",
          "dtype": "f8"
         },
         "legendgroup": "Bangladesh",
         "lon": {
          "bdata": "Q+OJIM6WVkA=",
          "dtype": "f8"
         },
         "marker": {
          "color": "#EF553B",
          "size": {
           "bdata": "j8L1KFzvR0A=",
           "dtype": "f8"
          },
          "sizemode": "area",
          "sizeref": 1.7255102040816326,
          "symbol": "circle"
         },
         "mode": "markers",
         "name": "Bangladesh",
         "showlegend": true,
         "type": "scattergeo"
        },
        {
         "geo": "geo",
         "hovertemplate": "<b>%{hovertext}</b><br><br>Country=Malawi<br>AveragScore=%{marker.size}<br>latitude=%{lat}<br>longitude=%{lon}<extra></extra>",
         "hovertext": [
          "Malawi"
         ],
         "lat": {
          "bdata": "6zh+qDSCKsA=",
          "dtype": "f8"
         },
         "legendgroup": "Malawi",
         "lon": {
          "bdata": "lPYGX5gmQUA=",
          "dtype": "f8"
         },
         "marker": {
          "color": "#00cc96",
          "size": {
           "bdata": "CtejcD3qR0A=",
           "dtype": "f8"
          },
          "sizemode": "area",
          "sizeref": 1.7255102040816326,
          "symbol": "circle"
         },
         "mode": "markers",
         "name": "Malawi",
         "showlegend": true,
         "type": "scattergeo"
        },
        {
         "geo": "geo",
         "hovertemplate": "<b>%{hovertext}</b><br><br>Country=Iran<br>AveragScore=%{marker.size}<br>latitude=%{lat}<br>longitude=%{lon}<extra></extra>",
         "hovertext": [
          "Iran"
         ],
         "lat": {
          "bdata": "MNl4sMU2QEA=",
          "dtype": "f8"
         },
         "legendgroup": "Iran",
         "lon": {
          "bdata": "YhIu5BHYSkA=",
          "dtype": "f8"
         },
         "marker": {
          "color": "#ab63fa",
          "size": {
           "bdata": "exSuR+HaR0A=",
           "dtype": "f8"
          },
          "sizemode": "area",
          "sizeref": 1.7255102040816326,
          "symbol": "circle"
         },
         "mode": "markers",
         "name": "Iran",
         "showlegend": true,
         "type": "scattergeo"
        },
        {
         "geo": "geo",
         "hovertemplate": "<b>%{hovertext}</b><br><br>Country=Zambia<br>AveragScore=%{marker.size}<br>latitude=%{lat}<br>longitude=%{lon}<extra></extra>",
         "hovertext": [
          "Zambia"
         ],
         "lat": {
          "bdata": "pRDIJY5EKsA=",
          "dtype": "f8"
         },
         "legendgroup": "Zambia",
         "lon": {
          "bdata": "P3Jr0m3ZO0A=",
          "dtype": "f8"
         },
         "marker": {
          "color": "#FFA15A",
          "size": {
           "bdata": "UrgeheuRR0A=",
           "dtype": "f8"
          },
          "sizemode": "area",
          "sizeref": 1.7255102040816326,
          "symbol": "circle"
         },
         "mode": "markers",
         "name": "Zambia",
         "showlegend": true,
         "type": "scattergeo"
        },
        {
         "geo": "geo",
         "hovertemplate": "<b>%{hovertext}</b><br><br>Country=Comoros<br>AveragScore=%{marker.size}<br>latitude=%{lat}<br>longitude=%{lon}<extra></extra>",
         "hovertext": [
          "Comoros"
         ],
         "lat": {
          "bdata": "Qe+NIQDAJ8A=",
          "dtype": "f8"
         },
         "legendgroup": "Comoros",
         "lon": {
          "bdata": "lPlH36TvRUA=",
          "dtype": "f8"
         },
         "marker": {
          "color": "#19d3f3",
          "size": {
           "bdata": "16NwPQp3R0A=",
           "dtype": "f8"
          },
          "sizemode": "area",
          "sizeref": 1.7255102040816326,
          "symbol": "circle"
         },
         "mode": "markers",
         "name": "Comoros",
         "showlegend": true,
         "type": "scattergeo"
        },
        {
         "geo": "geo",
         "hovertemplate": "<b>%{hovertext}</b><br><br>Country=Uganda<br>AveragScore=%{marker.size}<br>latitude=%{lat}<br>longitude=%{lon}<extra></extra>",
         "hovertext": [
          "Uganda"
         ],
         "lat": {
          "bdata": "9UcYBiz59T8=",
          "dtype": "f8"
         },
         "legendgroup": "Uganda",
         "lon": {
          "bdata": "V+wvuyclQEA=",
          "dtype": "f8"
         },
         "marker": {
          "color": "#FF6692",
          "size": {
           "bdata": "CtejcD1qR0A=",
           "dtype": "f8"
          },
          "sizemode": "area",
          "sizeref": 1.7255102040816326,
          "symbol": "circle"
         },
         "mode": "markers",
         "name": "Uganda",
         "showlegend": true,
         "type": "scattergeo"
        },
        {
         "geo": "geo",
         "hovertemplate": "<b>%{hovertext}</b><br><br>Country=Papua New Guinea<br>AveragScore=%{marker.size}<br>latitude=%{lat}<br>longitude=%{lon}<extra></extra>",
         "hovertext": [
          "Papua New Guinea"
         ],
         "lat": {
          "bdata": "L+Blho1CGcA=",
          "dtype": "f8"
         },
         "legendgroup": "Papua New Guinea",
         "lon": {
          "bdata": "K/aX3ZP+YUA=",
          "dtype": "f8"
         },
         "marker": {
          "color": "#B6E880",
          "size": {
           "bdata": "UrgehetRR0A=",
           "dtype": "f8"
          },
          "sizemode": "area",
          "sizeref": 1.7255102040816326,
          "symbol": "circle"
         },
         "mode": "markers",
         "name": "Papua New Guinea",
         "showlegend": true,
         "type": "scattergeo"
        },
        {
         "geo": "geo",
         "hovertemplate": "<b>%{hovertext}</b><br><br>Country=Equatorial Guinea<br>AveragScore=%{marker.size}<br>latitude=%{lat}<br>longitude=%{lon}<extra></extra>",
         "hovertext": [
          "Equatorial Guinea"
         ],
         "lat": {
          "bdata": "+kMzT65p+j8=",
          "dtype": "f8"
         },
         "legendgroup": "Equatorial Guinea",
         "lon": {
          "bdata": "GoaPiCmJJEA=",
          "dtype": "f8"
         },
         "marker": {
          "color": "#FF97FF",
          "size": {
           "bdata": "7FG4HoVLR0A=",
           "dtype": "f8"
          },
          "sizemode": "area",
          "sizeref": 1.7255102040816326,
          "symbol": "circle"
         },
         "mode": "markers",
         "name": "Equatorial Guinea",
         "showlegend": true,
         "type": "scattergeo"
        },
        {
         "geo": "geo",
         "hovertemplate": "<b>%{hovertext}</b><br><br>Country=Lesotho<br>AveragScore=%{marker.size}<br>latitude=%{lat}<br>longitude=%{lon}<extra></extra>",
         "hovertext": [
          "Lesotho"
         ],
         "lat": {
          "bdata": "1PNuLCicPcA=",
          "dtype": "f8"
         },
         "legendgroup": "Lesotho",
         "lon": {
          "bdata": "fxXgu807PEA=",
          "dtype": "f8"
         },
         "marker": {
          "color": "#FECB52",
          "size": {
           "bdata": "j8L1KFzPRkA=",
           "dtype": "f8"
          },
          "sizemode": "area",
          "sizeref": 1.7255102040816326,
          "symbol": "circle"
         },
         "mode": "markers",
         "name": "Lesotho",
         "showlegend": true,
         "type": "scattergeo"
        },
        {
         "geo": "geo",
         "hovertemplate": "<b>%{hovertext}</b><br><br>Country=Togo<br>AveragScore=%{marker.size}<br>latitude=%{lat}<br>longitude=%{lon}<extra></extra>",
         "hovertext": [
          "Togo"
         ],
         "lat": {
          "bdata": "dO52vTQ9IUA=",
          "dtype": "f8"
         },
         "legendgroup": "Togo",
         "lon": {
          "bdata": "CYuKOJ1k6j8=",
          "dtype": "f8"
         },
         "marker": {
          "color": "#636efa",
          "size": {
           "bdata": "w/UoXI/CRkA=",
           "dtype": "f8"
          },
          "sizemode": "area",
          "sizeref": 1.7255102040816326,
          "symbol": "circle"
         },
         "mode": "markers",
         "name": "Togo",
         "showlegend": true,
         "type": "scattergeo"
        },
        {
         "geo": "geo",
         "hovertemplate": "<b>%{hovertext}</b><br><br>Country=Swaziland<br>AveragScore=%{marker.size}<br>latitude=%{lat}<br>longitude=%{lon}<extra></extra>",
         "hovertext": [
          "Swaziland"
         ],
         "lat": {
          "bdata": "2A+xwcKFOsA=",
          "dtype": "f8"
         },
         "legendgroup": "Swaziland",
         "lon": {
          "bdata": "flGC/kJ3P0A=",
          "dtype": "f8"
         },
         "marker": {
          "color": "#EF553B",
          "size": {
           "bdata": "rkfhehSuRkA=",
           "dtype": "f8"
          },
          "sizemode": "area",
          "sizeref": 1.7255102040816326,
          "symbol": "circle"
         },
         "mode": "markers",
         "name": "Swaziland",
         "showlegend": true,
         "type": "scattergeo"
        },
        {
         "geo": "geo",
         "hovertemplate": "<b>%{hovertext}</b><br><br>Country=Burkina Faso<br>AveragScore=%{marker.size}<br>latitude=%{lat}<br>longitude=%{lon}<extra></extra>",
         "hovertext": [
          "Burkina Faso"
         ],
         "lat": {
          "bdata": "eh1xyAZ6KEA=",
          "dtype": "f8"
         },
         "legendgroup": "Burkina Faso",
         "lon": {
          "bdata": "t5kK8Uj8+L8=",
          "dtype": "f8"
         },
         "marker": {
          "color": "#00cc96",
          "size": {
           "bdata": "j8L1KFyPRkA=",
           "dtype": "f8"
          },
          "sizemode": "area",
          "sizeref": 1.7255102040816326,
          "symbol": "circle"
         },
         "mode": "markers",
         "name": "Burkina Faso",
         "showlegend": true,
         "type": "scattergeo"
        },
        {
         "geo": "geo",
         "hovertemplate": "<b>%{hovertext}</b><br><br>Country=Pakistan<br>AveragScore=%{marker.size}<br>latitude=%{lat}<br>longitude=%{lon}<extra></extra>",
         "hovertext": [
          "Pakistan"
         ],
         "lat": {
          "bdata": "hIB8CRVgPkA=",
          "dtype": "f8"
         },
         "legendgroup": "Pakistan",
         "lon": {
          "bdata": "41RrYRZWUUA=",
          "dtype": "f8"
         },
         "marker": {
          "color": "#ab63fa",
          "size": {
           "bdata": "zczMzMyMRkA=",
           "dtype": "f8"
          },
          "sizemode": "area",
          "sizeref": 1.7255102040816326,
          "symbol": "circle"
         },
         "mode": "markers",
         "name": "Pakistan",
         "showlegend": true,
         "type": "scattergeo"
        },
        {
         "geo": "geo",
         "hovertemplate": "<b>%{hovertext}</b><br><br>Country=Madagascar<br>AveragScore=%{marker.size}<br>latitude=%{lat}<br>longitude=%{lon}<extra></extra>",
         "hovertext": [
          "Madagascar"
         ],
         "lat": {
          "bdata": "68N6o1bEMsA=",
          "dtype": "f8"
         },
         "legendgroup": "Madagascar",
         "lon": {
          "bdata": "wtzu5T5vR0A=",
          "dtype": "f8"
         },
         "marker": {
          "color": "#FFA15A",
          "size": {
           "bdata": "uB6F61F4RkA=",
           "dtype": "f8"
          },
          "sizemode": "area",
          "sizeref": 1.7255102040816326,
          "symbol": "circle"
         },
         "mode": "markers",
         "name": "Madagascar",
         "showlegend": true,
         "type": "scattergeo"
        },
        {
         "geo": "geo",
         "hovertemplate": "<b>%{hovertext}</b><br><br>Country=Liberia<br>AveragScore=%{marker.size}<br>latitude=%{lat}<br>longitude=%{lon}<extra></extra>",
         "hovertext": [
          "Liberia"
         ],
         "lat": {
          "bdata": "n47HDFS2GUA=",
          "dtype": "f8"
         },
         "legendgroup": "Liberia",
         "lon": {
          "bdata": "VFT9SufbIsA=",
          "dtype": "f8"
         },
         "marker": {
          "color": "#19d3f3",
          "size": {
           "bdata": "hetRuB5lRkA=",
           "dtype": "f8"
          },
          "sizemode": "area",
          "sizeref": 1.7255102040816326,
          "symbol": "circle"
         },
         "mode": "markers",
         "name": "Liberia",
         "showlegend": true,
         "type": "scattergeo"
        },
        {
         "geo": "geo",
         "hovertemplate": "<b>%{hovertext}</b><br><br>Country=Zimbabwe<br>AveragScore=%{marker.size}<br>latitude=%{lat}<br>longitude=%{lon}<extra></extra>",
         "hovertext": [
          "Zimbabwe"
         ],
         "lat": {
          "bdata": "mx2pvvMDM8A=",
          "dtype": "f8"
         },
         "legendgroup": "Zimbabwe",
         "lon": {
          "bdata": "go5WtaQnPUA=",
          "dtype": "f8"
         },
         "marker": {
          "color": "#FF6692",
          "size": {
           "bdata": "9ihcj8JVRkA=",
           "dtype": "f8"
          },
          "sizemode": "area",
          "sizeref": 1.7255102040816326,
          "symbol": "circle"
         },
         "mode": "markers",
         "name": "Zimbabwe",
         "showlegend": true,
         "type": "scattergeo"
        },
        {
         "geo": "geo",
         "hovertemplate": "<b>%{hovertext}</b><br><br>Country=Iraq<br>AveragScore=%{marker.size}<br>latitude=%{lat}<br>longitude=%{lon}<extra></extra>",
         "hovertext": [
          "Iraq"
         ],
         "lat": {
          "bdata": "euHOhZGcQEA=",
          "dtype": "f8"
         },
         "legendgroup": "Iraq",
         "lon": {
          "bdata": "y7vqAfPWRUA=",
          "dtype": "f8"
         },
         "marker": {
          "color": "#B6E880",
          "size": {
           "bdata": "FK5H4XpURkA=",
           "dtype": "f8"
          },
          "sizemode": "area",
          "sizeref": 1.7255102040816326,
          "symbol": "circle"
         },
         "mode": "markers",
         "name": "Iraq",
         "showlegend": true,
         "type": "scattergeo"
        },
        {
         "geo": "geo",
         "hovertemplate": "<b>%{hovertext}</b><br><br>Country=Guinea<br>AveragScore=%{marker.size}<br>latitude=%{lat}<br>longitude=%{lon}<extra></extra>",
         "hovertext": [
          "Guinea"
         ],
         "lat": {
          "bdata": "pgux+iPkI0A=",
          "dtype": "f8"
         },
         "legendgroup": "Guinea",
         "lon": {
          "bdata": "BthHp65kI8A=",
          "dtype": "f8"
         },
         "marker": {
          "color": "#FF97FF",
          "size": {
           "bdata": "XI/C9Sg8RkA=",
           "dtype": "f8"
          },
          "sizemode": "area",
          "sizeref": 1.7255102040816326,
          "symbol": "circle"
         },
         "mode": "markers",
         "name": "Guinea",
         "showlegend": true,
         "type": "scattergeo"
        },
        {
         "geo": "geo",
         "hovertemplate": "<b>%{hovertext}</b><br><br>Country=Nigeria<br>AveragScore=%{marker.size}<br>latitude=%{lat}<br>longitude=%{lon}<extra></extra>",
         "hovertext": [
          "Nigeria"
         ],
         "lat": {
          "bdata": "ApzexfspIkA=",
          "dtype": "f8"
         },
         "legendgroup": "Nigeria",
         "lon": {
          "bdata": "Y3st6L1ZIUA=",
          "dtype": "f8"
         },
         "marker": {
          "color": "#FECB52",
          "size": {
           "bdata": "AAAAAAAARkA=",
           "dtype": "f8"
          },
          "sizemode": "area",
          "sizeref": 1.7255102040816326,
          "symbol": "circle"
         },
         "mode": "markers",
         "name": "Nigeria",
         "showlegend": true,
         "type": "scattergeo"
        },
        {
         "geo": "geo",
         "hovertemplate": "<b>%{hovertext}</b><br><br>Country=Sierra Leone<br>AveragScore=%{marker.size}<br>latitude=%{lat}<br>longitude=%{lon}<extra></extra>",
         "hovertext": [
          "Sierra Leone"
         ],
         "lat": {
          "bdata": "wARu3c3rIEA=",
          "dtype": "f8"
         },
         "legendgroup": "Sierra Leone",
         "lon": {
          "bdata": "MgVrnE2PJ8A=",
          "dtype": "f8"
         },
         "marker": {
          "color": "#636efa",
          "size": {
           "bdata": "j8L1KFzPRUA=",
           "dtype": "f8"
          },
          "sizemode": "area",
          "sizeref": 1.7255102040816326,
          "symbol": "circle"
         },
         "mode": "markers",
         "name": "Sierra Leone",
         "showlegend": true,
         "type": "scattergeo"
        },
        {
         "geo": "geo",
         "hovertemplate": "<b>%{hovertext}</b><br><br>Country=Venezuela<br>AveragScore=%{marker.size}<br>latitude=%{lat}<br>longitude=%{lon}<extra></extra>",
         "hovertext": [
          "Venezuela"
         ],
         "lat": {
          "bdata": "UrgeheuxGUA=",
          "dtype": "f8"
         },
         "legendgroup": "Venezuela",
         "lon": {
          "bdata": "Ft7lIr6lUMA=",
          "dtype": "f8"
         },
         "marker": {
          "color": "#EF553B",
          "size": {
           "bdata": "zczMzMzMRUA=",
           "dtype": "f8"
          },
          "sizemode": "area",
          "sizeref": 1.7255102040816326,
          "symbol": "circle"
         },
         "mode": "markers",
         "name": "Venezuela",
         "showlegend": true,
         "type": "scattergeo"
        },
        {
         "geo": "geo",
         "hovertemplate": "<b>%{hovertext}</b><br><br>Country=Libya<br>AveragScore=%{marker.size}<br>latitude=%{lat}<br>longitude=%{lon}<extra></extra>",
         "hovertext": [
          "Libya"
         ],
         "lat": {
          "bdata": "veMUHclVOkA=",
          "dtype": "f8"
         },
         "legendgroup": "Libya",
         "lon": {
          "bdata": "uamB5nM6MUA=",
          "dtype": "f8"
         },
         "marker": {
          "color": "#00cc96",
          "size": {
           "bdata": "exSuR+G6RUA=",
           "dtype": "f8"
          },
          "sizemode": "area",
          "sizeref": 1.7255102040816326,
          "symbol": "circle"
         },
         "mode": "markers",
         "name": "Libya",
         "showlegend": true,
         "type": "scattergeo"
        },
        {
         "geo": "geo",
         "hovertemplate": "<b>%{hovertext}</b><br><br>Country=Cameroon<br>AveragScore=%{marker.size}<br>latitude=%{lat}<br>longitude=%{lon}<extra></extra>",
         "hovertext": [
          "Cameroon"
         ],
         "lat": {
          "bdata": "ZXJqZ5h6HUA=",
          "dtype": "f8"
         },
         "legendgroup": "Cameroon",
         "lon": {
          "bdata": "61c6H561KEA=",
          "dtype": "f8"
         },
         "marker": {
          "color": "#ab63fa",
          "size": {
           "bdata": "CtejcD2KRUA=",
           "dtype": "f8"
          },
          "sizemode": "area",
          "sizeref": 1.7255102040816326,
          "symbol": "circle"
         },
         "mode": "markers",
         "name": "Cameroon",
         "showlegend": true,
         "type": "scattergeo"
        },
        {
         "geo": "geo",
         "hovertemplate": "<b>%{hovertext}</b><br><br>Country=Guinea-Bissau<br>AveragScore=%{marker.size}<br>latitude=%{lat}<br>longitude=%{lon}<extra></extra>",
         "hovertext": [
          "Guinea-Bissau"
         ],
         "lat": {
          "bdata": "qmIq/YSbJ0A=",
          "dtype": "f8"
         },
         "legendgroup": "Guinea-Bissau",
         "lon": {
          "bdata": "54u9F19cLsA=",
          "dtype": "f8"
         },
         "marker": {
          "color": "#FFA15A",
          "size": {
           "bdata": "pHA9CtdjRUA=",
           "dtype": "f8"
          },
          "sizemode": "area",
          "sizeref": 1.7255102040816326,
          "symbol": "circle"
         },
         "mode": "markers",
         "name": "Guinea-Bissau",
         "showlegend": true,
         "type": "scattergeo"
        },
        {
         "geo": "geo",
         "hovertemplate": "<b>%{hovertext}</b><br><br>Country=Mozambique<br>AveragScore=%{marker.size}<br>latitude=%{lat}<br>longitude=%{lon}<extra></extra>",
         "hovertext": [
          "Mozambique"
         ],
         "lat": {
          "bdata": "WBzO/GqqMsA=",
          "dtype": "f8"
         },
         "legendgroup": "Mozambique",
         "lon": {
          "bdata": "KJoHsMjDQUA=",
          "dtype": "f8"
         },
         "marker": {
          "color": "#19d3f3",
          "size": {
           "bdata": "mpmZmZlZRUA=",
           "dtype": "f8"
          },
          "sizemode": "area",
          "sizeref": 1.7255102040816326,
          "symbol": "circle"
         },
         "mode": "markers",
         "name": "Mozambique",
         "showlegend": true,
         "type": "scattergeo"
        },
        {
         "geo": "geo",
         "hovertemplate": "<b>%{hovertext}</b><br><br>Country=Mali<br>AveragScore=%{marker.size}<br>latitude=%{lat}<br>longitude=%{lon}<extra></extra>",
         "hovertext": [
          "Mali"
         ],
         "lat": {
          "bdata": "vhb03hiSMUA=",
          "dtype": "f8"
         },
         "legendgroup": "Mali",
         "lon": {
          "bdata": "2xg74SX4D8A=",
          "dtype": "f8"
         },
         "marker": {
          "color": "#FF6692",
          "size": {
           "bdata": "rkfhehQuRUA=",
           "dtype": "f8"
          },
          "sizemode": "area",
          "sizeref": 1.7255102040816326,
          "symbol": "circle"
         },
         "mode": "markers",
         "name": "Mali",
         "showlegend": true,
         "type": "scattergeo"
        },
        {
         "geo": "geo",
         "hovertemplate": "<b>%{hovertext}</b><br><br>Country=Niger<br>AveragScore=%{marker.size}<br>latitude=%{lat}<br>longitude=%{lon}<extra></extra>",
         "hovertext": [
          "Niger"
         ],
         "lat": {
          "bdata": "Wd5VD5ibMUA=",
          "dtype": "f8"
         },
         "legendgroup": "Niger",
         "lon": {
          "bdata": "6WM+INApIEA=",
          "dtype": "f8"
         },
         "marker": {
          "color": "#B6E880",
          "size": {
           "bdata": "4XoUrkchRUA=",
           "dtype": "f8"
          },
          "sizemode": "area",
          "sizeref": 1.7255102040816326,
          "symbol": "circle"
         },
         "mode": "markers",
         "name": "Niger",
         "showlegend": true,
         "type": "scattergeo"
        },
        {
         "geo": "geo",
         "hovertemplate": "<b>%{hovertext}</b><br><br>Country=Ethiopia<br>AveragScore=%{marker.size}<br>latitude=%{lat}<br>longitude=%{lon}<extra></extra>",
         "hovertext": [
          "Ethiopia"
         ],
         "lat": {
          "bdata": "CtejcD1KIkA=",
          "dtype": "f8"
         },
         "legendgroup": "Ethiopia",
         "lon": {
          "bdata": "+13Ymq0+REA=",
          "dtype": "f8"
         },
         "marker": {
          "color": "#FF97FF",
          "size": {
           "bdata": "j8L1KFzvREA=",
           "dtype": "f8"
          },
          "sizemode": "area",
          "sizeref": 1.7255102040816326,
          "symbol": "circle"
         },
         "mode": "markers",
         "name": "Ethiopia",
         "showlegend": true,
         "type": "scattergeo"
        },
        {
         "geo": "geo",
         "hovertemplate": "<b>%{hovertext}</b><br><br>Country=Mauritania<br>AveragScore=%{marker.size}<br>latitude=%{lat}<br>longitude=%{lon}<extra></extra>",
         "hovertext": [
          "Mauritania"
         ],
         "lat": {
          "bdata": "J/c7FAUCNUA=",
          "dtype": "f8"
         },
         "legendgroup": "Mauritania",
         "lon": {
          "bdata": "RN0HILXhJcA=",
          "dtype": "f8"
         },
         "marker": {
          "color": "#FECB52",
          "size": {
           "bdata": "PQrXo3CdREA=",
           "dtype": "f8"
          },
          "sizemode": "area",
          "sizeref": 1.7255102040816326,
          "symbol": "circle"
         },
         "mode": "markers",
         "name": "Mauritania",
         "showlegend": true,
         "type": "scattergeo"
        },
        {
         "geo": "geo",
         "hovertemplate": "<b>%{hovertext}</b><br><br>Country=Angola<br>AveragScore=%{marker.size}<br>latitude=%{lat}<br>longitude=%{lon}<extra></extra>",
         "hovertext": [
          "Angola"
         ],
         "lat": {
          "bdata": "WVLuPsdnJsA=",
          "dtype": "f8"
         },
         "legendgroup": "Angola",
         "lon": {
          "bdata": "SWb1DrffMUA=",
          "dtype": "f8"
         },
         "marker": {
          "color": "#636efa",
          "size": {
           "bdata": "ZmZmZmZGREA=",
           "dtype": "f8"
          },
          "sizemode": "area",
          "sizeref": 1.7255102040816326,
          "symbol": "circle"
         },
         "mode": "markers",
         "name": "Angola",
         "showlegend": true,
         "type": "scattergeo"
        },
        {
         "geo": "geo",
         "hovertemplate": "<b>%{hovertext}</b><br><br>Country=Haiti<br>AveragScore=%{marker.size}<br>latitude=%{lat}<br>longitude=%{lon}<extra></extra>",
         "hovertext": [
          "Haiti"
         ],
         "lat": {
          "bdata": "5EwTtp/4MkA=",
          "dtype": "f8"
         },
         "legendgroup": "Haiti",
         "lon": {
          "bdata": "CFVq9kASUsA=",
          "dtype": "f8"
         },
         "marker": {
          "color": "#EF553B",
          "size": {
           "bdata": "KVyPwvXoQ0A=",
           "dtype": "f8"
          },
          "sizemode": "area",
          "sizeref": 1.7255102040816326,
          "symbol": "circle"
         },
         "mode": "markers",
         "name": "Haiti",
         "showlegend": true,
         "type": "scattergeo"
        },
        {
         "geo": "geo",
         "hovertemplate": "<b>%{hovertext}</b><br><br>Country=Burundi<br>AveragScore=%{marker.size}<br>latitude=%{lat}<br>longitude=%{lon}<extra></extra>",
         "hovertext": [
          "Burundi"
         ],
         "lat": {
          "bdata": "1Jy8yAT8CsA=",
          "dtype": "f8"
         },
         "legendgroup": "Burundi",
         "lon": {
          "bdata": "lMDmHDzrPUA=",
          "dtype": "f8"
         },
         "marker": {
          "color": "#00cc96",
          "size": {
           "bdata": "mpmZmZkZQ0A=",
           "dtype": "f8"
          },
          "sizemode": "area",
          "sizeref": 1.7255102040816326,
          "symbol": "circle"
         },
         "mode": "markers",
         "name": "Burundi",
         "showlegend": true,
         "type": "scattergeo"
        },
        {
         "geo": "geo",
         "hovertemplate": "<b>%{hovertext}</b><br><br>Country=Sudan<br>AveragScore=%{marker.size}<br>latitude=%{lat}<br>longitude=%{lon}<extra></extra>",
         "hovertext": [
          "Sudan"
         ],
         "lat": {
          "bdata": "DoXP1sG5KUA=",
          "dtype": "f8"
         },
         "legendgroup": "Sudan",
         "lon": {
          "bdata": "qG4u/rY3PkA=",
          "dtype": "f8"
         },
         "marker": {
          "color": "#ab63fa",
          "size": {
           "bdata": "XI/C9Sh8QkA=",
           "dtype": "f8"
          },
          "sizemode": "area",
          "sizeref": 1.7255102040816326,
          "symbol": "circle"
         },
         "mode": "markers",
         "name": "Sudan",
         "showlegend": true,
         "type": "scattergeo"
        },
        {
         "geo": "geo",
         "hovertemplate": "<b>%{hovertext}</b><br><br>Country=Syria<br>AveragScore=%{marker.size}<br>latitude=%{lat}<br>longitude=%{lon}<extra></extra>",
         "hovertext": [
          "Syria"
         ],
         "lat": {
          "bdata": "OPjCZKpmQUA=",
          "dtype": "f8"
         },
         "legendgroup": "Syria",
         "lon": {
          "bdata": "xJRIopd/Q0A=",
          "dtype": "f8"
         },
         "marker": {
          "color": "#FFA15A",
          "size": {
           "bdata": "CtejcD1qQkA=",
           "dtype": "f8"
          },
          "sizemode": "area",
          "sizeref": 1.7255102040816326,
          "symbol": "circle"
         },
         "mode": "markers",
         "name": "Syria",
         "showlegend": true,
         "type": "scattergeo"
        },
        {
         "geo": "geo",
         "hovertemplate": "<b>%{hovertext}</b><br><br>Country=Eritrea<br>AveragScore=%{marker.size}<br>latitude=%{lat}<br>longitude=%{lon}<extra></extra>",
         "hovertext": [
          "Eritrea"
         ],
         "lat": {
          "bdata": "8dk6ONhbLkA=",
          "dtype": "f8"
         },
         "legendgroup": "Eritrea",
         "lon": {
          "bdata": "QUZAhSPkQ0A=",
          "dtype": "f8"
         },
         "marker": {
          "color": "#19d3f3",
          "size": {
           "bdata": "w/UoXI8CQkA=",
           "dtype": "f8"
          },
          "sizemode": "area",
          "sizeref": 1.7255102040816326,
          "symbol": "circle"
         },
         "mode": "markers",
         "name": "Eritrea",
         "showlegend": true,
         "type": "scattergeo"
        },
        {
         "geo": "geo",
         "hovertemplate": "<b>%{hovertext}</b><br><br>Country=Chad<br>AveragScore=%{marker.size}<br>latitude=%{lat}<br>longitude=%{lon}<extra></extra>",
         "hovertext": [
          "Chad"
         ],
         "lat": {
          "bdata": "COkpcojoLkA=",
          "dtype": "f8"
         },
         "legendgroup": "Chad",
         "lon": {
          "bdata": "++b+6nG7MkA=",
          "dtype": "f8"
         },
         "marker": {
          "color": "#FF6692",
          "size": {
           "bdata": "uB6F61FYQUA=",
           "dtype": "f8"
          },
          "sizemode": "area",
          "sizeref": 1.7255102040816326,
          "symbol": "circle"
         },
         "mode": "markers",
         "name": "Chad",
         "showlegend": true,
         "type": "scattergeo"
        },
        {
         "geo": "geo",
         "hovertemplate": "<b>%{hovertext}</b><br><br>Country=Somalia<br>AveragScore=%{marker.size}<br>latitude=%{lat}<br>longitude=%{lon}<extra></extra>",
         "hovertext": [
          "Somalia"
         ],
         "lat": {
          "bdata": "9nmM8sybFEA=",
          "dtype": "f8"
         },
         "legendgroup": "Somalia",
         "lon": {
          "bdata": "EeFfBI0ZR0A=",
          "dtype": "f8"
         },
         "marker": {
          "color": "#B6E880",
          "size": {
           "bdata": "UrgehesxQUA=",
           "dtype": "f8"
          },
          "sizemode": "area",
          "sizeref": 1.7255102040816326,
          "symbol": "circle"
         },
         "mode": "markers",
         "name": "Somalia",
         "showlegend": true,
         "type": "scattergeo"
        },
        {
         "geo": "geo",
         "hovertemplate": "<b>%{hovertext}</b><br><br>Country=Afghanistan<br>AveragScore=%{marker.size}<br>latitude=%{lat}<br>longitude=%{lon}<extra></extra>",
         "hovertext": [
          "Afghanistan"
         ],
         "lat": {
          "bdata": "XKyowTT4QEA=",
          "dtype": "f8"
         },
         "legendgroup": "Afghanistan",
         "lon": {
          "bdata": "nSy13m/tUEA=",
          "dtype": "f8"
         },
         "marker": {
          "color": "#FF97FF",
          "size": {
           "bdata": "16NwPQoXQUA=",
           "dtype": "f8"
          },
          "sizemode": "area",
          "sizeref": 1.7255102040816326,
          "symbol": "circle"
         },
         "mode": "markers",
         "name": "Afghanistan",
         "showlegend": true,
         "type": "scattergeo"
        },
        {
         "geo": "geo",
         "hovertemplate": "<b>%{hovertext}</b><br><br>Country=Central African Republic<br>AveragScore=%{marker.size}<br>latitude=%{lat}<br>longitude=%{lon}<extra></extra>",
         "hovertext": [
          "Central African Republic"
         ],
         "lat": {
          "bdata": "R+f8FMdxGkA=",
          "dtype": "f8"
         },
         "legendgroup": "Central African Republic",
         "lon": {
          "bdata": "ZmzoZn/wNEA=",
          "dtype": "f8"
         },
         "marker": {
          "color": "#FECB52",
          "size": {
           "bdata": "CtejcD1qQEA=",
           "dtype": "f8"
          },
          "sizemode": "area",
          "sizeref": 1.7255102040816326,
          "symbol": "circle"
         },
         "mode": "markers",
         "name": "Central African Republic",
         "showlegend": true,
         "type": "scattergeo"
        },
        {
         "geo": "geo",
         "hovertemplate": "<b>%{hovertext}</b><br><br>Country=Yemen<br>AveragScore=%{marker.size}<br>latitude=%{lat}<br>longitude=%{lon}<extra></extra>",
         "hovertext": [
          "Yemen"
         ],
         "lat": {
          "bdata": "fjuJCP8aL0A=",
          "dtype": "f8"
         },
         "legendgroup": "Yemen",
         "lon": {
          "bdata": "/wWCABlCSEA=",
          "dtype": "f8"
         },
         "marker": {
          "color": "#636efa",
          "size": {
           "bdata": "MzMzMzNTQEA=",
           "dtype": "f8"
          },
          "sizemode": "area",
          "sizeref": 1.7255102040816326,
          "symbol": "circle"
         },
         "mode": "markers",
         "name": "Yemen",
         "showlegend": true,
         "type": "scattergeo"
        }
       ],
       "layout": {
        "geo": {
         "center": {},
         "domain": {
          "x": [
           0,
           1
          ],
          "y": [
           0,
           1
          ]
         }
        },
        "legend": {
         "itemsizing": "constant",
         "title": {
          "text": "Country"
         },
         "tracegroupgap": 0
        },
        "margin": {
         "t": 60
        },
        "template": {
         "data": {
          "bar": [
           {
            "error_x": {
             "color": "#2a3f5f"
            },
            "error_y": {
             "color": "#2a3f5f"
            },
            "marker": {
             "line": {
              "color": "#E5ECF6",
              "width": 0.5
             },
             "pattern": {
              "fillmode": "overlay",
              "size": 10,
              "solidity": 0.2
             }
            },
            "type": "bar"
           }
          ],
          "barpolar": [
           {
            "marker": {
             "line": {
              "color": "#E5ECF6",
              "width": 0.5
             },
             "pattern": {
              "fillmode": "overlay",
              "size": 10,
              "solidity": 0.2
             }
            },
            "type": "barpolar"
           }
          ],
          "carpet": [
           {
            "aaxis": {
             "endlinecolor": "#2a3f5f",
             "gridcolor": "white",
             "linecolor": "white",
             "minorgridcolor": "white",
             "startlinecolor": "#2a3f5f"
            },
            "baxis": {
             "endlinecolor": "#2a3f5f",
             "gridcolor": "white",
             "linecolor": "white",
             "minorgridcolor": "white",
             "startlinecolor": "#2a3f5f"
            },
            "type": "carpet"
           }
          ],
          "choropleth": [
           {
            "colorbar": {
             "outlinewidth": 0,
             "ticks": ""
            },
            "type": "choropleth"
           }
          ],
          "contour": [
           {
            "colorbar": {
             "outlinewidth": 0,
             "ticks": ""
            },
            "colorscale": [
             [
              0,
              "#0d0887"
             ],
             [
              0.1111111111111111,
              "#46039f"
             ],
             [
              0.2222222222222222,
              "#7201a8"
             ],
             [
              0.3333333333333333,
              "#9c179e"
             ],
             [
              0.4444444444444444,
              "#bd3786"
             ],
             [
              0.5555555555555556,
              "#d8576b"
             ],
             [
              0.6666666666666666,
              "#ed7953"
             ],
             [
              0.7777777777777778,
              "#fb9f3a"
             ],
             [
              0.8888888888888888,
              "#fdca26"
             ],
             [
              1,
              "#f0f921"
             ]
            ],
            "type": "contour"
           }
          ],
          "contourcarpet": [
           {
            "colorbar": {
             "outlinewidth": 0,
             "ticks": ""
            },
            "type": "contourcarpet"
           }
          ],
          "heatmap": [
           {
            "colorbar": {
             "outlinewidth": 0,
             "ticks": ""
            },
            "colorscale": [
             [
              0,
              "#0d0887"
             ],
             [
              0.1111111111111111,
              "#46039f"
             ],
             [
              0.2222222222222222,
              "#7201a8"
             ],
             [
              0.3333333333333333,
              "#9c179e"
             ],
             [
              0.4444444444444444,
              "#bd3786"
             ],
             [
              0.5555555555555556,
              "#d8576b"
             ],
             [
              0.6666666666666666,
              "#ed7953"
             ],
             [
              0.7777777777777778,
              "#fb9f3a"
             ],
             [
              0.8888888888888888,
              "#fdca26"
             ],
             [
              1,
              "#f0f921"
             ]
            ],
            "type": "heatmap"
           }
          ],
          "histogram": [
           {
            "marker": {
             "pattern": {
              "fillmode": "overlay",
              "size": 10,
              "solidity": 0.2
             }
            },
            "type": "histogram"
           }
          ],
          "histogram2d": [
           {
            "colorbar": {
             "outlinewidth": 0,
             "ticks": ""
            },
            "colorscale": [
             [
              0,
              "#0d0887"
             ],
             [
              0.1111111111111111,
              "#46039f"
             ],
             [
              0.2222222222222222,
              "#7201a8"
             ],
             [
              0.3333333333333333,
              "#9c179e"
             ],
             [
              0.4444444444444444,
              "#bd3786"
             ],
             [
              0.5555555555555556,
              "#d8576b"
             ],
             [
              0.6666666666666666,
              "#ed7953"
             ],
             [
              0.7777777777777778,
              "#fb9f3a"
             ],
             [
              0.8888888888888888,
              "#fdca26"
             ],
             [
              1,
              "#f0f921"
             ]
            ],
            "type": "histogram2d"
           }
          ],
          "histogram2dcontour": [
           {
            "colorbar": {
             "outlinewidth": 0,
             "ticks": ""
            },
            "colorscale": [
             [
              0,
              "#0d0887"
             ],
             [
              0.1111111111111111,
              "#46039f"
             ],
             [
              0.2222222222222222,
              "#7201a8"
             ],
             [
              0.3333333333333333,
              "#9c179e"
             ],
             [
              0.4444444444444444,
              "#bd3786"
             ],
             [
              0.5555555555555556,
              "#d8576b"
             ],
             [
              0.6666666666666666,
              "#ed7953"
             ],
             [
              0.7777777777777778,
              "#fb9f3a"
             ],
             [
              0.8888888888888888,
              "#fdca26"
             ],
             [
              1,
              "#f0f921"
             ]
            ],
            "type": "histogram2dcontour"
           }
          ],
          "mesh3d": [
           {
            "colorbar": {
             "outlinewidth": 0,
             "ticks": ""
            },
            "type": "mesh3d"
           }
          ],
          "parcoords": [
           {
            "line": {
             "colorbar": {
              "outlinewidth": 0,
              "ticks": ""
             }
            },
            "type": "parcoords"
           }
          ],
          "pie": [
           {
            "automargin": true,
            "type": "pie"
           }
          ],
          "scatter": [
           {
            "fillpattern": {
             "fillmode": "overlay",
             "size": 10,
             "solidity": 0.2
            },
            "type": "scatter"
           }
          ],
          "scatter3d": [
           {
            "line": {
             "colorbar": {
              "outlinewidth": 0,
              "ticks": ""
             }
            },
            "marker": {
             "colorbar": {
              "outlinewidth": 0,
              "ticks": ""
             }
            },
            "type": "scatter3d"
           }
          ],
          "scattercarpet": [
           {
            "marker": {
             "colorbar": {
              "outlinewidth": 0,
              "ticks": ""
             }
            },
            "type": "scattercarpet"
           }
          ],
          "scattergeo": [
           {
            "marker": {
             "colorbar": {
              "outlinewidth": 0,
              "ticks": ""
             }
            },
            "type": "scattergeo"
           }
          ],
          "scattergl": [
           {
            "marker": {
             "colorbar": {
              "outlinewidth": 0,
              "ticks": ""
             }
            },
            "type": "scattergl"
           }
          ],
          "scattermap": [
           {
            "marker": {
             "colorbar": {
              "outlinewidth": 0,
              "ticks": ""
             }
            },
            "type": "scattermap"
           }
          ],
          "scattermapbox": [
           {
            "marker": {
             "colorbar": {
              "outlinewidth": 0,
              "ticks": ""
             }
            },
            "type": "scattermapbox"
           }
          ],
          "scatterpolar": [
           {
            "marker": {
             "colorbar": {
              "outlinewidth": 0,
              "ticks": ""
             }
            },
            "type": "scatterpolar"
           }
          ],
          "scatterpolargl": [
           {
            "marker": {
             "colorbar": {
              "outlinewidth": 0,
              "ticks": ""
             }
            },
            "type": "scatterpolargl"
           }
          ],
          "scatterternary": [
           {
            "marker": {
             "colorbar": {
              "outlinewidth": 0,
              "ticks": ""
             }
            },
            "type": "scatterternary"
           }
          ],
          "surface": [
           {
            "colorbar": {
             "outlinewidth": 0,
             "ticks": ""
            },
            "colorscale": [
             [
              0,
              "#0d0887"
             ],
             [
              0.1111111111111111,
              "#46039f"
             ],
             [
              0.2222222222222222,
              "#7201a8"
             ],
             [
              0.3333333333333333,
              "#9c179e"
             ],
             [
              0.4444444444444444,
              "#bd3786"
             ],
             [
              0.5555555555555556,
              "#d8576b"
             ],
             [
              0.6666666666666666,
              "#ed7953"
             ],
             [
              0.7777777777777778,
              "#fb9f3a"
             ],
             [
              0.8888888888888888,
              "#fdca26"
             ],
             [
              1,
              "#f0f921"
             ]
            ],
            "type": "surface"
           }
          ],
          "table": [
           {
            "cells": {
             "fill": {
              "color": "#EBF0F8"
             },
             "line": {
              "color": "white"
             }
            },
            "header": {
             "fill": {
              "color": "#C8D4E3"
             },
             "line": {
              "color": "white"
             }
            },
            "type": "table"
           }
          ]
         },
         "layout": {
          "annotationdefaults": {
           "arrowcolor": "#2a3f5f",
           "arrowhead": 0,
           "arrowwidth": 1
          },
          "autotypenumbers": "strict",
          "coloraxis": {
           "colorbar": {
            "outlinewidth": 0,
            "ticks": ""
           }
          },
          "colorscale": {
           "diverging": [
            [
             0,
             "#8e0152"
            ],
            [
             0.1,
             "#c51b7d"
            ],
            [
             0.2,
             "#de77ae"
            ],
            [
             0.3,
             "#f1b6da"
            ],
            [
             0.4,
             "#fde0ef"
            ],
            [
             0.5,
             "#f7f7f7"
            ],
            [
             0.6,
             "#e6f5d0"
            ],
            [
             0.7,
             "#b8e186"
            ],
            [
             0.8,
             "#7fbc41"
            ],
            [
             0.9,
             "#4d9221"
            ],
            [
             1,
             "#276419"
            ]
           ],
           "sequential": [
            [
             0,
             "#0d0887"
            ],
            [
             0.1111111111111111,
             "#46039f"
            ],
            [
             0.2222222222222222,
             "#7201a8"
            ],
            [
             0.3333333333333333,
             "#9c179e"
            ],
            [
             0.4444444444444444,
             "#bd3786"
            ],
            [
             0.5555555555555556,
             "#d8576b"
            ],
            [
             0.6666666666666666,
             "#ed7953"
            ],
            [
             0.7777777777777778,
             "#fb9f3a"
            ],
            [
             0.8888888888888888,
             "#fdca26"
            ],
            [
             1,
             "#f0f921"
            ]
           ],
           "sequentialminus": [
            [
             0,
             "#0d0887"
            ],
            [
             0.1111111111111111,
             "#46039f"
            ],
            [
             0.2222222222222222,
             "#7201a8"
            ],
            [
             0.3333333333333333,
             "#9c179e"
            ],
            [
             0.4444444444444444,
             "#bd3786"
            ],
            [
             0.5555555555555556,
             "#d8576b"
            ],
            [
             0.6666666666666666,
             "#ed7953"
            ],
            [
             0.7777777777777778,
             "#fb9f3a"
            ],
            [
             0.8888888888888888,
             "#fdca26"
            ],
            [
             1,
             "#f0f921"
            ]
           ]
          },
          "colorway": [
           "#636efa",
           "#EF553B",
           "#00cc96",
           "#ab63fa",
           "#FFA15A",
           "#19d3f3",
           "#FF6692",
           "#B6E880",
           "#FF97FF",
           "#FECB52"
          ],
          "font": {
           "color": "#2a3f5f"
          },
          "geo": {
           "bgcolor": "white",
           "lakecolor": "white",
           "landcolor": "#E5ECF6",
           "showlakes": true,
           "showland": true,
           "subunitcolor": "white"
          },
          "hoverlabel": {
           "align": "left"
          },
          "hovermode": "closest",
          "mapbox": {
           "style": "light"
          },
          "paper_bgcolor": "white",
          "plot_bgcolor": "#E5ECF6",
          "polar": {
           "angularaxis": {
            "gridcolor": "white",
            "linecolor": "white",
            "ticks": ""
           },
           "bgcolor": "#E5ECF6",
           "radialaxis": {
            "gridcolor": "white",
            "linecolor": "white",
            "ticks": ""
           }
          },
          "scene": {
           "xaxis": {
            "backgroundcolor": "#E5ECF6",
            "gridcolor": "white",
            "gridwidth": 2,
            "linecolor": "white",
            "showbackground": true,
            "ticks": "",
            "zerolinecolor": "white"
           },
           "yaxis": {
            "backgroundcolor": "#E5ECF6",
            "gridcolor": "white",
            "gridwidth": 2,
            "linecolor": "white",
            "showbackground": true,
            "ticks": "",
            "zerolinecolor": "white"
           },
           "zaxis": {
            "backgroundcolor": "#E5ECF6",
            "gridcolor": "white",
            "gridwidth": 2,
            "linecolor": "white",
            "showbackground": true,
            "ticks": "",
            "zerolinecolor": "white"
           }
          },
          "shapedefaults": {
           "line": {
            "color": "#2a3f5f"
           }
          },
          "ternary": {
           "aaxis": {
            "gridcolor": "white",
            "linecolor": "white",
            "ticks": ""
           },
           "baxis": {
            "gridcolor": "white",
            "linecolor": "white",
            "ticks": ""
           },
           "bgcolor": "#E5ECF6",
           "caxis": {
            "gridcolor": "white",
            "linecolor": "white",
            "ticks": ""
           }
          },
          "title": {
           "x": 0.05
          },
          "xaxis": {
           "automargin": true,
           "gridcolor": "white",
           "linecolor": "white",
           "ticks": "",
           "title": {
            "standoff": 15
           },
           "zerolinecolor": "white",
           "zerolinewidth": 2
          },
          "yaxis": {
           "automargin": true,
           "gridcolor": "white",
           "linecolor": "white",
           "ticks": "",
           "title": {
            "standoff": 15
           },
           "zerolinecolor": "white",
           "zerolinewidth": 2
          }
         }
        }
       }
      },
      "text/html": [
       "<div>            <script src=\"https://cdnjs.cloudflare.com/ajax/libs/mathjax/2.7.5/MathJax.js?config=TeX-AMS-MML_SVG\"></script><script type=\"text/javascript\">if (window.MathJax && window.MathJax.Hub && window.MathJax.Hub.Config) {window.MathJax.Hub.Config({SVG: {font: \"STIX-Web\"}});}</script>                <script type=\"text/javascript\">window.PlotlyConfig = {MathJaxConfig: 'local'};</script>\n",
       "        <script charset=\"utf-8\" src=\"https://cdn.plot.ly/plotly-3.0.1.min.js\"></script>                <div id=\"f79c7942-fb5a-4555-84ae-72623a5cd425\" class=\"plotly-graph-div\" style=\"height:525px; width:100%;\"></div>            <script type=\"text/javascript\">                window.PLOTLYENV=window.PLOTLYENV || {};                                if (document.getElementById(\"f79c7942-fb5a-4555-84ae-72623a5cd425\")) {                    Plotly.newPlot(                        \"f79c7942-fb5a-4555-84ae-72623a5cd425\",                        [{\"geo\":\"geo\",\"hovertemplate\":\"\\u003cb\\u003e%{hovertext}\\u003c\\u002fb\\u003e\\u003cbr\\u003e\\u003cbr\\u003eCountry=Denmark\\u003cbr\\u003eAveragScore=%{marker.size}\\u003cbr\\u003elatitude=%{lat}\\u003cbr\\u003elongitude=%{lon}\\u003cextra\\u003e\\u003c\\u002fextra\\u003e\",\"hovertext\":[\"Denmark\"],\"lat\":{\"dtype\":\"f8\",\"bdata\":\"UmFsIcghTEA=\"},\"legendgroup\":\"Denmark\",\"lon\":{\"dtype\":\"f8\",\"bdata\":\"KT+p9ukAI0A=\"},\"marker\":{\"color\":\"#636efa\",\"size\":{\"dtype\":\"f8\",\"bdata\":\"MzMzMzMjVUA=\"},\"sizemode\":\"area\",\"sizeref\":1.7255102040816326,\"symbol\":\"circle\"},\"mode\":\"markers\",\"name\":\"Denmark\",\"showlegend\":true,\"type\":\"scattergeo\"},{\"geo\":\"geo\",\"hovertemplate\":\"\\u003cb\\u003e%{hovertext}\\u003c\\u002fb\\u003e\\u003cbr\\u003e\\u003cbr\\u003eCountry=Sweden\\u003cbr\\u003eAveragScore=%{marker.size}\\u003cbr\\u003elatitude=%{lat}\\u003cbr\\u003elongitude=%{lon}\\u003cextra\\u003e\\u003c\\u002fextra\\u003e\",\"hovertext\":[\"Sweden\"],\"lat\":{\"dtype\":\"f8\",\"bdata\":\"s89jlGcQTkA=\"},\"legendgroup\":\"Sweden\",\"lon\":{\"dtype\":\"f8\",\"bdata\":\"fPFFe7ykMkA=\"},\"marker\":{\"color\":\"#EF553B\",\"size\":{\"dtype\":\"f8\",\"bdata\":\"exSuR+HqVEA=\"},\"sizemode\":\"area\",\"sizeref\":1.7255102040816326,\"symbol\":\"circle\"},\"mode\":\"markers\",\"name\":\"Sweden\",\"showlegend\":true,\"type\":\"scattergeo\"},{\"geo\":\"geo\",\"hovertemplate\":\"\\u003cb\\u003e%{hovertext}\\u003c\\u002fb\\u003e\\u003cbr\\u003e\\u003cbr\\u003eCountry=Norway\\u003cbr\\u003eAveragScore=%{marker.size}\\u003cbr\\u003elatitude=%{lat}\\u003cbr\\u003elongitude=%{lon}\\u003cextra\\u003e\\u003c\\u002fextra\\u003e\",\"hovertext\":[\"Norway\"],\"lat\":{\"dtype\":\"f8\",\"bdata\":\"q3ZNSGs8TkA=\"},\"legendgroup\":\"Norway\",\"lon\":{\"dtype\":\"f8\",\"bdata\":\"Fy6rsBnwIEA=\"},\"marker\":{\"color\":\"#00cc96\",\"size\":{\"dtype\":\"f8\",\"bdata\":\"9ihcj8LlVEA=\"},\"sizemode\":\"area\",\"sizeref\":1.7255102040816326,\"symbol\":\"circle\"},\"mode\":\"markers\",\"name\":\"Norway\",\"showlegend\":true,\"type\":\"scattergeo\"},{\"geo\":\"geo\",\"hovertemplate\":\"\\u003cb\\u003e%{hovertext}\\u003c\\u002fb\\u003e\\u003cbr\\u003e\\u003cbr\\u003eCountry=Finland\\u003cbr\\u003eAveragScore=%{marker.size}\\u003cbr\\u003elatitude=%{lat}\\u003cbr\\u003elongitude=%{lon}\\u003cextra\\u003e\\u003c\\u002fextra\\u003e\",\"hovertext\":[\"Finland\"],\"lat\":{\"dtype\":\"f8\",\"bdata\":\"CvSJPEn2TkA=\"},\"legendgroup\":\"Finland\",\"lon\":{\"dtype\":\"f8\",\"bdata\":\"Pnjt0oa\\u002fOUA=\"},\"marker\":{\"color\":\"#ab63fa\",\"size\":{\"dtype\":\"f8\",\"bdata\":\"rkfhehTeVEA=\"},\"sizemode\":\"area\",\"sizeref\":1.7255102040816326,\"symbol\":\"circle\"},\"mode\":\"markers\",\"name\":\"Finland\",\"showlegend\":true,\"type\":\"scattergeo\"},{\"geo\":\"geo\",\"hovertemplate\":\"\\u003cb\\u003e%{hovertext}\\u003c\\u002fb\\u003e\\u003cbr\\u003e\\u003cbr\\u003eCountry=Switzerland\\u003cbr\\u003eAveragScore=%{marker.size}\\u003cbr\\u003elatitude=%{lat}\\u003cbr\\u003elongitude=%{lon}\\u003cextra\\u003e\\u003c\\u002fextra\\u003e\",\"hovertext\":[\"Switzerland\"],\"lat\":{\"dtype\":\"f8\",\"bdata\":\"Zf1mYrpoR0A=\"},\"legendgroup\":\"Switzerland\",\"lon\":{\"dtype\":\"f8\",\"bdata\":\"JuXuc3x0IEA=\"},\"marker\":{\"color\":\"#FFA15A\",\"size\":{\"dtype\":\"f8\",\"bdata\":\"exSuR+HaVEA=\"},\"sizemode\":\"area\",\"sizeref\":1.7255102040816326,\"symbol\":\"circle\"},\"mode\":\"markers\",\"name\":\"Switzerland\",\"showlegend\":true,\"type\":\"scattergeo\"},{\"geo\":\"geo\",\"hovertemplate\":\"\\u003cb\\u003e%{hovertext}\\u003c\\u002fb\\u003e\\u003cbr\\u003e\\u003cbr\\u003eCountry=Netherlands\\u003cbr\\u003eAveragScore=%{marker.size}\\u003cbr\\u003elatitude=%{lat}\\u003cbr\\u003elongitude=%{lon}\\u003cextra\\u003e\\u003c\\u002fextra\\u003e\",\"hovertext\":[\"Netherlands\"],\"lat\":{\"dtype\":\"f8\",\"bdata\":\"aK8+HvoQSkA=\"},\"legendgroup\":\"Netherlands\",\"lon\":{\"dtype\":\"f8\",\"bdata\":\"OL9hokEqFUA=\"},\"marker\":{\"color\":\"#19d3f3\",\"size\":{\"dtype\":\"f8\",\"bdata\":\"FK5H4XqUVEA=\"},\"sizemode\":\"area\",\"sizeref\":1.7255102040816326,\"symbol\":\"circle\"},\"mode\":\"markers\",\"name\":\"Netherlands\",\"showlegend\":true,\"type\":\"scattergeo\"},{\"geo\":\"geo\",\"hovertemplate\":\"\\u003cb\\u003e%{hovertext}\\u003c\\u002fb\\u003e\\u003cbr\\u003e\\u003cbr\\u003eCountry=Luxembourg\\u003cbr\\u003eAveragScore=%{marker.size}\\u003cbr\\u003elatitude=%{lat}\\u003cbr\\u003elongitude=%{lon}\\u003cextra\\u003e\\u003c\\u002fextra\\u003e\",\"hovertext\":[\"Luxembourg\"],\"lat\":{\"dtype\":\"f8\",\"bdata\":\"6Sec3VroSEA=\"},\"legendgroup\":\"Luxembourg\",\"lon\":{\"dtype\":\"f8\",\"bdata\":\"ZHjsZ7GEGEA=\"},\"marker\":{\"color\":\"#FF6692\",\"size\":{\"dtype\":\"f8\",\"bdata\":\"hetRuB51VEA=\"},\"sizemode\":\"area\",\"sizeref\":1.7255102040816326,\"symbol\":\"circle\"},\"mode\":\"markers\",\"name\":\"Luxembourg\",\"showlegend\":true,\"type\":\"scattergeo\"},{\"geo\":\"geo\",\"hovertemplate\":\"\\u003cb\\u003e%{hovertext}\\u003c\\u002fb\\u003e\\u003cbr\\u003e\\u003cbr\\u003eCountry=Iceland\\u003cbr\\u003eAveragScore=%{marker.size}\\u003cbr\\u003elatitude=%{lat}\\u003cbr\\u003elongitude=%{lon}\\u003cextra\\u003e\\u003c\\u002fextra\\u003e\",\"hovertext\":[\"Iceland\"],\"lat\":{\"dtype\":\"f8\",\"bdata\":\"U1ipoKI9UEA=\"},\"legendgroup\":\"Iceland\",\"lon\":{\"dtype\":\"f8\",\"bdata\":\"t5xLcVUFM8A=\"},\"marker\":{\"color\":\"#B6E880\",\"size\":{\"dtype\":\"f8\",\"bdata\":\"4XoUrkdBVEA=\"},\"sizemode\":\"area\",\"sizeref\":1.7255102040816326,\"symbol\":\"circle\"},\"mode\":\"markers\",\"name\":\"Iceland\",\"showlegend\":true,\"type\":\"scattergeo\"},{\"geo\":\"geo\",\"hovertemplate\":\"\\u003cb\\u003e%{hovertext}\\u003c\\u002fb\\u003e\\u003cbr\\u003e\\u003cbr\\u003eCountry=Germany\\u003cbr\\u003eAveragScore=%{marker.size}\\u003cbr\\u003elatitude=%{lat}\\u003cbr\\u003elongitude=%{lon}\\u003cextra\\u003e\\u003c\\u002fextra\\u003e\",\"hovertext\":[\"Germany\"],\"lat\":{\"dtype\":\"f8\",\"bdata\":\"6x7ZXDWVSUA=\"},\"legendgroup\":\"Germany\",\"lon\":{\"dtype\":\"f8\",\"bdata\":\"X5Z2ai7nJEA=\"},\"marker\":{\"color\":\"#FF97FF\",\"size\":{\"dtype\":\"f8\",\"bdata\":\"pHA9CtczVEA=\"},\"sizemode\":\"area\",\"sizeref\":1.7255102040816326,\"symbol\":\"circle\"},\"mode\":\"markers\",\"name\":\"Germany\",\"showlegend\":true,\"type\":\"scattergeo\"},{\"geo\":\"geo\",\"hovertemplate\":\"\\u003cb\\u003e%{hovertext}\\u003c\\u002fb\\u003e\\u003cbr\\u003e\\u003cbr\\u003eCountry=New Zealand\\u003cbr\\u003eAveragScore=%{marker.size}\\u003cbr\\u003elatitude=%{lat}\\u003cbr\\u003elongitude=%{lon}\\u003cextra\\u003e\\u003c\\u002fextra\\u003e\",\"hovertext\":[\"New Zealand\"],\"lat\":{\"dtype\":\"f8\",\"bdata\":\"iZenc0VzRMA=\"},\"legendgroup\":\"New Zealand\",\"lon\":{\"dtype\":\"f8\",\"bdata\":\"i8ba31ncZUA=\"},\"marker\":{\"color\":\"#FECB52\",\"size\":{\"dtype\":\"f8\",\"bdata\":\"rkfhehQeVEA=\"},\"sizemode\":\"area\",\"sizeref\":1.7255102040816326,\"symbol\":\"circle\"},\"mode\":\"markers\",\"name\":\"New Zealand\",\"showlegend\":true,\"type\":\"scattergeo\"},{\"geo\":\"geo\",\"hovertemplate\":\"\\u003cb\\u003e%{hovertext}\\u003c\\u002fb\\u003e\\u003cbr\\u003e\\u003cbr\\u003eCountry=Ireland\\u003cbr\\u003eAveragScore=%{marker.size}\\u003cbr\\u003elatitude=%{lat}\\u003cbr\\u003elongitude=%{lon}\\u003cextra\\u003e\\u003c\\u002fextra\\u003e\",\"hovertext\":[\"Ireland\"],\"lat\":{\"dtype\":\"f8\",\"bdata\":\"fhghPNq0SkA=\"},\"legendgroup\":\"Ireland\",\"lon\":{\"dtype\":\"f8\",\"bdata\":\"lKRrJt98IMA=\"},\"marker\":{\"color\":\"#636efa\",\"size\":{\"dtype\":\"f8\",\"bdata\":\"pHA9CtcTVEA=\"},\"sizemode\":\"area\",\"sizeref\":1.7255102040816326,\"symbol\":\"circle\"},\"mode\":\"markers\",\"name\":\"Ireland\",\"showlegend\":true,\"type\":\"scattergeo\"},{\"geo\":\"geo\",\"hovertemplate\":\"\\u003cb\\u003e%{hovertext}\\u003c\\u002fb\\u003e\\u003cbr\\u003e\\u003cbr\\u003eCountry=United Kingdom\\u003cbr\\u003eAveragScore=%{marker.size}\\u003cbr\\u003elatitude=%{lat}\\u003cbr\\u003elongitude=%{lon}\\u003cextra\\u003e\\u003c\\u002fextra\\u003e\",\"hovertext\":[\"United Kingdom\"],\"lat\":{\"dtype\":\"f8\",\"bdata\":\"LJyk+WOwS0A=\"},\"legendgroup\":\"United Kingdom\",\"lon\":{\"dtype\":\"f8\",\"bdata\":\"F4OHad98C8A=\"},\"marker\":{\"color\":\"#EF553B\",\"size\":{\"dtype\":\"f8\",\"bdata\":\"zczMzMz8U0A=\"},\"sizemode\":\"area\",\"sizeref\":1.7255102040816326,\"symbol\":\"circle\"},\"mode\":\"markers\",\"name\":\"United Kingdom\",\"showlegend\":true,\"type\":\"scattergeo\"},{\"geo\":\"geo\",\"hovertemplate\":\"\\u003cb\\u003e%{hovertext}\\u003c\\u002fb\\u003e\\u003cbr\\u003e\\u003cbr\\u003eCountry=Canada\\u003cbr\\u003eAveragScore=%{marker.size}\\u003cbr\\u003elatitude=%{lat}\\u003cbr\\u003elongitude=%{lon}\\u003cextra\\u003e\\u003c\\u002fextra\\u003e\",\"hovertext\":[\"Canada\"],\"lat\":{\"dtype\":\"f8\",\"bdata\":\"U0FF1a8QTEA=\"},\"legendgroup\":\"Canada\",\"lon\":{\"dtype\":\"f8\",\"bdata\":\"4Qz+fjGWWsA=\"},\"marker\":{\"color\":\"#00cc96\",\"size\":{\"dtype\":\"f8\",\"bdata\":\"SOF6FK7nU0A=\"},\"sizemode\":\"area\",\"sizeref\":1.7255102040816326,\"symbol\":\"circle\"},\"mode\":\"markers\",\"name\":\"Canada\",\"showlegend\":true,\"type\":\"scattergeo\"},{\"geo\":\"geo\",\"hovertemplate\":\"\\u003cb\\u003e%{hovertext}\\u003c\\u002fb\\u003e\\u003cbr\\u003e\\u003cbr\\u003eCountry=Austria\\u003cbr\\u003eAveragScore=%{marker.size}\\u003cbr\\u003elatitude=%{lat}\\u003cbr\\u003elongitude=%{lon}\\u003cextra\\u003e\\u003c\\u002fextra\\u003e\",\"hovertext\":[\"Austria\"],\"lat\":{\"dtype\":\"f8\",\"bdata\":\"Nxd\\u002f2xPCR0A=\"},\"legendgroup\":\"Austria\",\"lon\":{\"dtype\":\"f8\",\"bdata\":\"AOSECaMZLUA=\"},\"marker\":{\"color\":\"#ab63fa\",\"size\":{\"dtype\":\"f8\",\"bdata\":\"uB6F61HYU0A=\"},\"sizemode\":\"area\",\"sizeref\":1.7255102040816326,\"symbol\":\"circle\"},\"mode\":\"markers\",\"name\":\"Austria\",\"showlegend\":true,\"type\":\"scattergeo\"},{\"geo\":\"geo\",\"hovertemplate\":\"\\u003cb\\u003e%{hovertext}\\u003c\\u002fb\\u003e\\u003cbr\\u003e\\u003cbr\\u003eCountry=Australia\\u003cbr\\u003eAveragScore=%{marker.size}\\u003cbr\\u003elatitude=%{lat}\\u003cbr\\u003elongitude=%{lon}\\u003cextra\\u003e\\u003c\\u002fextra\\u003e\",\"hovertext\":[\"Australia\"],\"lat\":{\"dtype\":\"f8\",\"bdata\":\"exaE8j5GOcA=\"},\"legendgroup\":\"Australia\",\"lon\":{\"dtype\":\"f8\",\"bdata\":\"eT4D6s24YEA=\"},\"marker\":{\"color\":\"#FFA15A\",\"size\":{\"dtype\":\"f8\",\"bdata\":\"16NwPQrXU0A=\"},\"sizemode\":\"area\",\"sizeref\":1.7255102040816326,\"symbol\":\"circle\"},\"mode\":\"markers\",\"name\":\"Australia\",\"showlegend\":true,\"type\":\"scattergeo\"},{\"geo\":\"geo\",\"hovertemplate\":\"\\u003cb\\u003e%{hovertext}\\u003c\\u002fb\\u003e\\u003cbr\\u003e\\u003cbr\\u003eCountry=Japan\\u003cbr\\u003eAveragScore=%{marker.size}\\u003cbr\\u003elatitude=%{lat}\\u003cbr\\u003elongitude=%{lon}\\u003cextra\\u003e\\u003c\\u002fextra\\u003e\",\"hovertext\":[\"Japan\"],\"lat\":{\"dtype\":\"f8\",\"bdata\":\"zLc+rDcaQkA=\"},\"legendgroup\":\"Japan\",\"lon\":{\"dtype\":\"f8\",\"bdata\":\"9IsS9BdIYUA=\"},\"marker\":{\"color\":\"#19d3f3\",\"size\":{\"dtype\":\"f8\",\"bdata\":\"rkfhehSOU0A=\"},\"sizemode\":\"area\",\"sizeref\":1.7255102040816326,\"symbol\":\"circle\"},\"mode\":\"markers\",\"name\":\"Japan\",\"showlegend\":true,\"type\":\"scattergeo\"},{\"geo\":\"geo\",\"hovertemplate\":\"\\u003cb\\u003e%{hovertext}\\u003c\\u002fb\\u003e\\u003cbr\\u003e\\u003cbr\\u003eCountry=Singapore\\u003cbr\\u003eAveragScore=%{marker.size}\\u003cbr\\u003elatitude=%{lat}\\u003cbr\\u003elongitude=%{lon}\\u003cextra\\u003e\\u003c\\u002fextra\\u003e\",\"hovertext\":[\"Singapore\"],\"lat\":{\"dtype\":\"f8\",\"bdata\":\"HqSnyCGi9T8=\"},\"legendgroup\":\"Singapore\",\"lon\":{\"dtype\":\"f8\",\"bdata\":\"VwVqMXj0WUA=\"},\"marker\":{\"color\":\"#FF6692\",\"size\":{\"dtype\":\"f8\",\"bdata\":\"PQrXo3CNU0A=\"},\"sizemode\":\"area\",\"sizeref\":1.7255102040816326,\"symbol\":\"circle\"},\"mode\":\"markers\",\"name\":\"Singapore\",\"showlegend\":true,\"type\":\"scattergeo\"},{\"geo\":\"geo\",\"hovertemplate\":\"\\u003cb\\u003e%{hovertext}\\u003c\\u002fb\\u003e\\u003cbr\\u003e\\u003cbr\\u003eCountry=Belgium\\u003cbr\\u003eAveragScore=%{marker.size}\\u003cbr\\u003elatitude=%{lat}\\u003cbr\\u003elongitude=%{lon}\\u003cextra\\u003e\\u003c\\u002fextra\\u003e\",\"hovertext\":[\"Belgium\"],\"lat\":{\"dtype\":\"f8\",\"bdata\":\"lfCEXn9ASUA=\"},\"legendgroup\":\"Belgium\",\"lon\":{\"dtype\":\"f8\",\"bdata\":\"K9oc5zbhEUA=\"},\"marker\":{\"color\":\"#B6E880\",\"size\":{\"dtype\":\"f8\",\"bdata\":\"9ihcj8J1U0A=\"},\"sizemode\":\"area\",\"sizeref\":1.7255102040816326,\"symbol\":\"circle\"},\"mode\":\"markers\",\"name\":\"Belgium\",\"showlegend\":true,\"type\":\"scattergeo\"},{\"geo\":\"geo\",\"hovertemplate\":\"\\u003cb\\u003e%{hovertext}\\u003c\\u002fb\\u003e\\u003cbr\\u003e\\u003cbr\\u003eCountry=United States\\u003cbr\\u003eAveragScore=%{marker.size}\\u003cbr\\u003elatitude=%{lat}\\u003cbr\\u003elongitude=%{lon}\\u003cextra\\u003e\\u003c\\u002fextra\\u003e\",\"hovertext\":[\"United States\"],\"lat\":{\"dtype\":\"f8\",\"bdata\":\"QWX8+4yLQkA=\"},\"legendgroup\":\"United States\",\"lon\":{\"dtype\":\"f8\",\"bdata\":\"N6eSAaDtV8A=\"},\"marker\":{\"color\":\"#FF97FF\",\"size\":{\"dtype\":\"f8\",\"bdata\":\"XI\\u002fC9ShcU0A=\"},\"sizemode\":\"area\",\"sizeref\":1.7255102040816326,\"symbol\":\"circle\"},\"mode\":\"markers\",\"name\":\"United States\",\"showlegend\":true,\"type\":\"scattergeo\"},{\"geo\":\"geo\",\"hovertemplate\":\"\\u003cb\\u003e%{hovertext}\\u003c\\u002fb\\u003e\\u003cbr\\u003e\\u003cbr\\u003eCountry=Taiwan\\u003cbr\\u003eAveragScore=%{marker.size}\\u003cbr\\u003elatitude=%{lat}\\u003cbr\\u003elongitude=%{lon}\\u003cextra\\u003e\\u003c\\u002fextra\\u003e\",\"hovertext\":[\"Taiwan\"],\"lat\":{\"dtype\":\"f8\",\"bdata\":\"X9IYraOyN0A=\"},\"legendgroup\":\"Taiwan\",\"lon\":{\"dtype\":\"f8\",\"bdata\":\"URToE3k9XkA=\"},\"marker\":{\"color\":\"#FECB52\",\"size\":{\"dtype\":\"f8\",\"bdata\":\"16NwPQpXU0A=\"},\"sizemode\":\"area\",\"sizeref\":1.7255102040816326,\"symbol\":\"circle\"},\"mode\":\"markers\",\"name\":\"Taiwan\",\"showlegend\":true,\"type\":\"scattergeo\"},{\"geo\":\"geo\",\"hovertemplate\":\"\\u003cb\\u003e%{hovertext}\\u003c\\u002fb\\u003e\\u003cbr\\u003e\\u003cbr\\u003eCountry=Estonia\\u003cbr\\u003eAveragScore=%{marker.size}\\u003cbr\\u003elatitude=%{lat}\\u003cbr\\u003elongitude=%{lon}\\u003cextra\\u003e\\u003c\\u002fextra\\u003e\",\"hovertext\":[\"Estonia\"],\"lat\":{\"dtype\":\"f8\",\"bdata\":\"vRx23zFMTUA=\"},\"legendgroup\":\"Estonia\",\"lon\":{\"dtype\":\"f8\",\"bdata\":\"Jv+Tv3sDOUA=\"},\"marker\":{\"color\":\"#636efa\",\"size\":{\"dtype\":\"f8\",\"bdata\":\"pHA9CtdTU0A=\"},\"sizemode\":\"area\",\"sizeref\":1.7255102040816326,\"symbol\":\"circle\"},\"mode\":\"markers\",\"name\":\"Estonia\",\"showlegend\":true,\"type\":\"scattergeo\"},{\"geo\":\"geo\",\"hovertemplate\":\"\\u003cb\\u003e%{hovertext}\\u003c\\u002fb\\u003e\\u003cbr\\u003e\\u003cbr\\u003eCountry=Hong Kong\\u003cbr\\u003eAveragScore=%{marker.size}\\u003cbr\\u003elatitude=%{lat}\\u003cbr\\u003elongitude=%{lon}\\u003cextra\\u003e\\u003c\\u002fextra\\u003e\",\"hovertext\":[\"Hong Kong\"],\"lat\":{\"dtype\":\"f8\",\"bdata\":\"\\u002fDcvTnxlNkA=\"},\"legendgroup\":\"Hong Kong\",\"lon\":{\"dtype\":\"f8\",\"bdata\":\"poC0\\u002fwGHXEA=\"},\"marker\":{\"color\":\"#EF553B\",\"size\":{\"dtype\":\"f8\",\"bdata\":\"mpmZmZk5U0A=\"},\"sizemode\":\"area\",\"sizeref\":1.7255102040816326,\"symbol\":\"circle\"},\"mode\":\"markers\",\"name\":\"Hong Kong\",\"showlegend\":true,\"type\":\"scattergeo\"},{\"geo\":\"geo\",\"hovertemplate\":\"\\u003cb\\u003e%{hovertext}\\u003c\\u002fb\\u003e\\u003cbr\\u003e\\u003cbr\\u003eCountry=France\\u003cbr\\u003eAveragScore=%{marker.size}\\u003cbr\\u003elatitude=%{lat}\\u003cbr\\u003elongitude=%{lon}\\u003cextra\\u003e\\u003c\\u002fextra\\u003e\",\"hovertext\":[\"France\"],\"lat\":{\"dtype\":\"f8\",\"bdata\":\"1qnyPSMdR0A=\"},\"legendgroup\":\"France\",\"lon\":{\"dtype\":\"f8\",\"bdata\":\"8GskCcK1AUA=\"},\"marker\":{\"color\":\"#00cc96\",\"size\":{\"dtype\":\"f8\",\"bdata\":\"H4XrUbguU0A=\"},\"sizemode\":\"area\",\"sizeref\":1.7255102040816326,\"symbol\":\"circle\"},\"mode\":\"markers\",\"name\":\"France\",\"showlegend\":true,\"type\":\"scattergeo\"},{\"geo\":\"geo\",\"hovertemplate\":\"\\u003cb\\u003e%{hovertext}\\u003c\\u002fb\\u003e\\u003cbr\\u003e\\u003cbr\\u003eCountry=Spain\\u003cbr\\u003eAveragScore=%{marker.size}\\u003cbr\\u003elatitude=%{lat}\\u003cbr\\u003elongitude=%{lon}\\u003cextra\\u003e\\u003c\\u002fextra\\u003e\",\"hovertext\":[\"Spain\"],\"lat\":{\"dtype\":\"f8\",\"bdata\":\"Ap60cFk7REA=\"},\"legendgroup\":\"Spain\",\"lon\":{\"dtype\":\"f8\",\"bdata\":\"rhIsDmf+DcA=\"},\"marker\":{\"color\":\"#ab63fa\",\"size\":{\"dtype\":\"f8\",\"bdata\":\"UrgehesBU0A=\"},\"sizemode\":\"area\",\"sizeref\":1.7255102040816326,\"symbol\":\"circle\"},\"mode\":\"markers\",\"name\":\"Spain\",\"showlegend\":true,\"type\":\"scattergeo\"},{\"geo\":\"geo\",\"hovertemplate\":\"\\u003cb\\u003e%{hovertext}\\u003c\\u002fb\\u003e\\u003cbr\\u003e\\u003cbr\\u003eCountry=Czech Republic\\u003cbr\\u003eAveragScore=%{marker.size}\\u003cbr\\u003elatitude=%{lat}\\u003cbr\\u003elongitude=%{lon}\\u003cextra\\u003e\\u003c\\u002fextra\\u003e\",\"hovertext\":[\"Czech Republic\"],\"lat\":{\"dtype\":\"f8\",\"bdata\":\"7l7uk6PoSEA=\"},\"legendgroup\":\"Czech Republic\",\"lon\":{\"dtype\":\"f8\",\"bdata\":\"Y4BEEyjyLkA=\"},\"marker\":{\"color\":\"#FFA15A\",\"size\":{\"dtype\":\"f8\",\"bdata\":\"hetRuB7FUkA=\"},\"sizemode\":\"area\",\"sizeref\":1.7255102040816326,\"symbol\":\"circle\"},\"mode\":\"markers\",\"name\":\"Czech Republic\",\"showlegend\":true,\"type\":\"scattergeo\"},{\"geo\":\"geo\",\"hovertemplate\":\"\\u003cb\\u003e%{hovertext}\\u003c\\u002fb\\u003e\\u003cbr\\u003e\\u003cbr\\u003eCountry=Portugal\\u003cbr\\u003eAveragScore=%{marker.size}\\u003cbr\\u003elatitude=%{lat}\\u003cbr\\u003elongitude=%{lon}\\u003cextra\\u003e\\u003c\\u002fextra\\u003e\",\"hovertext\":[\"Portugal\"],\"lat\":{\"dtype\":\"f8\",\"bdata\":\"Bkt1AS+zQ0A=\"},\"legendgroup\":\"Portugal\",\"lon\":{\"dtype\":\"f8\",\"bdata\":\"q+l6outyIMA=\"},\"marker\":{\"color\":\"#19d3f3\",\"size\":{\"dtype\":\"f8\",\"bdata\":\"KVyPwvWoUkA=\"},\"sizemode\":\"area\",\"sizeref\":1.7255102040816326,\"symbol\":\"circle\"},\"mode\":\"markers\",\"name\":\"Portugal\",\"showlegend\":true,\"type\":\"scattergeo\"},{\"geo\":\"geo\",\"hovertemplate\":\"\\u003cb\\u003e%{hovertext}\\u003c\\u002fb\\u003e\\u003cbr\\u003e\\u003cbr\\u003eCountry=Slovenia\\u003cbr\\u003eAveragScore=%{marker.size}\\u003cbr\\u003elatitude=%{lat}\\u003cbr\\u003elongitude=%{lon}\\u003cextra\\u003e\\u003c\\u002fextra\\u003e\",\"hovertext\":[\"Slovenia\"],\"lat\":{\"dtype\":\"f8\",\"bdata\":\"PGh23VsTR0A=\"},\"legendgroup\":\"Slovenia\",\"lon\":{\"dtype\":\"f8\",\"bdata\":\"kMGKU639LUA=\"},\"marker\":{\"color\":\"#FF6692\",\"size\":{\"dtype\":\"f8\",\"bdata\":\"w\\u002fUoXI+iUkA=\"},\"sizemode\":\"area\",\"sizeref\":1.7255102040816326,\"symbol\":\"circle\"},\"mode\":\"markers\",\"name\":\"Slovenia\",\"showlegend\":true,\"type\":\"scattergeo\"},{\"geo\":\"geo\",\"hovertemplate\":\"\\u003cb\\u003e%{hovertext}\\u003c\\u002fb\\u003e\\u003cbr\\u003e\\u003cbr\\u003eCountry=Malta\\u003cbr\\u003eAveragScore=%{marker.size}\\u003cbr\\u003elatitude=%{lat}\\u003cbr\\u003elongitude=%{lon}\\u003cextra\\u003e\\u003c\\u002fextra\\u003e\",\"hovertext\":[\"Malta\"],\"lat\":{\"dtype\":\"f8\",\"bdata\":\"vxBy3v\\u002f3QUA=\"},\"legendgroup\":\"Malta\",\"lon\":{\"dtype\":\"f8\",\"bdata\":\"T8qkhjbALEA=\"},\"marker\":{\"color\":\"#B6E880\",\"size\":{\"dtype\":\"f8\",\"bdata\":\"16NwPQqXUkA=\"},\"sizemode\":\"area\",\"sizeref\":1.7255102040816326,\"symbol\":\"circle\"},\"mode\":\"markers\",\"name\":\"Malta\",\"showlegend\":true,\"type\":\"scattergeo\"},{\"geo\":\"geo\",\"hovertemplate\":\"\\u003cb\\u003e%{hovertext}\\u003c\\u002fb\\u003e\\u003cbr\\u003e\\u003cbr\\u003eCountry=South Korea\\u003cbr\\u003eAveragScore=%{marker.size}\\u003cbr\\u003elatitude=%{lat}\\u003cbr\\u003elongitude=%{lon}\\u003cextra\\u003e\\u003c\\u002fextra\\u003e\",\"hovertext\":[\"South Korea\"],\"lat\":{\"dtype\":\"f8\",\"bdata\":\"h9uhYTH0QUA=\"},\"legendgroup\":\"South Korea\",\"lon\":{\"dtype\":\"f8\",\"bdata\":\"TiUDQBXxX0A=\"},\"marker\":{\"color\":\"#FF97FF\",\"size\":{\"dtype\":\"f8\",\"bdata\":\"FK5H4XqEUkA=\"},\"sizemode\":\"area\",\"sizeref\":1.7255102040816326,\"symbol\":\"circle\"},\"mode\":\"markers\",\"name\":\"South Korea\",\"showlegend\":true,\"type\":\"scattergeo\"},{\"geo\":\"geo\",\"hovertemplate\":\"\\u003cb\\u003e%{hovertext}\\u003c\\u002fb\\u003e\\u003cbr\\u003e\\u003cbr\\u003eCountry=Italy\\u003cbr\\u003eAveragScore=%{marker.size}\\u003cbr\\u003elatitude=%{lat}\\u003cbr\\u003elongitude=%{lon}\\u003cextra\\u003e\\u003c\\u002fextra\\u003e\",\"hovertext\":[\"Italy\"],\"lat\":{\"dtype\":\"f8\",\"bdata\":\"gQncupvvREA=\"},\"legendgroup\":\"Italy\",\"lon\":{\"dtype\":\"f8\",\"bdata\":\"GM+goX8iKUA=\"},\"marker\":{\"color\":\"#FECB52\",\"size\":{\"dtype\":\"f8\",\"bdata\":\"UrgehetBUkA=\"},\"sizemode\":\"area\",\"sizeref\":1.7255102040816326,\"symbol\":\"circle\"},\"mode\":\"markers\",\"name\":\"Italy\",\"showlegend\":true,\"type\":\"scattergeo\"},{\"geo\":\"geo\",\"hovertemplate\":\"\\u003cb\\u003e%{hovertext}\\u003c\\u002fb\\u003e\\u003cbr\\u003e\\u003cbr\\u003eCountry=Latvia\\u003cbr\\u003eAveragScore=%{marker.size}\\u003cbr\\u003elatitude=%{lat}\\u003cbr\\u003elongitude=%{lon}\\u003cextra\\u003e\\u003c\\u002fextra\\u003e\",\"hovertext\":[\"Latvia\"],\"lat\":{\"dtype\":\"f8\",\"bdata\":\"X7Uy4ZdwTEA=\"},\"legendgroup\":\"Latvia\",\"lon\":{\"dtype\":\"f8\",\"bdata\":\"lE4kmGqaOEA=\"},\"marker\":{\"color\":\"#636efa\",\"size\":{\"dtype\":\"f8\",\"bdata\":\"j8L1KFw\\u002fUkA=\"},\"sizemode\":\"area\",\"sizeref\":1.7255102040816326,\"symbol\":\"circle\"},\"mode\":\"markers\",\"name\":\"Latvia\",\"showlegend\":true,\"type\":\"scattergeo\"},{\"geo\":\"geo\",\"hovertemplate\":\"\\u003cb\\u003e%{hovertext}\\u003c\\u002fb\\u003e\\u003cbr\\u003e\\u003cbr\\u003eCountry=Lithuania\\u003cbr\\u003eAveragScore=%{marker.size}\\u003cbr\\u003elatitude=%{lat}\\u003cbr\\u003elongitude=%{lon}\\u003cextra\\u003e\\u003c\\u002fextra\\u003e\",\"hovertext\":[\"Lithuania\"],\"lat\":{\"dtype\":\"f8\",\"bdata\":\"jln2JLCVS0A=\"},\"legendgroup\":\"Lithuania\",\"lon\":{\"dtype\":\"f8\",\"bdata\":\"S8gHPZvhN0A=\"},\"marker\":{\"color\":\"#EF553B\",\"size\":{\"dtype\":\"f8\",\"bdata\":\"w\\u002fUoXI8iUkA=\"},\"sizemode\":\"area\",\"sizeref\":1.7255102040816326,\"symbol\":\"circle\"},\"mode\":\"markers\",\"name\":\"Lithuania\",\"showlegend\":true,\"type\":\"scattergeo\"},{\"geo\":\"geo\",\"hovertemplate\":\"\\u003cb\\u003e%{hovertext}\\u003c\\u002fb\\u003e\\u003cbr\\u003e\\u003cbr\\u003eCountry=Israel\\u003cbr\\u003eAveragScore=%{marker.size}\\u003cbr\\u003elatitude=%{lat}\\u003cbr\\u003elongitude=%{lon}\\u003cextra\\u003e\\u003c\\u002fextra\\u003e\",\"hovertext\":[\"Israel\"],\"lat\":{\"dtype\":\"f8\",\"bdata\":\"tvKS\\u002f8kLP0A=\"},\"legendgroup\":\"Israel\",\"lon\":{\"dtype\":\"f8\",\"bdata\":\"ynA8nwFtQUA=\"},\"marker\":{\"color\":\"#00cc96\",\"size\":{\"dtype\":\"f8\",\"bdata\":\"AAAAAAAQUkA=\"},\"sizemode\":\"area\",\"sizeref\":1.7255102040816326,\"symbol\":\"circle\"},\"mode\":\"markers\",\"name\":\"Israel\",\"showlegend\":true,\"type\":\"scattergeo\"},{\"geo\":\"geo\",\"hovertemplate\":\"\\u003cb\\u003e%{hovertext}\\u003c\\u002fb\\u003e\\u003cbr\\u003e\\u003cbr\\u003eCountry=Cyprus\\u003cbr\\u003eAveragScore=%{marker.size}\\u003cbr\\u003elatitude=%{lat}\\u003cbr\\u003elongitude=%{lon}\\u003cextra\\u003e\\u003c\\u002fextra\\u003e\",\"hovertext\":[\"Cyprus\"],\"lat\":{\"dtype\":\"f8\",\"bdata\":\"BmUaTS6QQUA=\"},\"legendgroup\":\"Cyprus\",\"lon\":{\"dtype\":\"f8\",\"bdata\":\"FXKlngW3QEA=\"},\"marker\":{\"color\":\"#ab63fa\",\"size\":{\"dtype\":\"f8\",\"bdata\":\"FK5H4Xr0UUA=\"},\"sizemode\":\"area\",\"sizeref\":1.7255102040816326,\"symbol\":\"circle\"},\"mode\":\"markers\",\"name\":\"Cyprus\",\"showlegend\":true,\"type\":\"scattergeo\"},{\"geo\":\"geo\",\"hovertemplate\":\"\\u003cb\\u003e%{hovertext}\\u003c\\u002fb\\u003e\\u003cbr\\u003e\\u003cbr\\u003eCountry=Slovakia\\u003cbr\\u003eAveragScore=%{marker.size}\\u003cbr\\u003elatitude=%{lat}\\u003cbr\\u003elongitude=%{lon}\\u003cextra\\u003e\\u003c\\u002fextra\\u003e\",\"hovertext\":[\"Slovakia\"],\"lat\":{\"dtype\":\"f8\",\"bdata\":\"PBbbpKJVSEA=\"},\"legendgroup\":\"Slovakia\",\"lon\":{\"dtype\":\"f8\",\"bdata\":\"fh6jPPOyM0A=\"},\"marker\":{\"color\":\"#FFA15A\",\"size\":{\"dtype\":\"f8\",\"bdata\":\"mpmZmZnJUUA=\"},\"sizemode\":\"area\",\"sizeref\":1.7255102040816326,\"symbol\":\"circle\"},\"mode\":\"markers\",\"name\":\"Slovakia\",\"showlegend\":true,\"type\":\"scattergeo\"},{\"geo\":\"geo\",\"hovertemplate\":\"\\u003cb\\u003e%{hovertext}\\u003c\\u002fb\\u003e\\u003cbr\\u003e\\u003cbr\\u003eCountry=Chile\\u003cbr\\u003eAveragScore=%{marker.size}\\u003cbr\\u003elatitude=%{lat}\\u003cbr\\u003elongitude=%{lon}\\u003cextra\\u003e\\u003c\\u002fextra\\u003e\",\"hovertext\":[\"Chile\"],\"lat\":{\"dtype\":\"f8\",\"bdata\":\"C3+GN2vWQcA=\"},\"legendgroup\":\"Chile\",\"lon\":{\"dtype\":\"f8\",\"bdata\":\"em8MAcDiUcA=\"},\"marker\":{\"color\":\"#19d3f3\",\"size\":{\"dtype\":\"f8\",\"bdata\":\"7FG4HoWLUUA=\"},\"sizemode\":\"area\",\"sizeref\":1.7255102040816326,\"symbol\":\"circle\"},\"mode\":\"markers\",\"name\":\"Chile\",\"showlegend\":true,\"type\":\"scattergeo\"},{\"geo\":\"geo\",\"hovertemplate\":\"\\u003cb\\u003e%{hovertext}\\u003c\\u002fb\\u003e\\u003cbr\\u003e\\u003cbr\\u003eCountry=Poland\\u003cbr\\u003eAveragScore=%{marker.size}\\u003cbr\\u003elatitude=%{lat}\\u003cbr\\u003elongitude=%{lon}\\u003cextra\\u003e\\u003c\\u002fextra\\u003e\",\"hovertext\":[\"Poland\"],\"lat\":{\"dtype\":\"f8\",\"bdata\":\"jln2JLD1SUA=\"},\"legendgroup\":\"Poland\",\"lon\":{\"dtype\":\"f8\",\"bdata\":\"5ngFoiclM0A=\"},\"marker\":{\"color\":\"#FF6692\",\"size\":{\"dtype\":\"f8\",\"bdata\":\"mpmZmZmJUUA=\"},\"sizemode\":\"area\",\"sizeref\":1.7255102040816326,\"symbol\":\"circle\"},\"mode\":\"markers\",\"name\":\"Poland\",\"showlegend\":true,\"type\":\"scattergeo\"},{\"geo\":\"geo\",\"hovertemplate\":\"\\u003cb\\u003e%{hovertext}\\u003c\\u002fb\\u003e\\u003cbr\\u003e\\u003cbr\\u003eCountry=Uruguay\\u003cbr\\u003eAveragScore=%{marker.size}\\u003cbr\\u003elatitude=%{lat}\\u003cbr\\u003elongitude=%{lon}\\u003cextra\\u003e\\u003c\\u002fextra\\u003e\",\"hovertext\":[\"Uruguay\"],\"lat\":{\"dtype\":\"f8\",\"bdata\":\"jgQabOpCQMA=\"},\"legendgroup\":\"Uruguay\",\"lon\":{\"dtype\":\"f8\",\"bdata\":\"65Cb4QbiS8A=\"},\"marker\":{\"color\":\"#B6E880\",\"size\":{\"dtype\":\"f8\",\"bdata\":\"XI\\u002fC9ShsUUA=\"},\"sizemode\":\"area\",\"sizeref\":1.7255102040816326,\"symbol\":\"circle\"},\"mode\":\"markers\",\"name\":\"Uruguay\",\"showlegend\":true,\"type\":\"scattergeo\"},{\"geo\":\"geo\",\"hovertemplate\":\"\\u003cb\\u003e%{hovertext}\\u003c\\u002fb\\u003e\\u003cbr\\u003e\\u003cbr\\u003eCountry=Costa Rica\\u003cbr\\u003eAveragScore=%{marker.size}\\u003cbr\\u003elatitude=%{lat}\\u003cbr\\u003elongitude=%{lon}\\u003cextra\\u003e\\u003c\\u002fextra\\u003e\",\"hovertext\":[\"Costa Rica\"],\"lat\":{\"dtype\":\"f8\",\"bdata\":\"PdaMDHJ\\u002fI0A=\"},\"legendgroup\":\"Costa Rica\",\"lon\":{\"dtype\":\"f8\",\"bdata\":\"AfkSKjjwVMA=\"},\"marker\":{\"color\":\"#FF97FF\",\"size\":{\"dtype\":\"f8\",\"bdata\":\"9ihcj8JlUUA=\"},\"sizemode\":\"area\",\"sizeref\":1.7255102040816326,\"symbol\":\"circle\"},\"mode\":\"markers\",\"name\":\"Costa Rica\",\"showlegend\":true,\"type\":\"scattergeo\"},{\"geo\":\"geo\",\"hovertemplate\":\"\\u003cb\\u003e%{hovertext}\\u003c\\u002fb\\u003e\\u003cbr\\u003e\\u003cbr\\u003eCountry=Greece\\u003cbr\\u003eAveragScore=%{marker.size}\\u003cbr\\u003elatitude=%{lat}\\u003cbr\\u003elongitude=%{lon}\\u003cextra\\u003e\\u003c\\u002fextra\\u003e\",\"hovertext\":[\"Greece\"],\"lat\":{\"dtype\":\"f8\",\"bdata\":\"AI3SpX+JQ0A=\"},\"legendgroup\":\"Greece\",\"lon\":{\"dtype\":\"f8\",\"bdata\":\"SrN5HAbTNUA=\"},\"marker\":{\"color\":\"#FECB52\",\"size\":{\"dtype\":\"f8\",\"bdata\":\"H4XrUbgeUUA=\"},\"sizemode\":\"area\",\"sizeref\":1.7255102040816326,\"symbol\":\"circle\"},\"mode\":\"markers\",\"name\":\"Greece\",\"showlegend\":true,\"type\":\"scattergeo\"},{\"geo\":\"geo\",\"hovertemplate\":\"\\u003cb\\u003e%{hovertext}\\u003c\\u002fb\\u003e\\u003cbr\\u003e\\u003cbr\\u003eCountry=Croatia\\u003cbr\\u003eAveragScore=%{marker.size}\\u003cbr\\u003elatitude=%{lat}\\u003cbr\\u003elongitude=%{lon}\\u003cextra\\u003e\\u003c\\u002fextra\\u003e\",\"hovertext\":[\"Croatia\"],\"lat\":{\"dtype\":\"f8\",\"bdata\":\"zczMzMyMRkA=\"},\"legendgroup\":\"Croatia\",\"lon\":{\"dtype\":\"f8\",\"bdata\":\"ZmZmZmZmLkA=\"},\"marker\":{\"color\":\"#636efa\",\"size\":{\"dtype\":\"f8\",\"bdata\":\"j8L1KFwPUUA=\"},\"sizemode\":\"area\",\"sizeref\":1.7255102040816326,\"symbol\":\"circle\"},\"mode\":\"markers\",\"name\":\"Croatia\",\"showlegend\":true,\"type\":\"scattergeo\"},{\"geo\":\"geo\",\"hovertemplate\":\"\\u003cb\\u003e%{hovertext}\\u003c\\u002fb\\u003e\\u003cbr\\u003e\\u003cbr\\u003eCountry=Hungary\\u003cbr\\u003eAveragScore=%{marker.size}\\u003cbr\\u003elatitude=%{lat}\\u003cbr\\u003elongitude=%{lon}\\u003cextra\\u003e\\u003c\\u002fextra\\u003e\",\"hovertext\":[\"Hungary\"],\"lat\":{\"dtype\":\"f8\",\"bdata\":\"6+V3msyUR0A=\"},\"legendgroup\":\"Hungary\",\"lon\":{\"dtype\":\"f8\",\"bdata\":\"LPLrh9iAM0A=\"},\"marker\":{\"color\":\"#EF553B\",\"size\":{\"dtype\":\"f8\",\"bdata\":\"uB6F61G4UEA=\"},\"sizemode\":\"area\",\"sizeref\":1.7255102040816326,\"symbol\":\"circle\"},\"mode\":\"markers\",\"name\":\"Hungary\",\"showlegend\":true,\"type\":\"scattergeo\"},{\"geo\":\"geo\",\"hovertemplate\":\"\\u003cb\\u003e%{hovertext}\\u003c\\u002fb\\u003e\\u003cbr\\u003e\\u003cbr\\u003eCountry=Malaysia\\u003cbr\\u003eAveragScore=%{marker.size}\\u003cbr\\u003elatitude=%{lat}\\u003cbr\\u003elongitude=%{lon}\\u003cextra\\u003e\\u003c\\u002fextra\\u003e\",\"hovertext\":[\"Malaysia\"],\"lat\":{\"dtype\":\"f8\",\"bdata\":\"N1MhHonXEEA=\"},\"legendgroup\":\"Malaysia\",\"lon\":{\"dtype\":\"f8\",\"bdata\":\"HqM883J+WUA=\"},\"marker\":{\"color\":\"#00cc96\",\"size\":{\"dtype\":\"f8\",\"bdata\":\"9ihcj8K1UEA=\"},\"sizemode\":\"area\",\"sizeref\":1.7255102040816326,\"symbol\":\"circle\"},\"mode\":\"markers\",\"name\":\"Malaysia\",\"showlegend\":true,\"type\":\"scattergeo\"},{\"geo\":\"geo\",\"hovertemplate\":\"\\u003cb\\u003e%{hovertext}\\u003c\\u002fb\\u003e\\u003cbr\\u003e\\u003cbr\\u003eCountry=United Arab Emirates\\u003cbr\\u003eAveragScore=%{marker.size}\\u003cbr\\u003elatitude=%{lat}\\u003cbr\\u003elongitude=%{lon}\\u003cextra\\u003e\\u003c\\u002fextra\\u003e\",\"hovertext\":[\"United Arab Emirates\"],\"lat\":{\"dtype\":\"f8\",\"bdata\":\"vASnPpBsN0A=\"},\"legendgroup\":\"United Arab Emirates\",\"lon\":{\"dtype\":\"f8\",\"bdata\":\"5XrbTIXsSkA=\"},\"marker\":{\"color\":\"#ab63fa\",\"size\":{\"dtype\":\"f8\",\"bdata\":\"XI\\u002fC9SisUEA=\"},\"sizemode\":\"area\",\"sizeref\":1.7255102040816326,\"symbol\":\"circle\"},\"mode\":\"markers\",\"name\":\"United Arab Emirates\",\"showlegend\":true,\"type\":\"scattergeo\"},{\"geo\":\"geo\",\"hovertemplate\":\"\\u003cb\\u003e%{hovertext}\\u003c\\u002fb\\u003e\\u003cbr\\u003e\\u003cbr\\u003eCountry=Romania\\u003cbr\\u003eAveragScore=%{marker.size}\\u003cbr\\u003elatitude=%{lat}\\u003cbr\\u003elongitude=%{lon}\\u003cextra\\u003e\\u003c\\u002fextra\\u003e\",\"hovertext\":[\"Romania\"],\"lat\":{\"dtype\":\"f8\",\"bdata\":\"bO7of7n4RkA=\"},\"legendgroup\":\"Romania\",\"lon\":{\"dtype\":\"f8\",\"bdata\":\"uhRXlX33OEA=\"},\"marker\":{\"color\":\"#FFA15A\",\"size\":{\"dtype\":\"f8\",\"bdata\":\"mpmZmZmZUEA=\"},\"sizemode\":\"area\",\"sizeref\":1.7255102040816326,\"symbol\":\"circle\"},\"mode\":\"markers\",\"name\":\"Romania\",\"showlegend\":true,\"type\":\"scattergeo\"},{\"geo\":\"geo\",\"hovertemplate\":\"\\u003cb\\u003e%{hovertext}\\u003c\\u002fb\\u003e\\u003cbr\\u003e\\u003cbr\\u003eCountry=Qatar\\u003cbr\\u003eAveragScore=%{marker.size}\\u003cbr\\u003elatitude=%{lat}\\u003cbr\\u003elongitude=%{lon}\\u003cextra\\u003e\\u003c\\u002fextra\\u003e\",\"hovertext\":[\"Qatar\"],\"lat\":{\"dtype\":\"f8\",\"bdata\":\"P8Vx4NVaOUA=\"},\"legendgroup\":\"Qatar\",\"lon\":{\"dtype\":\"f8\",\"bdata\":\"+yDLgomXSUA=\"},\"marker\":{\"color\":\"#19d3f3\",\"size\":{\"dtype\":\"f8\",\"bdata\":\"j8L1KFyPUEA=\"},\"sizemode\":\"area\",\"sizeref\":1.7255102040816326,\"symbol\":\"circle\"},\"mode\":\"markers\",\"name\":\"Qatar\",\"showlegend\":true,\"type\":\"scattergeo\"},{\"geo\":\"geo\",\"hovertemplate\":\"\\u003cb\\u003e%{hovertext}\\u003c\\u002fb\\u003e\\u003cbr\\u003e\\u003cbr\\u003eCountry=Mauritius\\u003cbr\\u003eAveragScore=%{marker.size}\\u003cbr\\u003elatitude=%{lat}\\u003cbr\\u003elongitude=%{lon}\\u003cextra\\u003e\\u003c\\u002fextra\\u003e\",\"hovertext\":[\"Mauritius\"],\"lat\":{\"dtype\":\"f8\",\"bdata\":\"q8spATFZNMA=\"},\"legendgroup\":\"Mauritius\",\"lon\":{\"dtype\":\"f8\",\"bdata\":\"4zWv6qzGTEA=\"},\"marker\":{\"color\":\"#FF6692\",\"size\":{\"dtype\":\"f8\",\"bdata\":\"mpmZmZlpUEA=\"},\"sizemode\":\"area\",\"sizeref\":1.7255102040816326,\"symbol\":\"circle\"},\"mode\":\"markers\",\"name\":\"Mauritius\",\"showlegend\":true,\"type\":\"scattergeo\"},{\"geo\":\"geo\",\"hovertemplate\":\"\\u003cb\\u003e%{hovertext}\\u003c\\u002fb\\u003e\\u003cbr\\u003e\\u003cbr\\u003eCountry=Bulgaria\\u003cbr\\u003eAveragScore=%{marker.size}\\u003cbr\\u003elatitude=%{lat}\\u003cbr\\u003elongitude=%{lon}\\u003cextra\\u003e\\u003c\\u002fextra\\u003e\",\"hovertext\":[\"Bulgaria\"],\"lat\":{\"dtype\":\"f8\",\"bdata\":\"kQvO4O9dRUA=\"},\"legendgroup\":\"Bulgaria\",\"lon\":{\"dtype\":\"f8\",\"bdata\":\"amrZWl98OUA=\"},\"marker\":{\"color\":\"#B6E880\",\"size\":{\"dtype\":\"f8\",\"bdata\":\"MzMzMzNjUEA=\"},\"sizemode\":\"area\",\"sizeref\":1.7255102040816326,\"symbol\":\"circle\"},\"mode\":\"markers\",\"name\":\"Bulgaria\",\"showlegend\":true,\"type\":\"scattergeo\"},{\"geo\":\"geo\",\"hovertemplate\":\"\\u003cb\\u003e%{hovertext}\\u003c\\u002fb\\u003e\\u003cbr\\u003e\\u003cbr\\u003eCountry=Montenegro\\u003cbr\\u003eAveragScore=%{marker.size}\\u003cbr\\u003elatitude=%{lat}\\u003cbr\\u003elongitude=%{lon}\\u003cextra\\u003e\\u003c\\u002fextra\\u003e\",\"hovertext\":[\"Montenegro\"],\"lat\":{\"dtype\":\"f8\",\"bdata\":\"hbLw9bVaRUA=\"},\"legendgroup\":\"Montenegro\",\"lon\":{\"dtype\":\"f8\",\"bdata\":\"DvPlBdhfM0A=\"},\"marker\":{\"color\":\"#FF97FF\",\"size\":{\"dtype\":\"f8\",\"bdata\":\"cT0K16NAUEA=\"},\"sizemode\":\"area\",\"sizeref\":1.7255102040816326,\"symbol\":\"circle\"},\"mode\":\"markers\",\"name\":\"Montenegro\",\"showlegend\":true,\"type\":\"scattergeo\"},{\"geo\":\"geo\",\"hovertemplate\":\"\\u003cb\\u003e%{hovertext}\\u003c\\u002fb\\u003e\\u003cbr\\u003e\\u003cbr\\u003eCountry=Panama\\u003cbr\\u003eAveragScore=%{marker.size}\\u003cbr\\u003elatitude=%{lat}\\u003cbr\\u003elongitude=%{lon}\\u003cextra\\u003e\\u003c\\u002fextra\\u003e\",\"hovertext\":[\"Panama\"],\"lat\":{\"dtype\":\"f8\",\"bdata\":\"H73hPnITIUA=\"},\"legendgroup\":\"Panama\",\"lon\":{\"dtype\":\"f8\",\"bdata\":\"ZJRnXg4yVMA=\"},\"marker\":{\"color\":\"#FECB52\",\"size\":{\"dtype\":\"f8\",\"bdata\":\"FK5H4XoUUEA=\"},\"sizemode\":\"area\",\"sizeref\":1.7255102040816326,\"symbol\":\"circle\"},\"mode\":\"markers\",\"name\":\"Panama\",\"showlegend\":true,\"type\":\"scattergeo\"},{\"geo\":\"geo\",\"hovertemplate\":\"\\u003cb\\u003e%{hovertext}\\u003c\\u002fb\\u003e\\u003cbr\\u003e\\u003cbr\\u003eCountry=Seychelles\\u003cbr\\u003eAveragScore=%{marker.size}\\u003cbr\\u003elatitude=%{lat}\\u003cbr\\u003elongitude=%{lon}\\u003cextra\\u003e\\u003c\\u002fextra\\u003e\",\"hovertext\":[\"Seychelles\"],\"lat\":{\"dtype\":\"f8\",\"bdata\":\"\\u002fdgkP+K3EsA=\"},\"legendgroup\":\"Seychelles\",\"lon\":{\"dtype\":\"f8\",\"bdata\":\"LbEyGvm+S0A=\"},\"marker\":{\"color\":\"#636efa\",\"size\":{\"dtype\":\"f8\",\"bdata\":\"MzMzMzPTT0A=\"},\"sizemode\":\"area\",\"sizeref\":1.7255102040816326,\"symbol\":\"circle\"},\"mode\":\"markers\",\"name\":\"Seychelles\",\"showlegend\":true,\"type\":\"scattergeo\"},{\"geo\":\"geo\",\"hovertemplate\":\"\\u003cb\\u003e%{hovertext}\\u003c\\u002fb\\u003e\\u003cbr\\u003e\\u003cbr\\u003eCountry=Serbia\\u003cbr\\u003eAveragScore=%{marker.size}\\u003cbr\\u003elatitude=%{lat}\\u003cbr\\u003elongitude=%{lon}\\u003cextra\\u003e\\u003c\\u002fextra\\u003e\",\"hovertext\":[\"Serbia\"],\"lat\":{\"dtype\":\"f8\",\"bdata\":\"PlkxXB0CRkA=\"},\"legendgroup\":\"Serbia\",\"lon\":{\"dtype\":\"f8\",\"bdata\":\"JGO1+X8BNUA=\"},\"marker\":{\"color\":\"#EF553B\",\"size\":{\"dtype\":\"f8\",\"bdata\":\"AAAAAABgT0A=\"},\"sizemode\":\"area\",\"sizeref\":1.7255102040816326,\"symbol\":\"circle\"},\"mode\":\"markers\",\"name\":\"Serbia\",\"showlegend\":true,\"type\":\"scattergeo\"},{\"geo\":\"geo\",\"hovertemplate\":\"\\u003cb\\u003e%{hovertext}\\u003c\\u002fb\\u003e\\u003cbr\\u003e\\u003cbr\\u003eCountry=Georgia\\u003cbr\\u003eAveragScore=%{marker.size}\\u003cbr\\u003elatitude=%{lat}\\u003cbr\\u003elongitude=%{lon}\\u003cextra\\u003e\\u003c\\u002fextra\\u003e\",\"hovertext\":[\"Georgia\"],\"lat\":{\"dtype\":\"f8\",\"bdata\":\"+fauQV8oRUA=\"},\"legendgroup\":\"Georgia\",\"lon\":{\"dtype\":\"f8\",\"bdata\":\"HhoWo66tRUA=\"},\"marker\":{\"color\":\"#00cc96\",\"size\":{\"dtype\":\"f8\",\"bdata\":\"pHA9CtcjT0A=\"},\"sizemode\":\"area\",\"sizeref\":1.7255102040816326,\"symbol\":\"circle\"},\"mode\":\"markers\",\"name\":\"Georgia\",\"showlegend\":true,\"type\":\"scattergeo\"},{\"geo\":\"geo\",\"hovertemplate\":\"\\u003cb\\u003e%{hovertext}\\u003c\\u002fb\\u003e\\u003cbr\\u003e\\u003cbr\\u003eCountry=China\\u003cbr\\u003eAveragScore=%{marker.size}\\u003cbr\\u003elatitude=%{lat}\\u003cbr\\u003elongitude=%{lon}\\u003cextra\\u003e\\u003c\\u002fextra\\u003e\",\"hovertext\":[\"China\"],\"lat\":{\"dtype\":\"f8\",\"bdata\":\"vCL430ruQUA=\"},\"legendgroup\":\"China\",\"lon\":{\"dtype\":\"f8\",\"bdata\":\"Iy9rYoEMWkA=\"},\"marker\":{\"color\":\"#ab63fa\",\"size\":{\"dtype\":\"f8\",\"bdata\":\"MzMzMzMTT0A=\"},\"sizemode\":\"area\",\"sizeref\":1.7255102040816326,\"symbol\":\"circle\"},\"mode\":\"markers\",\"name\":\"China\",\"showlegend\":true,\"type\":\"scattergeo\"},{\"geo\":\"geo\",\"hovertemplate\":\"\\u003cb\\u003e%{hovertext}\\u003c\\u002fb\\u003e\\u003cbr\\u003e\\u003cbr\\u003eCountry=Trinidad and Tobago\\u003cbr\\u003eAveragScore=%{marker.size}\\u003cbr\\u003elatitude=%{lat}\\u003cbr\\u003elongitude=%{lon}\\u003cextra\\u003e\\u003c\\u002fextra\\u003e\",\"hovertext\":[\"Trinidad and Tobago\"],\"lat\":{\"dtype\":\"f8\",\"bdata\":\"pIy4ADRiJUA=\"},\"legendgroup\":\"Trinidad and Tobago\",\"lon\":{\"dtype\":\"f8\",\"bdata\":\"hiFy+nqcTsA=\"},\"marker\":{\"color\":\"#FFA15A\",\"size\":{\"dtype\":\"f8\",\"bdata\":\"FK5H4Xr0TkA=\"},\"sizemode\":\"area\",\"sizeref\":1.7255102040816326,\"symbol\":\"circle\"},\"mode\":\"markers\",\"name\":\"Trinidad and Tobago\",\"showlegend\":true,\"type\":\"scattergeo\"},{\"geo\":\"geo\",\"hovertemplate\":\"\\u003cb\\u003e%{hovertext}\\u003c\\u002fb\\u003e\\u003cbr\\u003e\\u003cbr\\u003eCountry=Jamaica\\u003cbr\\u003eAveragScore=%{marker.size}\\u003cbr\\u003elatitude=%{lat}\\u003cbr\\u003elongitude=%{lon}\\u003cextra\\u003e\\u003c\\u002fextra\\u003e\",\"hovertext\":[\"Jamaica\"],\"lat\":{\"dtype\":\"f8\",\"bdata\":\"UkMbgA0cMkA=\"},\"legendgroup\":\"Jamaica\",\"lon\":{\"dtype\":\"f8\",\"bdata\":\"GJP+XgpTU8A=\"},\"marker\":{\"color\":\"#19d3f3\",\"size\":{\"dtype\":\"f8\",\"bdata\":\"UrgeheuxTkA=\"},\"sizemode\":\"area\",\"sizeref\":1.7255102040816326,\"symbol\":\"circle\"},\"mode\":\"markers\",\"name\":\"Jamaica\",\"showlegend\":true,\"type\":\"scattergeo\"},{\"geo\":\"geo\",\"hovertemplate\":\"\\u003cb\\u003e%{hovertext}\\u003c\\u002fb\\u003e\\u003cbr\\u003e\\u003cbr\\u003eCountry=Argentina\\u003cbr\\u003eAveragScore=%{marker.size}\\u003cbr\\u003elatitude=%{lat}\\u003cbr\\u003elongitude=%{lon}\\u003cextra\\u003e\\u003c\\u002fextra\\u003e\",\"hovertext\":[\"Argentina\"],\"lat\":{\"dtype\":\"f8\",\"bdata\":\"W3ufqkI1Q8A=\"},\"legendgroup\":\"Argentina\",\"lon\":{\"dtype\":\"f8\",\"bdata\":\"8S2sG+\\u002fOT8A=\"},\"marker\":{\"color\":\"#FF6692\",\"size\":{\"dtype\":\"f8\",\"bdata\":\"cT0K16OwTkA=\"},\"sizemode\":\"area\",\"sizeref\":1.7255102040816326,\"symbol\":\"circle\"},\"mode\":\"markers\",\"name\":\"Argentina\",\"showlegend\":true,\"type\":\"scattergeo\"},{\"geo\":\"geo\",\"hovertemplate\":\"\\u003cb\\u003e%{hovertext}\\u003c\\u002fb\\u003e\\u003cbr\\u003e\\u003cbr\\u003eCountry=Peru\\u003cbr\\u003eAveragScore=%{marker.size}\\u003cbr\\u003elatitude=%{lat}\\u003cbr\\u003elongitude=%{lon}\\u003cextra\\u003e\\u003c\\u002fextra\\u003e\",\"hovertext\":[\"Peru\"],\"lat\":{\"dtype\":\"f8\",\"bdata\":\"cqPIWkNhIsA=\"},\"legendgroup\":\"Peru\",\"lon\":{\"dtype\":\"f8\",\"bdata\":\"BB4YQPjAUsA=\"},\"marker\":{\"color\":\"#B6E880\",\"size\":{\"dtype\":\"f8\",\"bdata\":\"w\\u002fUoXI+iTkA=\"},\"sizemode\":\"area\",\"sizeref\":1.7255102040816326,\"symbol\":\"circle\"},\"mode\":\"markers\",\"name\":\"Peru\",\"showlegend\":true,\"type\":\"scattergeo\"},{\"geo\":\"geo\",\"hovertemplate\":\"\\u003cb\\u003e%{hovertext}\\u003c\\u002fb\\u003e\\u003cbr\\u003e\\u003cbr\\u003eCountry=Kuwait\\u003cbr\\u003eAveragScore=%{marker.size}\\u003cbr\\u003elatitude=%{lat}\\u003cbr\\u003elongitude=%{lon}\\u003cextra\\u003e\\u003c\\u002fextra\\u003e\",\"hovertext\":[\"Kuwait\"],\"lat\":{\"dtype\":\"f8\",\"bdata\":\"q3gj88hPPUA=\"},\"legendgroup\":\"Kuwait\",\"lon\":{\"dtype\":\"f8\",\"bdata\":\"kSkfgqq9R0A=\"},\"marker\":{\"color\":\"#FF97FF\",\"size\":{\"dtype\":\"f8\",\"bdata\":\"16NwPQp3TkA=\"},\"sizemode\":\"area\",\"sizeref\":1.7255102040816326,\"symbol\":\"circle\"},\"mode\":\"markers\",\"name\":\"Kuwait\",\"showlegend\":true,\"type\":\"scattergeo\"},{\"geo\":\"geo\",\"hovertemplate\":\"\\u003cb\\u003e%{hovertext}\\u003c\\u002fb\\u003e\\u003cbr\\u003e\\u003cbr\\u003eCountry=Armenia\\u003cbr\\u003eAveragScore=%{marker.size}\\u003cbr\\u003elatitude=%{lat}\\u003cbr\\u003elongitude=%{lon}\\u003cextra\\u003e\\u003c\\u002fextra\\u003e\",\"hovertext\":[\"Armenia\"],\"lat\":{\"dtype\":\"f8\",\"bdata\":\"2ZdsPNgIREA=\"},\"legendgroup\":\"Armenia\",\"lon\":{\"dtype\":\"f8\",\"bdata\":\"kgiNYOOERkA=\"},\"marker\":{\"color\":\"#FECB52\",\"size\":{\"dtype\":\"f8\",\"bdata\":\"9ihcj8J1TkA=\"},\"sizemode\":\"area\",\"sizeref\":1.7255102040816326,\"symbol\":\"circle\"},\"mode\":\"markers\",\"name\":\"Armenia\",\"showlegend\":true,\"type\":\"scattergeo\"},{\"geo\":\"geo\",\"hovertemplate\":\"\\u003cb\\u003e%{hovertext}\\u003c\\u002fb\\u003e\\u003cbr\\u003e\\u003cbr\\u003eCountry=Bahrain\\u003cbr\\u003eAveragScore=%{marker.size}\\u003cbr\\u003elatitude=%{lat}\\u003cbr\\u003elongitude=%{lon}\\u003cextra\\u003e\\u003c\\u002fextra\\u003e\",\"hovertext\":[\"Bahrain\"],\"lat\":{\"dtype\":\"f8\",\"bdata\":\"lL2lnC\\u002fuOUA=\"},\"legendgroup\":\"Bahrain\",\"lon\":{\"dtype\":\"f8\",\"bdata\":\"+iZNg6JRSUA=\"},\"marker\":{\"color\":\"#636efa\",\"size\":{\"dtype\":\"f8\",\"bdata\":\"9ihcj8J1TkA=\"},\"sizemode\":\"area\",\"sizeref\":1.7255102040816326,\"symbol\":\"circle\"},\"mode\":\"markers\",\"name\":\"Bahrain\",\"showlegend\":true,\"type\":\"scattergeo\"},{\"geo\":\"geo\",\"hovertemplate\":\"\\u003cb\\u003e%{hovertext}\\u003c\\u002fb\\u003e\\u003cbr\\u003e\\u003cbr\\u003eCountry=Indonesia\\u003cbr\\u003eAveragScore=%{marker.size}\\u003cbr\\u003elatitude=%{lat}\\u003cbr\\u003elongitude=%{lon}\\u003cextra\\u003e\\u003c\\u002fextra\\u003e\",\"hovertext\":[\"Indonesia\"],\"lat\":{\"dtype\":\"f8\",\"bdata\":\"4JwRpb1B6b8=\"},\"legendgroup\":\"Indonesia\",\"lon\":{\"dtype\":\"f8\",\"bdata\":\"\\u002f3qFBfd6XEA=\"},\"marker\":{\"color\":\"#EF553B\",\"size\":{\"dtype\":\"f8\",\"bdata\":\"cT0K16NwTkA=\"},\"sizemode\":\"area\",\"sizeref\":1.7255102040816326,\"symbol\":\"circle\"},\"mode\":\"markers\",\"name\":\"Indonesia\",\"showlegend\":true,\"type\":\"scattergeo\"},{\"geo\":\"geo\",\"hovertemplate\":\"\\u003cb\\u003e%{hovertext}\\u003c\\u002fb\\u003e\\u003cbr\\u003e\\u003cbr\\u003eCountry=Thailand\\u003cbr\\u003eAveragScore=%{marker.size}\\u003cbr\\u003elatitude=%{lat}\\u003cbr\\u003elongitude=%{lon}\\u003cextra\\u003e\\u003c\\u002fextra\\u003e\",\"hovertext\":[\"Thailand\"],\"lat\":{\"dtype\":\"f8\",\"bdata\":\"a\\u002fKU1XS9L0A=\"},\"legendgroup\":\"Thailand\",\"lon\":{\"dtype\":\"f8\",\"bdata\":\"G7yvyoU\\u002fWUA=\"},\"marker\":{\"color\":\"#00cc96\",\"size\":{\"dtype\":\"f8\",\"bdata\":\"hetRuB5lTkA=\"},\"sizemode\":\"area\",\"sizeref\":1.7255102040816326,\"symbol\":\"circle\"},\"mode\":\"markers\",\"name\":\"Thailand\",\"showlegend\":true,\"type\":\"scattergeo\"},{\"geo\":\"geo\",\"hovertemplate\":\"\\u003cb\\u003e%{hovertext}\\u003c\\u002fb\\u003e\\u003cbr\\u003e\\u003cbr\\u003eCountry=Albania\\u003cbr\\u003eAveragScore=%{marker.size}\\u003cbr\\u003elatitude=%{lat}\\u003cbr\\u003elongitude=%{lon}\\u003cextra\\u003e\\u003c\\u002fextra\\u003e\",\"hovertext\":[\"Albania\"],\"lat\":{\"dtype\":\"f8\",\"bdata\":\"E7cKYqCTREA=\"},\"legendgroup\":\"Albania\",\"lon\":{\"dtype\":\"f8\",\"bdata\":\"KeeLvRcrNEA=\"},\"marker\":{\"color\":\"#ab63fa\",\"size\":{\"dtype\":\"f8\",\"bdata\":\"uB6F61FYTkA=\"},\"sizemode\":\"area\",\"sizeref\":1.7255102040816326,\"symbol\":\"circle\"},\"mode\":\"markers\",\"name\":\"Albania\",\"showlegend\":true,\"type\":\"scattergeo\"},{\"geo\":\"geo\",\"hovertemplate\":\"\\u003cb\\u003e%{hovertext}\\u003c\\u002fb\\u003e\\u003cbr\\u003e\\u003cbr\\u003eCountry=Brazil\\u003cbr\\u003eAveragScore=%{marker.size}\\u003cbr\\u003elatitude=%{lat}\\u003cbr\\u003elongitude=%{lon}\\u003cextra\\u003e\\u003c\\u002fextra\\u003e\",\"hovertext\":[\"Brazil\"],\"lat\":{\"dtype\":\"f8\",\"bdata\":\"vtu8cVJ4LMA=\"},\"legendgroup\":\"Brazil\",\"lon\":{\"dtype\":\"f8\",\"bdata\":\"StI1k2\\u002f2ScA=\"},\"marker\":{\"color\":\"#FFA15A\",\"size\":{\"dtype\":\"f8\",\"bdata\":\"KVyPwvUITkA=\"},\"sizemode\":\"area\",\"sizeref\":1.7255102040816326,\"symbol\":\"circle\"},\"mode\":\"markers\",\"name\":\"Brazil\",\"showlegend\":true,\"type\":\"scattergeo\"},{\"geo\":\"geo\",\"hovertemplate\":\"\\u003cb\\u003e%{hovertext}\\u003c\\u002fb\\u003e\\u003cbr\\u003e\\u003cbr\\u003eCountry=Oman\\u003cbr\\u003eAveragScore=%{marker.size}\\u003cbr\\u003elatitude=%{lat}\\u003cbr\\u003elongitude=%{lon}\\u003cextra\\u003e\\u003c\\u002fextra\\u003e\",\"hovertext\":[\"Oman\"],\"lat\":{\"dtype\":\"f8\",\"bdata\":\"Tny1oziDNUA=\"},\"legendgroup\":\"Oman\",\"lon\":{\"dtype\":\"f8\",\"bdata\":\"Km9HOC32S0A=\"},\"marker\":{\"color\":\"#19d3f3\",\"size\":{\"dtype\":\"f8\",\"bdata\":\"zczMzMzsTUA=\"},\"sizemode\":\"area\",\"sizeref\":1.7255102040816326,\"symbol\":\"circle\"},\"mode\":\"markers\",\"name\":\"Oman\",\"showlegend\":true,\"type\":\"scattergeo\"},{\"geo\":\"geo\",\"hovertemplate\":\"\\u003cb\\u003e%{hovertext}\\u003c\\u002fb\\u003e\\u003cbr\\u003e\\u003cbr\\u003eCountry=Dominican Republic\\u003cbr\\u003eAveragScore=%{marker.size}\\u003cbr\\u003elatitude=%{lat}\\u003cbr\\u003elongitude=%{lon}\\u003cextra\\u003e\\u003c\\u002fextra\\u003e\",\"hovertext\":[\"Dominican Republic\"],\"lat\":{\"dtype\":\"f8\",\"bdata\":\"aeVeYFa8MkA=\"},\"legendgroup\":\"Dominican Republic\",\"lon\":{\"dtype\":\"f8\",\"bdata\":\"WWq932iKUcA=\"},\"marker\":{\"color\":\"#FF6692\",\"size\":{\"dtype\":\"f8\",\"bdata\":\"zczMzMzsTUA=\"},\"sizemode\":\"area\",\"sizeref\":1.7255102040816326,\"symbol\":\"circle\"},\"mode\":\"markers\",\"name\":\"Dominican Republic\",\"showlegend\":true,\"type\":\"scattergeo\"},{\"geo\":\"geo\",\"hovertemplate\":\"\\u003cb\\u003e%{hovertext}\\u003c\\u002fb\\u003e\\u003cbr\\u003e\\u003cbr\\u003eCountry=Kazakhstan\\u003cbr\\u003eAveragScore=%{marker.size}\\u003cbr\\u003elatitude=%{lat}\\u003cbr\\u003elongitude=%{lon}\\u003cextra\\u003e\\u003c\\u002fextra\\u003e\",\"hovertext\":[\"Kazakhstan\"],\"lat\":{\"dtype\":\"f8\",\"bdata\":\"O3E5XoECSEA=\"},\"legendgroup\":\"Kazakhstan\",\"lon\":{\"dtype\":\"f8\",\"bdata\":\"qfV+ox27UEA=\"},\"marker\":{\"color\":\"#B6E880\",\"size\":{\"dtype\":\"f8\",\"bdata\":\"pHA9CtfDTUA=\"},\"sizemode\":\"area\",\"sizeref\":1.7255102040816326,\"symbol\":\"circle\"},\"mode\":\"markers\",\"name\":\"Kazakhstan\",\"showlegend\":true,\"type\":\"scattergeo\"},{\"geo\":\"geo\",\"hovertemplate\":\"\\u003cb\\u003e%{hovertext}\\u003c\\u002fb\\u003e\\u003cbr\\u003e\\u003cbr\\u003eCountry=Moldova\\u003cbr\\u003eAveragScore=%{marker.size}\\u003cbr\\u003elatitude=%{lat}\\u003cbr\\u003elongitude=%{lon}\\u003cextra\\u003e\\u003c\\u002fextra\\u003e\",\"hovertext\":[\"Moldova\"],\"lat\":{\"dtype\":\"f8\",\"bdata\":\"iIIZU7C0R0A=\"},\"legendgroup\":\"Moldova\",\"lon\":{\"dtype\":\"f8\",\"bdata\":\"7UeKyLBePEA=\"},\"marker\":{\"color\":\"#FF97FF\",\"size\":{\"dtype\":\"f8\",\"bdata\":\"uB6F61G4TUA=\"},\"sizemode\":\"area\",\"sizeref\":1.7255102040816326,\"symbol\":\"circle\"},\"mode\":\"markers\",\"name\":\"Moldova\",\"showlegend\":true,\"type\":\"scattergeo\"},{\"geo\":\"geo\",\"hovertemplate\":\"\\u003cb\\u003e%{hovertext}\\u003c\\u002fb\\u003e\\u003cbr\\u003e\\u003cbr\\u003eCountry=Mexico\\u003cbr\\u003eAveragScore=%{marker.size}\\u003cbr\\u003elatitude=%{lat}\\u003cbr\\u003elongitude=%{lon}\\u003cextra\\u003e\\u003c\\u002fextra\\u003e\",\"hovertext\":[\"Mexico\"],\"lat\":{\"dtype\":\"f8\",\"bdata\":\"gEdUqG6iN0A=\"},\"legendgroup\":\"Mexico\",\"lon\":{\"dtype\":\"f8\",\"bdata\":\"InAk0GCjWcA=\"},\"marker\":{\"color\":\"#FECB52\",\"size\":{\"dtype\":\"f8\",\"bdata\":\"ZmZmZmamTUA=\"},\"sizemode\":\"area\",\"sizeref\":1.7255102040816326,\"symbol\":\"circle\"},\"mode\":\"markers\",\"name\":\"Mexico\",\"showlegend\":true,\"type\":\"scattergeo\"},{\"geo\":\"geo\",\"hovertemplate\":\"\\u003cb\\u003e%{hovertext}\\u003c\\u002fb\\u003e\\u003cbr\\u003e\\u003cbr\\u003eCountry=Bosnia and Herzegovina\\u003cbr\\u003eAveragScore=%{marker.size}\\u003cbr\\u003elatitude=%{lat}\\u003cbr\\u003elongitude=%{lon}\\u003cextra\\u003e\\u003c\\u002fextra\\u003e\",\"hovertext\":[\"Bosnia and Herzegovina\"],\"lat\":{\"dtype\":\"f8\",\"bdata\":\"oG6gwDv1RUA=\"},\"legendgroup\":\"Bosnia and Herzegovina\",\"lon\":{\"dtype\":\"f8\",\"bdata\":\"nX+77NetMUA=\"},\"marker\":{\"color\":\"#636efa\",\"size\":{\"dtype\":\"f8\",\"bdata\":\"rkfhehSOTUA=\"},\"sizemode\":\"area\",\"sizeref\":1.7255102040816326,\"symbol\":\"circle\"},\"mode\":\"markers\",\"name\":\"Bosnia and Herzegovina\",\"showlegend\":true,\"type\":\"scattergeo\"},{\"geo\":\"geo\",\"hovertemplate\":\"\\u003cb\\u003e%{hovertext}\\u003c\\u002fb\\u003e\\u003cbr\\u003e\\u003cbr\\u003eCountry=Vietnam\\u003cbr\\u003eAveragScore=%{marker.size}\\u003cbr\\u003elatitude=%{lat}\\u003cbr\\u003elongitude=%{lon}\\u003cextra\\u003e\\u003c\\u002fextra\\u003e\",\"hovertext\":[\"Vietnam\"],\"lat\":{\"dtype\":\"f8\",\"bdata\":\"0SSxpNwdLEA=\"},\"legendgroup\":\"Vietnam\",\"lon\":{\"dtype\":\"f8\",\"bdata\":\"+N7foL0RW0A=\"},\"marker\":{\"color\":\"#EF553B\",\"size\":{\"dtype\":\"f8\",\"bdata\":\"rkfhehRuTUA=\"},\"sizemode\":\"area\",\"sizeref\":1.7255102040816326,\"symbol\":\"circle\"},\"mode\":\"markers\",\"name\":\"Vietnam\",\"showlegend\":true,\"type\":\"scattergeo\"},{\"geo\":\"geo\",\"hovertemplate\":\"\\u003cb\\u003e%{hovertext}\\u003c\\u002fb\\u003e\\u003cbr\\u003e\\u003cbr\\u003eCountry=Ukraine\\u003cbr\\u003eAveragScore=%{marker.size}\\u003cbr\\u003elatitude=%{lat}\\u003cbr\\u003elongitude=%{lon}\\u003cextra\\u003e\\u003c\\u002fextra\\u003e\",\"hovertext\":[\"Ukraine\"],\"lat\":{\"dtype\":\"f8\",\"bdata\":\"9wKzQpEwSEA=\"},\"legendgroup\":\"Ukraine\",\"lon\":{\"dtype\":\"f8\",\"bdata\":\"Jt9sc2MqP0A=\"},\"marker\":{\"color\":\"#00cc96\",\"size\":{\"dtype\":\"f8\",\"bdata\":\"7FG4HoVrTUA=\"},\"sizemode\":\"area\",\"sizeref\":1.7255102040816326,\"symbol\":\"circle\"},\"mode\":\"markers\",\"name\":\"Ukraine\",\"showlegend\":true,\"type\":\"scattergeo\"},{\"geo\":\"geo\",\"hovertemplate\":\"\\u003cb\\u003e%{hovertext}\\u003c\\u002fb\\u003e\\u003cbr\\u003e\\u003cbr\\u003eCountry=South Africa\\u003cbr\\u003eAveragScore=%{marker.size}\\u003cbr\\u003elatitude=%{lat}\\u003cbr\\u003elongitude=%{lon}\\u003cextra\\u003e\\u003c\\u002fextra\\u003e\",\"hovertext\":[\"South Africa\"],\"lat\":{\"dtype\":\"f8\",\"bdata\":\"X7NcNjqPPsA=\"},\"legendgroup\":\"South Africa\",\"lon\":{\"dtype\":\"f8\",\"bdata\":\"xM2pZADwNkA=\"},\"marker\":{\"color\":\"#ab63fa\",\"size\":{\"dtype\":\"f8\",\"bdata\":\"9ihcj8JVTUA=\"},\"sizemode\":\"area\",\"sizeref\":1.7255102040816326,\"symbol\":\"circle\"},\"mode\":\"markers\",\"name\":\"South Africa\",\"showlegend\":true,\"type\":\"scattergeo\"},{\"geo\":\"geo\",\"hovertemplate\":\"\\u003cb\\u003e%{hovertext}\\u003c\\u002fb\\u003e\\u003cbr\\u003e\\u003cbr\\u003eCountry=Paraguay\\u003cbr\\u003eAveragScore=%{marker.size}\\u003cbr\\u003elatitude=%{lat}\\u003cbr\\u003elongitude=%{lon}\\u003cextra\\u003e\\u003c\\u002fextra\\u003e\",\"hovertext\":[\"Paraguay\"],\"lat\":{\"dtype\":\"f8\",\"bdata\":\"w2Fp4EdxN8A=\"},\"legendgroup\":\"Paraguay\",\"lon\":{\"dtype\":\"f8\",\"bdata\":\"inWqfM84TcA=\"},\"marker\":{\"color\":\"#FFA15A\",\"size\":{\"dtype\":\"f8\",\"bdata\":\"SOF6FK5HTUA=\"},\"sizemode\":\"area\",\"sizeref\":1.7255102040816326,\"symbol\":\"circle\"},\"mode\":\"markers\",\"name\":\"Paraguay\",\"showlegend\":true,\"type\":\"scattergeo\"},{\"geo\":\"geo\",\"hovertemplate\":\"\\u003cb\\u003e%{hovertext}\\u003c\\u002fb\\u003e\\u003cbr\\u003e\\u003cbr\\u003eCountry=Russia\\u003cbr\\u003eAveragScore=%{marker.size}\\u003cbr\\u003elatitude=%{lat}\\u003cbr\\u003elongitude=%{lon}\\u003cextra\\u003e\\u003c\\u002fextra\\u003e\",\"hovertext\":[\"Russia\"],\"lat\":{\"dtype\":\"f8\",\"bdata\":\"c2N6whLDTkA=\"},\"legendgroup\":\"Russia\",\"lon\":{\"dtype\":\"f8\",\"bdata\":\"19mQf2ZUWkA=\"},\"marker\":{\"color\":\"#19d3f3\",\"size\":{\"dtype\":\"f8\",\"bdata\":\"AAAAAABATUA=\"},\"sizemode\":\"area\",\"sizeref\":1.7255102040816326,\"symbol\":\"circle\"},\"mode\":\"markers\",\"name\":\"Russia\",\"showlegend\":true,\"type\":\"scattergeo\"},{\"geo\":\"geo\",\"hovertemplate\":\"\\u003cb\\u003e%{hovertext}\\u003c\\u002fb\\u003e\\u003cbr\\u003e\\u003cbr\\u003eCountry=Belarus\\u003cbr\\u003eAveragScore=%{marker.size}\\u003cbr\\u003elatitude=%{lat}\\u003cbr\\u003elongitude=%{lon}\\u003cextra\\u003e\\u003c\\u002fextra\\u003e\",\"hovertext\":[\"Belarus\"],\"lat\":{\"dtype\":\"f8\",\"bdata\":\"Zryt9NraSkA=\"},\"legendgroup\":\"Belarus\",\"lon\":{\"dtype\":\"f8\",\"bdata\":\"vF0vTRH0O0A=\"},\"marker\":{\"color\":\"#FF6692\",\"size\":{\"dtype\":\"f8\",\"bdata\":\"MzMzMzMzTUA=\"},\"sizemode\":\"area\",\"sizeref\":1.7255102040816326,\"symbol\":\"circle\"},\"mode\":\"markers\",\"name\":\"Belarus\",\"showlegend\":true,\"type\":\"scattergeo\"},{\"geo\":\"geo\",\"hovertemplate\":\"\\u003cb\\u003e%{hovertext}\\u003c\\u002fb\\u003e\\u003cbr\\u003e\\u003cbr\\u003eCountry=Saudi Arabia\\u003cbr\\u003eAveragScore=%{marker.size}\\u003cbr\\u003elatitude=%{lat}\\u003cbr\\u003elongitude=%{lon}\\u003cextra\\u003e\\u003c\\u002fextra\\u003e\",\"hovertext\":[\"Saudi Arabia\"],\"lat\":{\"dtype\":\"f8\",\"bdata\":\"ICdMGM3iN0A=\"},\"legendgroup\":\"Saudi Arabia\",\"lon\":{\"dtype\":\"f8\",\"bdata\":\"AIv8+iGKRkA=\"},\"marker\":{\"color\":\"#B6E880\",\"size\":{\"dtype\":\"f8\",\"bdata\":\"zczMzMwsTUA=\"},\"sizemode\":\"area\",\"sizeref\":1.7255102040816326,\"symbol\":\"circle\"},\"mode\":\"markers\",\"name\":\"Saudi Arabia\",\"showlegend\":true,\"type\":\"scattergeo\"},{\"geo\":\"geo\",\"hovertemplate\":\"\\u003cb\\u003e%{hovertext}\\u003c\\u002fb\\u003e\\u003cbr\\u003e\\u003cbr\\u003eCountry=Colombia\\u003cbr\\u003eAveragScore=%{marker.size}\\u003cbr\\u003elatitude=%{lat}\\u003cbr\\u003elongitude=%{lon}\\u003cextra\\u003e\\u003c\\u002fextra\\u003e\",\"hovertext\":[\"Colombia\"],\"lat\":{\"dtype\":\"f8\",\"bdata\":\"61T5npFIEkA=\"},\"legendgroup\":\"Colombia\",\"lon\":{\"dtype\":\"f8\",\"bdata\":\"YcH9gAeTUsA=\"},\"marker\":{\"color\":\"#FF97FF\",\"size\":{\"dtype\":\"f8\",\"bdata\":\"4XoUrkcBTUA=\"},\"sizemode\":\"area\",\"sizeref\":1.7255102040816326,\"symbol\":\"circle\"},\"mode\":\"markers\",\"name\":\"Colombia\",\"showlegend\":true,\"type\":\"scattergeo\"},{\"geo\":\"geo\",\"hovertemplate\":\"\\u003cb\\u003e%{hovertext}\\u003c\\u002fb\\u003e\\u003cbr\\u003e\\u003cbr\\u003eCountry=Suriname\\u003cbr\\u003eAveragScore=%{marker.size}\\u003cbr\\u003elatitude=%{lat}\\u003cbr\\u003elongitude=%{lon}\\u003cextra\\u003e\\u003c\\u002fextra\\u003e\",\"hovertext\":[\"Suriname\"],\"lat\":{\"dtype\":\"f8\",\"bdata\":\"7WRwlLxaD0A=\"},\"legendgroup\":\"Suriname\",\"lon\":{\"dtype\":\"f8\",\"bdata\":\"QDGyZI4DTMA=\"},\"marker\":{\"color\":\"#FECB52\",\"size\":{\"dtype\":\"f8\",\"bdata\":\"FK5H4Xr0TEA=\"},\"sizemode\":\"area\",\"sizeref\":1.7255102040816326,\"symbol\":\"circle\"},\"mode\":\"markers\",\"name\":\"Suriname\",\"showlegend\":true,\"type\":\"scattergeo\"},{\"geo\":\"geo\",\"hovertemplate\":\"\\u003cb\\u003e%{hovertext}\\u003c\\u002fb\\u003e\\u003cbr\\u003e\\u003cbr\\u003eCountry=Botswana\\u003cbr\\u003eAveragScore=%{marker.size}\\u003cbr\\u003elatitude=%{lat}\\u003cbr\\u003elongitude=%{lon}\\u003cextra\\u003e\\u003c\\u002fextra\\u003e\",\"hovertext\":[\"Botswana\"],\"lat\":{\"dtype\":\"f8\",\"bdata\":\"GJY\\u002f3xZUNsA=\"},\"legendgroup\":\"Botswana\",\"lon\":{\"dtype\":\"f8\",\"bdata\":\"cCTQYFOvOEA=\"},\"marker\":{\"color\":\"#636efa\",\"size\":{\"dtype\":\"f8\",\"bdata\":\"CtejcD3qTEA=\"},\"sizemode\":\"area\",\"sizeref\":1.7255102040816326,\"symbol\":\"circle\"},\"mode\":\"markers\",\"name\":\"Botswana\",\"showlegend\":true,\"type\":\"scattergeo\"},{\"geo\":\"geo\",\"hovertemplate\":\"\\u003cb\\u003e%{hovertext}\\u003c\\u002fb\\u003e\\u003cbr\\u003e\\u003cbr\\u003eCountry=Philippines\\u003cbr\\u003eAveragScore=%{marker.size}\\u003cbr\\u003elatitude=%{lat}\\u003cbr\\u003elongitude=%{lon}\\u003cextra\\u003e\\u003c\\u002fextra\\u003e\",\"hovertext\":[\"Philippines\"],\"lat\":{\"dtype\":\"f8\",\"bdata\":\"djV5ymrCKUA=\"},\"legendgroup\":\"Philippines\",\"lon\":{\"dtype\":\"f8\",\"bdata\":\"E2OZfolxXkA=\"},\"marker\":{\"color\":\"#EF553B\",\"size\":{\"dtype\":\"f8\",\"bdata\":\"pHA9CtfDTEA=\"},\"sizemode\":\"area\",\"sizeref\":1.7255102040816326,\"symbol\":\"circle\"},\"mode\":\"markers\",\"name\":\"Philippines\",\"showlegend\":true,\"type\":\"scattergeo\"},{\"geo\":\"geo\",\"hovertemplate\":\"\\u003cb\\u003e%{hovertext}\\u003c\\u002fb\\u003e\\u003cbr\\u003e\\u003cbr\\u003eCountry=Ecuador\\u003cbr\\u003eAveragScore=%{marker.size}\\u003cbr\\u003elatitude=%{lat}\\u003cbr\\u003elongitude=%{lon}\\u003cextra\\u003e\\u003c\\u002fextra\\u003e\",\"hovertext\":[\"Ecuador\"],\"lat\":{\"dtype\":\"f8\",\"bdata\":\"UI4CRMFM\\u002fb8=\"},\"legendgroup\":\"Ecuador\",\"lon\":{\"dtype\":\"f8\",\"bdata\":\"+fiE7LyLU8A=\"},\"marker\":{\"color\":\"#00cc96\",\"size\":{\"dtype\":\"f8\",\"bdata\":\"9ihcj8K1TEA=\"},\"sizemode\":\"area\",\"sizeref\":1.7255102040816326,\"symbol\":\"circle\"},\"mode\":\"markers\",\"name\":\"Ecuador\",\"showlegend\":true,\"type\":\"scattergeo\"},{\"geo\":\"geo\",\"hovertemplate\":\"\\u003cb\\u003e%{hovertext}\\u003c\\u002fb\\u003e\\u003cbr\\u003e\\u003cbr\\u003eCountry=Jordan\\u003cbr\\u003eAveragScore=%{marker.size}\\u003cbr\\u003elatitude=%{lat}\\u003cbr\\u003elongitude=%{lon}\\u003cextra\\u003e\\u003c\\u002fextra\\u003e\",\"hovertext\":[\"Jordan\"],\"lat\":{\"dtype\":\"f8\",\"bdata\":\"6svSTs2VPkA=\"},\"legendgroup\":\"Jordan\",\"lon\":{\"dtype\":\"f8\",\"bdata\":\"S3SWWYQeQkA=\"},\"marker\":{\"color\":\"#ab63fa\",\"size\":{\"dtype\":\"f8\",\"bdata\":\"UrgeheuRTEA=\"},\"sizemode\":\"area\",\"sizeref\":1.7255102040816326,\"symbol\":\"circle\"},\"mode\":\"markers\",\"name\":\"Jordan\",\"showlegend\":true,\"type\":\"scattergeo\"},{\"geo\":\"geo\",\"hovertemplate\":\"\\u003cb\\u003e%{hovertext}\\u003c\\u002fb\\u003e\\u003cbr\\u003e\\u003cbr\\u003eCountry=S\\u00e3o Tom\\u00e9 and Pr\\u00edncipe\\u003cbr\\u003eAveragScore=%{marker.size}\\u003cbr\\u003elatitude=%{lat}\\u003cbr\\u003elongitude=%{lon}\\u003cextra\\u003e\\u003c\\u002fextra\\u003e\",\"hovertext\":[\"S\\u00e3o Tom\\u00e9 and Pr\\u00edncipe\"],\"lat\":{\"dtype\":\"f8\",\"bdata\":\"7Sqk\\u002fKTaxz8=\"},\"legendgroup\":\"S\\u00e3o Tom\\u00e9 and Pr\\u00edncipe\",\"lon\":{\"dtype\":\"f8\",\"bdata\":\"JzJzgctzGkA=\"},\"marker\":{\"color\":\"#FFA15A\",\"size\":{\"dtype\":\"f8\",\"bdata\":\"7FG4HoWLTEA=\"},\"sizemode\":\"area\",\"sizeref\":1.7255102040816326,\"symbol\":\"circle\"},\"mode\":\"markers\",\"name\":\"S\\u00e3o Tom\\u00e9 and Pr\\u00edncipe\",\"showlegend\":true,\"type\":\"scattergeo\"},{\"geo\":\"geo\",\"hovertemplate\":\"\\u003cb\\u003e%{hovertext}\\u003c\\u002fb\\u003e\\u003cbr\\u003e\\u003cbr\\u003eCountry=Mongolia\\u003cbr\\u003eAveragScore=%{marker.size}\\u003cbr\\u003elatitude=%{lat}\\u003cbr\\u003elongitude=%{lon}\\u003cextra\\u003e\\u003c\\u002fextra\\u003e\",\"hovertext\":[\"Mongolia\"],\"lat\":{\"dtype\":\"f8\",\"bdata\":\"JXfYRGZuR0A=\"},\"legendgroup\":\"Mongolia\",\"lon\":{\"dtype\":\"f8\",\"bdata\":\"lL2lnC\\u002f2WUA=\"},\"marker\":{\"color\":\"#19d3f3\",\"size\":{\"dtype\":\"f8\",\"bdata\":\"KVyPwvWITEA=\"},\"sizemode\":\"area\",\"sizeref\":1.7255102040816326,\"symbol\":\"circle\"},\"mode\":\"markers\",\"name\":\"Mongolia\",\"showlegend\":true,\"type\":\"scattergeo\"},{\"geo\":\"geo\",\"hovertemplate\":\"\\u003cb\\u003e%{hovertext}\\u003c\\u002fb\\u003e\\u003cbr\\u003e\\u003cbr\\u003eCountry=Guyana\\u003cbr\\u003eAveragScore=%{marker.size}\\u003cbr\\u003elatitude=%{lat}\\u003cbr\\u003elongitude=%{lon}\\u003cextra\\u003e\\u003c\\u002fextra\\u003e\",\"hovertext\":[\"Guyana\"],\"lat\":{\"dtype\":\"f8\",\"bdata\":\"D9JT5BBxE0A=\"},\"legendgroup\":\"Guyana\",\"lon\":{\"dtype\":\"f8\",\"bdata\":\"V7JjIxB3TcA=\"},\"marker\":{\"color\":\"#FF6692\",\"size\":{\"dtype\":\"f8\",\"bdata\":\"16NwPQp3TEA=\"},\"sizemode\":\"area\",\"sizeref\":1.7255102040816326,\"symbol\":\"circle\"},\"mode\":\"markers\",\"name\":\"Guyana\",\"showlegend\":true,\"type\":\"scattergeo\"},{\"geo\":\"geo\",\"hovertemplate\":\"\\u003cb\\u003e%{hovertext}\\u003c\\u002fb\\u003e\\u003cbr\\u003e\\u003cbr\\u003eCountry=Namibia\\u003cbr\\u003eAveragScore=%{marker.size}\\u003cbr\\u003elatitude=%{lat}\\u003cbr\\u003elongitude=%{lon}\\u003cextra\\u003e\\u003c\\u002fextra\\u003e\",\"hovertext\":[\"Namibia\"],\"lat\":{\"dtype\":\"f8\",\"bdata\":\"aVch5Sf1NsA=\"},\"legendgroup\":\"Namibia\",\"lon\":{\"dtype\":\"f8\",\"bdata\":\"oaF\\u002fgot9MkA=\"},\"marker\":{\"color\":\"#B6E880\",\"size\":{\"dtype\":\"f8\",\"bdata\":\"cT0K16MwTEA=\"},\"sizemode\":\"area\",\"sizeref\":1.7255102040816326,\"symbol\":\"circle\"},\"mode\":\"markers\",\"name\":\"Namibia\",\"showlegend\":true,\"type\":\"scattergeo\"},{\"geo\":\"geo\",\"hovertemplate\":\"\\u003cb\\u003e%{hovertext}\\u003c\\u002fb\\u003e\\u003cbr\\u003e\\u003cbr\\u003eCountry=Sri Lanka\\u003cbr\\u003eAveragScore=%{marker.size}\\u003cbr\\u003elatitude=%{lat}\\u003cbr\\u003elongitude=%{lon}\\u003cextra\\u003e\\u003c\\u002fextra\\u003e\",\"hovertext\":[\"Sri Lanka\"],\"lat\":{\"dtype\":\"f8\",\"bdata\":\"ZJEm3gF+H0A=\"},\"legendgroup\":\"Sri Lanka\",\"lon\":{\"dtype\":\"f8\",\"bdata\":\"qYk+H2UxVEA=\"},\"marker\":{\"color\":\"#FF97FF\",\"size\":{\"dtype\":\"f8\",\"bdata\":\"7FG4HoUrTEA=\"},\"sizemode\":\"area\",\"sizeref\":1.7255102040816326,\"symbol\":\"circle\"},\"mode\":\"markers\",\"name\":\"Sri Lanka\",\"showlegend\":true,\"type\":\"scattergeo\"},{\"geo\":\"geo\",\"hovertemplate\":\"\\u003cb\\u003e%{hovertext}\\u003c\\u002fb\\u003e\\u003cbr\\u003e\\u003cbr\\u003eCountry=Azerbaijan\\u003cbr\\u003eAveragScore=%{marker.size}\\u003cbr\\u003elatitude=%{lat}\\u003cbr\\u003elongitude=%{lon}\\u003cextra\\u003e\\u003c\\u002fextra\\u003e\",\"hovertext\":[\"Azerbaijan\"],\"lat\":{\"dtype\":\"f8\",\"bdata\":\"cXK\\u002fQ1ESREA=\"},\"legendgroup\":\"Azerbaijan\",\"lon\":{\"dtype\":\"f8\",\"bdata\":\"9pZyvtjJR0A=\"},\"marker\":{\"color\":\"#FECB52\",\"size\":{\"dtype\":\"f8\",\"bdata\":\"4XoUrkchTEA=\"},\"sizemode\":\"area\",\"sizeref\":1.7255102040816326,\"symbol\":\"circle\"},\"mode\":\"markers\",\"name\":\"Azerbaijan\",\"showlegend\":true,\"type\":\"scattergeo\"},{\"geo\":\"geo\",\"hovertemplate\":\"\\u003cb\\u003e%{hovertext}\\u003c\\u002fb\\u003e\\u003cbr\\u003e\\u003cbr\\u003eCountry=Belize\\u003cbr\\u003eAveragScore=%{marker.size}\\u003cbr\\u003elatitude=%{lat}\\u003cbr\\u003elongitude=%{lon}\\u003cextra\\u003e\\u003c\\u002fextra\\u003e\",\"hovertext\":[\"Belize\"],\"lat\":{\"dtype\":\"f8\",\"bdata\":\"OUNxx5swMUA=\"},\"legendgroup\":\"Belize\",\"lon\":{\"dtype\":\"f8\",\"bdata\":\"rrZif9kfVsA=\"},\"marker\":{\"color\":\"#636efa\",\"size\":{\"dtype\":\"f8\",\"bdata\":\"FK5H4Xr0S0A=\"},\"sizemode\":\"area\",\"sizeref\":1.7255102040816326,\"symbol\":\"circle\"},\"mode\":\"markers\",\"name\":\"Belize\",\"showlegend\":true,\"type\":\"scattergeo\"},{\"geo\":\"geo\",\"hovertemplate\":\"\\u003cb\\u003e%{hovertext}\\u003c\\u002fb\\u003e\\u003cbr\\u003e\\u003cbr\\u003eCountry=Kyrgyzstan\\u003cbr\\u003eAveragScore=%{marker.size}\\u003cbr\\u003elatitude=%{lat}\\u003cbr\\u003elongitude=%{lon}\\u003cextra\\u003e\\u003c\\u002fextra\\u003e\",\"hovertext\":[\"Kyrgyzstan\"],\"lat\":{\"dtype\":\"f8\",\"bdata\":\"bvqzHymaREA=\"},\"legendgroup\":\"Kyrgyzstan\",\"lon\":{\"dtype\":\"f8\",\"bdata\":\"\\u002fOHnvwexUkA=\"},\"marker\":{\"color\":\"#EF553B\",\"size\":{\"dtype\":\"f8\",\"bdata\":\"AAAAAADgS0A=\"},\"sizemode\":\"area\",\"sizeref\":1.7255102040816326,\"symbol\":\"circle\"},\"mode\":\"markers\",\"name\":\"Kyrgyzstan\",\"showlegend\":true,\"type\":\"scattergeo\"},{\"geo\":\"geo\",\"hovertemplate\":\"\\u003cb\\u003e%{hovertext}\\u003c\\u002fb\\u003e\\u003cbr\\u003e\\u003cbr\\u003eCountry=Turkey\\u003cbr\\u003eAveragScore=%{marker.size}\\u003cbr\\u003elatitude=%{lat}\\u003cbr\\u003elongitude=%{lon}\\u003cextra\\u003e\\u003c\\u002fextra\\u003e\",\"hovertext\":[\"Turkey\"],\"lat\":{\"dtype\":\"f8\",\"bdata\":\"flcE\\u002f1t7Q0A=\"},\"legendgroup\":\"Turkey\",\"lon\":{\"dtype\":\"f8\",\"bdata\":\"2zLgLCWfQUA=\"},\"marker\":{\"color\":\"#00cc96\",\"size\":{\"dtype\":\"f8\",\"bdata\":\"AAAAAADAS0A=\"},\"sizemode\":\"area\",\"sizeref\":1.7255102040816326,\"symbol\":\"circle\"},\"mode\":\"markers\",\"name\":\"Turkey\",\"showlegend\":true,\"type\":\"scattergeo\"},{\"geo\":\"geo\",\"hovertemplate\":\"\\u003cb\\u003e%{hovertext}\\u003c\\u002fb\\u003e\\u003cbr\\u003e\\u003cbr\\u003eCountry=Morocco\\u003cbr\\u003eAveragScore=%{marker.size}\\u003cbr\\u003elatitude=%{lat}\\u003cbr\\u003elongitude=%{lon}\\u003cextra\\u003e\\u003c\\u002fextra\\u003e\",\"hovertext\":[\"Morocco\"],\"lat\":{\"dtype\":\"f8\",\"bdata\":\"hC12+6zKP0A=\"},\"legendgroup\":\"Morocco\",\"lon\":{\"dtype\":\"f8\",\"bdata\":\"dNL7xtdeHMA=\"},\"marker\":{\"color\":\"#ab63fa\",\"size\":{\"dtype\":\"f8\",\"bdata\":\"uB6F61GYS0A=\"},\"sizemode\":\"area\",\"sizeref\":1.7255102040816326,\"symbol\":\"circle\"},\"mode\":\"markers\",\"name\":\"Morocco\",\"showlegend\":true,\"type\":\"scattergeo\"},{\"geo\":\"geo\",\"hovertemplate\":\"\\u003cb\\u003e%{hovertext}\\u003c\\u002fb\\u003e\\u003cbr\\u003e\\u003cbr\\u003eCountry=El Salvador\\u003cbr\\u003eAveragScore=%{marker.size}\\u003cbr\\u003elatitude=%{lat}\\u003cbr\\u003elongitude=%{lon}\\u003cextra\\u003e\\u003c\\u002fextra\\u003e\",\"hovertext\":[\"El Salvador\"],\"lat\":{\"dtype\":\"f8\",\"bdata\":\"kfKTap+WK0A=\"},\"legendgroup\":\"El Salvador\",\"lon\":{\"dtype\":\"f8\",\"bdata\":\"gXhdv2A5VsA=\"},\"marker\":{\"color\":\"#FFA15A\",\"size\":{\"dtype\":\"f8\",\"bdata\":\"ZmZmZmaGS0A=\"},\"sizemode\":\"area\",\"sizeref\":1.7255102040816326,\"symbol\":\"circle\"},\"mode\":\"markers\",\"name\":\"El Salvador\",\"showlegend\":true,\"type\":\"scattergeo\"},{\"geo\":\"geo\",\"hovertemplate\":\"\\u003cb\\u003e%{hovertext}\\u003c\\u002fb\\u003e\\u003cbr\\u003e\\u003cbr\\u003eCountry=Ghana\\u003cbr\\u003eAveragScore=%{marker.size}\\u003cbr\\u003elatitude=%{lat}\\u003cbr\\u003elongitude=%{lon}\\u003cextra\\u003e\\u003c\\u002fextra\\u003e\",\"hovertext\":[\"Ghana\"],\"lat\":{\"dtype\":\"f8\",\"bdata\":\"vB+3Xz7JH0A=\"},\"legendgroup\":\"Ghana\",\"lon\":{\"dtype\":\"f8\",\"bdata\":\"L2r3qwBf8L8=\"},\"marker\":{\"color\":\"#19d3f3\",\"size\":{\"dtype\":\"f8\",\"bdata\":\"FK5H4XpUS0A=\"},\"sizemode\":\"area\",\"sizeref\":1.7255102040816326,\"symbol\":\"circle\"},\"mode\":\"markers\",\"name\":\"Ghana\",\"showlegend\":true,\"type\":\"scattergeo\"},{\"geo\":\"geo\",\"hovertemplate\":\"\\u003cb\\u003e%{hovertext}\\u003c\\u002fb\\u003e\\u003cbr\\u003e\\u003cbr\\u003eCountry=Tunisia\\u003cbr\\u003eAveragScore=%{marker.size}\\u003cbr\\u003elatitude=%{lat}\\u003cbr\\u003elongitude=%{lon}\\u003cextra\\u003e\\u003c\\u002fextra\\u003e\",\"hovertext\":[\"Tunisia\"],\"lat\":{\"dtype\":\"f8\",\"bdata\":\"GqIKf4bxQEA=\"},\"legendgroup\":\"Tunisia\",\"lon\":{\"dtype\":\"f8\",\"bdata\":\"8kOlETMTI0A=\"},\"marker\":{\"color\":\"#FF6692\",\"size\":{\"dtype\":\"f8\",\"bdata\":\"exSuR+E6S0A=\"},\"sizemode\":\"area\",\"sizeref\":1.7255102040816326,\"symbol\":\"circle\"},\"mode\":\"markers\",\"name\":\"Tunisia\",\"showlegend\":true,\"type\":\"scattergeo\"},{\"geo\":\"geo\",\"hovertemplate\":\"\\u003cb\\u003e%{hovertext}\\u003c\\u002fb\\u003e\\u003cbr\\u003e\\u003cbr\\u003eCountry=Uzbekistan\\u003cbr\\u003eAveragScore=%{marker.size}\\u003cbr\\u003elatitude=%{lat}\\u003cbr\\u003elongitude=%{lon}\\u003cextra\\u003e\\u003c\\u002fextra\\u003e\",\"hovertext\":[\"Uzbekistan\"],\"lat\":{\"dtype\":\"f8\",\"bdata\":\"ZcQFoFGwREA=\"},\"legendgroup\":\"Uzbekistan\",\"lon\":{\"dtype\":\"f8\",\"bdata\":\"3GW\\u002f7nQlUEA=\"},\"marker\":{\"color\":\"#B6E880\",\"size\":{\"dtype\":\"f8\",\"bdata\":\"ZmZmZmbmSkA=\"},\"sizemode\":\"area\",\"sizeref\":1.7255102040816326,\"symbol\":\"circle\"},\"mode\":\"markers\",\"name\":\"Uzbekistan\",\"showlegend\":true,\"type\":\"scattergeo\"},{\"geo\":\"geo\",\"hovertemplate\":\"\\u003cb\\u003e%{hovertext}\\u003c\\u002fb\\u003e\\u003cbr\\u003e\\u003cbr\\u003eCountry=Guatemala\\u003cbr\\u003eAveragScore=%{marker.size}\\u003cbr\\u003elatitude=%{lat}\\u003cbr\\u003elongitude=%{lon}\\u003cextra\\u003e\\u003c\\u002fextra\\u003e\",\"hovertext\":[\"Guatemala\"],\"lat\":{\"dtype\":\"f8\",\"bdata\":\"lbpkHCORL0A=\"},\"legendgroup\":\"Guatemala\",\"lon\":{\"dtype\":\"f8\",\"bdata\":\"fpBlwcSOVsA=\"},\"marker\":{\"color\":\"#FF97FF\",\"size\":{\"dtype\":\"f8\",\"bdata\":\"PQrXo3DdSkA=\"},\"sizemode\":\"area\",\"sizeref\":1.7255102040816326,\"symbol\":\"circle\"},\"mode\":\"markers\",\"name\":\"Guatemala\",\"showlegend\":true,\"type\":\"scattergeo\"},{\"geo\":\"geo\",\"hovertemplate\":\"\\u003cb\\u003e%{hovertext}\\u003c\\u002fb\\u003e\\u003cbr\\u003e\\u003cbr\\u003eCountry=Senegal\\u003cbr\\u003eAveragScore=%{marker.size}\\u003cbr\\u003elatitude=%{lat}\\u003cbr\\u003elongitude=%{lon}\\u003cextra\\u003e\\u003c\\u002fextra\\u003e\",\"hovertext\":[\"Senegal\"],\"lat\":{\"dtype\":\"f8\",\"bdata\":\"0v4HWKv+LEA=\"},\"legendgroup\":\"Senegal\",\"lon\":{\"dtype\":\"f8\",\"bdata\":\"BOj3\\u002fZvnLMA=\"},\"marker\":{\"color\":\"#FECB52\",\"size\":{\"dtype\":\"f8\",\"bdata\":\"16NwPQrXSkA=\"},\"sizemode\":\"area\",\"sizeref\":1.7255102040816326,\"symbol\":\"circle\"},\"mode\":\"markers\",\"name\":\"Senegal\",\"showlegend\":true,\"type\":\"scattergeo\"},{\"geo\":\"geo\",\"hovertemplate\":\"\\u003cb\\u003e%{hovertext}\\u003c\\u002fb\\u003e\\u003cbr\\u003e\\u003cbr\\u003eCountry=India\\u003cbr\\u003eAveragScore=%{marker.size}\\u003cbr\\u003elatitude=%{lat}\\u003cbr\\u003elongitude=%{lon}\\u003cextra\\u003e\\u003c\\u002fextra\\u003e\",\"hovertext\":[\"India\"],\"lat\":{\"dtype\":\"f8\",\"bdata\":\"kSi0rPuXNEA=\"},\"legendgroup\":\"India\",\"lon\":{\"dtype\":\"f8\",\"bdata\":\"PX5v05+9U0A=\"},\"marker\":{\"color\":\"#636efa\",\"size\":{\"dtype\":\"f8\",\"bdata\":\"FK5H4XrUSkA=\"},\"sizemode\":\"area\",\"sizeref\":1.7255102040816326,\"symbol\":\"circle\"},\"mode\":\"markers\",\"name\":\"India\",\"showlegend\":true,\"type\":\"scattergeo\"},{\"geo\":\"geo\",\"hovertemplate\":\"\\u003cb\\u003e%{hovertext}\\u003c\\u002fb\\u003e\\u003cbr\\u003e\\u003cbr\\u003eCountry=Cuba\\u003cbr\\u003eAveragScore=%{marker.size}\\u003cbr\\u003elatitude=%{lat}\\u003cbr\\u003elongitude=%{lon}\\u003cextra\\u003e\\u003c\\u002fextra\\u003e\",\"hovertext\":[\"Cuba\"],\"lat\":{\"dtype\":\"f8\",\"bdata\":\"hnXj3ZGFNUA=\"},\"legendgroup\":\"Cuba\",\"lon\":{\"dtype\":\"f8\",\"bdata\":\"uW3fo\\u002f5xU8A=\"},\"marker\":{\"color\":\"#EF553B\",\"size\":{\"dtype\":\"f8\",\"bdata\":\"uB6F61G4SkA=\"},\"sizemode\":\"area\",\"sizeref\":1.7255102040816326,\"symbol\":\"circle\"},\"mode\":\"markers\",\"name\":\"Cuba\",\"showlegend\":true,\"type\":\"scattergeo\"},{\"geo\":\"geo\",\"hovertemplate\":\"\\u003cb\\u003e%{hovertext}\\u003c\\u002fb\\u003e\\u003cbr\\u003e\\u003cbr\\u003eCountry=Honduras\\u003cbr\\u003eAveragScore=%{marker.size}\\u003cbr\\u003elatitude=%{lat}\\u003cbr\\u003elongitude=%{lon}\\u003cextra\\u003e\\u003c\\u002fextra\\u003e\",\"hovertext\":[\"Honduras\"],\"lat\":{\"dtype\":\"f8\",\"bdata\":\"JXfYRGZmLkA=\"},\"legendgroup\":\"Honduras\",\"lon\":{\"dtype\":\"f8\",\"bdata\":\"Su8bX3uPVcA=\"},\"marker\":{\"color\":\"#00cc96\",\"size\":{\"dtype\":\"f8\",\"bdata\":\"AAAAAACgSkA=\"},\"sizemode\":\"area\",\"sizeref\":1.7255102040816326,\"symbol\":\"circle\"},\"mode\":\"markers\",\"name\":\"Honduras\",\"showlegend\":true,\"type\":\"scattergeo\"},{\"geo\":\"geo\",\"hovertemplate\":\"\\u003cb\\u003e%{hovertext}\\u003c\\u002fb\\u003e\\u003cbr\\u003e\\u003cbr\\u003eCountry=Bolivia\\u003cbr\\u003eAveragScore=%{marker.size}\\u003cbr\\u003elatitude=%{lat}\\u003cbr\\u003elongitude=%{lon}\\u003cextra\\u003e\\u003c\\u002fextra\\u003e\",\"hovertext\":[\"Bolivia\"],\"lat\":{\"dtype\":\"f8\",\"bdata\":\"uM1UiEdKMMA=\"},\"legendgroup\":\"Bolivia\",\"lon\":{\"dtype\":\"f8\",\"bdata\":\"ndhD+1jLT8A=\"},\"marker\":{\"color\":\"#ab63fa\",\"size\":{\"dtype\":\"f8\",\"bdata\":\"cT0K16OQSkA=\"},\"sizemode\":\"area\",\"sizeref\":1.7255102040816326,\"symbol\":\"circle\"},\"mode\":\"markers\",\"name\":\"Bolivia\",\"showlegend\":true,\"type\":\"scattergeo\"},{\"geo\":\"geo\",\"hovertemplate\":\"\\u003cb\\u003e%{hovertext}\\u003c\\u002fb\\u003e\\u003cbr\\u003e\\u003cbr\\u003eCountry=Turkmenistan\\u003cbr\\u003eAveragScore=%{marker.size}\\u003cbr\\u003elatitude=%{lat}\\u003cbr\\u003elongitude=%{lon}\\u003cextra\\u003e\\u003c\\u002fextra\\u003e\",\"hovertext\":[\"Turkmenistan\"],\"lat\":{\"dtype\":\"f8\",\"bdata\":\"qKePwB98Q0A=\"},\"legendgroup\":\"Turkmenistan\",\"lon\":{\"dtype\":\"f8\",\"bdata\":\"\\u002fb0UHjTHTUA=\"},\"marker\":{\"color\":\"#FFA15A\",\"size\":{\"dtype\":\"f8\",\"bdata\":\"cT0K16MwSkA=\"},\"sizemode\":\"area\",\"sizeref\":1.7255102040816326,\"symbol\":\"circle\"},\"mode\":\"markers\",\"name\":\"Turkmenistan\",\"showlegend\":true,\"type\":\"scattergeo\"},{\"geo\":\"geo\",\"hovertemplate\":\"\\u003cb\\u003e%{hovertext}\\u003c\\u002fb\\u003e\\u003cbr\\u003e\\u003cbr\\u003eCountry=Kenya\\u003cbr\\u003eAveragScore=%{marker.size}\\u003cbr\\u003elatitude=%{lat}\\u003cbr\\u003elongitude=%{lon}\\u003cextra\\u003e\\u003c\\u002fextra\\u003e\",\"hovertext\":[\"Kenya\"],\"lat\":{\"dtype\":\"f8\",\"bdata\":\"YRkbutkfmL8=\"},\"legendgroup\":\"Kenya\",\"lon\":{\"dtype\":\"f8\",\"bdata\":\"nG7ZIf7zQkA=\"},\"marker\":{\"color\":\"#19d3f3\",\"size\":{\"dtype\":\"f8\",\"bdata\":\"AAAAAAAgSkA=\"},\"sizemode\":\"area\",\"sizeref\":1.7255102040816326,\"symbol\":\"circle\"},\"mode\":\"markers\",\"name\":\"Kenya\",\"showlegend\":true,\"type\":\"scattergeo\"},{\"geo\":\"geo\",\"hovertemplate\":\"\\u003cb\\u003e%{hovertext}\\u003c\\u002fb\\u003e\\u003cbr\\u003e\\u003cbr\\u003eCountry=Algeria\\u003cbr\\u003eAveragScore=%{marker.size}\\u003cbr\\u003elatitude=%{lat}\\u003cbr\\u003elongitude=%{lon}\\u003cextra\\u003e\\u003c\\u002fextra\\u003e\",\"hovertext\":[\"Algeria\"],\"lat\":{\"dtype\":\"f8\",\"bdata\":\"0cq9wKwIPEA=\"},\"legendgroup\":\"Algeria\",\"lon\":{\"dtype\":\"f8\",\"bdata\":\"83UZ\\u002ftON+j8=\"},\"marker\":{\"color\":\"#FF6692\",\"size\":{\"dtype\":\"f8\",\"bdata\":\"cT0K16MQSkA=\"},\"sizemode\":\"area\",\"sizeref\":1.7255102040816326,\"symbol\":\"circle\"},\"mode\":\"markers\",\"name\":\"Algeria\",\"showlegend\":true,\"type\":\"scattergeo\"},{\"geo\":\"geo\",\"hovertemplate\":\"\\u003cb\\u003e%{hovertext}\\u003c\\u002fb\\u003e\\u003cbr\\u003e\\u003cbr\\u003eCountry=Nepal\\u003cbr\\u003eAveragScore=%{marker.size}\\u003cbr\\u003elatitude=%{lat}\\u003cbr\\u003elongitude=%{lon}\\u003cextra\\u003e\\u003c\\u002fextra\\u003e\",\"hovertext\":[\"Nepal\"],\"lat\":{\"dtype\":\"f8\",\"bdata\":\"v5gtWRVlPEA=\"},\"legendgroup\":\"Nepal\",\"lon\":{\"dtype\":\"f8\",\"bdata\":\"UBxAv+8HVUA=\"},\"marker\":{\"color\":\"#B6E880\",\"size\":{\"dtype\":\"f8\",\"bdata\":\"KVyPwvXISUA=\"},\"sizemode\":\"area\",\"sizeref\":1.7255102040816326,\"symbol\":\"circle\"},\"mode\":\"markers\",\"name\":\"Nepal\",\"showlegend\":true,\"type\":\"scattergeo\"},{\"geo\":\"geo\",\"hovertemplate\":\"\\u003cb\\u003e%{hovertext}\\u003c\\u002fb\\u003e\\u003cbr\\u003e\\u003cbr\\u003eCountry=Rwanda\\u003cbr\\u003eAveragScore=%{marker.size}\\u003cbr\\u003elatitude=%{lat}\\u003cbr\\u003elongitude=%{lon}\\u003cextra\\u003e\\u003c\\u002fextra\\u003e\",\"hovertext\":[\"Rwanda\"],\"lat\":{\"dtype\":\"f8\",\"bdata\":\"Y1+y8WAL\\u002f78=\"},\"legendgroup\":\"Rwanda\",\"lon\":{\"dtype\":\"f8\",\"bdata\":\"6l28H7ffPUA=\"},\"marker\":{\"color\":\"#FF97FF\",\"size\":{\"dtype\":\"f8\",\"bdata\":\"SOF6FK7HSUA=\"},\"sizemode\":\"area\",\"sizeref\":1.7255102040816326,\"symbol\":\"circle\"},\"mode\":\"markers\",\"name\":\"Rwanda\",\"showlegend\":true,\"type\":\"scattergeo\"},{\"geo\":\"geo\",\"hovertemplate\":\"\\u003cb\\u003e%{hovertext}\\u003c\\u002fb\\u003e\\u003cbr\\u003e\\u003cbr\\u003eCountry=Lebanon\\u003cbr\\u003eAveragScore=%{marker.size}\\u003cbr\\u003elatitude=%{lat}\\u003cbr\\u003elongitude=%{lon}\\u003cextra\\u003e\\u003c\\u002fextra\\u003e\",\"hovertext\":[\"Lebanon\"],\"lat\":{\"dtype\":\"f8\",\"bdata\":\"Khprf2ftQEA=\"},\"legendgroup\":\"Lebanon\",\"lon\":{\"dtype\":\"f8\",\"bdata\":\"amrZWl\\u002fuQUA=\"},\"marker\":{\"color\":\"#FECB52\",\"size\":{\"dtype\":\"f8\",\"bdata\":\"cT0K16OwSUA=\"},\"sizemode\":\"area\",\"sizeref\":1.7255102040816326,\"symbol\":\"circle\"},\"mode\":\"markers\",\"name\":\"Lebanon\",\"showlegend\":true,\"type\":\"scattergeo\"},{\"geo\":\"geo\",\"hovertemplate\":\"\\u003cb\\u003e%{hovertext}\\u003c\\u002fb\\u003e\\u003cbr\\u003e\\u003cbr\\u003eCountry=Tajikistan\\u003cbr\\u003eAveragScore=%{marker.size}\\u003cbr\\u003elatitude=%{lat}\\u003cbr\\u003elongitude=%{lon}\\u003cextra\\u003e\\u003c\\u002fextra\\u003e\",\"hovertext\":[\"Tajikistan\"],\"lat\":{\"dtype\":\"f8\",\"bdata\":\"PV+zXDZuQ0A=\"},\"legendgroup\":\"Tajikistan\",\"lon\":{\"dtype\":\"f8\",\"bdata\":\"5Gn5gavRUUA=\"},\"marker\":{\"color\":\"#636efa\",\"size\":{\"dtype\":\"f8\",\"bdata\":\"mpmZmZmZSUA=\"},\"sizemode\":\"area\",\"sizeref\":1.7255102040816326,\"symbol\":\"circle\"},\"mode\":\"markers\",\"name\":\"Tajikistan\",\"showlegend\":true,\"type\":\"scattergeo\"},{\"geo\":\"geo\",\"hovertemplate\":\"\\u003cb\\u003e%{hovertext}\\u003c\\u002fb\\u003e\\u003cbr\\u003e\\u003cbr\\u003eCountry=Nicaragua\\u003cbr\\u003eAveragScore=%{marker.size}\\u003cbr\\u003elatitude=%{lat}\\u003cbr\\u003elongitude=%{lon}\\u003cextra\\u003e\\u003c\\u002fextra\\u003e\",\"hovertext\":[\"Nicaragua\"],\"lat\":{\"dtype\":\"f8\",\"bdata\":\"yt5Szhe7KUA=\"},\"legendgroup\":\"Nicaragua\",\"lon\":{\"dtype\":\"f8\",\"bdata\":\"GXJsPUNNVcA=\"},\"marker\":{\"color\":\"#EF553B\",\"size\":{\"dtype\":\"f8\",\"bdata\":\"XI\\u002fC9SgcSUA=\"},\"sizemode\":\"area\",\"sizeref\":1.7255102040816326,\"symbol\":\"circle\"},\"mode\":\"markers\",\"name\":\"Nicaragua\",\"showlegend\":true,\"type\":\"scattergeo\"},{\"geo\":\"geo\",\"hovertemplate\":\"\\u003cb\\u003e%{hovertext}\\u003c\\u002fb\\u003e\\u003cbr\\u003e\\u003cbr\\u003eCountry=Laos\\u003cbr\\u003eAveragScore=%{marker.size}\\u003cbr\\u003elatitude=%{lat}\\u003cbr\\u003elongitude=%{lon}\\u003cextra\\u003e\\u003c\\u002fextra\\u003e\",\"hovertext\":[\"Laos\"],\"lat\":{\"dtype\":\"f8\",\"bdata\":\"wYu+gjTbM0A=\"},\"legendgroup\":\"Laos\",\"lon\":{\"dtype\":\"f8\",\"bdata\":\"INPaNLafWUA=\"},\"marker\":{\"color\":\"#00cc96\",\"size\":{\"dtype\":\"f8\",\"bdata\":\"16NwPQoXSUA=\"},\"sizemode\":\"area\",\"sizeref\":1.7255102040816326,\"symbol\":\"circle\"},\"mode\":\"markers\",\"name\":\"Laos\",\"showlegend\":true,\"type\":\"scattergeo\"},{\"geo\":\"geo\",\"hovertemplate\":\"\\u003cb\\u003e%{hovertext}\\u003c\\u002fb\\u003e\\u003cbr\\u003e\\u003cbr\\u003eCountry=Gambia\\u003cbr\\u003eAveragScore=%{marker.size}\\u003cbr\\u003elatitude=%{lat}\\u003cbr\\u003elongitude=%{lon}\\u003cextra\\u003e\\u003c\\u002fextra\\u003e\",\"hovertext\":[\"Gambia\"],\"lat\":{\"dtype\":\"f8\",\"bdata\":\"DFpIwOjiKkA=\"},\"legendgroup\":\"Gambia\",\"lon\":{\"dtype\":\"f8\",\"bdata\":\"pG38icqeLsA=\"},\"marker\":{\"color\":\"#ab63fa\",\"size\":{\"dtype\":\"f8\",\"bdata\":\"zczMzMwMSUA=\"},\"sizemode\":\"area\",\"sizeref\":1.7255102040816326,\"symbol\":\"circle\"},\"mode\":\"markers\",\"name\":\"Gambia\",\"showlegend\":true,\"type\":\"scattergeo\"},{\"geo\":\"geo\",\"hovertemplate\":\"\\u003cb\\u003e%{hovertext}\\u003c\\u002fb\\u003e\\u003cbr\\u003e\\u003cbr\\u003eCountry=Tanzania\\u003cbr\\u003eAveragScore=%{marker.size}\\u003cbr\\u003elatitude=%{lat}\\u003cbr\\u003elongitude=%{lon}\\u003cextra\\u003e\\u003c\\u002fextra\\u003e\",\"hovertext\":[\"Tanzania\"],\"lat\":{\"dtype\":\"f8\",\"bdata\":\"sDvdeeJ5GcA=\"},\"legendgroup\":\"Tanzania\",\"lon\":{\"dtype\":\"f8\",\"bdata\":\"j\\u002ftW68RxQUA=\"},\"marker\":{\"color\":\"#FFA15A\",\"size\":{\"dtype\":\"f8\",\"bdata\":\"mpmZmZmZSEA=\"},\"sizemode\":\"area\",\"sizeref\":1.7255102040816326,\"symbol\":\"circle\"},\"mode\":\"markers\",\"name\":\"Tanzania\",\"showlegend\":true,\"type\":\"scattergeo\"},{\"geo\":\"geo\",\"hovertemplate\":\"\\u003cb\\u003e%{hovertext}\\u003c\\u002fb\\u003e\\u003cbr\\u003e\\u003cbr\\u003eCountry=Cambodia\\u003cbr\\u003eAveragScore=%{marker.size}\\u003cbr\\u003elatitude=%{lat}\\u003cbr\\u003elongitude=%{lon}\\u003cextra\\u003e\\u003c\\u002fextra\\u003e\",\"hovertext\":[\"Cambodia\"],\"lat\":{\"dtype\":\"f8\",\"bdata\":\"ZhGKraAhKUA=\"},\"legendgroup\":\"Cambodia\",\"lon\":{\"dtype\":\"f8\",\"bdata\":\"8iIT8Gs\\u002fWkA=\"},\"marker\":{\"color\":\"#19d3f3\",\"size\":{\"dtype\":\"f8\",\"bdata\":\"uB6F61GYSEA=\"},\"sizemode\":\"area\",\"sizeref\":1.7255102040816326,\"symbol\":\"circle\"},\"mode\":\"markers\",\"name\":\"Cambodia\",\"showlegend\":true,\"type\":\"scattergeo\"},{\"geo\":\"geo\",\"hovertemplate\":\"\\u003cb\\u003e%{hovertext}\\u003c\\u002fb\\u003e\\u003cbr\\u003e\\u003cbr\\u003eCountry=Gabon\\u003cbr\\u003eAveragScore=%{marker.size}\\u003cbr\\u003elatitude=%{lat}\\u003cbr\\u003elongitude=%{lon}\\u003cextra\\u003e\\u003c\\u002fextra\\u003e\",\"hovertext\":[\"Gabon\"],\"lat\":{\"dtype\":\"f8\",\"bdata\":\"TfVk\\u002ftG36b8=\"},\"legendgroup\":\"Gabon\",\"lon\":{\"dtype\":\"f8\",\"bdata\":\"onxBCwk4J0A=\"},\"marker\":{\"color\":\"#FF6692\",\"size\":{\"dtype\":\"f8\",\"bdata\":\"7FG4HoVrSEA=\"},\"sizemode\":\"area\",\"sizeref\":1.7255102040816326,\"symbol\":\"circle\"},\"mode\":\"markers\",\"name\":\"Gabon\",\"showlegend\":true,\"type\":\"scattergeo\"},{\"geo\":\"geo\",\"hovertemplate\":\"\\u003cb\\u003e%{hovertext}\\u003c\\u002fb\\u003e\\u003cbr\\u003e\\u003cbr\\u003eCountry=C\\u00f4te d'Ivoire\\u003cbr\\u003eAveragScore=%{marker.size}\\u003cbr\\u003elatitude=%{lat}\\u003cbr\\u003elongitude=%{lon}\\u003cextra\\u003e\\u003c\\u002fextra\\u003e\",\"hovertext\":[\"C\\u00f4te d'Ivoire\"],\"lat\":{\"dtype\":\"f8\",\"bdata\":\"isxc4PIoHkA=\"},\"legendgroup\":\"C\\u00f4te d'Ivoire\",\"lon\":{\"dtype\":\"f8\",\"bdata\":\"xy5RvTUwFsA=\"},\"marker\":{\"color\":\"#B6E880\",\"size\":{\"dtype\":\"f8\",\"bdata\":\"7FG4HoVLSEA=\"},\"sizemode\":\"area\",\"sizeref\":1.7255102040816326,\"symbol\":\"circle\"},\"mode\":\"markers\",\"name\":\"C\\u00f4te d'Ivoire\",\"showlegend\":true,\"type\":\"scattergeo\"},{\"geo\":\"geo\",\"hovertemplate\":\"\\u003cb\\u003e%{hovertext}\\u003c\\u002fb\\u003e\\u003cbr\\u003e\\u003cbr\\u003eCountry=Egypt\\u003cbr\\u003eAveragScore=%{marker.size}\\u003cbr\\u003elatitude=%{lat}\\u003cbr\\u003elongitude=%{lon}\\u003cextra\\u003e\\u003c\\u002fextra\\u003e\",\"hovertext\":[\"Egypt\"],\"lat\":{\"dtype\":\"f8\",\"bdata\":\"e6Lrwg\\u002fSOkA=\"},\"legendgroup\":\"Egypt\",\"lon\":{\"dtype\":\"f8\",\"bdata\":\"\\u002fBpJgnDNPkA=\"},\"marker\":{\"color\":\"#FF97FF\",\"size\":{\"dtype\":\"f8\",\"bdata\":\"KVyPwvVISEA=\"},\"sizemode\":\"area\",\"sizeref\":1.7255102040816326,\"symbol\":\"circle\"},\"mode\":\"markers\",\"name\":\"Egypt\",\"showlegend\":true,\"type\":\"scattergeo\"},{\"geo\":\"geo\",\"hovertemplate\":\"\\u003cb\\u003e%{hovertext}\\u003c\\u002fb\\u003e\\u003cbr\\u003e\\u003cbr\\u003eCountry=Djibouti\\u003cbr\\u003eAveragScore=%{marker.size}\\u003cbr\\u003elatitude=%{lat}\\u003cbr\\u003elongitude=%{lon}\\u003cextra\\u003e\\u003c\\u002fextra\\u003e\",\"hovertext\":[\"Djibouti\"],\"lat\":{\"dtype\":\"f8\",\"bdata\":\"q1\\u002fpfHimJ0A=\"},\"legendgroup\":\"Djibouti\",\"lon\":{\"dtype\":\"f8\",\"bdata\":\"vVKWIY5LRUA=\"},\"marker\":{\"color\":\"#FECB52\",\"size\":{\"dtype\":\"f8\",\"bdata\":\"XI\\u002fC9Sg8SEA=\"},\"sizemode\":\"area\",\"sizeref\":1.7255102040816326,\"symbol\":\"circle\"},\"mode\":\"markers\",\"name\":\"Djibouti\",\"showlegend\":true,\"type\":\"scattergeo\"},{\"geo\":\"geo\",\"hovertemplate\":\"\\u003cb\\u003e%{hovertext}\\u003c\\u002fb\\u003e\\u003cbr\\u003e\\u003cbr\\u003eCountry=Benin\\u003cbr\\u003eAveragScore=%{marker.size}\\u003cbr\\u003elatitude=%{lat}\\u003cbr\\u003elongitude=%{lon}\\u003cextra\\u003e\\u003c\\u002fextra\\u003e\",\"hovertext\":[\"Benin\"],\"lat\":{\"dtype\":\"f8\",\"bdata\":\"y5wui4mdIkA=\"},\"legendgroup\":\"Benin\",\"lon\":{\"dtype\":\"f8\",\"bdata\":\"C7jn+dOGAkA=\"},\"marker\":{\"color\":\"#636efa\",\"size\":{\"dtype\":\"f8\",\"bdata\":\"XI\\u002fC9SgcSEA=\"},\"sizemode\":\"area\",\"sizeref\":1.7255102040816326,\"symbol\":\"circle\"},\"mode\":\"markers\",\"name\":\"Benin\",\"showlegend\":true,\"type\":\"scattergeo\"},{\"geo\":\"geo\",\"hovertemplate\":\"\\u003cb\\u003e%{hovertext}\\u003c\\u002fb\\u003e\\u003cbr\\u003e\\u003cbr\\u003eCountry=Bangladesh\\u003cbr\\u003eAveragScore=%{marker.size}\\u003cbr\\u003elatitude=%{lat}\\u003cbr\\u003elongitude=%{lon}\\u003cextra\\u003e\\u003c\\u002fextra\\u003e\",\"hovertext\":[\"Bangladesh\"],\"lat\":{\"dtype\":\"f8\",\"bdata\":\"y\\u002fRLxFuvN0A=\"},\"legendgroup\":\"Bangladesh\",\"lon\":{\"dtype\":\"f8\",\"bdata\":\"Q+OJIM6WVkA=\"},\"marker\":{\"color\":\"#EF553B\",\"size\":{\"dtype\":\"f8\",\"bdata\":\"j8L1KFzvR0A=\"},\"sizemode\":\"area\",\"sizeref\":1.7255102040816326,\"symbol\":\"circle\"},\"mode\":\"markers\",\"name\":\"Bangladesh\",\"showlegend\":true,\"type\":\"scattergeo\"},{\"geo\":\"geo\",\"hovertemplate\":\"\\u003cb\\u003e%{hovertext}\\u003c\\u002fb\\u003e\\u003cbr\\u003e\\u003cbr\\u003eCountry=Malawi\\u003cbr\\u003eAveragScore=%{marker.size}\\u003cbr\\u003elatitude=%{lat}\\u003cbr\\u003elongitude=%{lon}\\u003cextra\\u003e\\u003c\\u002fextra\\u003e\",\"hovertext\":[\"Malawi\"],\"lat\":{\"dtype\":\"f8\",\"bdata\":\"6zh+qDSCKsA=\"},\"legendgroup\":\"Malawi\",\"lon\":{\"dtype\":\"f8\",\"bdata\":\"lPYGX5gmQUA=\"},\"marker\":{\"color\":\"#00cc96\",\"size\":{\"dtype\":\"f8\",\"bdata\":\"CtejcD3qR0A=\"},\"sizemode\":\"area\",\"sizeref\":1.7255102040816326,\"symbol\":\"circle\"},\"mode\":\"markers\",\"name\":\"Malawi\",\"showlegend\":true,\"type\":\"scattergeo\"},{\"geo\":\"geo\",\"hovertemplate\":\"\\u003cb\\u003e%{hovertext}\\u003c\\u002fb\\u003e\\u003cbr\\u003e\\u003cbr\\u003eCountry=Iran\\u003cbr\\u003eAveragScore=%{marker.size}\\u003cbr\\u003elatitude=%{lat}\\u003cbr\\u003elongitude=%{lon}\\u003cextra\\u003e\\u003c\\u002fextra\\u003e\",\"hovertext\":[\"Iran\"],\"lat\":{\"dtype\":\"f8\",\"bdata\":\"MNl4sMU2QEA=\"},\"legendgroup\":\"Iran\",\"lon\":{\"dtype\":\"f8\",\"bdata\":\"YhIu5BHYSkA=\"},\"marker\":{\"color\":\"#ab63fa\",\"size\":{\"dtype\":\"f8\",\"bdata\":\"exSuR+HaR0A=\"},\"sizemode\":\"area\",\"sizeref\":1.7255102040816326,\"symbol\":\"circle\"},\"mode\":\"markers\",\"name\":\"Iran\",\"showlegend\":true,\"type\":\"scattergeo\"},{\"geo\":\"geo\",\"hovertemplate\":\"\\u003cb\\u003e%{hovertext}\\u003c\\u002fb\\u003e\\u003cbr\\u003e\\u003cbr\\u003eCountry=Zambia\\u003cbr\\u003eAveragScore=%{marker.size}\\u003cbr\\u003elatitude=%{lat}\\u003cbr\\u003elongitude=%{lon}\\u003cextra\\u003e\\u003c\\u002fextra\\u003e\",\"hovertext\":[\"Zambia\"],\"lat\":{\"dtype\":\"f8\",\"bdata\":\"pRDIJY5EKsA=\"},\"legendgroup\":\"Zambia\",\"lon\":{\"dtype\":\"f8\",\"bdata\":\"P3Jr0m3ZO0A=\"},\"marker\":{\"color\":\"#FFA15A\",\"size\":{\"dtype\":\"f8\",\"bdata\":\"UrgeheuRR0A=\"},\"sizemode\":\"area\",\"sizeref\":1.7255102040816326,\"symbol\":\"circle\"},\"mode\":\"markers\",\"name\":\"Zambia\",\"showlegend\":true,\"type\":\"scattergeo\"},{\"geo\":\"geo\",\"hovertemplate\":\"\\u003cb\\u003e%{hovertext}\\u003c\\u002fb\\u003e\\u003cbr\\u003e\\u003cbr\\u003eCountry=Comoros\\u003cbr\\u003eAveragScore=%{marker.size}\\u003cbr\\u003elatitude=%{lat}\\u003cbr\\u003elongitude=%{lon}\\u003cextra\\u003e\\u003c\\u002fextra\\u003e\",\"hovertext\":[\"Comoros\"],\"lat\":{\"dtype\":\"f8\",\"bdata\":\"Qe+NIQDAJ8A=\"},\"legendgroup\":\"Comoros\",\"lon\":{\"dtype\":\"f8\",\"bdata\":\"lPlH36TvRUA=\"},\"marker\":{\"color\":\"#19d3f3\",\"size\":{\"dtype\":\"f8\",\"bdata\":\"16NwPQp3R0A=\"},\"sizemode\":\"area\",\"sizeref\":1.7255102040816326,\"symbol\":\"circle\"},\"mode\":\"markers\",\"name\":\"Comoros\",\"showlegend\":true,\"type\":\"scattergeo\"},{\"geo\":\"geo\",\"hovertemplate\":\"\\u003cb\\u003e%{hovertext}\\u003c\\u002fb\\u003e\\u003cbr\\u003e\\u003cbr\\u003eCountry=Uganda\\u003cbr\\u003eAveragScore=%{marker.size}\\u003cbr\\u003elatitude=%{lat}\\u003cbr\\u003elongitude=%{lon}\\u003cextra\\u003e\\u003c\\u002fextra\\u003e\",\"hovertext\":[\"Uganda\"],\"lat\":{\"dtype\":\"f8\",\"bdata\":\"9UcYBiz59T8=\"},\"legendgroup\":\"Uganda\",\"lon\":{\"dtype\":\"f8\",\"bdata\":\"V+wvuyclQEA=\"},\"marker\":{\"color\":\"#FF6692\",\"size\":{\"dtype\":\"f8\",\"bdata\":\"CtejcD1qR0A=\"},\"sizemode\":\"area\",\"sizeref\":1.7255102040816326,\"symbol\":\"circle\"},\"mode\":\"markers\",\"name\":\"Uganda\",\"showlegend\":true,\"type\":\"scattergeo\"},{\"geo\":\"geo\",\"hovertemplate\":\"\\u003cb\\u003e%{hovertext}\\u003c\\u002fb\\u003e\\u003cbr\\u003e\\u003cbr\\u003eCountry=Papua New Guinea\\u003cbr\\u003eAveragScore=%{marker.size}\\u003cbr\\u003elatitude=%{lat}\\u003cbr\\u003elongitude=%{lon}\\u003cextra\\u003e\\u003c\\u002fextra\\u003e\",\"hovertext\":[\"Papua New Guinea\"],\"lat\":{\"dtype\":\"f8\",\"bdata\":\"L+Blho1CGcA=\"},\"legendgroup\":\"Papua New Guinea\",\"lon\":{\"dtype\":\"f8\",\"bdata\":\"K\\u002faX3ZP+YUA=\"},\"marker\":{\"color\":\"#B6E880\",\"size\":{\"dtype\":\"f8\",\"bdata\":\"UrgehetRR0A=\"},\"sizemode\":\"area\",\"sizeref\":1.7255102040816326,\"symbol\":\"circle\"},\"mode\":\"markers\",\"name\":\"Papua New Guinea\",\"showlegend\":true,\"type\":\"scattergeo\"},{\"geo\":\"geo\",\"hovertemplate\":\"\\u003cb\\u003e%{hovertext}\\u003c\\u002fb\\u003e\\u003cbr\\u003e\\u003cbr\\u003eCountry=Equatorial Guinea\\u003cbr\\u003eAveragScore=%{marker.size}\\u003cbr\\u003elatitude=%{lat}\\u003cbr\\u003elongitude=%{lon}\\u003cextra\\u003e\\u003c\\u002fextra\\u003e\",\"hovertext\":[\"Equatorial Guinea\"],\"lat\":{\"dtype\":\"f8\",\"bdata\":\"+kMzT65p+j8=\"},\"legendgroup\":\"Equatorial Guinea\",\"lon\":{\"dtype\":\"f8\",\"bdata\":\"GoaPiCmJJEA=\"},\"marker\":{\"color\":\"#FF97FF\",\"size\":{\"dtype\":\"f8\",\"bdata\":\"7FG4HoVLR0A=\"},\"sizemode\":\"area\",\"sizeref\":1.7255102040816326,\"symbol\":\"circle\"},\"mode\":\"markers\",\"name\":\"Equatorial Guinea\",\"showlegend\":true,\"type\":\"scattergeo\"},{\"geo\":\"geo\",\"hovertemplate\":\"\\u003cb\\u003e%{hovertext}\\u003c\\u002fb\\u003e\\u003cbr\\u003e\\u003cbr\\u003eCountry=Lesotho\\u003cbr\\u003eAveragScore=%{marker.size}\\u003cbr\\u003elatitude=%{lat}\\u003cbr\\u003elongitude=%{lon}\\u003cextra\\u003e\\u003c\\u002fextra\\u003e\",\"hovertext\":[\"Lesotho\"],\"lat\":{\"dtype\":\"f8\",\"bdata\":\"1PNuLCicPcA=\"},\"legendgroup\":\"Lesotho\",\"lon\":{\"dtype\":\"f8\",\"bdata\":\"fxXgu807PEA=\"},\"marker\":{\"color\":\"#FECB52\",\"size\":{\"dtype\":\"f8\",\"bdata\":\"j8L1KFzPRkA=\"},\"sizemode\":\"area\",\"sizeref\":1.7255102040816326,\"symbol\":\"circle\"},\"mode\":\"markers\",\"name\":\"Lesotho\",\"showlegend\":true,\"type\":\"scattergeo\"},{\"geo\":\"geo\",\"hovertemplate\":\"\\u003cb\\u003e%{hovertext}\\u003c\\u002fb\\u003e\\u003cbr\\u003e\\u003cbr\\u003eCountry=Togo\\u003cbr\\u003eAveragScore=%{marker.size}\\u003cbr\\u003elatitude=%{lat}\\u003cbr\\u003elongitude=%{lon}\\u003cextra\\u003e\\u003c\\u002fextra\\u003e\",\"hovertext\":[\"Togo\"],\"lat\":{\"dtype\":\"f8\",\"bdata\":\"dO52vTQ9IUA=\"},\"legendgroup\":\"Togo\",\"lon\":{\"dtype\":\"f8\",\"bdata\":\"CYuKOJ1k6j8=\"},\"marker\":{\"color\":\"#636efa\",\"size\":{\"dtype\":\"f8\",\"bdata\":\"w\\u002fUoXI\\u002fCRkA=\"},\"sizemode\":\"area\",\"sizeref\":1.7255102040816326,\"symbol\":\"circle\"},\"mode\":\"markers\",\"name\":\"Togo\",\"showlegend\":true,\"type\":\"scattergeo\"},{\"geo\":\"geo\",\"hovertemplate\":\"\\u003cb\\u003e%{hovertext}\\u003c\\u002fb\\u003e\\u003cbr\\u003e\\u003cbr\\u003eCountry=Swaziland\\u003cbr\\u003eAveragScore=%{marker.size}\\u003cbr\\u003elatitude=%{lat}\\u003cbr\\u003elongitude=%{lon}\\u003cextra\\u003e\\u003c\\u002fextra\\u003e\",\"hovertext\":[\"Swaziland\"],\"lat\":{\"dtype\":\"f8\",\"bdata\":\"2A+xwcKFOsA=\"},\"legendgroup\":\"Swaziland\",\"lon\":{\"dtype\":\"f8\",\"bdata\":\"flGC\\u002fkJ3P0A=\"},\"marker\":{\"color\":\"#EF553B\",\"size\":{\"dtype\":\"f8\",\"bdata\":\"rkfhehSuRkA=\"},\"sizemode\":\"area\",\"sizeref\":1.7255102040816326,\"symbol\":\"circle\"},\"mode\":\"markers\",\"name\":\"Swaziland\",\"showlegend\":true,\"type\":\"scattergeo\"},{\"geo\":\"geo\",\"hovertemplate\":\"\\u003cb\\u003e%{hovertext}\\u003c\\u002fb\\u003e\\u003cbr\\u003e\\u003cbr\\u003eCountry=Burkina Faso\\u003cbr\\u003eAveragScore=%{marker.size}\\u003cbr\\u003elatitude=%{lat}\\u003cbr\\u003elongitude=%{lon}\\u003cextra\\u003e\\u003c\\u002fextra\\u003e\",\"hovertext\":[\"Burkina Faso\"],\"lat\":{\"dtype\":\"f8\",\"bdata\":\"eh1xyAZ6KEA=\"},\"legendgroup\":\"Burkina Faso\",\"lon\":{\"dtype\":\"f8\",\"bdata\":\"t5kK8Uj8+L8=\"},\"marker\":{\"color\":\"#00cc96\",\"size\":{\"dtype\":\"f8\",\"bdata\":\"j8L1KFyPRkA=\"},\"sizemode\":\"area\",\"sizeref\":1.7255102040816326,\"symbol\":\"circle\"},\"mode\":\"markers\",\"name\":\"Burkina Faso\",\"showlegend\":true,\"type\":\"scattergeo\"},{\"geo\":\"geo\",\"hovertemplate\":\"\\u003cb\\u003e%{hovertext}\\u003c\\u002fb\\u003e\\u003cbr\\u003e\\u003cbr\\u003eCountry=Pakistan\\u003cbr\\u003eAveragScore=%{marker.size}\\u003cbr\\u003elatitude=%{lat}\\u003cbr\\u003elongitude=%{lon}\\u003cextra\\u003e\\u003c\\u002fextra\\u003e\",\"hovertext\":[\"Pakistan\"],\"lat\":{\"dtype\":\"f8\",\"bdata\":\"hIB8CRVgPkA=\"},\"legendgroup\":\"Pakistan\",\"lon\":{\"dtype\":\"f8\",\"bdata\":\"41RrYRZWUUA=\"},\"marker\":{\"color\":\"#ab63fa\",\"size\":{\"dtype\":\"f8\",\"bdata\":\"zczMzMyMRkA=\"},\"sizemode\":\"area\",\"sizeref\":1.7255102040816326,\"symbol\":\"circle\"},\"mode\":\"markers\",\"name\":\"Pakistan\",\"showlegend\":true,\"type\":\"scattergeo\"},{\"geo\":\"geo\",\"hovertemplate\":\"\\u003cb\\u003e%{hovertext}\\u003c\\u002fb\\u003e\\u003cbr\\u003e\\u003cbr\\u003eCountry=Madagascar\\u003cbr\\u003eAveragScore=%{marker.size}\\u003cbr\\u003elatitude=%{lat}\\u003cbr\\u003elongitude=%{lon}\\u003cextra\\u003e\\u003c\\u002fextra\\u003e\",\"hovertext\":[\"Madagascar\"],\"lat\":{\"dtype\":\"f8\",\"bdata\":\"68N6o1bEMsA=\"},\"legendgroup\":\"Madagascar\",\"lon\":{\"dtype\":\"f8\",\"bdata\":\"wtzu5T5vR0A=\"},\"marker\":{\"color\":\"#FFA15A\",\"size\":{\"dtype\":\"f8\",\"bdata\":\"uB6F61F4RkA=\"},\"sizemode\":\"area\",\"sizeref\":1.7255102040816326,\"symbol\":\"circle\"},\"mode\":\"markers\",\"name\":\"Madagascar\",\"showlegend\":true,\"type\":\"scattergeo\"},{\"geo\":\"geo\",\"hovertemplate\":\"\\u003cb\\u003e%{hovertext}\\u003c\\u002fb\\u003e\\u003cbr\\u003e\\u003cbr\\u003eCountry=Liberia\\u003cbr\\u003eAveragScore=%{marker.size}\\u003cbr\\u003elatitude=%{lat}\\u003cbr\\u003elongitude=%{lon}\\u003cextra\\u003e\\u003c\\u002fextra\\u003e\",\"hovertext\":[\"Liberia\"],\"lat\":{\"dtype\":\"f8\",\"bdata\":\"n47HDFS2GUA=\"},\"legendgroup\":\"Liberia\",\"lon\":{\"dtype\":\"f8\",\"bdata\":\"VFT9SufbIsA=\"},\"marker\":{\"color\":\"#19d3f3\",\"size\":{\"dtype\":\"f8\",\"bdata\":\"hetRuB5lRkA=\"},\"sizemode\":\"area\",\"sizeref\":1.7255102040816326,\"symbol\":\"circle\"},\"mode\":\"markers\",\"name\":\"Liberia\",\"showlegend\":true,\"type\":\"scattergeo\"},{\"geo\":\"geo\",\"hovertemplate\":\"\\u003cb\\u003e%{hovertext}\\u003c\\u002fb\\u003e\\u003cbr\\u003e\\u003cbr\\u003eCountry=Zimbabwe\\u003cbr\\u003eAveragScore=%{marker.size}\\u003cbr\\u003elatitude=%{lat}\\u003cbr\\u003elongitude=%{lon}\\u003cextra\\u003e\\u003c\\u002fextra\\u003e\",\"hovertext\":[\"Zimbabwe\"],\"lat\":{\"dtype\":\"f8\",\"bdata\":\"mx2pvvMDM8A=\"},\"legendgroup\":\"Zimbabwe\",\"lon\":{\"dtype\":\"f8\",\"bdata\":\"go5WtaQnPUA=\"},\"marker\":{\"color\":\"#FF6692\",\"size\":{\"dtype\":\"f8\",\"bdata\":\"9ihcj8JVRkA=\"},\"sizemode\":\"area\",\"sizeref\":1.7255102040816326,\"symbol\":\"circle\"},\"mode\":\"markers\",\"name\":\"Zimbabwe\",\"showlegend\":true,\"type\":\"scattergeo\"},{\"geo\":\"geo\",\"hovertemplate\":\"\\u003cb\\u003e%{hovertext}\\u003c\\u002fb\\u003e\\u003cbr\\u003e\\u003cbr\\u003eCountry=Iraq\\u003cbr\\u003eAveragScore=%{marker.size}\\u003cbr\\u003elatitude=%{lat}\\u003cbr\\u003elongitude=%{lon}\\u003cextra\\u003e\\u003c\\u002fextra\\u003e\",\"hovertext\":[\"Iraq\"],\"lat\":{\"dtype\":\"f8\",\"bdata\":\"euHOhZGcQEA=\"},\"legendgroup\":\"Iraq\",\"lon\":{\"dtype\":\"f8\",\"bdata\":\"y7vqAfPWRUA=\"},\"marker\":{\"color\":\"#B6E880\",\"size\":{\"dtype\":\"f8\",\"bdata\":\"FK5H4XpURkA=\"},\"sizemode\":\"area\",\"sizeref\":1.7255102040816326,\"symbol\":\"circle\"},\"mode\":\"markers\",\"name\":\"Iraq\",\"showlegend\":true,\"type\":\"scattergeo\"},{\"geo\":\"geo\",\"hovertemplate\":\"\\u003cb\\u003e%{hovertext}\\u003c\\u002fb\\u003e\\u003cbr\\u003e\\u003cbr\\u003eCountry=Guinea\\u003cbr\\u003eAveragScore=%{marker.size}\\u003cbr\\u003elatitude=%{lat}\\u003cbr\\u003elongitude=%{lon}\\u003cextra\\u003e\\u003c\\u002fextra\\u003e\",\"hovertext\":[\"Guinea\"],\"lat\":{\"dtype\":\"f8\",\"bdata\":\"pgux+iPkI0A=\"},\"legendgroup\":\"Guinea\",\"lon\":{\"dtype\":\"f8\",\"bdata\":\"BthHp65kI8A=\"},\"marker\":{\"color\":\"#FF97FF\",\"size\":{\"dtype\":\"f8\",\"bdata\":\"XI\\u002fC9Sg8RkA=\"},\"sizemode\":\"area\",\"sizeref\":1.7255102040816326,\"symbol\":\"circle\"},\"mode\":\"markers\",\"name\":\"Guinea\",\"showlegend\":true,\"type\":\"scattergeo\"},{\"geo\":\"geo\",\"hovertemplate\":\"\\u003cb\\u003e%{hovertext}\\u003c\\u002fb\\u003e\\u003cbr\\u003e\\u003cbr\\u003eCountry=Nigeria\\u003cbr\\u003eAveragScore=%{marker.size}\\u003cbr\\u003elatitude=%{lat}\\u003cbr\\u003elongitude=%{lon}\\u003cextra\\u003e\\u003c\\u002fextra\\u003e\",\"hovertext\":[\"Nigeria\"],\"lat\":{\"dtype\":\"f8\",\"bdata\":\"ApzexfspIkA=\"},\"legendgroup\":\"Nigeria\",\"lon\":{\"dtype\":\"f8\",\"bdata\":\"Y3st6L1ZIUA=\"},\"marker\":{\"color\":\"#FECB52\",\"size\":{\"dtype\":\"f8\",\"bdata\":\"AAAAAAAARkA=\"},\"sizemode\":\"area\",\"sizeref\":1.7255102040816326,\"symbol\":\"circle\"},\"mode\":\"markers\",\"name\":\"Nigeria\",\"showlegend\":true,\"type\":\"scattergeo\"},{\"geo\":\"geo\",\"hovertemplate\":\"\\u003cb\\u003e%{hovertext}\\u003c\\u002fb\\u003e\\u003cbr\\u003e\\u003cbr\\u003eCountry=Sierra Leone\\u003cbr\\u003eAveragScore=%{marker.size}\\u003cbr\\u003elatitude=%{lat}\\u003cbr\\u003elongitude=%{lon}\\u003cextra\\u003e\\u003c\\u002fextra\\u003e\",\"hovertext\":[\"Sierra Leone\"],\"lat\":{\"dtype\":\"f8\",\"bdata\":\"wARu3c3rIEA=\"},\"legendgroup\":\"Sierra Leone\",\"lon\":{\"dtype\":\"f8\",\"bdata\":\"MgVrnE2PJ8A=\"},\"marker\":{\"color\":\"#636efa\",\"size\":{\"dtype\":\"f8\",\"bdata\":\"j8L1KFzPRUA=\"},\"sizemode\":\"area\",\"sizeref\":1.7255102040816326,\"symbol\":\"circle\"},\"mode\":\"markers\",\"name\":\"Sierra Leone\",\"showlegend\":true,\"type\":\"scattergeo\"},{\"geo\":\"geo\",\"hovertemplate\":\"\\u003cb\\u003e%{hovertext}\\u003c\\u002fb\\u003e\\u003cbr\\u003e\\u003cbr\\u003eCountry=Venezuela\\u003cbr\\u003eAveragScore=%{marker.size}\\u003cbr\\u003elatitude=%{lat}\\u003cbr\\u003elongitude=%{lon}\\u003cextra\\u003e\\u003c\\u002fextra\\u003e\",\"hovertext\":[\"Venezuela\"],\"lat\":{\"dtype\":\"f8\",\"bdata\":\"UrgeheuxGUA=\"},\"legendgroup\":\"Venezuela\",\"lon\":{\"dtype\":\"f8\",\"bdata\":\"Ft7lIr6lUMA=\"},\"marker\":{\"color\":\"#EF553B\",\"size\":{\"dtype\":\"f8\",\"bdata\":\"zczMzMzMRUA=\"},\"sizemode\":\"area\",\"sizeref\":1.7255102040816326,\"symbol\":\"circle\"},\"mode\":\"markers\",\"name\":\"Venezuela\",\"showlegend\":true,\"type\":\"scattergeo\"},{\"geo\":\"geo\",\"hovertemplate\":\"\\u003cb\\u003e%{hovertext}\\u003c\\u002fb\\u003e\\u003cbr\\u003e\\u003cbr\\u003eCountry=Libya\\u003cbr\\u003eAveragScore=%{marker.size}\\u003cbr\\u003elatitude=%{lat}\\u003cbr\\u003elongitude=%{lon}\\u003cextra\\u003e\\u003c\\u002fextra\\u003e\",\"hovertext\":[\"Libya\"],\"lat\":{\"dtype\":\"f8\",\"bdata\":\"veMUHclVOkA=\"},\"legendgroup\":\"Libya\",\"lon\":{\"dtype\":\"f8\",\"bdata\":\"uamB5nM6MUA=\"},\"marker\":{\"color\":\"#00cc96\",\"size\":{\"dtype\":\"f8\",\"bdata\":\"exSuR+G6RUA=\"},\"sizemode\":\"area\",\"sizeref\":1.7255102040816326,\"symbol\":\"circle\"},\"mode\":\"markers\",\"name\":\"Libya\",\"showlegend\":true,\"type\":\"scattergeo\"},{\"geo\":\"geo\",\"hovertemplate\":\"\\u003cb\\u003e%{hovertext}\\u003c\\u002fb\\u003e\\u003cbr\\u003e\\u003cbr\\u003eCountry=Cameroon\\u003cbr\\u003eAveragScore=%{marker.size}\\u003cbr\\u003elatitude=%{lat}\\u003cbr\\u003elongitude=%{lon}\\u003cextra\\u003e\\u003c\\u002fextra\\u003e\",\"hovertext\":[\"Cameroon\"],\"lat\":{\"dtype\":\"f8\",\"bdata\":\"ZXJqZ5h6HUA=\"},\"legendgroup\":\"Cameroon\",\"lon\":{\"dtype\":\"f8\",\"bdata\":\"61c6H561KEA=\"},\"marker\":{\"color\":\"#ab63fa\",\"size\":{\"dtype\":\"f8\",\"bdata\":\"CtejcD2KRUA=\"},\"sizemode\":\"area\",\"sizeref\":1.7255102040816326,\"symbol\":\"circle\"},\"mode\":\"markers\",\"name\":\"Cameroon\",\"showlegend\":true,\"type\":\"scattergeo\"},{\"geo\":\"geo\",\"hovertemplate\":\"\\u003cb\\u003e%{hovertext}\\u003c\\u002fb\\u003e\\u003cbr\\u003e\\u003cbr\\u003eCountry=Guinea-Bissau\\u003cbr\\u003eAveragScore=%{marker.size}\\u003cbr\\u003elatitude=%{lat}\\u003cbr\\u003elongitude=%{lon}\\u003cextra\\u003e\\u003c\\u002fextra\\u003e\",\"hovertext\":[\"Guinea-Bissau\"],\"lat\":{\"dtype\":\"f8\",\"bdata\":\"qmIq\\u002fYSbJ0A=\"},\"legendgroup\":\"Guinea-Bissau\",\"lon\":{\"dtype\":\"f8\",\"bdata\":\"54u9F19cLsA=\"},\"marker\":{\"color\":\"#FFA15A\",\"size\":{\"dtype\":\"f8\",\"bdata\":\"pHA9CtdjRUA=\"},\"sizemode\":\"area\",\"sizeref\":1.7255102040816326,\"symbol\":\"circle\"},\"mode\":\"markers\",\"name\":\"Guinea-Bissau\",\"showlegend\":true,\"type\":\"scattergeo\"},{\"geo\":\"geo\",\"hovertemplate\":\"\\u003cb\\u003e%{hovertext}\\u003c\\u002fb\\u003e\\u003cbr\\u003e\\u003cbr\\u003eCountry=Mozambique\\u003cbr\\u003eAveragScore=%{marker.size}\\u003cbr\\u003elatitude=%{lat}\\u003cbr\\u003elongitude=%{lon}\\u003cextra\\u003e\\u003c\\u002fextra\\u003e\",\"hovertext\":[\"Mozambique\"],\"lat\":{\"dtype\":\"f8\",\"bdata\":\"WBzO\\u002fGqqMsA=\"},\"legendgroup\":\"Mozambique\",\"lon\":{\"dtype\":\"f8\",\"bdata\":\"KJoHsMjDQUA=\"},\"marker\":{\"color\":\"#19d3f3\",\"size\":{\"dtype\":\"f8\",\"bdata\":\"mpmZmZlZRUA=\"},\"sizemode\":\"area\",\"sizeref\":1.7255102040816326,\"symbol\":\"circle\"},\"mode\":\"markers\",\"name\":\"Mozambique\",\"showlegend\":true,\"type\":\"scattergeo\"},{\"geo\":\"geo\",\"hovertemplate\":\"\\u003cb\\u003e%{hovertext}\\u003c\\u002fb\\u003e\\u003cbr\\u003e\\u003cbr\\u003eCountry=Mali\\u003cbr\\u003eAveragScore=%{marker.size}\\u003cbr\\u003elatitude=%{lat}\\u003cbr\\u003elongitude=%{lon}\\u003cextra\\u003e\\u003c\\u002fextra\\u003e\",\"hovertext\":[\"Mali\"],\"lat\":{\"dtype\":\"f8\",\"bdata\":\"vhb03hiSMUA=\"},\"legendgroup\":\"Mali\",\"lon\":{\"dtype\":\"f8\",\"bdata\":\"2xg74SX4D8A=\"},\"marker\":{\"color\":\"#FF6692\",\"size\":{\"dtype\":\"f8\",\"bdata\":\"rkfhehQuRUA=\"},\"sizemode\":\"area\",\"sizeref\":1.7255102040816326,\"symbol\":\"circle\"},\"mode\":\"markers\",\"name\":\"Mali\",\"showlegend\":true,\"type\":\"scattergeo\"},{\"geo\":\"geo\",\"hovertemplate\":\"\\u003cb\\u003e%{hovertext}\\u003c\\u002fb\\u003e\\u003cbr\\u003e\\u003cbr\\u003eCountry=Niger\\u003cbr\\u003eAveragScore=%{marker.size}\\u003cbr\\u003elatitude=%{lat}\\u003cbr\\u003elongitude=%{lon}\\u003cextra\\u003e\\u003c\\u002fextra\\u003e\",\"hovertext\":[\"Niger\"],\"lat\":{\"dtype\":\"f8\",\"bdata\":\"Wd5VD5ibMUA=\"},\"legendgroup\":\"Niger\",\"lon\":{\"dtype\":\"f8\",\"bdata\":\"6WM+INApIEA=\"},\"marker\":{\"color\":\"#B6E880\",\"size\":{\"dtype\":\"f8\",\"bdata\":\"4XoUrkchRUA=\"},\"sizemode\":\"area\",\"sizeref\":1.7255102040816326,\"symbol\":\"circle\"},\"mode\":\"markers\",\"name\":\"Niger\",\"showlegend\":true,\"type\":\"scattergeo\"},{\"geo\":\"geo\",\"hovertemplate\":\"\\u003cb\\u003e%{hovertext}\\u003c\\u002fb\\u003e\\u003cbr\\u003e\\u003cbr\\u003eCountry=Ethiopia\\u003cbr\\u003eAveragScore=%{marker.size}\\u003cbr\\u003elatitude=%{lat}\\u003cbr\\u003elongitude=%{lon}\\u003cextra\\u003e\\u003c\\u002fextra\\u003e\",\"hovertext\":[\"Ethiopia\"],\"lat\":{\"dtype\":\"f8\",\"bdata\":\"CtejcD1KIkA=\"},\"legendgroup\":\"Ethiopia\",\"lon\":{\"dtype\":\"f8\",\"bdata\":\"+13Ymq0+REA=\"},\"marker\":{\"color\":\"#FF97FF\",\"size\":{\"dtype\":\"f8\",\"bdata\":\"j8L1KFzvREA=\"},\"sizemode\":\"area\",\"sizeref\":1.7255102040816326,\"symbol\":\"circle\"},\"mode\":\"markers\",\"name\":\"Ethiopia\",\"showlegend\":true,\"type\":\"scattergeo\"},{\"geo\":\"geo\",\"hovertemplate\":\"\\u003cb\\u003e%{hovertext}\\u003c\\u002fb\\u003e\\u003cbr\\u003e\\u003cbr\\u003eCountry=Mauritania\\u003cbr\\u003eAveragScore=%{marker.size}\\u003cbr\\u003elatitude=%{lat}\\u003cbr\\u003elongitude=%{lon}\\u003cextra\\u003e\\u003c\\u002fextra\\u003e\",\"hovertext\":[\"Mauritania\"],\"lat\":{\"dtype\":\"f8\",\"bdata\":\"J\\u002fc7FAUCNUA=\"},\"legendgroup\":\"Mauritania\",\"lon\":{\"dtype\":\"f8\",\"bdata\":\"RN0HILXhJcA=\"},\"marker\":{\"color\":\"#FECB52\",\"size\":{\"dtype\":\"f8\",\"bdata\":\"PQrXo3CdREA=\"},\"sizemode\":\"area\",\"sizeref\":1.7255102040816326,\"symbol\":\"circle\"},\"mode\":\"markers\",\"name\":\"Mauritania\",\"showlegend\":true,\"type\":\"scattergeo\"},{\"geo\":\"geo\",\"hovertemplate\":\"\\u003cb\\u003e%{hovertext}\\u003c\\u002fb\\u003e\\u003cbr\\u003e\\u003cbr\\u003eCountry=Angola\\u003cbr\\u003eAveragScore=%{marker.size}\\u003cbr\\u003elatitude=%{lat}\\u003cbr\\u003elongitude=%{lon}\\u003cextra\\u003e\\u003c\\u002fextra\\u003e\",\"hovertext\":[\"Angola\"],\"lat\":{\"dtype\":\"f8\",\"bdata\":\"WVLuPsdnJsA=\"},\"legendgroup\":\"Angola\",\"lon\":{\"dtype\":\"f8\",\"bdata\":\"SWb1DrffMUA=\"},\"marker\":{\"color\":\"#636efa\",\"size\":{\"dtype\":\"f8\",\"bdata\":\"ZmZmZmZGREA=\"},\"sizemode\":\"area\",\"sizeref\":1.7255102040816326,\"symbol\":\"circle\"},\"mode\":\"markers\",\"name\":\"Angola\",\"showlegend\":true,\"type\":\"scattergeo\"},{\"geo\":\"geo\",\"hovertemplate\":\"\\u003cb\\u003e%{hovertext}\\u003c\\u002fb\\u003e\\u003cbr\\u003e\\u003cbr\\u003eCountry=Haiti\\u003cbr\\u003eAveragScore=%{marker.size}\\u003cbr\\u003elatitude=%{lat}\\u003cbr\\u003elongitude=%{lon}\\u003cextra\\u003e\\u003c\\u002fextra\\u003e\",\"hovertext\":[\"Haiti\"],\"lat\":{\"dtype\":\"f8\",\"bdata\":\"5EwTtp\\u002f4MkA=\"},\"legendgroup\":\"Haiti\",\"lon\":{\"dtype\":\"f8\",\"bdata\":\"CFVq9kASUsA=\"},\"marker\":{\"color\":\"#EF553B\",\"size\":{\"dtype\":\"f8\",\"bdata\":\"KVyPwvXoQ0A=\"},\"sizemode\":\"area\",\"sizeref\":1.7255102040816326,\"symbol\":\"circle\"},\"mode\":\"markers\",\"name\":\"Haiti\",\"showlegend\":true,\"type\":\"scattergeo\"},{\"geo\":\"geo\",\"hovertemplate\":\"\\u003cb\\u003e%{hovertext}\\u003c\\u002fb\\u003e\\u003cbr\\u003e\\u003cbr\\u003eCountry=Burundi\\u003cbr\\u003eAveragScore=%{marker.size}\\u003cbr\\u003elatitude=%{lat}\\u003cbr\\u003elongitude=%{lon}\\u003cextra\\u003e\\u003c\\u002fextra\\u003e\",\"hovertext\":[\"Burundi\"],\"lat\":{\"dtype\":\"f8\",\"bdata\":\"1Jy8yAT8CsA=\"},\"legendgroup\":\"Burundi\",\"lon\":{\"dtype\":\"f8\",\"bdata\":\"lMDmHDzrPUA=\"},\"marker\":{\"color\":\"#00cc96\",\"size\":{\"dtype\":\"f8\",\"bdata\":\"mpmZmZkZQ0A=\"},\"sizemode\":\"area\",\"sizeref\":1.7255102040816326,\"symbol\":\"circle\"},\"mode\":\"markers\",\"name\":\"Burundi\",\"showlegend\":true,\"type\":\"scattergeo\"},{\"geo\":\"geo\",\"hovertemplate\":\"\\u003cb\\u003e%{hovertext}\\u003c\\u002fb\\u003e\\u003cbr\\u003e\\u003cbr\\u003eCountry=Sudan\\u003cbr\\u003eAveragScore=%{marker.size}\\u003cbr\\u003elatitude=%{lat}\\u003cbr\\u003elongitude=%{lon}\\u003cextra\\u003e\\u003c\\u002fextra\\u003e\",\"hovertext\":[\"Sudan\"],\"lat\":{\"dtype\":\"f8\",\"bdata\":\"DoXP1sG5KUA=\"},\"legendgroup\":\"Sudan\",\"lon\":{\"dtype\":\"f8\",\"bdata\":\"qG4u\\u002frY3PkA=\"},\"marker\":{\"color\":\"#ab63fa\",\"size\":{\"dtype\":\"f8\",\"bdata\":\"XI\\u002fC9Sh8QkA=\"},\"sizemode\":\"area\",\"sizeref\":1.7255102040816326,\"symbol\":\"circle\"},\"mode\":\"markers\",\"name\":\"Sudan\",\"showlegend\":true,\"type\":\"scattergeo\"},{\"geo\":\"geo\",\"hovertemplate\":\"\\u003cb\\u003e%{hovertext}\\u003c\\u002fb\\u003e\\u003cbr\\u003e\\u003cbr\\u003eCountry=Syria\\u003cbr\\u003eAveragScore=%{marker.size}\\u003cbr\\u003elatitude=%{lat}\\u003cbr\\u003elongitude=%{lon}\\u003cextra\\u003e\\u003c\\u002fextra\\u003e\",\"hovertext\":[\"Syria\"],\"lat\":{\"dtype\":\"f8\",\"bdata\":\"OPjCZKpmQUA=\"},\"legendgroup\":\"Syria\",\"lon\":{\"dtype\":\"f8\",\"bdata\":\"xJRIopd\\u002fQ0A=\"},\"marker\":{\"color\":\"#FFA15A\",\"size\":{\"dtype\":\"f8\",\"bdata\":\"CtejcD1qQkA=\"},\"sizemode\":\"area\",\"sizeref\":1.7255102040816326,\"symbol\":\"circle\"},\"mode\":\"markers\",\"name\":\"Syria\",\"showlegend\":true,\"type\":\"scattergeo\"},{\"geo\":\"geo\",\"hovertemplate\":\"\\u003cb\\u003e%{hovertext}\\u003c\\u002fb\\u003e\\u003cbr\\u003e\\u003cbr\\u003eCountry=Eritrea\\u003cbr\\u003eAveragScore=%{marker.size}\\u003cbr\\u003elatitude=%{lat}\\u003cbr\\u003elongitude=%{lon}\\u003cextra\\u003e\\u003c\\u002fextra\\u003e\",\"hovertext\":[\"Eritrea\"],\"lat\":{\"dtype\":\"f8\",\"bdata\":\"8dk6ONhbLkA=\"},\"legendgroup\":\"Eritrea\",\"lon\":{\"dtype\":\"f8\",\"bdata\":\"QUZAhSPkQ0A=\"},\"marker\":{\"color\":\"#19d3f3\",\"size\":{\"dtype\":\"f8\",\"bdata\":\"w\\u002fUoXI8CQkA=\"},\"sizemode\":\"area\",\"sizeref\":1.7255102040816326,\"symbol\":\"circle\"},\"mode\":\"markers\",\"name\":\"Eritrea\",\"showlegend\":true,\"type\":\"scattergeo\"},{\"geo\":\"geo\",\"hovertemplate\":\"\\u003cb\\u003e%{hovertext}\\u003c\\u002fb\\u003e\\u003cbr\\u003e\\u003cbr\\u003eCountry=Chad\\u003cbr\\u003eAveragScore=%{marker.size}\\u003cbr\\u003elatitude=%{lat}\\u003cbr\\u003elongitude=%{lon}\\u003cextra\\u003e\\u003c\\u002fextra\\u003e\",\"hovertext\":[\"Chad\"],\"lat\":{\"dtype\":\"f8\",\"bdata\":\"COkpcojoLkA=\"},\"legendgroup\":\"Chad\",\"lon\":{\"dtype\":\"f8\",\"bdata\":\"++b+6nG7MkA=\"},\"marker\":{\"color\":\"#FF6692\",\"size\":{\"dtype\":\"f8\",\"bdata\":\"uB6F61FYQUA=\"},\"sizemode\":\"area\",\"sizeref\":1.7255102040816326,\"symbol\":\"circle\"},\"mode\":\"markers\",\"name\":\"Chad\",\"showlegend\":true,\"type\":\"scattergeo\"},{\"geo\":\"geo\",\"hovertemplate\":\"\\u003cb\\u003e%{hovertext}\\u003c\\u002fb\\u003e\\u003cbr\\u003e\\u003cbr\\u003eCountry=Somalia\\u003cbr\\u003eAveragScore=%{marker.size}\\u003cbr\\u003elatitude=%{lat}\\u003cbr\\u003elongitude=%{lon}\\u003cextra\\u003e\\u003c\\u002fextra\\u003e\",\"hovertext\":[\"Somalia\"],\"lat\":{\"dtype\":\"f8\",\"bdata\":\"9nmM8sybFEA=\"},\"legendgroup\":\"Somalia\",\"lon\":{\"dtype\":\"f8\",\"bdata\":\"EeFfBI0ZR0A=\"},\"marker\":{\"color\":\"#B6E880\",\"size\":{\"dtype\":\"f8\",\"bdata\":\"UrgehesxQUA=\"},\"sizemode\":\"area\",\"sizeref\":1.7255102040816326,\"symbol\":\"circle\"},\"mode\":\"markers\",\"name\":\"Somalia\",\"showlegend\":true,\"type\":\"scattergeo\"},{\"geo\":\"geo\",\"hovertemplate\":\"\\u003cb\\u003e%{hovertext}\\u003c\\u002fb\\u003e\\u003cbr\\u003e\\u003cbr\\u003eCountry=Afghanistan\\u003cbr\\u003eAveragScore=%{marker.size}\\u003cbr\\u003elatitude=%{lat}\\u003cbr\\u003elongitude=%{lon}\\u003cextra\\u003e\\u003c\\u002fextra\\u003e\",\"hovertext\":[\"Afghanistan\"],\"lat\":{\"dtype\":\"f8\",\"bdata\":\"XKyowTT4QEA=\"},\"legendgroup\":\"Afghanistan\",\"lon\":{\"dtype\":\"f8\",\"bdata\":\"nSy13m\\u002ftUEA=\"},\"marker\":{\"color\":\"#FF97FF\",\"size\":{\"dtype\":\"f8\",\"bdata\":\"16NwPQoXQUA=\"},\"sizemode\":\"area\",\"sizeref\":1.7255102040816326,\"symbol\":\"circle\"},\"mode\":\"markers\",\"name\":\"Afghanistan\",\"showlegend\":true,\"type\":\"scattergeo\"},{\"geo\":\"geo\",\"hovertemplate\":\"\\u003cb\\u003e%{hovertext}\\u003c\\u002fb\\u003e\\u003cbr\\u003e\\u003cbr\\u003eCountry=Central African Republic\\u003cbr\\u003eAveragScore=%{marker.size}\\u003cbr\\u003elatitude=%{lat}\\u003cbr\\u003elongitude=%{lon}\\u003cextra\\u003e\\u003c\\u002fextra\\u003e\",\"hovertext\":[\"Central African Republic\"],\"lat\":{\"dtype\":\"f8\",\"bdata\":\"R+f8FMdxGkA=\"},\"legendgroup\":\"Central African Republic\",\"lon\":{\"dtype\":\"f8\",\"bdata\":\"ZmzoZn\\u002fwNEA=\"},\"marker\":{\"color\":\"#FECB52\",\"size\":{\"dtype\":\"f8\",\"bdata\":\"CtejcD1qQEA=\"},\"sizemode\":\"area\",\"sizeref\":1.7255102040816326,\"symbol\":\"circle\"},\"mode\":\"markers\",\"name\":\"Central African Republic\",\"showlegend\":true,\"type\":\"scattergeo\"},{\"geo\":\"geo\",\"hovertemplate\":\"\\u003cb\\u003e%{hovertext}\\u003c\\u002fb\\u003e\\u003cbr\\u003e\\u003cbr\\u003eCountry=Yemen\\u003cbr\\u003eAveragScore=%{marker.size}\\u003cbr\\u003elatitude=%{lat}\\u003cbr\\u003elongitude=%{lon}\\u003cextra\\u003e\\u003c\\u002fextra\\u003e\",\"hovertext\":[\"Yemen\"],\"lat\":{\"dtype\":\"f8\",\"bdata\":\"fjuJCP8aL0A=\"},\"legendgroup\":\"Yemen\",\"lon\":{\"dtype\":\"f8\",\"bdata\":\"\\u002fwWCABlCSEA=\"},\"marker\":{\"color\":\"#636efa\",\"size\":{\"dtype\":\"f8\",\"bdata\":\"MzMzMzNTQEA=\"},\"sizemode\":\"area\",\"sizeref\":1.7255102040816326,\"symbol\":\"circle\"},\"mode\":\"markers\",\"name\":\"Yemen\",\"showlegend\":true,\"type\":\"scattergeo\"}],                        {\"template\":{\"data\":{\"histogram2dcontour\":[{\"type\":\"histogram2dcontour\",\"colorbar\":{\"outlinewidth\":0,\"ticks\":\"\"},\"colorscale\":[[0.0,\"#0d0887\"],[0.1111111111111111,\"#46039f\"],[0.2222222222222222,\"#7201a8\"],[0.3333333333333333,\"#9c179e\"],[0.4444444444444444,\"#bd3786\"],[0.5555555555555556,\"#d8576b\"],[0.6666666666666666,\"#ed7953\"],[0.7777777777777778,\"#fb9f3a\"],[0.8888888888888888,\"#fdca26\"],[1.0,\"#f0f921\"]]}],\"choropleth\":[{\"type\":\"choropleth\",\"colorbar\":{\"outlinewidth\":0,\"ticks\":\"\"}}],\"histogram2d\":[{\"type\":\"histogram2d\",\"colorbar\":{\"outlinewidth\":0,\"ticks\":\"\"},\"colorscale\":[[0.0,\"#0d0887\"],[0.1111111111111111,\"#46039f\"],[0.2222222222222222,\"#7201a8\"],[0.3333333333333333,\"#9c179e\"],[0.4444444444444444,\"#bd3786\"],[0.5555555555555556,\"#d8576b\"],[0.6666666666666666,\"#ed7953\"],[0.7777777777777778,\"#fb9f3a\"],[0.8888888888888888,\"#fdca26\"],[1.0,\"#f0f921\"]]}],\"heatmap\":[{\"type\":\"heatmap\",\"colorbar\":{\"outlinewidth\":0,\"ticks\":\"\"},\"colorscale\":[[0.0,\"#0d0887\"],[0.1111111111111111,\"#46039f\"],[0.2222222222222222,\"#7201a8\"],[0.3333333333333333,\"#9c179e\"],[0.4444444444444444,\"#bd3786\"],[0.5555555555555556,\"#d8576b\"],[0.6666666666666666,\"#ed7953\"],[0.7777777777777778,\"#fb9f3a\"],[0.8888888888888888,\"#fdca26\"],[1.0,\"#f0f921\"]]}],\"contourcarpet\":[{\"type\":\"contourcarpet\",\"colorbar\":{\"outlinewidth\":0,\"ticks\":\"\"}}],\"contour\":[{\"type\":\"contour\",\"colorbar\":{\"outlinewidth\":0,\"ticks\":\"\"},\"colorscale\":[[0.0,\"#0d0887\"],[0.1111111111111111,\"#46039f\"],[0.2222222222222222,\"#7201a8\"],[0.3333333333333333,\"#9c179e\"],[0.4444444444444444,\"#bd3786\"],[0.5555555555555556,\"#d8576b\"],[0.6666666666666666,\"#ed7953\"],[0.7777777777777778,\"#fb9f3a\"],[0.8888888888888888,\"#fdca26\"],[1.0,\"#f0f921\"]]}],\"surface\":[{\"type\":\"surface\",\"colorbar\":{\"outlinewidth\":0,\"ticks\":\"\"},\"colorscale\":[[0.0,\"#0d0887\"],[0.1111111111111111,\"#46039f\"],[0.2222222222222222,\"#7201a8\"],[0.3333333333333333,\"#9c179e\"],[0.4444444444444444,\"#bd3786\"],[0.5555555555555556,\"#d8576b\"],[0.6666666666666666,\"#ed7953\"],[0.7777777777777778,\"#fb9f3a\"],[0.8888888888888888,\"#fdca26\"],[1.0,\"#f0f921\"]]}],\"mesh3d\":[{\"type\":\"mesh3d\",\"colorbar\":{\"outlinewidth\":0,\"ticks\":\"\"}}],\"scatter\":[{\"fillpattern\":{\"fillmode\":\"overlay\",\"size\":10,\"solidity\":0.2},\"type\":\"scatter\"}],\"parcoords\":[{\"type\":\"parcoords\",\"line\":{\"colorbar\":{\"outlinewidth\":0,\"ticks\":\"\"}}}],\"scatterpolargl\":[{\"type\":\"scatterpolargl\",\"marker\":{\"colorbar\":{\"outlinewidth\":0,\"ticks\":\"\"}}}],\"bar\":[{\"error_x\":{\"color\":\"#2a3f5f\"},\"error_y\":{\"color\":\"#2a3f5f\"},\"marker\":{\"line\":{\"color\":\"#E5ECF6\",\"width\":0.5},\"pattern\":{\"fillmode\":\"overlay\",\"size\":10,\"solidity\":0.2}},\"type\":\"bar\"}],\"scattergeo\":[{\"type\":\"scattergeo\",\"marker\":{\"colorbar\":{\"outlinewidth\":0,\"ticks\":\"\"}}}],\"scatterpolar\":[{\"type\":\"scatterpolar\",\"marker\":{\"colorbar\":{\"outlinewidth\":0,\"ticks\":\"\"}}}],\"histogram\":[{\"marker\":{\"pattern\":{\"fillmode\":\"overlay\",\"size\":10,\"solidity\":0.2}},\"type\":\"histogram\"}],\"scattergl\":[{\"type\":\"scattergl\",\"marker\":{\"colorbar\":{\"outlinewidth\":0,\"ticks\":\"\"}}}],\"scatter3d\":[{\"type\":\"scatter3d\",\"line\":{\"colorbar\":{\"outlinewidth\":0,\"ticks\":\"\"}},\"marker\":{\"colorbar\":{\"outlinewidth\":0,\"ticks\":\"\"}}}],\"scattermap\":[{\"type\":\"scattermap\",\"marker\":{\"colorbar\":{\"outlinewidth\":0,\"ticks\":\"\"}}}],\"scattermapbox\":[{\"type\":\"scattermapbox\",\"marker\":{\"colorbar\":{\"outlinewidth\":0,\"ticks\":\"\"}}}],\"scatterternary\":[{\"type\":\"scatterternary\",\"marker\":{\"colorbar\":{\"outlinewidth\":0,\"ticks\":\"\"}}}],\"scattercarpet\":[{\"type\":\"scattercarpet\",\"marker\":{\"colorbar\":{\"outlinewidth\":0,\"ticks\":\"\"}}}],\"carpet\":[{\"aaxis\":{\"endlinecolor\":\"#2a3f5f\",\"gridcolor\":\"white\",\"linecolor\":\"white\",\"minorgridcolor\":\"white\",\"startlinecolor\":\"#2a3f5f\"},\"baxis\":{\"endlinecolor\":\"#2a3f5f\",\"gridcolor\":\"white\",\"linecolor\":\"white\",\"minorgridcolor\":\"white\",\"startlinecolor\":\"#2a3f5f\"},\"type\":\"carpet\"}],\"table\":[{\"cells\":{\"fill\":{\"color\":\"#EBF0F8\"},\"line\":{\"color\":\"white\"}},\"header\":{\"fill\":{\"color\":\"#C8D4E3\"},\"line\":{\"color\":\"white\"}},\"type\":\"table\"}],\"barpolar\":[{\"marker\":{\"line\":{\"color\":\"#E5ECF6\",\"width\":0.5},\"pattern\":{\"fillmode\":\"overlay\",\"size\":10,\"solidity\":0.2}},\"type\":\"barpolar\"}],\"pie\":[{\"automargin\":true,\"type\":\"pie\"}]},\"layout\":{\"autotypenumbers\":\"strict\",\"colorway\":[\"#636efa\",\"#EF553B\",\"#00cc96\",\"#ab63fa\",\"#FFA15A\",\"#19d3f3\",\"#FF6692\",\"#B6E880\",\"#FF97FF\",\"#FECB52\"],\"font\":{\"color\":\"#2a3f5f\"},\"hovermode\":\"closest\",\"hoverlabel\":{\"align\":\"left\"},\"paper_bgcolor\":\"white\",\"plot_bgcolor\":\"#E5ECF6\",\"polar\":{\"bgcolor\":\"#E5ECF6\",\"angularaxis\":{\"gridcolor\":\"white\",\"linecolor\":\"white\",\"ticks\":\"\"},\"radialaxis\":{\"gridcolor\":\"white\",\"linecolor\":\"white\",\"ticks\":\"\"}},\"ternary\":{\"bgcolor\":\"#E5ECF6\",\"aaxis\":{\"gridcolor\":\"white\",\"linecolor\":\"white\",\"ticks\":\"\"},\"baxis\":{\"gridcolor\":\"white\",\"linecolor\":\"white\",\"ticks\":\"\"},\"caxis\":{\"gridcolor\":\"white\",\"linecolor\":\"white\",\"ticks\":\"\"}},\"coloraxis\":{\"colorbar\":{\"outlinewidth\":0,\"ticks\":\"\"}},\"colorscale\":{\"sequential\":[[0.0,\"#0d0887\"],[0.1111111111111111,\"#46039f\"],[0.2222222222222222,\"#7201a8\"],[0.3333333333333333,\"#9c179e\"],[0.4444444444444444,\"#bd3786\"],[0.5555555555555556,\"#d8576b\"],[0.6666666666666666,\"#ed7953\"],[0.7777777777777778,\"#fb9f3a\"],[0.8888888888888888,\"#fdca26\"],[1.0,\"#f0f921\"]],\"sequentialminus\":[[0.0,\"#0d0887\"],[0.1111111111111111,\"#46039f\"],[0.2222222222222222,\"#7201a8\"],[0.3333333333333333,\"#9c179e\"],[0.4444444444444444,\"#bd3786\"],[0.5555555555555556,\"#d8576b\"],[0.6666666666666666,\"#ed7953\"],[0.7777777777777778,\"#fb9f3a\"],[0.8888888888888888,\"#fdca26\"],[1.0,\"#f0f921\"]],\"diverging\":[[0,\"#8e0152\"],[0.1,\"#c51b7d\"],[0.2,\"#de77ae\"],[0.3,\"#f1b6da\"],[0.4,\"#fde0ef\"],[0.5,\"#f7f7f7\"],[0.6,\"#e6f5d0\"],[0.7,\"#b8e186\"],[0.8,\"#7fbc41\"],[0.9,\"#4d9221\"],[1,\"#276419\"]]},\"xaxis\":{\"gridcolor\":\"white\",\"linecolor\":\"white\",\"ticks\":\"\",\"title\":{\"standoff\":15},\"zerolinecolor\":\"white\",\"automargin\":true,\"zerolinewidth\":2},\"yaxis\":{\"gridcolor\":\"white\",\"linecolor\":\"white\",\"ticks\":\"\",\"title\":{\"standoff\":15},\"zerolinecolor\":\"white\",\"automargin\":true,\"zerolinewidth\":2},\"scene\":{\"xaxis\":{\"backgroundcolor\":\"#E5ECF6\",\"gridcolor\":\"white\",\"linecolor\":\"white\",\"showbackground\":true,\"ticks\":\"\",\"zerolinecolor\":\"white\",\"gridwidth\":2},\"yaxis\":{\"backgroundcolor\":\"#E5ECF6\",\"gridcolor\":\"white\",\"linecolor\":\"white\",\"showbackground\":true,\"ticks\":\"\",\"zerolinecolor\":\"white\",\"gridwidth\":2},\"zaxis\":{\"backgroundcolor\":\"#E5ECF6\",\"gridcolor\":\"white\",\"linecolor\":\"white\",\"showbackground\":true,\"ticks\":\"\",\"zerolinecolor\":\"white\",\"gridwidth\":2}},\"shapedefaults\":{\"line\":{\"color\":\"#2a3f5f\"}},\"annotationdefaults\":{\"arrowcolor\":\"#2a3f5f\",\"arrowhead\":0,\"arrowwidth\":1},\"geo\":{\"bgcolor\":\"white\",\"landcolor\":\"#E5ECF6\",\"subunitcolor\":\"white\",\"showland\":true,\"showlakes\":true,\"lakecolor\":\"white\"},\"title\":{\"x\":0.05},\"mapbox\":{\"style\":\"light\"}}},\"geo\":{\"domain\":{\"x\":[0.0,1.0],\"y\":[0.0,1.0]},\"center\":{}},\"legend\":{\"title\":{\"text\":\"Country\"},\"tracegroupgap\":0,\"itemsizing\":\"constant\"},\"margin\":{\"t\":60}},                        {\"responsive\": true}                    ).then(function(){\n",
       "                            \n",
       "var gd = document.getElementById('f79c7942-fb5a-4555-84ae-72623a5cd425');\n",
       "var x = new MutationObserver(function (mutations, observer) {{\n",
       "        var display = window.getComputedStyle(gd).display;\n",
       "        if (!display || display === 'none') {{\n",
       "            console.log([gd, 'removed!']);\n",
       "            Plotly.purge(gd);\n",
       "            observer.disconnect();\n",
       "        }}\n",
       "}});\n",
       "\n",
       "// Listen for the removal of the full notebook cells\n",
       "var notebookContainer = gd.closest('#notebook-container');\n",
       "if (notebookContainer) {{\n",
       "    x.observe(notebookContainer, {childList: true});\n",
       "}}\n",
       "\n",
       "// Listen for the clearing of the current output cell\n",
       "var outputEl = gd.closest('.output');\n",
       "if (outputEl) {{\n",
       "    x.observe(outputEl, {childList: true});\n",
       "}}\n",
       "\n",
       "                        })                };            </script>        </div>"
      ]
     },
     "metadata": {},
     "output_type": "display_data"
    }
   ],
   "source": [
    "plot = px.scatter_geo(result, lat='latitude', lon='longitude', color = \"Country\", size=\"AveragScore\", hover_name = 'Country',size_max = 7) \n",
    "plot.show() "
   ]
  },
  {
   "cell_type": "markdown",
   "id": "e96fbdc1-add3-4824-82d1-0be5e1ab38d8",
   "metadata": {},
   "source": [
    "<h2>Вот такая получилась карта<h2>"
   ]
  }
 ],
 "metadata": {
  "kernelspec": {
   "display_name": "Python 3",
   "language": "python",
   "name": "python3"
  },
  "language_info": {
   "codemirror_mode": {
    "name": "ipython",
    "version": 3
   },
   "file_extension": ".py",
   "mimetype": "text/x-python",
   "name": "python",
   "nbconvert_exporter": "python",
   "pygments_lexer": "ipython3",
   "version": "3.12.4"
  }
 },
 "nbformat": 4,
 "nbformat_minor": 5
}
